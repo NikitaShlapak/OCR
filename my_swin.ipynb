{
 "cells": [
  {
   "cell_type": "markdown",
   "metadata": {
    "id": "bJ8tbA0n3zF3"
   },
   "source": [
    "# Image classification with Swin Transformers\n",
    "\n",
    "**Author:** [Rishit Dagli](https://twitter.com/rishit_dagli)<br>\n",
    "**Date created:** 2021/09/08<br>\n",
    "**Last modified:** 2021/09/08<br>\n",
    "**Description:** Image classification using Swin Transformers, a general-purpose backbone for computer vision."
   ]
  },
  {
   "cell_type": "markdown",
   "metadata": {
    "id": "MJuBHyFE3zF9"
   },
   "source": [
    "This example implements\n",
    "[Swin Transformer: Hierarchical Vision Transformer using Shifted Windows](https://arxiv.org/abs/2103.14030)\n",
    "by Liu et al. for image classification, and demonstrates it on the\n",
    "[CIFAR-100 dataset](https://www.cs.toronto.edu/~kriz/cifar.html).\n",
    "\n",
    "Swin Transformer (**S**hifted **Win**dow Transformer) can serve as a\n",
    "general-purpose backbone for computer vision. Swin Transformer is a hierarchical\n",
    "Transformer whose representations are computed with _shifted windows_. The\n",
    "shifted window scheme brings greater efficiency by limiting self-attention\n",
    "computation to non-overlapping local windows while also allowing for\n",
    "cross-window connections. This architecture has the flexibility to model\n",
    "information at various scales and has a linear computational complexity with\n",
    "respect to image size.\n",
    "\n",
    "This example requires TensorFlow 2.5 or higher."
   ]
  },
  {
   "cell_type": "markdown",
   "metadata": {
    "id": "wshyZWwj3zF-"
   },
   "source": [
    "## Setup"
   ]
  },
  {
   "cell_type": "code",
   "execution_count": 1,
   "metadata": {
    "id": "wFm7Lx5-3zF_",
    "ExecuteTime": {
     "end_time": "2024-02-01T11:48:48.939335253Z",
     "start_time": "2024-02-01T11:48:43.602986026Z"
    }
   },
   "outputs": [
    {
     "name": "stderr",
     "output_type": "stream",
     "text": [
      "2024-02-01 14:48:44.629656: E external/local_xla/xla/stream_executor/cuda/cuda_dnn.cc:9261] Unable to register cuDNN factory: Attempting to register factory for plugin cuDNN when one has already been registered\n",
      "2024-02-01 14:48:44.629725: E external/local_xla/xla/stream_executor/cuda/cuda_fft.cc:607] Unable to register cuFFT factory: Attempting to register factory for plugin cuFFT when one has already been registered\n",
      "2024-02-01 14:48:44.665899: E external/local_xla/xla/stream_executor/cuda/cuda_blas.cc:1515] Unable to register cuBLAS factory: Attempting to register factory for plugin cuBLAS when one has already been registered\n",
      "2024-02-01 14:48:44.741874: I tensorflow/core/platform/cpu_feature_guard.cc:182] This TensorFlow binary is optimized to use available CPU instructions in performance-critical operations.\n",
      "To enable the following instructions: AVX2 FMA, in other operations, rebuild TensorFlow with the appropriate compiler flags.\n",
      "2024-02-01 14:48:45.613912: W tensorflow/compiler/tf2tensorrt/utils/py_utils.cc:38] TF-TRT Warning: Could not find TensorRT\n"
     ]
    },
    {
     "name": "stdout",
     "output_type": "stream",
     "text": [
      "[PhysicalDevice(name='/physical_device:GPU:0', device_type='GPU')]\n"
     ]
    },
    {
     "name": "stderr",
     "output_type": "stream",
     "text": [
      "2024-02-01 14:48:48.739972: I external/local_xla/xla/stream_executor/cuda/cuda_executor.cc:901] successful NUMA node read from SysFS had negative value (-1), but there must be at least one NUMA node, so returning NUMA node zero. See more at https://github.com/torvalds/linux/blob/v6.0/Documentation/ABI/testing/sysfs-bus-pci#L344-L355\n",
      "2024-02-01 14:48:48.863996: I external/local_xla/xla/stream_executor/cuda/cuda_executor.cc:901] successful NUMA node read from SysFS had negative value (-1), but there must be at least one NUMA node, so returning NUMA node zero. See more at https://github.com/torvalds/linux/blob/v6.0/Documentation/ABI/testing/sysfs-bus-pci#L344-L355\n",
      "2024-02-01 14:48:48.865485: I external/local_xla/xla/stream_executor/cuda/cuda_executor.cc:901] successful NUMA node read from SysFS had negative value (-1), but there must be at least one NUMA node, so returning NUMA node zero. See more at https://github.com/torvalds/linux/blob/v6.0/Documentation/ABI/testing/sysfs-bus-pci#L344-L355\n"
     ]
    }
   ],
   "source": [
    "import matplotlib.pyplot as plt\n",
    "import numpy as np\n",
    "import tensorflow as tf  # For tf.data and preprocessing only.\n",
    "print(tf.config.list_physical_devices('GPU'))\n",
    "import keras\n",
    "from keras import layers\n",
    "from keras import ops\n",
    "import cv2\n",
    "import imutils\n",
    "import random"
   ]
  },
  {
   "cell_type": "markdown",
   "metadata": {
    "id": "4c9muDqK3zGB"
   },
   "source": [
    "## Configure the hyperparameters\n",
    "\n",
    "A key parameter to pick is the `patch_size`, the size of the input patches.\n",
    "In order to use each pixel as an individual input, you can set `patch_size` to\n",
    "`(1, 1)`. Below, we take inspiration from the original paper settings for\n",
    "training on ImageNet-1K, keeping most of the original settings for this example."
   ]
  },
  {
   "cell_type": "code",
   "execution_count": 2,
   "metadata": {
    "id": "xLyWIhWH3zGB",
    "ExecuteTime": {
     "end_time": "2024-02-01T11:48:48.940782742Z",
     "start_time": "2024-02-01T11:48:48.930938550Z"
    }
   },
   "outputs": [],
   "source": [
    "num_classes = 33\n",
    "input_shape = (32,32,1)\n",
    "\n",
    "patch_size = (2, 2)  # 2-by-2 sized patches\n",
    "dropout_rate = 0.03  # Dropout rate\n",
    "num_heads = 8  # Attention heads\n",
    "embed_dim = 64  # Embedding dimension\n",
    "num_mlp = 256  # MLP layer size\n",
    "# Convert embedded patches to query, key, and values with a learnable additive\n",
    "# value\n",
    "qkv_bias = True\n",
    "window_size = 2  # Size of attention window\n",
    "shift_size = 1  # Size of shifting window\n",
    "image_dimension = 32  # Initial image size\n",
    "\n",
    "num_patch_x = input_shape[0] // patch_size[0]\n",
    "num_patch_y = input_shape[1] // patch_size[1]\n",
    "\n",
    "learning_rate = 1e-3\n",
    "batch_size = 16\n",
    "num_epochs = 200\n",
    "validation_split = 0.1\n",
    "weight_decay = 0.0001\n",
    "label_smoothing = 0.1"
   ]
  },
  {
   "cell_type": "markdown",
   "metadata": {
    "id": "VOpMzKbQ3zGC"
   },
   "source": [
    "## Prepare the data\n",
    "\n",
    "We load the CIFAR-100 dataset through `keras.datasets`,\n",
    "normalize the images, and convert the integer labels to one-hot encoded vectors."
   ]
  },
  {
   "cell_type": "code",
   "outputs": [
    {
     "name": "stdout",
     "output_type": "stream",
     "text": [
      "(32, 32)\n"
     ]
    },
    {
     "data": {
      "text/plain": "<matplotlib.image.AxesImage at 0x7f370dc2c510>"
     },
     "execution_count": 3,
     "metadata": {},
     "output_type": "execute_result"
    },
    {
     "data": {
      "text/plain": "<Figure size 640x480 with 1 Axes>",
      "image/png": "[encoded data removed]"
     },
     "metadata": {},
     "output_type": "display_data"
    }
   ],
   "source": [
    "let = cv2.imread('data/letterlist.jpg', 0)\n",
    "let = let[15:780,:]\n",
    "num_letters = 33\n",
    "num_fonts = 21\n",
    "\n",
    "def get_letter(font_num, letter_num):\n",
    "    letter = let[let.shape[0]//num_fonts*(font_num-1):let.shape[0]//num_fonts*font_num,\n",
    "           let.shape[1]//num_letters*(letter_num-1):let.shape[1]//num_letters*letter_num,\n",
    "           ]\n",
    "    return cv2.resize(letter, input_shape[:-1])\n",
    "\n",
    "def get_letter_variants(letter_num):\n",
    "        return let[:,\n",
    "           let.shape[1]//num_letters*(letter_num-1):let.shape[1]//num_letters*letter_num,\n",
    "           ]\n",
    "\n",
    "def get_font_variants(font_num):\n",
    "    return let[let.shape[0]//num_fonts*(font_num-1):let.shape[0]//num_fonts*font_num,\n",
    "           :,\n",
    "           ]\n",
    "test = get_letter(21,33)\n",
    "print(test.shape)\n",
    "plt.imshow(test, cmap='gray')"
   ],
   "metadata": {
    "collapsed": false,
    "ExecuteTime": {
     "end_time": "2024-02-01T11:48:49.115598652Z",
     "start_time": "2024-02-01T11:48:48.934928805Z"
    }
   },
   "execution_count": 3
  },
  {
   "cell_type": "code",
   "outputs": [],
   "source": [
    "class BaseAugmenter():\n",
    "    def __init__(self, chanse=0.5):\n",
    "        self.chance = chanse\n",
    "        \n",
    "    def __call__(self, img, *args, **kwargs):\n",
    "        augmented = False\n",
    "        if random.random()<= self.chance:\n",
    "            try:\n",
    "                img = self._apply(img, *args, **kwargs)\n",
    "                augmented = True\n",
    "            except Exception as e:\n",
    "                print(e)\n",
    "            \n",
    "        return img, augmented\n",
    "    \n",
    "    def _apply(self, img, *args, **kwargs):\n",
    "        return img\n",
    "    \n",
    "class NoiseAugmenter(BaseAugmenter):\n",
    "    def _apply(self, letter, max=30):\n",
    "        noise = np.random.normal(size=(letter.shape))*max\n",
    "        return letter+noise\n",
    "    \n",
    "class FlipAugmenter(BaseAugmenter):\n",
    "\n",
    "    def _apply(self, letter, mode='horizontal'):\n",
    "        if mode == 'horizontal':\n",
    "            return np.flip(letter, axis=0)\n",
    "        elif mode == 'vertical':\n",
    "            return np.flip(letter, axis=1)\n",
    "        elif mode == 'random':\n",
    "            axis = random.random() < 0.5\n",
    "            return np.flip(letter, axis=int(axis))\n",
    "        \n",
    "class RotationAugmenter(BaseAugmenter):\n",
    "    \n",
    "    def _apply(self, letter, angle=60):\n",
    "        image = np.zeros_like(letter) + 255 - letter\n",
    "        rotated = imutils.rotate_bound(image, angle)\n",
    "        rotated = np.zeros_like(rotated) + 255 - rotated\n",
    "        rotated = cv2.resize(rotated, (letter.shape[1], letter.shape[0]))\n",
    "        return rotated\n",
    "    \n",
    "class BlurAugmenter(BaseAugmenter):\n",
    "    \n",
    "    def _apply(self, letter, kernel_size=3):\n",
    "        return cv2.medianBlur(letter, kernel_size)\n",
    "\n",
    "class MultipleAugmenter():\n",
    "    NOISE_CHANCE = 0.1\n",
    "    NOISE_HARDNESS = 20\n",
    "    \n",
    "    FLIP_CHANCE = 0.3\n",
    "    \n",
    "    ROTATE_CHANCE = 0.15\n",
    "    \n",
    "    BLUR_CHANCE = 0.1\n",
    "    BLUR_HARD_CHANCE = 0.05\n",
    "    \n",
    "    images = []\n",
    "    captions = []\n",
    "    \n",
    "    def __init__(self, images, captions):\n",
    "        self.images_orig = images\n",
    "        self.captions_orig = captions\n",
    "        self.augmenters = [\n",
    "            FlipAugmenter(self.FLIP_CHANCE),\n",
    "            RotationAugmenter(self.ROTATE_CHANCE),\n",
    "            BlurAugmenter(self.BLUR_CHANCE),\n",
    "            BlurAugmenter(self.BLUR_HARD_CHANCE),\n",
    "            \n",
    "        ]\n",
    "        self.noise = (NoiseAugmenter(self.NOISE_CHANCE), self.NOISE_HARDNESS)\n",
    "        \n",
    "        self.augment_args = [\n",
    "            ['random'],\n",
    "            [],\n",
    "            [3],\n",
    "            [5],\n",
    "\n",
    "        ]    \n",
    "    \n",
    "    def random_augment(self, rounds = 1, seed = 42, save_last=False):\n",
    "        random.seed(seed)\n",
    "        \n",
    "        images = self.images_orig\n",
    "        captions = self.captions_orig\n",
    "        \n",
    "        for _ in range(rounds):\n",
    "            print(len(images))\n",
    "            num_images = len(images)\n",
    "            for n in range(num_images):\n",
    "                image = images[n]\n",
    "                caption = captions[n]\n",
    "                \n",
    "                for n, aug in enumerate(self.augmenters):\n",
    "                    aug_args = self.augment_args[n]\n",
    "                    if not aug_args:\n",
    "                        aug_args = [random.randint(-15,15)]\n",
    "                    image, augmented = aug(image, *aug_args)\n",
    "                    if augmented:\n",
    "                        images.append(image)\n",
    "                        captions.append(caption)\n",
    "                    \n",
    "            if save_last:\n",
    "                images = images[num_images:]\n",
    "                captions = captions[num_images:]\n",
    "        \n",
    "\n",
    "                \n",
    "        self.images = images\n",
    "        self.captions = captions        \n",
    "        self._apply_noise()\n",
    "        self._normalize()\n",
    "        \n",
    "    def _apply_noise(self):\n",
    "        for n, im in enumerate(self.images):\n",
    "            noise_augmenter, hardeness = self.noise\n",
    "            image, augmented = noise_augmenter(im, hardeness)\n",
    "            if augmented:\n",
    "                self.images[n] = image        \n",
    "        \n",
    "    def _normalize(self):\n",
    "        for n, im in enumerate(self.images):\n",
    "            im = np.array(im)\n",
    "            self.images[n] = im/im.max()"
   ],
   "metadata": {
    "collapsed": false,
    "ExecuteTime": {
     "end_time": "2024-02-01T11:48:49.116548476Z",
     "start_time": "2024-02-01T11:48:49.114081763Z"
    }
   },
   "execution_count": 4
  },
  {
   "cell_type": "code",
   "outputs": [
    {
     "name": "stdout",
     "output_type": "stream",
     "text": [
      "693\n",
      "1117\n",
      "1763\n",
      "2814\n",
      "4490\n",
      "7161\n",
      "11452\n",
      "18331\n",
      "693\n",
      "1099\n",
      "1727\n"
     ]
    }
   ],
   "source": [
    "images = []\n",
    "captions = []\n",
    "captions_base = \"Ё Й Ц У К Е Н Г Ш Щ З Х Ъ Ф Ы В А П Р О Л Д Ж Э Я Ч С М И Т Ь Б Ю\".split(' ')\n",
    "for i in range(1, num_fonts+1):\n",
    "    for j in range(1, num_letters+1):\n",
    "        images.append(get_letter(i,j))\n",
    "        captions.append(captions_base[j-1])\n",
    "\n",
    "aug = MultipleAugmenter(images.copy(), captions.copy())\n",
    "aug.random_augment(8)\n",
    "test_aug = MultipleAugmenter(images.copy(), captions.copy())\n",
    "test_aug.random_augment(3, 65, 0)"
   ],
   "metadata": {
    "collapsed": false,
    "ExecuteTime": {
     "end_time": "2024-02-01T11:48:50.226618499Z",
     "start_time": "2024-02-01T11:48:49.114483407Z"
    }
   },
   "execution_count": 5
  },
  {
   "cell_type": "code",
   "outputs": [],
   "source": [
    "x_data = np.array(aug.images)\n",
    "x_data = x_data.reshape(*x_data.shape, 1)\n",
    "classes = list(map(captions_base.index, aug.captions))\n",
    "y_data = keras.utils.to_categorical(classes, num_classes=num_letters)\n",
    "\n",
    "num_train_samples = int(len(x_data) * (1 - validation_split))\n",
    "num_val_samples = len(x_data) - num_train_samples\n",
    "x_train, x_val = np.split(x_data, [num_train_samples])\n",
    "y_train, y_val = np.split(y_data, [num_train_samples])\n",
    "\n",
    "test_x_data = np.array(test_aug.images)\n",
    "test_x_data = test_x_data.reshape(*test_x_data.shape,1)\n",
    "\n",
    "test_classes = list(map(captions_base.index, test_aug.captions))\n",
    "test_y_data = keras.utils.to_categorical(test_classes, num_classes=num_letters)"
   ],
   "metadata": {
    "collapsed": false,
    "ExecuteTime": {
     "end_time": "2024-02-01T11:48:50.298520823Z",
     "start_time": "2024-02-01T11:48:50.230366187Z"
    }
   },
   "execution_count": 6
  },
  {
   "cell_type": "markdown",
   "metadata": {
    "id": "FI9R-DPt3zGE"
   },
   "source": [
    "## Helper functions\n",
    "\n",
    "We create two helper functions to help us get a sequence of\n",
    "patches from the image, merge patches, and apply dropout."
   ]
  },
  {
   "cell_type": "code",
   "execution_count": 7,
   "metadata": {
    "id": "f99opgq13zGE",
    "ExecuteTime": {
     "end_time": "2024-02-01T11:48:50.305877168Z",
     "start_time": "2024-02-01T11:48:50.301742043Z"
    }
   },
   "outputs": [],
   "source": [
    "\n",
    "def window_partition(x, window_size):\n",
    "    _, height, width, channels = x.shape\n",
    "    patch_num_y = height // window_size\n",
    "    patch_num_x = width // window_size\n",
    "    x = ops.reshape(\n",
    "        x,\n",
    "        (\n",
    "            -1,\n",
    "            patch_num_y,\n",
    "            window_size,\n",
    "            patch_num_x,\n",
    "            window_size,\n",
    "            channels,\n",
    "        ),\n",
    "    )\n",
    "    x = ops.transpose(x, (0, 1, 3, 2, 4, 5))\n",
    "    windows = ops.reshape(x, (-1, window_size, window_size, channels))\n",
    "    return windows\n",
    "\n",
    "\n",
    "def window_reverse(windows, window_size, height, width, channels):\n",
    "    patch_num_y = height // window_size\n",
    "    patch_num_x = width // window_size\n",
    "    x = ops.reshape(\n",
    "        windows,\n",
    "        (\n",
    "            -1,\n",
    "            patch_num_y,\n",
    "            patch_num_x,\n",
    "            window_size,\n",
    "            window_size,\n",
    "            channels,\n",
    "        ),\n",
    "    )\n",
    "    x = ops.transpose(x, (0, 1, 3, 2, 4, 5))\n",
    "    x = ops.reshape(x, (-1, height, width, channels))\n",
    "    return x\n"
   ]
  },
  {
   "cell_type": "markdown",
   "metadata": {
    "id": "4LV_xN8H3zGF"
   },
   "source": [
    "## Window based multi-head self-attention\n",
    "\n",
    "Usually Transformers perform global self-attention, where the relationships\n",
    "between a token and all other tokens are computed. The global computation leads\n",
    "to quadratic complexity with respect to the number of tokens. Here, as the\n",
    "[original paper](https://arxiv.org/abs/2103.14030) suggests, we compute\n",
    "self-attention within local windows, in a non-overlapping manner. Global\n",
    "self-attention leads to quadratic computational complexity in the number of\n",
    "patches, whereas window-based self-attention leads to linear complexity and is\n",
    "easily scalable."
   ]
  },
  {
   "cell_type": "code",
   "execution_count": 8,
   "metadata": {
    "id": "q7qKjsqk3zGF",
    "ExecuteTime": {
     "end_time": "2024-02-01T11:48:50.314893631Z",
     "start_time": "2024-02-01T11:48:50.309501315Z"
    }
   },
   "outputs": [],
   "source": [
    "class WindowAttention(layers.Layer):\n",
    "    def __init__(\n",
    "        self,\n",
    "        dim,\n",
    "        window_size,\n",
    "        num_heads,\n",
    "        qkv_bias=True,\n",
    "        dropout_rate=0.0,\n",
    "        **kwargs,\n",
    "    ):\n",
    "        super().__init__(**kwargs)\n",
    "        self.dim = dim\n",
    "        self.window_size = window_size\n",
    "        self.num_heads = num_heads\n",
    "        self.scale = (dim // num_heads) ** -0.5\n",
    "        self.qkv = layers.Dense(dim * 3, use_bias=qkv_bias)\n",
    "        self.dropout = layers.Dropout(dropout_rate)\n",
    "        self.proj = layers.Dense(dim)\n",
    "\n",
    "        num_window_elements = (2 * self.window_size[0] - 1) * (\n",
    "            2 * self.window_size[1] - 1\n",
    "        )\n",
    "        self.relative_position_bias_table = self.add_weight(\n",
    "            shape=(num_window_elements, self.num_heads),\n",
    "            initializer=keras.initializers.Zeros(),\n",
    "            trainable=True,\n",
    "        )\n",
    "        coords_h = np.arange(self.window_size[0])\n",
    "        coords_w = np.arange(self.window_size[1])\n",
    "        coords_matrix = np.meshgrid(coords_h, coords_w, indexing=\"ij\")\n",
    "        coords = np.stack(coords_matrix)\n",
    "        coords_flatten = coords.reshape(2, -1)\n",
    "        relative_coords = coords_flatten[:, :, None] - coords_flatten[:, None, :]\n",
    "        relative_coords = relative_coords.transpose([1, 2, 0])\n",
    "        relative_coords[:, :, 0] += self.window_size[0] - 1\n",
    "        relative_coords[:, :, 1] += self.window_size[1] - 1\n",
    "        relative_coords[:, :, 0] *= 2 * self.window_size[1] - 1\n",
    "        relative_position_index = relative_coords.sum(-1)\n",
    "\n",
    "        self.relative_position_index = keras.Variable(\n",
    "            initializer=relative_position_index,\n",
    "            shape=relative_position_index.shape,\n",
    "            dtype=\"int\",\n",
    "            trainable=False,\n",
    "        )\n",
    "\n",
    "    def call(self, x, mask=None):\n",
    "        _, size, channels = x.shape\n",
    "        head_dim = channels // self.num_heads\n",
    "        x_qkv = self.qkv(x)\n",
    "        x_qkv = ops.reshape(x_qkv, (-1, size, 3, self.num_heads, head_dim))\n",
    "        x_qkv = ops.transpose(x_qkv, (2, 0, 3, 1, 4))\n",
    "        q, k, v = x_qkv[0], x_qkv[1], x_qkv[2]\n",
    "        q = q * self.scale\n",
    "        k = ops.transpose(k, (0, 1, 3, 2))\n",
    "        attn = q @ k\n",
    "\n",
    "        num_window_elements = self.window_size[0] * self.window_size[1]\n",
    "        relative_position_index_flat = ops.reshape(self.relative_position_index, (-1,))\n",
    "        relative_position_bias = ops.take(\n",
    "            self.relative_position_bias_table,\n",
    "            relative_position_index_flat,\n",
    "            axis=0,\n",
    "        )\n",
    "        relative_position_bias = ops.reshape(\n",
    "            relative_position_bias,\n",
    "            (num_window_elements, num_window_elements, -1),\n",
    "        )\n",
    "        relative_position_bias = ops.transpose(relative_position_bias, (2, 0, 1))\n",
    "        attn = attn + ops.expand_dims(relative_position_bias, axis=0)\n",
    "\n",
    "        if mask is not None:\n",
    "            nW = mask.shape[0]\n",
    "            mask_float = ops.cast(\n",
    "                ops.expand_dims(ops.expand_dims(mask, axis=1), axis=0),\n",
    "                \"float32\",\n",
    "            )\n",
    "            attn = ops.reshape(attn, (-1, nW, self.num_heads, size, size)) + mask_float\n",
    "            attn = ops.reshape(attn, (-1, self.num_heads, size, size))\n",
    "            attn = keras.activations.softmax(attn, axis=-1)\n",
    "        else:\n",
    "            attn = keras.activations.softmax(attn, axis=-1)\n",
    "        attn = self.dropout(attn)\n",
    "\n",
    "        x_qkv = attn @ v\n",
    "        x_qkv = ops.transpose(x_qkv, (0, 2, 1, 3))\n",
    "        x_qkv = ops.reshape(x_qkv, (-1, size, channels))\n",
    "        x_qkv = self.proj(x_qkv)\n",
    "        x_qkv = self.dropout(x_qkv)\n",
    "        return x_qkv\n"
   ]
  },
  {
   "cell_type": "markdown",
   "metadata": {
    "id": "bsD4lkTj3zGG"
   },
   "source": [
    "## The complete Swin Transformer model\n",
    "\n",
    "Finally, we put together the complete Swin Transformer by replacing the standard\n",
    "multi-head attention (MHA) with shifted windows attention. As suggested in the\n",
    "original paper, we create a model comprising of a shifted window-based MHA\n",
    "layer, followed by a 2-layer MLP with GELU nonlinearity in between, applying\n",
    "`LayerNormalization` before each MSA layer and each MLP, and a residual\n",
    "connection after each of these layers.\n",
    "\n",
    "Notice that we only create a simple MLP with 2 Dense and\n",
    "2 Dropout layers. Often you will see models using ResNet-50 as the MLP which is\n",
    "quite standard in the literature. However in this paper the authors use a\n",
    "2-layer MLP with GELU nonlinearity in between."
   ]
  },
  {
   "cell_type": "code",
   "execution_count": 9,
   "metadata": {
    "id": "DN327jtK3zGG",
    "ExecuteTime": {
     "end_time": "2024-02-01T11:48:50.365735394Z",
     "start_time": "2024-02-01T11:48:50.320546568Z"
    }
   },
   "outputs": [],
   "source": [
    "class SwinTransformer(layers.Layer):\n",
    "    def __init__(\n",
    "        self,\n",
    "        dim,\n",
    "        num_patch,\n",
    "        num_heads,\n",
    "        window_size=7,\n",
    "        shift_size=0,\n",
    "        num_mlp=1024,\n",
    "        qkv_bias=True,\n",
    "        dropout_rate=0.0,\n",
    "        **kwargs,\n",
    "    ):\n",
    "        super().__init__(**kwargs)\n",
    "\n",
    "        self.dim = dim  # number of input dimensions\n",
    "        self.num_patch = num_patch  # number of embedded patches\n",
    "        self.num_heads = num_heads  # number of attention heads\n",
    "        self.window_size = window_size  # size of window\n",
    "        self.shift_size = shift_size  # size of window shift\n",
    "        self.num_mlp = num_mlp  # number of MLP nodes\n",
    "\n",
    "        self.norm1 = layers.LayerNormalization(epsilon=1e-5)\n",
    "        self.attn = WindowAttention(\n",
    "            dim,\n",
    "            window_size=(self.window_size, self.window_size),\n",
    "            num_heads=num_heads,\n",
    "            qkv_bias=qkv_bias,\n",
    "            dropout_rate=dropout_rate,\n",
    "        )\n",
    "        self.drop_path = layers.Dropout(dropout_rate)\n",
    "        self.norm2 = layers.LayerNormalization(epsilon=1e-5)\n",
    "\n",
    "        self.mlp = keras.Sequential(\n",
    "            [\n",
    "                layers.Dense(num_mlp),\n",
    "                layers.Activation(keras.activations.gelu),\n",
    "                layers.Dropout(dropout_rate),\n",
    "                layers.Dense(dim),\n",
    "                layers.Dropout(dropout_rate),\n",
    "            ]\n",
    "        )\n",
    "\n",
    "        if min(self.num_patch) < self.window_size:\n",
    "            self.shift_size = 0\n",
    "            self.window_size = min(self.num_patch)\n",
    "\n",
    "    def build(self, input_shape):\n",
    "        if self.shift_size == 0:\n",
    "            self.attn_mask = None\n",
    "        else:\n",
    "            height, width = self.num_patch\n",
    "            h_slices = (\n",
    "                slice(0, -self.window_size),\n",
    "                slice(-self.window_size, -self.shift_size),\n",
    "                slice(-self.shift_size, None),\n",
    "            )\n",
    "            w_slices = (\n",
    "                slice(0, -self.window_size),\n",
    "                slice(-self.window_size, -self.shift_size),\n",
    "                slice(-self.shift_size, None),\n",
    "            )\n",
    "            mask_array = np.zeros((1, height, width, 1))\n",
    "            count = 0\n",
    "            for h in h_slices:\n",
    "                for w in w_slices:\n",
    "                    mask_array[:, h, w, :] = count\n",
    "                    count += 1\n",
    "            mask_array = ops.convert_to_tensor(mask_array)\n",
    "\n",
    "            # mask array to windows\n",
    "            mask_windows = window_partition(mask_array, self.window_size)\n",
    "            mask_windows = ops.reshape(\n",
    "                mask_windows, [-1, self.window_size * self.window_size]\n",
    "            )\n",
    "            attn_mask = ops.expand_dims(mask_windows, axis=1) - ops.expand_dims(\n",
    "                mask_windows, axis=2\n",
    "            )\n",
    "            attn_mask = ops.where(attn_mask != 0, -100.0, attn_mask)\n",
    "            attn_mask = ops.where(attn_mask == 0, 0.0, attn_mask)\n",
    "            self.attn_mask = keras.Variable(\n",
    "                initializer=attn_mask,\n",
    "                shape=attn_mask.shape,\n",
    "                dtype=attn_mask.dtype,\n",
    "                trainable=False,\n",
    "            )\n",
    "\n",
    "    def call(self, x, training=False):\n",
    "        height, width = self.num_patch\n",
    "        _, num_patches_before, channels = x.shape\n",
    "        x_skip = x\n",
    "        x = self.norm1(x)\n",
    "        x = ops.reshape(x, (-1, height, width, channels))\n",
    "        if self.shift_size > 0:\n",
    "            shifted_x = ops.roll(\n",
    "                x, shift=[-self.shift_size, -self.shift_size], axis=[1, 2]\n",
    "            )\n",
    "        else:\n",
    "            shifted_x = x\n",
    "\n",
    "        x_windows = window_partition(shifted_x, self.window_size)\n",
    "        x_windows = ops.reshape(\n",
    "            x_windows, (-1, self.window_size * self.window_size, channels)\n",
    "        )\n",
    "        attn_windows = self.attn(x_windows, mask=self.attn_mask)\n",
    "\n",
    "        attn_windows = ops.reshape(\n",
    "            attn_windows,\n",
    "            (-1, self.window_size, self.window_size, channels),\n",
    "        )\n",
    "        shifted_x = window_reverse(\n",
    "            attn_windows, self.window_size, height, width, channels\n",
    "        )\n",
    "        if self.shift_size > 0:\n",
    "            x = ops.roll(\n",
    "                shifted_x, shift=[self.shift_size, self.shift_size], axis=[1, 2]\n",
    "            )\n",
    "        else:\n",
    "            x = shifted_x\n",
    "\n",
    "        x = ops.reshape(x, (-1, height * width, channels))\n",
    "        x = self.drop_path(x, training=training)\n",
    "        x = x_skip + x\n",
    "        x_skip = x\n",
    "        x = self.norm2(x)\n",
    "        x = self.mlp(x)\n",
    "        x = self.drop_path(x)\n",
    "        x = x_skip + x\n",
    "        return x\n"
   ]
  },
  {
   "cell_type": "markdown",
   "metadata": {
    "id": "QFIcaONk3zGH"
   },
   "source": [
    "## Model training and evaluation\n",
    "\n",
    "### Extract and embed patches\n",
    "\n",
    "We first create 3 layers to help us extract, embed and merge patches from the\n",
    "images on top of which we will later use the Swin Transformer class we built."
   ]
  },
  {
   "cell_type": "code",
   "execution_count": 10,
   "metadata": {
    "id": "SaPR6clL3zGH",
    "ExecuteTime": {
     "end_time": "2024-02-01T11:48:50.367267300Z",
     "start_time": "2024-02-01T11:48:50.365579391Z"
    }
   },
   "outputs": [],
   "source": [
    "# Using tf ops since it is only used in tf.data.\n",
    "def patch_extract(images):\n",
    "    batch_size = tf.shape(images)[0]\n",
    "    patches = tf.image.extract_patches(\n",
    "        images=images,\n",
    "        sizes=(1, patch_size[0], patch_size[1], 1),\n",
    "        strides=(1, patch_size[0], patch_size[1], 1),\n",
    "        rates=(1, 1, 1, 1),\n",
    "        padding=\"VALID\",\n",
    "    )\n",
    "    patch_dim = patches.shape[-1]\n",
    "    patch_num = patches.shape[1]\n",
    "    return tf.reshape(patches, (batch_size, patch_num * patch_num, patch_dim))\n",
    "\n",
    "class PatchEmbedding(layers.Layer):\n",
    "    def __init__(self, num_patch, embed_dim, **kwargs):\n",
    "        super().__init__(**kwargs)\n",
    "        self.num_patch = num_patch\n",
    "        self.proj = layers.Dense(embed_dim)\n",
    "        self.pos_embed = layers.Embedding(input_dim=num_patch, output_dim=embed_dim)\n",
    "\n",
    "    def call(self, patch):\n",
    "        pos = ops.arange(start=0, stop=self.num_patch)\n",
    "        return self.proj(patch) + self.pos_embed(pos)\n",
    "\n",
    "class PatchMerging(keras.layers.Layer):\n",
    "    def __init__(self, num_patch, embed_dim):\n",
    "        super().__init__()\n",
    "        self.num_patch = num_patch\n",
    "        self.embed_dim = embed_dim\n",
    "        self.linear_trans = layers.Dense(2 * embed_dim, use_bias=False)\n",
    "\n",
    "    def call(self, x):\n",
    "        height, width = self.num_patch\n",
    "        _, _, C = x.shape\n",
    "        x = ops.reshape(x, (-1, height, width, C))\n",
    "        x0 = x[:, 0::2, 0::2, :]\n",
    "        x1 = x[:, 1::2, 0::2, :]\n",
    "        x2 = x[:, 0::2, 1::2, :]\n",
    "        x3 = x[:, 1::2, 1::2, :]\n",
    "        x = ops.concatenate((x0, x1, x2, x3), axis=-1)\n",
    "        x = ops.reshape(x, (-1, (height // 2) * (width // 2), 4 * C))\n",
    "        return self.linear_trans(x)\n"
   ]
  },
  {
   "cell_type": "markdown",
   "metadata": {
    "id": "u7WM7yPD3zGI"
   },
   "source": [
    "### Prepare the tf.data.Dataset\n",
    "\n",
    "We do all the steps, which do not have trainable weights with tf.data.\n",
    "Prepare the training, validation and testing sets."
   ]
  },
  {
   "cell_type": "code",
   "execution_count": 11,
   "metadata": {
    "id": "R1BOIjWy3zGI",
    "ExecuteTime": {
     "end_time": "2024-02-01T11:48:51.154072221Z",
     "start_time": "2024-02-01T11:48:50.366160622Z"
    }
   },
   "outputs": [
    {
     "name": "stderr",
     "output_type": "stream",
     "text": [
      "2024-02-01 14:48:50.374837: I external/local_xla/xla/stream_executor/cuda/cuda_executor.cc:901] successful NUMA node read from SysFS had negative value (-1), but there must be at least one NUMA node, so returning NUMA node zero. See more at https://github.com/torvalds/linux/blob/v6.0/Documentation/ABI/testing/sysfs-bus-pci#L344-L355\n",
      "2024-02-01 14:48:50.376363: I external/local_xla/xla/stream_executor/cuda/cuda_executor.cc:901] successful NUMA node read from SysFS had negative value (-1), but there must be at least one NUMA node, so returning NUMA node zero. See more at https://github.com/torvalds/linux/blob/v6.0/Documentation/ABI/testing/sysfs-bus-pci#L344-L355\n",
      "2024-02-01 14:48:50.377714: I external/local_xla/xla/stream_executor/cuda/cuda_executor.cc:901] successful NUMA node read from SysFS had negative value (-1), but there must be at least one NUMA node, so returning NUMA node zero. See more at https://github.com/torvalds/linux/blob/v6.0/Documentation/ABI/testing/sysfs-bus-pci#L344-L355\n",
      "2024-02-01 14:48:50.500717: I external/local_xla/xla/stream_executor/cuda/cuda_executor.cc:901] successful NUMA node read from SysFS had negative value (-1), but there must be at least one NUMA node, so returning NUMA node zero. See more at https://github.com/torvalds/linux/blob/v6.0/Documentation/ABI/testing/sysfs-bus-pci#L344-L355\n",
      "2024-02-01 14:48:50.502132: I external/local_xla/xla/stream_executor/cuda/cuda_executor.cc:901] successful NUMA node read from SysFS had negative value (-1), but there must be at least one NUMA node, so returning NUMA node zero. See more at https://github.com/torvalds/linux/blob/v6.0/Documentation/ABI/testing/sysfs-bus-pci#L344-L355\n",
      "2024-02-01 14:48:50.503387: I external/local_xla/xla/stream_executor/cuda/cuda_executor.cc:901] successful NUMA node read from SysFS had negative value (-1), but there must be at least one NUMA node, so returning NUMA node zero. See more at https://github.com/torvalds/linux/blob/v6.0/Documentation/ABI/testing/sysfs-bus-pci#L344-L355\n",
      "2024-02-01 14:48:50.504646: I tensorflow/core/common_runtime/gpu/gpu_device.cc:1929] Created device /job:localhost/replica:0/task:0/device:GPU:0 with 6076 MB memory:  -> device: 0, name: NVIDIA GeForce RTX 4060 Laptop GPU, pci bus id: 0000:01:00.0, compute capability: 8.9\n"
     ]
    }
   ],
   "source": [
    "def augment(x):\n",
    "    return x\n",
    "\n",
    "\n",
    "dataset = (\n",
    "    tf.data.Dataset.from_tensor_slices((x_train, y_train))\n",
    "    .map(lambda x, y: (augment(x), y))\n",
    "    .batch(batch_size=batch_size)\n",
    "    .map(lambda x, y: (patch_extract(x), y))\n",
    "    .prefetch(tf.data.experimental.AUTOTUNE)\n",
    ")\n",
    "\n",
    "dataset_val = (\n",
    "    tf.data.Dataset.from_tensor_slices((x_val, y_val))\n",
    "    .batch(batch_size=batch_size)\n",
    "    .map(lambda x, y: (patch_extract(x), y))\n",
    "    .prefetch(tf.data.experimental.AUTOTUNE)\n",
    ")\n",
    "\n",
    "dataset_test = (\n",
    "    tf.data.Dataset.from_tensor_slices((test_x_data, test_y_data))\n",
    "    .batch(batch_size=batch_size)\n",
    "    .map(lambda x, y: (patch_extract(x), y))\n",
    "    .prefetch(tf.data.experimental.AUTOTUNE)\n",
    ")"
   ]
  },
  {
   "cell_type": "code",
   "outputs": [
    {
     "data": {
      "text/plain": "2788"
     },
     "execution_count": 12,
     "metadata": {},
     "output_type": "execute_result"
    }
   ],
   "source": [
    "len(test_x_data)"
   ],
   "metadata": {
    "collapsed": false,
    "ExecuteTime": {
     "end_time": "2024-02-01T11:48:51.197879511Z",
     "start_time": "2024-02-01T11:48:51.155113546Z"
    }
   },
   "execution_count": 12
  },
  {
   "cell_type": "markdown",
   "metadata": {
    "id": "aIiql3_13zGI"
   },
   "source": [
    "### Build the model\n",
    "\n",
    "We put together the Swin Transformer model."
   ]
  },
  {
   "cell_type": "code",
   "execution_count": 13,
   "metadata": {
    "id": "m1HNxEWw3zGJ",
    "ExecuteTime": {
     "end_time": "2024-02-01T11:48:52.458589424Z",
     "start_time": "2024-02-01T11:48:51.197374443Z"
    }
   },
   "outputs": [
    {
     "name": "stderr",
     "output_type": "stream",
     "text": [
      "2024-02-01 14:48:51.585637: I external/local_tsl/tsl/platform/default/subprocess.cc:304] Start cannot spawn child process: No such file or directory\n"
     ]
    },
    {
     "data": {
      "text/plain": "\u001B[1mModel: \"functional_3\"\u001B[0m\n",
      "text/html": "<pre style=\"white-space:pre;overflow-x:auto;line-height:normal;font-family:Menlo,'DejaVu Sans Mono',consolas,'Courier New',monospace\"><span style=\"font-weight: bold\">Model: \"functional_3\"</span>\n</pre>\n"
     },
     "metadata": {},
     "output_type": "display_data"
    },
    {
     "data": {
      "text/plain": "┏━━━━━━━━━━━━━━━━━━━━━━━━━━━━━━━━━┳━━━━━━━━━━━━━━━━━━━━━━━━━━━┳━━━━━━━━━━━━┓\n┃\u001B[1m \u001B[0m\u001B[1mLayer (type)                   \u001B[0m\u001B[1m \u001B[0m┃\u001B[1m \u001B[0m\u001B[1mOutput Shape             \u001B[0m\u001B[1m \u001B[0m┃\u001B[1m \u001B[0m\u001B[1m   Param #\u001B[0m\u001B[1m \u001B[0m┃\n┡━━━━━━━━━━━━━━━━━━━━━━━━━━━━━━━━━╇━━━━━━━━━━━━━━━━━━━━━━━━━━━╇━━━━━━━━━━━━┩\n│ input_layer (\u001B[38;5;33mInputLayer\u001B[0m)        │ (\u001B[38;5;45mNone\u001B[0m, \u001B[38;5;34m256\u001B[0m, \u001B[38;5;34m4\u001B[0m)            │          \u001B[38;5;34m0\u001B[0m │\n├─────────────────────────────────┼───────────────────────────┼────────────┤\n│ patch_embedding                 │ (\u001B[38;5;45mNone\u001B[0m, \u001B[38;5;34m256\u001B[0m, \u001B[38;5;34m64\u001B[0m)           │     \u001B[38;5;34m16,704\u001B[0m │\n│ (\u001B[38;5;33mPatchEmbedding\u001B[0m)                │                           │            │\n├─────────────────────────────────┼───────────────────────────┼────────────┤\n│ swin_transformer                │ (\u001B[38;5;45mNone\u001B[0m, \u001B[38;5;34m256\u001B[0m, \u001B[38;5;34m64\u001B[0m)           │     \u001B[38;5;34m50,072\u001B[0m │\n│ (\u001B[38;5;33mSwinTransformer\u001B[0m)               │                           │            │\n├─────────────────────────────────┼───────────────────────────┼────────────┤\n│ swin_transformer_1              │ (\u001B[38;5;45mNone\u001B[0m, \u001B[38;5;34m256\u001B[0m, \u001B[38;5;34m64\u001B[0m)           │     \u001B[38;5;34m51,096\u001B[0m │\n│ (\u001B[38;5;33mSwinTransformer\u001B[0m)               │                           │            │\n├─────────────────────────────────┼───────────────────────────┼────────────┤\n│ patch_merging (\u001B[38;5;33mPatchMerging\u001B[0m)    │ (\u001B[38;5;45mNone\u001B[0m, \u001B[38;5;34m64\u001B[0m, \u001B[38;5;34m128\u001B[0m)           │     \u001B[38;5;34m32,768\u001B[0m │\n├─────────────────────────────────┼───────────────────────────┼────────────┤\n│ global_average_pooling1d        │ (\u001B[38;5;45mNone\u001B[0m, \u001B[38;5;34m128\u001B[0m)               │          \u001B[38;5;34m0\u001B[0m │\n│ (\u001B[38;5;33mGlobalAveragePooling1D\u001B[0m)        │                           │            │\n├─────────────────────────────────┼───────────────────────────┼────────────┤\n│ dense_10 (\u001B[38;5;33mDense\u001B[0m)                │ (\u001B[38;5;45mNone\u001B[0m, \u001B[38;5;34m1024\u001B[0m)              │    \u001B[38;5;34m132,096\u001B[0m │\n├─────────────────────────────────┼───────────────────────────┼────────────┤\n│ dense_11 (\u001B[38;5;33mDense\u001B[0m)                │ (\u001B[38;5;45mNone\u001B[0m, \u001B[38;5;34m512\u001B[0m)               │    \u001B[38;5;34m524,800\u001B[0m │\n├─────────────────────────────────┼───────────────────────────┼────────────┤\n│ dense_12 (\u001B[38;5;33mDense\u001B[0m)                │ (\u001B[38;5;45mNone\u001B[0m, \u001B[38;5;34m256\u001B[0m)               │    \u001B[38;5;34m131,328\u001B[0m │\n├─────────────────────────────────┼───────────────────────────┼────────────┤\n│ dense_13 (\u001B[38;5;33mDense\u001B[0m)                │ (\u001B[38;5;45mNone\u001B[0m, \u001B[38;5;34m33\u001B[0m)                │      \u001B[38;5;34m8,481\u001B[0m │\n└─────────────────────────────────┴───────────────────────────┴────────────┘\n",
      "text/html": "<pre style=\"white-space:pre;overflow-x:auto;line-height:normal;font-family:Menlo,'DejaVu Sans Mono',consolas,'Courier New',monospace\">┏━━━━━━━━━━━━━━━━━━━━━━━━━━━━━━━━━┳━━━━━━━━━━━━━━━━━━━━━━━━━━━┳━━━━━━━━━━━━┓\n┃<span style=\"font-weight: bold\"> Layer (type)                    </span>┃<span style=\"font-weight: bold\"> Output Shape              </span>┃<span style=\"font-weight: bold\">    Param # </span>┃\n┡━━━━━━━━━━━━━━━━━━━━━━━━━━━━━━━━━╇━━━━━━━━━━━━━━━━━━━━━━━━━━━╇━━━━━━━━━━━━┩\n│ input_layer (<span style=\"color: #0087ff; text-decoration-color: #0087ff\">InputLayer</span>)        │ (<span style=\"color: #00d7ff; text-decoration-color: #00d7ff\">None</span>, <span style=\"color: #00af00; text-decoration-color: #00af00\">256</span>, <span style=\"color: #00af00; text-decoration-color: #00af00\">4</span>)            │          <span style=\"color: #00af00; text-decoration-color: #00af00\">0</span> │\n├─────────────────────────────────┼───────────────────────────┼────────────┤\n│ patch_embedding                 │ (<span style=\"color: #00d7ff; text-decoration-color: #00d7ff\">None</span>, <span style=\"color: #00af00; text-decoration-color: #00af00\">256</span>, <span style=\"color: #00af00; text-decoration-color: #00af00\">64</span>)           │     <span style=\"color: #00af00; text-decoration-color: #00af00\">16,704</span> │\n│ (<span style=\"color: #0087ff; text-decoration-color: #0087ff\">PatchEmbedding</span>)                │                           │            │\n├─────────────────────────────────┼───────────────────────────┼────────────┤\n│ swin_transformer                │ (<span style=\"color: #00d7ff; text-decoration-color: #00d7ff\">None</span>, <span style=\"color: #00af00; text-decoration-color: #00af00\">256</span>, <span style=\"color: #00af00; text-decoration-color: #00af00\">64</span>)           │     <span style=\"color: #00af00; text-decoration-color: #00af00\">50,072</span> │\n│ (<span style=\"color: #0087ff; text-decoration-color: #0087ff\">SwinTransformer</span>)               │                           │            │\n├─────────────────────────────────┼───────────────────────────┼────────────┤\n│ swin_transformer_1              │ (<span style=\"color: #00d7ff; text-decoration-color: #00d7ff\">None</span>, <span style=\"color: #00af00; text-decoration-color: #00af00\">256</span>, <span style=\"color: #00af00; text-decoration-color: #00af00\">64</span>)           │     <span style=\"color: #00af00; text-decoration-color: #00af00\">51,096</span> │\n│ (<span style=\"color: #0087ff; text-decoration-color: #0087ff\">SwinTransformer</span>)               │                           │            │\n├─────────────────────────────────┼───────────────────────────┼────────────┤\n│ patch_merging (<span style=\"color: #0087ff; text-decoration-color: #0087ff\">PatchMerging</span>)    │ (<span style=\"color: #00d7ff; text-decoration-color: #00d7ff\">None</span>, <span style=\"color: #00af00; text-decoration-color: #00af00\">64</span>, <span style=\"color: #00af00; text-decoration-color: #00af00\">128</span>)           │     <span style=\"color: #00af00; text-decoration-color: #00af00\">32,768</span> │\n├─────────────────────────────────┼───────────────────────────┼────────────┤\n│ global_average_pooling1d        │ (<span style=\"color: #00d7ff; text-decoration-color: #00d7ff\">None</span>, <span style=\"color: #00af00; text-decoration-color: #00af00\">128</span>)               │          <span style=\"color: #00af00; text-decoration-color: #00af00\">0</span> │\n│ (<span style=\"color: #0087ff; text-decoration-color: #0087ff\">GlobalAveragePooling1D</span>)        │                           │            │\n├─────────────────────────────────┼───────────────────────────┼────────────┤\n│ dense_10 (<span style=\"color: #0087ff; text-decoration-color: #0087ff\">Dense</span>)                │ (<span style=\"color: #00d7ff; text-decoration-color: #00d7ff\">None</span>, <span style=\"color: #00af00; text-decoration-color: #00af00\">1024</span>)              │    <span style=\"color: #00af00; text-decoration-color: #00af00\">132,096</span> │\n├─────────────────────────────────┼───────────────────────────┼────────────┤\n│ dense_11 (<span style=\"color: #0087ff; text-decoration-color: #0087ff\">Dense</span>)                │ (<span style=\"color: #00d7ff; text-decoration-color: #00d7ff\">None</span>, <span style=\"color: #00af00; text-decoration-color: #00af00\">512</span>)               │    <span style=\"color: #00af00; text-decoration-color: #00af00\">524,800</span> │\n├─────────────────────────────────┼───────────────────────────┼────────────┤\n│ dense_12 (<span style=\"color: #0087ff; text-decoration-color: #0087ff\">Dense</span>)                │ (<span style=\"color: #00d7ff; text-decoration-color: #00d7ff\">None</span>, <span style=\"color: #00af00; text-decoration-color: #00af00\">256</span>)               │    <span style=\"color: #00af00; text-decoration-color: #00af00\">131,328</span> │\n├─────────────────────────────────┼───────────────────────────┼────────────┤\n│ dense_13 (<span style=\"color: #0087ff; text-decoration-color: #0087ff\">Dense</span>)                │ (<span style=\"color: #00d7ff; text-decoration-color: #00d7ff\">None</span>, <span style=\"color: #00af00; text-decoration-color: #00af00\">33</span>)                │      <span style=\"color: #00af00; text-decoration-color: #00af00\">8,481</span> │\n└─────────────────────────────────┴───────────────────────────┴────────────┘\n</pre>\n"
     },
     "metadata": {},
     "output_type": "display_data"
    },
    {
     "data": {
      "text/plain": "\u001B[1m Total params: \u001B[0m\u001B[38;5;34m947,345\u001B[0m (3.62 MB)\n",
      "text/html": "<pre style=\"white-space:pre;overflow-x:auto;line-height:normal;font-family:Menlo,'DejaVu Sans Mono',consolas,'Courier New',monospace\"><span style=\"font-weight: bold\"> Total params: </span><span style=\"color: #00af00; text-decoration-color: #00af00\">947,345</span> (3.62 MB)\n</pre>\n"
     },
     "metadata": {},
     "output_type": "display_data"
    },
    {
     "data": {
      "text/plain": "\u001B[1m Trainable params: \u001B[0m\u001B[38;5;34m946,289\u001B[0m (3.61 MB)\n",
      "text/html": "<pre style=\"white-space:pre;overflow-x:auto;line-height:normal;font-family:Menlo,'DejaVu Sans Mono',consolas,'Courier New',monospace\"><span style=\"font-weight: bold\"> Trainable params: </span><span style=\"color: #00af00; text-decoration-color: #00af00\">946,289</span> (3.61 MB)\n</pre>\n"
     },
     "metadata": {},
     "output_type": "display_data"
    },
    {
     "data": {
      "text/plain": "\u001B[1m Non-trainable params: \u001B[0m\u001B[38;5;34m1,056\u001B[0m (8.25 KB)\n",
      "text/html": "<pre style=\"white-space:pre;overflow-x:auto;line-height:normal;font-family:Menlo,'DejaVu Sans Mono',consolas,'Courier New',monospace\"><span style=\"font-weight: bold\"> Non-trainable params: </span><span style=\"color: #00af00; text-decoration-color: #00af00\">1,056</span> (8.25 KB)\n</pre>\n"
     },
     "metadata": {},
     "output_type": "display_data"
    }
   ],
   "source": [
    "input = layers.Input(shape=(256, 4))\n",
    "x = PatchEmbedding(num_patch_x * num_patch_y, embed_dim)(input)\n",
    "x = SwinTransformer(\n",
    "    dim=embed_dim,\n",
    "    num_patch=(num_patch_x, num_patch_y),\n",
    "    num_heads=num_heads,\n",
    "    window_size=window_size,\n",
    "    shift_size=0,\n",
    "    num_mlp=num_mlp,\n",
    "    qkv_bias=qkv_bias,\n",
    "    dropout_rate=dropout_rate,\n",
    ")(x)\n",
    "x = SwinTransformer(\n",
    "    dim=embed_dim,\n",
    "    num_patch=(num_patch_x, num_patch_y),\n",
    "    num_heads=num_heads,\n",
    "    window_size=window_size,\n",
    "    shift_size=shift_size,\n",
    "    num_mlp=num_mlp,\n",
    "    qkv_bias=qkv_bias,\n",
    "    dropout_rate=dropout_rate,\n",
    ")(x)\n",
    "x = PatchMerging((num_patch_x, num_patch_y), embed_dim=embed_dim)(x)\n",
    "x = layers.GlobalAveragePooling1D()(x)\n",
    "dense = keras.layers.Dense(1024, activation='relu')(x)\n",
    "dense = keras.layers.Dense(512, activation='relu')(dense)\n",
    "dense = keras.layers.Dense(256, activation='relu')(dense)\n",
    "output = layers.Dense(num_classes, activation=\"softmax\")(dense)\n",
    "model = keras.Model(input, output)\n",
    "model.summary()"
   ]
  },
  {
   "cell_type": "code",
   "execution_count": 14,
   "metadata": {
    "id": "uooQNxtm3zGJ",
    "ExecuteTime": {
     "end_time": "2024-02-01T12:00:37.967779768Z",
     "start_time": "2024-02-01T11:48:52.458038619Z"
    }
   },
   "outputs": [
    {
     "name": "stdout",
     "output_type": "stream",
     "text": [
      "Epoch 1/200\n"
     ]
    },
    {
     "name": "stderr",
     "output_type": "stream",
     "text": [
      "2024-02-01 14:48:56.837871: I external/local_xla/xla/service/service.cc:168] XLA service 0x7f35f4432c90 initialized for platform CUDA (this does not guarantee that XLA will be used). Devices:\n",
      "2024-02-01 14:48:56.837904: I external/local_xla/xla/service/service.cc:176]   StreamExecutor device (0): NVIDIA GeForce RTX 4060 Laptop GPU, Compute Capability 8.9\n",
      "2024-02-01 14:48:57.037390: I tensorflow/compiler/mlir/tensorflow/utils/dump_mlir_util.cc:269] disabling MLIR crash reproducer, set env var `MLIR_CRASH_REPRODUCER_DIRECTORY` to enable.\n",
      "2024-02-01 14:48:58.283970: I external/local_xla/xla/stream_executor/cuda/cuda_dnn.cc:454] Loaded cuDNN version 8904\n"
     ]
    },
    {
     "name": "stdout",
     "output_type": "stream",
     "text": [
      "\u001B[1m  16/1648\u001B[0m \u001B[37m━━━━━━━━━━━━━━━━━━━━\u001B[0m \u001B[1m11s\u001B[0m 7ms/step - accuracy: 0.0311 - loss: 3.6726 - top-5-accuracy: 0.1180"
     ]
    },
    {
     "name": "stderr",
     "output_type": "stream",
     "text": [
      "WARNING: All log messages before absl::InitializeLog() is called are written to STDERR\n",
      "I0000 00:00:1706788149.095720    3790 device_compiler.h:186] Compiled cluster using XLA!  This line is logged at most once for the lifetime of the process.\n"
     ]
    },
    {
     "name": "stdout",
     "output_type": "stream",
     "text": [
      "\u001B[1m1648/1648\u001B[0m \u001B[32m━━━━━━━━━━━━━━━━━━━━\u001B[0m\u001B[37m\u001B[0m \u001B[1m43s\u001B[0m 16ms/step - accuracy: 0.0309 - loss: 3.5107 - top-5-accuracy: 0.1560 - val_accuracy: 0.0294 - val_loss: 3.5414 - val_top-5-accuracy: 0.1697 - learning_rate: 0.0010\n",
      "Epoch 2/200\n",
      "\u001B[1m1648/1648\u001B[0m \u001B[32m━━━━━━━━━━━━━━━━━━━━\u001B[0m\u001B[37m\u001B[0m \u001B[1m11s\u001B[0m 7ms/step - accuracy: 0.0440 - loss: 3.4487 - top-5-accuracy: 0.2171 - val_accuracy: 0.0546 - val_loss: 3.4471 - val_top-5-accuracy: 0.2427 - learning_rate: 0.0010\n",
      "Epoch 3/200\n",
      "\u001B[1m1648/1648\u001B[0m \u001B[32m━━━━━━━━━━━━━━━━━━━━\u001B[0m\u001B[37m\u001B[0m \u001B[1m11s\u001B[0m 7ms/step - accuracy: 0.0628 - loss: 3.3321 - top-5-accuracy: 0.2859 - val_accuracy: 0.0686 - val_loss: 3.3452 - val_top-5-accuracy: 0.2738 - learning_rate: 0.0010\n",
      "Epoch 4/200\n",
      "\u001B[1m1648/1648\u001B[0m \u001B[32m━━━━━━━━━━━━━━━━━━━━\u001B[0m\u001B[37m\u001B[0m \u001B[1m11s\u001B[0m 7ms/step - accuracy: 0.0750 - loss: 3.2800 - top-5-accuracy: 0.3082 - val_accuracy: 0.0751 - val_loss: 3.3318 - val_top-5-accuracy: 0.3107 - learning_rate: 0.0010\n",
      "Epoch 5/200\n",
      "\u001B[1m1648/1648\u001B[0m \u001B[32m━━━━━━━━━━━━━━━━━━━━\u001B[0m\u001B[37m\u001B[0m \u001B[1m11s\u001B[0m 7ms/step - accuracy: 0.0972 - loss: 3.2044 - top-5-accuracy: 0.3704 - val_accuracy: 0.1205 - val_loss: 3.2009 - val_top-5-accuracy: 0.4114 - learning_rate: 0.0010\n",
      "Epoch 6/200\n",
      "\u001B[1m1648/1648\u001B[0m \u001B[32m━━━━━━━━━━━━━━━━━━━━\u001B[0m\u001B[37m\u001B[0m \u001B[1m11s\u001B[0m 7ms/step - accuracy: 0.1772 - loss: 2.9028 - top-5-accuracy: 0.5459 - val_accuracy: 0.2093 - val_loss: 2.8893 - val_top-5-accuracy: 0.5521 - learning_rate: 0.0010\n",
      "Epoch 7/200\n",
      "\u001B[1m1648/1648\u001B[0m \u001B[32m━━━━━━━━━━━━━━━━━━━━\u001B[0m\u001B[37m\u001B[0m \u001B[1m11s\u001B[0m 7ms/step - accuracy: 0.2505 - loss: 2.6367 - top-5-accuracy: 0.6674 - val_accuracy: 0.2328 - val_loss: 2.7258 - val_top-5-accuracy: 0.6395 - learning_rate: 0.0010\n",
      "Epoch 8/200\n",
      "\u001B[1m1648/1648\u001B[0m \u001B[32m━━━━━━━━━━━━━━━━━━━━\u001B[0m\u001B[37m\u001B[0m \u001B[1m11s\u001B[0m 7ms/step - accuracy: 0.3152 - loss: 2.4520 - top-5-accuracy: 0.7367 - val_accuracy: 0.2612 - val_loss: 2.6824 - val_top-5-accuracy: 0.6753 - learning_rate: 0.0010\n",
      "Epoch 9/200\n",
      "\u001B[1m1648/1648\u001B[0m \u001B[32m━━━━━━━━━━━━━━━━━━━━\u001B[0m\u001B[37m\u001B[0m \u001B[1m11s\u001B[0m 6ms/step - accuracy: 0.3645 - loss: 2.3036 - top-5-accuracy: 0.7869 - val_accuracy: 0.3032 - val_loss: 2.6316 - val_top-5-accuracy: 0.6770 - learning_rate: 0.0010\n",
      "Epoch 10/200\n",
      "\u001B[1m1648/1648\u001B[0m \u001B[32m━━━━━━━━━━━━━━━━━━━━\u001B[0m\u001B[37m\u001B[0m \u001B[1m11s\u001B[0m 6ms/step - accuracy: 0.4097 - loss: 2.1982 - top-5-accuracy: 0.8126 - val_accuracy: 0.3267 - val_loss: 2.4720 - val_top-5-accuracy: 0.7289 - learning_rate: 0.0010\n",
      "Epoch 11/200\n",
      "\u001B[1m1648/1648\u001B[0m \u001B[32m━━━━━━━━━━━━━━━━━━━━\u001B[0m\u001B[37m\u001B[0m \u001B[1m11s\u001B[0m 7ms/step - accuracy: 0.4538 - loss: 2.0783 - top-5-accuracy: 0.8465 - val_accuracy: 0.3544 - val_loss: 2.3951 - val_top-5-accuracy: 0.7576 - learning_rate: 0.0010\n",
      "Epoch 12/200\n",
      "\u001B[1m1648/1648\u001B[0m \u001B[32m━━━━━━━━━━━━━━━━━━━━\u001B[0m\u001B[37m\u001B[0m \u001B[1m11s\u001B[0m 6ms/step - accuracy: 0.4898 - loss: 1.9884 - top-5-accuracy: 0.8688 - val_accuracy: 0.3701 - val_loss: 2.3563 - val_top-5-accuracy: 0.7723 - learning_rate: 0.0010\n",
      "Epoch 13/200\n",
      "\u001B[1m1648/1648\u001B[0m \u001B[32m━━━━━━━━━━━━━━━━━━━━\u001B[0m\u001B[37m\u001B[0m \u001B[1m11s\u001B[0m 6ms/step - accuracy: 0.5239 - loss: 1.8943 - top-5-accuracy: 0.8887 - val_accuracy: 0.4319 - val_loss: 2.1757 - val_top-5-accuracy: 0.8126 - learning_rate: 0.0010\n",
      "Epoch 14/200\n",
      "\u001B[1m1648/1648\u001B[0m \u001B[32m━━━━━━━━━━━━━━━━━━━━\u001B[0m\u001B[37m\u001B[0m \u001B[1m11s\u001B[0m 7ms/step - accuracy: 0.5674 - loss: 1.8039 - top-5-accuracy: 0.9076 - val_accuracy: 0.4531 - val_loss: 2.1814 - val_top-5-accuracy: 0.8143 - learning_rate: 0.0010\n",
      "Epoch 15/200\n",
      "\u001B[1m1648/1648\u001B[0m \u001B[32m━━━━━━━━━━━━━━━━━━━━\u001B[0m\u001B[37m\u001B[0m \u001B[1m11s\u001B[0m 7ms/step - accuracy: 0.5965 - loss: 1.7229 - top-5-accuracy: 0.9188 - val_accuracy: 0.4404 - val_loss: 2.2154 - val_top-5-accuracy: 0.8081 - learning_rate: 0.0010\n",
      "Epoch 16/200\n",
      "\u001B[1m1648/1648\u001B[0m \u001B[32m━━━━━━━━━━━━━━━━━━━━\u001B[0m\u001B[37m\u001B[0m \u001B[1m11s\u001B[0m 6ms/step - accuracy: 0.6196 - loss: 1.6730 - top-5-accuracy: 0.9278 - val_accuracy: 0.4507 - val_loss: 2.1693 - val_top-5-accuracy: 0.8225 - learning_rate: 0.0010\n",
      "Epoch 17/200\n",
      "\u001B[1m1648/1648\u001B[0m \u001B[32m━━━━━━━━━━━━━━━━━━━━\u001B[0m\u001B[37m\u001B[0m \u001B[1m11s\u001B[0m 6ms/step - accuracy: 0.6494 - loss: 1.6038 - top-5-accuracy: 0.9356 - val_accuracy: 0.4923 - val_loss: 2.0300 - val_top-5-accuracy: 0.8464 - learning_rate: 0.0010\n",
      "Epoch 18/200\n",
      "\u001B[1m1648/1648\u001B[0m \u001B[32m━━━━━━━━━━━━━━━━━━━━\u001B[0m\u001B[37m\u001B[0m \u001B[1m11s\u001B[0m 6ms/step - accuracy: 0.6650 - loss: 1.5577 - top-5-accuracy: 0.9457 - val_accuracy: 0.5210 - val_loss: 1.9897 - val_top-5-accuracy: 0.8556 - learning_rate: 0.0010\n",
      "Epoch 19/200\n",
      "\u001B[1m1648/1648\u001B[0m \u001B[32m━━━━━━━━━━━━━━━━━━━━\u001B[0m\u001B[37m\u001B[0m \u001B[1m11s\u001B[0m 7ms/step - accuracy: 0.6803 - loss: 1.5190 - top-5-accuracy: 0.9505 - val_accuracy: 0.5439 - val_loss: 1.9543 - val_top-5-accuracy: 0.8692 - learning_rate: 0.0010\n",
      "Epoch 20/200\n",
      "\u001B[1m1648/1648\u001B[0m \u001B[32m━━━━━━━━━━━━━━━━━━━━\u001B[0m\u001B[37m\u001B[0m \u001B[1m11s\u001B[0m 6ms/step - accuracy: 0.7023 - loss: 1.4617 - top-5-accuracy: 0.9557 - val_accuracy: 0.5425 - val_loss: 1.9225 - val_top-5-accuracy: 0.8648 - learning_rate: 0.0010\n",
      "Epoch 21/200\n",
      "\u001B[1m1648/1648\u001B[0m \u001B[32m━━━━━━━━━━━━━━━━━━━━\u001B[0m\u001B[37m\u001B[0m \u001B[1m11s\u001B[0m 6ms/step - accuracy: 0.7244 - loss: 1.4172 - top-5-accuracy: 0.9626 - val_accuracy: 0.5067 - val_loss: 1.9681 - val_top-5-accuracy: 0.8621 - learning_rate: 0.0010\n",
      "Epoch 22/200\n",
      "\u001B[1m1648/1648\u001B[0m \u001B[32m━━━━━━━━━━━━━━━━━━━━\u001B[0m\u001B[37m\u001B[0m \u001B[1m11s\u001B[0m 6ms/step - accuracy: 0.7387 - loss: 1.3840 - top-5-accuracy: 0.9640 - val_accuracy: 0.5435 - val_loss: 1.9109 - val_top-5-accuracy: 0.8709 - learning_rate: 0.0010\n",
      "Epoch 23/200\n",
      "\u001B[1m1648/1648\u001B[0m \u001B[32m━━━━━━━━━━━━━━━━━━━━\u001B[0m\u001B[37m\u001B[0m \u001B[1m11s\u001B[0m 6ms/step - accuracy: 0.7522 - loss: 1.3542 - top-5-accuracy: 0.9642 - val_accuracy: 0.5609 - val_loss: 1.8838 - val_top-5-accuracy: 0.8791 - learning_rate: 0.0010\n",
      "Epoch 24/200\n",
      "\u001B[1m1648/1648\u001B[0m \u001B[32m━━━━━━━━━━━━━━━━━━━━\u001B[0m\u001B[37m\u001B[0m \u001B[1m11s\u001B[0m 6ms/step - accuracy: 0.7630 - loss: 1.3302 - top-5-accuracy: 0.9688 - val_accuracy: 0.5804 - val_loss: 1.8144 - val_top-5-accuracy: 0.8904 - learning_rate: 0.0010\n",
      "Epoch 25/200\n",
      "\u001B[1m1648/1648\u001B[0m \u001B[32m━━━━━━━━━━━━━━━━━━━━\u001B[0m\u001B[37m\u001B[0m \u001B[1m11s\u001B[0m 6ms/step - accuracy: 0.7752 - loss: 1.2987 - top-5-accuracy: 0.9710 - val_accuracy: 0.6057 - val_loss: 1.7694 - val_top-5-accuracy: 0.9017 - learning_rate: 0.0010\n",
      "Epoch 26/200\n",
      "\u001B[1m1648/1648\u001B[0m \u001B[32m━━━━━━━━━━━━━━━━━━━━\u001B[0m\u001B[37m\u001B[0m \u001B[1m11s\u001B[0m 6ms/step - accuracy: 0.7805 - loss: 1.2765 - top-5-accuracy: 0.9734 - val_accuracy: 0.5667 - val_loss: 1.8478 - val_top-5-accuracy: 0.8918 - learning_rate: 0.0010\n",
      "Epoch 27/200\n",
      "\u001B[1m1648/1648\u001B[0m \u001B[32m━━━━━━━━━━━━━━━━━━━━\u001B[0m\u001B[37m\u001B[0m \u001B[1m11s\u001B[0m 6ms/step - accuracy: 0.7981 - loss: 1.2511 - top-5-accuracy: 0.9752 - val_accuracy: 0.6108 - val_loss: 1.7419 - val_top-5-accuracy: 0.8938 - learning_rate: 0.0010\n",
      "Epoch 28/200\n",
      "\u001B[1m1648/1648\u001B[0m \u001B[32m━━━━━━━━━━━━━━━━━━━━\u001B[0m\u001B[37m\u001B[0m \u001B[1m11s\u001B[0m 6ms/step - accuracy: 0.7998 - loss: 1.2377 - top-5-accuracy: 0.9772 - val_accuracy: 0.5777 - val_loss: 1.8387 - val_top-5-accuracy: 0.8904 - learning_rate: 0.0010\n",
      "Epoch 29/200\n",
      "\u001B[1m1648/1648\u001B[0m \u001B[32m━━━━━━━━━━━━━━━━━━━━\u001B[0m\u001B[37m\u001B[0m \u001B[1m11s\u001B[0m 6ms/step - accuracy: 0.8165 - loss: 1.2018 - top-5-accuracy: 0.9796 - val_accuracy: 0.6313 - val_loss: 1.6961 - val_top-5-accuracy: 0.9044 - learning_rate: 0.0010\n",
      "Epoch 30/200\n",
      "\u001B[1m1648/1648\u001B[0m \u001B[32m━━━━━━━━━━━━━━━━━━━━\u001B[0m\u001B[37m\u001B[0m \u001B[1m11s\u001B[0m 6ms/step - accuracy: 0.8229 - loss: 1.1861 - top-5-accuracy: 0.9802 - val_accuracy: 0.6340 - val_loss: 1.6878 - val_top-5-accuracy: 0.9037 - learning_rate: 0.0010\n",
      "Epoch 31/200\n",
      "\u001B[1m1648/1648\u001B[0m \u001B[32m━━━━━━━━━━━━━━━━━━━━\u001B[0m\u001B[37m\u001B[0m \u001B[1m11s\u001B[0m 6ms/step - accuracy: 0.8281 - loss: 1.1667 - top-5-accuracy: 0.9827 - val_accuracy: 0.6282 - val_loss: 1.6729 - val_top-5-accuracy: 0.9153 - learning_rate: 0.0010\n",
      "Epoch 32/200\n",
      "\u001B[1m1648/1648\u001B[0m \u001B[32m━━━━━━━━━━━━━━━━━━━━\u001B[0m\u001B[37m\u001B[0m \u001B[1m11s\u001B[0m 6ms/step - accuracy: 0.8405 - loss: 1.1360 - top-5-accuracy: 0.9842 - val_accuracy: 0.6354 - val_loss: 1.6956 - val_top-5-accuracy: 0.9068 - learning_rate: 0.0010\n",
      "Epoch 33/200\n",
      "\u001B[1m1648/1648\u001B[0m \u001B[32m━━━━━━━━━━━━━━━━━━━━\u001B[0m\u001B[37m\u001B[0m \u001B[1m11s\u001B[0m 6ms/step - accuracy: 0.8357 - loss: 1.1538 - top-5-accuracy: 0.9836 - val_accuracy: 0.6562 - val_loss: 1.6638 - val_top-5-accuracy: 0.9105 - learning_rate: 0.0010\n",
      "Epoch 34/200\n",
      "\u001B[1m1648/1648\u001B[0m \u001B[32m━━━━━━━━━━━━━━━━━━━━\u001B[0m\u001B[37m\u001B[0m \u001B[1m11s\u001B[0m 6ms/step - accuracy: 0.8513 - loss: 1.1134 - top-5-accuracy: 0.9859 - val_accuracy: 0.6562 - val_loss: 1.6759 - val_top-5-accuracy: 0.9136 - learning_rate: 0.0010\n",
      "Epoch 35/200\n",
      "\u001B[1m1648/1648\u001B[0m \u001B[32m━━━━━━━━━━━━━━━━━━━━\u001B[0m\u001B[37m\u001B[0m \u001B[1m11s\u001B[0m 6ms/step - accuracy: 0.8563 - loss: 1.0942 - top-5-accuracy: 0.9878 - val_accuracy: 0.6323 - val_loss: 1.7168 - val_top-5-accuracy: 0.9105 - learning_rate: 0.0010\n",
      "Epoch 36/200\n",
      "\u001B[1m1648/1648\u001B[0m \u001B[32m━━━━━━━━━━━━━━━━━━━━\u001B[0m\u001B[37m\u001B[0m \u001B[1m11s\u001B[0m 6ms/step - accuracy: 0.8538 - loss: 1.1039 - top-5-accuracy: 0.9861 - val_accuracy: 0.6425 - val_loss: 1.6762 - val_top-5-accuracy: 0.9109 - learning_rate: 0.0010\n",
      "Epoch 37/200\n",
      "\u001B[1m1648/1648\u001B[0m \u001B[32m━━━━━━━━━━━━━━━━━━━━\u001B[0m\u001B[37m\u001B[0m \u001B[1m11s\u001B[0m 6ms/step - accuracy: 0.8972 - loss: 0.9973 - top-5-accuracy: 0.9926 - val_accuracy: 0.7576 - val_loss: 1.3767 - val_top-5-accuracy: 0.9457 - learning_rate: 1.0000e-04\n",
      "Epoch 38/200\n",
      "\u001B[1m1648/1648\u001B[0m \u001B[32m━━━━━━━━━━━━━━━━━━━━\u001B[0m\u001B[37m\u001B[0m \u001B[1m11s\u001B[0m 6ms/step - accuracy: 0.9306 - loss: 0.9152 - top-5-accuracy: 0.9957 - val_accuracy: 0.7637 - val_loss: 1.3587 - val_top-5-accuracy: 0.9484 - learning_rate: 1.0000e-04\n",
      "Epoch 39/200\n",
      "\u001B[1m1648/1648\u001B[0m \u001B[32m━━━━━━━━━━━━━━━━━━━━\u001B[0m\u001B[37m\u001B[0m \u001B[1m11s\u001B[0m 6ms/step - accuracy: 0.9410 - loss: 0.8892 - top-5-accuracy: 0.9960 - val_accuracy: 0.7805 - val_loss: 1.3342 - val_top-5-accuracy: 0.9508 - learning_rate: 1.0000e-04\n",
      "Epoch 40/200\n",
      "\u001B[1m1648/1648\u001B[0m \u001B[32m━━━━━━━━━━━━━━━━━━━━\u001B[0m\u001B[37m\u001B[0m \u001B[1m11s\u001B[0m 6ms/step - accuracy: 0.9461 - loss: 0.8737 - top-5-accuracy: 0.9971 - val_accuracy: 0.7839 - val_loss: 1.3178 - val_top-5-accuracy: 0.9539 - learning_rate: 1.0000e-04\n",
      "Epoch 41/200\n",
      "\u001B[1m1648/1648\u001B[0m \u001B[32m━━━━━━━━━━━━━━━━━━━━\u001B[0m\u001B[37m\u001B[0m \u001B[1m11s\u001B[0m 6ms/step - accuracy: 0.9478 - loss: 0.8617 - top-5-accuracy: 0.9972 - val_accuracy: 0.7842 - val_loss: 1.3163 - val_top-5-accuracy: 0.9532 - learning_rate: 1.0000e-04\n",
      "Epoch 42/200\n",
      "\u001B[1m1648/1648\u001B[0m \u001B[32m━━━━━━━━━━━━━━━━━━━━\u001B[0m\u001B[37m\u001B[0m \u001B[1m11s\u001B[0m 6ms/step - accuracy: 0.9512 - loss: 0.8534 - top-5-accuracy: 0.9972 - val_accuracy: 0.7904 - val_loss: 1.2960 - val_top-5-accuracy: 0.9573 - learning_rate: 1.0000e-04\n",
      "Epoch 43/200\n",
      "\u001B[1m1648/1648\u001B[0m \u001B[32m━━━━━━━━━━━━━━━━━━━━\u001B[0m\u001B[37m\u001B[0m \u001B[1m11s\u001B[0m 6ms/step - accuracy: 0.9562 - loss: 0.8455 - top-5-accuracy: 0.9979 - val_accuracy: 0.7975 - val_loss: 1.2905 - val_top-5-accuracy: 0.9597 - learning_rate: 1.0000e-04\n",
      "Epoch 44/200\n",
      "\u001B[1m1648/1648\u001B[0m \u001B[32m━━━━━━━━━━━━━━━━━━━━\u001B[0m\u001B[37m\u001B[0m \u001B[1m11s\u001B[0m 6ms/step - accuracy: 0.9576 - loss: 0.8401 - top-5-accuracy: 0.9978 - val_accuracy: 0.7948 - val_loss: 1.2970 - val_top-5-accuracy: 0.9580 - learning_rate: 1.0000e-04\n",
      "Epoch 45/200\n",
      "\u001B[1m1648/1648\u001B[0m \u001B[32m━━━━━━━━━━━━━━━━━━━━\u001B[0m\u001B[37m\u001B[0m \u001B[1m11s\u001B[0m 6ms/step - accuracy: 0.9603 - loss: 0.8333 - top-5-accuracy: 0.9978 - val_accuracy: 0.7955 - val_loss: 1.2905 - val_top-5-accuracy: 0.9583 - learning_rate: 1.0000e-04\n",
      "Epoch 46/200\n",
      "\u001B[1m1648/1648\u001B[0m \u001B[32m━━━━━━━━━━━━━━━━━━━━\u001B[0m\u001B[37m\u001B[0m \u001B[1m11s\u001B[0m 6ms/step - accuracy: 0.9627 - loss: 0.8284 - top-5-accuracy: 0.9980 - val_accuracy: 0.7958 - val_loss: 1.2912 - val_top-5-accuracy: 0.9563 - learning_rate: 1.0000e-04\n",
      "Epoch 47/200\n",
      "\u001B[1m1648/1648\u001B[0m \u001B[32m━━━━━━━━━━━━━━━━━━━━\u001B[0m\u001B[37m\u001B[0m \u001B[1m11s\u001B[0m 6ms/step - accuracy: 0.9649 - loss: 0.8228 - top-5-accuracy: 0.9984 - val_accuracy: 0.7952 - val_loss: 1.2946 - val_top-5-accuracy: 0.9573 - learning_rate: 1.0000e-05\n",
      "Epoch 48/200\n",
      "\u001B[1m1648/1648\u001B[0m \u001B[32m━━━━━━━━━━━━━━━━━━━━\u001B[0m\u001B[37m\u001B[0m \u001B[1m11s\u001B[0m 6ms/step - accuracy: 0.9657 - loss: 0.8184 - top-5-accuracy: 0.9984 - val_accuracy: 0.7975 - val_loss: 1.2841 - val_top-5-accuracy: 0.9583 - learning_rate: 1.0000e-05\n",
      "Epoch 49/200\n",
      "\u001B[1m1648/1648\u001B[0m \u001B[32m━━━━━━━━━━━━━━━━━━━━\u001B[0m\u001B[37m\u001B[0m \u001B[1m11s\u001B[0m 6ms/step - accuracy: 0.9663 - loss: 0.8150 - top-5-accuracy: 0.9987 - val_accuracy: 0.7982 - val_loss: 1.2847 - val_top-5-accuracy: 0.9577 - learning_rate: 1.0000e-05\n",
      "Epoch 50/200\n",
      "\u001B[1m1648/1648\u001B[0m \u001B[32m━━━━━━━━━━━━━━━━━━━━\u001B[0m\u001B[37m\u001B[0m \u001B[1m11s\u001B[0m 6ms/step - accuracy: 0.9683 - loss: 0.8139 - top-5-accuracy: 0.9986 - val_accuracy: 0.7965 - val_loss: 1.2859 - val_top-5-accuracy: 0.9580 - learning_rate: 1.0000e-05\n",
      "Epoch 51/200\n",
      "\u001B[1m1648/1648\u001B[0m \u001B[32m━━━━━━━━━━━━━━━━━━━━\u001B[0m\u001B[37m\u001B[0m \u001B[1m11s\u001B[0m 6ms/step - accuracy: 0.9684 - loss: 0.8117 - top-5-accuracy: 0.9982 - val_accuracy: 0.8013 - val_loss: 1.2786 - val_top-5-accuracy: 0.9577 - learning_rate: 1.0000e-05\n",
      "Epoch 52/200\n",
      "\u001B[1m1648/1648\u001B[0m \u001B[32m━━━━━━━━━━━━━━━━━━━━\u001B[0m\u001B[37m\u001B[0m \u001B[1m11s\u001B[0m 6ms/step - accuracy: 0.9702 - loss: 0.8106 - top-5-accuracy: 0.9985 - val_accuracy: 0.8016 - val_loss: 1.2822 - val_top-5-accuracy: 0.9580 - learning_rate: 1.0000e-05\n",
      "Epoch 53/200\n",
      "\u001B[1m1648/1648\u001B[0m \u001B[32m━━━━━━━━━━━━━━━━━━━━\u001B[0m\u001B[37m\u001B[0m \u001B[1m11s\u001B[0m 6ms/step - accuracy: 0.9664 - loss: 0.8127 - top-5-accuracy: 0.9984 - val_accuracy: 0.7996 - val_loss: 1.2836 - val_top-5-accuracy: 0.9583 - learning_rate: 1.0000e-05\n",
      "Epoch 54/200\n",
      "\u001B[1m1648/1648\u001B[0m \u001B[32m━━━━━━━━━━━━━━━━━━━━\u001B[0m\u001B[37m\u001B[0m \u001B[1m11s\u001B[0m 6ms/step - accuracy: 0.9688 - loss: 0.8066 - top-5-accuracy: 0.9982 - val_accuracy: 0.7999 - val_loss: 1.2798 - val_top-5-accuracy: 0.9594 - learning_rate: 1.0000e-05\n",
      "Epoch 55/200\n",
      "\u001B[1m1648/1648\u001B[0m \u001B[32m━━━━━━━━━━━━━━━━━━━━\u001B[0m\u001B[37m\u001B[0m \u001B[1m11s\u001B[0m 6ms/step - accuracy: 0.9680 - loss: 0.8109 - top-5-accuracy: 0.9988 - val_accuracy: 0.8006 - val_loss: 1.2783 - val_top-5-accuracy: 0.9590 - learning_rate: 1.0000e-06\n",
      "Epoch 56/200\n",
      "\u001B[1m1648/1648\u001B[0m \u001B[32m━━━━━━━━━━━━━━━━━━━━\u001B[0m\u001B[37m\u001B[0m \u001B[1m11s\u001B[0m 6ms/step - accuracy: 0.9701 - loss: 0.8073 - top-5-accuracy: 0.9983 - val_accuracy: 0.8020 - val_loss: 1.2775 - val_top-5-accuracy: 0.9587 - learning_rate: 1.0000e-06\n",
      "Epoch 57/200\n",
      "\u001B[1m1648/1648\u001B[0m \u001B[32m━━━━━━━━━━━━━━━━━━━━\u001B[0m\u001B[37m\u001B[0m \u001B[1m11s\u001B[0m 6ms/step - accuracy: 0.9703 - loss: 0.8072 - top-5-accuracy: 0.9983 - val_accuracy: 0.8016 - val_loss: 1.2775 - val_top-5-accuracy: 0.9580 - learning_rate: 1.0000e-06\n",
      "Epoch 58/200\n",
      "\u001B[1m1648/1648\u001B[0m \u001B[32m━━━━━━━━━━━━━━━━━━━━\u001B[0m\u001B[37m\u001B[0m \u001B[1m11s\u001B[0m 6ms/step - accuracy: 0.9687 - loss: 0.8093 - top-5-accuracy: 0.9989 - val_accuracy: 0.8016 - val_loss: 1.2783 - val_top-5-accuracy: 0.9580 - learning_rate: 1.0000e-06\n",
      "Epoch 59/200\n",
      "\u001B[1m1648/1648\u001B[0m \u001B[32m━━━━━━━━━━━━━━━━━━━━\u001B[0m\u001B[37m\u001B[0m \u001B[1m11s\u001B[0m 6ms/step - accuracy: 0.9679 - loss: 0.8086 - top-5-accuracy: 0.9986 - val_accuracy: 0.8016 - val_loss: 1.2782 - val_top-5-accuracy: 0.9577 - learning_rate: 1.0000e-06\n",
      "Epoch 60/200\n",
      "\u001B[1m1648/1648\u001B[0m \u001B[32m━━━━━━━━━━━━━━━━━━━━\u001B[0m\u001B[37m\u001B[0m \u001B[1m11s\u001B[0m 6ms/step - accuracy: 0.9712 - loss: 0.8078 - top-5-accuracy: 0.9988 - val_accuracy: 0.8020 - val_loss: 1.2783 - val_top-5-accuracy: 0.9577 - learning_rate: 1.0000e-07\n",
      "Epoch 61/200\n",
      "\u001B[1m1648/1648\u001B[0m \u001B[32m━━━━━━━━━━━━━━━━━━━━\u001B[0m\u001B[37m\u001B[0m \u001B[1m11s\u001B[0m 6ms/step - accuracy: 0.9696 - loss: 0.8083 - top-5-accuracy: 0.9986 - val_accuracy: 0.8016 - val_loss: 1.2784 - val_top-5-accuracy: 0.9577 - learning_rate: 1.0000e-07\n",
      "Epoch 62/200\n",
      "\u001B[1m1648/1648\u001B[0m \u001B[32m━━━━━━━━━━━━━━━━━━━━\u001B[0m\u001B[37m\u001B[0m \u001B[1m11s\u001B[0m 6ms/step - accuracy: 0.9698 - loss: 0.8090 - top-5-accuracy: 0.9989 - val_accuracy: 0.8016 - val_loss: 1.2786 - val_top-5-accuracy: 0.9577 - learning_rate: 1.0000e-07\n",
      "Epoch 63/200\n",
      "\u001B[1m1648/1648\u001B[0m \u001B[32m━━━━━━━━━━━━━━━━━━━━\u001B[0m\u001B[37m\u001B[0m \u001B[1m11s\u001B[0m 6ms/step - accuracy: 0.9685 - loss: 0.8098 - top-5-accuracy: 0.9987 - val_accuracy: 0.8016 - val_loss: 1.2786 - val_top-5-accuracy: 0.9577 - learning_rate: 1.0000e-08\n"
     ]
    }
   ],
   "source": [
    "reduce_lr = keras.callbacks.ReduceLROnPlateau(monitor='val_loss', factor=0.1, min_delta = 1e-4,\n",
    "                              patience=3, min_lr=1e-10)\n",
    "early_stop = keras.callbacks.EarlyStopping(monitor='val_loss', min_delta=1e-5, patience=7, start_from_epoch=30)\n",
    "tensorboard = keras.callbacks.TensorBoard(log_dir=\"./logs\")\n",
    "checkpoint_filepath = f\"tmp/swin_checkpoint.weights.h5\"\n",
    "checkpoint_callback = keras.callbacks.ModelCheckpoint(\n",
    "        checkpoint_filepath,\n",
    "        monitor=\"val_categorical_accuracy\",\n",
    "        save_best_only=True,\n",
    "        save_weights_only=True,\n",
    "    )\n",
    "\n",
    "callbacks = [reduce_lr, early_stop, tensorboard]\n",
    "\n",
    "model.compile(\n",
    "    loss=keras.losses.CategoricalCrossentropy(label_smoothing=label_smoothing),\n",
    "    optimizer=keras.optimizers.AdamW(\n",
    "        learning_rate=learning_rate, weight_decay=weight_decay\n",
    "    ),\n",
    "    metrics=[\n",
    "        keras.metrics.CategoricalAccuracy(name=\"accuracy\"),\n",
    "        keras.metrics.TopKCategoricalAccuracy(5, name=\"top-5-accuracy\"),\n",
    "    ],\n",
    ")\n",
    "\n",
    "history = model.fit(\n",
    "    dataset,\n",
    "    batch_size=batch_size,\n",
    "    epochs=num_epochs,\n",
    "    validation_data=dataset_val,\n",
    "    callbacks= callbacks\n",
    ")"
   ]
  },
  {
   "cell_type": "markdown",
   "metadata": {
    "id": "G0tjffc-3zGK"
   },
   "source": [
    "Let's visualize the training progress of the model."
   ]
  },
  {
   "cell_type": "code",
   "execution_count": 15,
   "metadata": {
    "id": "R-rFCLv53zGK",
    "ExecuteTime": {
     "end_time": "2024-02-01T12:00:38.064002524Z",
     "start_time": "2024-02-01T12:00:37.983909318Z"
    }
   },
   "outputs": [
    {
     "data": {
      "text/plain": "<Figure size 640x480 with 1 Axes>",
      "image/png": "[encoded data removed]"
     },
     "metadata": {},
     "output_type": "display_data"
    }
   ],
   "source": [
    "plt.plot(history.history[\"loss\"], label=\"train_loss\")\n",
    "plt.plot(history.history[\"val_loss\"], label=\"val_loss\")\n",
    "plt.xlabel(\"Epochs\")\n",
    "plt.ylabel(\"Loss\")\n",
    "plt.title(\"Train and Validation Losses Over Epochs\", fontsize=14)\n",
    "plt.legend()\n",
    "plt.grid()\n",
    "plt.show()"
   ]
  },
  {
   "cell_type": "code",
   "execution_count": 16,
   "metadata": {
    "id": "rh2icBYn3zGK",
    "ExecuteTime": {
     "end_time": "2024-02-01T12:00:38.066503814Z",
     "start_time": "2024-02-01T12:00:38.062869986Z"
    }
   },
   "outputs": [],
   "source": [
    "# loss, accuracy, top_5_accuracy = model.evaluate(dataset_test)\n",
    "# print(f\"Test loss: {round(loss, 2)}\")\n",
    "# print(f\"Test accuracy: {round(accuracy * 100, 2)}%\")\n",
    "# print(f\"Test top 5 accuracy: {round(top_5_accuracy * 100, 2)}%\")"
   ]
  },
  {
   "cell_type": "code",
   "outputs": [],
   "source": [
    "model.save('models/swin.keras')\n",
    "model.save_weights('models/swin.weights.h5')"
   ],
   "metadata": {
    "collapsed": false,
    "ExecuteTime": {
     "end_time": "2024-02-01T13:24:10.896812292Z",
     "start_time": "2024-02-01T13:24:10.757408203Z"
    }
   },
   "execution_count": 46
  },
  {
   "cell_type": "code",
   "outputs": [],
   "source": [
    "# keras.utils.plot_model(model,'models/swin.jpg')"
   ],
   "metadata": {
    "collapsed": false,
    "ExecuteTime": {
     "end_time": "2024-02-01T12:00:38.122677171Z",
     "start_time": "2024-02-01T12:00:38.070728142Z"
    }
   },
   "execution_count": 18
  },
  {
   "cell_type": "code",
   "outputs": [],
   "source": [
    "# model.load_weights('tmp/checkpoint81.weights.h5')"
   ],
   "metadata": {
    "collapsed": false,
    "ExecuteTime": {
     "end_time": "2024-02-01T12:00:38.123442420Z",
     "start_time": "2024-02-01T12:00:38.113387355Z"
    }
   },
   "execution_count": 19
  },
  {
   "cell_type": "markdown",
   "source": [
    "# Load other models to compare"
   ],
   "metadata": {
    "collapsed": false
   }
  },
  {
   "cell_type": "code",
   "outputs": [],
   "source": [
    "ViT = keras.saving.load_model('models/vit_letter_recognizer.keras')\n",
    "ViT.compile(\n",
    "    loss=keras.losses.CategoricalCrossentropy(label_smoothing=label_smoothing),\n",
    "    optimizer=keras.optimizers.AdamW(\n",
    "        learning_rate=learning_rate, weight_decay=weight_decay\n",
    "    ),\n",
    "    metrics=[\n",
    "        keras.metrics.CategoricalAccuracy(name=\"accuracy\"),\n",
    "        keras.metrics.TopKCategoricalAccuracy(5, name=\"top-5-accuracy\"),\n",
    "    ],\n",
    ")"
   ],
   "metadata": {
    "collapsed": false,
    "ExecuteTime": {
     "end_time": "2024-02-01T12:00:38.994327771Z",
     "start_time": "2024-02-01T12:00:38.113850024Z"
    }
   },
   "execution_count": 20
  },
  {
   "cell_type": "code",
   "outputs": [],
   "source": [
    "CNN = keras.saving.load_model('models/conv_letter_recognizer.keras')\n",
    "CNN.compile(\n",
    "    loss=keras.losses.CategoricalCrossentropy(label_smoothing=label_smoothing),\n",
    "    optimizer=keras.optimizers.AdamW(\n",
    "        learning_rate=learning_rate, weight_decay=weight_decay\n",
    "    ),\n",
    "    metrics=[\n",
    "        keras.metrics.CategoricalAccuracy(name=\"accuracy\"),\n",
    "        keras.metrics.TopKCategoricalAccuracy(5, name=\"top-5-accuracy\"),\n",
    "    ],\n",
    ")"
   ],
   "metadata": {
    "collapsed": false,
    "ExecuteTime": {
     "end_time": "2024-02-01T13:20:38.136714144Z",
     "start_time": "2024-02-01T13:20:37.365281308Z"
    }
   },
   "execution_count": 41
  },
  {
   "cell_type": "code",
   "outputs": [],
   "source": [
    "models = [CNN, ViT]"
   ],
   "metadata": {
    "collapsed": false,
    "ExecuteTime": {
     "end_time": "2024-02-01T13:20:39.428066330Z",
     "start_time": "2024-02-01T13:20:39.416833286Z"
    }
   },
   "execution_count": 42
  },
  {
   "cell_type": "code",
   "outputs": [
    {
     "name": "stdout",
     "output_type": "stream",
     "text": [
      "\u001B[1m88/88\u001B[0m \u001B[32m━━━━━━━━━━━━━━━━━━━━\u001B[0m\u001B[37m\u001B[0m \u001B[1m1s\u001B[0m 4ms/step - accuracy: 0.1437 - loss: 3.4287 - top-5-accuracy: 0.4113\n",
      "\u001B[1m88/88\u001B[0m \u001B[32m━━━━━━━━━━━━━━━━━━━━\u001B[0m\u001B[37m\u001B[0m \u001B[1m0s\u001B[0m 2ms/step - accuracy: 0.8822 - loss: 1.9255 - top-5-accuracy: 0.9570\n",
      "\u001B[1m175/175\u001B[0m \u001B[32m━━━━━━━━━━━━━━━━━━━━\u001B[0m\u001B[37m\u001B[0m \u001B[1m0s\u001B[0m 1ms/step - accuracy: 0.9242 - loss: 0.9550 - top-5-accuracy: 0.9830\n"
     ]
    },
    {
     "data": {
      "text/plain": "[[3.4349968433380127, 0.1345050185918808, 0.3927546739578247],\n [2.431652307510376, 0.7758249640464783, 0.9031563997268677],\n [1.1309446096420288, 0.8644189238548279, 0.9623385667800903]]"
     },
     "execution_count": 43,
     "metadata": {},
     "output_type": "execute_result"
    }
   ],
   "source": [
    "evals = []\n",
    "for m in models: \n",
    "    evals.append(m.evaluate(test_x_data, test_y_data))\n",
    "evals.append(model.evaluate(dataset_test))\n",
    "evals"
   ],
   "metadata": {
    "collapsed": false,
    "ExecuteTime": {
     "end_time": "2024-02-01T13:20:43.067499725Z",
     "start_time": "2024-02-01T13:20:41.572077877Z"
    }
   },
   "execution_count": 43
  },
  {
   "cell_type": "code",
   "outputs": [
    {
     "name": "stdout",
     "output_type": "stream",
     "text": [
      "\u001B[1m88/88\u001B[0m \u001B[32m━━━━━━━━━━━━━━━━━━━━\u001B[0m\u001B[37m\u001B[0m \u001B[1m0s\u001B[0m 1ms/step\n",
      "\u001B[1m88/88\u001B[0m \u001B[32m━━━━━━━━━━━━━━━━━━━━\u001B[0m\u001B[37m\u001B[0m \u001B[1m0s\u001B[0m 1ms/step\n",
      "\u001B[1m175/175\u001B[0m \u001B[32m━━━━━━━━━━━━━━━━━━━━\u001B[0m\u001B[37m\u001B[0m \u001B[1m2s\u001B[0m 5ms/step\n"
     ]
    }
   ],
   "source": [
    "preds = []\n",
    "\n",
    "for m in models: \n",
    "    preds.append(m.predict(test_x_data))\n",
    "preds.append(model.predict(dataset_test))"
   ],
   "metadata": {
    "collapsed": false,
    "ExecuteTime": {
     "end_time": "2024-02-01T12:46:43.679165172Z",
     "start_time": "2024-02-01T12:46:41.468839576Z"
    }
   },
   "execution_count": 28
  },
  {
   "cell_type": "code",
   "outputs": [
    {
     "data": {
      "text/plain": "(2788, 32, 32, 1)"
     },
     "execution_count": 29,
     "metadata": {},
     "output_type": "execute_result"
    }
   ],
   "source": [
    "test_x_data.shape"
   ],
   "metadata": {
    "collapsed": false,
    "ExecuteTime": {
     "end_time": "2024-02-01T12:47:48.285352876Z",
     "start_time": "2024-02-01T12:47:48.244192700Z"
    }
   },
   "execution_count": 29
  },
  {
   "cell_type": "code",
   "outputs": [
    {
     "data": {
      "text/plain": "\u001B[1mModel: \"functional_1\"\u001B[0m\n",
      "text/html": "<pre style=\"white-space:pre;overflow-x:auto;line-height:normal;font-family:Menlo,'DejaVu Sans Mono',consolas,'Courier New',monospace\"><span style=\"font-weight: bold\">Model: \"functional_1\"</span>\n</pre>\n"
     },
     "metadata": {},
     "output_type": "display_data"
    },
    {
     "data": {
      "text/plain": "┏━━━━━━━━━━━━━━━━━━━━━━━━━━━━━━━━━┳━━━━━━━━━━━━━━━━━━━━━━━━━━━┳━━━━━━━━━━━━┓\n┃\u001B[1m \u001B[0m\u001B[1mLayer (type)                   \u001B[0m\u001B[1m \u001B[0m┃\u001B[1m \u001B[0m\u001B[1mOutput Shape             \u001B[0m\u001B[1m \u001B[0m┃\u001B[1m \u001B[0m\u001B[1m   Param #\u001B[0m\u001B[1m \u001B[0m┃\n┡━━━━━━━━━━━━━━━━━━━━━━━━━━━━━━━━━╇━━━━━━━━━━━━━━━━━━━━━━━━━━━╇━━━━━━━━━━━━┩\n│ inputs (\u001B[38;5;33mInputLayer\u001B[0m)             │ (\u001B[38;5;45mNone\u001B[0m, \u001B[38;5;34m32\u001B[0m, \u001B[38;5;34m32\u001B[0m, \u001B[38;5;34m1\u001B[0m)         │          \u001B[38;5;34m0\u001B[0m │\n├─────────────────────────────────┼───────────────────────────┼────────────┤\n│ conv2d (\u001B[38;5;33mConv2D\u001B[0m)                 │ (\u001B[38;5;45mNone\u001B[0m, \u001B[38;5;34m32\u001B[0m, \u001B[38;5;34m32\u001B[0m, \u001B[38;5;34m128\u001B[0m)       │      \u001B[38;5;34m1,280\u001B[0m │\n├─────────────────────────────────┼───────────────────────────┼────────────┤\n│ max_pooling2d (\u001B[38;5;33mMaxPooling2D\u001B[0m)    │ (\u001B[38;5;45mNone\u001B[0m, \u001B[38;5;34m16\u001B[0m, \u001B[38;5;34m16\u001B[0m, \u001B[38;5;34m128\u001B[0m)       │          \u001B[38;5;34m0\u001B[0m │\n├─────────────────────────────────┼───────────────────────────┼────────────┤\n│ conv2d_1 (\u001B[38;5;33mConv2D\u001B[0m)               │ (\u001B[38;5;45mNone\u001B[0m, \u001B[38;5;34m16\u001B[0m, \u001B[38;5;34m16\u001B[0m, \u001B[38;5;34m256\u001B[0m)       │    \u001B[38;5;34m295,168\u001B[0m │\n├─────────────────────────────────┼───────────────────────────┼────────────┤\n│ max_pooling2d_1 (\u001B[38;5;33mMaxPooling2D\u001B[0m)  │ (\u001B[38;5;45mNone\u001B[0m, \u001B[38;5;34m8\u001B[0m, \u001B[38;5;34m8\u001B[0m, \u001B[38;5;34m256\u001B[0m)         │          \u001B[38;5;34m0\u001B[0m │\n├─────────────────────────────────┼───────────────────────────┼────────────┤\n│ conv2d_2 (\u001B[38;5;33mConv2D\u001B[0m)               │ (\u001B[38;5;45mNone\u001B[0m, \u001B[38;5;34m8\u001B[0m, \u001B[38;5;34m8\u001B[0m, \u001B[38;5;34m512\u001B[0m)         │  \u001B[38;5;34m1,180,160\u001B[0m │\n├─────────────────────────────────┼───────────────────────────┼────────────┤\n│ max_pooling2d_2 (\u001B[38;5;33mMaxPooling2D\u001B[0m)  │ (\u001B[38;5;45mNone\u001B[0m, \u001B[38;5;34m4\u001B[0m, \u001B[38;5;34m4\u001B[0m, \u001B[38;5;34m512\u001B[0m)         │          \u001B[38;5;34m0\u001B[0m │\n├─────────────────────────────────┼───────────────────────────┼────────────┤\n│ flatten (\u001B[38;5;33mFlatten\u001B[0m)               │ (\u001B[38;5;45mNone\u001B[0m, \u001B[38;5;34m8192\u001B[0m)              │          \u001B[38;5;34m0\u001B[0m │\n├─────────────────────────────────┼───────────────────────────┼────────────┤\n│ dense (\u001B[38;5;33mDense\u001B[0m)                   │ (\u001B[38;5;45mNone\u001B[0m, \u001B[38;5;34m1024\u001B[0m)              │  \u001B[38;5;34m8,389,632\u001B[0m │\n├─────────────────────────────────┼───────────────────────────┼────────────┤\n│ dense_1 (\u001B[38;5;33mDense\u001B[0m)                 │ (\u001B[38;5;45mNone\u001B[0m, \u001B[38;5;34m512\u001B[0m)               │    \u001B[38;5;34m524,800\u001B[0m │\n├─────────────────────────────────┼───────────────────────────┼────────────┤\n│ dense_2 (\u001B[38;5;33mDense\u001B[0m)                 │ (\u001B[38;5;45mNone\u001B[0m, \u001B[38;5;34m256\u001B[0m)               │    \u001B[38;5;34m131,328\u001B[0m │\n├─────────────────────────────────┼───────────────────────────┼────────────┤\n│ dense_3 (\u001B[38;5;33mDense\u001B[0m)                 │ (\u001B[38;5;45mNone\u001B[0m, \u001B[38;5;34m33\u001B[0m)                │      \u001B[38;5;34m8,481\u001B[0m │\n└─────────────────────────────────┴───────────────────────────┴────────────┘\n",
      "text/html": "<pre style=\"white-space:pre;overflow-x:auto;line-height:normal;font-family:Menlo,'DejaVu Sans Mono',consolas,'Courier New',monospace\">┏━━━━━━━━━━━━━━━━━━━━━━━━━━━━━━━━━┳━━━━━━━━━━━━━━━━━━━━━━━━━━━┳━━━━━━━━━━━━┓\n┃<span style=\"font-weight: bold\"> Layer (type)                    </span>┃<span style=\"font-weight: bold\"> Output Shape              </span>┃<span style=\"font-weight: bold\">    Param # </span>┃\n┡━━━━━━━━━━━━━━━━━━━━━━━━━━━━━━━━━╇━━━━━━━━━━━━━━━━━━━━━━━━━━━╇━━━━━━━━━━━━┩\n│ inputs (<span style=\"color: #0087ff; text-decoration-color: #0087ff\">InputLayer</span>)             │ (<span style=\"color: #00d7ff; text-decoration-color: #00d7ff\">None</span>, <span style=\"color: #00af00; text-decoration-color: #00af00\">32</span>, <span style=\"color: #00af00; text-decoration-color: #00af00\">32</span>, <span style=\"color: #00af00; text-decoration-color: #00af00\">1</span>)         │          <span style=\"color: #00af00; text-decoration-color: #00af00\">0</span> │\n├─────────────────────────────────┼───────────────────────────┼────────────┤\n│ conv2d (<span style=\"color: #0087ff; text-decoration-color: #0087ff\">Conv2D</span>)                 │ (<span style=\"color: #00d7ff; text-decoration-color: #00d7ff\">None</span>, <span style=\"color: #00af00; text-decoration-color: #00af00\">32</span>, <span style=\"color: #00af00; text-decoration-color: #00af00\">32</span>, <span style=\"color: #00af00; text-decoration-color: #00af00\">128</span>)       │      <span style=\"color: #00af00; text-decoration-color: #00af00\">1,280</span> │\n├─────────────────────────────────┼───────────────────────────┼────────────┤\n│ max_pooling2d (<span style=\"color: #0087ff; text-decoration-color: #0087ff\">MaxPooling2D</span>)    │ (<span style=\"color: #00d7ff; text-decoration-color: #00d7ff\">None</span>, <span style=\"color: #00af00; text-decoration-color: #00af00\">16</span>, <span style=\"color: #00af00; text-decoration-color: #00af00\">16</span>, <span style=\"color: #00af00; text-decoration-color: #00af00\">128</span>)       │          <span style=\"color: #00af00; text-decoration-color: #00af00\">0</span> │\n├─────────────────────────────────┼───────────────────────────┼────────────┤\n│ conv2d_1 (<span style=\"color: #0087ff; text-decoration-color: #0087ff\">Conv2D</span>)               │ (<span style=\"color: #00d7ff; text-decoration-color: #00d7ff\">None</span>, <span style=\"color: #00af00; text-decoration-color: #00af00\">16</span>, <span style=\"color: #00af00; text-decoration-color: #00af00\">16</span>, <span style=\"color: #00af00; text-decoration-color: #00af00\">256</span>)       │    <span style=\"color: #00af00; text-decoration-color: #00af00\">295,168</span> │\n├─────────────────────────────────┼───────────────────────────┼────────────┤\n│ max_pooling2d_1 (<span style=\"color: #0087ff; text-decoration-color: #0087ff\">MaxPooling2D</span>)  │ (<span style=\"color: #00d7ff; text-decoration-color: #00d7ff\">None</span>, <span style=\"color: #00af00; text-decoration-color: #00af00\">8</span>, <span style=\"color: #00af00; text-decoration-color: #00af00\">8</span>, <span style=\"color: #00af00; text-decoration-color: #00af00\">256</span>)         │          <span style=\"color: #00af00; text-decoration-color: #00af00\">0</span> │\n├─────────────────────────────────┼───────────────────────────┼────────────┤\n│ conv2d_2 (<span style=\"color: #0087ff; text-decoration-color: #0087ff\">Conv2D</span>)               │ (<span style=\"color: #00d7ff; text-decoration-color: #00d7ff\">None</span>, <span style=\"color: #00af00; text-decoration-color: #00af00\">8</span>, <span style=\"color: #00af00; text-decoration-color: #00af00\">8</span>, <span style=\"color: #00af00; text-decoration-color: #00af00\">512</span>)         │  <span style=\"color: #00af00; text-decoration-color: #00af00\">1,180,160</span> │\n├─────────────────────────────────┼───────────────────────────┼────────────┤\n│ max_pooling2d_2 (<span style=\"color: #0087ff; text-decoration-color: #0087ff\">MaxPooling2D</span>)  │ (<span style=\"color: #00d7ff; text-decoration-color: #00d7ff\">None</span>, <span style=\"color: #00af00; text-decoration-color: #00af00\">4</span>, <span style=\"color: #00af00; text-decoration-color: #00af00\">4</span>, <span style=\"color: #00af00; text-decoration-color: #00af00\">512</span>)         │          <span style=\"color: #00af00; text-decoration-color: #00af00\">0</span> │\n├─────────────────────────────────┼───────────────────────────┼────────────┤\n│ flatten (<span style=\"color: #0087ff; text-decoration-color: #0087ff\">Flatten</span>)               │ (<span style=\"color: #00d7ff; text-decoration-color: #00d7ff\">None</span>, <span style=\"color: #00af00; text-decoration-color: #00af00\">8192</span>)              │          <span style=\"color: #00af00; text-decoration-color: #00af00\">0</span> │\n├─────────────────────────────────┼───────────────────────────┼────────────┤\n│ dense (<span style=\"color: #0087ff; text-decoration-color: #0087ff\">Dense</span>)                   │ (<span style=\"color: #00d7ff; text-decoration-color: #00d7ff\">None</span>, <span style=\"color: #00af00; text-decoration-color: #00af00\">1024</span>)              │  <span style=\"color: #00af00; text-decoration-color: #00af00\">8,389,632</span> │\n├─────────────────────────────────┼───────────────────────────┼────────────┤\n│ dense_1 (<span style=\"color: #0087ff; text-decoration-color: #0087ff\">Dense</span>)                 │ (<span style=\"color: #00d7ff; text-decoration-color: #00d7ff\">None</span>, <span style=\"color: #00af00; text-decoration-color: #00af00\">512</span>)               │    <span style=\"color: #00af00; text-decoration-color: #00af00\">524,800</span> │\n├─────────────────────────────────┼───────────────────────────┼────────────┤\n│ dense_2 (<span style=\"color: #0087ff; text-decoration-color: #0087ff\">Dense</span>)                 │ (<span style=\"color: #00d7ff; text-decoration-color: #00d7ff\">None</span>, <span style=\"color: #00af00; text-decoration-color: #00af00\">256</span>)               │    <span style=\"color: #00af00; text-decoration-color: #00af00\">131,328</span> │\n├─────────────────────────────────┼───────────────────────────┼────────────┤\n│ dense_3 (<span style=\"color: #0087ff; text-decoration-color: #0087ff\">Dense</span>)                 │ (<span style=\"color: #00d7ff; text-decoration-color: #00d7ff\">None</span>, <span style=\"color: #00af00; text-decoration-color: #00af00\">33</span>)                │      <span style=\"color: #00af00; text-decoration-color: #00af00\">8,481</span> │\n└─────────────────────────────────┴───────────────────────────┴────────────┘\n</pre>\n"
     },
     "metadata": {},
     "output_type": "display_data"
    },
    {
     "data": {
      "text/plain": "\u001B[1m Total params: \u001B[0m\u001B[38;5;34m10,530,849\u001B[0m (40.17 MB)\n",
      "text/html": "<pre style=\"white-space:pre;overflow-x:auto;line-height:normal;font-family:Menlo,'DejaVu Sans Mono',consolas,'Courier New',monospace\"><span style=\"font-weight: bold\"> Total params: </span><span style=\"color: #00af00; text-decoration-color: #00af00\">10,530,849</span> (40.17 MB)\n</pre>\n"
     },
     "metadata": {},
     "output_type": "display_data"
    },
    {
     "data": {
      "text/plain": "\u001B[1m Trainable params: \u001B[0m\u001B[38;5;34m10,530,849\u001B[0m (40.17 MB)\n",
      "text/html": "<pre style=\"white-space:pre;overflow-x:auto;line-height:normal;font-family:Menlo,'DejaVu Sans Mono',consolas,'Courier New',monospace\"><span style=\"font-weight: bold\"> Trainable params: </span><span style=\"color: #00af00; text-decoration-color: #00af00\">10,530,849</span> (40.17 MB)\n</pre>\n"
     },
     "metadata": {},
     "output_type": "display_data"
    },
    {
     "data": {
      "text/plain": "\u001B[1m Non-trainable params: \u001B[0m\u001B[38;5;34m0\u001B[0m (0.00 B)\n",
      "text/html": "<pre style=\"white-space:pre;overflow-x:auto;line-height:normal;font-family:Menlo,'DejaVu Sans Mono',consolas,'Courier New',monospace\"><span style=\"font-weight: bold\"> Non-trainable params: </span><span style=\"color: #00af00; text-decoration-color: #00af00\">0</span> (0.00 B)\n</pre>\n"
     },
     "metadata": {},
     "output_type": "display_data"
    },
    {
     "data": {
      "text/plain": "\u001B[1mModel: \"functional_3\"\u001B[0m\n",
      "text/html": "<pre style=\"white-space:pre;overflow-x:auto;line-height:normal;font-family:Menlo,'DejaVu Sans Mono',consolas,'Courier New',monospace\"><span style=\"font-weight: bold\">Model: \"functional_3\"</span>\n</pre>\n"
     },
     "metadata": {},
     "output_type": "display_data"
    },
    {
     "data": {
      "text/plain": "┏━━━━━━━━━━━━━━━━━━━━━━━━━━━━━━━━━┳━━━━━━━━━━━━━━━━━━━━━━━━━━━┳━━━━━━━━━━━━┓\n┃\u001B[1m \u001B[0m\u001B[1mLayer (type)                   \u001B[0m\u001B[1m \u001B[0m┃\u001B[1m \u001B[0m\u001B[1mOutput Shape             \u001B[0m\u001B[1m \u001B[0m┃\u001B[1m \u001B[0m\u001B[1m   Param #\u001B[0m\u001B[1m \u001B[0m┃\n┡━━━━━━━━━━━━━━━━━━━━━━━━━━━━━━━━━╇━━━━━━━━━━━━━━━━━━━━━━━━━━━╇━━━━━━━━━━━━┩\n│ input_layer (\u001B[38;5;33mInputLayer\u001B[0m)        │ (\u001B[38;5;45mNone\u001B[0m, \u001B[38;5;34m32\u001B[0m, \u001B[38;5;34m32\u001B[0m, \u001B[38;5;34m1\u001B[0m)         │          \u001B[38;5;34m0\u001B[0m │\n├─────────────────────────────────┼───────────────────────────┼────────────┤\n│ reshape (\u001B[38;5;33mReshape\u001B[0m)               │ (\u001B[38;5;45mNone\u001B[0m, \u001B[38;5;34m32\u001B[0m, \u001B[38;5;34m32\u001B[0m)            │          \u001B[38;5;34m0\u001B[0m │\n├─────────────────────────────────┼───────────────────────────┼────────────┤\n│ transformer_encoder             │ (\u001B[38;5;45mNone\u001B[0m, \u001B[38;5;34m32\u001B[0m, \u001B[38;5;34m32\u001B[0m)            │     \u001B[38;5;34m69,896\u001B[0m │\n│ (\u001B[38;5;33mTransformerEncoder\u001B[0m)            │                           │            │\n├─────────────────────────────────┼───────────────────────────┼────────────┤\n│ transformer_encoder_1           │ (\u001B[38;5;45mNone\u001B[0m, \u001B[38;5;34m32\u001B[0m, \u001B[38;5;34m32\u001B[0m)            │     \u001B[38;5;34m69,896\u001B[0m │\n│ (\u001B[38;5;33mTransformerEncoder\u001B[0m)            │                           │            │\n├─────────────────────────────────┼───────────────────────────┼────────────┤\n│ transformer_encoder_2           │ (\u001B[38;5;45mNone\u001B[0m, \u001B[38;5;34m32\u001B[0m, \u001B[38;5;34m32\u001B[0m)            │     \u001B[38;5;34m69,896\u001B[0m │\n│ (\u001B[38;5;33mTransformerEncoder\u001B[0m)            │                           │            │\n├─────────────────────────────────┼───────────────────────────┼────────────┤\n│ transformer_encoder_3           │ (\u001B[38;5;45mNone\u001B[0m, \u001B[38;5;34m32\u001B[0m, \u001B[38;5;34m32\u001B[0m)            │     \u001B[38;5;34m69,896\u001B[0m │\n│ (\u001B[38;5;33mTransformerEncoder\u001B[0m)            │                           │            │\n├─────────────────────────────────┼───────────────────────────┼────────────┤\n│ flatten_1 (\u001B[38;5;33mFlatten\u001B[0m)             │ (\u001B[38;5;45mNone\u001B[0m, \u001B[38;5;34m1024\u001B[0m)              │          \u001B[38;5;34m0\u001B[0m │\n├─────────────────────────────────┼───────────────────────────┼────────────┤\n│ dense_4 (\u001B[38;5;33mDense\u001B[0m)                 │ (\u001B[38;5;45mNone\u001B[0m, \u001B[38;5;34m1024\u001B[0m)              │  \u001B[38;5;34m1,049,600\u001B[0m │\n├─────────────────────────────────┼───────────────────────────┼────────────┤\n│ dense_5 (\u001B[38;5;33mDense\u001B[0m)                 │ (\u001B[38;5;45mNone\u001B[0m, \u001B[38;5;34m512\u001B[0m)               │    \u001B[38;5;34m524,800\u001B[0m │\n├─────────────────────────────────┼───────────────────────────┼────────────┤\n│ dense_6 (\u001B[38;5;33mDense\u001B[0m)                 │ (\u001B[38;5;45mNone\u001B[0m, \u001B[38;5;34m256\u001B[0m)               │    \u001B[38;5;34m131,328\u001B[0m │\n├─────────────────────────────────┼───────────────────────────┼────────────┤\n│ dense_7 (\u001B[38;5;33mDense\u001B[0m)                 │ (\u001B[38;5;45mNone\u001B[0m, \u001B[38;5;34m33\u001B[0m)                │      \u001B[38;5;34m8,481\u001B[0m │\n└─────────────────────────────────┴───────────────────────────┴────────────┘\n",
      "text/html": "<pre style=\"white-space:pre;overflow-x:auto;line-height:normal;font-family:Menlo,'DejaVu Sans Mono',consolas,'Courier New',monospace\">┏━━━━━━━━━━━━━━━━━━━━━━━━━━━━━━━━━┳━━━━━━━━━━━━━━━━━━━━━━━━━━━┳━━━━━━━━━━━━┓\n┃<span style=\"font-weight: bold\"> Layer (type)                    </span>┃<span style=\"font-weight: bold\"> Output Shape              </span>┃<span style=\"font-weight: bold\">    Param # </span>┃\n┡━━━━━━━━━━━━━━━━━━━━━━━━━━━━━━━━━╇━━━━━━━━━━━━━━━━━━━━━━━━━━━╇━━━━━━━━━━━━┩\n│ input_layer (<span style=\"color: #0087ff; text-decoration-color: #0087ff\">InputLayer</span>)        │ (<span style=\"color: #00d7ff; text-decoration-color: #00d7ff\">None</span>, <span style=\"color: #00af00; text-decoration-color: #00af00\">32</span>, <span style=\"color: #00af00; text-decoration-color: #00af00\">32</span>, <span style=\"color: #00af00; text-decoration-color: #00af00\">1</span>)         │          <span style=\"color: #00af00; text-decoration-color: #00af00\">0</span> │\n├─────────────────────────────────┼───────────────────────────┼────────────┤\n│ reshape (<span style=\"color: #0087ff; text-decoration-color: #0087ff\">Reshape</span>)               │ (<span style=\"color: #00d7ff; text-decoration-color: #00d7ff\">None</span>, <span style=\"color: #00af00; text-decoration-color: #00af00\">32</span>, <span style=\"color: #00af00; text-decoration-color: #00af00\">32</span>)            │          <span style=\"color: #00af00; text-decoration-color: #00af00\">0</span> │\n├─────────────────────────────────┼───────────────────────────┼────────────┤\n│ transformer_encoder             │ (<span style=\"color: #00d7ff; text-decoration-color: #00d7ff\">None</span>, <span style=\"color: #00af00; text-decoration-color: #00af00\">32</span>, <span style=\"color: #00af00; text-decoration-color: #00af00\">32</span>)            │     <span style=\"color: #00af00; text-decoration-color: #00af00\">69,896</span> │\n│ (<span style=\"color: #0087ff; text-decoration-color: #0087ff\">TransformerEncoder</span>)            │                           │            │\n├─────────────────────────────────┼───────────────────────────┼────────────┤\n│ transformer_encoder_1           │ (<span style=\"color: #00d7ff; text-decoration-color: #00d7ff\">None</span>, <span style=\"color: #00af00; text-decoration-color: #00af00\">32</span>, <span style=\"color: #00af00; text-decoration-color: #00af00\">32</span>)            │     <span style=\"color: #00af00; text-decoration-color: #00af00\">69,896</span> │\n│ (<span style=\"color: #0087ff; text-decoration-color: #0087ff\">TransformerEncoder</span>)            │                           │            │\n├─────────────────────────────────┼───────────────────────────┼────────────┤\n│ transformer_encoder_2           │ (<span style=\"color: #00d7ff; text-decoration-color: #00d7ff\">None</span>, <span style=\"color: #00af00; text-decoration-color: #00af00\">32</span>, <span style=\"color: #00af00; text-decoration-color: #00af00\">32</span>)            │     <span style=\"color: #00af00; text-decoration-color: #00af00\">69,896</span> │\n│ (<span style=\"color: #0087ff; text-decoration-color: #0087ff\">TransformerEncoder</span>)            │                           │            │\n├─────────────────────────────────┼───────────────────────────┼────────────┤\n│ transformer_encoder_3           │ (<span style=\"color: #00d7ff; text-decoration-color: #00d7ff\">None</span>, <span style=\"color: #00af00; text-decoration-color: #00af00\">32</span>, <span style=\"color: #00af00; text-decoration-color: #00af00\">32</span>)            │     <span style=\"color: #00af00; text-decoration-color: #00af00\">69,896</span> │\n│ (<span style=\"color: #0087ff; text-decoration-color: #0087ff\">TransformerEncoder</span>)            │                           │            │\n├─────────────────────────────────┼───────────────────────────┼────────────┤\n│ flatten_1 (<span style=\"color: #0087ff; text-decoration-color: #0087ff\">Flatten</span>)             │ (<span style=\"color: #00d7ff; text-decoration-color: #00d7ff\">None</span>, <span style=\"color: #00af00; text-decoration-color: #00af00\">1024</span>)              │          <span style=\"color: #00af00; text-decoration-color: #00af00\">0</span> │\n├─────────────────────────────────┼───────────────────────────┼────────────┤\n│ dense_4 (<span style=\"color: #0087ff; text-decoration-color: #0087ff\">Dense</span>)                 │ (<span style=\"color: #00d7ff; text-decoration-color: #00d7ff\">None</span>, <span style=\"color: #00af00; text-decoration-color: #00af00\">1024</span>)              │  <span style=\"color: #00af00; text-decoration-color: #00af00\">1,049,600</span> │\n├─────────────────────────────────┼───────────────────────────┼────────────┤\n│ dense_5 (<span style=\"color: #0087ff; text-decoration-color: #0087ff\">Dense</span>)                 │ (<span style=\"color: #00d7ff; text-decoration-color: #00d7ff\">None</span>, <span style=\"color: #00af00; text-decoration-color: #00af00\">512</span>)               │    <span style=\"color: #00af00; text-decoration-color: #00af00\">524,800</span> │\n├─────────────────────────────────┼───────────────────────────┼────────────┤\n│ dense_6 (<span style=\"color: #0087ff; text-decoration-color: #0087ff\">Dense</span>)                 │ (<span style=\"color: #00d7ff; text-decoration-color: #00d7ff\">None</span>, <span style=\"color: #00af00; text-decoration-color: #00af00\">256</span>)               │    <span style=\"color: #00af00; text-decoration-color: #00af00\">131,328</span> │\n├─────────────────────────────────┼───────────────────────────┼────────────┤\n│ dense_7 (<span style=\"color: #0087ff; text-decoration-color: #0087ff\">Dense</span>)                 │ (<span style=\"color: #00d7ff; text-decoration-color: #00d7ff\">None</span>, <span style=\"color: #00af00; text-decoration-color: #00af00\">33</span>)                │      <span style=\"color: #00af00; text-decoration-color: #00af00\">8,481</span> │\n└─────────────────────────────────┴───────────────────────────┴────────────┘\n</pre>\n"
     },
     "metadata": {},
     "output_type": "display_data"
    },
    {
     "data": {
      "text/plain": "\u001B[1m Total params: \u001B[0m\u001B[38;5;34m1,993,793\u001B[0m (7.61 MB)\n",
      "text/html": "<pre style=\"white-space:pre;overflow-x:auto;line-height:normal;font-family:Menlo,'DejaVu Sans Mono',consolas,'Courier New',monospace\"><span style=\"font-weight: bold\"> Total params: </span><span style=\"color: #00af00; text-decoration-color: #00af00\">1,993,793</span> (7.61 MB)\n</pre>\n"
     },
     "metadata": {},
     "output_type": "display_data"
    },
    {
     "data": {
      "text/plain": "\u001B[1m Trainable params: \u001B[0m\u001B[38;5;34m1,993,793\u001B[0m (7.61 MB)\n",
      "text/html": "<pre style=\"white-space:pre;overflow-x:auto;line-height:normal;font-family:Menlo,'DejaVu Sans Mono',consolas,'Courier New',monospace\"><span style=\"font-weight: bold\"> Trainable params: </span><span style=\"color: #00af00; text-decoration-color: #00af00\">1,993,793</span> (7.61 MB)\n</pre>\n"
     },
     "metadata": {},
     "output_type": "display_data"
    },
    {
     "data": {
      "text/plain": "\u001B[1m Non-trainable params: \u001B[0m\u001B[38;5;34m0\u001B[0m (0.00 B)\n",
      "text/html": "<pre style=\"white-space:pre;overflow-x:auto;line-height:normal;font-family:Menlo,'DejaVu Sans Mono',consolas,'Courier New',monospace\"><span style=\"font-weight: bold\"> Non-trainable params: </span><span style=\"color: #00af00; text-decoration-color: #00af00\">0</span> (0.00 B)\n</pre>\n"
     },
     "metadata": {},
     "output_type": "display_data"
    },
    {
     "data": {
      "text/plain": "\u001B[1mModel: \"functional_3\"\u001B[0m\n",
      "text/html": "<pre style=\"white-space:pre;overflow-x:auto;line-height:normal;font-family:Menlo,'DejaVu Sans Mono',consolas,'Courier New',monospace\"><span style=\"font-weight: bold\">Model: \"functional_3\"</span>\n</pre>\n"
     },
     "metadata": {},
     "output_type": "display_data"
    },
    {
     "data": {
      "text/plain": "┏━━━━━━━━━━━━━━━━━━━━━━━━━━━━━━━━━┳━━━━━━━━━━━━━━━━━━━━━━━━━━━┳━━━━━━━━━━━━┓\n┃\u001B[1m \u001B[0m\u001B[1mLayer (type)                   \u001B[0m\u001B[1m \u001B[0m┃\u001B[1m \u001B[0m\u001B[1mOutput Shape             \u001B[0m\u001B[1m \u001B[0m┃\u001B[1m \u001B[0m\u001B[1m   Param #\u001B[0m\u001B[1m \u001B[0m┃\n┡━━━━━━━━━━━━━━━━━━━━━━━━━━━━━━━━━╇━━━━━━━━━━━━━━━━━━━━━━━━━━━╇━━━━━━━━━━━━┩\n│ input_layer (\u001B[38;5;33mInputLayer\u001B[0m)        │ (\u001B[38;5;45mNone\u001B[0m, \u001B[38;5;34m256\u001B[0m, \u001B[38;5;34m4\u001B[0m)            │          \u001B[38;5;34m0\u001B[0m │\n├─────────────────────────────────┼───────────────────────────┼────────────┤\n│ patch_embedding                 │ (\u001B[38;5;45mNone\u001B[0m, \u001B[38;5;34m256\u001B[0m, \u001B[38;5;34m64\u001B[0m)           │     \u001B[38;5;34m16,704\u001B[0m │\n│ (\u001B[38;5;33mPatchEmbedding\u001B[0m)                │                           │            │\n├─────────────────────────────────┼───────────────────────────┼────────────┤\n│ swin_transformer                │ (\u001B[38;5;45mNone\u001B[0m, \u001B[38;5;34m256\u001B[0m, \u001B[38;5;34m64\u001B[0m)           │     \u001B[38;5;34m50,072\u001B[0m │\n│ (\u001B[38;5;33mSwinTransformer\u001B[0m)               │                           │            │\n├─────────────────────────────────┼───────────────────────────┼────────────┤\n│ swin_transformer_1              │ (\u001B[38;5;45mNone\u001B[0m, \u001B[38;5;34m256\u001B[0m, \u001B[38;5;34m64\u001B[0m)           │     \u001B[38;5;34m51,096\u001B[0m │\n│ (\u001B[38;5;33mSwinTransformer\u001B[0m)               │                           │            │\n├─────────────────────────────────┼───────────────────────────┼────────────┤\n│ patch_merging (\u001B[38;5;33mPatchMerging\u001B[0m)    │ (\u001B[38;5;45mNone\u001B[0m, \u001B[38;5;34m64\u001B[0m, \u001B[38;5;34m128\u001B[0m)           │     \u001B[38;5;34m32,768\u001B[0m │\n├─────────────────────────────────┼───────────────────────────┼────────────┤\n│ global_average_pooling1d        │ (\u001B[38;5;45mNone\u001B[0m, \u001B[38;5;34m128\u001B[0m)               │          \u001B[38;5;34m0\u001B[0m │\n│ (\u001B[38;5;33mGlobalAveragePooling1D\u001B[0m)        │                           │            │\n├─────────────────────────────────┼───────────────────────────┼────────────┤\n│ dense_10 (\u001B[38;5;33mDense\u001B[0m)                │ (\u001B[38;5;45mNone\u001B[0m, \u001B[38;5;34m1024\u001B[0m)              │    \u001B[38;5;34m132,096\u001B[0m │\n├─────────────────────────────────┼───────────────────────────┼────────────┤\n│ dense_11 (\u001B[38;5;33mDense\u001B[0m)                │ (\u001B[38;5;45mNone\u001B[0m, \u001B[38;5;34m512\u001B[0m)               │    \u001B[38;5;34m524,800\u001B[0m │\n├─────────────────────────────────┼───────────────────────────┼────────────┤\n│ dense_12 (\u001B[38;5;33mDense\u001B[0m)                │ (\u001B[38;5;45mNone\u001B[0m, \u001B[38;5;34m256\u001B[0m)               │    \u001B[38;5;34m131,328\u001B[0m │\n├─────────────────────────────────┼───────────────────────────┼────────────┤\n│ dense_13 (\u001B[38;5;33mDense\u001B[0m)                │ (\u001B[38;5;45mNone\u001B[0m, \u001B[38;5;34m33\u001B[0m)                │      \u001B[38;5;34m8,481\u001B[0m │\n└─────────────────────────────────┴───────────────────────────┴────────────┘\n",
      "text/html": "<pre style=\"white-space:pre;overflow-x:auto;line-height:normal;font-family:Menlo,'DejaVu Sans Mono',consolas,'Courier New',monospace\">┏━━━━━━━━━━━━━━━━━━━━━━━━━━━━━━━━━┳━━━━━━━━━━━━━━━━━━━━━━━━━━━┳━━━━━━━━━━━━┓\n┃<span style=\"font-weight: bold\"> Layer (type)                    </span>┃<span style=\"font-weight: bold\"> Output Shape              </span>┃<span style=\"font-weight: bold\">    Param # </span>┃\n┡━━━━━━━━━━━━━━━━━━━━━━━━━━━━━━━━━╇━━━━━━━━━━━━━━━━━━━━━━━━━━━╇━━━━━━━━━━━━┩\n│ input_layer (<span style=\"color: #0087ff; text-decoration-color: #0087ff\">InputLayer</span>)        │ (<span style=\"color: #00d7ff; text-decoration-color: #00d7ff\">None</span>, <span style=\"color: #00af00; text-decoration-color: #00af00\">256</span>, <span style=\"color: #00af00; text-decoration-color: #00af00\">4</span>)            │          <span style=\"color: #00af00; text-decoration-color: #00af00\">0</span> │\n├─────────────────────────────────┼───────────────────────────┼────────────┤\n│ patch_embedding                 │ (<span style=\"color: #00d7ff; text-decoration-color: #00d7ff\">None</span>, <span style=\"color: #00af00; text-decoration-color: #00af00\">256</span>, <span style=\"color: #00af00; text-decoration-color: #00af00\">64</span>)           │     <span style=\"color: #00af00; text-decoration-color: #00af00\">16,704</span> │\n│ (<span style=\"color: #0087ff; text-decoration-color: #0087ff\">PatchEmbedding</span>)                │                           │            │\n├─────────────────────────────────┼───────────────────────────┼────────────┤\n│ swin_transformer                │ (<span style=\"color: #00d7ff; text-decoration-color: #00d7ff\">None</span>, <span style=\"color: #00af00; text-decoration-color: #00af00\">256</span>, <span style=\"color: #00af00; text-decoration-color: #00af00\">64</span>)           │     <span style=\"color: #00af00; text-decoration-color: #00af00\">50,072</span> │\n│ (<span style=\"color: #0087ff; text-decoration-color: #0087ff\">SwinTransformer</span>)               │                           │            │\n├─────────────────────────────────┼───────────────────────────┼────────────┤\n│ swin_transformer_1              │ (<span style=\"color: #00d7ff; text-decoration-color: #00d7ff\">None</span>, <span style=\"color: #00af00; text-decoration-color: #00af00\">256</span>, <span style=\"color: #00af00; text-decoration-color: #00af00\">64</span>)           │     <span style=\"color: #00af00; text-decoration-color: #00af00\">51,096</span> │\n│ (<span style=\"color: #0087ff; text-decoration-color: #0087ff\">SwinTransformer</span>)               │                           │            │\n├─────────────────────────────────┼───────────────────────────┼────────────┤\n│ patch_merging (<span style=\"color: #0087ff; text-decoration-color: #0087ff\">PatchMerging</span>)    │ (<span style=\"color: #00d7ff; text-decoration-color: #00d7ff\">None</span>, <span style=\"color: #00af00; text-decoration-color: #00af00\">64</span>, <span style=\"color: #00af00; text-decoration-color: #00af00\">128</span>)           │     <span style=\"color: #00af00; text-decoration-color: #00af00\">32,768</span> │\n├─────────────────────────────────┼───────────────────────────┼────────────┤\n│ global_average_pooling1d        │ (<span style=\"color: #00d7ff; text-decoration-color: #00d7ff\">None</span>, <span style=\"color: #00af00; text-decoration-color: #00af00\">128</span>)               │          <span style=\"color: #00af00; text-decoration-color: #00af00\">0</span> │\n│ (<span style=\"color: #0087ff; text-decoration-color: #0087ff\">GlobalAveragePooling1D</span>)        │                           │            │\n├─────────────────────────────────┼───────────────────────────┼────────────┤\n│ dense_10 (<span style=\"color: #0087ff; text-decoration-color: #0087ff\">Dense</span>)                │ (<span style=\"color: #00d7ff; text-decoration-color: #00d7ff\">None</span>, <span style=\"color: #00af00; text-decoration-color: #00af00\">1024</span>)              │    <span style=\"color: #00af00; text-decoration-color: #00af00\">132,096</span> │\n├─────────────────────────────────┼───────────────────────────┼────────────┤\n│ dense_11 (<span style=\"color: #0087ff; text-decoration-color: #0087ff\">Dense</span>)                │ (<span style=\"color: #00d7ff; text-decoration-color: #00d7ff\">None</span>, <span style=\"color: #00af00; text-decoration-color: #00af00\">512</span>)               │    <span style=\"color: #00af00; text-decoration-color: #00af00\">524,800</span> │\n├─────────────────────────────────┼───────────────────────────┼────────────┤\n│ dense_12 (<span style=\"color: #0087ff; text-decoration-color: #0087ff\">Dense</span>)                │ (<span style=\"color: #00d7ff; text-decoration-color: #00d7ff\">None</span>, <span style=\"color: #00af00; text-decoration-color: #00af00\">256</span>)               │    <span style=\"color: #00af00; text-decoration-color: #00af00\">131,328</span> │\n├─────────────────────────────────┼───────────────────────────┼────────────┤\n│ dense_13 (<span style=\"color: #0087ff; text-decoration-color: #0087ff\">Dense</span>)                │ (<span style=\"color: #00d7ff; text-decoration-color: #00d7ff\">None</span>, <span style=\"color: #00af00; text-decoration-color: #00af00\">33</span>)                │      <span style=\"color: #00af00; text-decoration-color: #00af00\">8,481</span> │\n└─────────────────────────────────┴───────────────────────────┴────────────┘\n</pre>\n"
     },
     "metadata": {},
     "output_type": "display_data"
    },
    {
     "data": {
      "text/plain": "\u001B[1m Total params: \u001B[0m\u001B[38;5;34m2,839,925\u001B[0m (10.84 MB)\n",
      "text/html": "<pre style=\"white-space:pre;overflow-x:auto;line-height:normal;font-family:Menlo,'DejaVu Sans Mono',consolas,'Courier New',monospace\"><span style=\"font-weight: bold\"> Total params: </span><span style=\"color: #00af00; text-decoration-color: #00af00\">2,839,925</span> (10.84 MB)\n</pre>\n"
     },
     "metadata": {},
     "output_type": "display_data"
    },
    {
     "data": {
      "text/plain": "\u001B[1m Trainable params: \u001B[0m\u001B[38;5;34m946,289\u001B[0m (3.61 MB)\n",
      "text/html": "<pre style=\"white-space:pre;overflow-x:auto;line-height:normal;font-family:Menlo,'DejaVu Sans Mono',consolas,'Courier New',monospace\"><span style=\"font-weight: bold\"> Trainable params: </span><span style=\"color: #00af00; text-decoration-color: #00af00\">946,289</span> (3.61 MB)\n</pre>\n"
     },
     "metadata": {},
     "output_type": "display_data"
    },
    {
     "data": {
      "text/plain": "\u001B[1m Non-trainable params: \u001B[0m\u001B[38;5;34m1,056\u001B[0m (8.25 KB)\n",
      "text/html": "<pre style=\"white-space:pre;overflow-x:auto;line-height:normal;font-family:Menlo,'DejaVu Sans Mono',consolas,'Courier New',monospace\"><span style=\"font-weight: bold\"> Non-trainable params: </span><span style=\"color: #00af00; text-decoration-color: #00af00\">1,056</span> (8.25 KB)\n</pre>\n"
     },
     "metadata": {},
     "output_type": "display_data"
    },
    {
     "data": {
      "text/plain": "\u001B[1m Optimizer params: \u001B[0m\u001B[38;5;34m1,892,580\u001B[0m (7.22 MB)\n",
      "text/html": "<pre style=\"white-space:pre;overflow-x:auto;line-height:normal;font-family:Menlo,'DejaVu Sans Mono',consolas,'Courier New',monospace\"><span style=\"font-weight: bold\"> Optimizer params: </span><span style=\"color: #00af00; text-decoration-color: #00af00\">1,892,580</span> (7.22 MB)\n</pre>\n"
     },
     "metadata": {},
     "output_type": "display_data"
    },
    {
     "data": {
      "text/plain": "(None, None, None)"
     },
     "execution_count": 30,
     "metadata": {},
     "output_type": "execute_result"
    }
   ],
   "source": [
    "CNN.summary(), ViT.summary(), model.summary()"
   ],
   "metadata": {
    "collapsed": false,
    "ExecuteTime": {
     "end_time": "2024-02-01T12:52:11.447304155Z",
     "start_time": "2024-02-01T12:52:11.355215467Z"
    }
   },
   "execution_count": 30
  },
  {
   "cell_type": "code",
   "outputs": [
    {
     "name": "stdout",
     "output_type": "stream",
     "text": [
      "\u001B[1m175/175\u001B[0m \u001B[32m━━━━━━━━━━━━━━━━━━━━\u001B[0m\u001B[37m\u001B[0m \u001B[1m0s\u001B[0m 1ms/step\n"
     ]
    }
   ],
   "source": [
    "y_pred = model.predict(dataset_test).argmax(axis=1)"
   ],
   "metadata": {
    "collapsed": false,
    "ExecuteTime": {
     "end_time": "2024-02-01T13:11:43.910662042Z",
     "start_time": "2024-02-01T13:11:43.578367726Z"
    }
   },
   "execution_count": 35
  },
  {
   "cell_type": "code",
   "outputs": [
    {
     "ename": "TypeError",
     "evalue": "The dataset length is unknown.",
     "output_type": "error",
     "traceback": [
      "\u001B[0;31m---------------------------------------------------------------------------\u001B[0m",
      "\u001B[0;31mTypeError\u001B[0m                                 Traceback (most recent call last)",
      "Cell \u001B[0;32mIn[40], line 1\u001B[0m\n\u001B[0;32m----> 1\u001B[0m \u001B[38;5;28;43mlen\u001B[39;49m\u001B[43m(\u001B[49m\u001B[43mdataset_test\u001B[49m\u001B[38;5;241;43m.\u001B[39;49m\u001B[43munbatch\u001B[49m\u001B[43m(\u001B[49m\u001B[43m)\u001B[49m\u001B[43m)\u001B[49m\n",
      "File \u001B[0;32m~/.local/lib/python3.11/site-packages/tensorflow/python/data/ops/dataset_ops.py:532\u001B[0m, in \u001B[0;36mDatasetV2.__len__\u001B[0;34m(self)\u001B[0m\n\u001B[1;32m    530\u001B[0m   \u001B[38;5;28;01mraise\u001B[39;00m \u001B[38;5;167;01mTypeError\u001B[39;00m(\u001B[38;5;124m\"\u001B[39m\u001B[38;5;124mThe dataset is infinite.\u001B[39m\u001B[38;5;124m\"\u001B[39m)\n\u001B[1;32m    531\u001B[0m \u001B[38;5;28;01mif\u001B[39;00m length\u001B[38;5;241m.\u001B[39mnumpy() \u001B[38;5;241m==\u001B[39m UNKNOWN:\n\u001B[0;32m--> 532\u001B[0m   \u001B[38;5;28;01mraise\u001B[39;00m \u001B[38;5;167;01mTypeError\u001B[39;00m(\u001B[38;5;124m\"\u001B[39m\u001B[38;5;124mThe dataset length is unknown.\u001B[39m\u001B[38;5;124m\"\u001B[39m)\n\u001B[1;32m    533\u001B[0m \u001B[38;5;28;01mreturn\u001B[39;00m length\n",
      "\u001B[0;31mTypeError\u001B[0m: The dataset length is unknown."
     ]
    }
   ],
   "source": [
    "len(dataset_test.unbatch())"
   ],
   "metadata": {
    "collapsed": false,
    "ExecuteTime": {
     "end_time": "2024-02-01T13:13:32.831552464Z",
     "start_time": "2024-02-01T13:13:32.715927932Z"
    }
   },
   "execution_count": 40
  },
  {
   "cell_type": "code",
   "outputs": [],
   "source": [
    "\n",
    "mat = np.zeros(shape=(num_letters,num_letters))\n",
    "for i in range(len(y_pred)):\n",
    "    true_ind = test_classes[i]\n",
    "    pred_ind = y_pred[i]    \n",
    "    mat[true_ind, pred_ind]+=1\n",
    "\n",
    "mat=mat/mat.sum(axis=0)\n",
    "\n",
    "fig, ax = plt.subplots(figsize=(15,15))\n",
    "ax.matshow(mat, cmap='Blues')\n",
    "ax.set_xticks(range(len(captions_base)), captions_base)\n",
    "ax.set_yticks(range(len(captions_base)), captions_base)\n",
    "for i in range(len(captions_base)):\n",
    "    for j in range(len(captions_base)):\n",
    "        c = mat[j,i]\n",
    "        ax.text(i, j, f'{c:.2f}', va='center', ha='center')\n",
    "ax.set_xlabel('True letters', fontsize=15)\n",
    "ax.set_ylabel('Predicted letters', fontsize=15)"
   ],
   "metadata": {
    "collapsed": false
   }
  },
  {
   "cell_type": "code",
   "outputs": [
    {
     "data": {
      "image/jpeg": "[encoded data removed]",
      "text/plain": "<IPython.core.display.Image object>"
     },
     "execution_count": 44,
     "metadata": {},
     "output_type": "execute_result"
    }
   ],
   "source": [
    "keras.utils.plot_model((model), 'models/swin.jpg')"
   ],
   "metadata": {
    "collapsed": false,
    "ExecuteTime": {
     "end_time": "2024-02-01T13:22:24.131465417Z",
     "start_time": "2024-02-01T13:22:24.028885581Z"
    }
   },
   "execution_count": 44
  },
  {
   "cell_type": "code",
   "outputs": [],
   "source": [],
   "metadata": {
    "collapsed": false
   }
  }
 ],
 "metadata": {
  "accelerator": "GPU",
  "colab": {
   "name": "swin_transformers",
   "provenance": [],
   "toc_visible": true
  },
  "kernelspec": {
   "display_name": "Python 3",
   "language": "python",
   "name": "python3"
  },
  "language_info": {
   "codemirror_mode": {
    "name": "ipython",
    "version": 3
   },
   "file_extension": ".py",
   "mimetype": "text/x-python",
   "name": "python",
   "nbconvert_exporter": "python",
   "pygments_lexer": "ipython3",
   "version": "3.7.0"
  }
 },
 "nbformat": 4,
 "nbformat_minor": 0
}
