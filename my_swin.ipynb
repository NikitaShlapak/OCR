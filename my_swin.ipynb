{
 "cells": [
  {
   "cell_type": "markdown",
   "metadata": {
    "id": "bJ8tbA0n3zF3"
   },
   "source": [
    "# Image classification with Swin Transformers\n",
    "\n",
    "**Author:** [Rishit Dagli](https://twitter.com/rishit_dagli)<br>\n",
    "**Date created:** 2021/09/08<br>\n",
    "**Last modified:** 2021/09/08<br>\n",
    "**Description:** Image classification using Swin Transformers, a general-purpose backbone for computer vision."
   ]
  },
  {
   "cell_type": "markdown",
   "metadata": {
    "id": "MJuBHyFE3zF9"
   },
   "source": [
    "This example implements\n",
    "[Swin Transformer: Hierarchical Vision Transformer using Shifted Windows](https://arxiv.org/abs/2103.14030)\n",
    "by Liu et al. for image classification, and demonstrates it on the\n",
    "[CIFAR-100 dataset](https://www.cs.toronto.edu/~kriz/cifar.html).\n",
    "\n",
    "Swin Transformer (**S**hifted **Win**dow Transformer) can serve as a\n",
    "general-purpose backbone for computer vision. Swin Transformer is a hierarchical\n",
    "Transformer whose representations are computed with _shifted windows_. The\n",
    "shifted window scheme brings greater efficiency by limiting self-attention\n",
    "computation to non-overlapping local windows while also allowing for\n",
    "cross-window connections. This architecture has the flexibility to model\n",
    "information at various scales and has a linear computational complexity with\n",
    "respect to image size.\n",
    "\n",
    "This example requires TensorFlow 2.5 or higher."
   ]
  },
  {
   "cell_type": "markdown",
   "metadata": {
    "id": "wshyZWwj3zF-"
   },
   "source": [
    "## Setup"
   ]
  },
  {
   "cell_type": "code",
   "execution_count": 1,
   "metadata": {
    "id": "wFm7Lx5-3zF_",
    "ExecuteTime": {
     "end_time": "2024-01-31T10:36:34.468350692Z",
     "start_time": "2024-01-31T10:36:27.090852056Z"
    }
   },
   "outputs": [
    {
     "name": "stderr",
     "output_type": "stream",
     "text": [
      "2024-01-31 13:36:29.586075: E external/local_xla/xla/stream_executor/cuda/cuda_dnn.cc:9261] Unable to register cuDNN factory: Attempting to register factory for plugin cuDNN when one has already been registered\n",
      "2024-01-31 13:36:29.586308: E external/local_xla/xla/stream_executor/cuda/cuda_fft.cc:607] Unable to register cuFFT factory: Attempting to register factory for plugin cuFFT when one has already been registered\n",
      "2024-01-31 13:36:29.659961: E external/local_xla/xla/stream_executor/cuda/cuda_blas.cc:1515] Unable to register cuBLAS factory: Attempting to register factory for plugin cuBLAS when one has already been registered\n",
      "2024-01-31 13:36:29.790542: I tensorflow/core/platform/cpu_feature_guard.cc:182] This TensorFlow binary is optimized to use available CPU instructions in performance-critical operations.\n",
      "To enable the following instructions: AVX2 FMA, in other operations, rebuild TensorFlow with the appropriate compiler flags.\n",
      "2024-01-31 13:36:32.031572: W tensorflow/compiler/tf2tensorrt/utils/py_utils.cc:38] TF-TRT Warning: Could not find TensorRT\n"
     ]
    }
   ],
   "source": [
    "import matplotlib.pyplot as plt\n",
    "import numpy as np\n",
    "import tensorflow as tf  # For tf.data and preprocessing only.\n",
    "import keras\n",
    "from keras import layers\n",
    "from keras import ops\n",
    "import cv2\n",
    "import imutils\n",
    "import random"
   ]
  },
  {
   "cell_type": "markdown",
   "metadata": {
    "id": "4c9muDqK3zGB"
   },
   "source": [
    "## Configure the hyperparameters\n",
    "\n",
    "A key parameter to pick is the `patch_size`, the size of the input patches.\n",
    "In order to use each pixel as an individual input, you can set `patch_size` to\n",
    "`(1, 1)`. Below, we take inspiration from the original paper settings for\n",
    "training on ImageNet-1K, keeping most of the original settings for this example."
   ]
  },
  {
   "cell_type": "code",
   "execution_count": 20,
   "metadata": {
    "id": "xLyWIhWH3zGB",
    "ExecuteTime": {
     "end_time": "2024-01-31T11:34:17.636580836Z",
     "start_time": "2024-01-31T11:34:17.570505879Z"
    }
   },
   "outputs": [],
   "source": [
    "num_classes = 33\n",
    "input_shape = (32,32,1)\n",
    "\n",
    "patch_size = (2, 2)  # 2-by-2 sized patches\n",
    "dropout_rate = 0.03  # Dropout rate\n",
    "num_heads = 8  # Attention heads\n",
    "embed_dim = 64  # Embedding dimension\n",
    "num_mlp = 256  # MLP layer size\n",
    "# Convert embedded patches to query, key, and values with a learnable additive\n",
    "# value\n",
    "qkv_bias = True\n",
    "window_size = 2  # Size of attention window\n",
    "shift_size = 1  # Size of shifting window\n",
    "image_dimension = 32  # Initial image size\n",
    "\n",
    "num_patch_x = input_shape[0] // patch_size[0]\n",
    "num_patch_y = input_shape[1] // patch_size[1]\n",
    "\n",
    "learning_rate = 1e-3\n",
    "batch_size = 16\n",
    "num_epochs = 200\n",
    "validation_split = 0.1\n",
    "weight_decay = 0.0001\n",
    "label_smoothing = 0.1"
   ]
  },
  {
   "cell_type": "markdown",
   "metadata": {
    "id": "VOpMzKbQ3zGC"
   },
   "source": [
    "## Prepare the data\n",
    "\n",
    "We load the CIFAR-100 dataset through `keras.datasets`,\n",
    "normalize the images, and convert the integer labels to one-hot encoded vectors."
   ]
  },
  {
   "cell_type": "code",
   "outputs": [
    {
     "name": "stdout",
     "output_type": "stream",
     "text": [
      "(32, 32)\n"
     ]
    },
    {
     "data": {
      "text/plain": "<matplotlib.image.AxesImage at 0x7f13cb514bd0>"
     },
     "execution_count": 3,
     "metadata": {},
     "output_type": "execute_result"
    },
    {
     "data": {
      "text/plain": "<Figure size 640x480 with 1 Axes>",
      "image/png": "[encoded data removed]"
     },
     "metadata": {},
     "output_type": "display_data"
    }
   ],
   "source": [
    "let = cv2.imread('data/letterlist.jpg', 0)\n",
    "let = let[15:780,:]\n",
    "num_letters = 33\n",
    "num_fonts = 21\n",
    "\n",
    "def get_letter(font_num, letter_num):\n",
    "    letter = let[let.shape[0]//num_fonts*(font_num-1):let.shape[0]//num_fonts*font_num,\n",
    "           let.shape[1]//num_letters*(letter_num-1):let.shape[1]//num_letters*letter_num,\n",
    "           ]\n",
    "    return cv2.resize(letter, input_shape[:-1])\n",
    "\n",
    "def get_letter_variants(letter_num):\n",
    "        return let[:,\n",
    "           let.shape[1]//num_letters*(letter_num-1):let.shape[1]//num_letters*letter_num,\n",
    "           ]\n",
    "\n",
    "def get_font_variants(font_num):\n",
    "    return let[let.shape[0]//num_fonts*(font_num-1):let.shape[0]//num_fonts*font_num,\n",
    "           :,\n",
    "           ]\n",
    "test = get_letter(21,33)\n",
    "print(test.shape)\n",
    "plt.imshow(test, cmap='gray')"
   ],
   "metadata": {
    "collapsed": false,
    "ExecuteTime": {
     "end_time": "2024-01-31T10:36:34.814707122Z",
     "start_time": "2024-01-31T10:36:34.483833558Z"
    }
   },
   "execution_count": 3
  },
  {
   "cell_type": "code",
   "outputs": [],
   "source": [
    "class BaseAugmenter():\n",
    "    def __init__(self, chanse=0.5):\n",
    "        self.chance = chanse\n",
    "        \n",
    "    def __call__(self, img, *args, **kwargs):\n",
    "        augmented = False\n",
    "        if random.random()<= self.chance:\n",
    "            try:\n",
    "                img = self._apply(img, *args, **kwargs)\n",
    "                augmented = True\n",
    "            except Exception as e:\n",
    "                print(e)\n",
    "            \n",
    "        return img, augmented\n",
    "    \n",
    "    def _apply(self, img, *args, **kwargs):\n",
    "        return img\n",
    "    \n",
    "class NoiseAugmenter(BaseAugmenter):\n",
    "    def _apply(self, letter, max=30):\n",
    "        noise = np.random.normal(size=(letter.shape))*max\n",
    "        return letter+noise\n",
    "    \n",
    "class FlipAugmenter(BaseAugmenter):\n",
    "\n",
    "    def _apply(self, letter, mode='horizontal'):\n",
    "        if mode == 'horizontal':\n",
    "            return np.flip(letter, axis=0)\n",
    "        elif mode == 'vertical':\n",
    "            return np.flip(letter, axis=1)\n",
    "        elif mode == 'random':\n",
    "            axis = random.random() < 0.5\n",
    "            return np.flip(letter, axis=int(axis))\n",
    "        \n",
    "class RotationAugmenter(BaseAugmenter):\n",
    "    \n",
    "    def _apply(self, letter, angle=60):\n",
    "        image = np.zeros_like(letter) + 255 - letter\n",
    "        rotated = imutils.rotate_bound(image, angle)\n",
    "        rotated = np.zeros_like(rotated) + 255 - rotated\n",
    "        rotated = cv2.resize(rotated, (letter.shape[1], letter.shape[0]))\n",
    "        return rotated\n",
    "    \n",
    "class BlurAugmenter(BaseAugmenter):\n",
    "    \n",
    "    def _apply(self, letter, kernel_size=3):\n",
    "        return cv2.medianBlur(letter, kernel_size)\n",
    "\n",
    "class MultipleAugmenter():\n",
    "    NOISE_CHANCE = 0.1\n",
    "    NOISE_HARDNESS = 20\n",
    "    \n",
    "    FLIP_CHANCE = 0.3\n",
    "    \n",
    "    ROTATE_CHANCE = 0.15\n",
    "    \n",
    "    BLUR_CHANCE = 0.1\n",
    "    BLUR_HARD_CHANCE = 0.05\n",
    "    \n",
    "    images = []\n",
    "    captions = []\n",
    "    \n",
    "    def __init__(self, images, captions):\n",
    "        self.images_orig = images\n",
    "        self.captions_orig = captions\n",
    "        self.augmenters = [\n",
    "            FlipAugmenter(self.FLIP_CHANCE),\n",
    "            RotationAugmenter(self.ROTATE_CHANCE),\n",
    "            BlurAugmenter(self.BLUR_CHANCE),\n",
    "            BlurAugmenter(self.BLUR_HARD_CHANCE),\n",
    "            \n",
    "        ]\n",
    "        self.noise = (NoiseAugmenter(self.NOISE_CHANCE), self.NOISE_HARDNESS)\n",
    "        \n",
    "        self.augment_args = [\n",
    "            ['random'],\n",
    "            [],\n",
    "            [3],\n",
    "            [5],\n",
    "\n",
    "        ]    \n",
    "    \n",
    "    def random_augment(self, rounds = 1, seed = 42, save_last=False):\n",
    "        random.seed(seed)\n",
    "        \n",
    "        images = self.images_orig\n",
    "        captions = self.captions_orig\n",
    "        \n",
    "        for _ in range(rounds):\n",
    "            print(len(images))\n",
    "            num_images = len(images)\n",
    "            for n in range(num_images):\n",
    "                image = images[n]\n",
    "                caption = captions[n]\n",
    "                \n",
    "                for n, aug in enumerate(self.augmenters):\n",
    "                    aug_args = self.augment_args[n]\n",
    "                    if not aug_args:\n",
    "                        aug_args = [random.randint(-15,15)]\n",
    "                    image, augmented = aug(image, *aug_args)\n",
    "                    if augmented:\n",
    "                        images.append(image)\n",
    "                        captions.append(caption)\n",
    "                    \n",
    "            if save_last:\n",
    "                images = images[num_images:]\n",
    "                captions = captions[num_images:]\n",
    "        \n",
    "\n",
    "                \n",
    "        self.images = images\n",
    "        self.captions = captions        \n",
    "        self._apply_noise()\n",
    "        self._normalize()\n",
    "        \n",
    "    def _apply_noise(self):\n",
    "        for n, im in enumerate(self.images):\n",
    "            noise_augmenter, hardeness = self.noise\n",
    "            image, augmented = noise_augmenter(im, hardeness)\n",
    "            if augmented:\n",
    "                self.images[n] = image        \n",
    "        \n",
    "    def _normalize(self):\n",
    "        for n, im in enumerate(self.images):\n",
    "            im = np.array(im)\n",
    "            self.images[n] = im/im.max()"
   ],
   "metadata": {
    "collapsed": false,
    "ExecuteTime": {
     "end_time": "2024-01-31T10:36:34.898334571Z",
     "start_time": "2024-01-31T10:36:34.832607148Z"
    }
   },
   "execution_count": 4
  },
  {
   "cell_type": "code",
   "outputs": [
    {
     "name": "stdout",
     "output_type": "stream",
     "text": [
      "693\n",
      "1117\n",
      "1763\n",
      "2814\n",
      "4490\n",
      "7161\n",
      "11452\n",
      "18331\n",
      "29290\n",
      "46852\n",
      "693\n",
      "1099\n",
      "1727\n"
     ]
    }
   ],
   "source": [
    "images = []\n",
    "captions = []\n",
    "captions_base = \"Ё Й Ц У К Е Н Г Ш Щ З Х Ъ Ф Ы В А П Р О Л Д Ж Э Я Ч С М И Т Ь Б Ю\".split(' ')\n",
    "for i in range(1, num_fonts+1):\n",
    "    for j in range(1, num_letters+1):\n",
    "        images.append(get_letter(i,j))\n",
    "        captions.append(captions_base[j-1])\n",
    "\n",
    "aug = MultipleAugmenter(images.copy(), captions.copy())\n",
    "aug.random_augment(10)\n",
    "test_aug = MultipleAugmenter(images.copy(), captions.copy())\n",
    "test_aug.random_augment(3, 65, 0)"
   ],
   "metadata": {
    "collapsed": false,
    "ExecuteTime": {
     "end_time": "2024-01-31T10:36:41.299602774Z",
     "start_time": "2024-01-31T10:36:34.839621036Z"
    }
   },
   "execution_count": 5
  },
  {
   "cell_type": "code",
   "outputs": [],
   "source": [
    "x_data = np.array(aug.images)\n",
    "x_data = x_data.reshape(*x_data.shape, 1)\n",
    "classes = list(map(captions_base.index, aug.captions))\n",
    "y_data = keras.utils.to_categorical(classes, num_classes=num_letters)\n",
    "\n",
    "num_train_samples = int(len(x_data) * (1 - validation_split))\n",
    "num_val_samples = len(x_data) - num_train_samples\n",
    "x_train, x_val = np.split(x_data, [num_train_samples])\n",
    "y_train, y_val = np.split(y_data, [num_train_samples])\n",
    "\n",
    "test_x_data = np.array(test_aug.images)\n",
    "test_x_data = test_x_data.reshape(*test_x_data.shape,1)\n",
    "\n",
    "test_classes = list(map(captions_base.index, test_aug.captions))\n",
    "test_y_data = keras.utils.to_categorical(test_classes, num_classes=num_letters)"
   ],
   "metadata": {
    "collapsed": false,
    "ExecuteTime": {
     "end_time": "2024-01-31T10:36:41.657895448Z",
     "start_time": "2024-01-31T10:36:41.314829645Z"
    }
   },
   "execution_count": 6
  },
  {
   "cell_type": "markdown",
   "metadata": {
    "id": "FI9R-DPt3zGE"
   },
   "source": [
    "## Helper functions\n",
    "\n",
    "We create two helper functions to help us get a sequence of\n",
    "patches from the image, merge patches, and apply dropout."
   ]
  },
  {
   "cell_type": "code",
   "execution_count": 7,
   "metadata": {
    "id": "f99opgq13zGE",
    "ExecuteTime": {
     "end_time": "2024-01-31T10:36:41.669617473Z",
     "start_time": "2024-01-31T10:36:41.663124138Z"
    }
   },
   "outputs": [],
   "source": [
    "\n",
    "def window_partition(x, window_size):\n",
    "    _, height, width, channels = x.shape\n",
    "    patch_num_y = height // window_size\n",
    "    patch_num_x = width // window_size\n",
    "    x = ops.reshape(\n",
    "        x,\n",
    "        (\n",
    "            -1,\n",
    "            patch_num_y,\n",
    "            window_size,\n",
    "            patch_num_x,\n",
    "            window_size,\n",
    "            channels,\n",
    "        ),\n",
    "    )\n",
    "    x = ops.transpose(x, (0, 1, 3, 2, 4, 5))\n",
    "    windows = ops.reshape(x, (-1, window_size, window_size, channels))\n",
    "    return windows\n",
    "\n",
    "\n",
    "def window_reverse(windows, window_size, height, width, channels):\n",
    "    patch_num_y = height // window_size\n",
    "    patch_num_x = width // window_size\n",
    "    x = ops.reshape(\n",
    "        windows,\n",
    "        (\n",
    "            -1,\n",
    "            patch_num_y,\n",
    "            patch_num_x,\n",
    "            window_size,\n",
    "            window_size,\n",
    "            channels,\n",
    "        ),\n",
    "    )\n",
    "    x = ops.transpose(x, (0, 1, 3, 2, 4, 5))\n",
    "    x = ops.reshape(x, (-1, height, width, channels))\n",
    "    return x\n"
   ]
  },
  {
   "cell_type": "markdown",
   "metadata": {
    "id": "4LV_xN8H3zGF"
   },
   "source": [
    "## Window based multi-head self-attention\n",
    "\n",
    "Usually Transformers perform global self-attention, where the relationships\n",
    "between a token and all other tokens are computed. The global computation leads\n",
    "to quadratic complexity with respect to the number of tokens. Here, as the\n",
    "[original paper](https://arxiv.org/abs/2103.14030) suggests, we compute\n",
    "self-attention within local windows, in a non-overlapping manner. Global\n",
    "self-attention leads to quadratic computational complexity in the number of\n",
    "patches, whereas window-based self-attention leads to linear complexity and is\n",
    "easily scalable."
   ]
  },
  {
   "cell_type": "code",
   "execution_count": 8,
   "metadata": {
    "id": "q7qKjsqk3zGF",
    "ExecuteTime": {
     "end_time": "2024-01-31T10:36:41.754482480Z",
     "start_time": "2024-01-31T10:36:41.681225716Z"
    }
   },
   "outputs": [],
   "source": [
    "class WindowAttention(layers.Layer):\n",
    "    def __init__(\n",
    "        self,\n",
    "        dim,\n",
    "        window_size,\n",
    "        num_heads,\n",
    "        qkv_bias=True,\n",
    "        dropout_rate=0.0,\n",
    "        **kwargs,\n",
    "    ):\n",
    "        super().__init__(**kwargs)\n",
    "        self.dim = dim\n",
    "        self.window_size = window_size\n",
    "        self.num_heads = num_heads\n",
    "        self.scale = (dim // num_heads) ** -0.5\n",
    "        self.qkv = layers.Dense(dim * 3, use_bias=qkv_bias)\n",
    "        self.dropout = layers.Dropout(dropout_rate)\n",
    "        self.proj = layers.Dense(dim)\n",
    "\n",
    "        num_window_elements = (2 * self.window_size[0] - 1) * (\n",
    "            2 * self.window_size[1] - 1\n",
    "        )\n",
    "        self.relative_position_bias_table = self.add_weight(\n",
    "            shape=(num_window_elements, self.num_heads),\n",
    "            initializer=keras.initializers.Zeros(),\n",
    "            trainable=True,\n",
    "        )\n",
    "        coords_h = np.arange(self.window_size[0])\n",
    "        coords_w = np.arange(self.window_size[1])\n",
    "        coords_matrix = np.meshgrid(coords_h, coords_w, indexing=\"ij\")\n",
    "        coords = np.stack(coords_matrix)\n",
    "        coords_flatten = coords.reshape(2, -1)\n",
    "        relative_coords = coords_flatten[:, :, None] - coords_flatten[:, None, :]\n",
    "        relative_coords = relative_coords.transpose([1, 2, 0])\n",
    "        relative_coords[:, :, 0] += self.window_size[0] - 1\n",
    "        relative_coords[:, :, 1] += self.window_size[1] - 1\n",
    "        relative_coords[:, :, 0] *= 2 * self.window_size[1] - 1\n",
    "        relative_position_index = relative_coords.sum(-1)\n",
    "\n",
    "        self.relative_position_index = keras.Variable(\n",
    "            initializer=relative_position_index,\n",
    "            shape=relative_position_index.shape,\n",
    "            dtype=\"int\",\n",
    "            trainable=False,\n",
    "        )\n",
    "\n",
    "    def call(self, x, mask=None):\n",
    "        _, size, channels = x.shape\n",
    "        head_dim = channels // self.num_heads\n",
    "        x_qkv = self.qkv(x)\n",
    "        x_qkv = ops.reshape(x_qkv, (-1, size, 3, self.num_heads, head_dim))\n",
    "        x_qkv = ops.transpose(x_qkv, (2, 0, 3, 1, 4))\n",
    "        q, k, v = x_qkv[0], x_qkv[1], x_qkv[2]\n",
    "        q = q * self.scale\n",
    "        k = ops.transpose(k, (0, 1, 3, 2))\n",
    "        attn = q @ k\n",
    "\n",
    "        num_window_elements = self.window_size[0] * self.window_size[1]\n",
    "        relative_position_index_flat = ops.reshape(self.relative_position_index, (-1,))\n",
    "        relative_position_bias = ops.take(\n",
    "            self.relative_position_bias_table,\n",
    "            relative_position_index_flat,\n",
    "            axis=0,\n",
    "        )\n",
    "        relative_position_bias = ops.reshape(\n",
    "            relative_position_bias,\n",
    "            (num_window_elements, num_window_elements, -1),\n",
    "        )\n",
    "        relative_position_bias = ops.transpose(relative_position_bias, (2, 0, 1))\n",
    "        attn = attn + ops.expand_dims(relative_position_bias, axis=0)\n",
    "\n",
    "        if mask is not None:\n",
    "            nW = mask.shape[0]\n",
    "            mask_float = ops.cast(\n",
    "                ops.expand_dims(ops.expand_dims(mask, axis=1), axis=0),\n",
    "                \"float32\",\n",
    "            )\n",
    "            attn = ops.reshape(attn, (-1, nW, self.num_heads, size, size)) + mask_float\n",
    "            attn = ops.reshape(attn, (-1, self.num_heads, size, size))\n",
    "            attn = keras.activations.softmax(attn, axis=-1)\n",
    "        else:\n",
    "            attn = keras.activations.softmax(attn, axis=-1)\n",
    "        attn = self.dropout(attn)\n",
    "\n",
    "        x_qkv = attn @ v\n",
    "        x_qkv = ops.transpose(x_qkv, (0, 2, 1, 3))\n",
    "        x_qkv = ops.reshape(x_qkv, (-1, size, channels))\n",
    "        x_qkv = self.proj(x_qkv)\n",
    "        x_qkv = self.dropout(x_qkv)\n",
    "        return x_qkv\n"
   ]
  },
  {
   "cell_type": "markdown",
   "metadata": {
    "id": "bsD4lkTj3zGG"
   },
   "source": [
    "## The complete Swin Transformer model\n",
    "\n",
    "Finally, we put together the complete Swin Transformer by replacing the standard\n",
    "multi-head attention (MHA) with shifted windows attention. As suggested in the\n",
    "original paper, we create a model comprising of a shifted window-based MHA\n",
    "layer, followed by a 2-layer MLP with GELU nonlinearity in between, applying\n",
    "`LayerNormalization` before each MSA layer and each MLP, and a residual\n",
    "connection after each of these layers.\n",
    "\n",
    "Notice that we only create a simple MLP with 2 Dense and\n",
    "2 Dropout layers. Often you will see models using ResNet-50 as the MLP which is\n",
    "quite standard in the literature. However in this paper the authors use a\n",
    "2-layer MLP with GELU nonlinearity in between."
   ]
  },
  {
   "cell_type": "code",
   "execution_count": 9,
   "metadata": {
    "id": "DN327jtK3zGG",
    "ExecuteTime": {
     "end_time": "2024-01-31T10:36:41.759358791Z",
     "start_time": "2024-01-31T10:36:41.717046627Z"
    }
   },
   "outputs": [],
   "source": [
    "class SwinTransformer(layers.Layer):\n",
    "    def __init__(\n",
    "        self,\n",
    "        dim,\n",
    "        num_patch,\n",
    "        num_heads,\n",
    "        window_size=7,\n",
    "        shift_size=0,\n",
    "        num_mlp=1024,\n",
    "        qkv_bias=True,\n",
    "        dropout_rate=0.0,\n",
    "        **kwargs,\n",
    "    ):\n",
    "        super().__init__(**kwargs)\n",
    "\n",
    "        self.dim = dim  # number of input dimensions\n",
    "        self.num_patch = num_patch  # number of embedded patches\n",
    "        self.num_heads = num_heads  # number of attention heads\n",
    "        self.window_size = window_size  # size of window\n",
    "        self.shift_size = shift_size  # size of window shift\n",
    "        self.num_mlp = num_mlp  # number of MLP nodes\n",
    "\n",
    "        self.norm1 = layers.LayerNormalization(epsilon=1e-5)\n",
    "        self.attn = WindowAttention(\n",
    "            dim,\n",
    "            window_size=(self.window_size, self.window_size),\n",
    "            num_heads=num_heads,\n",
    "            qkv_bias=qkv_bias,\n",
    "            dropout_rate=dropout_rate,\n",
    "        )\n",
    "        self.drop_path = layers.Dropout(dropout_rate)\n",
    "        self.norm2 = layers.LayerNormalization(epsilon=1e-5)\n",
    "\n",
    "        self.mlp = keras.Sequential(\n",
    "            [\n",
    "                layers.Dense(num_mlp),\n",
    "                layers.Activation(keras.activations.gelu),\n",
    "                layers.Dropout(dropout_rate),\n",
    "                layers.Dense(dim),\n",
    "                layers.Dropout(dropout_rate),\n",
    "            ]\n",
    "        )\n",
    "\n",
    "        if min(self.num_patch) < self.window_size:\n",
    "            self.shift_size = 0\n",
    "            self.window_size = min(self.num_patch)\n",
    "\n",
    "    def build(self, input_shape):\n",
    "        if self.shift_size == 0:\n",
    "            self.attn_mask = None\n",
    "        else:\n",
    "            height, width = self.num_patch\n",
    "            h_slices = (\n",
    "                slice(0, -self.window_size),\n",
    "                slice(-self.window_size, -self.shift_size),\n",
    "                slice(-self.shift_size, None),\n",
    "            )\n",
    "            w_slices = (\n",
    "                slice(0, -self.window_size),\n",
    "                slice(-self.window_size, -self.shift_size),\n",
    "                slice(-self.shift_size, None),\n",
    "            )\n",
    "            mask_array = np.zeros((1, height, width, 1))\n",
    "            count = 0\n",
    "            for h in h_slices:\n",
    "                for w in w_slices:\n",
    "                    mask_array[:, h, w, :] = count\n",
    "                    count += 1\n",
    "            mask_array = ops.convert_to_tensor(mask_array)\n",
    "\n",
    "            # mask array to windows\n",
    "            mask_windows = window_partition(mask_array, self.window_size)\n",
    "            mask_windows = ops.reshape(\n",
    "                mask_windows, [-1, self.window_size * self.window_size]\n",
    "            )\n",
    "            attn_mask = ops.expand_dims(mask_windows, axis=1) - ops.expand_dims(\n",
    "                mask_windows, axis=2\n",
    "            )\n",
    "            attn_mask = ops.where(attn_mask != 0, -100.0, attn_mask)\n",
    "            attn_mask = ops.where(attn_mask == 0, 0.0, attn_mask)\n",
    "            self.attn_mask = keras.Variable(\n",
    "                initializer=attn_mask,\n",
    "                shape=attn_mask.shape,\n",
    "                dtype=attn_mask.dtype,\n",
    "                trainable=False,\n",
    "            )\n",
    "\n",
    "    def call(self, x, training=False):\n",
    "        height, width = self.num_patch\n",
    "        _, num_patches_before, channels = x.shape\n",
    "        x_skip = x\n",
    "        x = self.norm1(x)\n",
    "        x = ops.reshape(x, (-1, height, width, channels))\n",
    "        if self.shift_size > 0:\n",
    "            shifted_x = ops.roll(\n",
    "                x, shift=[-self.shift_size, -self.shift_size], axis=[1, 2]\n",
    "            )\n",
    "        else:\n",
    "            shifted_x = x\n",
    "\n",
    "        x_windows = window_partition(shifted_x, self.window_size)\n",
    "        x_windows = ops.reshape(\n",
    "            x_windows, (-1, self.window_size * self.window_size, channels)\n",
    "        )\n",
    "        attn_windows = self.attn(x_windows, mask=self.attn_mask)\n",
    "\n",
    "        attn_windows = ops.reshape(\n",
    "            attn_windows,\n",
    "            (-1, self.window_size, self.window_size, channels),\n",
    "        )\n",
    "        shifted_x = window_reverse(\n",
    "            attn_windows, self.window_size, height, width, channels\n",
    "        )\n",
    "        if self.shift_size > 0:\n",
    "            x = ops.roll(\n",
    "                shifted_x, shift=[self.shift_size, self.shift_size], axis=[1, 2]\n",
    "            )\n",
    "        else:\n",
    "            x = shifted_x\n",
    "\n",
    "        x = ops.reshape(x, (-1, height * width, channels))\n",
    "        x = self.drop_path(x, training=training)\n",
    "        x = x_skip + x\n",
    "        x_skip = x\n",
    "        x = self.norm2(x)\n",
    "        x = self.mlp(x)\n",
    "        x = self.drop_path(x)\n",
    "        x = x_skip + x\n",
    "        return x\n"
   ]
  },
  {
   "cell_type": "markdown",
   "metadata": {
    "id": "QFIcaONk3zGH"
   },
   "source": [
    "## Model training and evaluation\n",
    "\n",
    "### Extract and embed patches\n",
    "\n",
    "We first create 3 layers to help us extract, embed and merge patches from the\n",
    "images on top of which we will later use the Swin Transformer class we built."
   ]
  },
  {
   "cell_type": "code",
   "execution_count": 10,
   "metadata": {
    "id": "SaPR6clL3zGH",
    "ExecuteTime": {
     "end_time": "2024-01-31T10:36:41.814118046Z",
     "start_time": "2024-01-31T10:36:41.729638230Z"
    }
   },
   "outputs": [],
   "source": [
    "# Using tf ops since it is only used in tf.data.\n",
    "def patch_extract(images):\n",
    "    batch_size = tf.shape(images)[0]\n",
    "    patches = tf.image.extract_patches(\n",
    "        images=images,\n",
    "        sizes=(1, patch_size[0], patch_size[1], 1),\n",
    "        strides=(1, patch_size[0], patch_size[1], 1),\n",
    "        rates=(1, 1, 1, 1),\n",
    "        padding=\"VALID\",\n",
    "    )\n",
    "    patch_dim = patches.shape[-1]\n",
    "    patch_num = patches.shape[1]\n",
    "    return tf.reshape(patches, (batch_size, patch_num * patch_num, patch_dim))\n",
    "\n",
    "\n",
    "class PatchEmbedding(layers.Layer):\n",
    "    def __init__(self, num_patch, embed_dim, **kwargs):\n",
    "        super().__init__(**kwargs)\n",
    "        self.num_patch = num_patch\n",
    "        self.proj = layers.Dense(embed_dim)\n",
    "        self.pos_embed = layers.Embedding(input_dim=num_patch, output_dim=embed_dim)\n",
    "\n",
    "    def call(self, patch):\n",
    "        pos = ops.arange(start=0, stop=self.num_patch)\n",
    "        return self.proj(patch) + self.pos_embed(pos)\n",
    "\n",
    "\n",
    "class PatchMerging(keras.layers.Layer):\n",
    "    def __init__(self, num_patch, embed_dim):\n",
    "        super().__init__()\n",
    "        self.num_patch = num_patch\n",
    "        self.embed_dim = embed_dim\n",
    "        self.linear_trans = layers.Dense(2 * embed_dim, use_bias=False)\n",
    "\n",
    "    def call(self, x):\n",
    "        height, width = self.num_patch\n",
    "        _, _, C = x.shape\n",
    "        x = ops.reshape(x, (-1, height, width, C))\n",
    "        x0 = x[:, 0::2, 0::2, :]\n",
    "        x1 = x[:, 1::2, 0::2, :]\n",
    "        x2 = x[:, 0::2, 1::2, :]\n",
    "        x3 = x[:, 1::2, 1::2, :]\n",
    "        x = ops.concatenate((x0, x1, x2, x3), axis=-1)\n",
    "        x = ops.reshape(x, (-1, (height // 2) * (width // 2), 4 * C))\n",
    "        return self.linear_trans(x)\n"
   ]
  },
  {
   "cell_type": "markdown",
   "metadata": {
    "id": "u7WM7yPD3zGI"
   },
   "source": [
    "### Prepare the tf.data.Dataset\n",
    "\n",
    "We do all the steps, which do not have trainable weights with tf.data.\n",
    "Prepare the training, validation and testing sets."
   ]
  },
  {
   "cell_type": "code",
   "execution_count": 11,
   "metadata": {
    "id": "R1BOIjWy3zGI",
    "ExecuteTime": {
     "end_time": "2024-01-31T10:36:46.474737286Z",
     "start_time": "2024-01-31T10:36:41.745436560Z"
    }
   },
   "outputs": [
    {
     "name": "stderr",
     "output_type": "stream",
     "text": [
      "2024-01-31 13:36:44.076593: I external/local_xla/xla/stream_executor/cuda/cuda_executor.cc:901] successful NUMA node read from SysFS had negative value (-1), but there must be at least one NUMA node, so returning NUMA node zero. See more at https://github.com/torvalds/linux/blob/v6.0/Documentation/ABI/testing/sysfs-bus-pci#L344-L355\n",
      "2024-01-31 13:36:44.243043: I external/local_xla/xla/stream_executor/cuda/cuda_executor.cc:901] successful NUMA node read from SysFS had negative value (-1), but there must be at least one NUMA node, so returning NUMA node zero. See more at https://github.com/torvalds/linux/blob/v6.0/Documentation/ABI/testing/sysfs-bus-pci#L344-L355\n",
      "2024-01-31 13:36:44.245348: I external/local_xla/xla/stream_executor/cuda/cuda_executor.cc:901] successful NUMA node read from SysFS had negative value (-1), but there must be at least one NUMA node, so returning NUMA node zero. See more at https://github.com/torvalds/linux/blob/v6.0/Documentation/ABI/testing/sysfs-bus-pci#L344-L355\n",
      "2024-01-31 13:36:44.249950: I external/local_xla/xla/stream_executor/cuda/cuda_executor.cc:901] successful NUMA node read from SysFS had negative value (-1), but there must be at least one NUMA node, so returning NUMA node zero. See more at https://github.com/torvalds/linux/blob/v6.0/Documentation/ABI/testing/sysfs-bus-pci#L344-L355\n",
      "2024-01-31 13:36:44.252244: I external/local_xla/xla/stream_executor/cuda/cuda_executor.cc:901] successful NUMA node read from SysFS had negative value (-1), but there must be at least one NUMA node, so returning NUMA node zero. See more at https://github.com/torvalds/linux/blob/v6.0/Documentation/ABI/testing/sysfs-bus-pci#L344-L355\n",
      "2024-01-31 13:36:44.254409: I external/local_xla/xla/stream_executor/cuda/cuda_executor.cc:901] successful NUMA node read from SysFS had negative value (-1), but there must be at least one NUMA node, so returning NUMA node zero. See more at https://github.com/torvalds/linux/blob/v6.0/Documentation/ABI/testing/sysfs-bus-pci#L344-L355\n",
      "2024-01-31 13:36:44.446148: I external/local_xla/xla/stream_executor/cuda/cuda_executor.cc:901] successful NUMA node read from SysFS had negative value (-1), but there must be at least one NUMA node, so returning NUMA node zero. See more at https://github.com/torvalds/linux/blob/v6.0/Documentation/ABI/testing/sysfs-bus-pci#L344-L355\n",
      "2024-01-31 13:36:44.448599: I external/local_xla/xla/stream_executor/cuda/cuda_executor.cc:901] successful NUMA node read from SysFS had negative value (-1), but there must be at least one NUMA node, so returning NUMA node zero. See more at https://github.com/torvalds/linux/blob/v6.0/Documentation/ABI/testing/sysfs-bus-pci#L344-L355\n",
      "2024-01-31 13:36:44.451228: I external/local_xla/xla/stream_executor/cuda/cuda_executor.cc:901] successful NUMA node read from SysFS had negative value (-1), but there must be at least one NUMA node, so returning NUMA node zero. See more at https://github.com/torvalds/linux/blob/v6.0/Documentation/ABI/testing/sysfs-bus-pci#L344-L355\n",
      "2024-01-31 13:36:44.453623: I tensorflow/core/common_runtime/gpu/gpu_device.cc:1929] Created device /job:localhost/replica:0/task:0/device:GPU:0 with 6076 MB memory:  -> device: 0, name: NVIDIA GeForce RTX 4060 Laptop GPU, pci bus id: 0000:01:00.0, compute capability: 8.9\n",
      "2024-01-31 13:36:44.456899: W external/local_tsl/tsl/framework/cpu_allocator_impl.cc:83] Allocation of 552771584 exceeds 10% of free system memory.\n",
      "2024-01-31 13:36:45.412969: W external/local_tsl/tsl/framework/cpu_allocator_impl.cc:83] Allocation of 552771584 exceeds 10% of free system memory.\n"
     ]
    }
   ],
   "source": [
    "def augment(x):\n",
    "    return x\n",
    "\n",
    "\n",
    "dataset = (\n",
    "    tf.data.Dataset.from_tensor_slices((x_train, y_train))\n",
    "    .map(lambda x, y: (augment(x), y))\n",
    "    .batch(batch_size=batch_size)\n",
    "    .map(lambda x, y: (patch_extract(x), y))\n",
    "    .prefetch(tf.data.experimental.AUTOTUNE)\n",
    ")\n",
    "\n",
    "dataset_val = (\n",
    "    tf.data.Dataset.from_tensor_slices((x_val, y_val))\n",
    "    .batch(batch_size=batch_size)\n",
    "    .map(lambda x, y: (patch_extract(x), y))\n",
    "    .prefetch(tf.data.experimental.AUTOTUNE)\n",
    ")\n",
    "\n",
    "dataset_test = (\n",
    "    tf.data.Dataset.from_tensor_slices((test_x_data, test_y_data))\n",
    "    .batch(batch_size=batch_size)\n",
    "    .map(lambda x, y: (patch_extract(x), y))\n",
    "    .prefetch(tf.data.experimental.AUTOTUNE)\n",
    ")"
   ]
  },
  {
   "cell_type": "code",
   "outputs": [
    {
     "data": {
      "text/plain": "<_PrefetchDataset element_spec=(TensorSpec(shape=(None, 256, 4), dtype=tf.float64, name=None), TensorSpec(shape=(None, 33), dtype=tf.float64, name=None))>"
     },
     "execution_count": 12,
     "metadata": {},
     "output_type": "execute_result"
    }
   ],
   "source": [
    "dataset"
   ],
   "metadata": {
    "collapsed": false,
    "ExecuteTime": {
     "end_time": "2024-01-31T10:36:46.498514826Z",
     "start_time": "2024-01-31T10:36:46.479044434Z"
    }
   },
   "execution_count": 12
  },
  {
   "cell_type": "markdown",
   "metadata": {
    "id": "aIiql3_13zGI"
   },
   "source": [
    "### Build the model\n",
    "\n",
    "We put together the Swin Transformer model."
   ]
  },
  {
   "cell_type": "code",
   "execution_count": 22,
   "metadata": {
    "id": "m1HNxEWw3zGJ",
    "ExecuteTime": {
     "end_time": "2024-01-31T11:35:46.882382095Z",
     "start_time": "2024-01-31T11:35:46.098074692Z"
    }
   },
   "outputs": [
    {
     "data": {
      "text/plain": "\u001B[1mModel: \"functional_7\"\u001B[0m\n",
      "text/html": "<pre style=\"white-space:pre;overflow-x:auto;line-height:normal;font-family:Menlo,'DejaVu Sans Mono',consolas,'Courier New',monospace\"><span style=\"font-weight: bold\">Model: \"functional_7\"</span>\n</pre>\n"
     },
     "metadata": {},
     "output_type": "display_data"
    },
    {
     "data": {
      "text/plain": "┏━━━━━━━━━━━━━━━━━━━━━━━━━━━━━━━━━┳━━━━━━━━━━━━━━━━━━━━━━━━━━━┳━━━━━━━━━━━━┓\n┃\u001B[1m \u001B[0m\u001B[1mLayer (type)                   \u001B[0m\u001B[1m \u001B[0m┃\u001B[1m \u001B[0m\u001B[1mOutput Shape             \u001B[0m\u001B[1m \u001B[0m┃\u001B[1m \u001B[0m\u001B[1m   Param #\u001B[0m\u001B[1m \u001B[0m┃\n┡━━━━━━━━━━━━━━━━━━━━━━━━━━━━━━━━━╇━━━━━━━━━━━━━━━━━━━━━━━━━━━╇━━━━━━━━━━━━┩\n│ input_layer_3 (\u001B[38;5;33mInputLayer\u001B[0m)      │ (\u001B[38;5;45mNone\u001B[0m, \u001B[38;5;34m256\u001B[0m, \u001B[38;5;34m4\u001B[0m)            │          \u001B[38;5;34m0\u001B[0m │\n├─────────────────────────────────┼───────────────────────────┼────────────┤\n│ patch_embedding_1               │ (\u001B[38;5;45mNone\u001B[0m, \u001B[38;5;34m256\u001B[0m, \u001B[38;5;34m64\u001B[0m)           │     \u001B[38;5;34m16,704\u001B[0m │\n│ (\u001B[38;5;33mPatchEmbedding\u001B[0m)                │                           │            │\n├─────────────────────────────────┼───────────────────────────┼────────────┤\n│ swin_transformer_2              │ (\u001B[38;5;45mNone\u001B[0m, \u001B[38;5;34m256\u001B[0m, \u001B[38;5;34m64\u001B[0m)           │     \u001B[38;5;34m50,072\u001B[0m │\n│ (\u001B[38;5;33mSwinTransformer\u001B[0m)               │                           │            │\n├─────────────────────────────────┼───────────────────────────┼────────────┤\n│ swin_transformer_3              │ (\u001B[38;5;45mNone\u001B[0m, \u001B[38;5;34m256\u001B[0m, \u001B[38;5;34m64\u001B[0m)           │     \u001B[38;5;34m51,096\u001B[0m │\n│ (\u001B[38;5;33mSwinTransformer\u001B[0m)               │                           │            │\n├─────────────────────────────────┼───────────────────────────┼────────────┤\n│ patch_merging_1 (\u001B[38;5;33mPatchMerging\u001B[0m)  │ (\u001B[38;5;45mNone\u001B[0m, \u001B[38;5;34m64\u001B[0m, \u001B[38;5;34m128\u001B[0m)           │     \u001B[38;5;34m32,768\u001B[0m │\n├─────────────────────────────────┼───────────────────────────┼────────────┤\n│ global_average_pooling1d_1      │ (\u001B[38;5;45mNone\u001B[0m, \u001B[38;5;34m128\u001B[0m)               │          \u001B[38;5;34m0\u001B[0m │\n│ (\u001B[38;5;33mGlobalAveragePooling1D\u001B[0m)        │                           │            │\n├─────────────────────────────────┼───────────────────────────┼────────────┤\n│ dense_21 (\u001B[38;5;33mDense\u001B[0m)                │ (\u001B[38;5;45mNone\u001B[0m, \u001B[38;5;34m1024\u001B[0m)              │    \u001B[38;5;34m132,096\u001B[0m │\n├─────────────────────────────────┼───────────────────────────┼────────────┤\n│ dense_22 (\u001B[38;5;33mDense\u001B[0m)                │ (\u001B[38;5;45mNone\u001B[0m, \u001B[38;5;34m512\u001B[0m)               │    \u001B[38;5;34m524,800\u001B[0m │\n├─────────────────────────────────┼───────────────────────────┼────────────┤\n│ dense_23 (\u001B[38;5;33mDense\u001B[0m)                │ (\u001B[38;5;45mNone\u001B[0m, \u001B[38;5;34m256\u001B[0m)               │    \u001B[38;5;34m131,328\u001B[0m │\n├─────────────────────────────────┼───────────────────────────┼────────────┤\n│ dense_24 (\u001B[38;5;33mDense\u001B[0m)                │ (\u001B[38;5;45mNone\u001B[0m, \u001B[38;5;34m33\u001B[0m)                │      \u001B[38;5;34m8,481\u001B[0m │\n└─────────────────────────────────┴───────────────────────────┴────────────┘\n",
      "text/html": "<pre style=\"white-space:pre;overflow-x:auto;line-height:normal;font-family:Menlo,'DejaVu Sans Mono',consolas,'Courier New',monospace\">┏━━━━━━━━━━━━━━━━━━━━━━━━━━━━━━━━━┳━━━━━━━━━━━━━━━━━━━━━━━━━━━┳━━━━━━━━━━━━┓\n┃<span style=\"font-weight: bold\"> Layer (type)                    </span>┃<span style=\"font-weight: bold\"> Output Shape              </span>┃<span style=\"font-weight: bold\">    Param # </span>┃\n┡━━━━━━━━━━━━━━━━━━━━━━━━━━━━━━━━━╇━━━━━━━━━━━━━━━━━━━━━━━━━━━╇━━━━━━━━━━━━┩\n│ input_layer_3 (<span style=\"color: #0087ff; text-decoration-color: #0087ff\">InputLayer</span>)      │ (<span style=\"color: #00d7ff; text-decoration-color: #00d7ff\">None</span>, <span style=\"color: #00af00; text-decoration-color: #00af00\">256</span>, <span style=\"color: #00af00; text-decoration-color: #00af00\">4</span>)            │          <span style=\"color: #00af00; text-decoration-color: #00af00\">0</span> │\n├─────────────────────────────────┼───────────────────────────┼────────────┤\n│ patch_embedding_1               │ (<span style=\"color: #00d7ff; text-decoration-color: #00d7ff\">None</span>, <span style=\"color: #00af00; text-decoration-color: #00af00\">256</span>, <span style=\"color: #00af00; text-decoration-color: #00af00\">64</span>)           │     <span style=\"color: #00af00; text-decoration-color: #00af00\">16,704</span> │\n│ (<span style=\"color: #0087ff; text-decoration-color: #0087ff\">PatchEmbedding</span>)                │                           │            │\n├─────────────────────────────────┼───────────────────────────┼────────────┤\n│ swin_transformer_2              │ (<span style=\"color: #00d7ff; text-decoration-color: #00d7ff\">None</span>, <span style=\"color: #00af00; text-decoration-color: #00af00\">256</span>, <span style=\"color: #00af00; text-decoration-color: #00af00\">64</span>)           │     <span style=\"color: #00af00; text-decoration-color: #00af00\">50,072</span> │\n│ (<span style=\"color: #0087ff; text-decoration-color: #0087ff\">SwinTransformer</span>)               │                           │            │\n├─────────────────────────────────┼───────────────────────────┼────────────┤\n│ swin_transformer_3              │ (<span style=\"color: #00d7ff; text-decoration-color: #00d7ff\">None</span>, <span style=\"color: #00af00; text-decoration-color: #00af00\">256</span>, <span style=\"color: #00af00; text-decoration-color: #00af00\">64</span>)           │     <span style=\"color: #00af00; text-decoration-color: #00af00\">51,096</span> │\n│ (<span style=\"color: #0087ff; text-decoration-color: #0087ff\">SwinTransformer</span>)               │                           │            │\n├─────────────────────────────────┼───────────────────────────┼────────────┤\n│ patch_merging_1 (<span style=\"color: #0087ff; text-decoration-color: #0087ff\">PatchMerging</span>)  │ (<span style=\"color: #00d7ff; text-decoration-color: #00d7ff\">None</span>, <span style=\"color: #00af00; text-decoration-color: #00af00\">64</span>, <span style=\"color: #00af00; text-decoration-color: #00af00\">128</span>)           │     <span style=\"color: #00af00; text-decoration-color: #00af00\">32,768</span> │\n├─────────────────────────────────┼───────────────────────────┼────────────┤\n│ global_average_pooling1d_1      │ (<span style=\"color: #00d7ff; text-decoration-color: #00d7ff\">None</span>, <span style=\"color: #00af00; text-decoration-color: #00af00\">128</span>)               │          <span style=\"color: #00af00; text-decoration-color: #00af00\">0</span> │\n│ (<span style=\"color: #0087ff; text-decoration-color: #0087ff\">GlobalAveragePooling1D</span>)        │                           │            │\n├─────────────────────────────────┼───────────────────────────┼────────────┤\n│ dense_21 (<span style=\"color: #0087ff; text-decoration-color: #0087ff\">Dense</span>)                │ (<span style=\"color: #00d7ff; text-decoration-color: #00d7ff\">None</span>, <span style=\"color: #00af00; text-decoration-color: #00af00\">1024</span>)              │    <span style=\"color: #00af00; text-decoration-color: #00af00\">132,096</span> │\n├─────────────────────────────────┼───────────────────────────┼────────────┤\n│ dense_22 (<span style=\"color: #0087ff; text-decoration-color: #0087ff\">Dense</span>)                │ (<span style=\"color: #00d7ff; text-decoration-color: #00d7ff\">None</span>, <span style=\"color: #00af00; text-decoration-color: #00af00\">512</span>)               │    <span style=\"color: #00af00; text-decoration-color: #00af00\">524,800</span> │\n├─────────────────────────────────┼───────────────────────────┼────────────┤\n│ dense_23 (<span style=\"color: #0087ff; text-decoration-color: #0087ff\">Dense</span>)                │ (<span style=\"color: #00d7ff; text-decoration-color: #00d7ff\">None</span>, <span style=\"color: #00af00; text-decoration-color: #00af00\">256</span>)               │    <span style=\"color: #00af00; text-decoration-color: #00af00\">131,328</span> │\n├─────────────────────────────────┼───────────────────────────┼────────────┤\n│ dense_24 (<span style=\"color: #0087ff; text-decoration-color: #0087ff\">Dense</span>)                │ (<span style=\"color: #00d7ff; text-decoration-color: #00d7ff\">None</span>, <span style=\"color: #00af00; text-decoration-color: #00af00\">33</span>)                │      <span style=\"color: #00af00; text-decoration-color: #00af00\">8,481</span> │\n└─────────────────────────────────┴───────────────────────────┴────────────┘\n</pre>\n"
     },
     "metadata": {},
     "output_type": "display_data"
    },
    {
     "data": {
      "text/plain": "\u001B[1m Total params: \u001B[0m\u001B[38;5;34m947,345\u001B[0m (3.62 MB)\n",
      "text/html": "<pre style=\"white-space:pre;overflow-x:auto;line-height:normal;font-family:Menlo,'DejaVu Sans Mono',consolas,'Courier New',monospace\"><span style=\"font-weight: bold\"> Total params: </span><span style=\"color: #00af00; text-decoration-color: #00af00\">947,345</span> (3.62 MB)\n</pre>\n"
     },
     "metadata": {},
     "output_type": "display_data"
    },
    {
     "data": {
      "text/plain": "\u001B[1m Trainable params: \u001B[0m\u001B[38;5;34m946,289\u001B[0m (3.61 MB)\n",
      "text/html": "<pre style=\"white-space:pre;overflow-x:auto;line-height:normal;font-family:Menlo,'DejaVu Sans Mono',consolas,'Courier New',monospace\"><span style=\"font-weight: bold\"> Trainable params: </span><span style=\"color: #00af00; text-decoration-color: #00af00\">946,289</span> (3.61 MB)\n</pre>\n"
     },
     "metadata": {},
     "output_type": "display_data"
    },
    {
     "data": {
      "text/plain": "\u001B[1m Non-trainable params: \u001B[0m\u001B[38;5;34m1,056\u001B[0m (8.25 KB)\n",
      "text/html": "<pre style=\"white-space:pre;overflow-x:auto;line-height:normal;font-family:Menlo,'DejaVu Sans Mono',consolas,'Courier New',monospace\"><span style=\"font-weight: bold\"> Non-trainable params: </span><span style=\"color: #00af00; text-decoration-color: #00af00\">1,056</span> (8.25 KB)\n</pre>\n"
     },
     "metadata": {},
     "output_type": "display_data"
    }
   ],
   "source": [
    "input = layers.Input(shape=(256, 4))\n",
    "x = PatchEmbedding(num_patch_x * num_patch_y, embed_dim)(input)\n",
    "x = SwinTransformer(\n",
    "    dim=embed_dim,\n",
    "    num_patch=(num_patch_x, num_patch_y),\n",
    "    num_heads=num_heads,\n",
    "    window_size=window_size,\n",
    "    shift_size=0,\n",
    "    num_mlp=num_mlp,\n",
    "    qkv_bias=qkv_bias,\n",
    "    dropout_rate=dropout_rate,\n",
    ")(x)\n",
    "x = SwinTransformer(\n",
    "    dim=embed_dim,\n",
    "    num_patch=(num_patch_x, num_patch_y),\n",
    "    num_heads=num_heads,\n",
    "    window_size=window_size,\n",
    "    shift_size=shift_size,\n",
    "    num_mlp=num_mlp,\n",
    "    qkv_bias=qkv_bias,\n",
    "    dropout_rate=dropout_rate,\n",
    ")(x)\n",
    "x = PatchMerging((num_patch_x, num_patch_y), embed_dim=embed_dim)(x)\n",
    "x = layers.GlobalAveragePooling1D()(x)\n",
    "dense = keras.layers.Dense(1024, activation='relu')(x)\n",
    "dense = keras.layers.Dense(512, activation='relu')(dense)\n",
    "dense = keras.layers.Dense(256, activation='relu')(dense)\n",
    "output = layers.Dense(num_classes, activation=\"softmax\")(dense)\n",
    "model = keras.Model(input, output)\n",
    "model.summary()"
   ]
  },
  {
   "cell_type": "code",
   "execution_count": 23,
   "metadata": {
    "id": "uooQNxtm3zGJ",
    "ExecuteTime": {
     "end_time": "2024-01-31T12:37:35.882746744Z",
     "start_time": "2024-01-31T11:35:54.888781291Z"
    }
   },
   "outputs": [
    {
     "name": "stdout",
     "output_type": "stream",
     "text": [
      "Epoch 1/200\n",
      "\u001B[1m4218/4218\u001B[0m \u001B[32m━━━━━━━━━━━━━━━━━━━━\u001B[0m\u001B[37m\u001B[0m \u001B[1m493s\u001B[0m 109ms/step - accuracy: 0.0336 - loss: 3.4970 - top-5-accuracy: 0.1650 - val_accuracy: 0.0675 - val_loss: 3.3195 - val_top-5-accuracy: 0.2979 - learning_rate: 0.0010\n",
      "Epoch 2/200\n",
      "\u001B[1m4218/4218\u001B[0m \u001B[32m━━━━━━━━━━━━━━━━━━━━\u001B[0m\u001B[37m\u001B[0m \u001B[1m55s\u001B[0m 13ms/step - accuracy: 0.1053 - loss: 3.1188 - top-5-accuracy: 0.4102 - val_accuracy: 0.1985 - val_loss: 2.8040 - val_top-5-accuracy: 0.5850 - learning_rate: 0.0010\n",
      "Epoch 3/200\n",
      "\u001B[1m4218/4218\u001B[0m \u001B[32m━━━━━━━━━━━━━━━━━━━━\u001B[0m\u001B[37m\u001B[0m \u001B[1m56s\u001B[0m 13ms/step - accuracy: 0.2709 - loss: 2.5649 - top-5-accuracy: 0.6972 - val_accuracy: 0.3126 - val_loss: 2.4982 - val_top-5-accuracy: 0.7226 - learning_rate: 0.0010\n",
      "Epoch 4/200\n",
      "\u001B[1m4218/4218\u001B[0m \u001B[32m━━━━━━━━━━━━━━━━━━━━\u001B[0m\u001B[37m\u001B[0m \u001B[1m55s\u001B[0m 13ms/step - accuracy: 0.4088 - loss: 2.1889 - top-5-accuracy: 0.8221 - val_accuracy: 0.3748 - val_loss: 2.3219 - val_top-5-accuracy: 0.7819 - learning_rate: 0.0010\n",
      "Epoch 5/200\n",
      "\u001B[1m4218/4218\u001B[0m \u001B[32m━━━━━━━━━━━━━━━━━━━━\u001B[0m\u001B[37m\u001B[0m \u001B[1m54s\u001B[0m 13ms/step - accuracy: 0.5139 - loss: 1.9262 - top-5-accuracy: 0.8820 - val_accuracy: 0.4688 - val_loss: 2.0658 - val_top-5-accuracy: 0.8356 - learning_rate: 0.0010\n",
      "Epoch 6/200\n",
      "\u001B[1m4218/4218\u001B[0m \u001B[32m━━━━━━━━━━━━━━━━━━━━\u001B[0m\u001B[37m\u001B[0m \u001B[1m53s\u001B[0m 13ms/step - accuracy: 0.5963 - loss: 1.7249 - top-5-accuracy: 0.9168 - val_accuracy: 0.4852 - val_loss: 2.0587 - val_top-5-accuracy: 0.8414 - learning_rate: 0.0010\n",
      "Epoch 7/200\n",
      "\u001B[1m4218/4218\u001B[0m \u001B[32m━━━━━━━━━━━━━━━━━━━━\u001B[0m\u001B[37m\u001B[0m \u001B[1m53s\u001B[0m 13ms/step - accuracy: 0.6613 - loss: 1.5677 - top-5-accuracy: 0.9370 - val_accuracy: 0.5272 - val_loss: 1.9396 - val_top-5-accuracy: 0.8685 - learning_rate: 0.0010\n",
      "Epoch 8/200\n",
      "\u001B[1m4218/4218\u001B[0m \u001B[32m━━━━━━━━━━━━━━━━━━━━\u001B[0m\u001B[37m\u001B[0m \u001B[1m61s\u001B[0m 14ms/step - accuracy: 0.7120 - loss: 1.4417 - top-5-accuracy: 0.9527 - val_accuracy: 0.5461 - val_loss: 1.9516 - val_top-5-accuracy: 0.8768 - learning_rate: 0.0010\n",
      "Epoch 9/200\n",
      "\u001B[1m4218/4218\u001B[0m \u001B[32m━━━━━━━━━━━━━━━━━━━━\u001B[0m\u001B[37m\u001B[0m \u001B[1m54s\u001B[0m 13ms/step - accuracy: 0.7449 - loss: 1.3588 - top-5-accuracy: 0.9631 - val_accuracy: 0.5972 - val_loss: 1.7807 - val_top-5-accuracy: 0.8982 - learning_rate: 0.0010\n",
      "Epoch 10/200\n",
      "\u001B[1m4218/4218\u001B[0m \u001B[32m━━━━━━━━━━━━━━━━━━━━\u001B[0m\u001B[37m\u001B[0m \u001B[1m52s\u001B[0m 12ms/step - accuracy: 0.7740 - loss: 1.2935 - top-5-accuracy: 0.9680 - val_accuracy: 0.5972 - val_loss: 1.7911 - val_top-5-accuracy: 0.8997 - learning_rate: 0.0010\n",
      "Epoch 11/200\n",
      "\u001B[1m4218/4218\u001B[0m \u001B[32m━━━━━━━━━━━━━━━━━━━━\u001B[0m\u001B[37m\u001B[0m \u001B[1m52s\u001B[0m 12ms/step - accuracy: 0.7970 - loss: 1.2357 - top-5-accuracy: 0.9744 - val_accuracy: 0.6611 - val_loss: 1.6052 - val_top-5-accuracy: 0.9206 - learning_rate: 0.0010\n",
      "Epoch 12/200\n",
      "\u001B[1m4218/4218\u001B[0m \u001B[32m━━━━━━━━━━━━━━━━━━━━\u001B[0m\u001B[37m\u001B[0m \u001B[1m54s\u001B[0m 13ms/step - accuracy: 0.8155 - loss: 1.1939 - top-5-accuracy: 0.9769 - val_accuracy: 0.6897 - val_loss: 1.5333 - val_top-5-accuracy: 0.9325 - learning_rate: 0.0010\n",
      "Epoch 13/200\n",
      "\u001B[1m4218/4218\u001B[0m \u001B[32m━━━━━━━━━━━━━━━━━━━━\u001B[0m\u001B[37m\u001B[0m \u001B[1m52s\u001B[0m 12ms/step - accuracy: 0.8295 - loss: 1.1558 - top-5-accuracy: 0.9792 - val_accuracy: 0.6955 - val_loss: 1.5014 - val_top-5-accuracy: 0.9364 - learning_rate: 0.0010\n",
      "Epoch 14/200\n",
      "\u001B[1m4218/4218\u001B[0m \u001B[32m━━━━━━━━━━━━━━━━━━━━\u001B[0m\u001B[37m\u001B[0m \u001B[1m46s\u001B[0m 11ms/step - accuracy: 0.8401 - loss: 1.1214 - top-5-accuracy: 0.9831 - val_accuracy: 0.6672 - val_loss: 1.5860 - val_top-5-accuracy: 0.9306 - learning_rate: 0.0010\n",
      "Epoch 15/200\n",
      "\u001B[1m4218/4218\u001B[0m \u001B[32m━━━━━━━━━━━━━━━━━━━━\u001B[0m\u001B[37m\u001B[0m \u001B[1m55s\u001B[0m 13ms/step - accuracy: 0.8556 - loss: 1.0937 - top-5-accuracy: 0.9831 - val_accuracy: 0.7017 - val_loss: 1.4929 - val_top-5-accuracy: 0.9368 - learning_rate: 0.0010\n",
      "Epoch 16/200\n",
      "\u001B[1m4218/4218\u001B[0m \u001B[32m━━━━━━━━━━━━━━━━━━━━\u001B[0m\u001B[37m\u001B[0m \u001B[1m54s\u001B[0m 13ms/step - accuracy: 0.8619 - loss: 1.0728 - top-5-accuracy: 0.9856 - val_accuracy: 0.7094 - val_loss: 1.4906 - val_top-5-accuracy: 0.9400 - learning_rate: 0.0010\n",
      "Epoch 17/200\n",
      "\u001B[1m4218/4218\u001B[0m \u001B[32m━━━━━━━━━━━━━━━━━━━━\u001B[0m\u001B[37m\u001B[0m \u001B[1m44s\u001B[0m 10ms/step - accuracy: 0.8735 - loss: 1.0467 - top-5-accuracy: 0.9876 - val_accuracy: 0.7147 - val_loss: 1.4644 - val_top-5-accuracy: 0.9389 - learning_rate: 0.0010\n",
      "Epoch 18/200\n",
      "\u001B[1m4218/4218\u001B[0m \u001B[32m━━━━━━━━━━━━━━━━━━━━\u001B[0m\u001B[37m\u001B[0m \u001B[1m46s\u001B[0m 11ms/step - accuracy: 0.8812 - loss: 1.0264 - top-5-accuracy: 0.9885 - val_accuracy: 0.6432 - val_loss: 1.6879 - val_top-5-accuracy: 0.9145 - learning_rate: 0.0010\n",
      "Epoch 19/200\n",
      "\u001B[1m4218/4218\u001B[0m \u001B[32m━━━━━━━━━━━━━━━━━━━━\u001B[0m\u001B[37m\u001B[0m \u001B[1m45s\u001B[0m 11ms/step - accuracy: 0.8885 - loss: 1.0117 - top-5-accuracy: 0.9894 - val_accuracy: 0.7277 - val_loss: 1.4445 - val_top-5-accuracy: 0.9396 - learning_rate: 0.0010\n",
      "Epoch 20/200\n",
      "\u001B[1m4218/4218\u001B[0m \u001B[32m━━━━━━━━━━━━━━━━━━━━\u001B[0m\u001B[37m\u001B[0m \u001B[1m42s\u001B[0m 10ms/step - accuracy: 0.8930 - loss: 0.9943 - top-5-accuracy: 0.9901 - val_accuracy: 0.7377 - val_loss: 1.4172 - val_top-5-accuracy: 0.9491 - learning_rate: 0.0010\n",
      "Epoch 21/200\n",
      "\u001B[1m4218/4218\u001B[0m \u001B[32m━━━━━━━━━━━━━━━━━━━━\u001B[0m\u001B[37m\u001B[0m \u001B[1m46s\u001B[0m 11ms/step - accuracy: 0.9012 - loss: 0.9752 - top-5-accuracy: 0.9906 - val_accuracy: 0.7349 - val_loss: 1.4197 - val_top-5-accuracy: 0.9444 - learning_rate: 0.0010\n",
      "Epoch 22/200\n",
      "\u001B[1m4218/4218\u001B[0m \u001B[32m━━━━━━━━━━━━━━━━━━━━\u001B[0m\u001B[37m\u001B[0m \u001B[1m43s\u001B[0m 10ms/step - accuracy: 0.9041 - loss: 0.9686 - top-5-accuracy: 0.9912 - val_accuracy: 0.7641 - val_loss: 1.3377 - val_top-5-accuracy: 0.9531 - learning_rate: 0.0010\n",
      "Epoch 23/200\n",
      "\u001B[1m4218/4218\u001B[0m \u001B[32m━━━━━━━━━━━━━━━━━━━━\u001B[0m\u001B[37m\u001B[0m \u001B[1m44s\u001B[0m 10ms/step - accuracy: 0.9076 - loss: 0.9552 - top-5-accuracy: 0.9914 - val_accuracy: 0.7430 - val_loss: 1.4074 - val_top-5-accuracy: 0.9457 - learning_rate: 0.0010\n",
      "Epoch 24/200\n",
      "\u001B[1m4218/4218\u001B[0m \u001B[32m━━━━━━━━━━━━━━━━━━━━\u001B[0m\u001B[37m\u001B[0m \u001B[1m44s\u001B[0m 10ms/step - accuracy: 0.9086 - loss: 0.9514 - top-5-accuracy: 0.9918 - val_accuracy: 0.7718 - val_loss: 1.3354 - val_top-5-accuracy: 0.9543 - learning_rate: 0.0010\n",
      "Epoch 25/200\n",
      "\u001B[1m4218/4218\u001B[0m \u001B[32m━━━━━━━━━━━━━━━━━━━━\u001B[0m\u001B[37m\u001B[0m \u001B[1m49s\u001B[0m 12ms/step - accuracy: 0.9180 - loss: 0.9289 - top-5-accuracy: 0.9922 - val_accuracy: 0.7394 - val_loss: 1.4098 - val_top-5-accuracy: 0.9467 - learning_rate: 0.0010\n",
      "Epoch 26/200\n",
      "\u001B[1m4218/4218\u001B[0m \u001B[32m━━━━━━━━━━━━━━━━━━━━\u001B[0m\u001B[37m\u001B[0m \u001B[1m54s\u001B[0m 13ms/step - accuracy: 0.9189 - loss: 0.9240 - top-5-accuracy: 0.9934 - val_accuracy: 0.7762 - val_loss: 1.3302 - val_top-5-accuracy: 0.9537 - learning_rate: 0.0010\n",
      "Epoch 27/200\n",
      "\u001B[1m4218/4218\u001B[0m \u001B[32m━━━━━━━━━━━━━━━━━━━━\u001B[0m\u001B[37m\u001B[0m \u001B[1m55s\u001B[0m 13ms/step - accuracy: 0.9229 - loss: 0.9134 - top-5-accuracy: 0.9939 - val_accuracy: 0.7533 - val_loss: 1.3851 - val_top-5-accuracy: 0.9456 - learning_rate: 0.0010\n",
      "Epoch 28/200\n",
      "\u001B[1m4218/4218\u001B[0m \u001B[32m━━━━━━━━━━━━━━━━━━━━\u001B[0m\u001B[37m\u001B[0m \u001B[1m48s\u001B[0m 11ms/step - accuracy: 0.9253 - loss: 0.9070 - top-5-accuracy: 0.9937 - val_accuracy: 0.7561 - val_loss: 1.3751 - val_top-5-accuracy: 0.9520 - learning_rate: 0.0010\n",
      "Epoch 29/200\n",
      "\u001B[1m4218/4218\u001B[0m \u001B[32m━━━━━━━━━━━━━━━━━━━━\u001B[0m\u001B[37m\u001B[0m \u001B[1m45s\u001B[0m 11ms/step - accuracy: 0.9287 - loss: 0.8995 - top-5-accuracy: 0.9940 - val_accuracy: 0.7921 - val_loss: 1.2767 - val_top-5-accuracy: 0.9575 - learning_rate: 0.0010\n",
      "Epoch 30/200\n",
      "\u001B[1m4218/4218\u001B[0m \u001B[32m━━━━━━━━━━━━━━━━━━━━\u001B[0m\u001B[37m\u001B[0m \u001B[1m44s\u001B[0m 10ms/step - accuracy: 0.9322 - loss: 0.8922 - top-5-accuracy: 0.9943 - val_accuracy: 0.7857 - val_loss: 1.2896 - val_top-5-accuracy: 0.9595 - learning_rate: 0.0010\n",
      "Epoch 31/200\n",
      "\u001B[1m4218/4218\u001B[0m \u001B[32m━━━━━━━━━━━━━━━━━━━━\u001B[0m\u001B[37m\u001B[0m \u001B[1m44s\u001B[0m 10ms/step - accuracy: 0.9327 - loss: 0.8881 - top-5-accuracy: 0.9947 - val_accuracy: 0.7898 - val_loss: 1.2824 - val_top-5-accuracy: 0.9608 - learning_rate: 0.0010\n",
      "Epoch 32/200\n",
      "\u001B[1m4218/4218\u001B[0m \u001B[32m━━━━━━━━━━━━━━━━━━━━\u001B[0m\u001B[37m\u001B[0m \u001B[1m45s\u001B[0m 11ms/step - accuracy: 0.9343 - loss: 0.8815 - top-5-accuracy: 0.9948 - val_accuracy: 0.7942 - val_loss: 1.2774 - val_top-5-accuracy: 0.9565 - learning_rate: 0.0010\n",
      "Epoch 33/200\n",
      "\u001B[1m4218/4218\u001B[0m \u001B[32m━━━━━━━━━━━━━━━━━━━━\u001B[0m\u001B[37m\u001B[0m \u001B[1m45s\u001B[0m 11ms/step - accuracy: 0.9624 - loss: 0.8082 - top-5-accuracy: 0.9977 - val_accuracy: 0.8621 - val_loss: 1.0572 - val_top-5-accuracy: 0.9769 - learning_rate: 1.0000e-04\n",
      "Epoch 34/200\n",
      "\u001B[1m4218/4218\u001B[0m \u001B[32m━━━━━━━━━━━━━━━━━━━━\u001B[0m\u001B[37m\u001B[0m \u001B[1m45s\u001B[0m 11ms/step - accuracy: 0.9790 - loss: 0.7566 - top-5-accuracy: 0.9986 - val_accuracy: 0.8736 - val_loss: 1.0310 - val_top-5-accuracy: 0.9792 - learning_rate: 1.0000e-04\n",
      "Epoch 35/200\n",
      "\u001B[1m4218/4218\u001B[0m \u001B[32m━━━━━━━━━━━━━━━━━━━━\u001B[0m\u001B[37m\u001B[0m \u001B[1m45s\u001B[0m 11ms/step - accuracy: 0.9814 - loss: 0.7459 - top-5-accuracy: 0.9988 - val_accuracy: 0.8757 - val_loss: 1.0265 - val_top-5-accuracy: 0.9793 - learning_rate: 1.0000e-04\n",
      "Epoch 36/200\n",
      "\u001B[1m4218/4218\u001B[0m \u001B[32m━━━━━━━━━━━━━━━━━━━━\u001B[0m\u001B[37m\u001B[0m \u001B[1m47s\u001B[0m 11ms/step - accuracy: 0.9839 - loss: 0.7378 - top-5-accuracy: 0.9989 - val_accuracy: 0.8760 - val_loss: 1.0262 - val_top-5-accuracy: 0.9780 - learning_rate: 1.0000e-04\n",
      "Epoch 37/200\n",
      "\u001B[1m4218/4218\u001B[0m \u001B[32m━━━━━━━━━━━━━━━━━━━━\u001B[0m\u001B[37m\u001B[0m \u001B[1m45s\u001B[0m 11ms/step - accuracy: 0.9851 - loss: 0.7321 - top-5-accuracy: 0.9991 - val_accuracy: 0.8840 - val_loss: 1.0079 - val_top-5-accuracy: 0.9793 - learning_rate: 1.0000e-04\n",
      "Epoch 38/200\n",
      "\u001B[1m4218/4218\u001B[0m \u001B[32m━━━━━━━━━━━━━━━━━━━━\u001B[0m\u001B[37m\u001B[0m \u001B[1m45s\u001B[0m 11ms/step - accuracy: 0.9857 - loss: 0.7286 - top-5-accuracy: 0.9993 - val_accuracy: 0.8868 - val_loss: 1.0078 - val_top-5-accuracy: 0.9791 - learning_rate: 1.0000e-04\n",
      "Epoch 39/200\n",
      "\u001B[1m4218/4218\u001B[0m \u001B[32m━━━━━━━━━━━━━━━━━━━━\u001B[0m\u001B[37m\u001B[0m \u001B[1m44s\u001B[0m 11ms/step - accuracy: 0.9867 - loss: 0.7252 - top-5-accuracy: 0.9993 - val_accuracy: 0.8826 - val_loss: 1.0080 - val_top-5-accuracy: 0.9796 - learning_rate: 1.0000e-04\n",
      "Epoch 40/200\n",
      "\u001B[1m4218/4218\u001B[0m \u001B[32m━━━━━━━━━━━━━━━━━━━━\u001B[0m\u001B[37m\u001B[0m \u001B[1m55s\u001B[0m 13ms/step - accuracy: 0.9871 - loss: 0.7231 - top-5-accuracy: 0.9994 - val_accuracy: 0.8873 - val_loss: 0.9928 - val_top-5-accuracy: 0.9796 - learning_rate: 1.0000e-04\n",
      "Epoch 41/200\n",
      "\u001B[1m4218/4218\u001B[0m \u001B[32m━━━━━━━━━━━━━━━━━━━━\u001B[0m\u001B[37m\u001B[0m \u001B[1m53s\u001B[0m 13ms/step - accuracy: 0.9882 - loss: 0.7212 - top-5-accuracy: 0.9993 - val_accuracy: 0.8866 - val_loss: 0.9943 - val_top-5-accuracy: 0.9804 - learning_rate: 1.0000e-04\n",
      "Epoch 42/200\n",
      "\u001B[1m4218/4218\u001B[0m \u001B[32m━━━━━━━━━━━━━━━━━━━━\u001B[0m\u001B[37m\u001B[0m \u001B[1m50s\u001B[0m 12ms/step - accuracy: 0.9884 - loss: 0.7186 - top-5-accuracy: 0.9995 - val_accuracy: 0.8842 - val_loss: 1.0074 - val_top-5-accuracy: 0.9797 - learning_rate: 1.0000e-04\n",
      "Epoch 43/200\n",
      "\u001B[1m4218/4218\u001B[0m \u001B[32m━━━━━━━━━━━━━━━━━━━━\u001B[0m\u001B[37m\u001B[0m \u001B[1m52s\u001B[0m 12ms/step - accuracy: 0.9890 - loss: 0.7171 - top-5-accuracy: 0.9995 - val_accuracy: 0.8874 - val_loss: 0.9980 - val_top-5-accuracy: 0.9804 - learning_rate: 1.0000e-04\n",
      "Epoch 44/200\n",
      "\u001B[1m4218/4218\u001B[0m \u001B[32m━━━━━━━━━━━━━━━━━━━━\u001B[0m\u001B[37m\u001B[0m \u001B[1m53s\u001B[0m 13ms/step - accuracy: 0.9895 - loss: 0.7152 - top-5-accuracy: 0.9996 - val_accuracy: 0.8918 - val_loss: 0.9858 - val_top-5-accuracy: 0.9811 - learning_rate: 1.0000e-05\n",
      "Epoch 45/200\n",
      "\u001B[1m4218/4218\u001B[0m \u001B[32m━━━━━━━━━━━━━━━━━━━━\u001B[0m\u001B[37m\u001B[0m \u001B[1m53s\u001B[0m 13ms/step - accuracy: 0.9910 - loss: 0.7108 - top-5-accuracy: 0.9996 - val_accuracy: 0.8902 - val_loss: 0.9849 - val_top-5-accuracy: 0.9811 - learning_rate: 1.0000e-05\n",
      "Epoch 46/200\n",
      "\u001B[1m4218/4218\u001B[0m \u001B[32m━━━━━━━━━━━━━━━━━━━━\u001B[0m\u001B[37m\u001B[0m \u001B[1m55s\u001B[0m 13ms/step - accuracy: 0.9913 - loss: 0.7097 - top-5-accuracy: 0.9996 - val_accuracy: 0.8909 - val_loss: 0.9876 - val_top-5-accuracy: 0.9804 - learning_rate: 1.0000e-05\n",
      "Epoch 47/200\n",
      "\u001B[1m4218/4218\u001B[0m \u001B[32m━━━━━━━━━━━━━━━━━━━━\u001B[0m\u001B[37m\u001B[0m \u001B[1m52s\u001B[0m 12ms/step - accuracy: 0.9918 - loss: 0.7091 - top-5-accuracy: 0.9996 - val_accuracy: 0.8952 - val_loss: 0.9800 - val_top-5-accuracy: 0.9807 - learning_rate: 1.0000e-05\n",
      "Epoch 48/200\n",
      "\u001B[1m4218/4218\u001B[0m \u001B[32m━━━━━━━━━━━━━━━━━━━━\u001B[0m\u001B[37m\u001B[0m \u001B[1m52s\u001B[0m 12ms/step - accuracy: 0.9910 - loss: 0.7094 - top-5-accuracy: 0.9995 - val_accuracy: 0.8977 - val_loss: 0.9777 - val_top-5-accuracy: 0.9809 - learning_rate: 1.0000e-05\n",
      "Epoch 49/200\n",
      "\u001B[1m4218/4218\u001B[0m \u001B[32m━━━━━━━━━━━━━━━━━━━━\u001B[0m\u001B[37m\u001B[0m \u001B[1m51s\u001B[0m 12ms/step - accuracy: 0.9913 - loss: 0.7088 - top-5-accuracy: 0.9997 - val_accuracy: 0.8953 - val_loss: 0.9765 - val_top-5-accuracy: 0.9804 - learning_rate: 1.0000e-05\n",
      "Epoch 50/200\n",
      "\u001B[1m4218/4218\u001B[0m \u001B[32m━━━━━━━━━━━━━━━━━━━━\u001B[0m\u001B[37m\u001B[0m \u001B[1m52s\u001B[0m 12ms/step - accuracy: 0.9921 - loss: 0.7076 - top-5-accuracy: 0.9996 - val_accuracy: 0.8952 - val_loss: 0.9803 - val_top-5-accuracy: 0.9804 - learning_rate: 1.0000e-05\n",
      "Epoch 51/200\n",
      "\u001B[1m4218/4218\u001B[0m \u001B[32m━━━━━━━━━━━━━━━━━━━━\u001B[0m\u001B[37m\u001B[0m \u001B[1m45s\u001B[0m 11ms/step - accuracy: 0.9924 - loss: 0.7068 - top-5-accuracy: 0.9997 - val_accuracy: 0.8965 - val_loss: 0.9765 - val_top-5-accuracy: 0.9807 - learning_rate: 1.0000e-05\n",
      "Epoch 52/200\n",
      "\u001B[1m4218/4218\u001B[0m \u001B[32m━━━━━━━━━━━━━━━━━━━━\u001B[0m\u001B[37m\u001B[0m \u001B[1m43s\u001B[0m 10ms/step - accuracy: 0.9919 - loss: 0.7069 - top-5-accuracy: 0.9996 - val_accuracy: 0.8980 - val_loss: 0.9744 - val_top-5-accuracy: 0.9808 - learning_rate: 1.0000e-05\n",
      "Epoch 53/200\n",
      "\u001B[1m4218/4218\u001B[0m \u001B[32m━━━━━━━━━━━━━━━━━━━━\u001B[0m\u001B[37m\u001B[0m \u001B[1m49s\u001B[0m 12ms/step - accuracy: 0.9925 - loss: 0.7065 - top-5-accuracy: 0.9996 - val_accuracy: 0.8972 - val_loss: 0.9769 - val_top-5-accuracy: 0.9801 - learning_rate: 1.0000e-05\n",
      "Epoch 54/200\n",
      "\u001B[1m4218/4218\u001B[0m \u001B[32m━━━━━━━━━━━━━━━━━━━━\u001B[0m\u001B[37m\u001B[0m \u001B[1m53s\u001B[0m 13ms/step - accuracy: 0.9919 - loss: 0.7072 - top-5-accuracy: 0.9997 - val_accuracy: 0.8969 - val_loss: 0.9760 - val_top-5-accuracy: 0.9801 - learning_rate: 1.0000e-05\n",
      "Epoch 55/200\n",
      "\u001B[1m4218/4218\u001B[0m \u001B[32m━━━━━━━━━━━━━━━━━━━━\u001B[0m\u001B[37m\u001B[0m \u001B[1m51s\u001B[0m 12ms/step - accuracy: 0.9921 - loss: 0.7064 - top-5-accuracy: 0.9997 - val_accuracy: 0.8969 - val_loss: 0.9749 - val_top-5-accuracy: 0.9803 - learning_rate: 1.0000e-05\n",
      "Epoch 56/200\n",
      "\u001B[1m4218/4218\u001B[0m \u001B[32m━━━━━━━━━━━━━━━━━━━━\u001B[0m\u001B[37m\u001B[0m \u001B[1m55s\u001B[0m 13ms/step - accuracy: 0.9923 - loss: 0.7059 - top-5-accuracy: 0.9997 - val_accuracy: 0.8978 - val_loss: 0.9732 - val_top-5-accuracy: 0.9799 - learning_rate: 1.0000e-06\n",
      "Epoch 57/200\n",
      "\u001B[1m4218/4218\u001B[0m \u001B[32m━━━━━━━━━━━━━━━━━━━━\u001B[0m\u001B[37m\u001B[0m \u001B[1m56s\u001B[0m 13ms/step - accuracy: 0.9923 - loss: 0.7058 - top-5-accuracy: 0.9997 - val_accuracy: 0.8988 - val_loss: 0.9714 - val_top-5-accuracy: 0.9801 - learning_rate: 1.0000e-06\n",
      "Epoch 58/200\n",
      "\u001B[1m4218/4218\u001B[0m \u001B[32m━━━━━━━━━━━━━━━━━━━━\u001B[0m\u001B[37m\u001B[0m \u001B[1m52s\u001B[0m 12ms/step - accuracy: 0.9921 - loss: 0.7065 - top-5-accuracy: 0.9997 - val_accuracy: 0.8994 - val_loss: 0.9693 - val_top-5-accuracy: 0.9805 - learning_rate: 1.0000e-06\n",
      "Epoch 59/200\n",
      "\u001B[1m4218/4218\u001B[0m \u001B[32m━━━━━━━━━━━━━━━━━━━━\u001B[0m\u001B[37m\u001B[0m \u001B[1m53s\u001B[0m 13ms/step - accuracy: 0.9927 - loss: 0.7049 - top-5-accuracy: 0.9997 - val_accuracy: 0.8986 - val_loss: 0.9709 - val_top-5-accuracy: 0.9801 - learning_rate: 1.0000e-06\n",
      "Epoch 60/200\n",
      "\u001B[1m4218/4218\u001B[0m \u001B[32m━━━━━━━━━━━━━━━━━━━━\u001B[0m\u001B[37m\u001B[0m \u001B[1m52s\u001B[0m 12ms/step - accuracy: 0.9925 - loss: 0.7056 - top-5-accuracy: 0.9997 - val_accuracy: 0.8989 - val_loss: 0.9710 - val_top-5-accuracy: 0.9803 - learning_rate: 1.0000e-06\n",
      "Epoch 61/200\n",
      "\u001B[1m4218/4218\u001B[0m \u001B[32m━━━━━━━━━━━━━━━━━━━━\u001B[0m\u001B[37m\u001B[0m \u001B[1m51s\u001B[0m 12ms/step - accuracy: 0.9928 - loss: 0.7053 - top-5-accuracy: 0.9997 - val_accuracy: 0.8992 - val_loss: 0.9707 - val_top-5-accuracy: 0.9800 - learning_rate: 1.0000e-06\n",
      "Epoch 62/200\n",
      "\u001B[1m4218/4218\u001B[0m \u001B[32m━━━━━━━━━━━━━━━━━━━━\u001B[0m\u001B[37m\u001B[0m \u001B[1m51s\u001B[0m 12ms/step - accuracy: 0.9925 - loss: 0.7052 - top-5-accuracy: 0.9996 - val_accuracy: 0.8992 - val_loss: 0.9706 - val_top-5-accuracy: 0.9801 - learning_rate: 1.0000e-07\n",
      "Epoch 63/200\n",
      "\u001B[1m4218/4218\u001B[0m \u001B[32m━━━━━━━━━━━━━━━━━━━━\u001B[0m\u001B[37m\u001B[0m \u001B[1m52s\u001B[0m 12ms/step - accuracy: 0.9925 - loss: 0.7059 - top-5-accuracy: 0.9996 - val_accuracy: 0.8992 - val_loss: 0.9704 - val_top-5-accuracy: 0.9801 - learning_rate: 1.0000e-07\n",
      "Epoch 64/200\n",
      "\u001B[1m4218/4218\u001B[0m \u001B[32m━━━━━━━━━━━━━━━━━━━━\u001B[0m\u001B[37m\u001B[0m \u001B[1m53s\u001B[0m 12ms/step - accuracy: 0.9921 - loss: 0.7059 - top-5-accuracy: 0.9996 - val_accuracy: 0.8994 - val_loss: 0.9704 - val_top-5-accuracy: 0.9801 - learning_rate: 1.0000e-07\n",
      "Epoch 65/200\n",
      "\u001B[1m4218/4218\u001B[0m \u001B[32m━━━━━━━━━━━━━━━━━━━━\u001B[0m\u001B[37m\u001B[0m \u001B[1m53s\u001B[0m 12ms/step - accuracy: 0.9927 - loss: 0.7054 - top-5-accuracy: 0.9997 - val_accuracy: 0.8994 - val_loss: 0.9704 - val_top-5-accuracy: 0.9801 - learning_rate: 1.0000e-08\n"
     ]
    }
   ],
   "source": [
    "reduce_lr = keras.callbacks.ReduceLROnPlateau(monitor='val_loss', factor=0.1, min_delta = 1e-5,\n",
    "                              patience=3, min_lr=1e-10)\n",
    "early_stop = keras.callbacks.EarlyStopping(monitor='val_loss', min_delta=1e-8, patience=7)\n",
    "tensorboard = keras.callbacks.TensorBoard(log_dir=\"./logs\")\n",
    "checkpoint_filepath = f\"tmp/swin_checkpoint.weights.h5\"\n",
    "checkpoint_callback = keras.callbacks.ModelCheckpoint(\n",
    "        checkpoint_filepath,\n",
    "        monitor=\"val_categorical_accuracy\",\n",
    "        save_best_only=True,\n",
    "        save_weights_only=True,\n",
    "    )\n",
    "\n",
    "callbacks = [reduce_lr, early_stop, tensorboard]\n",
    "\n",
    "model.compile(\n",
    "    loss=keras.losses.CategoricalCrossentropy(label_smoothing=label_smoothing),\n",
    "    optimizer=keras.optimizers.AdamW(\n",
    "        learning_rate=learning_rate, weight_decay=weight_decay\n",
    "    ),\n",
    "    metrics=[\n",
    "        keras.metrics.CategoricalAccuracy(name=\"accuracy\"),\n",
    "        keras.metrics.TopKCategoricalAccuracy(5, name=\"top-5-accuracy\"),\n",
    "    ],\n",
    ")\n",
    "\n",
    "history = model.fit(\n",
    "    dataset,\n",
    "    batch_size=batch_size,\n",
    "    epochs=num_epochs,\n",
    "    validation_data=dataset_val,\n",
    "    callbacks= callbacks\n",
    ")"
   ]
  },
  {
   "cell_type": "markdown",
   "metadata": {
    "id": "G0tjffc-3zGK"
   },
   "source": [
    "Let's visualize the training progress of the model."
   ]
  },
  {
   "cell_type": "code",
   "execution_count": 24,
   "metadata": {
    "id": "R-rFCLv53zGK",
    "ExecuteTime": {
     "end_time": "2024-01-31T12:38:29.846442014Z",
     "start_time": "2024-01-31T12:38:29.616300597Z"
    }
   },
   "outputs": [
    {
     "data": {
      "text/plain": "<Figure size 640x480 with 1 Axes>",
      "image/png": "[encoded data removed]"
     },
     "metadata": {},
     "output_type": "display_data"
    }
   ],
   "source": [
    "plt.plot(history.history[\"loss\"], label=\"train_loss\")\n",
    "plt.plot(history.history[\"val_loss\"], label=\"val_loss\")\n",
    "plt.xlabel(\"Epochs\")\n",
    "plt.ylabel(\"Loss\")\n",
    "plt.title(\"Train and Validation Losses Over Epochs\", fontsize=14)\n",
    "plt.legend()\n",
    "plt.grid()\n",
    "plt.show()"
   ]
  },
  {
   "cell_type": "code",
   "execution_count": 25,
   "metadata": {
    "id": "rh2icBYn3zGK",
    "ExecuteTime": {
     "end_time": "2024-01-31T12:38:42.849850523Z",
     "start_time": "2024-01-31T12:38:38.575622987Z"
    }
   },
   "outputs": [
    {
     "name": "stdout",
     "output_type": "stream",
     "text": [
      "\u001B[1m175/175\u001B[0m \u001B[32m━━━━━━━━━━━━━━━━━━━━\u001B[0m\u001B[37m\u001B[0m \u001B[1m4s\u001B[0m 24ms/step - accuracy: 0.9719 - loss: 0.7648 - top-5-accuracy: 0.9959\n",
      "Test loss: 0.85\n",
      "Test accuracy: 94.3%\n",
      "Test top 5 accuracy: 98.92%\n"
     ]
    }
   ],
   "source": [
    "loss, accuracy, top_5_accuracy = model.evaluate(dataset_test)\n",
    "print(f\"Test loss: {round(loss, 2)}\")\n",
    "print(f\"Test accuracy: {round(accuracy * 100, 2)}%\")\n",
    "print(f\"Test top 5 accuracy: {round(top_5_accuracy * 100, 2)}%\")"
   ]
  },
  {
   "cell_type": "code",
   "outputs": [],
   "source": [
    "model.save('models/swin.keras')"
   ],
   "metadata": {
    "collapsed": false,
    "ExecuteTime": {
     "end_time": "2024-01-31T12:38:59.780228260Z",
     "start_time": "2024-01-31T12:38:59.548944690Z"
    }
   },
   "execution_count": 26
  },
  {
   "cell_type": "code",
   "outputs": [
    {
     "ename": "NameError",
     "evalue": "name 'keras' is not defined",
     "output_type": "error",
     "traceback": [
      "\u001B[0;31m---------------------------------------------------------------------------\u001B[0m",
      "\u001B[0;31mNameError\u001B[0m                                 Traceback (most recent call last)",
      "Cell \u001B[0;32mIn[1], line 1\u001B[0m\n\u001B[0;32m----> 1\u001B[0m \u001B[43mkeras\u001B[49m\u001B[38;5;241m.\u001B[39mutils\u001B[38;5;241m.\u001B[39mplot_model(model,\u001B[38;5;124m'\u001B[39m\u001B[38;5;124mmodels/swin.jpg\u001B[39m\u001B[38;5;124m'\u001B[39m)\n",
      "\u001B[0;31mNameError\u001B[0m: name 'keras' is not defined"
     ]
    }
   ],
   "source": [
    "keras.utils.plot_model(model,'models/swin.jpg')"
   ],
   "metadata": {
    "collapsed": false,
    "ExecuteTime": {
     "end_time": "2024-01-31T14:07:56.542488968Z",
     "start_time": "2024-01-31T14:07:56.063449384Z"
    }
   },
   "execution_count": 1
  },
  {
   "cell_type": "code",
   "outputs": [],
   "source": [],
   "metadata": {
    "collapsed": false
   }
  }
 ],
 "metadata": {
  "accelerator": "GPU",
  "colab": {
   "name": "swin_transformers",
   "provenance": [],
   "toc_visible": true
  },
  "kernelspec": {
   "display_name": "Python 3",
   "language": "python",
   "name": "python3"
  },
  "language_info": {
   "codemirror_mode": {
    "name": "ipython",
    "version": 3
   },
   "file_extension": ".py",
   "mimetype": "text/x-python",
   "name": "python",
   "nbconvert_exporter": "python",
   "pygments_lexer": "ipython3",
   "version": "3.7.0"
  }
 },
 "nbformat": 4,
 "nbformat_minor": 0
}
