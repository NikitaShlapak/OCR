{
 "cells": [
  {
   "cell_type": "code",
   "execution_count": 1,
   "id": "initial_id",
   "metadata": {
    "collapsed": true,
    "ExecuteTime": {
     "end_time": "2024-03-13T08:43:29.634838Z",
     "start_time": "2024-03-13T08:43:26.753632Z"
    }
   },
   "outputs": [
    {
     "name": "stderr",
     "output_type": "stream",
     "text": [
      "2024-03-13 11:43:27.279603: E external/local_xla/xla/stream_executor/cuda/cuda_dnn.cc:9261] Unable to register cuDNN factory: Attempting to register factory for plugin cuDNN when one has already been registered\n",
      "2024-03-13 11:43:27.279649: E external/local_xla/xla/stream_executor/cuda/cuda_fft.cc:607] Unable to register cuFFT factory: Attempting to register factory for plugin cuFFT when one has already been registered\n",
      "2024-03-13 11:43:27.280817: E external/local_xla/xla/stream_executor/cuda/cuda_blas.cc:1515] Unable to register cuBLAS factory: Attempting to register factory for plugin cuBLAS when one has already been registered\n",
      "2024-03-13 11:43:27.287546: I tensorflow/core/platform/cpu_feature_guard.cc:182] This TensorFlow binary is optimized to use available CPU instructions in performance-critical operations.\n",
      "To enable the following instructions: AVX2 FMA, in other operations, rebuild TensorFlow with the appropriate compiler flags.\n",
      "2024-03-13 11:43:28.324421: W tensorflow/compiler/tf2tensorrt/utils/py_utils.cc:38] TF-TRT Warning: Could not find TensorRT\n"
     ]
    }
   ],
   "source": [
    "import tensorflow as tf"
   ]
  },
  {
   "cell_type": "code",
   "outputs": [],
   "source": [
    "test_string = 'Тест сплита строки'\n",
    "russian_chars = 'АаБбВвГгДдЕеЁёЖжЗзИиЙйКкЛлМмНнОоПпРрСсТтУуФфХхЦцЧчШшЩщЪъЫыЬьЭэЮюЯя'\n",
    "alphabet = russian_chars+ '!?. '"
   ],
   "metadata": {
    "collapsed": false,
    "ExecuteTime": {
     "end_time": "2024-03-13T08:43:29.638055Z",
     "start_time": "2024-03-13T08:43:29.636044Z"
    }
   },
   "id": "1233c95023fb31d7",
   "execution_count": 2
  },
  {
   "cell_type": "code",
   "outputs": [
    {
     "name": "stderr",
     "output_type": "stream",
     "text": [
      "2024-03-13 11:43:29.691005: I external/local_xla/xla/stream_executor/cuda/cuda_executor.cc:901] successful NUMA node read from SysFS had negative value (-1), but there must be at least one NUMA node, so returning NUMA node zero. See more at https://github.com/torvalds/linux/blob/v6.0/Documentation/ABI/testing/sysfs-bus-pci#L344-L355\n",
      "2024-03-13 11:43:29.726673: I external/local_xla/xla/stream_executor/cuda/cuda_executor.cc:901] successful NUMA node read from SysFS had negative value (-1), but there must be at least one NUMA node, so returning NUMA node zero. See more at https://github.com/torvalds/linux/blob/v6.0/Documentation/ABI/testing/sysfs-bus-pci#L344-L355\n",
      "2024-03-13 11:43:29.727204: I external/local_xla/xla/stream_executor/cuda/cuda_executor.cc:901] successful NUMA node read from SysFS had negative value (-1), but there must be at least one NUMA node, so returning NUMA node zero. See more at https://github.com/torvalds/linux/blob/v6.0/Documentation/ABI/testing/sysfs-bus-pci#L344-L355\n",
      "2024-03-13 11:43:29.729294: I external/local_xla/xla/stream_executor/cuda/cuda_executor.cc:901] successful NUMA node read from SysFS had negative value (-1), but there must be at least one NUMA node, so returning NUMA node zero. See more at https://github.com/torvalds/linux/blob/v6.0/Documentation/ABI/testing/sysfs-bus-pci#L344-L355\n",
      "2024-03-13 11:43:29.729621: I external/local_xla/xla/stream_executor/cuda/cuda_executor.cc:901] successful NUMA node read from SysFS had negative value (-1), but there must be at least one NUMA node, so returning NUMA node zero. See more at https://github.com/torvalds/linux/blob/v6.0/Documentation/ABI/testing/sysfs-bus-pci#L344-L355\n",
      "2024-03-13 11:43:29.729873: I external/local_xla/xla/stream_executor/cuda/cuda_executor.cc:901] successful NUMA node read from SysFS had negative value (-1), but there must be at least one NUMA node, so returning NUMA node zero. See more at https://github.com/torvalds/linux/blob/v6.0/Documentation/ABI/testing/sysfs-bus-pci#L344-L355\n",
      "2024-03-13 11:43:29.829209: I external/local_xla/xla/stream_executor/cuda/cuda_executor.cc:901] successful NUMA node read from SysFS had negative value (-1), but there must be at least one NUMA node, so returning NUMA node zero. See more at https://github.com/torvalds/linux/blob/v6.0/Documentation/ABI/testing/sysfs-bus-pci#L344-L355\n",
      "2024-03-13 11:43:29.829408: I external/local_xla/xla/stream_executor/cuda/cuda_executor.cc:901] successful NUMA node read from SysFS had negative value (-1), but there must be at least one NUMA node, so returning NUMA node zero. See more at https://github.com/torvalds/linux/blob/v6.0/Documentation/ABI/testing/sysfs-bus-pci#L344-L355\n",
      "2024-03-13 11:43:29.829579: I external/local_xla/xla/stream_executor/cuda/cuda_executor.cc:901] successful NUMA node read from SysFS had negative value (-1), but there must be at least one NUMA node, so returning NUMA node zero. See more at https://github.com/torvalds/linux/blob/v6.0/Documentation/ABI/testing/sysfs-bus-pci#L344-L355\n",
      "2024-03-13 11:43:29.829723: I tensorflow/core/common_runtime/gpu/gpu_device.cc:1929] Created device /job:localhost/replica:0/task:0/device:GPU:0 with 129 MB memory:  -> device: 0, name: NVIDIA GeForce RTX 4060 Laptop GPU, pci bus id: 0000:01:00.0, compute capability: 8.9\n",
      "2024-03-13 11:43:29.841451: I external/local_xla/xla/stream_executor/cuda/cuda_driver.cc:1101] failed to allocate 129.06MiB (135331840 bytes) from device: CUDA_ERROR_OUT_OF_MEMORY: out of memory\n"
     ]
    },
    {
     "data": {
      "text/plain": "array([b'\\xd0\\x90 \\xd0\\xb0', b'\\xd0\\xb0 \\xd0\\x91', b'\\xd0\\x91 \\xd0\\xb1',\n       b'\\xd0\\xb1 \\xd0\\x92', b'\\xd0\\x92 \\xd0\\xb2', b'\\xd0\\xb2 \\xd0\\x93',\n       b'\\xd0\\x93 \\xd0\\xb3', b'\\xd0\\xb3 \\xd0\\x94', b'\\xd0\\x94 \\xd0\\xb4',\n       b'\\xd0\\xb4 \\xd0\\x95', b'\\xd0\\x95 \\xd0\\xb5', b'\\xd0\\xb5 \\xd0\\x81',\n       b'\\xd0\\x81 \\xd1\\x91', b'\\xd1\\x91 \\xd0\\x96', b'\\xd0\\x96 \\xd0\\xb6',\n       b'\\xd0\\xb6 \\xd0\\x97', b'\\xd0\\x97 \\xd0\\xb7', b'\\xd0\\xb7 \\xd0\\x98',\n       b'\\xd0\\x98 \\xd0\\xb8', b'\\xd0\\xb8 \\xd0\\x99', b'\\xd0\\x99 \\xd0\\xb9',\n       b'\\xd0\\xb9 \\xd0\\x9a', b'\\xd0\\x9a \\xd0\\xba', b'\\xd0\\xba \\xd0\\x9b',\n       b'\\xd0\\x9b \\xd0\\xbb', b'\\xd0\\xbb \\xd0\\x9c', b'\\xd0\\x9c \\xd0\\xbc',\n       b'\\xd0\\xbc \\xd0\\x9d', b'\\xd0\\x9d \\xd0\\xbd', b'\\xd0\\xbd \\xd0\\x9e',\n       b'\\xd0\\x9e \\xd0\\xbe', b'\\xd0\\xbe \\xd0\\x9f', b'\\xd0\\x9f \\xd0\\xbf',\n       b'\\xd0\\xbf \\xd0\\xa0', b'\\xd0\\xa0 \\xd1\\x80', b'\\xd1\\x80 \\xd0\\xa1',\n       b'\\xd0\\xa1 \\xd1\\x81', b'\\xd1\\x81 \\xd0\\xa2', b'\\xd0\\xa2 \\xd1\\x82',\n       b'\\xd1\\x82 \\xd0\\xa3', b'\\xd0\\xa3 \\xd1\\x83', b'\\xd1\\x83 \\xd0\\xa4',\n       b'\\xd0\\xa4 \\xd1\\x84', b'\\xd1\\x84 \\xd0\\xa5', b'\\xd0\\xa5 \\xd1\\x85',\n       b'\\xd1\\x85 \\xd0\\xa6', b'\\xd0\\xa6 \\xd1\\x86', b'\\xd1\\x86 \\xd0\\xa7',\n       b'\\xd0\\xa7 \\xd1\\x87', b'\\xd1\\x87 \\xd0\\xa8', b'\\xd0\\xa8 \\xd1\\x88',\n       b'\\xd1\\x88 \\xd0\\xa9', b'\\xd0\\xa9 \\xd1\\x89', b'\\xd1\\x89 \\xd0\\xaa',\n       b'\\xd0\\xaa \\xd1\\x8a', b'\\xd1\\x8a \\xd0\\xab', b'\\xd0\\xab \\xd1\\x8b',\n       b'\\xd1\\x8b \\xd0\\xac', b'\\xd0\\xac \\xd1\\x8c', b'\\xd1\\x8c \\xd0\\xad',\n       b'\\xd0\\xad \\xd1\\x8d', b'\\xd1\\x8d \\xd0\\xae', b'\\xd0\\xae \\xd1\\x8e',\n       b'\\xd1\\x8e \\xd0\\xaf', b'\\xd0\\xaf \\xd1\\x8f', b'\\xd1\\x8f !', b'! ?',\n       b'? .', b'.  '], dtype=object)"
     },
     "execution_count": 3,
     "metadata": {},
     "output_type": "execute_result"
    }
   ],
   "source": [
    "tf.strings.ngrams(list(alphabet), 2).numpy()"
   ],
   "metadata": {
    "collapsed": false,
    "ExecuteTime": {
     "end_time": "2024-03-13T08:43:29.864969Z",
     "start_time": "2024-03-13T08:43:29.638640Z"
    }
   },
   "id": "7afaaa1925c2f34d",
   "execution_count": 3
  },
  {
   "cell_type": "code",
   "outputs": [
    {
     "data": {
      "text/plain": "array([b'\\xd0\\x90', b'\\xd0\\xb0', b'\\xd0\\x91', b'\\xd0\\xb1', b'\\xd0\\x92',\n       b'\\xd0\\xb2', b'\\xd0\\x93', b'\\xd0\\xb3', b'\\xd0\\x94', b'\\xd0\\xb4',\n       b'\\xd0\\x95', b'\\xd0\\xb5', b'\\xd0\\x81', b'\\xd1\\x91', b'\\xd0\\x96',\n       b'\\xd0\\xb6', b'\\xd0\\x97', b'\\xd0\\xb7', b'\\xd0\\x98', b'\\xd0\\xb8',\n       b'\\xd0\\x99', b'\\xd0\\xb9', b'\\xd0\\x9a', b'\\xd0\\xba', b'\\xd0\\x9b',\n       b'\\xd0\\xbb', b'\\xd0\\x9c', b'\\xd0\\xbc', b'\\xd0\\x9d', b'\\xd0\\xbd',\n       b'\\xd0\\x9e', b'\\xd0\\xbe', b'\\xd0\\x9f', b'\\xd0\\xbf', b'\\xd0\\xa0',\n       b'\\xd1\\x80', b'\\xd0\\xa1', b'\\xd1\\x81', b'\\xd0\\xa2', b'\\xd1\\x82',\n       b'\\xd0\\xa3', b'\\xd1\\x83', b'\\xd0\\xa4', b'\\xd1\\x84', b'\\xd0\\xa5',\n       b'\\xd1\\x85', b'\\xd0\\xa6', b'\\xd1\\x86', b'\\xd0\\xa7', b'\\xd1\\x87',\n       b'\\xd0\\xa8', b'\\xd1\\x88', b'\\xd0\\xa9', b'\\xd1\\x89', b'\\xd0\\xaa',\n       b'\\xd1\\x8a', b'\\xd0\\xab', b'\\xd1\\x8b', b'\\xd0\\xac', b'\\xd1\\x8c',\n       b'\\xd0\\xad', b'\\xd1\\x8d', b'\\xd0\\xae', b'\\xd1\\x8e', b'\\xd0\\xaf',\n       b'\\xd1\\x8f', b'!', b'?', b'.', b' '], dtype=object)"
     },
     "execution_count": 4,
     "metadata": {},
     "output_type": "execute_result"
    }
   ],
   "source": [
    "tf.strings.unicode_transcode(list(alphabet), \"UTF-8\", \"UTF-8\").numpy()"
   ],
   "metadata": {
    "collapsed": false,
    "ExecuteTime": {
     "end_time": "2024-03-13T08:43:29.868909Z",
     "start_time": "2024-03-13T08:43:29.865618Z"
    }
   },
   "id": "cd600edc5d38abcc",
   "execution_count": 4
  },
  {
   "cell_type": "code",
   "outputs": [],
   "source": [
    "import string\n",
    "import keras\n",
    "import re"
   ],
   "metadata": {
    "collapsed": false,
    "ExecuteTime": {
     "end_time": "2024-03-13T08:43:29.872032Z",
     "start_time": "2024-03-13T08:43:29.870077Z"
    }
   },
   "id": "f487a6051f40e738",
   "execution_count": 5
  },
  {
   "cell_type": "code",
   "outputs": [],
   "source": [
    "sequence_length = 25\n",
    "recognizer_batch_size = 64\n",
    "vector_alphabet = ['[bos]','[eos]'] + list(alphabet)\n",
    "\n",
    "bigramm_alphabet = []\n",
    "for i in vector_alphabet[2:]:\n",
    "    for j in vector_alphabet[2:]:\n",
    "        if i != vector_alphabet[1] and j!=vector_alphabet[0]:\n",
    "            bigramm_alphabet.append(i+j)\n",
    "bigramm_alphabet=vector_alphabet[:2]+bigramm_alphabet+vector_alphabet[2:]\n",
    "\n",
    "def custom_split(input_string):\n",
    "    split = tf.strings.unicode_split(input_string, 'UTF-8')\n",
    "    split = tf.strings.ngrams(split, 2, separator='')\n",
    "\n",
    "    if len(split.shape) <2:\n",
    "        split = tf.expand_dims(split, 0)\n",
    "        \n",
    "    # print(split.shape)\n",
    "    \n",
    "    starts = tf.constant(['[bos]']*split.shape[0], dtype=tf.string)\n",
    "    starts = tf.reshape(starts, [split.shape[0], 1])\n",
    "    \n",
    "    ends = tf.constant(['[eos]']*split.shape[0], dtype=tf.string)\n",
    "    ends = tf.reshape(ends, [split.shape[0], 1])\n",
    "    \n",
    "    split = tf.concat([starts, split, ends], axis=1)\n",
    "\n",
    "    return split\n",
    "\n",
    "vectorization = keras.layers.TextVectorization(\n",
    "    output_mode=\"int\",\n",
    "    output_sequence_length=sequence_length,\n",
    "    vocabulary=bigramm_alphabet,\n",
    "    split=custom_split,\n",
    "    # standardize=custom_standardization\n",
    ")"
   ],
   "metadata": {
    "collapsed": false,
    "ExecuteTime": {
     "end_time": "2024-03-13T08:43:29.891544Z",
     "start_time": "2024-03-13T08:43:29.872784Z"
    }
   },
   "id": "30cbbb0b003056b2",
   "execution_count": 6
  },
  {
   "cell_type": "code",
   "outputs": [
    {
     "data": {
      "text/plain": "['[bos]',\n '[eos]',\n 'А',\n 'а',\n 'Б',\n 'б',\n 'В',\n 'в',\n 'Г',\n 'г',\n 'Д',\n 'д',\n 'Е',\n 'е',\n 'Ё',\n 'ё',\n 'Ж',\n 'ж',\n 'З',\n 'з',\n 'И',\n 'и',\n 'Й',\n 'й',\n 'К',\n 'к',\n 'Л',\n 'л',\n 'М',\n 'м',\n 'Н',\n 'н',\n 'О',\n 'о',\n 'П',\n 'п',\n 'Р',\n 'р',\n 'С',\n 'с',\n 'Т',\n 'т',\n 'У',\n 'у',\n 'Ф',\n 'ф',\n 'Х',\n 'х',\n 'Ц',\n 'ц',\n 'Ч',\n 'ч',\n 'Ш',\n 'ш',\n 'Щ',\n 'щ',\n 'Ъ',\n 'ъ',\n 'Ы',\n 'ы',\n 'Ь',\n 'ь',\n 'Э',\n 'э',\n 'Ю',\n 'ю',\n 'Я',\n 'я',\n '!',\n '?',\n '.',\n ' ']"
     },
     "execution_count": 7,
     "metadata": {},
     "output_type": "execute_result"
    }
   ],
   "source": [
    "vector_alphabet"
   ],
   "metadata": {
    "collapsed": false,
    "ExecuteTime": {
     "end_time": "2024-03-13T08:43:29.895654Z",
     "start_time": "2024-03-13T08:43:29.892227Z"
    }
   },
   "id": "41507f1915ded008",
   "execution_count": 7
  },
  {
   "cell_type": "code",
   "outputs": [],
   "source": [
    "vector_alphabet1 = ['[pass]', '[unknown]'] + vector_alphabet\n",
    "bigramm_alphabet1 = ['[pass]', '[unknown]'] + bigramm_alphabet"
   ],
   "metadata": {
    "collapsed": false,
    "ExecuteTime": {
     "end_time": "2024-03-13T08:43:29.898593Z",
     "start_time": "2024-03-13T08:43:29.896257Z"
    }
   },
   "id": "fbc0b8b8ba5871be",
   "execution_count": 8
  },
  {
   "cell_type": "code",
   "outputs": [
    {
     "data": {
      "text/plain": "array([[   2, 2675,  811, 2633, 2803, 4871, 2627, 2339, 1773, 1373, 2735,\n         143, 4871, 2633, 2769, 2485, 2197, 1633,    3,    0,    0,    0,\n           0,    0,    0]])"
     },
     "execution_count": 9,
     "metadata": {},
     "output_type": "execute_result"
    }
   ],
   "source": [
    "vect = vectorization(test_string), len(test_string)\n",
    "vect[0].numpy()"
   ],
   "metadata": {
    "collapsed": false,
    "ExecuteTime": {
     "end_time": "2024-03-13T08:43:30.347652Z",
     "start_time": "2024-03-13T08:43:29.899232Z"
    }
   },
   "id": "553a359a083f0520",
   "execution_count": 9
  },
  {
   "cell_type": "code",
   "outputs": [
    {
     "data": {
      "text/plain": "['[bos]',\n 'Те',\n 'ес',\n 'ст',\n 'т ',\n ' с',\n 'сп',\n 'пл',\n 'ли',\n 'ит',\n 'та',\n 'а ',\n ' с',\n 'ст',\n 'тр',\n 'ро',\n 'ок',\n 'ки',\n '[eos]',\n '[pass]',\n '[pass]',\n '[pass]',\n '[pass]',\n '[pass]',\n '[pass]']"
     },
     "execution_count": 10,
     "metadata": {},
     "output_type": "execute_result"
    }
   ],
   "source": [
    "res = []\n",
    "for i in vect[0][0].numpy():\n",
    "    res.append(bigramm_alphabet1[int(i)])\n",
    "res"
   ],
   "metadata": {
    "collapsed": false,
    "ExecuteTime": {
     "end_time": "2024-03-13T08:43:30.351190Z",
     "start_time": "2024-03-13T08:43:30.348271Z"
    }
   },
   "id": "760b77a427a6aa3",
   "execution_count": 10
  },
  {
   "cell_type": "code",
   "outputs": [],
   "source": [
    "bigramms = tf.strings.ngrams(['']+vector_alphabet, 2, separator='')\n",
    "trigamms = tf.strings.ngrams(vector_alphabet, 3, separator='')"
   ],
   "metadata": {
    "collapsed": false,
    "ExecuteTime": {
     "end_time": "2024-03-13T08:43:30.362746Z",
     "start_time": "2024-03-13T08:43:30.351712Z"
    }
   },
   "id": "9db9b057a36b898f",
   "execution_count": 11
  },
  {
   "cell_type": "code",
   "outputs": [
    {
     "data": {
      "text/plain": "<tf.Tensor: shape=(72,), dtype=string, numpy=\narray([b'[bos]', b'[bos][eos]', b'[eos]\\xd0\\x90', b'\\xd0\\x90\\xd0\\xb0',\n       b'\\xd0\\xb0\\xd0\\x91', b'\\xd0\\x91\\xd0\\xb1', b'\\xd0\\xb1\\xd0\\x92',\n       b'\\xd0\\x92\\xd0\\xb2', b'\\xd0\\xb2\\xd0\\x93', b'\\xd0\\x93\\xd0\\xb3',\n       b'\\xd0\\xb3\\xd0\\x94', b'\\xd0\\x94\\xd0\\xb4', b'\\xd0\\xb4\\xd0\\x95',\n       b'\\xd0\\x95\\xd0\\xb5', b'\\xd0\\xb5\\xd0\\x81', b'\\xd0\\x81\\xd1\\x91',\n       b'\\xd1\\x91\\xd0\\x96', b'\\xd0\\x96\\xd0\\xb6', b'\\xd0\\xb6\\xd0\\x97',\n       b'\\xd0\\x97\\xd0\\xb7', b'\\xd0\\xb7\\xd0\\x98', b'\\xd0\\x98\\xd0\\xb8',\n       b'\\xd0\\xb8\\xd0\\x99', b'\\xd0\\x99\\xd0\\xb9', b'\\xd0\\xb9\\xd0\\x9a',\n       b'\\xd0\\x9a\\xd0\\xba', b'\\xd0\\xba\\xd0\\x9b', b'\\xd0\\x9b\\xd0\\xbb',\n       b'\\xd0\\xbb\\xd0\\x9c', b'\\xd0\\x9c\\xd0\\xbc', b'\\xd0\\xbc\\xd0\\x9d',\n       b'\\xd0\\x9d\\xd0\\xbd', b'\\xd0\\xbd\\xd0\\x9e', b'\\xd0\\x9e\\xd0\\xbe',\n       b'\\xd0\\xbe\\xd0\\x9f', b'\\xd0\\x9f\\xd0\\xbf', b'\\xd0\\xbf\\xd0\\xa0',\n       b'\\xd0\\xa0\\xd1\\x80', b'\\xd1\\x80\\xd0\\xa1', b'\\xd0\\xa1\\xd1\\x81',\n       b'\\xd1\\x81\\xd0\\xa2', b'\\xd0\\xa2\\xd1\\x82', b'\\xd1\\x82\\xd0\\xa3',\n       b'\\xd0\\xa3\\xd1\\x83', b'\\xd1\\x83\\xd0\\xa4', b'\\xd0\\xa4\\xd1\\x84',\n       b'\\xd1\\x84\\xd0\\xa5', b'\\xd0\\xa5\\xd1\\x85', b'\\xd1\\x85\\xd0\\xa6',\n       b'\\xd0\\xa6\\xd1\\x86', b'\\xd1\\x86\\xd0\\xa7', b'\\xd0\\xa7\\xd1\\x87',\n       b'\\xd1\\x87\\xd0\\xa8', b'\\xd0\\xa8\\xd1\\x88', b'\\xd1\\x88\\xd0\\xa9',\n       b'\\xd0\\xa9\\xd1\\x89', b'\\xd1\\x89\\xd0\\xaa', b'\\xd0\\xaa\\xd1\\x8a',\n       b'\\xd1\\x8a\\xd0\\xab', b'\\xd0\\xab\\xd1\\x8b', b'\\xd1\\x8b\\xd0\\xac',\n       b'\\xd0\\xac\\xd1\\x8c', b'\\xd1\\x8c\\xd0\\xad', b'\\xd0\\xad\\xd1\\x8d',\n       b'\\xd1\\x8d\\xd0\\xae', b'\\xd0\\xae\\xd1\\x8e', b'\\xd1\\x8e\\xd0\\xaf',\n       b'\\xd0\\xaf\\xd1\\x8f', b'\\xd1\\x8f!', b'!?', b'?.', b'. '],\n      dtype=object)>"
     },
     "execution_count": 12,
     "metadata": {},
     "output_type": "execute_result"
    }
   ],
   "source": [
    "bigramms"
   ],
   "metadata": {
    "collapsed": false,
    "ExecuteTime": {
     "end_time": "2024-03-13T08:43:30.366096Z",
     "start_time": "2024-03-13T08:43:30.363567Z"
    }
   },
   "id": "a9de1dfec9a3036c",
   "execution_count": 12
  },
  {
   "cell_type": "code",
   "outputs": [],
   "source": [
    "vectorization_token_list = bigramms.numpy().tolist()"
   ],
   "metadata": {
    "collapsed": false,
    "ExecuteTime": {
     "end_time": "2024-03-13T08:43:30.369440Z",
     "start_time": "2024-03-13T08:43:30.366718Z"
    }
   },
   "id": "83967df3d1fd1493",
   "execution_count": 13
  },
  {
   "cell_type": "code",
   "outputs": [
    {
     "data": {
      "text/plain": "[b'[bos]',\n b'[bos][eos]',\n b'[eos]\\xd0\\x90',\n b'\\xd0\\x90\\xd0\\xb0',\n b'\\xd0\\xb0\\xd0\\x91',\n b'\\xd0\\x91\\xd0\\xb1',\n b'\\xd0\\xb1\\xd0\\x92',\n b'\\xd0\\x92\\xd0\\xb2',\n b'\\xd0\\xb2\\xd0\\x93',\n b'\\xd0\\x93\\xd0\\xb3',\n b'\\xd0\\xb3\\xd0\\x94',\n b'\\xd0\\x94\\xd0\\xb4',\n b'\\xd0\\xb4\\xd0\\x95',\n b'\\xd0\\x95\\xd0\\xb5',\n b'\\xd0\\xb5\\xd0\\x81',\n b'\\xd0\\x81\\xd1\\x91',\n b'\\xd1\\x91\\xd0\\x96',\n b'\\xd0\\x96\\xd0\\xb6',\n b'\\xd0\\xb6\\xd0\\x97',\n b'\\xd0\\x97\\xd0\\xb7',\n b'\\xd0\\xb7\\xd0\\x98',\n b'\\xd0\\x98\\xd0\\xb8',\n b'\\xd0\\xb8\\xd0\\x99',\n b'\\xd0\\x99\\xd0\\xb9',\n b'\\xd0\\xb9\\xd0\\x9a',\n b'\\xd0\\x9a\\xd0\\xba',\n b'\\xd0\\xba\\xd0\\x9b',\n b'\\xd0\\x9b\\xd0\\xbb',\n b'\\xd0\\xbb\\xd0\\x9c',\n b'\\xd0\\x9c\\xd0\\xbc',\n b'\\xd0\\xbc\\xd0\\x9d',\n b'\\xd0\\x9d\\xd0\\xbd',\n b'\\xd0\\xbd\\xd0\\x9e',\n b'\\xd0\\x9e\\xd0\\xbe',\n b'\\xd0\\xbe\\xd0\\x9f',\n b'\\xd0\\x9f\\xd0\\xbf',\n b'\\xd0\\xbf\\xd0\\xa0',\n b'\\xd0\\xa0\\xd1\\x80',\n b'\\xd1\\x80\\xd0\\xa1',\n b'\\xd0\\xa1\\xd1\\x81',\n b'\\xd1\\x81\\xd0\\xa2',\n b'\\xd0\\xa2\\xd1\\x82',\n b'\\xd1\\x82\\xd0\\xa3',\n b'\\xd0\\xa3\\xd1\\x83',\n b'\\xd1\\x83\\xd0\\xa4',\n b'\\xd0\\xa4\\xd1\\x84',\n b'\\xd1\\x84\\xd0\\xa5',\n b'\\xd0\\xa5\\xd1\\x85',\n b'\\xd1\\x85\\xd0\\xa6',\n b'\\xd0\\xa6\\xd1\\x86',\n b'\\xd1\\x86\\xd0\\xa7',\n b'\\xd0\\xa7\\xd1\\x87',\n b'\\xd1\\x87\\xd0\\xa8',\n b'\\xd0\\xa8\\xd1\\x88',\n b'\\xd1\\x88\\xd0\\xa9',\n b'\\xd0\\xa9\\xd1\\x89',\n b'\\xd1\\x89\\xd0\\xaa',\n b'\\xd0\\xaa\\xd1\\x8a',\n b'\\xd1\\x8a\\xd0\\xab',\n b'\\xd0\\xab\\xd1\\x8b',\n b'\\xd1\\x8b\\xd0\\xac',\n b'\\xd0\\xac\\xd1\\x8c',\n b'\\xd1\\x8c\\xd0\\xad',\n b'\\xd0\\xad\\xd1\\x8d',\n b'\\xd1\\x8d\\xd0\\xae',\n b'\\xd0\\xae\\xd1\\x8e',\n b'\\xd1\\x8e\\xd0\\xaf',\n b'\\xd0\\xaf\\xd1\\x8f',\n b'\\xd1\\x8f!',\n b'!?',\n b'?.',\n b'. ']"
     },
     "execution_count": 14,
     "metadata": {},
     "output_type": "execute_result"
    }
   ],
   "source": [
    "vectorization_token_list"
   ],
   "metadata": {
    "collapsed": false,
    "ExecuteTime": {
     "end_time": "2024-03-13T08:43:30.373933Z",
     "start_time": "2024-03-13T08:43:30.371422Z"
    }
   },
   "id": "b3b6924a96b1bd84",
   "execution_count": 14
  },
  {
   "cell_type": "code",
   "outputs": [
    {
     "data": {
      "text/plain": "72"
     },
     "execution_count": 15,
     "metadata": {},
     "output_type": "execute_result"
    }
   ],
   "source": [
    "len(vectorization_token_list)"
   ],
   "metadata": {
    "collapsed": false,
    "ExecuteTime": {
     "end_time": "2024-03-13T08:43:30.377778Z",
     "start_time": "2024-03-13T08:43:30.374624Z"
    }
   },
   "id": "cc79b8230519c3b4",
   "execution_count": 15
  },
  {
   "cell_type": "code",
   "outputs": [
    {
     "data": {
      "text/plain": "72"
     },
     "execution_count": 16,
     "metadata": {},
     "output_type": "execute_result"
    }
   ],
   "source": [
    "len(vector_alphabet)"
   ],
   "metadata": {
    "collapsed": false,
    "ExecuteTime": {
     "end_time": "2024-03-13T08:43:30.380871Z",
     "start_time": "2024-03-13T08:43:30.378432Z"
    }
   },
   "id": "fde2b5b5b6b70899",
   "execution_count": 16
  },
  {
   "cell_type": "code",
   "outputs": [],
   "source": [],
   "metadata": {
    "collapsed": false,
    "ExecuteTime": {
     "end_time": "2024-03-13T08:43:30.382785Z",
     "start_time": "2024-03-13T08:43:30.381432Z"
    }
   },
   "id": "e2260d54b659607a",
   "execution_count": 16
  },
  {
   "cell_type": "code",
   "outputs": [
    {
     "data": {
      "text/plain": "4972"
     },
     "execution_count": 17,
     "metadata": {},
     "output_type": "execute_result"
    }
   ],
   "source": [
    "len(bigramm_alphabet)"
   ],
   "metadata": {
    "collapsed": false,
    "ExecuteTime": {
     "end_time": "2024-03-13T08:43:30.385913Z",
     "start_time": "2024-03-13T08:43:30.383492Z"
    }
   },
   "id": "dbc2faae69592c32",
   "execution_count": 17
  },
  {
   "cell_type": "code",
   "outputs": [
    {
     "data": {
      "text/plain": "<TextVectorization name=text_vectorization, built=True>"
     },
     "execution_count": 18,
     "metadata": {},
     "output_type": "execute_result"
    }
   ],
   "source": [
    "vectorization"
   ],
   "metadata": {
    "collapsed": false,
    "ExecuteTime": {
     "end_time": "2024-03-13T08:43:30.388907Z",
     "start_time": "2024-03-13T08:43:30.386554Z"
    }
   },
   "id": "773becc0b95ab811",
   "execution_count": 18
  },
  {
   "cell_type": "code",
   "outputs": [
    {
     "data": {
      "text/plain": "<tf.Tensor: shape=(1, 25), dtype=int64, numpy=\narray([[   2, 2675,  811, 2633, 2803, 4871, 2627, 2339, 1773, 1373, 2735,\n         143, 4871, 2633, 2769, 2485, 2197, 1633,    3,    0,    0,    0,\n           0,    0,    0]])>"
     },
     "execution_count": 19,
     "metadata": {},
     "output_type": "execute_result"
    }
   ],
   "source": [
    "vectorization(test_string)"
   ],
   "metadata": {
    "collapsed": false,
    "ExecuteTime": {
     "end_time": "2024-03-13T08:43:30.400393Z",
     "start_time": "2024-03-13T08:43:30.389464Z"
    }
   },
   "id": "9998debab979f91",
   "execution_count": 19
  },
  {
   "cell_type": "code",
   "outputs": [
    {
     "data": {
      "text/plain": "'3.0.5'"
     },
     "execution_count": 20,
     "metadata": {},
     "output_type": "execute_result"
    }
   ],
   "source": [
    "keras.__version__"
   ],
   "metadata": {
    "collapsed": false,
    "ExecuteTime": {
     "end_time": "2024-03-13T08:43:30.403084Z",
     "start_time": "2024-03-13T08:43:30.401025Z"
    }
   },
   "id": "d115642fdf615785",
   "execution_count": 20
  },
  {
   "cell_type": "code",
   "outputs": [],
   "source": [
    "v = keras.layers.TextVectorization()\n",
    "v.adapt(test_string)"
   ],
   "metadata": {
    "collapsed": false,
    "ExecuteTime": {
     "end_time": "2024-03-13T08:43:30.432132Z",
     "start_time": "2024-03-13T08:43:30.403824Z"
    }
   },
   "id": "febd0af837ef0449",
   "execution_count": 21
  },
  {
   "cell_type": "code",
   "outputs": [
    {
     "data": {
      "text/plain": "<tf.Tensor: shape=(3,), dtype=int64, numpy=array([4, 3, 2])>"
     },
     "execution_count": 22,
     "metadata": {},
     "output_type": "execute_result"
    }
   ],
   "source": [
    "v(test_string)"
   ],
   "metadata": {
    "collapsed": false,
    "ExecuteTime": {
     "end_time": "2024-03-13T08:43:30.441814Z",
     "start_time": "2024-03-13T08:43:30.432819Z"
    }
   },
   "id": "6f154b0f0b0f90a",
   "execution_count": 22
  },
  {
   "cell_type": "code",
   "outputs": [],
   "source": [],
   "metadata": {
    "collapsed": false,
    "ExecuteTime": {
     "end_time": "2024-03-13T08:43:32.343614Z",
     "start_time": "2024-03-13T08:43:32.341679Z"
    }
   },
   "id": "10f7c9971a27adaf",
   "execution_count": 23
  }
 ],
 "metadata": {
  "kernelspec": {
   "display_name": "Python 3",
   "language": "python",
   "name": "python3"
  },
  "language_info": {
   "codemirror_mode": {
    "name": "ipython",
    "version": 2
   },
   "file_extension": ".py",
   "mimetype": "text/x-python",
   "name": "python",
   "nbconvert_exporter": "python",
   "pygments_lexer": "ipython2",
   "version": "2.7.6"
  }
 },
 "nbformat": 4,
 "nbformat_minor": 5
}
