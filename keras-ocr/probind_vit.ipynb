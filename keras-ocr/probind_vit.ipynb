{
 "cells": [
  {
   "cell_type": "code",
   "execution_count": 1,
   "id": "initial_id",
   "metadata": {
    "collapsed": true,
    "ExecuteTime": {
     "end_time": "2024-03-12T09:57:23.882748Z",
     "start_time": "2024-03-12T09:57:20.400381Z"
    }
   },
   "outputs": [
    {
     "name": "stderr",
     "output_type": "stream",
     "text": [
      "2024-03-12 12:57:21.201096: E external/local_xla/xla/stream_executor/cuda/cuda_dnn.cc:9261] Unable to register cuDNN factory: Attempting to register factory for plugin cuDNN when one has already been registered\n",
      "2024-03-12 12:57:21.201168: E external/local_xla/xla/stream_executor/cuda/cuda_fft.cc:607] Unable to register cuFFT factory: Attempting to register factory for plugin cuFFT when one has already been registered\n",
      "2024-03-12 12:57:21.236182: E external/local_xla/xla/stream_executor/cuda/cuda_blas.cc:1515] Unable to register cuBLAS factory: Attempting to register factory for plugin cuBLAS when one has already been registered\n",
      "2024-03-12 12:57:21.311571: I tensorflow/core/platform/cpu_feature_guard.cc:182] This TensorFlow binary is optimized to use available CPU instructions in performance-critical operations.\n",
      "To enable the following instructions: AVX2 FMA, in other operations, rebuild TensorFlow with the appropriate compiler flags.\n",
      "2024-03-12 12:57:22.322982: W tensorflow/compiler/tf2tensorrt/utils/py_utils.cc:38] TF-TRT Warning: Could not find TensorRT\n"
     ]
    }
   ],
   "source": [
    "import keras"
   ]
  },
  {
   "cell_type": "code",
   "outputs": [
    {
     "data": {
      "text/plain": "\u001B[1mModel: \"functional_3\"\u001B[0m\n",
      "text/html": "<pre style=\"white-space:pre;overflow-x:auto;line-height:normal;font-family:Menlo,'DejaVu Sans Mono',consolas,'Courier New',monospace\"><span style=\"font-weight: bold\">Model: \"functional_3\"</span>\n</pre>\n"
     },
     "metadata": {},
     "output_type": "display_data"
    },
    {
     "data": {
      "text/plain": "┏━━━━━━━━━━━━━━━━━━━━━━━━━━━━━━━━━┳━━━━━━━━━━━━━━━━━━━━━━━━━━━┳━━━━━━━━━━━━┓\n┃\u001B[1m \u001B[0m\u001B[1mLayer (type)                   \u001B[0m\u001B[1m \u001B[0m┃\u001B[1m \u001B[0m\u001B[1mOutput Shape             \u001B[0m\u001B[1m \u001B[0m┃\u001B[1m \u001B[0m\u001B[1m   Param #\u001B[0m\u001B[1m \u001B[0m┃\n┡━━━━━━━━━━━━━━━━━━━━━━━━━━━━━━━━━╇━━━━━━━━━━━━━━━━━━━━━━━━━━━╇━━━━━━━━━━━━┩\n│ input_layer_8 (\u001B[38;5;33mInputLayer\u001B[0m)      │ (\u001B[38;5;45mNone\u001B[0m, \u001B[38;5;34m224\u001B[0m, \u001B[38;5;34m224\u001B[0m, \u001B[38;5;34m3\u001B[0m)       │          \u001B[38;5;34m0\u001B[0m │\n├─────────────────────────────────┼───────────────────────────┼────────────┤\n│ tfsm_layer_2 (\u001B[38;5;33mTFSMLayer\u001B[0m)        │ [(\u001B[38;5;45mNone\u001B[0m, \u001B[38;5;34m1000\u001B[0m), (\u001B[38;5;45mNone\u001B[0m, \u001B[38;5;34m12\u001B[0m, │ \u001B[38;5;34m86,567,656\u001B[0m │\n│                                 │ \u001B[38;5;45mNone\u001B[0m, \u001B[38;5;45mNone\u001B[0m), (\u001B[38;5;45mNone\u001B[0m, \u001B[38;5;34m12\u001B[0m,   │            │\n│                                 │ \u001B[38;5;45mNone\u001B[0m, \u001B[38;5;45mNone\u001B[0m), (\u001B[38;5;45mNone\u001B[0m, \u001B[38;5;34m12\u001B[0m,   │            │\n│                                 │ \u001B[38;5;45mNone\u001B[0m, \u001B[38;5;45mNone\u001B[0m), (\u001B[38;5;45mNone\u001B[0m, \u001B[38;5;34m12\u001B[0m,   │            │\n│                                 │ \u001B[38;5;45mNone\u001B[0m, \u001B[38;5;45mNone\u001B[0m), (\u001B[38;5;45mNone\u001B[0m, \u001B[38;5;34m12\u001B[0m,   │            │\n│                                 │ \u001B[38;5;45mNone\u001B[0m, \u001B[38;5;45mNone\u001B[0m), (\u001B[38;5;45mNone\u001B[0m, \u001B[38;5;34m12\u001B[0m,   │            │\n│                                 │ \u001B[38;5;45mNone\u001B[0m, \u001B[38;5;45mNone\u001B[0m), (\u001B[38;5;45mNone\u001B[0m, \u001B[38;5;34m12\u001B[0m,   │            │\n│                                 │ \u001B[38;5;45mNone\u001B[0m, \u001B[38;5;45mNone\u001B[0m), (\u001B[38;5;45mNone\u001B[0m, \u001B[38;5;34m12\u001B[0m,   │            │\n│                                 │ \u001B[38;5;45mNone\u001B[0m, \u001B[38;5;45mNone\u001B[0m), (\u001B[38;5;45mNone\u001B[0m, \u001B[38;5;34m12\u001B[0m,   │            │\n│                                 │ \u001B[38;5;45mNone\u001B[0m, \u001B[38;5;45mNone\u001B[0m), (\u001B[38;5;45mNone\u001B[0m, \u001B[38;5;34m12\u001B[0m,   │            │\n│                                 │ \u001B[38;5;45mNone\u001B[0m, \u001B[38;5;45mNone\u001B[0m), (\u001B[38;5;45mNone\u001B[0m, \u001B[38;5;34m12\u001B[0m,   │            │\n│                                 │ \u001B[38;5;45mNone\u001B[0m, \u001B[38;5;45mNone\u001B[0m), (\u001B[38;5;45mNone\u001B[0m, \u001B[38;5;34m12\u001B[0m,   │            │\n│                                 │ \u001B[38;5;45mNone\u001B[0m, \u001B[38;5;45mNone\u001B[0m)]              │            │\n└─────────────────────────────────┴───────────────────────────┴────────────┘\n",
      "text/html": "<pre style=\"white-space:pre;overflow-x:auto;line-height:normal;font-family:Menlo,'DejaVu Sans Mono',consolas,'Courier New',monospace\">┏━━━━━━━━━━━━━━━━━━━━━━━━━━━━━━━━━┳━━━━━━━━━━━━━━━━━━━━━━━━━━━┳━━━━━━━━━━━━┓\n┃<span style=\"font-weight: bold\"> Layer (type)                    </span>┃<span style=\"font-weight: bold\"> Output Shape              </span>┃<span style=\"font-weight: bold\">    Param # </span>┃\n┡━━━━━━━━━━━━━━━━━━━━━━━━━━━━━━━━━╇━━━━━━━━━━━━━━━━━━━━━━━━━━━╇━━━━━━━━━━━━┩\n│ input_layer_8 (<span style=\"color: #0087ff; text-decoration-color: #0087ff\">InputLayer</span>)      │ (<span style=\"color: #00d7ff; text-decoration-color: #00d7ff\">None</span>, <span style=\"color: #00af00; text-decoration-color: #00af00\">224</span>, <span style=\"color: #00af00; text-decoration-color: #00af00\">224</span>, <span style=\"color: #00af00; text-decoration-color: #00af00\">3</span>)       │          <span style=\"color: #00af00; text-decoration-color: #00af00\">0</span> │\n├─────────────────────────────────┼───────────────────────────┼────────────┤\n│ tfsm_layer_2 (<span style=\"color: #0087ff; text-decoration-color: #0087ff\">TFSMLayer</span>)        │ [(<span style=\"color: #00d7ff; text-decoration-color: #00d7ff\">None</span>, <span style=\"color: #00af00; text-decoration-color: #00af00\">1000</span>), (<span style=\"color: #00d7ff; text-decoration-color: #00d7ff\">None</span>, <span style=\"color: #00af00; text-decoration-color: #00af00\">12</span>, │ <span style=\"color: #00af00; text-decoration-color: #00af00\">86,567,656</span> │\n│                                 │ <span style=\"color: #00d7ff; text-decoration-color: #00d7ff\">None</span>, <span style=\"color: #00d7ff; text-decoration-color: #00d7ff\">None</span>), (<span style=\"color: #00d7ff; text-decoration-color: #00d7ff\">None</span>, <span style=\"color: #00af00; text-decoration-color: #00af00\">12</span>,   │            │\n│                                 │ <span style=\"color: #00d7ff; text-decoration-color: #00d7ff\">None</span>, <span style=\"color: #00d7ff; text-decoration-color: #00d7ff\">None</span>), (<span style=\"color: #00d7ff; text-decoration-color: #00d7ff\">None</span>, <span style=\"color: #00af00; text-decoration-color: #00af00\">12</span>,   │            │\n│                                 │ <span style=\"color: #00d7ff; text-decoration-color: #00d7ff\">None</span>, <span style=\"color: #00d7ff; text-decoration-color: #00d7ff\">None</span>), (<span style=\"color: #00d7ff; text-decoration-color: #00d7ff\">None</span>, <span style=\"color: #00af00; text-decoration-color: #00af00\">12</span>,   │            │\n│                                 │ <span style=\"color: #00d7ff; text-decoration-color: #00d7ff\">None</span>, <span style=\"color: #00d7ff; text-decoration-color: #00d7ff\">None</span>), (<span style=\"color: #00d7ff; text-decoration-color: #00d7ff\">None</span>, <span style=\"color: #00af00; text-decoration-color: #00af00\">12</span>,   │            │\n│                                 │ <span style=\"color: #00d7ff; text-decoration-color: #00d7ff\">None</span>, <span style=\"color: #00d7ff; text-decoration-color: #00d7ff\">None</span>), (<span style=\"color: #00d7ff; text-decoration-color: #00d7ff\">None</span>, <span style=\"color: #00af00; text-decoration-color: #00af00\">12</span>,   │            │\n│                                 │ <span style=\"color: #00d7ff; text-decoration-color: #00d7ff\">None</span>, <span style=\"color: #00d7ff; text-decoration-color: #00d7ff\">None</span>), (<span style=\"color: #00d7ff; text-decoration-color: #00d7ff\">None</span>, <span style=\"color: #00af00; text-decoration-color: #00af00\">12</span>,   │            │\n│                                 │ <span style=\"color: #00d7ff; text-decoration-color: #00d7ff\">None</span>, <span style=\"color: #00d7ff; text-decoration-color: #00d7ff\">None</span>), (<span style=\"color: #00d7ff; text-decoration-color: #00d7ff\">None</span>, <span style=\"color: #00af00; text-decoration-color: #00af00\">12</span>,   │            │\n│                                 │ <span style=\"color: #00d7ff; text-decoration-color: #00d7ff\">None</span>, <span style=\"color: #00d7ff; text-decoration-color: #00d7ff\">None</span>), (<span style=\"color: #00d7ff; text-decoration-color: #00d7ff\">None</span>, <span style=\"color: #00af00; text-decoration-color: #00af00\">12</span>,   │            │\n│                                 │ <span style=\"color: #00d7ff; text-decoration-color: #00d7ff\">None</span>, <span style=\"color: #00d7ff; text-decoration-color: #00d7ff\">None</span>), (<span style=\"color: #00d7ff; text-decoration-color: #00d7ff\">None</span>, <span style=\"color: #00af00; text-decoration-color: #00af00\">12</span>,   │            │\n│                                 │ <span style=\"color: #00d7ff; text-decoration-color: #00d7ff\">None</span>, <span style=\"color: #00d7ff; text-decoration-color: #00d7ff\">None</span>), (<span style=\"color: #00d7ff; text-decoration-color: #00d7ff\">None</span>, <span style=\"color: #00af00; text-decoration-color: #00af00\">12</span>,   │            │\n│                                 │ <span style=\"color: #00d7ff; text-decoration-color: #00d7ff\">None</span>, <span style=\"color: #00d7ff; text-decoration-color: #00d7ff\">None</span>), (<span style=\"color: #00d7ff; text-decoration-color: #00d7ff\">None</span>, <span style=\"color: #00af00; text-decoration-color: #00af00\">12</span>,   │            │\n│                                 │ <span style=\"color: #00d7ff; text-decoration-color: #00d7ff\">None</span>, <span style=\"color: #00d7ff; text-decoration-color: #00d7ff\">None</span>)]              │            │\n└─────────────────────────────────┴───────────────────────────┴────────────┘\n</pre>\n"
     },
     "metadata": {},
     "output_type": "display_data"
    },
    {
     "data": {
      "text/plain": "\u001B[1m Total params: \u001B[0m\u001B[38;5;34m86,567,656\u001B[0m (330.23 MB)\n",
      "text/html": "<pre style=\"white-space:pre;overflow-x:auto;line-height:normal;font-family:Menlo,'DejaVu Sans Mono',consolas,'Courier New',monospace\"><span style=\"font-weight: bold\"> Total params: </span><span style=\"color: #00af00; text-decoration-color: #00af00\">86,567,656</span> (330.23 MB)\n</pre>\n"
     },
     "metadata": {},
     "output_type": "display_data"
    },
    {
     "data": {
      "text/plain": "\u001B[1m Trainable params: \u001B[0m\u001B[38;5;34m86,567,656\u001B[0m (330.23 MB)\n",
      "text/html": "<pre style=\"white-space:pre;overflow-x:auto;line-height:normal;font-family:Menlo,'DejaVu Sans Mono',consolas,'Courier New',monospace\"><span style=\"font-weight: bold\"> Trainable params: </span><span style=\"color: #00af00; text-decoration-color: #00af00\">86,567,656</span> (330.23 MB)\n</pre>\n"
     },
     "metadata": {},
     "output_type": "display_data"
    },
    {
     "data": {
      "text/plain": "\u001B[1m Non-trainable params: \u001B[0m\u001B[38;5;34m0\u001B[0m (0.00 B)\n",
      "text/html": "<pre style=\"white-space:pre;overflow-x:auto;line-height:normal;font-family:Menlo,'DejaVu Sans Mono',consolas,'Courier New',monospace\"><span style=\"font-weight: bold\"> Non-trainable params: </span><span style=\"color: #00af00; text-decoration-color: #00af00\">0</span> (0.00 B)\n</pre>\n"
     },
     "metadata": {},
     "output_type": "display_data"
    }
   ],
   "source": [
    "inputs = keras.Input((224, 224, 3))\n",
    "model1 = keras.layers.TFSMLayer('../models/ViT/vit_b16_patch16_224-i1k_pretrained', call_endpoint=\"serving_default\")\n",
    "outputs = model1(inputs, training=False)\n",
    "model1 = keras.Model(inputs, outputs)\n",
    "model1.summary()"
   ],
   "metadata": {
    "collapsed": false,
    "ExecuteTime": {
     "end_time": "2024-03-12T13:18:35.355170Z",
     "start_time": "2024-03-12T13:18:03.089547Z"
    }
   },
   "id": "26a51d26d3878d2d",
   "execution_count": 151
  },
  {
   "cell_type": "code",
   "outputs": [],
   "source": [
    "import numpy as np\n",
    "test = np.random.rand(1, 224, 224, 3)"
   ],
   "metadata": {
    "collapsed": false,
    "ExecuteTime": {
     "end_time": "2024-03-12T13:17:30.013248Z",
     "start_time": "2024-03-12T13:17:30.005762Z"
    }
   },
   "id": "6e1b218e24dd3b8d",
   "execution_count": 149
  },
  {
   "cell_type": "code",
   "outputs": [
    {
     "ename": "NameError",
     "evalue": "name 'model1' is not defined",
     "output_type": "error",
     "traceback": [
      "\u001B[0;31m---------------------------------------------------------------------------\u001B[0m",
      "\u001B[0;31mNameError\u001B[0m                                 Traceback (most recent call last)",
      "Cell \u001B[0;32mIn[150], line 1\u001B[0m\n\u001B[0;32m----> 1\u001B[0m pred \u001B[38;5;241m=\u001B[39m \u001B[43mmodel1\u001B[49m\u001B[38;5;241m.\u001B[39mpredict(test)\n",
      "\u001B[0;31mNameError\u001B[0m: name 'model1' is not defined"
     ]
    }
   ],
   "source": [
    "pred = model1.predict(test)"
   ],
   "metadata": {
    "collapsed": false,
    "ExecuteTime": {
     "end_time": "2024-03-12T13:17:30.364038Z",
     "start_time": "2024-03-12T13:17:30.333425Z"
    }
   },
   "id": "1be83c1f27e27067",
   "execution_count": 150
  },
  {
   "cell_type": "code",
   "outputs": [
    {
     "data": {
      "text/plain": "dict_keys(['output_1', 'output_2_transformer_block_0_att', 'output_2_transformer_block_10_att', 'output_2_transformer_block_11_att', 'output_2_transformer_block_1_att', 'output_2_transformer_block_2_att', 'output_2_transformer_block_3_att', 'output_2_transformer_block_4_att', 'output_2_transformer_block_5_att', 'output_2_transformer_block_6_att', 'output_2_transformer_block_7_att', 'output_2_transformer_block_8_att', 'output_2_transformer_block_9_att'])"
     },
     "execution_count": 8,
     "metadata": {},
     "output_type": "execute_result"
    }
   ],
   "source": [
    "pred.keys()"
   ],
   "metadata": {
    "collapsed": false,
    "ExecuteTime": {
     "end_time": "2024-03-12T10:01:29.086716Z",
     "start_time": "2024-03-12T10:01:29.083331Z"
    }
   },
   "id": "f6c18713e2dd529f",
   "execution_count": 8
  },
  {
   "cell_type": "code",
   "outputs": [
    {
     "data": {
      "text/plain": "(1, 12, 197, 197)"
     },
     "execution_count": 14,
     "metadata": {},
     "output_type": "execute_result"
    }
   ],
   "source": [
    "pred['output_2_transformer_block_1_att'].shape"
   ],
   "metadata": {
    "collapsed": false,
    "ExecuteTime": {
     "end_time": "2024-03-12T10:36:55.960741Z",
     "start_time": "2024-03-12T10:36:55.957154Z"
    }
   },
   "id": "292c587f4a3f034",
   "execution_count": 14
  },
  {
   "cell_type": "markdown",
   "source": [],
   "metadata": {
    "collapsed": false
   },
   "id": "acf71d8836dd23fa"
  },
  {
   "cell_type": "code",
   "outputs": [],
   "source": [
    "from transformers import TFViTModel, create_optimizer, AutoImageProcessor\n",
    "import tensorflow as tf"
   ],
   "metadata": {
    "collapsed": false,
    "ExecuteTime": {
     "end_time": "2024-03-12T12:43:37.750570Z",
     "start_time": "2024-03-12T12:43:37.748012Z"
    }
   },
   "id": "848fe600c71970a9",
   "execution_count": 123
  },
  {
   "cell_type": "code",
   "outputs": [
    {
     "name": "stderr",
     "output_type": "stream",
     "text": [
      "All PyTorch model weights were used when initializing TFViTModel.\n",
      "\n",
      "All the weights of TFViTModel were initialized from the PyTorch model.\n",
      "If your task is similar to the task the model of the checkpoint was trained on, you can already use TFViTModel for predictions without further training.\n"
     ]
    },
    {
     "data": {
      "text/plain": "<transformers.models.vit.modeling_tf_vit.TFViTModel at 0x7e9bbc162dd0>"
     },
     "execution_count": 124,
     "metadata": {},
     "output_type": "execute_result"
    }
   ],
   "source": [
    "image_processor = AutoImageProcessor.from_pretrained(\"google/vit-base-patch32-224-in21k\")\n",
    "# load pre-trained ViT model\n",
    "vit_model = TFViTModel.from_pretrained(\n",
    "    \"google/vit-base-patch32-224-in21k\"\n",
    ")\n",
    "vit_model"
   ],
   "metadata": {
    "collapsed": false,
    "ExecuteTime": {
     "end_time": "2024-03-12T12:43:40.206155Z",
     "start_time": "2024-03-12T12:43:38.717495Z"
    }
   },
   "id": "b7bcf40e0620cbc7",
   "execution_count": 124
  },
  {
   "cell_type": "code",
   "outputs": [
    {
     "data": {
      "text/plain": "<tf.Tensor: shape=(1, 50, 768), dtype=float32, numpy=\narray([[[-0.04642715,  0.07819472,  0.10297327, ..., -0.00410401,\n          0.07026549, -0.08159713],\n        [-0.01770746, -0.04575405, -0.01447336, ...,  0.00891134,\n         -0.03938118,  0.00908835],\n        [-0.01938407, -0.04436754, -0.01690471, ...,  0.00544327,\n         -0.04128317,  0.00743156],\n        ...,\n        [ 0.03982006,  0.16118445, -0.205389  , ..., -0.02016526,\n          0.01014593, -0.13618861],\n        [ 0.03145476,  0.17934817, -0.23624192, ..., -0.03867835,\n          0.00920017, -0.15700538],\n        [-0.11332527,  0.10698851, -0.01375464, ..., -0.07873282,\n          0.02806762, -0.0242648 ]]], dtype=float32)>"
     },
     "execution_count": 131,
     "metadata": {},
     "output_type": "execute_result"
    }
   ],
   "source": [
    "inputs = image_processor(np.ones((1,3,224,224,)), return_tensors=\"tf\")\n",
    "logits = vit_model(**inputs)\n",
    "logits['last_hidden_state']"
   ],
   "metadata": {
    "collapsed": false,
    "ExecuteTime": {
     "end_time": "2024-03-12T12:44:47.766118Z",
     "start_time": "2024-03-12T12:44:47.637115Z"
    }
   },
   "id": "2affb4235f3051d2",
   "execution_count": 131
  },
  {
   "cell_type": "code",
   "outputs": [
    {
     "data": {
      "text/plain": "TensorShape([1, 50, 768])"
     },
     "execution_count": 132,
     "metadata": {},
     "output_type": "execute_result"
    }
   ],
   "source": [
    "vit_model.layers[0](**inputs)['last_hidden_state'].shape"
   ],
   "metadata": {
    "collapsed": false,
    "ExecuteTime": {
     "end_time": "2024-03-12T12:45:13.356097Z",
     "start_time": "2024-03-12T12:45:13.188635Z"
    }
   },
   "id": "faefbd76cef228fb",
   "execution_count": 132
  },
  {
   "cell_type": "code",
   "outputs": [
    {
     "data": {
      "text/plain": "(<transformers.models.vit.modeling_tf_vit.TFViTMainLayer at 0x7e9be0a61e10>,\n [<transformers.models.vit.modeling_tf_vit.TFViTMainLayer at 0x7e9be0a61e10>])"
     },
     "execution_count": 134,
     "metadata": {},
     "output_type": "execute_result"
    }
   ],
   "source": [
    "vit_model.vit, vit_model.layers"
   ],
   "metadata": {
    "collapsed": false,
    "ExecuteTime": {
     "end_time": "2024-03-12T12:45:26.342482Z",
     "start_time": "2024-03-12T12:45:26.339131Z"
    }
   },
   "id": "8d90c23a19637192",
   "execution_count": 134
  },
  {
   "cell_type": "code",
   "outputs": [
    {
     "data": {
      "text/plain": "<tf.Tensor: shape=(1, 50, 768), dtype=float32, numpy=\narray([[[ 0.17067873, -0.05104578, -0.04005868, ...,  0.00516569,\n          0.02375122, -0.0439344 ],\n        [-0.01032811, -0.0427994 , -0.01694578, ...,  0.01821133,\n         -0.03151407,  0.00783023],\n        [-0.01213216, -0.04085394, -0.018418  , ...,  0.01636786,\n         -0.03094222,  0.00621234],\n        ...,\n        [ 0.12138271, -0.06599617, -0.16070645, ..., -0.02530573,\n          0.01102774,  0.05817366],\n        [ 0.07293798, -0.09610921, -0.21211904, ...,  0.02409113,\n          0.04105248,  0.03535001],\n        [ 0.01125343, -0.05172333, -0.26962224, ...,  0.17057098,\n          0.09815656,  0.03744992]]], dtype=float32)>"
     },
     "execution_count": 135,
     "metadata": {},
     "output_type": "execute_result"
    }
   ],
   "source": [
    "vit_model.vit(np.ones((1,3,224,224,)))[0]"
   ],
   "metadata": {
    "collapsed": false,
    "ExecuteTime": {
     "end_time": "2024-03-12T12:45:31.959667Z",
     "start_time": "2024-03-12T12:45:31.797440Z"
    }
   },
   "id": "6fc23e53ac15b73c",
   "execution_count": 135
  },
  {
   "cell_type": "code",
   "outputs": [
    {
     "data": {
      "text/plain": "['_SCALAR_UPRANKING_ON',\n '_TF_MODULE_IGNORED_PROPERTIES',\n '__annotations__',\n '__call__',\n '__class__',\n '__copy__',\n '__deepcopy__',\n '__delattr__',\n '__dict__',\n '__dir__',\n '__doc__',\n '__eq__',\n '__format__',\n '__ge__',\n '__getattribute__',\n '__getstate__',\n '__gt__',\n '__hash__',\n '__init__',\n '__init_subclass__',\n '__le__',\n '__lt__',\n '__module__',\n '__ne__',\n '__new__',\n '__reduce__',\n '__reduce_ex__',\n '__repr__',\n '__setattr__',\n '__setstate__',\n '__sizeof__',\n '__str__',\n '__subclasshook__',\n '__weakref__',\n '_activity_regularizer',\n '_add_trackable',\n '_add_trackable_child',\n '_add_variable_with_custom_getter',\n '_aggregate_exact_metrics',\n '_assert_compile_was_called',\n '_assert_weights_created',\n '_auto_class',\n '_auto_get_config',\n '_auto_track_sub_layers',\n '_autocast',\n '_autographed_call',\n '_autotune_steps_per_execution',\n '_base_model_initialized',\n '_build_input_shape',\n '_call_spec',\n '_callable_losses',\n '_captured_weight_regularizer',\n '_cast_single_input',\n '_check_call_args',\n '_check_sample_weight_warning',\n '_checkpoint',\n '_checkpoint_dependencies',\n '_clear_losses',\n '_cluster_coordinator',\n '_compile_was_called',\n '_compiled_trainable_state',\n '_compute_dtype',\n '_compute_dtype_object',\n '_compute_output_and_mask_jointly',\n '_configure_steps_per_execution',\n '_convert_head_mask_to_5d',\n '_copy_trackable_to_cpu',\n '_create_counter_variable',\n '_create_repo',\n '_dedup_weights',\n '_deferred_dependencies',\n '_delete_tracking',\n '_deserialization_dependencies',\n '_deserialize_from_proto',\n '_disallow_exact_eval_with_add_metrics',\n '_distribute_reduction_method',\n '_distribution_strategy',\n '_dtype',\n '_dtype_policy',\n '_dynamic',\n '_eager_losses',\n '_expand_inputs_for_generation',\n '_expects_mask_arg',\n '_expects_training_arg',\n '_export_to_saved_model_graph',\n '_extract_past_from_model_output',\n '_flatten',\n '_flatten_layers',\n '_flatten_modules',\n '_from_config',\n '_functional_construction_call',\n '_gather_beams',\n '_gather_children_attribute',\n '_gather_saveables_for_checkpoint',\n '_get_callback_model',\n '_get_cell_name',\n '_get_compile_args',\n '_get_decoder_start_token_id',\n '_get_existing_metric',\n '_get_files_timestamps',\n '_get_input_masks',\n '_get_logits_processor',\n '_get_logits_warper',\n '_get_node_attribute_at_index',\n '_get_optimizer',\n '_get_resized_embeddings',\n '_get_resized_lm_head_bias',\n '_get_resized_lm_head_decoder',\n '_get_save_spec',\n '_get_test_function_runner',\n '_get_trainable_state',\n '_get_unnested_name_scope',\n '_get_word_embedding_weight',\n '_handle_activity_regularization',\n '_handle_deferred_dependencies',\n '_handle_weight_regularization',\n '_in_multi_worker_mode',\n '_inbound_nodes',\n '_inbound_nodes_value',\n '_infer_exact_eval_shards',\n '_infer_output_signature',\n '_init_batch_counters',\n '_init_call_fn_args',\n '_init_set_name',\n '_initial_weights',\n '_input_spec',\n '_instrument_layer_creation',\n '_instrumented_keras_api',\n '_instrumented_keras_layer_class',\n '_instrumented_keras_model_class',\n '_is_compiled',\n '_is_graph_network',\n '_is_layer',\n '_is_model_for_instrumentation',\n '_jit_compile',\n '_keras_api_names',\n '_keras_api_names_v1',\n '_keras_tensor_symbolic_call',\n '_keys_to_ignore_on_load_missing',\n '_keys_to_ignore_on_load_unexpected',\n '_label_to_output_map',\n '_layout_map',\n '_lookup_dependency',\n '_losses',\n '_make_test_function_exact',\n '_maybe_build',\n '_maybe_cast_inputs',\n '_maybe_create_attribute',\n '_maybe_initialize_input_ids_for_generation',\n '_maybe_initialize_trackable',\n '_maybe_load_initial_counters_from_ckpt',\n '_merge_criteria_processor_list',\n '_metrics',\n '_metrics_lock',\n '_must_restore_from_config',\n '_name',\n '_name_based_attribute_restore',\n '_name_based_restores',\n '_name_scope',\n '_name_scope_on_declaration',\n '_no_dependency',\n '_non_trainable_weights',\n '_obj_reference_counts',\n '_obj_reference_counts_dict',\n '_object_identifier',\n '_outbound_nodes',\n '_outbound_nodes_value',\n '_predict_counter',\n '_preload_simple_restoration',\n '_prepare_attention_mask_for_generation',\n '_prepare_decoder_input_ids_for_generation',\n '_prepare_encoder_decoder_kwargs_for_generation',\n '_prepare_model_inputs',\n '_preserve_input_structure_in_config',\n '_requires_load_weight_prefix',\n '_reset_compile_cache',\n '_resize_token_embeddings',\n '_restore_from_tensors',\n '_run_eagerly',\n '_save_checkpoint',\n '_saved_model_arg_spec',\n '_saved_model_inputs_spec',\n '_seed_generator',\n '_self_name_based_restores',\n '_self_saveable_object_factories',\n '_self_setattr_tracking',\n '_self_tracked_trackables',\n '_self_unconditional_checkpoint_dependencies',\n '_self_unconditional_deferred_dependencies',\n '_self_unconditional_dependency_names',\n '_self_update_uid',\n '_serialize_to_proto',\n '_serialize_to_tensors',\n '_set_connectivity_metadata',\n '_set_dtype_policy',\n '_set_inputs',\n '_set_mask_keras_history_checked',\n '_set_mask_metadata',\n '_set_save_spec',\n '_set_trainable_state',\n '_set_training_mode',\n '_setattr_tracking',\n '_should_cast_single_input',\n '_should_compute_mask',\n '_should_eval',\n '_should_use_autograph',\n '_stateful',\n '_steps_per_execution',\n '_steps_per_execution_tuner',\n '_supports_masking',\n '_test_counter',\n '_tf_api_names',\n '_tf_api_names_v1',\n '_thread_local',\n '_track_trackable',\n '_track_variable',\n '_track_variables',\n '_trackable_children',\n '_trackable_saved_model_saver',\n '_tracking_metadata',\n '_train_counter',\n '_trainable',\n '_trainable_weights',\n '_training_state',\n '_unconditional_checkpoint_dependencies',\n '_unconditional_dependency_names',\n '_undeduplicated_weights',\n '_update_model_kwargs_for_generation',\n '_update_model_kwargs_for_xla_generation',\n '_update_trackables',\n '_update_uid',\n '_updated_config',\n '_updates',\n '_upload_modified_files',\n '_use_input_spec_as_call_signature',\n '_using_dummy_loss',\n '_v2_get_resized_embeddings',\n '_v2_get_resized_lm_head_bias',\n '_v2_resize_token_embeddings',\n '_v2_resized_token_embeddings',\n '_validate_and_get_metrics_result',\n '_validate_compile',\n '_validate_model_class',\n '_validate_model_kwargs',\n '_validate_target_and_loss',\n 'activity_regularizer',\n 'add_loss',\n 'add_metric',\n 'add_update',\n 'add_variable',\n 'add_weight',\n 'autotune_steps_per_execution',\n 'base_model_prefix',\n 'beam_search',\n 'build',\n 'build_from_config',\n 'build_in_name_scope',\n 'built',\n 'call',\n 'can_generate',\n 'compile',\n 'compile_from_config',\n 'compiled_loss',\n 'compiled_metrics',\n 'compute_dtype',\n 'compute_loss',\n 'compute_mask',\n 'compute_metrics',\n 'compute_output_shape',\n 'compute_output_signature',\n 'compute_transition_scores',\n 'config',\n 'config_class',\n 'contrastive_search',\n 'count_params',\n 'create_model_card',\n 'distribute_reduction_method',\n 'distribute_strategy',\n 'dtype',\n 'dtype_policy',\n 'dummy_inputs',\n 'dynamic',\n 'evaluate',\n 'evaluate_generator',\n 'export',\n 'finalize_state',\n 'fit',\n 'fit_generator',\n 'framework',\n 'from_config',\n 'from_pretrained',\n 'generate',\n 'generation_config',\n 'get_bias',\n 'get_build_config',\n 'get_compile_config',\n 'get_config',\n 'get_head_mask',\n 'get_input_at',\n 'get_input_embeddings',\n 'get_input_mask_at',\n 'get_input_shape_at',\n 'get_label_to_output_name_mapping',\n 'get_layer',\n 'get_lm_head',\n 'get_metrics_result',\n 'get_output_at',\n 'get_output_embeddings',\n 'get_output_layer_with_bias',\n 'get_output_mask_at',\n 'get_output_shape_at',\n 'get_prefix_bias_name',\n 'get_weight_paths',\n 'get_weights',\n 'greedy_search',\n 'history',\n 'inbound_nodes',\n 'input',\n 'input_mask',\n 'input_names',\n 'input_shape',\n 'input_signature',\n 'input_spec',\n 'inputs',\n 'jit_compile',\n 'layers',\n 'load_own_variables',\n 'load_weights',\n 'losses',\n 'main_input_name',\n 'make_predict_function',\n 'make_test_function',\n 'make_train_function',\n 'metrics',\n 'metrics_names',\n 'name',\n 'name_or_path',\n 'name_scope',\n 'non_trainable_variables',\n 'non_trainable_weights',\n 'num_parameters',\n 'optimizer',\n 'outbound_nodes',\n 'output',\n 'output_mask',\n 'output_names',\n 'output_shape',\n 'outputs',\n 'predict',\n 'predict_function',\n 'predict_generator',\n 'predict_on_batch',\n 'predict_step',\n 'prepare_inputs_for_generation',\n 'prepare_tf_dataset',\n 'prune_heads',\n 'push_to_hub',\n 'register_for_auto_class',\n 'reset_metrics',\n 'reset_states',\n 'resize_token_embeddings',\n 'run_eagerly',\n 'sample',\n 'save',\n 'save_own_variables',\n 'save_pretrained',\n 'save_spec',\n 'save_weights',\n 'seed_generator',\n 'serving',\n 'serving_output',\n 'set_bias',\n 'set_input_embeddings',\n 'set_output_embeddings',\n 'set_weights',\n 'state_updates',\n 'stateful',\n 'steps_per_execution',\n 'stop_training',\n 'submodules',\n 'summary',\n 'supports_masking',\n 'supports_xla_generation',\n 'test_function',\n 'test_on_batch',\n 'test_step',\n 'to_json',\n 'to_yaml',\n 'train_function',\n 'train_on_batch',\n 'train_step',\n 'train_tf_function',\n 'trainable',\n 'trainable_variables',\n 'trainable_weights',\n 'updates',\n 'variable_dtype',\n 'variables',\n 'vit',\n 'weights',\n 'with_name_scope']"
     },
     "execution_count": 136,
     "metadata": {},
     "output_type": "execute_result"
    }
   ],
   "source": [
    "dir(vit_model)"
   ],
   "metadata": {
    "collapsed": false,
    "ExecuteTime": {
     "end_time": "2024-03-12T12:45:35.016185Z",
     "start_time": "2024-03-12T12:45:35.010588Z"
    }
   },
   "id": "b18b4a83aa26a708",
   "execution_count": 136
  },
  {
   "cell_type": "code",
   "outputs": [
    {
     "ename": "AttributeError",
     "evalue": "The layer \"tf_vi_t_for_image_classification_2\" has never been called and thus has no defined input shape. Note that the `input_shape` property is only available for Functional and Sequential models.",
     "output_type": "error",
     "traceback": [
      "\u001B[0;31m---------------------------------------------------------------------------\u001B[0m",
      "\u001B[0;31mAttributeError\u001B[0m                            Traceback (most recent call last)",
      "Cell \u001B[0;32mIn[94], line 1\u001B[0m\n\u001B[0;32m----> 1\u001B[0m \u001B[43mvit_model\u001B[49m\u001B[38;5;241;43m.\u001B[39;49m\u001B[43minput_shape\u001B[49m\n",
      "File \u001B[0;32m/usr/local/lib/python3.11/dist-packages/tf_keras/src/engine/base_layer.py:2105\u001B[0m, in \u001B[0;36mLayer.input_shape\u001B[0;34m(self)\u001B[0m\n\u001B[1;32m   2090\u001B[0m \u001B[38;5;250m\u001B[39m\u001B[38;5;124;03m\"\"\"Retrieves the input shape(s) of a layer.\u001B[39;00m\n\u001B[1;32m   2091\u001B[0m \n\u001B[1;32m   2092\u001B[0m \u001B[38;5;124;03mOnly applicable if the layer has exactly one input,\u001B[39;00m\n\u001B[0;32m   (...)\u001B[0m\n\u001B[1;32m   2102\u001B[0m \u001B[38;5;124;03m    RuntimeError: if called in Eager mode.\u001B[39;00m\n\u001B[1;32m   2103\u001B[0m \u001B[38;5;124;03m\"\"\"\u001B[39;00m\n\u001B[1;32m   2104\u001B[0m \u001B[38;5;28;01mif\u001B[39;00m \u001B[38;5;129;01mnot\u001B[39;00m \u001B[38;5;28mself\u001B[39m\u001B[38;5;241m.\u001B[39m_inbound_nodes:\n\u001B[0;32m-> 2105\u001B[0m     \u001B[38;5;28;01mraise\u001B[39;00m \u001B[38;5;167;01mAttributeError\u001B[39;00m(\n\u001B[1;32m   2106\u001B[0m         \u001B[38;5;124mf\u001B[39m\u001B[38;5;124m'\u001B[39m\u001B[38;5;124mThe layer \u001B[39m\u001B[38;5;124m\"\u001B[39m\u001B[38;5;132;01m{\u001B[39;00m\u001B[38;5;28mself\u001B[39m\u001B[38;5;241m.\u001B[39mname\u001B[38;5;132;01m}\u001B[39;00m\u001B[38;5;124m\"\u001B[39m\u001B[38;5;124m has never been called \u001B[39m\u001B[38;5;124m'\u001B[39m\n\u001B[1;32m   2107\u001B[0m         \u001B[38;5;124m\"\u001B[39m\u001B[38;5;124mand thus has no defined input shape. Note that the \u001B[39m\u001B[38;5;124m\"\u001B[39m\n\u001B[1;32m   2108\u001B[0m         \u001B[38;5;124m\"\u001B[39m\u001B[38;5;124m`input_shape` property is only available for \u001B[39m\u001B[38;5;124m\"\u001B[39m\n\u001B[1;32m   2109\u001B[0m         \u001B[38;5;124m\"\u001B[39m\u001B[38;5;124mFunctional and Sequential models.\u001B[39m\u001B[38;5;124m\"\u001B[39m\n\u001B[1;32m   2110\u001B[0m     )\n\u001B[1;32m   2111\u001B[0m all_input_shapes \u001B[38;5;241m=\u001B[39m \u001B[38;5;28mset\u001B[39m(\n\u001B[1;32m   2112\u001B[0m     [\u001B[38;5;28mstr\u001B[39m(node\u001B[38;5;241m.\u001B[39minput_shapes) \u001B[38;5;28;01mfor\u001B[39;00m node \u001B[38;5;129;01min\u001B[39;00m \u001B[38;5;28mself\u001B[39m\u001B[38;5;241m.\u001B[39m_inbound_nodes]\n\u001B[1;32m   2113\u001B[0m )\n\u001B[1;32m   2114\u001B[0m \u001B[38;5;28;01mif\u001B[39;00m \u001B[38;5;28mlen\u001B[39m(all_input_shapes) \u001B[38;5;241m==\u001B[39m \u001B[38;5;241m1\u001B[39m:\n",
      "\u001B[0;31mAttributeError\u001B[0m: The layer \"tf_vi_t_for_image_classification_2\" has never been called and thus has no defined input shape. Note that the `input_shape` property is only available for Functional and Sequential models."
     ]
    }
   ],
   "source": [
    "vit_model.input_shape"
   ],
   "metadata": {
    "collapsed": false,
    "ExecuteTime": {
     "end_time": "2024-03-12T12:26:02.765673Z",
     "start_time": "2024-03-12T12:26:02.738091Z"
    }
   },
   "id": "d9805cc639fd034f",
   "execution_count": 94
  },
  {
   "cell_type": "code",
   "outputs": [],
   "source": [
    "from transformers import  TFRobertaModel"
   ],
   "metadata": {
    "collapsed": false,
    "ExecuteTime": {
     "end_time": "2024-03-12T12:26:04.050856Z",
     "start_time": "2024-03-12T12:26:04.047771Z"
    }
   },
   "id": "b3d7b5fac7b642ec",
   "execution_count": 95
  },
  {
   "cell_type": "code",
   "outputs": [
    {
     "name": "stderr",
     "output_type": "stream",
     "text": [
      "Some weights of the PyTorch model were not used when initializing the TF 2.0 model TFRobertaModel: ['lm_head.layer_norm.weight', 'lm_head.layer_norm.bias', 'lm_head.dense.weight', 'lm_head.bias', 'lm_head.dense.bias', 'roberta.embeddings.position_ids']\n",
      "- This IS expected if you are initializing TFRobertaModel from a PyTorch model trained on another task or with another architecture (e.g. initializing a TFBertForSequenceClassification model from a BertForPreTraining model).\n",
      "- This IS NOT expected if you are initializing TFRobertaModel from a PyTorch model that you expect to be exactly identical (e.g. initializing a TFBertForSequenceClassification model from a BertForSequenceClassification model).\n",
      "Some weights or buffers of the TF 2.0 model TFRobertaModel were not initialized from the PyTorch model and are newly initialized: ['roberta.pooler.dense.weight', 'roberta.pooler.dense.bias']\n",
      "You should probably TRAIN this model on a down-stream task to be able to use it for predictions and inference.\n"
     ]
    }
   ],
   "source": [
    "roberta = TFRobertaModel.from_pretrained(\"FacebookAI/roberta-base\")"
   ],
   "metadata": {
    "collapsed": false,
    "ExecuteTime": {
     "end_time": "2024-03-12T12:26:07.257801Z",
     "start_time": "2024-03-12T12:26:05.567558Z"
    }
   },
   "id": "f50582a792bad158",
   "execution_count": 96
  },
  {
   "cell_type": "code",
   "outputs": [
    {
     "name": "stdout",
     "output_type": "stream",
     "text": [
      "Model: \"tf_roberta_model_1\"\n",
      "_________________________________________________________________\n",
      " Layer (type)                Output Shape              Param #   \n",
      "=================================================================\n",
      " roberta (TFRobertaMainLaye  multiple                  124645632 \n",
      " r)                                                              \n",
      "                                                                 \n",
      "=================================================================\n",
      "Total params: 124645632 (475.49 MB)\n",
      "Trainable params: 124645632 (475.49 MB)\n",
      "Non-trainable params: 0 (0.00 Byte)\n",
      "_________________________________________________________________\n"
     ]
    }
   ],
   "source": [
    "roberta.summary()"
   ],
   "metadata": {
    "collapsed": false,
    "ExecuteTime": {
     "end_time": "2024-03-12T12:26:17.478596Z",
     "start_time": "2024-03-12T12:26:17.461609Z"
    }
   },
   "id": "100f8aa1629a1f92",
   "execution_count": 97
  },
  {
   "cell_type": "code",
   "outputs": [
    {
     "ename": "ValueError",
     "evalue": "The first argument to `Layer.call` must always be passed.",
     "output_type": "error",
     "traceback": [
      "\u001B[0;31m---------------------------------------------------------------------------\u001B[0m",
      "\u001B[0;31mValueError\u001B[0m                                Traceback (most recent call last)",
      "Cell \u001B[0;32mIn[98], line 1\u001B[0m\n\u001B[0;32m----> 1\u001B[0m \u001B[43mroberta\u001B[49m\u001B[43m(\u001B[49m\u001B[43m)\u001B[49m\n",
      "File \u001B[0;32m/usr/local/lib/python3.11/dist-packages/tf_keras/src/utils/traceback_utils.py:70\u001B[0m, in \u001B[0;36mfilter_traceback.<locals>.error_handler\u001B[0;34m(*args, **kwargs)\u001B[0m\n\u001B[1;32m     67\u001B[0m     filtered_tb \u001B[38;5;241m=\u001B[39m _process_traceback_frames(e\u001B[38;5;241m.\u001B[39m__traceback__)\n\u001B[1;32m     68\u001B[0m     \u001B[38;5;66;03m# To get the full stack trace, call:\u001B[39;00m\n\u001B[1;32m     69\u001B[0m     \u001B[38;5;66;03m# `tf.debugging.disable_traceback_filtering()`\u001B[39;00m\n\u001B[0;32m---> 70\u001B[0m     \u001B[38;5;28;01mraise\u001B[39;00m e\u001B[38;5;241m.\u001B[39mwith_traceback(filtered_tb) \u001B[38;5;28;01mfrom\u001B[39;00m \u001B[38;5;28;01mNone\u001B[39;00m\n\u001B[1;32m     71\u001B[0m \u001B[38;5;28;01mfinally\u001B[39;00m:\n\u001B[1;32m     72\u001B[0m     \u001B[38;5;28;01mdel\u001B[39;00m filtered_tb\n",
      "File \u001B[0;32m/usr/local/lib/python3.11/dist-packages/tf_keras/src/utils/layer_utils.py:971\u001B[0m, in \u001B[0;36mCallFunctionSpec.split_out_first_arg\u001B[0;34m(self, args, kwargs)\u001B[0m\n\u001B[1;32m    969\u001B[0m     inputs \u001B[38;5;241m=\u001B[39m kwargs\u001B[38;5;241m.\u001B[39mpop(\u001B[38;5;28mself\u001B[39m\u001B[38;5;241m.\u001B[39m_arg_names[\u001B[38;5;241m0\u001B[39m])\n\u001B[1;32m    970\u001B[0m \u001B[38;5;28;01melse\u001B[39;00m:\n\u001B[0;32m--> 971\u001B[0m     \u001B[38;5;28;01mraise\u001B[39;00m \u001B[38;5;167;01mValueError\u001B[39;00m(\n\u001B[1;32m    972\u001B[0m         \u001B[38;5;124m\"\u001B[39m\u001B[38;5;124mThe first argument to `Layer.call` must always be passed.\u001B[39m\u001B[38;5;124m\"\u001B[39m\n\u001B[1;32m    973\u001B[0m     )\n\u001B[1;32m    974\u001B[0m \u001B[38;5;28;01mreturn\u001B[39;00m inputs, args, kwargs\n",
      "\u001B[0;31mValueError\u001B[0m: The first argument to `Layer.call` must always be passed."
     ]
    }
   ],
   "source": [
    "roberta()"
   ],
   "metadata": {
    "collapsed": false,
    "ExecuteTime": {
     "end_time": "2024-03-12T12:26:20.567504Z",
     "start_time": "2024-03-12T12:26:20.532537Z"
    }
   },
   "id": "2071753f04b83398",
   "execution_count": 98
  },
  {
   "cell_type": "code",
   "outputs": [
    {
     "data": {
      "text/plain": "TensorShape([1, 50, 768])"
     },
     "execution_count": 99,
     "metadata": {},
     "output_type": "execute_result"
    }
   ],
   "source": [
    "hs = vit_model.layers[0](**inputs)['last_hidden_state']\n",
    "hs.shape"
   ],
   "metadata": {
    "collapsed": false,
    "ExecuteTime": {
     "end_time": "2024-03-12T12:26:56.705934Z",
     "start_time": "2024-03-12T12:26:56.542598Z"
    }
   },
   "id": "3fc8b4132f1693f9",
   "execution_count": 99
  },
  {
   "cell_type": "code",
   "outputs": [
    {
     "data": {
      "text/plain": "<tf.Tensor: shape=(1, 50, 768), dtype=float32, numpy=\narray([[[-0.04642715,  0.07819472,  0.10297327, ..., -0.00410401,\n          0.07026549, -0.08159713],\n        [-0.01770746, -0.04575405, -0.01447336, ...,  0.00891134,\n         -0.03938118,  0.00908835],\n        [-0.01938407, -0.04436754, -0.01690471, ...,  0.00544327,\n         -0.04128317,  0.00743156],\n        ...,\n        [ 0.03982006,  0.16118445, -0.205389  , ..., -0.02016526,\n          0.01014593, -0.13618861],\n        [ 0.03145476,  0.17934817, -0.23624192, ..., -0.03867835,\n          0.00920017, -0.15700538],\n        [-0.11332527,  0.10698851, -0.01375464, ..., -0.07873282,\n          0.02806762, -0.0242648 ]]], dtype=float32)>"
     },
     "execution_count": 100,
     "metadata": {},
     "output_type": "execute_result"
    }
   ],
   "source": [
    "hs"
   ],
   "metadata": {
    "collapsed": false,
    "ExecuteTime": {
     "end_time": "2024-03-12T12:27:00.275907Z",
     "start_time": "2024-03-12T12:27:00.271352Z"
    }
   },
   "id": "510cc979a1f9dd0c",
   "execution_count": 100
  },
  {
   "cell_type": "code",
   "outputs": [],
   "source": [
    "res = roberta([],inputs_embeds = hs)"
   ],
   "metadata": {
    "collapsed": false,
    "ExecuteTime": {
     "end_time": "2024-03-12T12:27:02.737464Z",
     "start_time": "2024-03-12T12:27:02.562231Z"
    }
   },
   "id": "646ce51c60935328",
   "execution_count": 101
  },
  {
   "cell_type": "code",
   "outputs": [
    {
     "data": {
      "text/plain": "<transformers.models.roberta.modeling_tf_roberta.TFRobertaMainLayer at 0x7e9be1cf1890>"
     },
     "execution_count": 102,
     "metadata": {},
     "output_type": "execute_result"
    }
   ],
   "source": [
    "roberta.layers[0]"
   ],
   "metadata": {
    "collapsed": false,
    "ExecuteTime": {
     "end_time": "2024-03-12T12:27:07.466079Z",
     "start_time": "2024-03-12T12:27:07.462871Z"
    }
   },
   "id": "89e4fa1c4217de75",
   "execution_count": 102
  },
  {
   "cell_type": "code",
   "outputs": [
    {
     "data": {
      "text/plain": "odict_keys(['last_hidden_state', 'pooler_output'])"
     },
     "execution_count": 103,
     "metadata": {},
     "output_type": "execute_result"
    }
   ],
   "source": [
    "res.keys()"
   ],
   "metadata": {
    "collapsed": false,
    "ExecuteTime": {
     "end_time": "2024-03-12T12:27:08.029818Z",
     "start_time": "2024-03-12T12:27:08.026216Z"
    }
   },
   "id": "78c3ee7697adffc3",
   "execution_count": 103
  },
  {
   "cell_type": "code",
   "outputs": [
    {
     "data": {
      "text/plain": "TensorShape([1, 50, 768])"
     },
     "execution_count": 104,
     "metadata": {},
     "output_type": "execute_result"
    }
   ],
   "source": [
    "res['last_hidden_state'].shape"
   ],
   "metadata": {
    "collapsed": false,
    "ExecuteTime": {
     "end_time": "2024-03-12T12:27:09.208925Z",
     "start_time": "2024-03-12T12:27:09.205066Z"
    }
   },
   "id": "f282d094dfde4bcc",
   "execution_count": 104
  },
  {
   "cell_type": "code",
   "outputs": [
    {
     "data": {
      "text/plain": "<tf.Tensor: shape=(1, 197, 100), dtype=float32, numpy=\narray([[[ 0.86008716, -0.36986887,  0.0010151 , ..., -0.8080325 ,\n          0.47480315, -0.26050305],\n        [ 0.70591027,  0.44912875, -0.8911552 , ...,  0.21925709,\n         -0.19412321, -0.09676844],\n        [ 0.6314004 ,  0.614514  , -0.726822  , ...,  0.34921515,\n          0.1237229 , -0.11059649],\n        ...,\n        [ 0.5519343 ,  0.18524829, -0.6838685 , ...,  0.13580865,\n         -0.00276837, -0.28782707],\n        [ 0.5669745 ,  0.33112562, -0.79380804, ...,  0.08616413,\n          0.14968473, -0.29568923],\n        [ 0.53955775,  0.4988504 , -0.83301526, ...,  0.12049282,\n          0.20462257, -0.29942286]]], dtype=float32)>"
     },
     "execution_count": 72,
     "metadata": {},
     "output_type": "execute_result"
    }
   ],
   "source": [
    "# ds = keras.layers.Flatten()(res['last_hidden_state'])\n",
    "keras.layers.Dense(100)(res['last_hidden_state'])"
   ],
   "metadata": {
    "collapsed": false,
    "ExecuteTime": {
     "end_time": "2024-03-12T11:59:58.203946Z",
     "start_time": "2024-03-12T11:59:58.183094Z"
    }
   },
   "id": "8c584eae1365dee4",
   "execution_count": 72
  },
  {
   "cell_type": "code",
   "outputs": [],
   "source": [
    "test_word = np.ones((1,3,32,224))"
   ],
   "metadata": {
    "collapsed": false,
    "ExecuteTime": {
     "end_time": "2024-03-12T12:04:31.589451Z",
     "start_time": "2024-03-12T12:04:31.586560Z"
    }
   },
   "id": "bc90739692d444d7",
   "execution_count": 73
  },
  {
   "cell_type": "code",
   "outputs": [
    {
     "ename": "ValueError",
     "evalue": "Exception encountered when calling layer 'patch_embeddings' (type TFViTPatchEmbeddings).\n\nInput image size (32*224) doesn't match model (224*224).\n\nCall arguments received by layer 'patch_embeddings' (type TFViTPatchEmbeddings):\n  • pixel_values=tf.Tensor(shape=(1, 3, 32, 224), dtype=float32)\n  • interpolate_pos_encoding=None\n  • training=False",
     "output_type": "error",
     "traceback": [
      "\u001B[0;31m---------------------------------------------------------------------------\u001B[0m",
      "\u001B[0;31mValueError\u001B[0m                                Traceback (most recent call last)",
      "Cell \u001B[0;32mIn[78], line 1\u001B[0m\n\u001B[0;32m----> 1\u001B[0m \u001B[43mmodel\u001B[49m\u001B[38;5;241;43m.\u001B[39;49m\u001B[43mvit\u001B[49m\u001B[43m(\u001B[49m\u001B[43mtest_word\u001B[49m\u001B[43m)\u001B[49m\n",
      "File \u001B[0;32m/usr/local/lib/python3.11/dist-packages/tf_keras/src/utils/traceback_utils.py:70\u001B[0m, in \u001B[0;36mfilter_traceback.<locals>.error_handler\u001B[0;34m(*args, **kwargs)\u001B[0m\n\u001B[1;32m     67\u001B[0m     filtered_tb \u001B[38;5;241m=\u001B[39m _process_traceback_frames(e\u001B[38;5;241m.\u001B[39m__traceback__)\n\u001B[1;32m     68\u001B[0m     \u001B[38;5;66;03m# To get the full stack trace, call:\u001B[39;00m\n\u001B[1;32m     69\u001B[0m     \u001B[38;5;66;03m# `tf.debugging.disable_traceback_filtering()`\u001B[39;00m\n\u001B[0;32m---> 70\u001B[0m     \u001B[38;5;28;01mraise\u001B[39;00m e\u001B[38;5;241m.\u001B[39mwith_traceback(filtered_tb) \u001B[38;5;28;01mfrom\u001B[39;00m \u001B[38;5;28;01mNone\u001B[39;00m\n\u001B[1;32m     71\u001B[0m \u001B[38;5;28;01mfinally\u001B[39;00m:\n\u001B[1;32m     72\u001B[0m     \u001B[38;5;28;01mdel\u001B[39;00m filtered_tb\n",
      "File \u001B[0;32m~/.local/lib/python3.11/site-packages/transformers/modeling_tf_utils.py:428\u001B[0m, in \u001B[0;36munpack_inputs.<locals>.run_call_with_unpacked_inputs\u001B[0;34m(self, *args, **kwargs)\u001B[0m\n\u001B[1;32m    425\u001B[0m     config \u001B[38;5;241m=\u001B[39m \u001B[38;5;28mself\u001B[39m\u001B[38;5;241m.\u001B[39mconfig\n\u001B[1;32m    427\u001B[0m unpacked_inputs \u001B[38;5;241m=\u001B[39m input_processing(func, config, \u001B[38;5;241m*\u001B[39m\u001B[38;5;241m*\u001B[39mfn_args_and_kwargs)\n\u001B[0;32m--> 428\u001B[0m \u001B[38;5;28;01mreturn\u001B[39;00m \u001B[43mfunc\u001B[49m\u001B[43m(\u001B[49m\u001B[38;5;28;43mself\u001B[39;49m\u001B[43m,\u001B[49m\u001B[43m \u001B[49m\u001B[38;5;241;43m*\u001B[39;49m\u001B[38;5;241;43m*\u001B[39;49m\u001B[43munpacked_inputs\u001B[49m\u001B[43m)\u001B[49m\n",
      "File \u001B[0;32m~/.local/lib/python3.11/site-packages/transformers/models/vit/modeling_tf_vit.py:596\u001B[0m, in \u001B[0;36mTFViTMainLayer.call\u001B[0;34m(self, pixel_values, head_mask, output_attentions, output_hidden_states, interpolate_pos_encoding, return_dict, training)\u001B[0m\n\u001B[1;32m    593\u001B[0m \u001B[38;5;28;01mif\u001B[39;00m pixel_values \u001B[38;5;129;01mis\u001B[39;00m \u001B[38;5;28;01mNone\u001B[39;00m:\n\u001B[1;32m    594\u001B[0m     \u001B[38;5;28;01mraise\u001B[39;00m \u001B[38;5;167;01mValueError\u001B[39;00m(\u001B[38;5;124m\"\u001B[39m\u001B[38;5;124mYou have to specify pixel_values\u001B[39m\u001B[38;5;124m\"\u001B[39m)\n\u001B[0;32m--> 596\u001B[0m embedding_output \u001B[38;5;241m=\u001B[39m \u001B[38;5;28;43mself\u001B[39;49m\u001B[38;5;241;43m.\u001B[39;49m\u001B[43membeddings\u001B[49m\u001B[43m(\u001B[49m\n\u001B[1;32m    597\u001B[0m \u001B[43m    \u001B[49m\u001B[43mpixel_values\u001B[49m\u001B[38;5;241;43m=\u001B[39;49m\u001B[43mpixel_values\u001B[49m\u001B[43m,\u001B[49m\n\u001B[1;32m    598\u001B[0m \u001B[43m    \u001B[49m\u001B[43minterpolate_pos_encoding\u001B[49m\u001B[38;5;241;43m=\u001B[39;49m\u001B[43minterpolate_pos_encoding\u001B[49m\u001B[43m,\u001B[49m\n\u001B[1;32m    599\u001B[0m \u001B[43m    \u001B[49m\u001B[43mtraining\u001B[49m\u001B[38;5;241;43m=\u001B[39;49m\u001B[43mtraining\u001B[49m\u001B[43m,\u001B[49m\n\u001B[1;32m    600\u001B[0m \u001B[43m\u001B[49m\u001B[43m)\u001B[49m\n\u001B[1;32m    602\u001B[0m \u001B[38;5;66;03m# Prepare head mask if needed\u001B[39;00m\n\u001B[1;32m    603\u001B[0m \u001B[38;5;66;03m# 1.0 in head_mask indicate we keep the head\u001B[39;00m\n\u001B[1;32m    604\u001B[0m \u001B[38;5;66;03m# attention_probs has shape bsz x n_heads x N x N\u001B[39;00m\n\u001B[1;32m    605\u001B[0m \u001B[38;5;66;03m# input head_mask has shape [num_heads] or [num_hidden_layers x num_heads]\u001B[39;00m\n\u001B[1;32m    606\u001B[0m \u001B[38;5;66;03m# and head_mask is converted to shape [num_hidden_layers x batch x num_heads x seq_length x seq_length]\u001B[39;00m\n\u001B[1;32m    607\u001B[0m \u001B[38;5;28;01mif\u001B[39;00m head_mask \u001B[38;5;129;01mis\u001B[39;00m \u001B[38;5;129;01mnot\u001B[39;00m \u001B[38;5;28;01mNone\u001B[39;00m:\n",
      "File \u001B[0;32m~/.local/lib/python3.11/site-packages/transformers/models/vit/modeling_tf_vit.py:130\u001B[0m, in \u001B[0;36mTFViTEmbeddings.call\u001B[0;34m(self, pixel_values, interpolate_pos_encoding, training)\u001B[0m\n\u001B[1;32m    126\u001B[0m \u001B[38;5;28;01mdef\u001B[39;00m \u001B[38;5;21mcall\u001B[39m(\n\u001B[1;32m    127\u001B[0m     \u001B[38;5;28mself\u001B[39m, pixel_values: tf\u001B[38;5;241m.\u001B[39mTensor, interpolate_pos_encoding: \u001B[38;5;28mbool\u001B[39m \u001B[38;5;241m=\u001B[39m \u001B[38;5;28;01mFalse\u001B[39;00m, training: \u001B[38;5;28mbool\u001B[39m \u001B[38;5;241m=\u001B[39m \u001B[38;5;28;01mFalse\u001B[39;00m\n\u001B[1;32m    128\u001B[0m ) \u001B[38;5;241m-\u001B[39m\u001B[38;5;241m>\u001B[39m tf\u001B[38;5;241m.\u001B[39mTensor:\n\u001B[1;32m    129\u001B[0m     batch_size, num_channels, height, width \u001B[38;5;241m=\u001B[39m shape_list(pixel_values)\n\u001B[0;32m--> 130\u001B[0m     embeddings \u001B[38;5;241m=\u001B[39m \u001B[38;5;28;43mself\u001B[39;49m\u001B[38;5;241;43m.\u001B[39;49m\u001B[43mpatch_embeddings\u001B[49m\u001B[43m(\u001B[49m\n\u001B[1;32m    131\u001B[0m \u001B[43m        \u001B[49m\u001B[43mpixel_values\u001B[49m\u001B[43m,\u001B[49m\u001B[43m \u001B[49m\u001B[43minterpolate_pos_encoding\u001B[49m\u001B[38;5;241;43m=\u001B[39;49m\u001B[43minterpolate_pos_encoding\u001B[49m\u001B[43m,\u001B[49m\u001B[43m \u001B[49m\u001B[43mtraining\u001B[49m\u001B[38;5;241;43m=\u001B[39;49m\u001B[43mtraining\u001B[49m\n\u001B[1;32m    132\u001B[0m \u001B[43m    \u001B[49m\u001B[43m)\u001B[49m\n\u001B[1;32m    134\u001B[0m     \u001B[38;5;66;03m# add the [CLS] token to the embedded patch tokens\u001B[39;00m\n\u001B[1;32m    135\u001B[0m     cls_tokens \u001B[38;5;241m=\u001B[39m tf\u001B[38;5;241m.\u001B[39mrepeat(\u001B[38;5;28mself\u001B[39m\u001B[38;5;241m.\u001B[39mcls_token, repeats\u001B[38;5;241m=\u001B[39mbatch_size, axis\u001B[38;5;241m=\u001B[39m\u001B[38;5;241m0\u001B[39m)\n",
      "File \u001B[0;32m~/.local/lib/python3.11/site-packages/transformers/models/vit/modeling_tf_vit.py:195\u001B[0m, in \u001B[0;36mTFViTPatchEmbeddings.call\u001B[0;34m(self, pixel_values, interpolate_pos_encoding, training)\u001B[0m\n\u001B[1;32m    193\u001B[0m     \u001B[38;5;28;01mif\u001B[39;00m tf\u001B[38;5;241m.\u001B[39mexecuting_eagerly():\n\u001B[1;32m    194\u001B[0m         \u001B[38;5;28;01mif\u001B[39;00m height \u001B[38;5;241m!=\u001B[39m \u001B[38;5;28mself\u001B[39m\u001B[38;5;241m.\u001B[39mimage_size[\u001B[38;5;241m0\u001B[39m] \u001B[38;5;129;01mor\u001B[39;00m width \u001B[38;5;241m!=\u001B[39m \u001B[38;5;28mself\u001B[39m\u001B[38;5;241m.\u001B[39mimage_size[\u001B[38;5;241m1\u001B[39m]:\n\u001B[0;32m--> 195\u001B[0m             \u001B[38;5;28;01mraise\u001B[39;00m \u001B[38;5;167;01mValueError\u001B[39;00m(\n\u001B[1;32m    196\u001B[0m                 \u001B[38;5;124mf\u001B[39m\u001B[38;5;124m\"\u001B[39m\u001B[38;5;124mInput image size (\u001B[39m\u001B[38;5;132;01m{\u001B[39;00mheight\u001B[38;5;132;01m}\u001B[39;00m\u001B[38;5;124m*\u001B[39m\u001B[38;5;132;01m{\u001B[39;00mwidth\u001B[38;5;132;01m}\u001B[39;00m\u001B[38;5;124m) doesn\u001B[39m\u001B[38;5;124m'\u001B[39m\u001B[38;5;124mt match model\u001B[39m\u001B[38;5;124m\"\u001B[39m\n\u001B[1;32m    197\u001B[0m                 \u001B[38;5;124mf\u001B[39m\u001B[38;5;124m\"\u001B[39m\u001B[38;5;124m (\u001B[39m\u001B[38;5;132;01m{\u001B[39;00m\u001B[38;5;28mself\u001B[39m\u001B[38;5;241m.\u001B[39mimage_size[\u001B[38;5;241m0\u001B[39m]\u001B[38;5;132;01m}\u001B[39;00m\u001B[38;5;124m*\u001B[39m\u001B[38;5;132;01m{\u001B[39;00m\u001B[38;5;28mself\u001B[39m\u001B[38;5;241m.\u001B[39mimage_size[\u001B[38;5;241m1\u001B[39m]\u001B[38;5;132;01m}\u001B[39;00m\u001B[38;5;124m).\u001B[39m\u001B[38;5;124m\"\u001B[39m\n\u001B[1;32m    198\u001B[0m             )\n\u001B[1;32m    200\u001B[0m \u001B[38;5;66;03m# When running on CPU, `keras.layers.Conv2D` doesn't support `NCHW` format.\u001B[39;00m\n\u001B[1;32m    201\u001B[0m \u001B[38;5;66;03m# So change the input format from `NCHW` to `NHWC`.\u001B[39;00m\n\u001B[1;32m    202\u001B[0m \u001B[38;5;66;03m# shape = (batch_size, in_height, in_width, in_channels=num_channels)\u001B[39;00m\n\u001B[1;32m    203\u001B[0m pixel_values \u001B[38;5;241m=\u001B[39m tf\u001B[38;5;241m.\u001B[39mtranspose(pixel_values, perm\u001B[38;5;241m=\u001B[39m(\u001B[38;5;241m0\u001B[39m, \u001B[38;5;241m2\u001B[39m, \u001B[38;5;241m3\u001B[39m, \u001B[38;5;241m1\u001B[39m))\n",
      "\u001B[0;31mValueError\u001B[0m: Exception encountered when calling layer 'patch_embeddings' (type TFViTPatchEmbeddings).\n\nInput image size (32*224) doesn't match model (224*224).\n\nCall arguments received by layer 'patch_embeddings' (type TFViTPatchEmbeddings):\n  • pixel_values=tf.Tensor(shape=(1, 3, 32, 224), dtype=float32)\n  • interpolate_pos_encoding=None\n  • training=False"
     ]
    }
   ],
   "source": [
    "model.vit(test_word)"
   ],
   "metadata": {
    "collapsed": false,
    "ExecuteTime": {
     "end_time": "2024-03-12T12:06:12.347932Z",
     "start_time": "2024-03-12T12:06:12.287606Z"
    }
   },
   "id": "23026186349b137e",
   "execution_count": 78
  },
  {
   "cell_type": "code",
   "outputs": [
    {
     "name": "stdout",
     "output_type": "stream",
     "text": [
      "Model: \"tf_vi_t_model\"\n",
      "_________________________________________________________________\n",
      " Layer (type)                Output Shape              Param #   \n",
      "=================================================================\n",
      " vit (TFViTMainLayer)        multiple                  88045824  \n",
      "                                                                 \n",
      "=================================================================\n",
      "Total params: 88045824 (335.87 MB)\n",
      "Trainable params: 88045824 (335.87 MB)\n",
      "Non-trainable params: 0 (0.00 Byte)\n",
      "_________________________________________________________________\n"
     ]
    }
   ],
   "source": [
    "vit_model.summary()"
   ],
   "metadata": {
    "collapsed": false,
    "ExecuteTime": {
     "end_time": "2024-03-12T13:19:22.749961Z",
     "start_time": "2024-03-12T13:19:22.735805Z"
    }
   },
   "id": "9f9e6caa3e9d9c8c",
   "execution_count": 152
  },
  {
   "cell_type": "code",
   "outputs": [
    {
     "name": "stderr",
     "output_type": "stream",
     "text": [
      "/home/main/.local/lib/python3.11/site-packages/transformers/generation/tf_utils.py:465: UserWarning: `seed_generator` is deprecated and will be removed in a future version.\n",
      "  warnings.warn(\"`seed_generator` is deprecated and will be removed in a future version.\", UserWarning)\n"
     ]
    }
   ],
   "source": [
    "vit_model.save('../models/ViT/vit_model.keras')"
   ],
   "metadata": {
    "collapsed": false,
    "ExecuteTime": {
     "end_time": "2024-03-12T13:20:05.596820Z",
     "start_time": "2024-03-12T13:20:04.513400Z"
    }
   },
   "id": "bdb0df5d8fdd0292",
   "execution_count": 154
  },
  {
   "cell_type": "code",
   "outputs": [
    {
     "ename": "UnboundLocalError",
     "evalue": "cannot access local variable 'obj_type' where it is not associated with a value",
     "output_type": "error",
     "traceback": [
      "\u001B[0;31m---------------------------------------------------------------------------\u001B[0m",
      "\u001B[0;31mUnboundLocalError\u001B[0m                         Traceback (most recent call last)",
      "Cell \u001B[0;32mIn[155], line 1\u001B[0m\n\u001B[0;32m----> 1\u001B[0m model \u001B[38;5;241m=\u001B[39m \u001B[43mkeras\u001B[49m\u001B[38;5;241;43m.\u001B[39;49m\u001B[43mmodels\u001B[49m\u001B[38;5;241;43m.\u001B[39;49m\u001B[43mload_model\u001B[49m\u001B[43m(\u001B[49m\u001B[38;5;124;43m'\u001B[39;49m\u001B[38;5;124;43m../models/ViT/vit_model.keras\u001B[39;49m\u001B[38;5;124;43m'\u001B[39;49m\u001B[43m)\u001B[49m\n\u001B[1;32m      2\u001B[0m model\u001B[38;5;241m.\u001B[39msummary()\n",
      "File \u001B[0;32m~/.local/lib/python3.11/site-packages/keras/src/saving/saving_api.py:173\u001B[0m, in \u001B[0;36mload_model\u001B[0;34m(filepath, custom_objects, compile, safe_mode)\u001B[0m\n\u001B[1;32m    170\u001B[0m         is_keras_zip \u001B[38;5;241m=\u001B[39m \u001B[38;5;28;01mTrue\u001B[39;00m\n\u001B[1;32m    172\u001B[0m \u001B[38;5;28;01mif\u001B[39;00m is_keras_zip:\n\u001B[0;32m--> 173\u001B[0m     \u001B[38;5;28;01mreturn\u001B[39;00m \u001B[43msaving_lib\u001B[49m\u001B[38;5;241;43m.\u001B[39;49m\u001B[43mload_model\u001B[49m\u001B[43m(\u001B[49m\n\u001B[1;32m    174\u001B[0m \u001B[43m        \u001B[49m\u001B[43mfilepath\u001B[49m\u001B[43m,\u001B[49m\n\u001B[1;32m    175\u001B[0m \u001B[43m        \u001B[49m\u001B[43mcustom_objects\u001B[49m\u001B[38;5;241;43m=\u001B[39;49m\u001B[43mcustom_objects\u001B[49m\u001B[43m,\u001B[49m\n\u001B[1;32m    176\u001B[0m \u001B[43m        \u001B[49m\u001B[38;5;28;43mcompile\u001B[39;49m\u001B[38;5;241;43m=\u001B[39;49m\u001B[38;5;28;43mcompile\u001B[39;49m\u001B[43m,\u001B[49m\n\u001B[1;32m    177\u001B[0m \u001B[43m        \u001B[49m\u001B[43msafe_mode\u001B[49m\u001B[38;5;241;43m=\u001B[39;49m\u001B[43msafe_mode\u001B[49m\u001B[43m,\u001B[49m\n\u001B[1;32m    178\u001B[0m \u001B[43m    \u001B[49m\u001B[43m)\u001B[49m\n\u001B[1;32m    179\u001B[0m \u001B[38;5;28;01mif\u001B[39;00m \u001B[38;5;28mstr\u001B[39m(filepath)\u001B[38;5;241m.\u001B[39mendswith((\u001B[38;5;124m\"\u001B[39m\u001B[38;5;124m.h5\u001B[39m\u001B[38;5;124m\"\u001B[39m, \u001B[38;5;124m\"\u001B[39m\u001B[38;5;124m.hdf5\u001B[39m\u001B[38;5;124m\"\u001B[39m)):\n\u001B[1;32m    180\u001B[0m     \u001B[38;5;28;01mreturn\u001B[39;00m legacy_h5_format\u001B[38;5;241m.\u001B[39mload_model_from_hdf5(filepath)\n",
      "File \u001B[0;32m~/.local/lib/python3.11/site-packages/keras/src/saving/saving_lib.py:174\u001B[0m, in \u001B[0;36mload_model\u001B[0;34m(filepath, custom_objects, compile, safe_mode)\u001B[0m\n\u001B[1;32m    171\u001B[0m \u001B[38;5;28;01melse\u001B[39;00m:\n\u001B[1;32m    172\u001B[0m     asset_store \u001B[38;5;241m=\u001B[39m \u001B[38;5;28;01mNone\u001B[39;00m\n\u001B[0;32m--> 174\u001B[0m \u001B[43m_load_state\u001B[49m\u001B[43m(\u001B[49m\n\u001B[1;32m    175\u001B[0m \u001B[43m    \u001B[49m\u001B[43mmodel\u001B[49m\u001B[43m,\u001B[49m\n\u001B[1;32m    176\u001B[0m \u001B[43m    \u001B[49m\u001B[43mweights_store\u001B[49m\u001B[38;5;241;43m=\u001B[39;49m\u001B[43mweights_store\u001B[49m\u001B[43m,\u001B[49m\n\u001B[1;32m    177\u001B[0m \u001B[43m    \u001B[49m\u001B[43massets_store\u001B[49m\u001B[38;5;241;43m=\u001B[39;49m\u001B[43masset_store\u001B[49m\u001B[43m,\u001B[49m\n\u001B[1;32m    178\u001B[0m \u001B[43m    \u001B[49m\u001B[43minner_path\u001B[49m\u001B[38;5;241;43m=\u001B[39;49m\u001B[38;5;124;43m\"\u001B[39;49m\u001B[38;5;124;43m\"\u001B[39;49m\u001B[43m,\u001B[49m\n\u001B[1;32m    179\u001B[0m \u001B[43m    \u001B[49m\u001B[43mvisited_trackables\u001B[49m\u001B[38;5;241;43m=\u001B[39;49m\u001B[38;5;28;43mset\u001B[39;49m\u001B[43m(\u001B[49m\u001B[43m)\u001B[49m\u001B[43m,\u001B[49m\n\u001B[1;32m    180\u001B[0m \u001B[43m\u001B[49m\u001B[43m)\u001B[49m\n\u001B[1;32m    181\u001B[0m weights_store\u001B[38;5;241m.\u001B[39mclose()\n\u001B[1;32m    182\u001B[0m \u001B[38;5;28;01mif\u001B[39;00m asset_store:\n",
      "File \u001B[0;32m~/.local/lib/python3.11/site-packages/keras/src/saving/saving_lib.py:375\u001B[0m, in \u001B[0;36m_load_state\u001B[0;34m(trackable, weights_store, assets_store, inner_path, skip_mismatch, visited_trackables)\u001B[0m\n\u001B[1;32m    372\u001B[0m     visited_trackables\u001B[38;5;241m.\u001B[39madd(\u001B[38;5;28mid\u001B[39m(trackable))\n\u001B[1;32m    374\u001B[0m \u001B[38;5;66;03m# Recursively load states for Keras trackables such as layers/optimizers.\u001B[39;00m\n\u001B[0;32m--> 375\u001B[0m \u001B[43m\u001B[49m\u001B[38;5;28;43;01mfor\u001B[39;49;00m\u001B[43m \u001B[49m\u001B[43mchild_attr\u001B[49m\u001B[43m,\u001B[49m\u001B[43m \u001B[49m\u001B[43mchild_obj\u001B[49m\u001B[43m \u001B[49m\u001B[38;5;129;43;01min\u001B[39;49;00m\u001B[43m \u001B[49m\u001B[43m_walk_trackable\u001B[49m\u001B[43m(\u001B[49m\u001B[43mtrackable\u001B[49m\u001B[43m)\u001B[49m\u001B[43m:\u001B[49m\n\u001B[1;32m    376\u001B[0m \u001B[43m    \u001B[49m\u001B[38;5;28;43;01mif\u001B[39;49;00m\u001B[43m \u001B[49m\u001B[43m_is_keras_trackable\u001B[49m\u001B[43m(\u001B[49m\u001B[43mchild_obj\u001B[49m\u001B[43m)\u001B[49m\u001B[43m:\u001B[49m\n\u001B[1;32m    377\u001B[0m \u001B[43m        \u001B[49m\u001B[43m_load_state\u001B[49m\u001B[43m(\u001B[49m\n\u001B[1;32m    378\u001B[0m \u001B[43m            \u001B[49m\u001B[43mchild_obj\u001B[49m\u001B[43m,\u001B[49m\n\u001B[1;32m    379\u001B[0m \u001B[43m            \u001B[49m\u001B[43mweights_store\u001B[49m\u001B[43m,\u001B[49m\n\u001B[0;32m   (...)\u001B[0m\n\u001B[1;32m    385\u001B[0m \u001B[43m            \u001B[49m\u001B[43mvisited_trackables\u001B[49m\u001B[38;5;241;43m=\u001B[39;49m\u001B[43mvisited_trackables\u001B[49m\u001B[43m,\u001B[49m\n\u001B[1;32m    386\u001B[0m \u001B[43m        \u001B[49m\u001B[43m)\u001B[49m\n",
      "File \u001B[0;32m~/.local/lib/python3.11/site-packages/keras/src/saving/saving_lib.py:276\u001B[0m, in \u001B[0;36m_walk_trackable\u001B[0;34m(trackable)\u001B[0m\n\u001B[1;32m    274\u001B[0m     obj_type \u001B[38;5;241m=\u001B[39m \u001B[38;5;124m\"\u001B[39m\u001B[38;5;124mLoss\u001B[39m\u001B[38;5;124m\"\u001B[39m\n\u001B[1;32m    275\u001B[0m \u001B[38;5;28;01melse\u001B[39;00m:\n\u001B[0;32m--> 276\u001B[0m     \u001B[38;5;28;01mraise\u001B[39;00m \u001B[38;5;167;01mValueError\u001B[39;00m(\u001B[38;5;124mf\u001B[39m\u001B[38;5;124m\"\u001B[39m\u001B[38;5;124mInvalid obj_type: \u001B[39m\u001B[38;5;132;01m{\u001B[39;00mobj_type\u001B[38;5;132;01m}\u001B[39;00m\u001B[38;5;124m\"\u001B[39m)\n\u001B[1;32m    277\u001B[0m attr_skiplist \u001B[38;5;241m=\u001B[39m get_attr_skiplist(obj_type)\n\u001B[1;32m    279\u001B[0m \u001B[38;5;28;01mfor\u001B[39;00m child_attr \u001B[38;5;129;01min\u001B[39;00m \u001B[38;5;28msorted\u001B[39m(\u001B[38;5;28mdir\u001B[39m(trackable)):\n",
      "\u001B[0;31mUnboundLocalError\u001B[0m: cannot access local variable 'obj_type' where it is not associated with a value"
     ]
    }
   ],
   "source": [
    "model = keras.models.load_model('../models/ViT/vit_model.keras')\n",
    "model.summary()"
   ],
   "metadata": {
    "collapsed": false,
    "ExecuteTime": {
     "end_time": "2024-03-12T13:21:11.756230Z",
     "start_time": "2024-03-12T13:21:11.416433Z"
    }
   },
   "id": "8455b61fe79cbad5",
   "execution_count": 155
  },
  {
   "cell_type": "code",
   "outputs": [
    {
     "ename": "AttributeError",
     "evalue": "Layer tf_vi_t_model has no inbound nodes.",
     "output_type": "error",
     "traceback": [
      "\u001B[0;31m---------------------------------------------------------------------------\u001B[0m",
      "\u001B[0;31mAttributeError\u001B[0m                            Traceback (most recent call last)",
      "Cell \u001B[0;32mIn[143], line 1\u001B[0m\n\u001B[0;32m----> 1\u001B[0m encoded \u001B[38;5;241m=\u001B[39m \u001B[43mvit_model\u001B[49m\u001B[38;5;241;43m.\u001B[39;49m\u001B[43moutput\u001B[49m\n\u001B[1;32m      2\u001B[0m \u001B[38;5;66;03m# decoded = roberta([],inputs_embeds =encoded)\u001B[39;00m\n\u001B[1;32m      3\u001B[0m logits \u001B[38;5;241m=\u001B[39m keras\u001B[38;5;241m.\u001B[39mlayers\u001B[38;5;241m.\u001B[39mDense(\u001B[38;5;241m100\u001B[39m, activation\u001B[38;5;241m=\u001B[39m\u001B[38;5;124m'\u001B[39m\u001B[38;5;124msoftmax\u001B[39m\u001B[38;5;124m'\u001B[39m)(encoded)\n",
      "File \u001B[0;32m/usr/local/lib/python3.11/dist-packages/tf_keras/src/engine/base_layer.py:2082\u001B[0m, in \u001B[0;36mLayer.output\u001B[0;34m(self)\u001B[0m\n\u001B[1;32m   2068\u001B[0m \u001B[38;5;250m\u001B[39m\u001B[38;5;124;03m\"\"\"Retrieves the output tensor(s) of a layer.\u001B[39;00m\n\u001B[1;32m   2069\u001B[0m \n\u001B[1;32m   2070\u001B[0m \u001B[38;5;124;03mOnly applicable if the layer has exactly one output,\u001B[39;00m\n\u001B[0;32m   (...)\u001B[0m\n\u001B[1;32m   2079\u001B[0m \u001B[38;5;124;03m  RuntimeError: if called in Eager mode.\u001B[39;00m\n\u001B[1;32m   2080\u001B[0m \u001B[38;5;124;03m\"\"\"\u001B[39;00m\n\u001B[1;32m   2081\u001B[0m \u001B[38;5;28;01mif\u001B[39;00m \u001B[38;5;129;01mnot\u001B[39;00m \u001B[38;5;28mself\u001B[39m\u001B[38;5;241m.\u001B[39m_inbound_nodes:\n\u001B[0;32m-> 2082\u001B[0m     \u001B[38;5;28;01mraise\u001B[39;00m \u001B[38;5;167;01mAttributeError\u001B[39;00m(\n\u001B[1;32m   2083\u001B[0m         \u001B[38;5;124m\"\u001B[39m\u001B[38;5;124mLayer \u001B[39m\u001B[38;5;124m\"\u001B[39m \u001B[38;5;241m+\u001B[39m \u001B[38;5;28mself\u001B[39m\u001B[38;5;241m.\u001B[39mname \u001B[38;5;241m+\u001B[39m \u001B[38;5;124m\"\u001B[39m\u001B[38;5;124m has no inbound nodes.\u001B[39m\u001B[38;5;124m\"\u001B[39m\n\u001B[1;32m   2084\u001B[0m     )\n\u001B[1;32m   2085\u001B[0m \u001B[38;5;28;01mreturn\u001B[39;00m \u001B[38;5;28mself\u001B[39m\u001B[38;5;241m.\u001B[39m_get_node_attribute_at_index(\u001B[38;5;241m0\u001B[39m, \u001B[38;5;124m\"\u001B[39m\u001B[38;5;124moutput_tensors\u001B[39m\u001B[38;5;124m\"\u001B[39m, \u001B[38;5;124m\"\u001B[39m\u001B[38;5;124moutput\u001B[39m\u001B[38;5;124m\"\u001B[39m)\n",
      "\u001B[0;31mAttributeError\u001B[0m: Layer tf_vi_t_model has no inbound nodes."
     ]
    }
   ],
   "source": [
    "\n",
    "\n",
    "encoded = vit_model.output\n",
    "# decoded = roberta([],inputs_embeds =encoded)\n",
    "logits = keras.layers.Dense(100, activation='softmax')(encoded)\n",
    "TROCR_model = keras.Model(inputs=vit_model.input, outputs=logits)\n",
    "TROCR_model.summary()"
   ],
   "metadata": {
    "collapsed": false,
    "ExecuteTime": {
     "end_time": "2024-03-12T12:55:08.375841Z",
     "start_time": "2024-03-12T12:55:08.351343Z"
    }
   },
   "id": "beafe0b7c39db9b",
   "execution_count": 143
  },
  {
   "cell_type": "code",
   "outputs": [
    {
     "name": "stderr",
     "output_type": "stream",
     "text": [
      "2024-03-13 11:09:17.123911: E external/local_xla/xla/stream_executor/cuda/cuda_dnn.cc:9261] Unable to register cuDNN factory: Attempting to register factory for plugin cuDNN when one has already been registered\n",
      "2024-03-13 11:09:17.123980: E external/local_xla/xla/stream_executor/cuda/cuda_fft.cc:607] Unable to register cuFFT factory: Attempting to register factory for plugin cuFFT when one has already been registered\n",
      "2024-03-13 11:09:17.160022: E external/local_xla/xla/stream_executor/cuda/cuda_blas.cc:1515] Unable to register cuBLAS factory: Attempting to register factory for plugin cuBLAS when one has already been registered\n",
      "2024-03-13 11:09:17.236894: I tensorflow/core/platform/cpu_feature_guard.cc:182] This TensorFlow binary is optimized to use available CPU instructions in performance-critical operations.\n",
      "To enable the following instructions: AVX2 FMA, in other operations, rebuild TensorFlow with the appropriate compiler flags.\n",
      "2024-03-13 11:09:18.231204: W tensorflow/compiler/tf2tensorrt/utils/py_utils.cc:38] TF-TRT Warning: Could not find TensorRT\n"
     ]
    }
   ],
   "source": [
    "import keras_nlp"
   ],
   "metadata": {
    "collapsed": false,
    "ExecuteTime": {
     "end_time": "2024-03-13T08:09:20.131261Z",
     "start_time": "2024-03-13T08:09:16.372247Z"
    }
   },
   "id": "4e82bf08645657c8",
   "execution_count": 1
  },
  {
   "cell_type": "code",
   "outputs": [
    {
     "name": "stderr",
     "output_type": "stream",
     "text": [
      "2024-03-13 11:09:21.710913: I external/local_xla/xla/stream_executor/cuda/cuda_executor.cc:901] successful NUMA node read from SysFS had negative value (-1), but there must be at least one NUMA node, so returning NUMA node zero. See more at https://github.com/torvalds/linux/blob/v6.0/Documentation/ABI/testing/sysfs-bus-pci#L344-L355\n",
      "2024-03-13 11:09:21.843419: I external/local_xla/xla/stream_executor/cuda/cuda_executor.cc:901] successful NUMA node read from SysFS had negative value (-1), but there must be at least one NUMA node, so returning NUMA node zero. See more at https://github.com/torvalds/linux/blob/v6.0/Documentation/ABI/testing/sysfs-bus-pci#L344-L355\n",
      "2024-03-13 11:09:21.843695: I external/local_xla/xla/stream_executor/cuda/cuda_executor.cc:901] successful NUMA node read from SysFS had negative value (-1), but there must be at least one NUMA node, so returning NUMA node zero. See more at https://github.com/torvalds/linux/blob/v6.0/Documentation/ABI/testing/sysfs-bus-pci#L344-L355\n",
      "2024-03-13 11:09:21.845305: I external/local_xla/xla/stream_executor/cuda/cuda_executor.cc:901] successful NUMA node read from SysFS had negative value (-1), but there must be at least one NUMA node, so returning NUMA node zero. See more at https://github.com/torvalds/linux/blob/v6.0/Documentation/ABI/testing/sysfs-bus-pci#L344-L355\n",
      "2024-03-13 11:09:21.845553: I external/local_xla/xla/stream_executor/cuda/cuda_executor.cc:901] successful NUMA node read from SysFS had negative value (-1), but there must be at least one NUMA node, so returning NUMA node zero. See more at https://github.com/torvalds/linux/blob/v6.0/Documentation/ABI/testing/sysfs-bus-pci#L344-L355\n",
      "2024-03-13 11:09:21.845717: I external/local_xla/xla/stream_executor/cuda/cuda_executor.cc:901] successful NUMA node read from SysFS had negative value (-1), but there must be at least one NUMA node, so returning NUMA node zero. See more at https://github.com/torvalds/linux/blob/v6.0/Documentation/ABI/testing/sysfs-bus-pci#L344-L355\n",
      "2024-03-13 11:09:21.905650: I external/local_xla/xla/stream_executor/cuda/cuda_executor.cc:901] successful NUMA node read from SysFS had negative value (-1), but there must be at least one NUMA node, so returning NUMA node zero. See more at https://github.com/torvalds/linux/blob/v6.0/Documentation/ABI/testing/sysfs-bus-pci#L344-L355\n",
      "2024-03-13 11:09:21.905864: I external/local_xla/xla/stream_executor/cuda/cuda_executor.cc:901] successful NUMA node read from SysFS had negative value (-1), but there must be at least one NUMA node, so returning NUMA node zero. See more at https://github.com/torvalds/linux/blob/v6.0/Documentation/ABI/testing/sysfs-bus-pci#L344-L355\n",
      "2024-03-13 11:09:21.906036: I external/local_xla/xla/stream_executor/cuda/cuda_executor.cc:901] successful NUMA node read from SysFS had negative value (-1), but there must be at least one NUMA node, so returning NUMA node zero. See more at https://github.com/torvalds/linux/blob/v6.0/Documentation/ABI/testing/sysfs-bus-pci#L344-L355\n",
      "2024-03-13 11:09:21.906177: I tensorflow/core/common_runtime/gpu/gpu_device.cc:1929] Created device /job:localhost/replica:0/task:0/device:GPU:0 with 6299 MB memory:  -> device: 0, name: NVIDIA GeForce RTX 4060 Laptop GPU, pci bus id: 0000:01:00.0, compute capability: 8.9\n"
     ]
    },
    {
     "data": {
      "text/plain": "\u001B[1mModel: \"roberta_backbone\"\u001B[0m\n",
      "text/html": "<pre style=\"white-space:pre;overflow-x:auto;line-height:normal;font-family:Menlo,'DejaVu Sans Mono',consolas,'Courier New',monospace\"><span style=\"font-weight: bold\">Model: \"roberta_backbone\"</span>\n</pre>\n"
     },
     "metadata": {},
     "output_type": "display_data"
    },
    {
     "data": {
      "text/plain": "┏━━━━━━━━━━━━━━━━━━━━━┳━━━━━━━━━━━━━━━━━━━┳━━━━━━━━━┳━━━━━━━━━━━━━━━━━━━━━━┓\n┃\u001B[1m \u001B[0m\u001B[1mLayer (type)       \u001B[0m\u001B[1m \u001B[0m┃\u001B[1m \u001B[0m\u001B[1mOutput Shape     \u001B[0m\u001B[1m \u001B[0m┃\u001B[1m \u001B[0m\u001B[1mParam #\u001B[0m\u001B[1m \u001B[0m┃\u001B[1m \u001B[0m\u001B[1mConnected to        \u001B[0m\u001B[1m \u001B[0m┃\n┡━━━━━━━━━━━━━━━━━━━━━╇━━━━━━━━━━━━━━━━━━━╇━━━━━━━━━╇━━━━━━━━━━━━━━━━━━━━━━┩\n│ token_ids           │ (\u001B[38;5;45mNone\u001B[0m, \u001B[38;5;45mNone\u001B[0m)      │       \u001B[38;5;34m0\u001B[0m │ -                    │\n│ (\u001B[38;5;33mInputLayer\u001B[0m)        │                   │         │                      │\n├─────────────────────┼───────────────────┼─────────┼──────────────────────┤\n│ embeddings          │ (\u001B[38;5;45mNone\u001B[0m, \u001B[38;5;45mNone\u001B[0m, \u001B[38;5;34m768\u001B[0m) │ \u001B[38;5;34m38,996…\u001B[0m │ token_ids[\u001B[38;5;34m0\u001B[0m][\u001B[38;5;34m0\u001B[0m]      │\n│ (\u001B[38;5;33mTokenAndPositionE…\u001B[0m │                   │         │                      │\n├─────────────────────┼───────────────────┼─────────┼──────────────────────┤\n│ embeddings_layer_n… │ (\u001B[38;5;45mNone\u001B[0m, \u001B[38;5;45mNone\u001B[0m, \u001B[38;5;34m768\u001B[0m) │   \u001B[38;5;34m1,536\u001B[0m │ embeddings[\u001B[38;5;34m0\u001B[0m][\u001B[38;5;34m0\u001B[0m]     │\n│ (\u001B[38;5;33mLayerNormalizatio…\u001B[0m │                   │         │                      │\n├─────────────────────┼───────────────────┼─────────┼──────────────────────┤\n│ embeddings_dropout  │ (\u001B[38;5;45mNone\u001B[0m, \u001B[38;5;45mNone\u001B[0m, \u001B[38;5;34m768\u001B[0m) │       \u001B[38;5;34m0\u001B[0m │ embeddings_layer_no… │\n│ (\u001B[38;5;33mDropout\u001B[0m)           │                   │         │                      │\n├─────────────────────┼───────────────────┼─────────┼──────────────────────┤\n│ padding_mask        │ (\u001B[38;5;45mNone\u001B[0m, \u001B[38;5;45mNone\u001B[0m)      │       \u001B[38;5;34m0\u001B[0m │ -                    │\n│ (\u001B[38;5;33mInputLayer\u001B[0m)        │                   │         │                      │\n├─────────────────────┼───────────────────┼─────────┼──────────────────────┤\n│ transformer_layer_0 │ (\u001B[38;5;45mNone\u001B[0m, \u001B[38;5;45mNone\u001B[0m, \u001B[38;5;34m768\u001B[0m) │ \u001B[38;5;34m7,087,…\u001B[0m │ embeddings_dropout[\u001B[38;5;34m…\u001B[0m │\n│ (\u001B[38;5;33mTransformerEncode…\u001B[0m │                   │         │ padding_mask[\u001B[38;5;34m0\u001B[0m][\u001B[38;5;34m0\u001B[0m]   │\n├─────────────────────┼───────────────────┼─────────┼──────────────────────┤\n│ transformer_layer_1 │ (\u001B[38;5;45mNone\u001B[0m, \u001B[38;5;45mNone\u001B[0m, \u001B[38;5;34m768\u001B[0m) │ \u001B[38;5;34m7,087,…\u001B[0m │ transformer_layer_0… │\n│ (\u001B[38;5;33mTransformerEncode…\u001B[0m │                   │         │ padding_mask[\u001B[38;5;34m0\u001B[0m][\u001B[38;5;34m0\u001B[0m]   │\n├─────────────────────┼───────────────────┼─────────┼──────────────────────┤\n│ transformer_layer_2 │ (\u001B[38;5;45mNone\u001B[0m, \u001B[38;5;45mNone\u001B[0m, \u001B[38;5;34m768\u001B[0m) │ \u001B[38;5;34m7,087,…\u001B[0m │ transformer_layer_1… │\n│ (\u001B[38;5;33mTransformerEncode…\u001B[0m │                   │         │ padding_mask[\u001B[38;5;34m0\u001B[0m][\u001B[38;5;34m0\u001B[0m]   │\n├─────────────────────┼───────────────────┼─────────┼──────────────────────┤\n│ transformer_layer_3 │ (\u001B[38;5;45mNone\u001B[0m, \u001B[38;5;45mNone\u001B[0m, \u001B[38;5;34m768\u001B[0m) │ \u001B[38;5;34m7,087,…\u001B[0m │ transformer_layer_2… │\n│ (\u001B[38;5;33mTransformerEncode…\u001B[0m │                   │         │ padding_mask[\u001B[38;5;34m0\u001B[0m][\u001B[38;5;34m0\u001B[0m]   │\n├─────────────────────┼───────────────────┼─────────┼──────────────────────┤\n│ transformer_layer_4 │ (\u001B[38;5;45mNone\u001B[0m, \u001B[38;5;45mNone\u001B[0m, \u001B[38;5;34m768\u001B[0m) │ \u001B[38;5;34m7,087,…\u001B[0m │ transformer_layer_3… │\n│ (\u001B[38;5;33mTransformerEncode…\u001B[0m │                   │         │ padding_mask[\u001B[38;5;34m0\u001B[0m][\u001B[38;5;34m0\u001B[0m]   │\n├─────────────────────┼───────────────────┼─────────┼──────────────────────┤\n│ transformer_layer_5 │ (\u001B[38;5;45mNone\u001B[0m, \u001B[38;5;45mNone\u001B[0m, \u001B[38;5;34m768\u001B[0m) │ \u001B[38;5;34m7,087,…\u001B[0m │ transformer_layer_4… │\n│ (\u001B[38;5;33mTransformerEncode…\u001B[0m │                   │         │ padding_mask[\u001B[38;5;34m0\u001B[0m][\u001B[38;5;34m0\u001B[0m]   │\n├─────────────────────┼───────────────────┼─────────┼──────────────────────┤\n│ transformer_layer_6 │ (\u001B[38;5;45mNone\u001B[0m, \u001B[38;5;45mNone\u001B[0m, \u001B[38;5;34m768\u001B[0m) │ \u001B[38;5;34m7,087,…\u001B[0m │ transformer_layer_5… │\n│ (\u001B[38;5;33mTransformerEncode…\u001B[0m │                   │         │ padding_mask[\u001B[38;5;34m0\u001B[0m][\u001B[38;5;34m0\u001B[0m]   │\n├─────────────────────┼───────────────────┼─────────┼──────────────────────┤\n│ transformer_layer_7 │ (\u001B[38;5;45mNone\u001B[0m, \u001B[38;5;45mNone\u001B[0m, \u001B[38;5;34m768\u001B[0m) │ \u001B[38;5;34m7,087,…\u001B[0m │ transformer_layer_6… │\n│ (\u001B[38;5;33mTransformerEncode…\u001B[0m │                   │         │ padding_mask[\u001B[38;5;34m0\u001B[0m][\u001B[38;5;34m0\u001B[0m]   │\n├─────────────────────┼───────────────────┼─────────┼──────────────────────┤\n│ transformer_layer_8 │ (\u001B[38;5;45mNone\u001B[0m, \u001B[38;5;45mNone\u001B[0m, \u001B[38;5;34m768\u001B[0m) │ \u001B[38;5;34m7,087,…\u001B[0m │ transformer_layer_7… │\n│ (\u001B[38;5;33mTransformerEncode…\u001B[0m │                   │         │ padding_mask[\u001B[38;5;34m0\u001B[0m][\u001B[38;5;34m0\u001B[0m]   │\n├─────────────────────┼───────────────────┼─────────┼──────────────────────┤\n│ transformer_layer_9 │ (\u001B[38;5;45mNone\u001B[0m, \u001B[38;5;45mNone\u001B[0m, \u001B[38;5;34m768\u001B[0m) │ \u001B[38;5;34m7,087,…\u001B[0m │ transformer_layer_8… │\n│ (\u001B[38;5;33mTransformerEncode…\u001B[0m │                   │         │ padding_mask[\u001B[38;5;34m0\u001B[0m][\u001B[38;5;34m0\u001B[0m]   │\n├─────────────────────┼───────────────────┼─────────┼──────────────────────┤\n│ transformer_layer_… │ (\u001B[38;5;45mNone\u001B[0m, \u001B[38;5;45mNone\u001B[0m, \u001B[38;5;34m768\u001B[0m) │ \u001B[38;5;34m7,087,…\u001B[0m │ transformer_layer_9… │\n│ (\u001B[38;5;33mTransformerEncode…\u001B[0m │                   │         │ padding_mask[\u001B[38;5;34m0\u001B[0m][\u001B[38;5;34m0\u001B[0m]   │\n├─────────────────────┼───────────────────┼─────────┼──────────────────────┤\n│ transformer_layer_… │ (\u001B[38;5;45mNone\u001B[0m, \u001B[38;5;45mNone\u001B[0m, \u001B[38;5;34m768\u001B[0m) │ \u001B[38;5;34m7,087,…\u001B[0m │ transformer_layer_1… │\n│ (\u001B[38;5;33mTransformerEncode…\u001B[0m │                   │         │ padding_mask[\u001B[38;5;34m0\u001B[0m][\u001B[38;5;34m0\u001B[0m]   │\n└─────────────────────┴───────────────────┴─────────┴──────────────────────┘\n",
      "text/html": "<pre style=\"white-space:pre;overflow-x:auto;line-height:normal;font-family:Menlo,'DejaVu Sans Mono',consolas,'Courier New',monospace\">┏━━━━━━━━━━━━━━━━━━━━━┳━━━━━━━━━━━━━━━━━━━┳━━━━━━━━━┳━━━━━━━━━━━━━━━━━━━━━━┓\n┃<span style=\"font-weight: bold\"> Layer (type)        </span>┃<span style=\"font-weight: bold\"> Output Shape      </span>┃<span style=\"font-weight: bold\"> Param # </span>┃<span style=\"font-weight: bold\"> Connected to         </span>┃\n┡━━━━━━━━━━━━━━━━━━━━━╇━━━━━━━━━━━━━━━━━━━╇━━━━━━━━━╇━━━━━━━━━━━━━━━━━━━━━━┩\n│ token_ids           │ (<span style=\"color: #00d7ff; text-decoration-color: #00d7ff\">None</span>, <span style=\"color: #00d7ff; text-decoration-color: #00d7ff\">None</span>)      │       <span style=\"color: #00af00; text-decoration-color: #00af00\">0</span> │ -                    │\n│ (<span style=\"color: #0087ff; text-decoration-color: #0087ff\">InputLayer</span>)        │                   │         │                      │\n├─────────────────────┼───────────────────┼─────────┼──────────────────────┤\n│ embeddings          │ (<span style=\"color: #00d7ff; text-decoration-color: #00d7ff\">None</span>, <span style=\"color: #00d7ff; text-decoration-color: #00d7ff\">None</span>, <span style=\"color: #00af00; text-decoration-color: #00af00\">768</span>) │ <span style=\"color: #00af00; text-decoration-color: #00af00\">38,996…</span> │ token_ids[<span style=\"color: #00af00; text-decoration-color: #00af00\">0</span>][<span style=\"color: #00af00; text-decoration-color: #00af00\">0</span>]      │\n│ (<span style=\"color: #0087ff; text-decoration-color: #0087ff\">TokenAndPositionE…</span> │                   │         │                      │\n├─────────────────────┼───────────────────┼─────────┼──────────────────────┤\n│ embeddings_layer_n… │ (<span style=\"color: #00d7ff; text-decoration-color: #00d7ff\">None</span>, <span style=\"color: #00d7ff; text-decoration-color: #00d7ff\">None</span>, <span style=\"color: #00af00; text-decoration-color: #00af00\">768</span>) │   <span style=\"color: #00af00; text-decoration-color: #00af00\">1,536</span> │ embeddings[<span style=\"color: #00af00; text-decoration-color: #00af00\">0</span>][<span style=\"color: #00af00; text-decoration-color: #00af00\">0</span>]     │\n│ (<span style=\"color: #0087ff; text-decoration-color: #0087ff\">LayerNormalizatio…</span> │                   │         │                      │\n├─────────────────────┼───────────────────┼─────────┼──────────────────────┤\n│ embeddings_dropout  │ (<span style=\"color: #00d7ff; text-decoration-color: #00d7ff\">None</span>, <span style=\"color: #00d7ff; text-decoration-color: #00d7ff\">None</span>, <span style=\"color: #00af00; text-decoration-color: #00af00\">768</span>) │       <span style=\"color: #00af00; text-decoration-color: #00af00\">0</span> │ embeddings_layer_no… │\n│ (<span style=\"color: #0087ff; text-decoration-color: #0087ff\">Dropout</span>)           │                   │         │                      │\n├─────────────────────┼───────────────────┼─────────┼──────────────────────┤\n│ padding_mask        │ (<span style=\"color: #00d7ff; text-decoration-color: #00d7ff\">None</span>, <span style=\"color: #00d7ff; text-decoration-color: #00d7ff\">None</span>)      │       <span style=\"color: #00af00; text-decoration-color: #00af00\">0</span> │ -                    │\n│ (<span style=\"color: #0087ff; text-decoration-color: #0087ff\">InputLayer</span>)        │                   │         │                      │\n├─────────────────────┼───────────────────┼─────────┼──────────────────────┤\n│ transformer_layer_0 │ (<span style=\"color: #00d7ff; text-decoration-color: #00d7ff\">None</span>, <span style=\"color: #00d7ff; text-decoration-color: #00d7ff\">None</span>, <span style=\"color: #00af00; text-decoration-color: #00af00\">768</span>) │ <span style=\"color: #00af00; text-decoration-color: #00af00\">7,087,…</span> │ embeddings_dropout[<span style=\"color: #00af00; text-decoration-color: #00af00\">…</span> │\n│ (<span style=\"color: #0087ff; text-decoration-color: #0087ff\">TransformerEncode…</span> │                   │         │ padding_mask[<span style=\"color: #00af00; text-decoration-color: #00af00\">0</span>][<span style=\"color: #00af00; text-decoration-color: #00af00\">0</span>]   │\n├─────────────────────┼───────────────────┼─────────┼──────────────────────┤\n│ transformer_layer_1 │ (<span style=\"color: #00d7ff; text-decoration-color: #00d7ff\">None</span>, <span style=\"color: #00d7ff; text-decoration-color: #00d7ff\">None</span>, <span style=\"color: #00af00; text-decoration-color: #00af00\">768</span>) │ <span style=\"color: #00af00; text-decoration-color: #00af00\">7,087,…</span> │ transformer_layer_0… │\n│ (<span style=\"color: #0087ff; text-decoration-color: #0087ff\">TransformerEncode…</span> │                   │         │ padding_mask[<span style=\"color: #00af00; text-decoration-color: #00af00\">0</span>][<span style=\"color: #00af00; text-decoration-color: #00af00\">0</span>]   │\n├─────────────────────┼───────────────────┼─────────┼──────────────────────┤\n│ transformer_layer_2 │ (<span style=\"color: #00d7ff; text-decoration-color: #00d7ff\">None</span>, <span style=\"color: #00d7ff; text-decoration-color: #00d7ff\">None</span>, <span style=\"color: #00af00; text-decoration-color: #00af00\">768</span>) │ <span style=\"color: #00af00; text-decoration-color: #00af00\">7,087,…</span> │ transformer_layer_1… │\n│ (<span style=\"color: #0087ff; text-decoration-color: #0087ff\">TransformerEncode…</span> │                   │         │ padding_mask[<span style=\"color: #00af00; text-decoration-color: #00af00\">0</span>][<span style=\"color: #00af00; text-decoration-color: #00af00\">0</span>]   │\n├─────────────────────┼───────────────────┼─────────┼──────────────────────┤\n│ transformer_layer_3 │ (<span style=\"color: #00d7ff; text-decoration-color: #00d7ff\">None</span>, <span style=\"color: #00d7ff; text-decoration-color: #00d7ff\">None</span>, <span style=\"color: #00af00; text-decoration-color: #00af00\">768</span>) │ <span style=\"color: #00af00; text-decoration-color: #00af00\">7,087,…</span> │ transformer_layer_2… │\n│ (<span style=\"color: #0087ff; text-decoration-color: #0087ff\">TransformerEncode…</span> │                   │         │ padding_mask[<span style=\"color: #00af00; text-decoration-color: #00af00\">0</span>][<span style=\"color: #00af00; text-decoration-color: #00af00\">0</span>]   │\n├─────────────────────┼───────────────────┼─────────┼──────────────────────┤\n│ transformer_layer_4 │ (<span style=\"color: #00d7ff; text-decoration-color: #00d7ff\">None</span>, <span style=\"color: #00d7ff; text-decoration-color: #00d7ff\">None</span>, <span style=\"color: #00af00; text-decoration-color: #00af00\">768</span>) │ <span style=\"color: #00af00; text-decoration-color: #00af00\">7,087,…</span> │ transformer_layer_3… │\n│ (<span style=\"color: #0087ff; text-decoration-color: #0087ff\">TransformerEncode…</span> │                   │         │ padding_mask[<span style=\"color: #00af00; text-decoration-color: #00af00\">0</span>][<span style=\"color: #00af00; text-decoration-color: #00af00\">0</span>]   │\n├─────────────────────┼───────────────────┼─────────┼──────────────────────┤\n│ transformer_layer_5 │ (<span style=\"color: #00d7ff; text-decoration-color: #00d7ff\">None</span>, <span style=\"color: #00d7ff; text-decoration-color: #00d7ff\">None</span>, <span style=\"color: #00af00; text-decoration-color: #00af00\">768</span>) │ <span style=\"color: #00af00; text-decoration-color: #00af00\">7,087,…</span> │ transformer_layer_4… │\n│ (<span style=\"color: #0087ff; text-decoration-color: #0087ff\">TransformerEncode…</span> │                   │         │ padding_mask[<span style=\"color: #00af00; text-decoration-color: #00af00\">0</span>][<span style=\"color: #00af00; text-decoration-color: #00af00\">0</span>]   │\n├─────────────────────┼───────────────────┼─────────┼──────────────────────┤\n│ transformer_layer_6 │ (<span style=\"color: #00d7ff; text-decoration-color: #00d7ff\">None</span>, <span style=\"color: #00d7ff; text-decoration-color: #00d7ff\">None</span>, <span style=\"color: #00af00; text-decoration-color: #00af00\">768</span>) │ <span style=\"color: #00af00; text-decoration-color: #00af00\">7,087,…</span> │ transformer_layer_5… │\n│ (<span style=\"color: #0087ff; text-decoration-color: #0087ff\">TransformerEncode…</span> │                   │         │ padding_mask[<span style=\"color: #00af00; text-decoration-color: #00af00\">0</span>][<span style=\"color: #00af00; text-decoration-color: #00af00\">0</span>]   │\n├─────────────────────┼───────────────────┼─────────┼──────────────────────┤\n│ transformer_layer_7 │ (<span style=\"color: #00d7ff; text-decoration-color: #00d7ff\">None</span>, <span style=\"color: #00d7ff; text-decoration-color: #00d7ff\">None</span>, <span style=\"color: #00af00; text-decoration-color: #00af00\">768</span>) │ <span style=\"color: #00af00; text-decoration-color: #00af00\">7,087,…</span> │ transformer_layer_6… │\n│ (<span style=\"color: #0087ff; text-decoration-color: #0087ff\">TransformerEncode…</span> │                   │         │ padding_mask[<span style=\"color: #00af00; text-decoration-color: #00af00\">0</span>][<span style=\"color: #00af00; text-decoration-color: #00af00\">0</span>]   │\n├─────────────────────┼───────────────────┼─────────┼──────────────────────┤\n│ transformer_layer_8 │ (<span style=\"color: #00d7ff; text-decoration-color: #00d7ff\">None</span>, <span style=\"color: #00d7ff; text-decoration-color: #00d7ff\">None</span>, <span style=\"color: #00af00; text-decoration-color: #00af00\">768</span>) │ <span style=\"color: #00af00; text-decoration-color: #00af00\">7,087,…</span> │ transformer_layer_7… │\n│ (<span style=\"color: #0087ff; text-decoration-color: #0087ff\">TransformerEncode…</span> │                   │         │ padding_mask[<span style=\"color: #00af00; text-decoration-color: #00af00\">0</span>][<span style=\"color: #00af00; text-decoration-color: #00af00\">0</span>]   │\n├─────────────────────┼───────────────────┼─────────┼──────────────────────┤\n│ transformer_layer_9 │ (<span style=\"color: #00d7ff; text-decoration-color: #00d7ff\">None</span>, <span style=\"color: #00d7ff; text-decoration-color: #00d7ff\">None</span>, <span style=\"color: #00af00; text-decoration-color: #00af00\">768</span>) │ <span style=\"color: #00af00; text-decoration-color: #00af00\">7,087,…</span> │ transformer_layer_8… │\n│ (<span style=\"color: #0087ff; text-decoration-color: #0087ff\">TransformerEncode…</span> │                   │         │ padding_mask[<span style=\"color: #00af00; text-decoration-color: #00af00\">0</span>][<span style=\"color: #00af00; text-decoration-color: #00af00\">0</span>]   │\n├─────────────────────┼───────────────────┼─────────┼──────────────────────┤\n│ transformer_layer_… │ (<span style=\"color: #00d7ff; text-decoration-color: #00d7ff\">None</span>, <span style=\"color: #00d7ff; text-decoration-color: #00d7ff\">None</span>, <span style=\"color: #00af00; text-decoration-color: #00af00\">768</span>) │ <span style=\"color: #00af00; text-decoration-color: #00af00\">7,087,…</span> │ transformer_layer_9… │\n│ (<span style=\"color: #0087ff; text-decoration-color: #0087ff\">TransformerEncode…</span> │                   │         │ padding_mask[<span style=\"color: #00af00; text-decoration-color: #00af00\">0</span>][<span style=\"color: #00af00; text-decoration-color: #00af00\">0</span>]   │\n├─────────────────────┼───────────────────┼─────────┼──────────────────────┤\n│ transformer_layer_… │ (<span style=\"color: #00d7ff; text-decoration-color: #00d7ff\">None</span>, <span style=\"color: #00d7ff; text-decoration-color: #00d7ff\">None</span>, <span style=\"color: #00af00; text-decoration-color: #00af00\">768</span>) │ <span style=\"color: #00af00; text-decoration-color: #00af00\">7,087,…</span> │ transformer_layer_1… │\n│ (<span style=\"color: #0087ff; text-decoration-color: #0087ff\">TransformerEncode…</span> │                   │         │ padding_mask[<span style=\"color: #00af00; text-decoration-color: #00af00\">0</span>][<span style=\"color: #00af00; text-decoration-color: #00af00\">0</span>]   │\n└─────────────────────┴───────────────────┴─────────┴──────────────────────┘\n</pre>\n"
     },
     "metadata": {},
     "output_type": "display_data"
    },
    {
     "data": {
      "text/plain": "\u001B[1m Total params: \u001B[0m\u001B[38;5;34m124,052,736\u001B[0m (473.22 MB)\n",
      "text/html": "<pre style=\"white-space:pre;overflow-x:auto;line-height:normal;font-family:Menlo,'DejaVu Sans Mono',consolas,'Courier New',monospace\"><span style=\"font-weight: bold\"> Total params: </span><span style=\"color: #00af00; text-decoration-color: #00af00\">124,052,736</span> (473.22 MB)\n</pre>\n"
     },
     "metadata": {},
     "output_type": "display_data"
    },
    {
     "data": {
      "text/plain": "\u001B[1m Trainable params: \u001B[0m\u001B[38;5;34m124,052,736\u001B[0m (473.22 MB)\n",
      "text/html": "<pre style=\"white-space:pre;overflow-x:auto;line-height:normal;font-family:Menlo,'DejaVu Sans Mono',consolas,'Courier New',monospace\"><span style=\"font-weight: bold\"> Trainable params: </span><span style=\"color: #00af00; text-decoration-color: #00af00\">124,052,736</span> (473.22 MB)\n</pre>\n"
     },
     "metadata": {},
     "output_type": "display_data"
    },
    {
     "data": {
      "text/plain": "\u001B[1m Non-trainable params: \u001B[0m\u001B[38;5;34m0\u001B[0m (0.00 B)\n",
      "text/html": "<pre style=\"white-space:pre;overflow-x:auto;line-height:normal;font-family:Menlo,'DejaVu Sans Mono',consolas,'Courier New',monospace\"><span style=\"font-weight: bold\"> Non-trainable params: </span><span style=\"color: #00af00; text-decoration-color: #00af00\">0</span> (0.00 B)\n</pre>\n"
     },
     "metadata": {},
     "output_type": "display_data"
    }
   ],
   "source": [
    "model = keras_nlp.models.RobertaBackbone.from_preset(\"roberta_base_en\")\n",
    "model.summary()"
   ],
   "metadata": {
    "collapsed": false,
    "ExecuteTime": {
     "end_time": "2024-03-13T08:09:23.524215Z",
     "start_time": "2024-03-13T08:09:20.132207Z"
    }
   },
   "id": "4348961da941c9e9",
   "execution_count": 2
  },
  {
   "cell_type": "code",
   "outputs": [
    {
     "data": {
      "text/plain": "[<InputLayer name=token_ids, built=True>,\n <TokenAndPositionEmbedding name=embeddings, built=True>,\n <LayerNormalization name=embeddings_layer_norm, built=True>,\n <Dropout name=embeddings_dropout, built=True>,\n <InputLayer name=padding_mask, built=True>,\n <TransformerEncoder name=transformer_layer_0, built=True>,\n <TransformerEncoder name=transformer_layer_1, built=True>,\n <TransformerEncoder name=transformer_layer_2, built=True>,\n <TransformerEncoder name=transformer_layer_3, built=True>,\n <TransformerEncoder name=transformer_layer_4, built=True>,\n <TransformerEncoder name=transformer_layer_5, built=True>,\n <TransformerEncoder name=transformer_layer_6, built=True>,\n <TransformerEncoder name=transformer_layer_7, built=True>,\n <TransformerEncoder name=transformer_layer_8, built=True>,\n <TransformerEncoder name=transformer_layer_9, built=True>,\n <TransformerEncoder name=transformer_layer_10, built=True>,\n <TransformerEncoder name=transformer_layer_11, built=True>]"
     },
     "execution_count": 8,
     "metadata": {},
     "output_type": "execute_result"
    }
   ],
   "source": [
    "model.layers"
   ],
   "metadata": {
    "collapsed": false,
    "ExecuteTime": {
     "end_time": "2024-03-13T08:20:35.353457Z",
     "start_time": "2024-03-13T08:20:35.350333Z"
    }
   },
   "id": "d4f4026c5a706fc9",
   "execution_count": 8
  },
  {
   "cell_type": "code",
   "outputs": [],
   "source": [
    "import keras"
   ],
   "metadata": {
    "collapsed": false,
    "ExecuteTime": {
     "end_time": "2024-03-13T08:22:42.945463Z",
     "start_time": "2024-03-13T08:22:42.943679Z"
    }
   },
   "id": "b3260e8c1eb05aef",
   "execution_count": 10
  },
  {
   "cell_type": "code",
   "outputs": [
    {
     "data": {
      "text/plain": "\u001B[1mModel: \"sequential_8\"\u001B[0m\n",
      "text/html": "<pre style=\"white-space:pre;overflow-x:auto;line-height:normal;font-family:Menlo,'DejaVu Sans Mono',consolas,'Courier New',monospace\"><span style=\"font-weight: bold\">Model: \"sequential_8\"</span>\n</pre>\n"
     },
     "metadata": {},
     "output_type": "display_data"
    },
    {
     "data": {
      "text/plain": "┏━━━━━━━━━━━━━━━━━━━━━━━━━━━━━━━━━┳━━━━━━━━━━━━━━━━━━━━━━━━━━━┳━━━━━━━━━━━━┓\n┃\u001B[1m \u001B[0m\u001B[1mLayer (type)                   \u001B[0m\u001B[1m \u001B[0m┃\u001B[1m \u001B[0m\u001B[1mOutput Shape             \u001B[0m\u001B[1m \u001B[0m┃\u001B[1m \u001B[0m\u001B[1m   Param #\u001B[0m\u001B[1m \u001B[0m┃\n┡━━━━━━━━━━━━━━━━━━━━━━━━━━━━━━━━━╇━━━━━━━━━━━━━━━━━━━━━━━━━━━╇━━━━━━━━━━━━┩\n│ transformer_layer_0             │ (\u001B[38;5;45mNone\u001B[0m, \u001B[38;5;45mNone\u001B[0m, \u001B[38;5;34m768\u001B[0m)         │  \u001B[38;5;34m7,087,872\u001B[0m │\n│ (\u001B[38;5;33mTransformerEncoder\u001B[0m)            │                           │            │\n├─────────────────────────────────┼───────────────────────────┼────────────┤\n│ transformer_layer_1             │ (\u001B[38;5;45mNone\u001B[0m, \u001B[38;5;45mNone\u001B[0m, \u001B[38;5;34m768\u001B[0m)         │  \u001B[38;5;34m7,087,872\u001B[0m │\n│ (\u001B[38;5;33mTransformerEncoder\u001B[0m)            │                           │            │\n├─────────────────────────────────┼───────────────────────────┼────────────┤\n│ transformer_layer_2             │ (\u001B[38;5;45mNone\u001B[0m, \u001B[38;5;45mNone\u001B[0m, \u001B[38;5;34m768\u001B[0m)         │  \u001B[38;5;34m7,087,872\u001B[0m │\n│ (\u001B[38;5;33mTransformerEncoder\u001B[0m)            │                           │            │\n├─────────────────────────────────┼───────────────────────────┼────────────┤\n│ transformer_layer_3             │ (\u001B[38;5;45mNone\u001B[0m, \u001B[38;5;45mNone\u001B[0m, \u001B[38;5;34m768\u001B[0m)         │  \u001B[38;5;34m7,087,872\u001B[0m │\n│ (\u001B[38;5;33mTransformerEncoder\u001B[0m)            │                           │            │\n├─────────────────────────────────┼───────────────────────────┼────────────┤\n│ transformer_layer_4             │ (\u001B[38;5;45mNone\u001B[0m, \u001B[38;5;45mNone\u001B[0m, \u001B[38;5;34m768\u001B[0m)         │  \u001B[38;5;34m7,087,872\u001B[0m │\n│ (\u001B[38;5;33mTransformerEncoder\u001B[0m)            │                           │            │\n├─────────────────────────────────┼───────────────────────────┼────────────┤\n│ transformer_layer_5             │ (\u001B[38;5;45mNone\u001B[0m, \u001B[38;5;45mNone\u001B[0m, \u001B[38;5;34m768\u001B[0m)         │  \u001B[38;5;34m7,087,872\u001B[0m │\n│ (\u001B[38;5;33mTransformerEncoder\u001B[0m)            │                           │            │\n├─────────────────────────────────┼───────────────────────────┼────────────┤\n│ transformer_layer_6             │ (\u001B[38;5;45mNone\u001B[0m, \u001B[38;5;45mNone\u001B[0m, \u001B[38;5;34m768\u001B[0m)         │  \u001B[38;5;34m7,087,872\u001B[0m │\n│ (\u001B[38;5;33mTransformerEncoder\u001B[0m)            │                           │            │\n├─────────────────────────────────┼───────────────────────────┼────────────┤\n│ transformer_layer_7             │ (\u001B[38;5;45mNone\u001B[0m, \u001B[38;5;45mNone\u001B[0m, \u001B[38;5;34m768\u001B[0m)         │  \u001B[38;5;34m7,087,872\u001B[0m │\n│ (\u001B[38;5;33mTransformerEncoder\u001B[0m)            │                           │            │\n├─────────────────────────────────┼───────────────────────────┼────────────┤\n│ transformer_layer_8             │ (\u001B[38;5;45mNone\u001B[0m, \u001B[38;5;45mNone\u001B[0m, \u001B[38;5;34m768\u001B[0m)         │  \u001B[38;5;34m7,087,872\u001B[0m │\n│ (\u001B[38;5;33mTransformerEncoder\u001B[0m)            │                           │            │\n├─────────────────────────────────┼───────────────────────────┼────────────┤\n│ transformer_layer_9             │ (\u001B[38;5;45mNone\u001B[0m, \u001B[38;5;45mNone\u001B[0m, \u001B[38;5;34m768\u001B[0m)         │  \u001B[38;5;34m7,087,872\u001B[0m │\n│ (\u001B[38;5;33mTransformerEncoder\u001B[0m)            │                           │            │\n├─────────────────────────────────┼───────────────────────────┼────────────┤\n│ transformer_layer_10            │ (\u001B[38;5;45mNone\u001B[0m, \u001B[38;5;45mNone\u001B[0m, \u001B[38;5;34m768\u001B[0m)         │  \u001B[38;5;34m7,087,872\u001B[0m │\n│ (\u001B[38;5;33mTransformerEncoder\u001B[0m)            │                           │            │\n├─────────────────────────────────┼───────────────────────────┼────────────┤\n│ transformer_layer_11            │ (\u001B[38;5;45mNone\u001B[0m, \u001B[38;5;45mNone\u001B[0m, \u001B[38;5;34m768\u001B[0m)         │  \u001B[38;5;34m7,087,872\u001B[0m │\n│ (\u001B[38;5;33mTransformerEncoder\u001B[0m)            │                           │            │\n└─────────────────────────────────┴───────────────────────────┴────────────┘\n",
      "text/html": "<pre style=\"white-space:pre;overflow-x:auto;line-height:normal;font-family:Menlo,'DejaVu Sans Mono',consolas,'Courier New',monospace\">┏━━━━━━━━━━━━━━━━━━━━━━━━━━━━━━━━━┳━━━━━━━━━━━━━━━━━━━━━━━━━━━┳━━━━━━━━━━━━┓\n┃<span style=\"font-weight: bold\"> Layer (type)                    </span>┃<span style=\"font-weight: bold\"> Output Shape              </span>┃<span style=\"font-weight: bold\">    Param # </span>┃\n┡━━━━━━━━━━━━━━━━━━━━━━━━━━━━━━━━━╇━━━━━━━━━━━━━━━━━━━━━━━━━━━╇━━━━━━━━━━━━┩\n│ transformer_layer_0             │ (<span style=\"color: #00d7ff; text-decoration-color: #00d7ff\">None</span>, <span style=\"color: #00d7ff; text-decoration-color: #00d7ff\">None</span>, <span style=\"color: #00af00; text-decoration-color: #00af00\">768</span>)         │  <span style=\"color: #00af00; text-decoration-color: #00af00\">7,087,872</span> │\n│ (<span style=\"color: #0087ff; text-decoration-color: #0087ff\">TransformerEncoder</span>)            │                           │            │\n├─────────────────────────────────┼───────────────────────────┼────────────┤\n│ transformer_layer_1             │ (<span style=\"color: #00d7ff; text-decoration-color: #00d7ff\">None</span>, <span style=\"color: #00d7ff; text-decoration-color: #00d7ff\">None</span>, <span style=\"color: #00af00; text-decoration-color: #00af00\">768</span>)         │  <span style=\"color: #00af00; text-decoration-color: #00af00\">7,087,872</span> │\n│ (<span style=\"color: #0087ff; text-decoration-color: #0087ff\">TransformerEncoder</span>)            │                           │            │\n├─────────────────────────────────┼───────────────────────────┼────────────┤\n│ transformer_layer_2             │ (<span style=\"color: #00d7ff; text-decoration-color: #00d7ff\">None</span>, <span style=\"color: #00d7ff; text-decoration-color: #00d7ff\">None</span>, <span style=\"color: #00af00; text-decoration-color: #00af00\">768</span>)         │  <span style=\"color: #00af00; text-decoration-color: #00af00\">7,087,872</span> │\n│ (<span style=\"color: #0087ff; text-decoration-color: #0087ff\">TransformerEncoder</span>)            │                           │            │\n├─────────────────────────────────┼───────────────────────────┼────────────┤\n│ transformer_layer_3             │ (<span style=\"color: #00d7ff; text-decoration-color: #00d7ff\">None</span>, <span style=\"color: #00d7ff; text-decoration-color: #00d7ff\">None</span>, <span style=\"color: #00af00; text-decoration-color: #00af00\">768</span>)         │  <span style=\"color: #00af00; text-decoration-color: #00af00\">7,087,872</span> │\n│ (<span style=\"color: #0087ff; text-decoration-color: #0087ff\">TransformerEncoder</span>)            │                           │            │\n├─────────────────────────────────┼───────────────────────────┼────────────┤\n│ transformer_layer_4             │ (<span style=\"color: #00d7ff; text-decoration-color: #00d7ff\">None</span>, <span style=\"color: #00d7ff; text-decoration-color: #00d7ff\">None</span>, <span style=\"color: #00af00; text-decoration-color: #00af00\">768</span>)         │  <span style=\"color: #00af00; text-decoration-color: #00af00\">7,087,872</span> │\n│ (<span style=\"color: #0087ff; text-decoration-color: #0087ff\">TransformerEncoder</span>)            │                           │            │\n├─────────────────────────────────┼───────────────────────────┼────────────┤\n│ transformer_layer_5             │ (<span style=\"color: #00d7ff; text-decoration-color: #00d7ff\">None</span>, <span style=\"color: #00d7ff; text-decoration-color: #00d7ff\">None</span>, <span style=\"color: #00af00; text-decoration-color: #00af00\">768</span>)         │  <span style=\"color: #00af00; text-decoration-color: #00af00\">7,087,872</span> │\n│ (<span style=\"color: #0087ff; text-decoration-color: #0087ff\">TransformerEncoder</span>)            │                           │            │\n├─────────────────────────────────┼───────────────────────────┼────────────┤\n│ transformer_layer_6             │ (<span style=\"color: #00d7ff; text-decoration-color: #00d7ff\">None</span>, <span style=\"color: #00d7ff; text-decoration-color: #00d7ff\">None</span>, <span style=\"color: #00af00; text-decoration-color: #00af00\">768</span>)         │  <span style=\"color: #00af00; text-decoration-color: #00af00\">7,087,872</span> │\n│ (<span style=\"color: #0087ff; text-decoration-color: #0087ff\">TransformerEncoder</span>)            │                           │            │\n├─────────────────────────────────┼───────────────────────────┼────────────┤\n│ transformer_layer_7             │ (<span style=\"color: #00d7ff; text-decoration-color: #00d7ff\">None</span>, <span style=\"color: #00d7ff; text-decoration-color: #00d7ff\">None</span>, <span style=\"color: #00af00; text-decoration-color: #00af00\">768</span>)         │  <span style=\"color: #00af00; text-decoration-color: #00af00\">7,087,872</span> │\n│ (<span style=\"color: #0087ff; text-decoration-color: #0087ff\">TransformerEncoder</span>)            │                           │            │\n├─────────────────────────────────┼───────────────────────────┼────────────┤\n│ transformer_layer_8             │ (<span style=\"color: #00d7ff; text-decoration-color: #00d7ff\">None</span>, <span style=\"color: #00d7ff; text-decoration-color: #00d7ff\">None</span>, <span style=\"color: #00af00; text-decoration-color: #00af00\">768</span>)         │  <span style=\"color: #00af00; text-decoration-color: #00af00\">7,087,872</span> │\n│ (<span style=\"color: #0087ff; text-decoration-color: #0087ff\">TransformerEncoder</span>)            │                           │            │\n├─────────────────────────────────┼───────────────────────────┼────────────┤\n│ transformer_layer_9             │ (<span style=\"color: #00d7ff; text-decoration-color: #00d7ff\">None</span>, <span style=\"color: #00d7ff; text-decoration-color: #00d7ff\">None</span>, <span style=\"color: #00af00; text-decoration-color: #00af00\">768</span>)         │  <span style=\"color: #00af00; text-decoration-color: #00af00\">7,087,872</span> │\n│ (<span style=\"color: #0087ff; text-decoration-color: #0087ff\">TransformerEncoder</span>)            │                           │            │\n├─────────────────────────────────┼───────────────────────────┼────────────┤\n│ transformer_layer_10            │ (<span style=\"color: #00d7ff; text-decoration-color: #00d7ff\">None</span>, <span style=\"color: #00d7ff; text-decoration-color: #00d7ff\">None</span>, <span style=\"color: #00af00; text-decoration-color: #00af00\">768</span>)         │  <span style=\"color: #00af00; text-decoration-color: #00af00\">7,087,872</span> │\n│ (<span style=\"color: #0087ff; text-decoration-color: #0087ff\">TransformerEncoder</span>)            │                           │            │\n├─────────────────────────────────┼───────────────────────────┼────────────┤\n│ transformer_layer_11            │ (<span style=\"color: #00d7ff; text-decoration-color: #00d7ff\">None</span>, <span style=\"color: #00d7ff; text-decoration-color: #00d7ff\">None</span>, <span style=\"color: #00af00; text-decoration-color: #00af00\">768</span>)         │  <span style=\"color: #00af00; text-decoration-color: #00af00\">7,087,872</span> │\n│ (<span style=\"color: #0087ff; text-decoration-color: #0087ff\">TransformerEncoder</span>)            │                           │            │\n└─────────────────────────────────┴───────────────────────────┴────────────┘\n</pre>\n"
     },
     "metadata": {},
     "output_type": "display_data"
    },
    {
     "data": {
      "text/plain": "\u001B[1m Total params: \u001B[0m\u001B[38;5;34m85,054,464\u001B[0m (324.46 MB)\n",
      "text/html": "<pre style=\"white-space:pre;overflow-x:auto;line-height:normal;font-family:Menlo,'DejaVu Sans Mono',consolas,'Courier New',monospace\"><span style=\"font-weight: bold\"> Total params: </span><span style=\"color: #00af00; text-decoration-color: #00af00\">85,054,464</span> (324.46 MB)\n</pre>\n"
     },
     "metadata": {},
     "output_type": "display_data"
    },
    {
     "data": {
      "text/plain": "\u001B[1m Trainable params: \u001B[0m\u001B[38;5;34m85,054,464\u001B[0m (324.46 MB)\n",
      "text/html": "<pre style=\"white-space:pre;overflow-x:auto;line-height:normal;font-family:Menlo,'DejaVu Sans Mono',consolas,'Courier New',monospace\"><span style=\"font-weight: bold\"> Trainable params: </span><span style=\"color: #00af00; text-decoration-color: #00af00\">85,054,464</span> (324.46 MB)\n</pre>\n"
     },
     "metadata": {},
     "output_type": "display_data"
    },
    {
     "data": {
      "text/plain": "\u001B[1m Non-trainable params: \u001B[0m\u001B[38;5;34m0\u001B[0m (0.00 B)\n",
      "text/html": "<pre style=\"white-space:pre;overflow-x:auto;line-height:normal;font-family:Menlo,'DejaVu Sans Mono',consolas,'Courier New',monospace\"><span style=\"font-weight: bold\"> Non-trainable params: </span><span style=\"color: #00af00; text-decoration-color: #00af00\">0</span> (0.00 B)\n</pre>\n"
     },
     "metadata": {},
     "output_type": "display_data"
    },
    {
     "data": {
      "text/plain": "(None,\n [<TransformerEncoder name=transformer_layer_0, built=True>,\n  <TransformerEncoder name=transformer_layer_1, built=True>,\n  <TransformerEncoder name=transformer_layer_2, built=True>,\n  <TransformerEncoder name=transformer_layer_3, built=True>,\n  <TransformerEncoder name=transformer_layer_4, built=True>,\n  <TransformerEncoder name=transformer_layer_5, built=True>,\n  <TransformerEncoder name=transformer_layer_6, built=True>,\n  <TransformerEncoder name=transformer_layer_7, built=True>,\n  <TransformerEncoder name=transformer_layer_8, built=True>,\n  <TransformerEncoder name=transformer_layer_9, built=True>,\n  <TransformerEncoder name=transformer_layer_10, built=True>,\n  <TransformerEncoder name=transformer_layer_11, built=True>])"
     },
     "execution_count": 19,
     "metadata": {},
     "output_type": "execute_result"
    }
   ],
   "source": [
    "model1 = keras.Sequential()\n",
    "model1.add(keras.Input(shape=(None, 768)))\n",
    "for i in range(len(model.layers)):\n",
    "    if i>4:\n",
    "        model1.add(model.layers[i])\n",
    "model1.summary(), model1.layers"
   ],
   "metadata": {
    "collapsed": false,
    "ExecuteTime": {
     "end_time": "2024-03-13T08:25:02.410418Z",
     "start_time": "2024-03-13T08:25:02.341257Z"
    }
   },
   "id": "fe4bdbeaee67955",
   "execution_count": 19
  },
  {
   "cell_type": "code",
   "outputs": [
    {
     "name": "stdout",
     "output_type": "stream",
     "text": [
      "tf.Tensor(\n",
      "[[[0. 0. 0. ... 0. 0. 0.]\n",
      "  [0. 0. 0. ... 0. 0. 0.]\n",
      "  [0. 0. 0. ... 0. 0. 0.]\n",
      "  ...\n",
      "  [0. 0. 0. ... 0. 0. 0.]\n",
      "  [0. 0. 0. ... 0. 0. 0.]\n",
      "  [0. 0. 0. ... 0. 0. 0.]]\n",
      "\n",
      " [[0. 0. 0. ... 0. 0. 0.]\n",
      "  [0. 0. 0. ... 0. 0. 0.]\n",
      "  [0. 0. 0. ... 0. 0. 0.]\n",
      "  ...\n",
      "  [0. 0. 0. ... 0. 0. 0.]\n",
      "  [0. 0. 0. ... 0. 0. 0.]\n",
      "  [0. 0. 0. ... 0. 0. 0.]]\n",
      "\n",
      " [[0. 0. 0. ... 0. 0. 0.]\n",
      "  [0. 0. 0. ... 0. 0. 0.]\n",
      "  [0. 0. 0. ... 0. 0. 0.]\n",
      "  ...\n",
      "  [0. 0. 0. ... 0. 0. 0.]\n",
      "  [0. 0. 0. ... 0. 0. 0.]\n",
      "  [0. 0. 0. ... 0. 0. 0.]]\n",
      "\n",
      " ...\n",
      "\n",
      " [[0. 0. 0. ... 0. 0. 0.]\n",
      "  [0. 0. 0. ... 0. 0. 0.]\n",
      "  [0. 0. 0. ... 0. 0. 0.]\n",
      "  ...\n",
      "  [0. 0. 0. ... 0. 0. 0.]\n",
      "  [0. 0. 0. ... 0. 0. 0.]\n",
      "  [0. 0. 0. ... 0. 0. 0.]]\n",
      "\n",
      " [[0. 0. 0. ... 0. 0. 0.]\n",
      "  [0. 0. 0. ... 0. 0. 0.]\n",
      "  [0. 0. 0. ... 0. 0. 0.]\n",
      "  ...\n",
      "  [0. 0. 0. ... 0. 0. 0.]\n",
      "  [0. 0. 0. ... 0. 0. 0.]\n",
      "  [0. 0. 0. ... 0. 0. 0.]]\n",
      "\n",
      " [[0. 0. 0. ... 0. 0. 0.]\n",
      "  [0. 0. 0. ... 0. 0. 0.]\n",
      "  [0. 0. 0. ... 0. 0. 0.]\n",
      "  ...\n",
      "  [0. 0. 0. ... 0. 0. 0.]\n",
      "  [0. 0. 0. ... 0. 0. 0.]\n",
      "  [0. 0. 0. ... 0. 0. 0.]]], shape=(768, 12, 64), dtype=float32)\n",
      "tf.Tensor(\n",
      "[[[0. 0. 0. ... 0. 0. 0.]\n",
      "  [0. 0. 0. ... 0. 0. 0.]\n",
      "  [0. 0. 0. ... 0. 0. 0.]\n",
      "  ...\n",
      "  [0. 0. 0. ... 0. 0. 0.]\n",
      "  [0. 0. 0. ... 0. 0. 0.]\n",
      "  [0. 0. 0. ... 0. 0. 0.]]\n",
      "\n",
      " [[0. 0. 0. ... 0. 0. 0.]\n",
      "  [0. 0. 0. ... 0. 0. 0.]\n",
      "  [0. 0. 0. ... 0. 0. 0.]\n",
      "  ...\n",
      "  [0. 0. 0. ... 0. 0. 0.]\n",
      "  [0. 0. 0. ... 0. 0. 0.]\n",
      "  [0. 0. 0. ... 0. 0. 0.]]\n",
      "\n",
      " [[0. 0. 0. ... 0. 0. 0.]\n",
      "  [0. 0. 0. ... 0. 0. 0.]\n",
      "  [0. 0. 0. ... 0. 0. 0.]\n",
      "  ...\n",
      "  [0. 0. 0. ... 0. 0. 0.]\n",
      "  [0. 0. 0. ... 0. 0. 0.]\n",
      "  [0. 0. 0. ... 0. 0. 0.]]\n",
      "\n",
      " ...\n",
      "\n",
      " [[0. 0. 0. ... 0. 0. 0.]\n",
      "  [0. 0. 0. ... 0. 0. 0.]\n",
      "  [0. 0. 0. ... 0. 0. 0.]\n",
      "  ...\n",
      "  [0. 0. 0. ... 0. 0. 0.]\n",
      "  [0. 0. 0. ... 0. 0. 0.]\n",
      "  [0. 0. 0. ... 0. 0. 0.]]\n",
      "\n",
      " [[0. 0. 0. ... 0. 0. 0.]\n",
      "  [0. 0. 0. ... 0. 0. 0.]\n",
      "  [0. 0. 0. ... 0. 0. 0.]\n",
      "  ...\n",
      "  [0. 0. 0. ... 0. 0. 0.]\n",
      "  [0. 0. 0. ... 0. 0. 0.]\n",
      "  [0. 0. 0. ... 0. 0. 0.]]\n",
      "\n",
      " [[0. 0. 0. ... 0. 0. 0.]\n",
      "  [0. 0. 0. ... 0. 0. 0.]\n",
      "  [0. 0. 0. ... 0. 0. 0.]\n",
      "  ...\n",
      "  [0. 0. 0. ... 0. 0. 0.]\n",
      "  [0. 0. 0. ... 0. 0. 0.]\n",
      "  [0. 0. 0. ... 0. 0. 0.]]], shape=(768, 12, 64), dtype=float32)\n",
      "tf.Tensor(\n",
      "[[[0. 0. 0. ... 0. 0. 0.]\n",
      "  [0. 0. 0. ... 0. 0. 0.]\n",
      "  [0. 0. 0. ... 0. 0. 0.]\n",
      "  ...\n",
      "  [0. 0. 0. ... 0. 0. 0.]\n",
      "  [0. 0. 0. ... 0. 0. 0.]\n",
      "  [0. 0. 0. ... 0. 0. 0.]]\n",
      "\n",
      " [[0. 0. 0. ... 0. 0. 0.]\n",
      "  [0. 0. 0. ... 0. 0. 0.]\n",
      "  [0. 0. 0. ... 0. 0. 0.]\n",
      "  ...\n",
      "  [0. 0. 0. ... 0. 0. 0.]\n",
      "  [0. 0. 0. ... 0. 0. 0.]\n",
      "  [0. 0. 0. ... 0. 0. 0.]]\n",
      "\n",
      " [[0. 0. 0. ... 0. 0. 0.]\n",
      "  [0. 0. 0. ... 0. 0. 0.]\n",
      "  [0. 0. 0. ... 0. 0. 0.]\n",
      "  ...\n",
      "  [0. 0. 0. ... 0. 0. 0.]\n",
      "  [0. 0. 0. ... 0. 0. 0.]\n",
      "  [0. 0. 0. ... 0. 0. 0.]]\n",
      "\n",
      " ...\n",
      "\n",
      " [[0. 0. 0. ... 0. 0. 0.]\n",
      "  [0. 0. 0. ... 0. 0. 0.]\n",
      "  [0. 0. 0. ... 0. 0. 0.]\n",
      "  ...\n",
      "  [0. 0. 0. ... 0. 0. 0.]\n",
      "  [0. 0. 0. ... 0. 0. 0.]\n",
      "  [0. 0. 0. ... 0. 0. 0.]]\n",
      "\n",
      " [[0. 0. 0. ... 0. 0. 0.]\n",
      "  [0. 0. 0. ... 0. 0. 0.]\n",
      "  [0. 0. 0. ... 0. 0. 0.]\n",
      "  ...\n",
      "  [0. 0. 0. ... 0. 0. 0.]\n",
      "  [0. 0. 0. ... 0. 0. 0.]\n",
      "  [0. 0. 0. ... 0. 0. 0.]]\n",
      "\n",
      " [[0. 0. 0. ... 0. 0. 0.]\n",
      "  [0. 0. 0. ... 0. 0. 0.]\n",
      "  [0. 0. 0. ... 0. 0. 0.]\n",
      "  ...\n",
      "  [0. 0. 0. ... 0. 0. 0.]\n",
      "  [0. 0. 0. ... 0. 0. 0.]\n",
      "  [0. 0. 0. ... 0. 0. 0.]]], shape=(768, 12, 64), dtype=float32)\n",
      "tf.Tensor(\n",
      "[[[0. 0. 0. ... 0. 0. 0.]\n",
      "  [0. 0. 0. ... 0. 0. 0.]\n",
      "  [0. 0. 0. ... 0. 0. 0.]\n",
      "  ...\n",
      "  [0. 0. 0. ... 0. 0. 0.]\n",
      "  [0. 0. 0. ... 0. 0. 0.]\n",
      "  [0. 0. 0. ... 0. 0. 0.]]\n",
      "\n",
      " [[0. 0. 0. ... 0. 0. 0.]\n",
      "  [0. 0. 0. ... 0. 0. 0.]\n",
      "  [0. 0. 0. ... 0. 0. 0.]\n",
      "  ...\n",
      "  [0. 0. 0. ... 0. 0. 0.]\n",
      "  [0. 0. 0. ... 0. 0. 0.]\n",
      "  [0. 0. 0. ... 0. 0. 0.]]\n",
      "\n",
      " [[0. 0. 0. ... 0. 0. 0.]\n",
      "  [0. 0. 0. ... 0. 0. 0.]\n",
      "  [0. 0. 0. ... 0. 0. 0.]\n",
      "  ...\n",
      "  [0. 0. 0. ... 0. 0. 0.]\n",
      "  [0. 0. 0. ... 0. 0. 0.]\n",
      "  [0. 0. 0. ... 0. 0. 0.]]\n",
      "\n",
      " ...\n",
      "\n",
      " [[0. 0. 0. ... 0. 0. 0.]\n",
      "  [0. 0. 0. ... 0. 0. 0.]\n",
      "  [0. 0. 0. ... 0. 0. 0.]\n",
      "  ...\n",
      "  [0. 0. 0. ... 0. 0. 0.]\n",
      "  [0. 0. 0. ... 0. 0. 0.]\n",
      "  [0. 0. 0. ... 0. 0. 0.]]\n",
      "\n",
      " [[0. 0. 0. ... 0. 0. 0.]\n",
      "  [0. 0. 0. ... 0. 0. 0.]\n",
      "  [0. 0. 0. ... 0. 0. 0.]\n",
      "  ...\n",
      "  [0. 0. 0. ... 0. 0. 0.]\n",
      "  [0. 0. 0. ... 0. 0. 0.]\n",
      "  [0. 0. 0. ... 0. 0. 0.]]\n",
      "\n",
      " [[0. 0. 0. ... 0. 0. 0.]\n",
      "  [0. 0. 0. ... 0. 0. 0.]\n",
      "  [0. 0. 0. ... 0. 0. 0.]\n",
      "  ...\n",
      "  [0. 0. 0. ... 0. 0. 0.]\n",
      "  [0. 0. 0. ... 0. 0. 0.]\n",
      "  [0. 0. 0. ... 0. 0. 0.]]], shape=(768, 12, 64), dtype=float32)\n",
      "tf.Tensor(\n",
      "[[[0. 0. 0. ... 0. 0. 0.]\n",
      "  [0. 0. 0. ... 0. 0. 0.]\n",
      "  [0. 0. 0. ... 0. 0. 0.]\n",
      "  ...\n",
      "  [0. 0. 0. ... 0. 0. 0.]\n",
      "  [0. 0. 0. ... 0. 0. 0.]\n",
      "  [0. 0. 0. ... 0. 0. 0.]]\n",
      "\n",
      " [[0. 0. 0. ... 0. 0. 0.]\n",
      "  [0. 0. 0. ... 0. 0. 0.]\n",
      "  [0. 0. 0. ... 0. 0. 0.]\n",
      "  ...\n",
      "  [0. 0. 0. ... 0. 0. 0.]\n",
      "  [0. 0. 0. ... 0. 0. 0.]\n",
      "  [0. 0. 0. ... 0. 0. 0.]]\n",
      "\n",
      " [[0. 0. 0. ... 0. 0. 0.]\n",
      "  [0. 0. 0. ... 0. 0. 0.]\n",
      "  [0. 0. 0. ... 0. 0. 0.]\n",
      "  ...\n",
      "  [0. 0. 0. ... 0. 0. 0.]\n",
      "  [0. 0. 0. ... 0. 0. 0.]\n",
      "  [0. 0. 0. ... 0. 0. 0.]]\n",
      "\n",
      " ...\n",
      "\n",
      " [[0. 0. 0. ... 0. 0. 0.]\n",
      "  [0. 0. 0. ... 0. 0. 0.]\n",
      "  [0. 0. 0. ... 0. 0. 0.]\n",
      "  ...\n",
      "  [0. 0. 0. ... 0. 0. 0.]\n",
      "  [0. 0. 0. ... 0. 0. 0.]\n",
      "  [0. 0. 0. ... 0. 0. 0.]]\n",
      "\n",
      " [[0. 0. 0. ... 0. 0. 0.]\n",
      "  [0. 0. 0. ... 0. 0. 0.]\n",
      "  [0. 0. 0. ... 0. 0. 0.]\n",
      "  ...\n",
      "  [0. 0. 0. ... 0. 0. 0.]\n",
      "  [0. 0. 0. ... 0. 0. 0.]\n",
      "  [0. 0. 0. ... 0. 0. 0.]]\n",
      "\n",
      " [[0. 0. 0. ... 0. 0. 0.]\n",
      "  [0. 0. 0. ... 0. 0. 0.]\n",
      "  [0. 0. 0. ... 0. 0. 0.]\n",
      "  ...\n",
      "  [0. 0. 0. ... 0. 0. 0.]\n",
      "  [0. 0. 0. ... 0. 0. 0.]\n",
      "  [0. 0. 0. ... 0. 0. 0.]]], shape=(768, 12, 64), dtype=float32)\n",
      "tf.Tensor(\n",
      "[[[0. 0. 0. ... 0. 0. 0.]\n",
      "  [0. 0. 0. ... 0. 0. 0.]\n",
      "  [0. 0. 0. ... 0. 0. 0.]\n",
      "  ...\n",
      "  [0. 0. 0. ... 0. 0. 0.]\n",
      "  [0. 0. 0. ... 0. 0. 0.]\n",
      "  [0. 0. 0. ... 0. 0. 0.]]\n",
      "\n",
      " [[0. 0. 0. ... 0. 0. 0.]\n",
      "  [0. 0. 0. ... 0. 0. 0.]\n",
      "  [0. 0. 0. ... 0. 0. 0.]\n",
      "  ...\n",
      "  [0. 0. 0. ... 0. 0. 0.]\n",
      "  [0. 0. 0. ... 0. 0. 0.]\n",
      "  [0. 0. 0. ... 0. 0. 0.]]\n",
      "\n",
      " [[0. 0. 0. ... 0. 0. 0.]\n",
      "  [0. 0. 0. ... 0. 0. 0.]\n",
      "  [0. 0. 0. ... 0. 0. 0.]\n",
      "  ...\n",
      "  [0. 0. 0. ... 0. 0. 0.]\n",
      "  [0. 0. 0. ... 0. 0. 0.]\n",
      "  [0. 0. 0. ... 0. 0. 0.]]\n",
      "\n",
      " ...\n",
      "\n",
      " [[0. 0. 0. ... 0. 0. 0.]\n",
      "  [0. 0. 0. ... 0. 0. 0.]\n",
      "  [0. 0. 0. ... 0. 0. 0.]\n",
      "  ...\n",
      "  [0. 0. 0. ... 0. 0. 0.]\n",
      "  [0. 0. 0. ... 0. 0. 0.]\n",
      "  [0. 0. 0. ... 0. 0. 0.]]\n",
      "\n",
      " [[0. 0. 0. ... 0. 0. 0.]\n",
      "  [0. 0. 0. ... 0. 0. 0.]\n",
      "  [0. 0. 0. ... 0. 0. 0.]\n",
      "  ...\n",
      "  [0. 0. 0. ... 0. 0. 0.]\n",
      "  [0. 0. 0. ... 0. 0. 0.]\n",
      "  [0. 0. 0. ... 0. 0. 0.]]\n",
      "\n",
      " [[0. 0. 0. ... 0. 0. 0.]\n",
      "  [0. 0. 0. ... 0. 0. 0.]\n",
      "  [0. 0. 0. ... 0. 0. 0.]\n",
      "  ...\n",
      "  [0. 0. 0. ... 0. 0. 0.]\n",
      "  [0. 0. 0. ... 0. 0. 0.]\n",
      "  [0. 0. 0. ... 0. 0. 0.]]], shape=(768, 12, 64), dtype=float32)\n",
      "tf.Tensor(\n",
      "[[[0. 0. 0. ... 0. 0. 0.]\n",
      "  [0. 0. 0. ... 0. 0. 0.]\n",
      "  [0. 0. 0. ... 0. 0. 0.]\n",
      "  ...\n",
      "  [0. 0. 0. ... 0. 0. 0.]\n",
      "  [0. 0. 0. ... 0. 0. 0.]\n",
      "  [0. 0. 0. ... 0. 0. 0.]]\n",
      "\n",
      " [[0. 0. 0. ... 0. 0. 0.]\n",
      "  [0. 0. 0. ... 0. 0. 0.]\n",
      "  [0. 0. 0. ... 0. 0. 0.]\n",
      "  ...\n",
      "  [0. 0. 0. ... 0. 0. 0.]\n",
      "  [0. 0. 0. ... 0. 0. 0.]\n",
      "  [0. 0. 0. ... 0. 0. 0.]]\n",
      "\n",
      " [[0. 0. 0. ... 0. 0. 0.]\n",
      "  [0. 0. 0. ... 0. 0. 0.]\n",
      "  [0. 0. 0. ... 0. 0. 0.]\n",
      "  ...\n",
      "  [0. 0. 0. ... 0. 0. 0.]\n",
      "  [0. 0. 0. ... 0. 0. 0.]\n",
      "  [0. 0. 0. ... 0. 0. 0.]]\n",
      "\n",
      " ...\n",
      "\n",
      " [[0. 0. 0. ... 0. 0. 0.]\n",
      "  [0. 0. 0. ... 0. 0. 0.]\n",
      "  [0. 0. 0. ... 0. 0. 0.]\n",
      "  ...\n",
      "  [0. 0. 0. ... 0. 0. 0.]\n",
      "  [0. 0. 0. ... 0. 0. 0.]\n",
      "  [0. 0. 0. ... 0. 0. 0.]]\n",
      "\n",
      " [[0. 0. 0. ... 0. 0. 0.]\n",
      "  [0. 0. 0. ... 0. 0. 0.]\n",
      "  [0. 0. 0. ... 0. 0. 0.]\n",
      "  ...\n",
      "  [0. 0. 0. ... 0. 0. 0.]\n",
      "  [0. 0. 0. ... 0. 0. 0.]\n",
      "  [0. 0. 0. ... 0. 0. 0.]]\n",
      "\n",
      " [[0. 0. 0. ... 0. 0. 0.]\n",
      "  [0. 0. 0. ... 0. 0. 0.]\n",
      "  [0. 0. 0. ... 0. 0. 0.]\n",
      "  ...\n",
      "  [0. 0. 0. ... 0. 0. 0.]\n",
      "  [0. 0. 0. ... 0. 0. 0.]\n",
      "  [0. 0. 0. ... 0. 0. 0.]]], shape=(768, 12, 64), dtype=float32)\n",
      "tf.Tensor(\n",
      "[[[0. 0. 0. ... 0. 0. 0.]\n",
      "  [0. 0. 0. ... 0. 0. 0.]\n",
      "  [0. 0. 0. ... 0. 0. 0.]\n",
      "  ...\n",
      "  [0. 0. 0. ... 0. 0. 0.]\n",
      "  [0. 0. 0. ... 0. 0. 0.]\n",
      "  [0. 0. 0. ... 0. 0. 0.]]\n",
      "\n",
      " [[0. 0. 0. ... 0. 0. 0.]\n",
      "  [0. 0. 0. ... 0. 0. 0.]\n",
      "  [0. 0. 0. ... 0. 0. 0.]\n",
      "  ...\n",
      "  [0. 0. 0. ... 0. 0. 0.]\n",
      "  [0. 0. 0. ... 0. 0. 0.]\n",
      "  [0. 0. 0. ... 0. 0. 0.]]\n",
      "\n",
      " [[0. 0. 0. ... 0. 0. 0.]\n",
      "  [0. 0. 0. ... 0. 0. 0.]\n",
      "  [0. 0. 0. ... 0. 0. 0.]\n",
      "  ...\n",
      "  [0. 0. 0. ... 0. 0. 0.]\n",
      "  [0. 0. 0. ... 0. 0. 0.]\n",
      "  [0. 0. 0. ... 0. 0. 0.]]\n",
      "\n",
      " ...\n",
      "\n",
      " [[0. 0. 0. ... 0. 0. 0.]\n",
      "  [0. 0. 0. ... 0. 0. 0.]\n",
      "  [0. 0. 0. ... 0. 0. 0.]\n",
      "  ...\n",
      "  [0. 0. 0. ... 0. 0. 0.]\n",
      "  [0. 0. 0. ... 0. 0. 0.]\n",
      "  [0. 0. 0. ... 0. 0. 0.]]\n",
      "\n",
      " [[0. 0. 0. ... 0. 0. 0.]\n",
      "  [0. 0. 0. ... 0. 0. 0.]\n",
      "  [0. 0. 0. ... 0. 0. 0.]\n",
      "  ...\n",
      "  [0. 0. 0. ... 0. 0. 0.]\n",
      "  [0. 0. 0. ... 0. 0. 0.]\n",
      "  [0. 0. 0. ... 0. 0. 0.]]\n",
      "\n",
      " [[0. 0. 0. ... 0. 0. 0.]\n",
      "  [0. 0. 0. ... 0. 0. 0.]\n",
      "  [0. 0. 0. ... 0. 0. 0.]\n",
      "  ...\n",
      "  [0. 0. 0. ... 0. 0. 0.]\n",
      "  [0. 0. 0. ... 0. 0. 0.]\n",
      "  [0. 0. 0. ... 0. 0. 0.]]], shape=(768, 12, 64), dtype=float32)\n",
      "tf.Tensor(\n",
      "[[[0. 0. 0. ... 0. 0. 0.]\n",
      "  [0. 0. 0. ... 0. 0. 0.]\n",
      "  [0. 0. 0. ... 0. 0. 0.]\n",
      "  ...\n",
      "  [0. 0. 0. ... 0. 0. 0.]\n",
      "  [0. 0. 0. ... 0. 0. 0.]\n",
      "  [0. 0. 0. ... 0. 0. 0.]]\n",
      "\n",
      " [[0. 0. 0. ... 0. 0. 0.]\n",
      "  [0. 0. 0. ... 0. 0. 0.]\n",
      "  [0. 0. 0. ... 0. 0. 0.]\n",
      "  ...\n",
      "  [0. 0. 0. ... 0. 0. 0.]\n",
      "  [0. 0. 0. ... 0. 0. 0.]\n",
      "  [0. 0. 0. ... 0. 0. 0.]]\n",
      "\n",
      " [[0. 0. 0. ... 0. 0. 0.]\n",
      "  [0. 0. 0. ... 0. 0. 0.]\n",
      "  [0. 0. 0. ... 0. 0. 0.]\n",
      "  ...\n",
      "  [0. 0. 0. ... 0. 0. 0.]\n",
      "  [0. 0. 0. ... 0. 0. 0.]\n",
      "  [0. 0. 0. ... 0. 0. 0.]]\n",
      "\n",
      " ...\n",
      "\n",
      " [[0. 0. 0. ... 0. 0. 0.]\n",
      "  [0. 0. 0. ... 0. 0. 0.]\n",
      "  [0. 0. 0. ... 0. 0. 0.]\n",
      "  ...\n",
      "  [0. 0. 0. ... 0. 0. 0.]\n",
      "  [0. 0. 0. ... 0. 0. 0.]\n",
      "  [0. 0. 0. ... 0. 0. 0.]]\n",
      "\n",
      " [[0. 0. 0. ... 0. 0. 0.]\n",
      "  [0. 0. 0. ... 0. 0. 0.]\n",
      "  [0. 0. 0. ... 0. 0. 0.]\n",
      "  ...\n",
      "  [0. 0. 0. ... 0. 0. 0.]\n",
      "  [0. 0. 0. ... 0. 0. 0.]\n",
      "  [0. 0. 0. ... 0. 0. 0.]]\n",
      "\n",
      " [[0. 0. 0. ... 0. 0. 0.]\n",
      "  [0. 0. 0. ... 0. 0. 0.]\n",
      "  [0. 0. 0. ... 0. 0. 0.]\n",
      "  ...\n",
      "  [0. 0. 0. ... 0. 0. 0.]\n",
      "  [0. 0. 0. ... 0. 0. 0.]\n",
      "  [0. 0. 0. ... 0. 0. 0.]]], shape=(768, 12, 64), dtype=float32)\n",
      "tf.Tensor(\n",
      "[[[0. 0. 0. ... 0. 0. 0.]\n",
      "  [0. 0. 0. ... 0. 0. 0.]\n",
      "  [0. 0. 0. ... 0. 0. 0.]\n",
      "  ...\n",
      "  [0. 0. 0. ... 0. 0. 0.]\n",
      "  [0. 0. 0. ... 0. 0. 0.]\n",
      "  [0. 0. 0. ... 0. 0. 0.]]\n",
      "\n",
      " [[0. 0. 0. ... 0. 0. 0.]\n",
      "  [0. 0. 0. ... 0. 0. 0.]\n",
      "  [0. 0. 0. ... 0. 0. 0.]\n",
      "  ...\n",
      "  [0. 0. 0. ... 0. 0. 0.]\n",
      "  [0. 0. 0. ... 0. 0. 0.]\n",
      "  [0. 0. 0. ... 0. 0. 0.]]\n",
      "\n",
      " [[0. 0. 0. ... 0. 0. 0.]\n",
      "  [0. 0. 0. ... 0. 0. 0.]\n",
      "  [0. 0. 0. ... 0. 0. 0.]\n",
      "  ...\n",
      "  [0. 0. 0. ... 0. 0. 0.]\n",
      "  [0. 0. 0. ... 0. 0. 0.]\n",
      "  [0. 0. 0. ... 0. 0. 0.]]\n",
      "\n",
      " ...\n",
      "\n",
      " [[0. 0. 0. ... 0. 0. 0.]\n",
      "  [0. 0. 0. ... 0. 0. 0.]\n",
      "  [0. 0. 0. ... 0. 0. 0.]\n",
      "  ...\n",
      "  [0. 0. 0. ... 0. 0. 0.]\n",
      "  [0. 0. 0. ... 0. 0. 0.]\n",
      "  [0. 0. 0. ... 0. 0. 0.]]\n",
      "\n",
      " [[0. 0. 0. ... 0. 0. 0.]\n",
      "  [0. 0. 0. ... 0. 0. 0.]\n",
      "  [0. 0. 0. ... 0. 0. 0.]\n",
      "  ...\n",
      "  [0. 0. 0. ... 0. 0. 0.]\n",
      "  [0. 0. 0. ... 0. 0. 0.]\n",
      "  [0. 0. 0. ... 0. 0. 0.]]\n",
      "\n",
      " [[0. 0. 0. ... 0. 0. 0.]\n",
      "  [0. 0. 0. ... 0. 0. 0.]\n",
      "  [0. 0. 0. ... 0. 0. 0.]\n",
      "  ...\n",
      "  [0. 0. 0. ... 0. 0. 0.]\n",
      "  [0. 0. 0. ... 0. 0. 0.]\n",
      "  [0. 0. 0. ... 0. 0. 0.]]], shape=(768, 12, 64), dtype=float32)\n",
      "tf.Tensor(\n",
      "[[[0. 0. 0. ... 0. 0. 0.]\n",
      "  [0. 0. 0. ... 0. 0. 0.]\n",
      "  [0. 0. 0. ... 0. 0. 0.]\n",
      "  ...\n",
      "  [0. 0. 0. ... 0. 0. 0.]\n",
      "  [0. 0. 0. ... 0. 0. 0.]\n",
      "  [0. 0. 0. ... 0. 0. 0.]]\n",
      "\n",
      " [[0. 0. 0. ... 0. 0. 0.]\n",
      "  [0. 0. 0. ... 0. 0. 0.]\n",
      "  [0. 0. 0. ... 0. 0. 0.]\n",
      "  ...\n",
      "  [0. 0. 0. ... 0. 0. 0.]\n",
      "  [0. 0. 0. ... 0. 0. 0.]\n",
      "  [0. 0. 0. ... 0. 0. 0.]]\n",
      "\n",
      " [[0. 0. 0. ... 0. 0. 0.]\n",
      "  [0. 0. 0. ... 0. 0. 0.]\n",
      "  [0. 0. 0. ... 0. 0. 0.]\n",
      "  ...\n",
      "  [0. 0. 0. ... 0. 0. 0.]\n",
      "  [0. 0. 0. ... 0. 0. 0.]\n",
      "  [0. 0. 0. ... 0. 0. 0.]]\n",
      "\n",
      " ...\n",
      "\n",
      " [[0. 0. 0. ... 0. 0. 0.]\n",
      "  [0. 0. 0. ... 0. 0. 0.]\n",
      "  [0. 0. 0. ... 0. 0. 0.]\n",
      "  ...\n",
      "  [0. 0. 0. ... 0. 0. 0.]\n",
      "  [0. 0. 0. ... 0. 0. 0.]\n",
      "  [0. 0. 0. ... 0. 0. 0.]]\n",
      "\n",
      " [[0. 0. 0. ... 0. 0. 0.]\n",
      "  [0. 0. 0. ... 0. 0. 0.]\n",
      "  [0. 0. 0. ... 0. 0. 0.]\n",
      "  ...\n",
      "  [0. 0. 0. ... 0. 0. 0.]\n",
      "  [0. 0. 0. ... 0. 0. 0.]\n",
      "  [0. 0. 0. ... 0. 0. 0.]]\n",
      "\n",
      " [[0. 0. 0. ... 0. 0. 0.]\n",
      "  [0. 0. 0. ... 0. 0. 0.]\n",
      "  [0. 0. 0. ... 0. 0. 0.]\n",
      "  ...\n",
      "  [0. 0. 0. ... 0. 0. 0.]\n",
      "  [0. 0. 0. ... 0. 0. 0.]\n",
      "  [0. 0. 0. ... 0. 0. 0.]]], shape=(768, 12, 64), dtype=float32)\n",
      "tf.Tensor(\n",
      "[[[0. 0. 0. ... 0. 0. 0.]\n",
      "  [0. 0. 0. ... 0. 0. 0.]\n",
      "  [0. 0. 0. ... 0. 0. 0.]\n",
      "  ...\n",
      "  [0. 0. 0. ... 0. 0. 0.]\n",
      "  [0. 0. 0. ... 0. 0. 0.]\n",
      "  [0. 0. 0. ... 0. 0. 0.]]\n",
      "\n",
      " [[0. 0. 0. ... 0. 0. 0.]\n",
      "  [0. 0. 0. ... 0. 0. 0.]\n",
      "  [0. 0. 0. ... 0. 0. 0.]\n",
      "  ...\n",
      "  [0. 0. 0. ... 0. 0. 0.]\n",
      "  [0. 0. 0. ... 0. 0. 0.]\n",
      "  [0. 0. 0. ... 0. 0. 0.]]\n",
      "\n",
      " [[0. 0. 0. ... 0. 0. 0.]\n",
      "  [0. 0. 0. ... 0. 0. 0.]\n",
      "  [0. 0. 0. ... 0. 0. 0.]\n",
      "  ...\n",
      "  [0. 0. 0. ... 0. 0. 0.]\n",
      "  [0. 0. 0. ... 0. 0. 0.]\n",
      "  [0. 0. 0. ... 0. 0. 0.]]\n",
      "\n",
      " ...\n",
      "\n",
      " [[0. 0. 0. ... 0. 0. 0.]\n",
      "  [0. 0. 0. ... 0. 0. 0.]\n",
      "  [0. 0. 0. ... 0. 0. 0.]\n",
      "  ...\n",
      "  [0. 0. 0. ... 0. 0. 0.]\n",
      "  [0. 0. 0. ... 0. 0. 0.]\n",
      "  [0. 0. 0. ... 0. 0. 0.]]\n",
      "\n",
      " [[0. 0. 0. ... 0. 0. 0.]\n",
      "  [0. 0. 0. ... 0. 0. 0.]\n",
      "  [0. 0. 0. ... 0. 0. 0.]\n",
      "  ...\n",
      "  [0. 0. 0. ... 0. 0. 0.]\n",
      "  [0. 0. 0. ... 0. 0. 0.]\n",
      "  [0. 0. 0. ... 0. 0. 0.]]\n",
      "\n",
      " [[0. 0. 0. ... 0. 0. 0.]\n",
      "  [0. 0. 0. ... 0. 0. 0.]\n",
      "  [0. 0. 0. ... 0. 0. 0.]\n",
      "  ...\n",
      "  [0. 0. 0. ... 0. 0. 0.]\n",
      "  [0. 0. 0. ... 0. 0. 0.]\n",
      "  [0. 0. 0. ... 0. 0. 0.]]], shape=(768, 12, 64), dtype=float32)\n"
     ]
    }
   ],
   "source": [
    "for i in range(len(model1.layers)):\n",
    "    l = model1.layers[i]\n",
    "    l1 = model.layers[i+5]\n",
    "    print(l.weights[0].value - l1.weights[0].value)"
   ],
   "metadata": {
    "collapsed": false,
    "ExecuteTime": {
     "end_time": "2024-03-13T08:29:30.235990Z",
     "start_time": "2024-03-13T08:29:30.202399Z"
    }
   },
   "id": "8ceafa6f53a8b3c9",
   "execution_count": 34
  },
  {
   "cell_type": "code",
   "outputs": [
    {
     "data": {
      "text/plain": "[<KerasVariable shape=(768, 12, 64), dtype=float32, path=transformer_layer_1/self_attention_layer/query/kernel>,\n <KerasVariable shape=(12, 64), dtype=float32, path=transformer_layer_1/self_attention_layer/query/bias>,\n <KerasVariable shape=(768, 12, 64), dtype=float32, path=transformer_layer_1/self_attention_layer/key/kernel>,\n <KerasVariable shape=(12, 64), dtype=float32, path=transformer_layer_1/self_attention_layer/key/bias>,\n <KerasVariable shape=(768, 12, 64), dtype=float32, path=transformer_layer_1/self_attention_layer/value/kernel>,\n <KerasVariable shape=(12, 64), dtype=float32, path=transformer_layer_1/self_attention_layer/value/bias>,\n <KerasVariable shape=(12, 64, 768), dtype=float32, path=transformer_layer_1/self_attention_layer/attention_output/kernel>,\n <KerasVariable shape=(768,), dtype=float32, path=transformer_layer_1/self_attention_layer/attention_output/bias>,\n <KerasVariable shape=(768,), dtype=float32, path=transformer_layer_1/self_attention_layer_norm/gamma>,\n <KerasVariable shape=(768,), dtype=float32, path=transformer_layer_1/self_attention_layer_norm/beta>,\n <KerasVariable shape=(768,), dtype=float32, path=transformer_layer_1/feedforward_layer_norm/gamma>,\n <KerasVariable shape=(768,), dtype=float32, path=transformer_layer_1/feedforward_layer_norm/beta>,\n <KerasVariable shape=(768, 3072), dtype=float32, path=transformer_layer_1/feedforward_intermediate_dense/kernel>,\n <KerasVariable shape=(3072,), dtype=float32, path=transformer_layer_1/feedforward_intermediate_dense/bias>,\n <KerasVariable shape=(3072, 768), dtype=float32, path=transformer_layer_1/feedforward_output_dense/kernel>,\n <KerasVariable shape=(768,), dtype=float32, path=transformer_layer_1/feedforward_output_dense/bias>]"
     },
     "execution_count": 40,
     "metadata": {},
     "output_type": "execute_result"
    }
   ],
   "source": [
    "(model1.layers[1].weights)"
   ],
   "metadata": {
    "collapsed": false,
    "ExecuteTime": {
     "end_time": "2024-03-13T11:42:06.688098Z",
     "start_time": "2024-03-13T11:42:06.684840Z"
    }
   },
   "id": "3b20c8674ef9a41f",
   "execution_count": 40
  },
  {
   "cell_type": "code",
   "outputs": [],
   "source": [],
   "metadata": {
    "collapsed": false
   },
   "id": "8b9e4cb52b51e2f9"
  },
  {
   "cell_type": "code",
   "outputs": [],
   "source": [
    "import numpy as np\n",
    "test = np.ones((1,50,768))"
   ],
   "metadata": {
    "collapsed": false,
    "ExecuteTime": {
     "end_time": "2024-03-13T08:30:54.349295Z",
     "start_time": "2024-03-13T08:30:54.346471Z"
    }
   },
   "id": "fbdde774c0c8842a",
   "execution_count": 38
  },
  {
   "cell_type": "code",
   "outputs": [
    {
     "name": "stderr",
     "output_type": "stream",
     "text": [
      "2024-03-13 11:30:56.141102: I external/local_xla/xla/service/service.cc:168] XLA service 0xa0d2ae0 initialized for platform CUDA (this does not guarantee that XLA will be used). Devices:\n",
      "2024-03-13 11:30:56.141144: I external/local_xla/xla/service/service.cc:176]   StreamExecutor device (0): NVIDIA GeForce RTX 4060 Laptop GPU, Compute Capability 8.9\n",
      "2024-03-13 11:30:56.205048: I tensorflow/compiler/mlir/tensorflow/utils/dump_mlir_util.cc:269] disabling MLIR crash reproducer, set env var `MLIR_CRASH_REPRODUCER_DIRECTORY` to enable.\n",
      "2024-03-13 11:30:56.600175: I external/local_xla/xla/stream_executor/cuda/cuda_dnn.cc:454] Loaded cuDNN version 8904\n"
     ]
    },
    {
     "name": "stdout",
     "output_type": "stream",
     "text": [
      "\u001B[1m1/1\u001B[0m \u001B[32m━━━━━━━━━━━━━━━━━━━━\u001B[0m\u001B[37m\u001B[0m \u001B[1m3s\u001B[0m 3s/step\n"
     ]
    },
    {
     "name": "stderr",
     "output_type": "stream",
     "text": [
      "WARNING: All log messages before absl::InitializeLog() is called are written to STDERR\n",
      "I0000 00:00:1710318657.646611    4382 device_compiler.h:186] Compiled cluster using XLA!  This line is logged at most once for the lifetime of the process.\n"
     ]
    },
    {
     "data": {
      "text/plain": "array([[[-0.06499024,  0.12883869, -0.0684604 , ..., -0.00282712,\n         -0.04725111, -0.02979828],\n        [-0.06499024,  0.12883869, -0.0684604 , ..., -0.00282712,\n         -0.04725111, -0.02979828],\n        [-0.06499024,  0.12883869, -0.0684604 , ..., -0.00282712,\n         -0.04725111, -0.02979828],\n        ...,\n        [-0.06499024,  0.12883869, -0.0684604 , ..., -0.00282712,\n         -0.04725111, -0.02979828],\n        [-0.06499024,  0.12883869, -0.0684604 , ..., -0.00282712,\n         -0.04725111, -0.02979828],\n        [-0.06499024,  0.12883869, -0.0684604 , ..., -0.00282712,\n         -0.04725111, -0.02979828]]], dtype=float32)"
     },
     "execution_count": 39,
     "metadata": {},
     "output_type": "execute_result"
    }
   ],
   "source": [
    "model1.predict(test)"
   ],
   "metadata": {
    "collapsed": false,
    "ExecuteTime": {
     "end_time": "2024-03-13T08:30:57.667116Z",
     "start_time": "2024-03-13T08:30:54.813152Z"
    }
   },
   "id": "f14f01be6dc482fc",
   "execution_count": 39
  },
  {
   "cell_type": "code",
   "outputs": [
    {
     "data": {
      "text/plain": "['__annotations__',\n '__call__',\n '__class__',\n '__delattr__',\n '__dict__',\n '__dir__',\n '__doc__',\n '__eq__',\n '__format__',\n '__ge__',\n '__getattribute__',\n '__getstate__',\n '__gt__',\n '__hash__',\n '__init__',\n '__init_subclass__',\n '__le__',\n '__lt__',\n '__module__',\n '__ne__',\n '__new__',\n '__reduce__',\n '__reduce_ex__',\n '__repr__',\n '__setattr__',\n '__sizeof__',\n '__str__',\n '__subclasshook__',\n '__weakref__',\n '_add_trackable_child',\n '_add_variable_with_custom_getter',\n '_allow_non_tensor_positional_args',\n '_api_export_path',\n '_api_export_symbol_id',\n '_assert_input_compatibility',\n '_auto_config',\n '_build_by_run_for_kwargs',\n '_build_by_run_for_single_pos_arg',\n '_build_shapes_dict',\n '_call_has_mask_arg',\n '_call_has_training_arg',\n '_call_signature',\n '_called',\n '_check_super_called',\n '_checkpoint_dependencies',\n '_clear_losses',\n '_convert_input_args',\n '_copy_trackable_to_cpu',\n '_default_save_signature',\n '_deferred_dependencies',\n '_delete_tracking',\n '_deserialization_dependencies',\n '_deserialize_from_proto',\n '_export_to_saved_model_graph',\n '_feedforward_dropout',\n '_feedforward_intermediate_dense',\n '_feedforward_layer_norm',\n '_feedforward_output_dense',\n '_flatten_layers',\n '_gather_saveables_for_checkpoint',\n '_get_call_context',\n '_get_node_attribute_at_index',\n '_get_own_losses',\n '_handle_deferred_dependencies',\n '_inbound_nodes',\n '_initializer_tracker',\n '_input_spec',\n '_layers',\n '_lock',\n '_lock_state',\n '_lookup_dependency',\n '_loss_ids',\n '_losses',\n '_maybe_build',\n '_maybe_initialize_trackable',\n '_maybe_reset_call_context',\n '_metrics',\n '_name_based_attribute_restore',\n '_name_based_restores',\n '_no_dependency',\n '_non_trainable_variables',\n '_object_identifier',\n '_outbound_nodes',\n '_post_build',\n '_preload_simple_restoration',\n '_restore_from_tensors',\n '_saved_model_arg_spec',\n '_saved_model_inputs_spec',\n '_seed_generators',\n '_self_attention_dropout',\n '_self_attention_layer',\n '_self_attention_layer_norm',\n '_self_name_based_restores',\n '_self_saveable_object_factories',\n '_self_setattr_tracking',\n '_self_unconditional_checkpoint_dependencies',\n '_self_unconditional_deferred_dependencies',\n '_self_unconditional_dependency_names',\n '_self_update_uid',\n '_serialize_to_proto',\n '_serialize_to_tensors',\n '_set_mask_metadata',\n '_set_save_spec',\n '_setattr_hook',\n '_setattr_tracking',\n '_supports_masking',\n '_tf_api_names',\n '_tf_api_names_v1',\n '_track_trackable',\n '_track_variable',\n '_trackable_children',\n '_tracked',\n '_tracker',\n '_trainable',\n '_trainable_variables',\n '_unconditional_checkpoint_dependencies',\n '_unconditional_dependency_names',\n '_update_uid',\n 'activation',\n 'activity_regularizer',\n 'add_loss',\n 'add_metric',\n 'add_variable',\n 'add_weight',\n 'autocast',\n 'bias_initializer',\n 'build',\n 'build_from_config',\n 'built',\n 'call',\n 'compute_dtype',\n 'compute_mask',\n 'compute_output_shape',\n 'compute_output_spec',\n 'count_params',\n 'dropout',\n 'dtype',\n 'dtype_policy',\n 'from_config',\n 'get_build_config',\n 'get_config',\n 'get_weights',\n 'input',\n 'input_dtype',\n 'input_spec',\n 'intermediate_dim',\n 'kernel_initializer',\n 'layer_norm_epsilon',\n 'load_own_variables',\n 'losses',\n 'metrics_variables',\n 'name',\n 'non_trainable_variables',\n 'non_trainable_weights',\n 'normalize_first',\n 'num_heads',\n 'output',\n 'save_own_variables',\n 'set_weights',\n 'stateless_call',\n 'supports_jit',\n 'supports_masking',\n 'symbolic_call',\n 'trainable',\n 'trainable_variables',\n 'trainable_weights',\n 'variable_dtype',\n 'variables',\n 'weights']"
     },
     "execution_count": 41,
     "metadata": {},
     "output_type": "execute_result"
    }
   ],
   "source": [
    "dir(model1.layers[1])"
   ],
   "metadata": {
    "collapsed": false,
    "ExecuteTime": {
     "end_time": "2024-03-13T11:46:01.700625Z",
     "start_time": "2024-03-13T11:46:01.695992Z"
    }
   },
   "id": "a51e7bd3d5336dc4",
   "execution_count": 41
  },
  {
   "cell_type": "code",
   "outputs": [],
   "source": [
    "l =model1.layers[1] \n",
    "l1 = model1.layers[2]"
   ],
   "metadata": {
    "collapsed": false,
    "ExecuteTime": {
     "end_time": "2024-03-13T11:46:48.732388Z",
     "start_time": "2024-03-13T11:46:48.729975Z"
    }
   },
   "id": "a7b229eb69fe5e52",
   "execution_count": 42
  },
  {
   "cell_type": "code",
   "outputs": [
    {
     "ename": "ValueError",
     "evalue": "You cannot add new elements of state (variables or sub-layers) to a layer that is already built. All state must be created in the `__init__()` method or in the `build()` method.",
     "output_type": "error",
     "traceback": [
      "\u001B[0;31m---------------------------------------------------------------------------\u001B[0m",
      "\u001B[0;31mValueError\u001B[0m                                Traceback (most recent call last)",
      "Cell \u001B[0;32mIn[44], line 1\u001B[0m\n\u001B[0;32m----> 1\u001B[0m \u001B[43ml\u001B[49m\u001B[38;5;241;43m.\u001B[39;49m\u001B[43mweights\u001B[49m \u001B[38;5;241m=\u001B[39m l1\u001B[38;5;241m.\u001B[39mweights\n",
      "File \u001B[0;32m~/.local/lib/python3.11/site-packages/keras/src/layers/layer.py:1278\u001B[0m, in \u001B[0;36m__setattr__\u001B[0;34m(self, name, value)\u001B[0m\n\u001B[1;32m   1274\u001B[0m \u001B[38;5;28;01mdef\u001B[39;00m \u001B[38;5;21m_check_super_called\u001B[39m(\u001B[38;5;28mself\u001B[39m):\n\u001B[1;32m   1275\u001B[0m     \u001B[38;5;28;01mif\u001B[39;00m \u001B[38;5;28mgetattr\u001B[39m(\u001B[38;5;28mself\u001B[39m, \u001B[38;5;124m\"\u001B[39m\u001B[38;5;124m_lock\u001B[39m\u001B[38;5;124m\"\u001B[39m, \u001B[38;5;28;01mTrue\u001B[39;00m):\n\u001B[1;32m   1276\u001B[0m         \u001B[38;5;28;01mraise\u001B[39;00m \u001B[38;5;167;01mRuntimeError\u001B[39;00m(\n\u001B[1;32m   1277\u001B[0m             \u001B[38;5;124mf\u001B[39m\u001B[38;5;124m\"\u001B[39m\u001B[38;5;124mIn layer \u001B[39m\u001B[38;5;124m'\u001B[39m\u001B[38;5;132;01m{\u001B[39;00m\u001B[38;5;28mself\u001B[39m\u001B[38;5;241m.\u001B[39m\u001B[38;5;18m__class__\u001B[39m\u001B[38;5;241m.\u001B[39m\u001B[38;5;18m__name__\u001B[39m\u001B[38;5;132;01m}\u001B[39;00m\u001B[38;5;124m'\u001B[39m\u001B[38;5;124m, you forgot to call \u001B[39m\u001B[38;5;124m\"\u001B[39m\n\u001B[0;32m-> 1278\u001B[0m             \u001B[38;5;124m\"\u001B[39m\u001B[38;5;124m`super().__init__()` as the first statement \u001B[39m\u001B[38;5;124m\"\u001B[39m\n\u001B[1;32m   1279\u001B[0m             \u001B[38;5;124m\"\u001B[39m\u001B[38;5;124min the `__init__()` method. Go add it!\u001B[39m\u001B[38;5;124m\"\u001B[39m\n\u001B[1;32m   1280\u001B[0m         )\n",
      "File \u001B[0;32m~/.local/lib/python3.11/site-packages/keras/src/utils/tracking.py:84\u001B[0m, in \u001B[0;36mTracker.track\u001B[0;34m(self, attr)\u001B[0m\n\u001B[1;32m     82\u001B[0m     \u001B[38;5;28;01mreturn\u001B[39;00m attr\u001B[38;5;241m.\u001B[39m\u001B[38;5;18m__class__\u001B[39m(wrapped_attr)\n\u001B[1;32m     83\u001B[0m \u001B[38;5;28;01melif\u001B[39;00m \u001B[38;5;28misinstance\u001B[39m(attr, \u001B[38;5;28mlist\u001B[39m):\n\u001B[0;32m---> 84\u001B[0m     \u001B[38;5;28;01mreturn\u001B[39;00m \u001B[43mTrackedList\u001B[49m\u001B[43m(\u001B[49m\u001B[43mattr\u001B[49m\u001B[43m,\u001B[49m\u001B[43m \u001B[49m\u001B[38;5;28;43mself\u001B[39;49m\u001B[43m)\u001B[49m\n\u001B[1;32m     85\u001B[0m \u001B[38;5;28;01melif\u001B[39;00m \u001B[38;5;28misinstance\u001B[39m(attr, \u001B[38;5;28mdict\u001B[39m):\n\u001B[1;32m     86\u001B[0m     \u001B[38;5;66;03m# TODO: OrderedDict?\u001B[39;00m\n\u001B[1;32m     87\u001B[0m     \u001B[38;5;28;01mreturn\u001B[39;00m TrackedDict(attr, \u001B[38;5;28mself\u001B[39m)\n",
      "File \u001B[0;32m~/.local/lib/python3.11/site-packages/keras/src/utils/tracking.py:114\u001B[0m, in \u001B[0;36m__init__\u001B[0;34m(self, values, tracker)\u001B[0m\n\u001B[1;32m    112\u001B[0m \u001B[38;5;28;01mif\u001B[39;00m tracker \u001B[38;5;129;01mand\u001B[39;00m values:\n\u001B[1;32m    113\u001B[0m     values \u001B[38;5;241m=\u001B[39m [tracker\u001B[38;5;241m.\u001B[39mtrack(v) \u001B[38;5;28;01mfor\u001B[39;00m v \u001B[38;5;129;01min\u001B[39;00m values]\n\u001B[0;32m--> 114\u001B[0m \u001B[38;5;28msuper\u001B[39m()\u001B[38;5;241m.\u001B[39m\u001B[38;5;21m__init__\u001B[39m(values \u001B[38;5;129;01mor\u001B[39;00m [])\n",
      "File \u001B[0;32m~/.local/lib/python3.11/site-packages/keras/src/utils/tracking.py:114\u001B[0m, in \u001B[0;36m<listcomp>\u001B[0;34m(.0)\u001B[0m\n\u001B[1;32m    112\u001B[0m \u001B[38;5;28;01mif\u001B[39;00m tracker \u001B[38;5;129;01mand\u001B[39;00m values:\n\u001B[1;32m    113\u001B[0m     values \u001B[38;5;241m=\u001B[39m [tracker\u001B[38;5;241m.\u001B[39mtrack(v) \u001B[38;5;28;01mfor\u001B[39;00m v \u001B[38;5;129;01min\u001B[39;00m values]\n\u001B[0;32m--> 114\u001B[0m \u001B[38;5;28;43msuper\u001B[39;49m\u001B[43m(\u001B[49m\u001B[43m)\u001B[49m\u001B[38;5;241;43m.\u001B[39;49m\u001B[38;5;21;43m__init__\u001B[39;49m\u001B[43m(\u001B[49m\u001B[43mvalues\u001B[49m\u001B[43m \u001B[49m\u001B[38;5;129;43;01mor\u001B[39;49;00m\u001B[43m \u001B[49m\u001B[43m[\u001B[49m\u001B[43m]\u001B[49m\u001B[43m)\u001B[49m\n",
      "File \u001B[0;32m~/.local/lib/python3.11/site-packages/keras/src/utils/tracking.py:75\u001B[0m, in \u001B[0;36mTracker.track\u001B[0;34m(self, attr)\u001B[0m\n\u001B[1;32m     73\u001B[0m     \u001B[38;5;28;01mif\u001B[39;00m is_attr_type(attr):\n\u001B[1;32m     74\u001B[0m         \u001B[38;5;28;01mif\u001B[39;00m \u001B[38;5;28mid\u001B[39m(attr) \u001B[38;5;129;01mnot\u001B[39;00m \u001B[38;5;129;01min\u001B[39;00m \u001B[38;5;28mself\u001B[39m\u001B[38;5;241m.\u001B[39mstored_ids[store_name]:\n\u001B[0;32m---> 75\u001B[0m             \u001B[38;5;28;43mself\u001B[39;49m\u001B[38;5;241;43m.\u001B[39;49m\u001B[43madd_to_store\u001B[49m\u001B[43m(\u001B[49m\u001B[43mstore_name\u001B[49m\u001B[43m,\u001B[49m\u001B[43m \u001B[49m\u001B[43mattr\u001B[49m\u001B[43m)\u001B[49m\n\u001B[1;32m     76\u001B[0m         \u001B[38;5;28;01mreturn\u001B[39;00m attr\n\u001B[1;32m     77\u001B[0m \u001B[38;5;28;01mif\u001B[39;00m \u001B[38;5;28misinstance\u001B[39m(attr, \u001B[38;5;28mtuple\u001B[39m):\n",
      "File \u001B[0;32m~/.local/lib/python3.11/site-packages/keras/src/utils/tracking.py:104\u001B[0m, in \u001B[0;36mTracker.add_to_store\u001B[0;34m(self, store_name, value)\u001B[0m\n\u001B[1;32m    102\u001B[0m \u001B[38;5;28;01mdef\u001B[39;00m \u001B[38;5;21madd_to_store\u001B[39m(\u001B[38;5;28mself\u001B[39m, store_name, value):\n\u001B[1;32m    103\u001B[0m     \u001B[38;5;28;01mif\u001B[39;00m \u001B[38;5;28mself\u001B[39m\u001B[38;5;241m.\u001B[39mlocked:\n\u001B[0;32m--> 104\u001B[0m         \u001B[38;5;28;01mraise\u001B[39;00m \u001B[38;5;167;01mValueError\u001B[39;00m(\u001B[38;5;28mself\u001B[39m\u001B[38;5;241m.\u001B[39m_lock_violation_msg)\n\u001B[1;32m    105\u001B[0m     \u001B[38;5;28mself\u001B[39m\u001B[38;5;241m.\u001B[39mconfig[store_name][\u001B[38;5;241m1\u001B[39m]\u001B[38;5;241m.\u001B[39mappend(value)\n\u001B[1;32m    106\u001B[0m     \u001B[38;5;28mself\u001B[39m\u001B[38;5;241m.\u001B[39mstored_ids[store_name]\u001B[38;5;241m.\u001B[39madd(\u001B[38;5;28mid\u001B[39m(value))\n",
      "\u001B[0;31mValueError\u001B[0m: You cannot add new elements of state (variables or sub-layers) to a layer that is already built. All state must be created in the `__init__()` method or in the `build()` method."
     ]
    }
   ],
   "source": [
    "l.weights = l1.weights"
   ],
   "metadata": {
    "collapsed": false,
    "ExecuteTime": {
     "end_time": "2024-03-13T11:47:27.796315Z",
     "start_time": "2024-03-13T11:47:27.739973Z"
    }
   },
   "id": "ae9ad4b1774e5c0d",
   "execution_count": 44
  },
  {
   "cell_type": "code",
   "outputs": [
    {
     "data": {
      "text/plain": "[]"
     },
     "execution_count": 81,
     "metadata": {},
     "output_type": "execute_result"
    }
   ],
   "source": [
    "l = keras_nlp.layers.TransformerEncoder.from_config(model1.layers[1].get_config())\n",
    "# l.build((None, 768))\n",
    "l.weights"
   ],
   "metadata": {
    "collapsed": false,
    "ExecuteTime": {
     "end_time": "2024-03-13T12:01:16.263487Z",
     "start_time": "2024-03-13T12:01:16.258260Z"
    }
   },
   "id": "71a2a21b86f3395f",
   "execution_count": 81
  },
  {
   "cell_type": "code",
   "outputs": [
    {
     "ename": "ValueError",
     "evalue": "You called `set_weights(weights)` on layer 'transformer_layer_1' with a weight list of length 16, but the layer was expecting 0 weights.",
     "output_type": "error",
     "traceback": [
      "\u001B[0;31m---------------------------------------------------------------------------\u001B[0m",
      "\u001B[0;31mValueError\u001B[0m                                Traceback (most recent call last)",
      "Cell \u001B[0;32mIn[73], line 1\u001B[0m\n\u001B[0;32m----> 1\u001B[0m \u001B[43ml\u001B[49m\u001B[38;5;241;43m.\u001B[39;49m\u001B[43mset_weights\u001B[49m\u001B[43m(\u001B[49m\u001B[43ml1\u001B[49m\u001B[38;5;241;43m.\u001B[39;49m\u001B[43mget_weights\u001B[49m\u001B[43m(\u001B[49m\u001B[43m)\u001B[49m\u001B[43m)\u001B[49m\n",
      "File \u001B[0;32m~/.local/lib/python3.11/site-packages/keras/src/layers/layer.py:645\u001B[0m, in \u001B[0;36mset_weights\u001B[0;34m(self, weights)\u001B[0m\n\u001B[1;32m    643\u001B[0m \u001B[38;5;28;01mdef\u001B[39;00m \u001B[38;5;21mset_weights\u001B[39m(\u001B[38;5;28mself\u001B[39m, weights):\n\u001B[1;32m    644\u001B[0m \u001B[38;5;250m    \u001B[39m\u001B[38;5;124;03m\"\"\"Sets the values of `layer.weights` from a list of NumPy arrays.\"\"\"\u001B[39;00m\n\u001B[0;32m--> 645\u001B[0m     layer_weights \u001B[38;5;241m=\u001B[39m \u001B[38;5;28mself\u001B[39m\u001B[38;5;241m.\u001B[39mweights\n\u001B[1;32m    646\u001B[0m     \u001B[38;5;28;01mif\u001B[39;00m \u001B[38;5;28mlen\u001B[39m(layer_weights) \u001B[38;5;241m!=\u001B[39m \u001B[38;5;28mlen\u001B[39m(weights):\n\u001B[1;32m    647\u001B[0m         \u001B[38;5;28;01mraise\u001B[39;00m \u001B[38;5;167;01mValueError\u001B[39;00m(\n\u001B[1;32m    648\u001B[0m             \u001B[38;5;124mf\u001B[39m\u001B[38;5;124m\"\u001B[39m\u001B[38;5;124mYou called `set_weights(weights)` on layer \u001B[39m\u001B[38;5;124m'\u001B[39m\u001B[38;5;132;01m{\u001B[39;00m\u001B[38;5;28mself\u001B[39m\u001B[38;5;241m.\u001B[39mname\u001B[38;5;132;01m}\u001B[39;00m\u001B[38;5;124m'\u001B[39m\u001B[38;5;124m \u001B[39m\u001B[38;5;124m\"\u001B[39m\n\u001B[1;32m    649\u001B[0m             \u001B[38;5;124mf\u001B[39m\u001B[38;5;124m\"\u001B[39m\u001B[38;5;124mwith a weight list of length \u001B[39m\u001B[38;5;132;01m{\u001B[39;00m\u001B[38;5;28mlen\u001B[39m(weights)\u001B[38;5;132;01m}\u001B[39;00m\u001B[38;5;124m, but the layer \u001B[39m\u001B[38;5;124m\"\u001B[39m\n\u001B[1;32m    650\u001B[0m             \u001B[38;5;124mf\u001B[39m\u001B[38;5;124m\"\u001B[39m\u001B[38;5;124mwas expecting \u001B[39m\u001B[38;5;132;01m{\u001B[39;00m\u001B[38;5;28mlen\u001B[39m(layer_weights)\u001B[38;5;132;01m}\u001B[39;00m\u001B[38;5;124m weights.\u001B[39m\u001B[38;5;124m\"\u001B[39m\n\u001B[1;32m    651\u001B[0m         )\n",
      "\u001B[0;31mValueError\u001B[0m: You called `set_weights(weights)` on layer 'transformer_layer_1' with a weight list of length 16, but the layer was expecting 0 weights."
     ]
    }
   ],
   "source": [
    "l.set_weights(l1.get_weights())"
   ],
   "metadata": {
    "collapsed": false,
    "ExecuteTime": {
     "end_time": "2024-03-13T11:56:46.484392Z",
     "start_time": "2024-03-13T11:56:46.412048Z"
    }
   },
   "id": "c4e49b730f5d0631",
   "execution_count": 73
  },
  {
   "cell_type": "code",
   "outputs": [
    {
     "data": {
      "text/plain": "[array([[[-7.78808594e-02, -1.84936523e-02, -3.30200195e-02, ...,\n          -6.03942871e-02, -2.22015381e-02,  1.22451782e-03],\n         [-4.49523926e-02, -7.23266602e-02,  2.18505859e-02, ...,\n           3.89709473e-02,  5.78308105e-02,  5.00488281e-02],\n         [ 5.99365234e-02,  2.25067139e-02, -8.50219727e-02, ...,\n           1.08642578e-01,  2.05421448e-03,  2.18582153e-03],\n         ...,\n         [ 5.67626953e-02,  4.89807129e-03,  5.99670410e-03, ...,\n           2.73513794e-03, -9.07592773e-02, -4.79431152e-02],\n         [-3.17993164e-02,  6.70776367e-02, -5.25512695e-02, ...,\n           6.34384155e-03, -9.50927734e-02, -3.26232910e-02],\n         [-2.29339600e-02, -7.37304688e-02,  8.08105469e-02, ...,\n          -9.87243652e-03, -4.98352051e-02,  3.57360840e-02]],\n \n        [[-2.54974365e-02, -8.56323242e-02, -2.86407471e-02, ...,\n          -3.13720703e-02,  5.45349121e-02, -3.83605957e-02],\n         [ 3.58886719e-02,  1.68762207e-02,  7.18994141e-02, ...,\n           9.12475586e-02, -1.21643066e-01,  1.96533203e-02],\n         [ 2.67486572e-02,  2.26855278e-04,  7.52563477e-02, ...,\n          -9.23461914e-02,  4.76684570e-02, -2.85644531e-02],\n         ...,\n         [ 1.27487183e-02,  4.66918945e-02, -1.03332520e-01, ...,\n           9.06982422e-02, -5.86853027e-02, -8.30078125e-02],\n         [-5.09033203e-02,  4.40368652e-02,  3.21350098e-02, ...,\n          -3.12194824e-02,  1.30386353e-02,  8.16040039e-02],\n         [ 4.01306152e-02,  4.98962402e-02,  4.08935547e-02, ...,\n          -8.86840820e-02, -2.69508362e-03,  1.84631348e-02]],\n \n        [[-2.37274170e-02, -3.25317383e-02, -9.99755859e-02, ...,\n          -8.42285156e-02,  2.60620117e-02,  6.69555664e-02],\n         [ 4.21752930e-02, -8.83178711e-02,  1.56555176e-02, ...,\n          -2.59246826e-02,  1.55029297e-02,  7.31811523e-02],\n         [ 1.01928711e-02,  8.03833008e-02,  2.52838135e-02, ...,\n           2.85949707e-02,  3.47900391e-02,  7.55615234e-02],\n         ...,\n         [-1.35040283e-02, -4.02221680e-02,  4.13513184e-02, ...,\n           1.94396973e-02,  1.32080078e-01, -2.88391113e-02],\n         [ 5.97839355e-02,  6.87866211e-02,  1.23718262e-01, ...,\n           2.94952393e-02, -8.82568359e-02,  5.17578125e-02],\n         [-7.55004883e-02,  7.08007812e-02,  1.26220703e-01, ...,\n           3.32336426e-02, -1.37710571e-02, -4.79736328e-02]],\n \n        ...,\n \n        [[ 4.04357910e-03, -8.70361328e-02, -3.22570801e-02, ...,\n          -5.73120117e-02, -2.95639038e-03, -5.21240234e-02],\n         [ 1.98364258e-02, -2.32696533e-02, -1.42097473e-03, ...,\n          -1.19812012e-01,  1.79809570e-01,  1.85852051e-02],\n         [-3.01666260e-02,  1.35986328e-01,  9.22851562e-02, ...,\n           5.12695312e-02,  2.58331299e-02,  3.14636230e-02],\n         ...,\n         [-1.01684570e-01,  8.14056396e-03, -1.14807129e-01, ...,\n          -1.48315430e-01,  1.68762207e-02,  4.00695801e-02],\n         [ 5.02319336e-02, -2.11791992e-01, -5.10864258e-02, ...,\n           5.49316406e-02,  1.47628784e-02,  6.31332397e-03],\n         [-3.27453613e-02, -9.74731445e-02, -9.85107422e-02, ...,\n           2.66418457e-02,  9.32617188e-02,  7.01293945e-02]],\n \n        [[ 5.78308105e-02,  3.93676758e-02, -3.20739746e-02, ...,\n           5.42297363e-02, -2.78167725e-02, -2.62756348e-02],\n         [ 1.84020996e-02,  3.73840332e-02,  7.31658936e-03, ...,\n           2.46582031e-02,  9.27734375e-02,  7.33947754e-03],\n         [ 2.11029053e-02, -1.54266357e-02, -2.00195312e-02, ...,\n          -5.27648926e-02, -2.07519531e-03,  7.02285767e-03],\n         ...,\n         [-5.76782227e-02, -8.90502930e-02,  3.49235535e-03, ...,\n           4.62036133e-02, -7.73925781e-02,  7.60650635e-03],\n         [ 1.08154297e-01,  1.06445312e-01, -3.88908386e-03, ...,\n          -1.11938477e-01, -9.66186523e-02, -7.63549805e-02],\n         [ 9.83276367e-02, -4.32434082e-02,  6.32324219e-02, ...,\n          -9.25903320e-02, -2.20794678e-02, -9.44213867e-02]],\n \n        [[-8.94165039e-03,  1.23229980e-01, -2.30407715e-02, ...,\n          -3.01971436e-02,  6.41479492e-02, -1.38702393e-02],\n         [ 3.14636230e-02, -1.06201172e-02, -4.15954590e-02, ...,\n          -4.51965332e-02,  2.26593018e-02, -3.78417969e-02],\n         [ 6.81762695e-02,  1.23657227e-01, -8.17260742e-02, ...,\n           1.41067505e-02,  8.03833008e-02,  7.62939453e-02],\n         ...,\n         [ 5.20019531e-02,  2.93579102e-02, -7.45239258e-02, ...,\n           4.66918945e-02, -5.89904785e-02, -4.09240723e-02],\n         [-3.67641449e-04,  2.36892700e-03, -1.57928467e-02, ...,\n          -1.36230469e-01,  5.68237305e-02, -7.58056641e-02],\n         [-2.54669189e-02,  7.92236328e-02, -3.48815918e-02, ...,\n          -1.02691650e-02, -6.28051758e-02, -1.74522400e-04]]],\n       dtype=float32),\n array([[ 2.26806641e-01, -8.63037109e-02,  9.85717773e-02,\n         -8.25195312e-02, -5.01251221e-03,  1.56250000e-01,\n         -1.11389160e-01, -3.32260132e-03, -1.94091797e-01,\n          2.94677734e-01, -2.75421143e-02, -2.45513916e-02,\n         -5.69915771e-03,  3.32519531e-01, -4.44030762e-02,\n          9.18579102e-02,  2.16308594e-01,  3.65257263e-03,\n          1.19018555e-01,  5.14526367e-02,  8.40454102e-02,\n          6.84204102e-02,  1.39404297e-01,  1.87744141e-01,\n          4.50744629e-02, -8.64257812e-02, -2.08129883e-01,\n          1.18713379e-01,  9.94873047e-02,  3.91540527e-02,\n          2.70507812e-01,  5.56335449e-02, -4.86450195e-02,\n         -1.90917969e-01, -1.84814453e-01, -2.00439453e-01,\n          9.42993164e-02, -9.67407227e-02,  2.58056641e-01,\n         -1.33056641e-01, -2.05322266e-01, -1.67724609e-01,\n         -6.65283203e-02,  1.81762695e-01, -6.54907227e-02,\n          9.46807861e-03,  1.77154541e-02,  3.48510742e-02,\n          1.88354492e-01, -4.33654785e-02,  9.32617188e-02,\n         -3.07128906e-01, -5.59387207e-02, -3.22998047e-01,\n          3.44848633e-03,  1.00479126e-02,  1.03820801e-01,\n         -1.06140137e-01, -6.06079102e-02,  5.63812256e-03,\n          2.35595703e-02,  4.00085449e-02,  1.02050781e-01,\n         -1.24084473e-01],\n        [ 5.90209961e-02,  1.39892578e-01,  1.65039062e-01,\n         -7.82775879e-03,  1.97509766e-01,  6.67114258e-02,\n         -1.63085938e-01, -1.66015625e-01,  1.00830078e-01,\n         -1.27319336e-01, -1.92626953e-01,  5.10253906e-02,\n         -1.38916016e-01,  1.17858887e-01,  2.41851807e-02,\n          6.78710938e-02, -1.46728516e-01, -7.40966797e-02,\n          1.77978516e-01,  1.23962402e-01, -1.11389160e-02,\n         -9.01489258e-02, -1.74560547e-01, -2.47680664e-01,\n          1.12976074e-01, -5.16967773e-02,  4.23339844e-01,\n         -1.20788574e-01,  2.18017578e-01,  6.79931641e-02,\n         -3.94042969e-01,  7.91931152e-03, -3.52783203e-02,\n          5.43518066e-02, -4.40673828e-02,  2.89306641e-01,\n         -2.52075195e-02,  2.84423828e-02,  1.71630859e-01,\n          2.74353027e-02, -2.05810547e-01, -4.32739258e-02,\n         -1.89331055e-01, -5.18188477e-02,  1.99584961e-01,\n          1.59423828e-01,  2.65136719e-01,  4.34875488e-03,\n         -6.21414185e-03, -1.28021240e-02, -3.61022949e-02,\n          2.15332031e-01,  3.15917969e-01, -1.22253418e-01,\n         -4.92553711e-02, -7.13500977e-02,  3.55224609e-02,\n         -4.33654785e-02, -2.20794678e-02, -4.76989746e-02,\n         -1.50634766e-01, -5.76782227e-02,  1.15539551e-01,\n          3.13110352e-02],\n        [-1.11083984e-01,  2.45971680e-01,  2.17285156e-01,\n          1.10229492e-01,  2.00500488e-02, -2.23388672e-01,\n         -2.93273926e-02,  8.28247070e-02, -1.32141113e-02,\n          2.19970703e-01, -1.07116699e-01,  4.41589355e-02,\n         -2.12890625e-01,  1.31225586e-01,  1.46484375e-02,\n          5.81054688e-02,  2.03735352e-01,  8.93402100e-03,\n         -2.44750977e-01, -8.16345215e-03, -1.91406250e-01,\n         -2.31689453e-01, -3.36074829e-03, -1.85424805e-01,\n         -8.63037109e-02, -3.68652344e-02,  2.79998779e-02,\n          6.61087036e-03, -8.44726562e-02, -1.45874023e-02,\n         -5.02319336e-02, -2.22412109e-01, -1.80053711e-01,\n         -2.87780762e-02,  8.49723816e-04, -7.45239258e-02,\n         -7.33642578e-02,  1.43188477e-01,  7.81250000e-02,\n          6.00891113e-02,  1.70288086e-01,  1.90429688e-02,\n         -1.46240234e-01,  2.04101562e-01,  1.35574341e-02,\n         -2.04711914e-01,  7.87353516e-02,  8.50830078e-02,\n         -4.58984375e-02,  1.27197266e-01, -1.88842773e-01,\n         -6.01501465e-02, -2.44628906e-01,  1.52343750e-01,\n         -1.05438232e-02,  1.37084961e-01,  1.24450684e-01,\n         -2.38769531e-01,  5.95474243e-03,  1.51138306e-02,\n          1.64794922e-01,  2.78076172e-01, -5.06401062e-04,\n         -9.00268555e-03],\n        [ 6.18743896e-03,  1.50878906e-01,  8.23364258e-02,\n          6.28662109e-02,  1.20422363e-01, -9.30175781e-02,\n         -5.10559082e-02, -1.22375488e-01,  5.27343750e-02,\n         -1.23413086e-01,  2.54882812e-01,  4.08554077e-03,\n         -6.85424805e-02,  9.60693359e-02, -1.72851562e-01,\n         -2.36328125e-01, -2.45483398e-01,  2.48291016e-01,\n         -1.01013184e-01,  4.56848145e-02,  1.08489990e-02,\n          1.21917725e-02, -1.47583008e-01,  1.20925903e-02,\n          8.95996094e-02,  2.94921875e-01,  7.17773438e-02,\n         -4.84008789e-02, -3.17138672e-01, -4.10461426e-02,\n          1.25610352e-01, -1.08398438e-01,  1.21887207e-01,\n         -2.63977051e-02,  3.28613281e-01, -3.08349609e-01,\n         -3.27758789e-02,  1.22863770e-01,  2.46124268e-02,\n         -1.69189453e-01,  1.89971924e-02, -1.23691559e-03,\n          1.76147461e-01,  2.39990234e-01,  2.68798828e-01,\n          7.83081055e-02,  1.27807617e-01, -1.58691406e-01,\n         -5.40161133e-02, -2.62603760e-02,  8.77075195e-02,\n         -2.51464844e-01, -4.72717285e-02,  1.01867676e-01,\n         -2.34985352e-02,  1.27075195e-01,  1.43798828e-01,\n         -4.78820801e-02, -5.70983887e-02,  1.43920898e-01,\n          1.29394531e-02,  2.18200684e-02,  1.19018555e-01,\n         -1.55273438e-01],\n        [-2.90374756e-02, -4.06494141e-02,  3.66516113e-02,\n          5.23376465e-02,  5.25207520e-02,  3.54919434e-02,\n          4.31213379e-02, -8.93402100e-03, -5.21545410e-02,\n         -6.62841797e-02,  5.51452637e-02,  2.65960693e-02,\n          1.52954102e-01,  8.86230469e-02,  7.70263672e-02,\n         -1.48437500e-01,  1.59423828e-01, -1.77246094e-01,\n         -1.08764648e-01, -2.82745361e-02,  2.06787109e-01,\n          1.35864258e-01,  3.47595215e-02,  5.05676270e-02,\n         -8.83789062e-02, -6.53076172e-02, -6.92749023e-02,\n          1.10839844e-01,  2.52685547e-01, -1.01623535e-01,\n          2.85949707e-02,  1.93115234e-01,  7.69653320e-02,\n          1.74804688e-01, -1.78375244e-02, -4.78820801e-02,\n         -4.64782715e-02, -6.55517578e-02,  2.15087891e-01,\n          2.32696533e-02, -1.07971191e-01, -2.53906250e-02,\n          2.91748047e-02,  3.50952148e-02, -1.65557861e-02,\n          4.09851074e-02, -5.94787598e-02,  2.19116211e-02,\n          1.93237305e-01, -1.95922852e-01,  8.29467773e-02,\n         -1.01867676e-01, -2.17285156e-02, -3.02886963e-02,\n          6.34155273e-02, -2.93579102e-02, -1.19140625e-01,\n         -4.82482910e-02, -1.30462646e-02, -5.48706055e-02,\n         -3.41415405e-03, -6.74438477e-02,  1.78375244e-02,\n         -4.94079590e-02],\n        [ 5.36193848e-02, -5.45959473e-02, -4.79736328e-02,\n          2.64648438e-01,  1.76269531e-01, -8.22753906e-02,\n         -6.00280762e-02,  2.33306885e-02, -2.24609375e-02,\n         -8.22753906e-02, -9.25903320e-02,  1.05590820e-01,\n         -1.54037476e-02,  5.53894043e-02,  1.00631714e-02,\n         -1.59301758e-02,  8.26416016e-02,  4.60815430e-03,\n         -3.04260254e-02,  9.86328125e-02, -1.13708496e-01,\n         -9.08813477e-02,  1.10595703e-01,  3.15856934e-02,\n         -3.54919434e-02,  2.65625000e-01,  1.75781250e-02,\n         -6.71997070e-02,  2.61878967e-03, -1.70532227e-01,\n          9.22241211e-02,  5.39245605e-02, -1.07360840e-01,\n          1.80969238e-02,  1.57470703e-02,  6.77490234e-02,\n          1.19094849e-02,  3.10058594e-02,  3.17993164e-02,\n          1.86462402e-02,  2.20794678e-02, -9.30786133e-02,\n         -6.23474121e-02, -9.35058594e-02, -6.10733032e-03,\n          2.51464844e-02,  2.45819092e-02,  5.87158203e-02,\n          4.26330566e-02,  2.12860107e-02,  8.42285156e-02,\n          1.69189453e-01,  1.05224609e-01, -1.54342651e-02,\n         -6.67114258e-02,  8.11767578e-02, -5.55419922e-02,\n         -6.86035156e-02, -7.25936890e-03,  1.57928467e-02,\n          1.16821289e-01, -1.05346680e-01,  5.99670410e-02,\n         -1.13891602e-01],\n        [-4.27246094e-02, -9.63134766e-02,  2.59521484e-01,\n         -1.60644531e-01, -2.34985352e-01, -8.81347656e-02,\n         -4.54711914e-02,  1.18530273e-01, -1.07269287e-02,\n         -2.02270508e-01,  2.14355469e-01,  1.10412598e-01,\n          2.73681641e-01, -3.35937500e-01, -3.77416611e-04,\n          2.62451172e-01,  1.19812012e-01,  2.33032227e-01,\n          2.74414062e-01,  2.96325684e-02,  9.15527344e-02,\n          2.31567383e-01,  2.13012695e-01,  4.15802002e-03,\n         -2.47558594e-01,  8.40454102e-02, -2.70019531e-01,\n          2.43286133e-01,  2.53906250e-01,  1.23046875e-01,\n         -2.06756592e-02, -2.49145508e-01, -4.94079590e-02,\n         -2.32666016e-01, -2.47924805e-01,  2.53173828e-01,\n         -2.82958984e-01, -7.74383545e-03, -2.46215820e-01,\n         -2.38769531e-01,  1.34277344e-01, -2.19360352e-01,\n         -2.01721191e-02,  1.62963867e-01,  2.41943359e-01,\n         -1.97509766e-01,  2.67089844e-01, -2.54638672e-01,\n         -2.23510742e-01,  2.75390625e-01, -1.80175781e-01,\n         -2.06420898e-01, -2.83203125e-01, -2.56103516e-01,\n          1.04919434e-01, -1.47705078e-01, -2.06787109e-01,\n          1.30615234e-01, -1.18286133e-01,  1.47628784e-02,\n          2.55859375e-01,  1.56616211e-01, -2.47192383e-01,\n          3.09326172e-01],\n        [-1.69067383e-01,  3.13476562e-01,  5.04455566e-02,\n          1.56494141e-01,  2.34985352e-01, -1.70654297e-01,\n          1.67968750e-01, -1.58386230e-02, -2.29248047e-01,\n         -2.83447266e-01,  1.34277344e-01, -1.49291992e-01,\n          4.02832031e-02, -2.08129883e-02,  1.90551758e-01,\n          2.38037109e-01, -1.84570312e-01, -4.96826172e-02,\n          2.99316406e-01, -2.53753662e-02, -3.68347168e-02,\n          2.54394531e-01,  2.82745361e-02, -6.11572266e-02,\n         -2.53601074e-02, -1.67236328e-01, -2.45239258e-01,\n          2.55615234e-01,  1.01257324e-01, -1.09710693e-02,\n         -2.24121094e-01, -2.45971680e-01,  8.44573975e-03,\n         -1.73706055e-01,  1.28417969e-01,  7.75756836e-02,\n          2.78808594e-01,  1.06079102e-01, -2.51953125e-01,\n          3.81278992e-03,  5.12084961e-02,  2.16308594e-01,\n         -1.59912109e-02, -1.09985352e-01, -1.98486328e-01,\n          5.23986816e-02, -1.67602539e-01, -2.51220703e-01,\n         -2.00439453e-01, -6.00891113e-02,  5.97534180e-02,\n         -2.03613281e-01, -1.84936523e-02,  1.62353516e-01,\n         -2.05932617e-01,  8.22753906e-02,  9.13085938e-02,\n          2.50488281e-01,  3.57971191e-02,  2.46704102e-01,\n         -2.96142578e-01,  6.10961914e-02,  2.42919922e-02,\n         -3.48205566e-02],\n        [-2.19726562e-02,  9.50927734e-02,  4.66918945e-02,\n         -8.22753906e-02,  6.04553223e-02,  1.04614258e-01,\n          6.69555664e-02, -5.47790527e-02, -8.57543945e-02,\n         -3.43561172e-04,  5.65185547e-02, -9.56420898e-02,\n         -7.51953125e-02,  1.71966553e-02, -1.61743164e-01,\n          7.04956055e-02, -2.45666504e-02, -5.74035645e-02,\n         -9.35668945e-02,  3.28063965e-02, -7.11669922e-02,\n         -2.33001709e-02,  1.09985352e-01, -2.69012451e-02,\n         -6.55517578e-02, -1.88446045e-02,  3.27453613e-02,\n         -9.15527344e-02, -2.58056641e-01,  5.39550781e-02,\n         -1.11877441e-01, -1.61743164e-02, -9.43603516e-02,\n         -1.50451660e-02, -1.84082031e-01,  4.92248535e-02,\n         -7.06176758e-02,  1.05590820e-02,  4.51049805e-02,\n          1.95617676e-02, -1.79931641e-01,  6.57348633e-02,\n         -1.24389648e-01,  5.88226318e-03, -4.76684570e-02,\n          4.46472168e-02, -5.86318970e-03,  7.37667084e-04,\n          1.17370605e-01, -7.02514648e-02, -4.94689941e-02,\n          1.57226562e-01, -1.05667114e-02, -2.23388672e-02,\n          8.02001953e-02, -1.31469727e-01, -1.28295898e-01,\n         -4.48608398e-02,  1.11999512e-01,  9.60083008e-02,\n          6.44531250e-02, -2.51220703e-01,  5.57556152e-02,\n         -6.25610352e-02],\n        [ 3.14697266e-01,  2.49633789e-01, -2.46337891e-01,\n          2.48901367e-01, -4.23889160e-02,  2.45117188e-01,\n         -3.12500000e-01,  6.07910156e-02, -2.32543945e-01,\n         -2.63183594e-01,  1.29272461e-01,  8.55712891e-02,\n          1.44042969e-01, -2.27783203e-01,  1.49780273e-01,\n          2.48168945e-01, -6.21643066e-02, -2.45361328e-01,\n         -9.64965820e-02, -2.27539062e-01, -3.28369141e-01,\n          1.28865242e-04,  2.42675781e-01,  2.62939453e-01,\n         -4.60815430e-02, -2.48291016e-01, -3.29101562e-01,\n         -8.77075195e-02,  2.71240234e-01, -1.17431641e-01,\n          2.45483398e-01, -1.81030273e-01,  8.30688477e-02,\n         -3.91601562e-01, -1.26953125e-01, -2.29736328e-01,\n         -2.57812500e-01, -2.40844727e-01,  2.68798828e-01,\n          2.50976562e-01,  2.45117188e-01,  3.98559570e-02,\n         -3.57971191e-02,  3.16406250e-01, -3.93066406e-02,\n          1.80419922e-01, -2.17895508e-01,  3.60107422e-02,\n         -2.49877930e-01, -2.46215820e-01, -6.04248047e-02,\n          2.22167969e-01, -7.10449219e-02,  2.54058838e-02,\n          2.77099609e-01,  1.87988281e-01, -2.69531250e-01,\n         -1.48681641e-01,  2.70751953e-01,  2.49633789e-01,\n          2.81982422e-01, -8.27026367e-02, -1.72119141e-01,\n         -2.59765625e-01],\n        [-4.29687500e-02, -4.47387695e-02,  5.75561523e-02,\n          7.83081055e-02,  6.20727539e-02, -1.12915039e-01,\n          8.33129883e-02,  1.83471680e-01, -2.69287109e-01,\n         -1.89208984e-01, -1.87683105e-02, -4.81872559e-02,\n         -4.16564941e-02, -6.86035156e-02, -1.79748535e-02,\n         -7.79418945e-02,  7.84301758e-02, -1.28707886e-02,\n          1.23229980e-01, -3.05664062e-01, -2.69889832e-03,\n          5.23376465e-02,  2.15698242e-01,  3.82690430e-02,\n         -2.77099609e-02,  1.17980957e-01, -8.11767578e-03,\n          2.55615234e-01,  1.23352051e-01,  3.21655273e-02,\n         -1.19018555e-01,  1.93725586e-01,  2.88696289e-02,\n         -7.06176758e-02,  9.03320312e-02, -6.72607422e-02,\n         -8.08105469e-02,  2.36816406e-01, -1.46728516e-01,\n         -8.26416016e-02, -1.28097534e-02, -7.93457031e-02,\n         -5.14221191e-02,  9.44519043e-03, -8.02612305e-03,\n          1.99340820e-01, -1.51000977e-01,  2.46948242e-01,\n         -2.59033203e-01,  1.07955933e-02, -1.42456055e-01,\n          1.22009277e-01, -1.24877930e-01, -5.67245483e-03,\n         -2.34252930e-01,  7.45849609e-02,  6.03637695e-02,\n          1.68609619e-02,  1.84692383e-01, -5.48095703e-02,\n          3.97338867e-02, -1.45996094e-01, -1.59912109e-01,\n          9.53979492e-02],\n        [ 8.95385742e-02,  7.03811646e-03, -4.76989746e-02,\n          6.19506836e-02, -5.17578125e-02,  4.10156250e-02,\n         -5.27343750e-02, -1.31591797e-01, -1.20727539e-01,\n         -2.06451416e-02, -8.87451172e-02,  2.45513916e-02,\n          1.66259766e-01,  1.48773193e-02, -4.77600098e-02,\n          1.01928711e-01,  1.42860413e-03, -3.03344727e-02,\n         -1.19628906e-01, -3.79028320e-02, -3.04870605e-02,\n          1.27441406e-01, -2.09472656e-01,  3.43933105e-02,\n         -9.12475586e-03, -1.17065430e-01, -1.35375977e-01,\n          7.36694336e-02, -8.90502930e-02,  1.14257812e-01,\n         -4.93774414e-02, -3.04687500e-01, -1.12548828e-01,\n          4.40063477e-02,  1.48803711e-01,  1.62841797e-01,\n          8.30688477e-02,  5.47409058e-03, -3.86962891e-02,\n         -5.24902344e-02, -4.20227051e-02,  1.54663086e-01,\n          2.65197754e-02, -3.23791504e-02,  6.26831055e-02,\n          2.02026367e-02, -3.01666260e-02,  2.11181641e-02,\n          2.92205811e-02, -6.11267090e-02, -1.79931641e-01,\n         -4.66156006e-03, -1.00646973e-01,  3.29589844e-02,\n         -8.72192383e-02,  1.08215332e-01,  1.17492676e-01,\n          3.39355469e-01, -3.86962891e-02,  1.40457153e-02,\n          6.86035156e-02,  4.53186035e-02, -1.12487793e-01,\n          6.31713867e-02]], dtype=float32),\n array([[[ 0.0602417 , -0.06427002, -0.04302979, ...,  0.03762817,\n          -0.00748825,  0.15039062],\n         [ 0.05444336, -0.00756454, -0.11883545, ...,  0.02674866,\n          -0.08514404, -0.08453369],\n         [ 0.02412415, -0.00580597, -0.00071192, ..., -0.0063591 ,\n           0.07281494,  0.04147339],\n         ...,\n         [ 0.08105469,  0.00679779,  0.02487183, ..., -0.04550171,\n          -0.01635742, -0.02072144],\n         [-0.05636597,  0.05844116,  0.09490967, ..., -0.07244873,\n           0.02166748,  0.11962891],\n         [ 0.02383423,  0.12731934, -0.04251099, ..., -0.01911926,\n          -0.03338623,  0.05728149]],\n \n        [[ 0.00562286,  0.01885986,  0.03805542, ..., -0.05477905,\n           0.06066895, -0.0053215 ],\n         [ 0.03457642,  0.00801849,  0.02204895, ..., -0.08154297,\n          -0.09277344, -0.07446289],\n         [-0.025177  ,  0.02944946,  0.11804199, ..., -0.02229309,\n           0.09161377, -0.09790039],\n         ...,\n         [-0.04669189,  0.0647583 , -0.04959106, ...,  0.08880615,\n           0.09344482, -0.02455139],\n         [ 0.01922607, -0.05947876, -0.01965332, ...,  0.00862885,\n          -0.07434082, -0.02149963],\n         [ 0.0249939 ,  0.00728989,  0.013237  , ..., -0.02920532,\n           0.08306885, -0.01432037]],\n \n        [[-0.06359863,  0.0077095 , -0.07086182, ..., -0.0395813 ,\n           0.08294678, -0.17163086],\n         [ 0.07305908,  0.17834473,  0.01333618, ...,  0.05905151,\n           0.01503754,  0.00932312],\n         [ 0.0440979 , -0.0625    , -0.1315918 , ..., -0.00737   ,\n          -0.03283691,  0.01441956],\n         ...,\n         [-0.0657959 , -0.01965332,  0.06640625, ...,  0.08587646,\n           0.1517334 , -0.11047363],\n         [-0.11273193, -0.03829956, -0.00848389, ...,  0.05023193,\n           0.15405273, -0.0491333 ],\n         [ 0.0196228 ,  0.03921509,  0.01304626, ...,  0.00183773,\n           0.01968384,  0.06945801]],\n \n        ...,\n \n        [[ 0.03601074,  0.01794434, -0.0836792 , ..., -0.0173645 ,\n           0.00440216,  0.06799316],\n         [-0.03070068, -0.1227417 ,  0.02554321, ...,  0.07684326,\n           0.2088623 , -0.01573181],\n         [-0.01914978, -0.02874756,  0.0461731 , ...,  0.00590515,\n          -0.03074646,  0.02377319],\n         ...,\n         [-0.07189941, -0.05984497, -0.09417725, ..., -0.04351807,\n           0.03683472,  0.00722504],\n         [ 0.09307861, -0.12548828, -0.01459503, ...,  0.08911133,\n          -0.04669189,  0.00232315],\n         [-0.03408813,  0.00465012, -0.03900146, ...,  0.07476807,\n           0.12322998, -0.09020996]],\n \n        [[ 0.06008911, -0.08453369,  0.11572266, ...,  0.09539795,\n          -0.01948547,  0.14550781],\n         [ 0.10498047, -0.00957489,  0.06216431, ...,  0.02607727,\n           0.03475952, -0.06750488],\n         [ 0.02540588,  0.06646729,  0.02972412, ..., -0.03475952,\n          -0.01016235, -0.02954102],\n         ...,\n         [ 0.03134155, -0.07739258,  0.08630371, ...,  0.04425049,\n          -0.01276398, -0.01153564],\n         [-0.04043579,  0.03237915,  0.05578613, ...,  0.04421997,\n           0.04077148,  0.02749634],\n         [ 0.03216553, -0.04351807, -0.07128906, ...,  0.09814453,\n          -0.08288574, -0.03022766]],\n \n        [[ 0.07470703, -0.01794434, -0.03045654, ..., -0.00464249,\n           0.01678467,  0.02104187],\n         [-0.02374268,  0.01907349, -0.10473633, ..., -0.06872559,\n          -0.06848145, -0.07019043],\n         [ 0.02560425, -0.00959015, -0.10198975, ..., -0.09588623,\n           0.08966064, -0.03256226],\n         ...,\n         [ 0.03034973,  0.03204346,  0.01963806, ..., -0.00028563,\n          -0.10998535, -0.04220581],\n         [-0.06347656,  0.01247406, -0.05618286, ..., -0.0592041 ,\n           0.03988647, -0.04983521],\n         [-0.01040649,  0.01986694, -0.08972168, ...,  0.10968018,\n          -0.02903748, -0.0296936 ]]], dtype=float32),\n array([[ 1.23262405e-04,  3.54647636e-05, -5.42998314e-05,\n          5.25712967e-05,  1.97887421e-04,  8.73208046e-05,\n          3.58223915e-05, -3.40342522e-05,  8.98838043e-05,\n         -1.43718719e-03,  9.60230827e-05, -8.97049904e-05,\n          6.34193420e-05, -6.70166016e-02,  8.64505768e-04,\n          1.99675560e-05, -2.84314156e-05,  2.19345093e-05,\n          2.14576721e-06, -7.40289688e-05,  8.51154327e-05,\n         -1.74045563e-05, -1.99699402e-03, -4.69684601e-05,\n          1.41501427e-04, -1.92999840e-04,  8.98838043e-04,\n          1.89304352e-03, -1.79409981e-05, -1.61528587e-04,\n         -2.14815140e-04,  6.39915466e-04,  9.14764404e-03,\n          1.99675560e-05,  7.73072243e-05, -6.09755516e-05,\n          6.27636909e-05, -3.23653221e-05,  1.44195557e-03,\n          4.68492508e-05,  1.07765198e-04, -4.95314598e-05,\n          5.10215759e-05,  2.52532959e-03,  9.60826874e-05,\n          1.16229057e-04,  1.26838684e-04, -3.75509262e-05,\n         -3.02791595e-05,  2.43186951e-05, -1.14738941e-04,\n          6.25000000e-02,  9.05394554e-05,  1.25000000e-01,\n          2.27451324e-04, -1.09434128e-04,  1.40666962e-03,\n          1.31130219e-06,  2.35319138e-04,  2.20537186e-05,\n         -1.61528587e-05, -2.02059746e-05,  6.21080399e-05,\n         -7.91549683e-05],\n        [-4.78625298e-05, -4.43458557e-05,  9.80496407e-05,\n          4.72664833e-05, -7.29560852e-05,  3.11136246e-05,\n         -1.05023384e-04, -5.13792038e-05,  1.99556351e-04,\n         -2.31862068e-05,  5.33461571e-05,  5.78761101e-05,\n         -9.05990601e-06,  3.58772278e-03, -5.10215759e-05,\n          5.24520874e-05,  6.13927841e-06, -5.22613525e-04,\n         -2.38418579e-05,  6.03199005e-05,  6.91413879e-06,\n          1.25169754e-06,  1.01327896e-06, -3.75509262e-06,\n         -1.34587288e-04,  5.80549240e-05,  6.25000000e-02,\n          5.85913658e-05, -3.23653221e-05, -9.65595245e-06,\n          1.72734261e-04,  8.47578049e-05,  2.48551369e-05,\n          3.26037407e-05,  4.47630882e-05, -1.82390213e-05,\n         -4.47630882e-05, -9.59634781e-05,  5.24520874e-06,\n          1.31726265e-04,  2.00271606e-05, -6.81281090e-05,\n         -4.72068787e-05,  1.72257423e-05, -3.12805176e-04,\n          2.38418579e-07, -2.40802765e-05,  7.57575035e-05,\n          0.00000000e+00,  6.05583191e-05,  1.10328197e-04,\n         -1.96695328e-06,  3.76319885e-03,  1.07288361e-04,\n          1.56760216e-05,  1.09672546e-05,  1.77741051e-04,\n         -8.94069672e-07, -2.68459320e-04, -2.90393829e-04,\n          3.99351120e-06, -7.58171082e-05,  3.45706940e-06,\n          2.51197815e-03],\n        [-2.98976898e-04,  1.07666016e-01, -2.12311745e-04,\n         -3.60012054e-05, -1.49130821e-04, -1.03950500e-04,\n          1.60098076e-04,  3.19480896e-05, -9.12189484e-04,\n         -6.33001328e-05, -1.96099281e-05, -1.87754631e-05,\n          6.27040863e-05,  1.01268291e-04, -3.49283218e-04,\n         -7.21216202e-06,  3.02195549e-05,  4.80413437e-05,\n          8.58306885e-06, -3.50236893e-04, -3.89218330e-05,\n         -2.08616257e-05,  2.48432159e-04, -6.25000000e-02,\n          4.77433205e-05,  2.95042992e-05, -1.37090683e-05,\n         -4.44650650e-05,  2.55107880e-05,  1.25169754e-06,\n         -2.54511833e-05, -1.34468079e-04, -4.13656235e-05,\n          3.02195549e-05, -9.70959663e-05, -1.57737732e-03,\n         -1.02519989e-03, -6.79492950e-06,  6.06536865e-04,\n          1.40666962e-05, -2.50935555e-05, -3.15904617e-05,\n          1.62124634e-05,  7.09891319e-05,  7.28130341e-04,\n         -2.32543945e-02,  1.34825706e-04,  5.68389893e-04,\n          1.51276588e-04, -1.25169754e-04, -6.85453415e-05,\n         -1.30653381e-04,  9.68575478e-05, -3.38554382e-05,\n         -3.40342522e-05, -2.55703926e-05,  4.77313995e-04,\n         -2.12073326e-04,  2.49147415e-05,  2.50339508e-06,\n          2.09808350e-03,  6.28051758e-02,  1.47700310e-04,\n         -1.83463097e-04],\n        [-5.65648079e-05,  5.17845154e-04, -1.03187561e-03,\n          3.25679779e-04,  4.65512276e-05,  6.55651093e-05,\n         -5.59091568e-05, -4.01735306e-05,  1.74045563e-04,\n         -4.96506691e-05, -9.74655151e-04,  8.22544098e-05,\n          2.89082527e-05,  6.07967377e-05,  9.17911530e-04,\n         -7.19428062e-05,  6.66975975e-05,  2.81095505e-04,\n          1.69873238e-05, -5.43594360e-04, -9.31620598e-05,\n          5.24520874e-06, -7.43865967e-05,  3.89218330e-05,\n         -7.11083412e-05,  2.45094299e-03,  3.42130661e-05,\n          9.04083252e-04,  6.52790070e-04, -1.80625916e-03,\n          5.08427620e-05,  2.62260437e-06, -7.07507133e-05,\n         -1.05917454e-04, -8.78906250e-02,  2.65836716e-05,\n          1.45244598e-03, -1.81198120e-05, -7.24792480e-05,\n         -4.61339951e-05, -1.09672546e-04, -5.76972961e-04,\n         -2.56776810e-04, -5.63859940e-05, -6.74724579e-04,\n          7.31348991e-05, -1.26123428e-04, -3.56435776e-05,\n          8.81552696e-05,  1.10912323e-03, -3.98159027e-05,\n          5.22613525e-04,  1.51538849e-03,  2.40683556e-04,\n         -1.85370445e-05, -1.40428543e-04, -9.05394554e-05,\n         -2.99811363e-05,  2.47955322e-05, -4.73260880e-05,\n         -2.04443932e-05, -2.56299973e-06,  1.24835968e-03,\n          7.95125961e-05],\n        [ 3.68952751e-05,  8.09431076e-05,  1.31607056e-04,\n         -1.51872635e-04, -1.46508217e-04, -3.73125076e-05,\n         -3.62777710e-03, -4.41074371e-05, -1.13248825e-04,\n         -1.92403793e-04, -3.36170197e-05,  3.86238098e-05,\n         -4.47845459e-03, -2.08616257e-05, -4.91738319e-05,\n          1.87158585e-05, -2.58684158e-05,  6.25000000e-02,\n         -3.80277634e-05,  9.13143158e-05, -1.23023987e-04,\n          5.31077385e-05,  1.01447105e-04,  2.34246254e-05,\n          6.73532486e-06,  2.99215317e-05, -2.00867653e-05,\n         -1.35803223e-03, -7.81860352e-02,  1.81794167e-05,\n          5.78761101e-05,  1.58548355e-05,  1.38401985e-04,\n         -7.71331787e-03,  1.78456306e-04, -6.70552254e-05,\n         -1.23977661e-05,  1.55353546e-03, -6.25000000e-02,\n          3.93986702e-05,  1.11758709e-04, -1.18851662e-04,\n          7.06315041e-05,  5.69820404e-05,  6.28829002e-05,\n         -4.28557396e-05, -3.48687172e-05, -2.84910202e-05,\n          1.17599964e-04,  1.07669830e-03,  1.13308430e-04,\n         -9.95397568e-06,  3.23057175e-05, -5.89489937e-05,\n          7.80224800e-05,  5.42402267e-06,  4.14657593e-03,\n         -2.68220901e-05, -5.53727150e-05,  4.61935997e-05,\n          2.69412994e-04, -1.07765198e-04,  1.04963779e-04,\n          7.04526901e-05],\n        [ 1.63316727e-05,  4.10079956e-05, -1.18613243e-05,\n         -4.82788086e-02, -5.15580177e-05, -9.59634781e-06,\n         -6.12139702e-05, -3.50475311e-05, -1.24573708e-05,\n         -6.65783882e-05,  5.94854355e-05, -7.74860382e-05,\n         -2.06232071e-05, -5.96046448e-08,  8.46982002e-05,\n          7.46846199e-05, -2.28881836e-05, -3.86238098e-04,\n         -1.31011009e-04, -5.45382500e-05, -5.12599945e-05,\n          6.81877136e-05,  2.16364861e-05, -2.00271606e-05,\n          5.37633896e-05, -6.25000000e-02, -1.56164169e-05,\n          4.41074371e-06,  7.74860382e-07, -6.28829002e-05,\n          3.31997871e-05,  1.96695328e-06,  8.28266144e-04,\n         -5.91874123e-05,  1.08718872e-04,  9.29832458e-06,\n         -3.12924385e-05,  7.77244568e-05,  6.38365746e-05,\n         -2.21133232e-05, -7.03334808e-06, -4.44650650e-05,\n         -7.97510147e-05,  3.82661819e-05, -2.71797180e-05,\n          1.03771687e-04, -2.98023224e-06,  1.71661377e-05,\n         -1.88350677e-05, -3.57627869e-07, -4.70876694e-06,\n          8.54134560e-05, -5.66244125e-05,  1.78813934e-05,\n          2.34842300e-05,  7.39097595e-05, -2.87890434e-05,\n          1.81913376e-04,  6.27040863e-05,  3.03387642e-05,\n         -3.03983688e-05, -4.75645065e-05,  4.16636467e-05,\n          1.68919563e-04],\n        [ 2.21133232e-05, -3.40342522e-05,  3.99351120e-06,\n         -1.19745731e-04, -2.91466713e-05, -1.56760216e-04,\n         -3.05175781e-05,  5.98430634e-05, -2.08616257e-06,\n          7.23600388e-05, -8.21948051e-05,  1.14798546e-04,\n          2.02775002e-04, -7.01546669e-05, -2.50339508e-06,\n          1.63555145e-04, -2.12192535e-05, -2.62260437e-05,\n          6.74247742e-04,  3.79085541e-05, -5.56111336e-05,\n          2.42948532e-04, -8.79764557e-05,  6.73532486e-05,\n         -3.12500000e-02, -2.13384628e-05, -1.64628029e-04,\n          3.43017578e-02,  4.40216064e-03, -7.34329224e-05,\n          1.04188919e-04, -9.00030136e-05, -1.22785568e-05,\n         -3.12500000e-02,  1.08122826e-04,  1.17034912e-02,\n         -3.00407410e-05,  4.64320183e-05, -9.71984863e-03,\n         -2.01225281e-04,  6.63995743e-05, -2.80380249e-04,\n         -1.46198273e-03,  2.53915787e-05,  4.23049927e-03,\n          1.52587891e-05,  3.03983688e-06,  9.27925110e-04,\n          1.99675560e-05, -3.42130661e-05,  1.41334534e-03,\n          1.10268593e-05, -8.32676888e-05,  6.64591789e-05,\n         -2.43782997e-05,  8.97049904e-05,  1.70469284e-05,\n         -4.66108322e-05, -1.43051147e-05, -7.08103180e-05,\n          1.25885010e-04,  5.06639481e-06,  3.81469727e-06,\n          1.47938728e-04],\n        [-4.64248657e-03, -1.49822235e-03,  1.48653984e-04,\n         -2.88486481e-05,  3.80873680e-05, -1.25527382e-04,\n          3.43084335e-04, -2.68554688e-03,  4.39453125e-02,\n          1.49011612e-06,  9.60230827e-05, -1.33156776e-04,\n         -9.94801521e-05, -1.27315521e-04,  2.70605087e-04,\n         -2.32696533e-02,  6.51836395e-04,  2.35080719e-04,\n          3.88622284e-04,  8.99434090e-05,  1.11877918e-04,\n         -1.22070312e-04, -3.19242477e-04,  6.13331795e-05,\n          2.51054764e-04,  1.91330910e-04, -3.70979309e-04,\n          1.76906586e-03,  9.72747803e-05, -5.02467155e-05,\n         -1.15633011e-04,  2.95829773e-03,  1.05857849e-04,\n          5.08427620e-05,  5.80549240e-05, -1.22547150e-04,\n         -3.94897461e-02,  1.09612942e-04,  4.60510254e-02,\n          1.08242035e-04, -8.72015953e-05,  4.55141068e-04,\n         -9.46521759e-05, -3.77893448e-04,  2.75611877e-04,\n          2.88486481e-05,  8.94069672e-07,  2.36129761e-03,\n          2.03132629e-04, -1.23500824e-04, -2.03847885e-05,\n          2.90393829e-04, -2.12430954e-04,  2.63214111e-04,\n         -5.94615936e-04, -6.51478767e-05, -1.60336494e-05,\n          1.17301941e-04, -1.32203102e-04, -6.25000000e-02,\n          4.01258469e-04,  8.07642937e-05, -1.21533871e-04,\n         -9.88841057e-05],\n        [ 7.27176666e-06, -3.69548798e-05,  8.48174095e-05,\n         -6.67572021e-05,  8.69035721e-05, -6.19888306e-05,\n         -5.59687614e-05,  2.75373459e-05,  5.80310822e-04,\n          3.74913216e-05,  2.19345093e-05,  4.35709953e-05,\n          1.37686729e-05, -3.20076942e-05,  6.55364990e-03,\n         -5.54323196e-05, -7.74860382e-07, -2.34246254e-05,\n         -1.77621841e-04, -5.68032265e-05, -2.93850899e-05,\n         -1.72853470e-06, -6.31809235e-05,  6.31809235e-06,\n         -4.66108322e-05, -5.93066216e-05, -5.36441803e-07,\n          1.57952309e-05,  7.03735352e-02,  5.42402267e-06,\n         -1.11877918e-04, -1.55687332e-04,  4.47034836e-05,\n          1.78575516e-04, -3.35574150e-05,  1.05977058e-04,\n          1.06871128e-04,  4.17232513e-07,  9.40561295e-05,\n          4.23192978e-06,  3.21865082e-06,  1.48415565e-05,\n         -3.34382057e-05,  5.14984131e-05, -3.77297401e-05,\n          3.33189964e-05, -1.99198723e-04,  5.26905060e-05,\n          3.22461128e-05, -3.91602516e-05,  8.83936882e-05,\n         -5.95450401e-05, -1.29938126e-05, -4.35113907e-06,\n          4.63724136e-05, -6.32405281e-05,  4.86969948e-05,\n         -2.48551369e-05,  9.83476639e-06, -1.96695328e-05,\n         -2.22921371e-05,  3.49121094e-02,  6.32405281e-05,\n          1.28030777e-04],\n        [-9.79900360e-05,  2.11715698e-03, -3.12500000e-02,\n          3.12500000e-02,  8.61167908e-04,  8.78334045e-04,\n         -1.92880630e-04, -9.77516174e-06, -3.43933105e-02,\n         -1.50680542e-04,  6.66618347e-04, -6.38961792e-05,\n         -6.75916672e-05, -7.17639923e-05,  5.82504272e-03,\n          2.77404785e-02,  1.09481812e-03, -1.93786621e-02,\n         -2.41279602e-04, -4.76241112e-05, -3.92198563e-04,\n          8.00490379e-05,  1.44839287e-04,  9.73510742e-03,\n          9.71555710e-05, -5.43975830e-03, -1.09612942e-04,\n         -2.57253647e-04,  2.07901001e-03, -6.11305237e-04,\n          5.45349121e-02, -5.97834587e-05,  2.13384628e-05,\n         -1.86252594e-03,  4.20212746e-05,  1.66893005e-06,\n         -4.07028198e-03,  3.69548798e-05,  7.87353516e-03,\n          8.00170898e-02,  2.37822533e-05, -1.93119049e-05,\n         -9.06944275e-04,  1.20401382e-04,  1.42455101e-05,\n          1.83963776e-03, -1.10530853e-03, -3.27825546e-06,\n         -1.20162964e-02, -8.39233398e-04, -5.40614128e-05,\n          2.27093697e-05,  7.00354576e-05, -8.03947449e-04,\n          1.70135498e-03,  3.64184380e-05, -1.68895721e-03,\n         -2.08020210e-04, -4.55975533e-05,  6.28051758e-02,\n          9.50694084e-05, -6.98566437e-05,  8.55326653e-05,\n         -4.29153442e-05],\n        [-8.28504562e-06,  3.55839729e-05,  6.19888306e-05,\n          6.64591789e-05,  7.90953636e-05,  2.39610672e-05,\n         -2.48551369e-05, -2.40445137e-04,  2.14004517e-03,\n          1.53422356e-04, -1.38640404e-04,  9.59634781e-06,\n          1.97887421e-05,  9.35792923e-06,  1.04665756e-04,\n         -6.61611557e-06,  1.19209290e-06, -3.14116478e-05,\n          7.09295273e-06,  2.22778320e-02,  5.06043434e-05,\n         -3.08156013e-05, -1.02519989e-05,  1.19209290e-07,\n          2.09808350e-05,  5.63859940e-05,  0.00000000e+00,\n         -1.32083893e-04, -2.85506248e-05,  2.67624855e-05,\n         -5.18560410e-06, -6.53862953e-05, -2.02655792e-06,\n         -2.09093094e-04, -4.46438789e-05, -9.32216644e-05,\n          6.67572021e-06, -1.91569328e-04, -6.28829002e-05,\n         -1.18672848e-04,  2.06828117e-05,  6.34789467e-05,\n         -2.18153000e-05, -4.52399254e-05, -1.71065331e-05,\n          5.56111336e-05,  5.53727150e-05, -2.58207321e-04,\n          8.94069672e-05, -4.82797623e-05, -8.77380371e-05,\n          1.99317932e-04, -2.92658806e-05, -3.64184380e-05,\n          1.34348869e-04, -2.41398811e-05, -7.49826431e-05,\n          1.24573708e-04, -2.35676765e-04, -1.27673149e-04,\n          3.05771828e-05,  1.04308128e-04, -4.02331352e-05,\n          2.72393227e-05],\n        [-2.37822533e-05, -7.15255737e-07,  5.47170639e-05,\n         -1.35898590e-05,  6.31809235e-05, -6.30021095e-05,\n          1.46627426e-05,  7.79628754e-05,  2.83122063e-05,\n          7.73668289e-05,  3.09348106e-05, -5.14388084e-05,\n         -9.57250595e-05,  3.95178795e-05, -3.24845314e-05,\n          2.30669975e-05, -7.55190849e-05,  5.73396683e-05,\n          2.82526016e-05,  3.03387642e-05, -6.47902489e-05,\n          8.82148743e-06, -8.97645950e-05,  1.05142593e-04,\n          3.26633453e-05, -6.91413879e-06,  3.91006470e-05,\n          1.16765499e-04, -1.50203705e-05,  1.04308128e-05,\n         -1.13844872e-05,  9.31396484e-02, -4.76837158e-07,\n         -4.86969948e-05,  6.55055046e-05, -5.72204590e-05,\n          7.82608986e-05,  1.23739243e-04,  1.26361847e-05,\n          2.22921371e-05, -5.54323196e-06, -1.13248825e-06,\n         -8.15987587e-05, -5.36441803e-06,  9.29236412e-05,\n         -9.41753387e-06, -1.41263008e-05, -3.74913216e-05,\n         -7.14659691e-05,  0.00000000e+00,  1.00517273e-03,\n          1.06930733e-04,  8.94069672e-07, -5.17964363e-05,\n         -8.80956650e-05,  3.21865082e-06, -4.85777855e-05,\n         -7.84301758e-02, -2.51531601e-05,  7.88569450e-05,\n          4.26173210e-05,  6.37173653e-05,  2.98023224e-05,\n          9.40561295e-05]], dtype=float32),\n array([[[ 0.03518677, -0.02960205, -0.02566528, ...,  0.11407471,\n           0.04159546, -0.03393555],\n         [ 0.07513428, -0.08068848,  0.07067871, ..., -0.00891113,\n           0.0256958 , -0.05041504],\n         [ 0.03445435,  0.0925293 , -0.07232666, ..., -0.02105713,\n          -0.00955963, -0.02041626],\n         ...,\n         [ 0.0223999 , -0.01025391,  0.02516174, ..., -0.01724243,\n           0.00277901,  0.02323914],\n         [ 0.0703125 , -0.02503967,  0.0304718 , ..., -0.04486084,\n          -0.01432037, -0.05126953],\n         [-0.15075684, -0.07757568,  0.16149902, ..., -0.05206299,\n           0.02510071, -0.09521484]],\n \n        [[ 0.02044678,  0.02825928, -0.0508728 , ...,  0.0053978 ,\n          -0.00092745,  0.00646973],\n         [-0.00071764, -0.02946472, -0.08654785, ...,  0.00721359,\n          -0.0385437 ,  0.02145386],\n         [ 0.03518677,  0.0118103 , -0.05004883, ...,  0.09893799,\n          -0.03146362, -0.06317139],\n         ...,\n         [-0.03027344, -0.02449036, -0.02392578, ...,  0.01890564,\n          -0.03982544,  0.02365112],\n         [-0.02323914, -0.04998779, -0.0244751 , ..., -0.0881958 ,\n          -0.0242157 , -0.02745056],\n         [ 0.03573608, -0.11181641, -0.00737762, ...,  0.05734253,\n          -0.01921082, -0.07702637]],\n \n        [[ 0.00091124, -0.03237915, -0.00669098, ...,  0.0748291 ,\n          -0.07592773,  0.01270294],\n         [-0.00523376,  0.05264282, -0.04632568, ..., -0.01716614,\n          -0.07629395, -0.06130981],\n         [ 0.00881195,  0.01986694, -0.03378296, ...,  0.12878418,\n           0.02667236,  0.05160522],\n         ...,\n         [-0.04098511, -0.00109291, -0.04397583, ...,  0.01705933,\n          -0.03793335, -0.06488037],\n         [-0.01350403,  0.04779053,  0.01760864, ...,  0.02423096,\n           0.03912354, -0.03016663],\n         [ 0.09350586,  0.07086182,  0.00131893, ...,  0.03915405,\n           0.04476929, -0.07250977]],\n \n        ...,\n \n        [[ 0.07183838,  0.01242828,  0.04165649, ...,  0.03317261,\n           0.02073669,  0.03930664],\n         [-0.04498291,  0.04949951,  0.00329018, ..., -0.04992676,\n           0.08074951,  0.05673218],\n         [ 0.01165009, -0.03588867,  0.06988525, ..., -0.07440186,\n          -0.03201294, -0.04327393],\n         ...,\n         [ 0.15002441, -0.0029583 , -0.1072998 , ..., -0.07775879,\n           0.04284668, -0.02061462],\n         [-0.03369141,  0.06130981, -0.02784729, ..., -0.02523804,\n          -0.01565552,  0.04156494],\n         [-0.01154327,  0.00054264,  0.03552246, ...,  0.03991699,\n           0.00849915, -0.03866577]],\n \n        [[ 0.02761841,  0.04318237, -0.04354858, ...,  0.05355835,\n           0.00793457, -0.07458496],\n         [ 0.04086304, -0.05145264, -0.01194763, ..., -0.02954102,\n          -0.0032177 ,  0.00029874],\n         [ 0.03710938, -0.02149963, -0.04043579, ..., -0.03518677,\n          -0.02740479,  0.03887939],\n         ...,\n         [-0.07067871, -0.0645752 ,  0.00343132, ...,  0.02587891,\n          -0.07061768,  0.01467133],\n         [-0.01482391, -0.02009583,  0.0559082 , ..., -0.00888824,\n          -0.02728271,  0.00972748],\n         [-0.06323242, -0.05804443,  0.0604248 , ..., -0.01765442,\n           0.09002686,  0.00627899]],\n \n        [[ 0.04425049, -0.03356934,  0.02416992, ..., -0.05648804,\n          -0.01457977, -0.05639648],\n         [-0.06359863,  0.004776  , -0.0222168 , ..., -0.04370117,\n           0.02941895,  0.04516602],\n         [-0.02258301,  0.01950073,  0.06228638, ..., -0.0139389 ,\n           0.0668335 , -0.00383186],\n         ...,\n         [ 0.02432251,  0.01038361,  0.037323  , ..., -0.01064301,\n          -0.01204681, -0.021698  ],\n         [ 0.02429199, -0.01565552,  0.01499176, ...,  0.01179504,\n          -0.0211792 , -0.00513077],\n         [-0.03503418, -0.08758545,  0.02560425, ...,  0.00555038,\n           0.03735352,  0.05886841]]], dtype=float32),\n array([[-3.03983688e-06, -1.43280029e-02, -3.20434570e-03,\n         -4.93240356e-03,  2.01873779e-02, -2.73704529e-03,\n         -6.13403320e-03, -1.23062134e-02, -1.07479095e-03,\n          6.61468506e-03,  1.44119263e-02,  5.72204590e-04,\n          1.79290771e-03,  1.30157471e-02,  1.08146667e-03,\n          7.49969482e-03, -3.23104858e-03, -4.01306152e-03,\n          1.15051270e-02,  5.88989258e-03, -8.78906250e-03,\n          1.91783905e-03, -6.83975220e-03, -1.54647827e-02,\n          1.10778809e-02,  1.82437897e-03,  1.07498169e-02,\n          5.61904907e-03, -1.67179108e-03,  3.31497192e-03,\n         -7.46536255e-03, -1.16806030e-02,  3.30810547e-02,\n          1.85871124e-03,  3.31687927e-03, -7.21931458e-04,\n          2.44598389e-02, -2.15301514e-02, -1.55410767e-02,\n         -6.54220581e-03, -1.57470703e-02,  5.50460815e-03,\n         -1.72615051e-03, -1.65748596e-03, -1.96838379e-02,\n          7.78961182e-03, -1.54571533e-02,  3.72314453e-03,\n         -1.97601318e-02, -4.26769257e-04,  7.25173950e-03,\n          2.61497498e-03,  3.46946716e-03,  2.60925293e-03,\n          1.25169754e-05, -1.48696899e-02, -1.09558105e-02,\n          8.64982605e-04, -3.12042236e-03,  1.60884857e-03,\n         -1.14517212e-02,  4.62341309e-03, -8.29315186e-03,\n          8.82625580e-04],\n        [-1.40991211e-02,  1.90067291e-03, -5.29861450e-03,\n          3.15551758e-02,  9.14764404e-03,  2.96936035e-02,\n          2.02331543e-02,  7.85064697e-03,  5.81359863e-03,\n         -7.21740723e-03,  1.75170898e-02,  5.31005859e-03,\n         -1.34563446e-03, -3.25927734e-02,  1.56173706e-02,\n         -2.89916992e-04,  8.59069824e-03, -9.27734375e-03,\n          4.46777344e-02,  3.34777832e-02, -1.39045715e-03,\n         -3.86657715e-02,  6.93511963e-03,  9.50622559e-03,\n          5.86242676e-02, -2.64739990e-02, -1.74407959e-02,\n         -1.16424561e-02,  2.47039795e-02,  2.44750977e-02,\n         -4.15954590e-02,  1.51214600e-02, -2.10571289e-02,\n          5.32836914e-02, -3.38554382e-03, -3.02886963e-02,\n         -3.91235352e-02, -2.41470337e-03, -9.65118408e-03,\n          5.90515137e-03,  2.91442871e-02,  4.87518311e-03,\n          2.93731689e-02,  5.04150391e-02, -7.49588013e-03,\n         -6.09207153e-03, -7.11669922e-02, -2.40020752e-02,\n          8.62884521e-03,  7.49969482e-03, -4.36401367e-03,\n         -2.36663818e-02,  2.27813721e-02, -2.32124329e-03,\n          4.57763672e-03,  2.18505859e-02, -2.62756348e-02,\n          4.51354980e-02, -3.94897461e-02, -1.32369995e-02,\n         -3.73840332e-02,  3.36074829e-03,  4.22668457e-02,\n          2.30216980e-03],\n        [-2.42805481e-03, -3.57055664e-03,  1.02844238e-02,\n          7.60650635e-03, -6.04629517e-03, -1.88350677e-03,\n          7.03811646e-04,  1.14631653e-03, -7.69042969e-03,\n         -2.59590149e-03, -6.17218018e-03, -5.07736206e-03,\n         -5.03921509e-03,  5.72967529e-03,  1.13067627e-02,\n          4.05883789e-03,  5.75256348e-03,  6.73294067e-03,\n         -1.18637085e-03, -4.35638428e-03, -2.32577324e-04,\n          4.99248505e-04, -2.41041183e-04, -7.82012939e-03,\n          6.79969788e-04,  6.99996948e-03,  3.56674194e-04,\n          3.68118286e-03, -3.22723389e-03,  4.81033325e-03,\n          1.63173676e-03,  1.71756744e-03, -5.21469116e-03,\n         -7.30895996e-03,  5.29479980e-03, -2.80380249e-03,\n          3.19480896e-05, -1.20544434e-02, -8.36372375e-04,\n          8.21113586e-04,  1.48963928e-03,  3.09944153e-06,\n         -2.92205811e-03, -1.29032135e-03, -1.32217407e-02,\n          1.92928314e-03, -6.48117065e-03,  3.61061096e-03,\n         -2.94876099e-03,  2.98118591e-03, -1.07765198e-03,\n         -3.31878662e-03, -1.46293640e-03,  1.92546844e-03,\n         -4.30107117e-04, -1.64222717e-03,  1.88350677e-04,\n         -1.83868408e-03, -2.47955322e-03, -1.17721558e-02,\n         -1.56021118e-03,  8.63075256e-04,  4.77600098e-03,\n         -9.30786133e-03],\n        [-5.00869751e-03,  1.85546875e-02,  9.69696045e-03,\n          5.11932373e-03, -3.51333618e-03, -1.21402740e-03,\n         -2.43530273e-02,  3.96118164e-02, -1.26037598e-02,\n          3.12232971e-03, -6.85882568e-03,  1.98211670e-02,\n         -8.86535645e-03, -2.76031494e-02, -2.77252197e-02,\n          4.22363281e-02,  2.79846191e-02, -3.73535156e-02,\n          2.72941589e-03, -5.18188477e-02,  3.85742188e-02,\n          2.95257568e-02,  1.80053711e-02, -1.49383545e-02,\n         -1.16806030e-02,  1.37176514e-02, -3.05938721e-02,\n          5.76400757e-03,  2.37121582e-02, -2.47344971e-02,\n          3.08685303e-02, -1.49765015e-02,  6.88171387e-03,\n         -1.45950317e-02,  1.86004639e-02, -4.80651855e-03,\n         -4.17785645e-02, -1.02539062e-02,  2.66113281e-02,\n         -2.57682800e-03, -5.34973145e-02, -1.44653320e-02,\n         -1.43432617e-02,  9.80834961e-02, -2.79693604e-02,\n         -9.84191895e-03,  1.41143799e-02,  1.35345459e-02,\n          1.31149292e-02, -3.59916687e-03,  9.30023193e-03,\n          2.23846436e-02,  8.33988190e-04,  2.24151611e-02,\n          2.92358398e-02,  2.94189453e-02,  4.49218750e-02,\n          7.22122192e-03,  1.60522461e-02, -1.26037598e-02,\n         -6.97326660e-03, -1.44195557e-02, -9.61303711e-03,\n          1.86309814e-02],\n        [ 7.47299194e-03, -7.51113892e-03,  5.46264648e-03,\n          3.00598145e-03,  7.16400146e-03, -4.33731079e-03,\n         -3.07655334e-03,  2.61116028e-03,  1.63316727e-04,\n         -6.10351562e-03,  1.06620789e-03,  1.13067627e-02,\n          2.26974487e-03, -4.28771973e-03, -6.52313232e-03,\n         -4.84466553e-03,  7.10296631e-03, -8.68988037e-03,\n          5.40924072e-03, -3.91006470e-03, -3.81660461e-03,\n         -1.10092163e-02, -1.27258301e-02,  3.10134888e-03,\n         -1.62792206e-03,  3.79943848e-03, -5.25283813e-03,\n          7.93457031e-03, -3.98254395e-03,  1.67274475e-03,\n         -1.42059326e-02,  3.72123718e-03,  4.78744507e-03,\n          6.24847412e-03,  1.80053711e-03,  2.95448303e-03,\n          2.07901001e-03, -1.08623505e-03, -2.50053406e-03,\n          2.39372253e-03, -7.13825226e-04, -2.58827209e-03,\n          6.06775284e-05, -1.65939331e-03, -8.56018066e-03,\n         -3.74031067e-03,  7.15637207e-03,  3.31115723e-03,\n         -2.33459473e-03, -7.92694092e-03,  6.97326660e-03,\n         -1.41296387e-02, -9.76562500e-03, -1.23405457e-03,\n          1.92165375e-03,  3.61824036e-03,  9.14764404e-03,\n          9.06586647e-05, -4.45175171e-03,  6.30950928e-03,\n         -8.05664062e-03, -2.98309326e-03,  4.14657593e-03,\n         -2.19345093e-03],\n        [ 6.58035278e-03, -2.92816162e-02,  4.00390625e-02,\n          1.11465454e-02, -2.91290283e-02,  2.51922607e-02,\n         -2.21099854e-02,  1.90429688e-02, -5.34057617e-03,\n          4.39453125e-03, -2.13775635e-02, -6.52313232e-03,\n         -2.13623047e-02,  8.69274139e-04, -3.08990479e-02,\n          2.10189819e-03, -4.66003418e-02, -1.72729492e-02,\n          1.17015839e-03, -7.26699829e-04, -2.56805420e-02,\n         -2.75573730e-02, -1.80511475e-02,  4.29153442e-03,\n         -1.42059326e-02, -2.15454102e-02, -1.71203613e-02,\n          3.13720703e-02,  1.51443481e-02,  2.33459473e-02,\n         -2.30255127e-02, -3.83605957e-02,  7.73315430e-02,\n         -3.28674316e-02,  1.23748779e-02, -2.96478271e-02,\n          4.68139648e-02, -2.98004150e-02,  1.64031982e-03,\n          4.82788086e-02, -2.49481201e-02,  3.08990479e-03,\n          6.37817383e-03,  3.74794006e-03, -9.17816162e-03,\n          2.25982666e-02, -6.88552856e-03,  2.01416016e-02,\n         -1.54724121e-02,  2.87437439e-03,  2.11334229e-02,\n         -2.86102295e-02,  1.52587891e-02,  1.33514404e-02,\n          6.77490234e-03,  7.16781616e-03,  1.50871277e-03,\n         -3.28063965e-03,  3.06549072e-02,  2.19116211e-02,\n         -2.00042725e-02, -7.59124756e-03,  3.24401855e-02,\n          6.24465942e-03],\n        [ 4.45938110e-03, -7.63416290e-04, -5.71823120e-03,\n         -9.69696045e-03, -2.72369385e-03,  2.39562988e-03,\n         -6.57272339e-03, -6.51550293e-03,  8.04138184e-03,\n          3.41987610e-03, -1.90734863e-03,  6.10828400e-04,\n         -5.57708740e-03,  6.90841675e-03, -1.14440918e-02,\n          1.73568726e-03, -1.30176544e-03, -7.19451904e-03,\n         -5.14984131e-03,  2.20656395e-04,  1.95884705e-03,\n          3.64780426e-04,  5.53131104e-03,  9.25540924e-04,\n          5.47027588e-03, -4.87565994e-04,  5.77926636e-03,\n         -7.64846802e-03, -1.25122070e-02,  6.53457642e-03,\n         -5.92231750e-04, -5.68866730e-04,  6.38961792e-03,\n         -7.62176514e-03,  1.89781189e-03,  8.56018066e-03,\n         -1.27944946e-02, -7.65228271e-03, -6.54220581e-04,\n          4.12750244e-03,  1.16271973e-02,  4.50015068e-05,\n         -3.66592407e-03,  2.70843506e-03,  1.11103058e-03,\n         -6.26373291e-03, -3.08532715e-02,  1.64604187e-03,\n         -1.26266479e-03, -4.18853760e-03,  5.94711304e-03,\n          1.48544312e-02, -9.22393799e-03,  4.73785400e-03,\n          4.71496582e-03,  1.33132935e-03,  5.66482544e-03,\n          3.81660461e-03,  1.44653320e-02,  3.34167480e-03,\n          2.39944458e-03, -1.29852295e-02,  3.43322754e-03,\n         -1.94702148e-02],\n        [-7.78961182e-03, -1.37519836e-03,  2.77757645e-05,\n         -2.65502930e-03,  2.81143188e-03,  6.73675537e-03,\n          2.80380249e-03,  9.79614258e-03, -2.50434875e-03,\n         -3.88908386e-03, -6.49642944e-03,  1.10340118e-03,\n          1.48773193e-03,  2.80189514e-03, -1.43508911e-02,\n          2.42829323e-04,  8.02516937e-04,  1.04141235e-02,\n         -1.22070312e-03, -1.13601685e-02,  7.16781616e-03,\n          6.16455078e-03, -6.64901733e-03,  6.79321289e-02,\n          1.88350677e-03, -7.57217407e-03,  9.35363770e-03,\n         -3.99780273e-03, -3.31687927e-03, -1.53121948e-02,\n         -1.08897686e-04, -1.84154510e-03,  4.21762466e-04,\n         -2.12669373e-03,  4.52041626e-03,  1.93214417e-03,\n          4.33349609e-03,  1.04598999e-02, -1.26647949e-02,\n         -9.15527344e-04,  5.59997559e-03, -7.88116455e-03,\n          6.85501099e-03, -6.40869141e-03, -1.01318359e-02,\n          4.34112549e-03,  3.83567810e-03,  2.67219543e-03,\n         -3.67164612e-03, -4.58526611e-03, -4.10461426e-03,\n         -9.50622559e-03,  3.32641602e-03,  9.55963135e-03,\n          7.14492798e-03,  3.51715088e-03, -3.32450867e-03,\n          4.78363037e-03,  2.11791992e-02,  9.01031494e-03,\n          7.06863403e-03, -1.00898743e-03, -1.24206543e-02,\n          5.38253784e-03],\n        [ 3.95965576e-03, -3.58963013e-03, -7.10010529e-04,\n         -6.29806519e-03, -2.00958252e-02, -5.18035889e-03,\n         -1.24969482e-02,  7.47299194e-03, -1.85394287e-03,\n         -1.30176544e-03,  5.83267212e-03,  3.41534615e-05,\n         -3.58200073e-03,  5.27501106e-05,  1.34086609e-03,\n          2.57492065e-03, -1.65252686e-02, -7.56454468e-03,\n          3.84521484e-03, -1.05285645e-03,  4.38308716e-03,\n          3.05747986e-03,  1.14059448e-03, -3.07273865e-03,\n         -7.83691406e-02,  1.33037567e-03,  5.49697876e-03,\n         -7.65609741e-03, -5.18417358e-03,  3.23677063e-03,\n          1.81579590e-03, -3.34167480e-03,  9.95635986e-04,\n         -6.91223145e-03, -4.79507446e-03,  3.72695923e-03,\n         -1.14288330e-02, -8.27312469e-04,  1.19018555e-02,\n          3.75366211e-03, -1.31607056e-03,  5.90896606e-03,\n         -2.99453735e-03, -3.83186340e-03, -1.79004669e-03,\n         -4.57525253e-04,  7.80868530e-03, -1.20925903e-02,\n         -2.63214111e-03, -2.67410278e-03, -2.36511230e-03,\n          4.62341309e-03,  3.54766846e-03,  3.26538086e-03,\n          5.49697876e-03, -1.02462769e-02, -9.65118408e-03,\n          4.33349609e-03,  7.30133057e-03, -6.69097900e-03,\n         -7.22885132e-03, -6.66427612e-03,  1.23500824e-03,\n          6.77871704e-03],\n        [ 7.45010376e-03, -1.37634277e-02, -5.81741333e-03,\n          8.33511353e-04,  9.23633575e-04, -2.96020508e-02,\n          7.50541687e-04,  4.44793701e-03, -2.49481201e-03,\n         -2.63786316e-03,  2.62451172e-03,  1.75762177e-03,\n          1.06964111e-02,  2.74276733e-03, -7.19451904e-03,\n          2.80761719e-03, -2.71415710e-03, -7.70568848e-03,\n          3.41653824e-04,  1.10912323e-03,  1.14822388e-02,\n          2.76184082e-03, -1.25312805e-03, -8.39233398e-03,\n         -3.72505188e-03, -2.96974182e-03,  1.06048584e-02,\n         -1.23214722e-03, -7.69424438e-03, -1.77612305e-02,\n         -5.31768799e-03,  6.47544861e-04, -3.45993042e-03,\n          1.31378174e-02, -3.73077393e-03, -6.20651245e-03,\n         -7.30514526e-03, -1.42860413e-03, -1.29342079e-05,\n         -1.16882324e-02,  6.73675537e-03, -3.23677063e-03,\n          9.67407227e-03,  9.70458984e-03, -1.29013062e-02,\n          2.95257568e-03,  3.39317322e-03, -6.39343262e-03,\n         -3.34739685e-03, -9.71221924e-03, -1.31511688e-03,\n         -6.53266907e-04, -3.67736816e-03,  7.51113892e-03,\n          4.90951538e-03, -1.17874146e-03,  5.61141968e-03,\n         -2.29454041e-03, -8.18634033e-03, -4.72259521e-03,\n          3.41224670e-03, -6.63757324e-03, -8.70513916e-03,\n          5.61141968e-03],\n        [ 7.56072998e-03, -6.68334961e-03,  1.11846924e-02,\n          2.96020508e-03, -1.35192871e-02,  7.25388527e-05,\n         -3.08799744e-03, -7.61032104e-03,  1.44882202e-02,\n          6.75964355e-03,  9.83238220e-04,  3.80897522e-03,\n         -1.45874023e-02,  5.78689575e-03,  4.19235229e-03,\n          1.28555298e-02,  9.32693481e-04, -9.85717773e-03,\n          4.90188599e-03,  1.03607178e-02,  2.25524902e-02,\n         -1.14727020e-03,  2.31552124e-03, -4.18472290e-03,\n         -2.16102600e-03,  2.27165222e-03, -3.09944153e-03,\n         -3.41796875e-03, -8.78906250e-03,  1.02005005e-02,\n          4.04834747e-04,  1.42669678e-02,  1.50756836e-02,\n          9.08374786e-04,  7.10296631e-03,  5.78308105e-02,\n          1.14917755e-03, -6.98471069e-03,  1.02615356e-02,\n          1.51729584e-03, -1.15203857e-02,  8.91113281e-03,\n         -2.01110840e-02,  1.44424438e-02,  2.55775452e-03,\n         -8.83483887e-03, -1.58081055e-02, -1.09329224e-02,\n          4.38690186e-03,  3.30543518e-03, -1.07040405e-02,\n          7.51113892e-03, -8.33892822e-03, -7.20596313e-03,\n         -5.35964966e-04,  1.77192688e-03,  7.61032104e-03,\n          5.35202026e-03,  9.67979431e-04,  1.03530884e-02,\n         -1.81579590e-02,  2.42042542e-03, -2.75421143e-03,\n         -7.45010376e-03],\n        [-7.49206543e-03, -2.27966309e-02,  1.91650391e-02,\n         -4.05073166e-04, -1.07421875e-02,  2.57568359e-02,\n          5.48553467e-03, -1.48963928e-03, -3.27301025e-03,\n          9.88006592e-03, -2.52227783e-02, -1.55868530e-02,\n          1.56250000e-02,  8.43048096e-03,  7.08770752e-03,\n          1.34353638e-02, -1.91192627e-02, -1.91802979e-02,\n          5.43975830e-03, -1.04427338e-03, -8.33129883e-03,\n          1.58691406e-02,  1.01242065e-02,  1.74407959e-02,\n          1.62200928e-02,  5.37872314e-03,  1.19934082e-02,\n          1.37176514e-02, -1.43356323e-02, -6.48498535e-03,\n          1.56097412e-02, -1.47705078e-02,  4.45556641e-03,\n         -9.33170319e-04, -1.49765015e-02, -1.52969360e-02,\n          6.86264038e-03,  9.45281982e-03, -2.07519531e-02,\n         -6.33621216e-03, -8.47625732e-03, -6.84738159e-04,\n         -1.04827881e-02,  1.10397339e-02,  5.96618652e-02,\n         -1.00021362e-02,  1.47171021e-02, -1.30004883e-02,\n          7.38143921e-03, -2.42767334e-02,  3.62396240e-03,\n          5.44738770e-03,  6.16836548e-03,  6.21032715e-03,\n          7.44628906e-03, -1.16500854e-02,  8.61358643e-03,\n          4.67300415e-03, -1.73330307e-04,  2.55279541e-02,\n          1.49078369e-02, -8.74328613e-03,  2.28118896e-02,\n         -5.62286377e-03]], dtype=float32),\n array([[[ 0.00104904,  0.02748108,  0.02423096, ...,  0.05871582,\n          -0.07012939, -0.00616074],\n         [ 0.00173187,  0.01305389, -0.01128387, ...,  0.0045433 ,\n           0.04888916,  0.00253105],\n         [-0.02651978, -0.04656982,  0.02203369, ...,  0.02153015,\n          -0.01335907, -0.01187134],\n         ...,\n         [ 0.06347656, -0.03063965,  0.02368164, ...,  0.01299286,\n           0.01256561, -0.05184937],\n         [ 0.02658081, -0.02909851, -0.03164673, ..., -0.00798798,\n          -0.01638794,  0.059021  ],\n         [-0.04187012, -0.02157593, -0.00409698, ...,  0.08337402,\n          -0.04794312, -0.04980469]],\n \n        [[-0.00974274,  0.03662109,  0.06945801, ..., -0.00572205,\n           0.01992798,  0.01629639],\n         [-0.04196167,  0.0345459 , -0.00683594, ...,  0.00389862,\n          -0.05587769,  0.01152802],\n         [-0.00585938, -0.01902771, -0.03692627, ..., -0.01464844,\n          -0.04290771, -0.02589417],\n         ...,\n         [ 0.00423813,  0.02922058, -0.07855225, ..., -0.00225067,\n          -0.00331879, -0.00456238],\n         [ 0.00547409, -0.01989746, -0.03985596, ...,  0.02613831,\n          -0.05047607, -0.00498962],\n         [ 0.00869751, -0.05670166,  0.01765442, ...,  0.0103302 ,\n           0.06561279,  0.03001404]],\n \n        [[-0.01265717,  0.01805115, -0.00337791, ...,  0.02450562,\n           0.04690552, -0.01794434],\n         [ 0.01322937, -0.01184082, -0.00650406, ..., -0.04104614,\n          -0.03771973, -0.07141113],\n         [ 0.01274109, -0.04953003,  0.0140152 , ...,  0.04745483,\n           0.0814209 ,  0.03771973],\n         ...,\n         [ 0.00487137,  0.00033426,  0.05529785, ...,  0.04562378,\n           0.0078125 , -0.01148987],\n         [-0.01412201, -0.00109291,  0.00881195, ..., -0.06359863,\n          -0.01567078, -0.04107666],\n         [-0.02243042, -0.05206299,  0.03765869, ...,  0.00421906,\n           0.01905823,  0.01495361]],\n \n        ...,\n \n        [[ 0.04653931,  0.00263023,  0.0022316 , ...,  0.08654785,\n           0.02035522,  0.0512085 ],\n         [ 0.02764893,  0.00256729, -0.02398682, ..., -0.02992249,\n          -0.02973938, -0.01190186],\n         [ 0.07189941,  0.03375244, -0.05703735, ..., -0.03866577,\n           0.04730225, -0.01698303],\n         ...,\n         [-0.02705383, -0.01853943,  0.0395813 , ..., -0.01626587,\n          -0.03729248, -0.07977295],\n         [-0.00901031, -0.00676727,  0.00432205, ..., -0.0021801 ,\n          -0.01123047, -0.02041626],\n         [-0.03570557, -0.0305481 , -0.00198174, ...,  0.02400208,\n           0.00640106,  0.00364876]],\n \n        [[-0.01705933,  0.01312256,  0.0113678 , ..., -0.03915405,\n          -0.02148438, -0.00835419],\n         [ 0.00422287,  0.01060486, -0.01122284, ..., -0.02526855,\n           0.00345039,  0.04000854],\n         [-0.00380707, -0.00822449,  0.03411865, ...,  0.04064941,\n          -0.02894592,  0.00457764],\n         ...,\n         [ 0.00567627,  0.01052856, -0.0692749 , ...,  0.00538635,\n          -0.03796387, -0.04953003],\n         [ 0.06451416,  0.06057739, -0.00411606, ..., -0.01357269,\n           0.02207947,  0.00939941],\n         [-0.04455566,  0.01502228,  0.02896118, ..., -0.00642395,\n           0.00752258,  0.01483917]],\n \n        [[-0.04840088,  0.03005981,  0.05639648, ..., -0.01931763,\n          -0.01686096,  0.00135517],\n         [-0.03741455, -0.03848267,  0.05059814, ...,  0.03671265,\n          -0.01702881,  0.0221405 ],\n         [ 0.0760498 , -0.00265694, -0.03594971, ...,  0.01799011,\n           0.02601624,  0.00471497],\n         ...,\n         [-0.06561279, -0.00585938,  0.01151276, ...,  0.0002625 ,\n          -0.05072021, -0.0076828 ],\n         [ 0.00628662,  0.01268005, -0.01109314, ...,  0.00356674,\n           0.05471802, -0.01144409],\n         [-0.04626465,  0.01185608, -0.00456619, ..., -0.0602417 ,\n           0.03833008,  0.02961731]]], dtype=float32),\n array([ 4.04357910e-02, -1.19201660e-01, -2.81524658e-02,  7.76977539e-02,\n        -8.51440430e-02,  5.64575195e-02, -1.33300781e-01, -5.55114746e-02,\n         9.05151367e-02,  1.23901367e-01, -6.67724609e-02, -3.63769531e-02,\n        -3.48815918e-02, -2.60009766e-02,  9.16748047e-02, -5.46264648e-02,\n        -1.07727051e-01, -7.27462769e-03,  1.37695312e-01, -6.73828125e-02,\n        -5.71899414e-02, -7.44018555e-02,  1.20925903e-02, -8.71582031e-02,\n         2.14996338e-02, -4.50439453e-02, -5.11779785e-02,  3.96728516e-02,\n        -1.02600098e-01, -9.74731445e-02, -3.38439941e-02, -9.31549072e-03,\n         1.28936768e-02, -5.77087402e-02,  5.22460938e-02,  7.24487305e-02,\n         9.36889648e-02, -7.75146484e-02, -6.67190552e-03,  3.12347412e-02,\n         3.54919434e-02, -1.29028320e-01,  4.32434082e-02, -6.70166016e-02,\n         1.60888672e-01,  2.60498047e-01, -3.76892090e-02, -1.84936523e-02,\n        -1.08398438e-01, -9.36031342e-04, -8.90350342e-03,  1.06811523e-01,\n        -1.77097321e-03, -1.02416992e-01, -6.50024414e-02, -5.13916016e-02,\n        -7.18994141e-02, -8.75244141e-02,  6.09741211e-02, -3.25012207e-03,\n         1.87988281e-02, -6.52465820e-02, -4.23278809e-02, -1.97601318e-02,\n        -4.43267822e-03, -1.06994629e-01, -5.71289062e-02,  5.98907471e-03,\n        -5.71823120e-03,  1.29547119e-02, -1.49726868e-03, -1.36596680e-01,\n         8.20922852e-02,  6.10656738e-02, -2.39868164e-02,  7.17163086e-02,\n        -5.09948730e-02,  8.06274414e-02,  1.18347168e-01, -4.48226929e-03,\n         2.50396729e-02, -4.35180664e-02,  2.26928711e-01,  8.41674805e-02,\n        -8.12377930e-02, -3.88526917e-03,  7.01904297e-02, -1.23977661e-02,\n        -9.17358398e-02,  2.26745605e-02, -1.56250000e-02,  5.75256348e-02,\n        -1.77124023e-01,  6.24694824e-02,  5.49011230e-02,  2.01538086e-01,\n        -1.97448730e-02,  1.00524902e-01,  7.61108398e-02, -1.34277344e-01,\n         7.38525391e-02,  3.73840332e-02,  1.37817383e-01,  7.88574219e-02,\n        -4.08020020e-02, -5.80444336e-02, -1.80664062e-02,  3.19290161e-03,\n        -3.41186523e-02, -9.97924805e-02,  3.54919434e-02, -6.09436035e-02,\n         9.83886719e-02,  1.40136719e-01, -5.25512695e-02,  1.91040039e-02,\n        -8.21533203e-02, -2.25639343e-03,  2.04772949e-02, -7.58056641e-02,\n         3.66821289e-02,  1.65039062e-01,  4.91027832e-02,  7.75527954e-03,\n        -1.73187256e-02,  2.09350586e-02, -1.75292969e-01,  7.52563477e-02,\n        -1.18255615e-02, -8.97827148e-02,  7.98034668e-03,  5.27343750e-02,\n        -2.63366699e-02, -4.61578369e-04, -2.31628418e-02,  4.19235229e-03,\n         1.36108398e-01,  2.23999023e-02,  2.60772705e-02,  3.55529785e-02,\n        -4.45861816e-02, -3.19519043e-02, -1.06506348e-01,  9.57489014e-03,\n         5.96008301e-02, -2.99987793e-02,  6.07910156e-02, -9.60083008e-02,\n         4.59594727e-02,  4.27246094e-02, -1.36352539e-01, -1.02050781e-01,\n        -2.73437500e-02, -7.02514648e-02,  5.43212891e-02,  1.13906860e-02,\n        -4.90722656e-02,  1.54052734e-01,  7.59887695e-02,  9.36889648e-02,\n         7.07397461e-02,  3.45153809e-02, -5.75561523e-02,  3.51867676e-02,\n        -2.34375000e-02,  5.52368164e-02,  9.01794434e-03,  4.43420410e-02,\n        -1.58325195e-01,  7.44628906e-02, -8.14208984e-02, -4.18090820e-02,\n        -3.46679688e-02,  5.46264648e-02, -2.96020508e-02, -7.08007812e-02,\n         6.02111816e-02, -2.15148926e-02, -9.74121094e-02, -1.61132812e-02,\n         3.17077637e-02, -3.24707031e-02, -1.06445312e-01, -9.83276367e-02,\n        -1.76147461e-01, -1.49993896e-02, -1.62475586e-01, -3.34167480e-02,\n        -4.59289551e-02,  6.28051758e-02,  2.25830078e-01, -1.64916992e-01,\n        -8.54492188e-02,  8.59375000e-02, -3.71093750e-02, -7.42797852e-02,\n         9.91821289e-03, -1.14685059e-01, -1.91955566e-02,  3.96347046e-03,\n         1.12243652e-01,  3.23791504e-02, -2.59704590e-02, -1.39892578e-01,\n         1.23901367e-02, -8.27636719e-02,  5.64575195e-02,  1.78710938e-01,\n         1.26953125e-02, -1.29638672e-01, -5.90515137e-02, -8.91723633e-02,\n        -1.24023438e-01,  1.31835938e-01, -1.02233887e-02,  8.11767578e-02,\n         6.11267090e-02, -2.24151611e-02,  7.31811523e-02, -9.34448242e-02,\n         2.02484131e-02, -8.75854492e-02,  9.26513672e-02,  1.44195557e-02,\n         5.00488281e-02, -5.59234619e-03,  7.26928711e-02, -7.40356445e-02,\n         2.03704834e-02, -6.73828125e-02, -4.71801758e-02, -1.00158691e-01,\n         1.02355957e-01,  2.44140625e-02, -1.93481445e-02,  1.24938965e-01,\n        -8.86840820e-02,  1.16043091e-02, -9.53674316e-03,  3.31420898e-02,\n        -8.36181641e-02, -6.98089600e-03,  8.32519531e-02,  7.62176514e-03,\n        -6.68334961e-03,  1.26220703e-01,  2.23846436e-02,  1.28295898e-01,\n         1.46118164e-01,  1.13403320e-01, -1.89575195e-01,  4.51049805e-02,\n         7.19604492e-02,  8.11767578e-03,  1.15905762e-01, -4.98352051e-02,\n         1.86157227e-02,  7.45391846e-03, -3.67736816e-02, -1.24328613e-01,\n         1.70898438e-01,  4.11376953e-02, -5.84411621e-03, -2.07885742e-01,\n         1.18541718e-03,  5.99365234e-02,  9.89532471e-03,  1.02539062e-01,\n        -1.14196777e-01, -4.77600098e-02,  5.22766113e-02,  1.03088379e-01,\n        -4.64477539e-02, -1.09558105e-01, -1.02478027e-01,  7.66601562e-02,\n         5.53283691e-02,  1.38916016e-01,  4.05883789e-02,  6.41479492e-02,\n        -3.68347168e-02, -4.44641113e-02, -1.46179199e-02,  1.78241730e-03,\n         4.88281250e-02,  1.61010742e-01,  5.10253906e-02, -5.00183105e-02,\n         4.03747559e-02,  5.38330078e-02, -8.30688477e-02, -6.17675781e-02,\n        -2.82287598e-02, -1.26831055e-01, -1.77124023e-01, -1.76696777e-02,\n        -1.89514160e-02, -7.19604492e-02, -1.29928589e-02,  7.87353516e-03,\n        -2.03247070e-02, -8.34350586e-02, -9.66186523e-02, -8.14819336e-02,\n        -6.04858398e-02,  1.78070068e-02, -4.62036133e-02, -1.78222656e-01,\n         5.76477051e-02,  7.70187378e-03, -2.20794678e-02, -1.05895996e-01,\n        -6.18591309e-02,  9.14306641e-02,  5.30242920e-03, -1.71051025e-02,\n        -4.10156250e-02, -1.06079102e-01,  1.18530273e-01,  2.70271301e-03,\n        -5.46569824e-02, -1.16271973e-01,  1.06811523e-02,  8.25195312e-02,\n         1.17980957e-01, -1.80664062e-02, -8.96606445e-02, -2.93121338e-02,\n        -6.83975220e-03,  6.97021484e-02, -6.97021484e-02,  1.18713379e-01,\n         1.03332520e-01,  2.10113525e-02,  7.10449219e-02, -3.45153809e-02,\n        -7.03735352e-02,  1.39541626e-02,  6.67114258e-02, -7.01293945e-02,\n        -2.13470459e-02,  1.47583008e-01, -4.98962402e-02, -5.11474609e-02,\n         5.31616211e-02, -3.07159424e-02, -4.16870117e-02,  1.38793945e-01,\n        -4.54406738e-02,  7.80029297e-02,  3.69873047e-02,  9.20104980e-03,\n         8.22143555e-02,  5.28259277e-02,  4.83703613e-02, -7.28759766e-02,\n         8.57543945e-02, -3.53698730e-02,  8.87451172e-02,  1.06628418e-01,\n         4.60815430e-02, -4.35256958e-03, -4.10156250e-02,  6.74438477e-02,\n        -5.48095703e-02,  1.13159180e-01, -9.17968750e-02,  1.03393555e-01,\n         4.84008789e-02, -8.30078125e-02,  6.25610352e-02, -7.89642334e-03,\n        -8.43505859e-02,  4.91027832e-02,  7.89184570e-02, -1.60278320e-01,\n         6.13098145e-02, -1.23229980e-01, -7.87353516e-02,  1.50024414e-01,\n         8.27636719e-02, -1.07910156e-01, -1.14746094e-01, -5.66711426e-02,\n        -9.16137695e-02,  1.01440430e-01, -8.28552246e-03,  4.08172607e-03,\n        -5.62744141e-02, -1.68945312e-01, -3.93066406e-02,  1.42440796e-02,\n         8.36181641e-02, -6.01806641e-02,  1.49169922e-01,  2.78472900e-03,\n         2.64739990e-02, -4.98962402e-02,  9.01489258e-02, -1.50451660e-02,\n         3.23791504e-02, -1.21215820e-01, -4.57153320e-02, -3.25317383e-02,\n        -7.72705078e-02, -1.30493164e-01,  9.47265625e-02, -6.20117188e-02,\n         3.64074707e-02,  6.11267090e-02,  7.56225586e-02,  1.92260742e-02,\n        -8.63037109e-02, -2.25524902e-02,  1.76513672e-01, -1.14746094e-02,\n        -1.13464355e-01,  4.76074219e-02,  4.40673828e-02, -4.28161621e-02,\n        -8.20312500e-02, -1.90124512e-02,  4.28161621e-02,  7.36618042e-03,\n         7.58056641e-02, -2.28881836e-02,  3.71704102e-02, -1.53442383e-01,\n        -3.19213867e-02, -1.21765137e-01, -7.65991211e-02,  1.67388916e-02,\n        -8.87298584e-03, -1.07040405e-02, -9.58862305e-02,  1.06750488e-01,\n        -7.87353516e-02, -9.22393799e-03, -1.09252930e-01, -4.95300293e-02,\n         1.47781372e-02,  8.45336914e-02,  1.13830566e-01,  5.45654297e-02,\n         2.74276733e-03,  8.76464844e-02,  1.59759521e-02, -9.28344727e-02,\n         1.06872559e-01, -1.56402588e-02,  1.76391602e-01, -1.11389160e-01,\n        -1.35864258e-01,  2.42187500e-01, -1.23596191e-01, -6.92367554e-03,\n         3.09753418e-02, -1.90124512e-02,  1.73828125e-01, -5.70068359e-02,\n        -4.84085083e-03, -4.53796387e-02,  2.68859863e-02, -7.84301758e-02,\n        -2.38494873e-02, -1.30157471e-02, -1.21093750e-01,  1.28540039e-01,\n        -5.00488281e-02, -1.34399414e-01, -8.56323242e-02,  4.54711914e-02,\n         1.41067505e-02, -8.16040039e-02, -8.71582031e-02, -4.41589355e-02,\n         9.83276367e-02,  1.11206055e-01, -3.25317383e-02,  4.02526855e-02,\n         6.96411133e-02, -6.22253418e-02, -2.92510986e-02, -6.12182617e-02,\n        -4.97102737e-05, -1.48193359e-01, -5.58471680e-03, -1.51138306e-02,\n         5.23986816e-02, -5.29479980e-02, -5.59692383e-02, -5.27954102e-02,\n         3.24707031e-02, -5.52749634e-03, -1.13708496e-01, -9.06372070e-02,\n         1.23596191e-03, -8.50830078e-02, -2.84576416e-02, -1.19140625e-01,\n         1.75933838e-02, -7.51495361e-03, -1.02294922e-01,  5.34057617e-02,\n         5.40161133e-02,  8.16650391e-02, -5.79452515e-03, -1.15417480e-01,\n         9.52148438e-02,  1.90124512e-02, -1.07177734e-01,  6.01806641e-02,\n         9.96398926e-03, -1.10595703e-01,  5.05065918e-02,  3.76586914e-02,\n        -1.93500519e-03, -1.11511230e-01, -1.47399902e-02, -2.60925293e-02,\n        -1.05957031e-01,  9.75341797e-02, -1.44897461e-01, -1.09786987e-02,\n        -1.36108398e-01, -3.32641602e-02,  1.34582520e-02, -1.91955566e-02,\n         4.12902832e-02,  1.79748535e-02, -3.65905762e-02, -1.25610352e-01,\n         8.05664062e-03,  1.13952637e-01,  8.50677490e-03,  8.00170898e-02,\n        -1.59740448e-03,  6.37207031e-02, -9.16137695e-02,  1.90887451e-02,\n        -4.24804688e-02,  7.80639648e-02, -1.94396973e-02,  1.64794922e-01,\n         1.81884766e-01,  6.97021484e-02, -2.96020508e-02, -1.41601562e-02,\n        -5.62744141e-02,  4.83703613e-02,  1.74682617e-01, -1.29852295e-02,\n         9.09423828e-03, -1.82647705e-02, -8.85620117e-02,  1.37573242e-01,\n        -4.46166992e-02,  4.02450562e-03, -1.14807129e-01, -1.04797363e-01,\n         1.40228271e-02,  5.98449707e-02, -3.10668945e-02,  4.83398438e-02,\n         7.11059570e-02, -5.05828857e-03,  7.65323639e-04,  7.37304688e-02,\n         1.36642456e-02,  3.59191895e-02, -1.57470703e-01, -5.56030273e-02,\n        -1.72607422e-01, -8.21685791e-03, -5.55114746e-02,  1.37939453e-01,\n         9.59472656e-02, -1.75781250e-02,  9.62829590e-03,  2.89611816e-02,\n        -6.21948242e-02, -4.04357910e-02,  7.21435547e-02,  6.12182617e-02,\n         1.24755859e-01,  1.25976562e-01, -6.08825684e-02, -1.00891113e-01,\n        -1.55761719e-01, -4.23278809e-02, -5.78002930e-02,  5.08117676e-02,\n         8.95690918e-03,  4.18395996e-02,  3.03802490e-02, -5.39550781e-02,\n         1.17309570e-01,  3.49426270e-02, -1.03378296e-02,  1.13952637e-01,\n        -5.16357422e-02, -2.41241455e-02,  5.55114746e-02,  1.50527954e-02,\n        -9.27734375e-03,  5.87158203e-02,  5.84411621e-02, -6.08520508e-02,\n         2.72064209e-02, -1.51519775e-02,  6.89697266e-02,  1.98242188e-01,\n        -6.65283203e-02, -1.08276367e-01,  6.16149902e-02, -3.57666016e-02,\n        -9.22851562e-02, -8.09936523e-02,  4.97436523e-02, -8.30078125e-02,\n        -1.07177734e-01, -1.16210938e-01, -3.27148438e-02,  1.35253906e-01,\n         1.59912109e-02, -1.08032227e-01, -3.07312012e-02,  2.16827393e-02,\n        -3.68957520e-02, -1.24267578e-01, -1.22192383e-01, -1.49822235e-03,\n         1.46240234e-01, -1.52587891e-01,  1.28021240e-02, -6.33544922e-02,\n        -1.18103027e-01,  1.45629883e-01, -4.21447754e-02, -1.53564453e-01,\n         4.21142578e-03,  7.25097656e-02,  1.40151978e-02,  9.21630859e-02,\n         2.39562988e-03, -2.13623047e-03,  1.24511719e-01, -9.53674316e-03,\n        -9.76562500e-03,  9.02099609e-02,  5.93566895e-02,  1.13830566e-01,\n         4.83093262e-02, -4.77905273e-02, -1.13983154e-02,  1.81884766e-02,\n         9.39178467e-03, -5.92651367e-02,  1.14212036e-02,  7.64770508e-02,\n        -1.54663086e-01,  4.02832031e-02, -7.77053833e-03, -5.76171875e-02,\n        -8.41064453e-02,  1.14288330e-02, -2.37884521e-02,  1.05651855e-01,\n         6.26831055e-02,  1.18026733e-02, -1.43966675e-02, -1.47460938e-01,\n         1.92626953e-01, -4.83093262e-02,  5.85327148e-02, -6.06384277e-02,\n         7.23876953e-02, -1.16210938e-01,  7.00073242e-02,  9.36279297e-02,\n         3.70788574e-02, -3.44543457e-02, -7.14111328e-02, -2.18963623e-02,\n        -1.01196289e-01, -1.49536133e-01,  2.96936035e-02,  1.20483398e-01,\n         1.08886719e-01, -5.40161133e-02, -3.58886719e-02, -3.21655273e-02,\n         2.48718262e-02,  3.80249023e-02,  5.98449707e-02, -1.17492676e-01,\n         1.57226562e-01, -3.47595215e-02, -1.80908203e-01, -1.86004639e-02,\n         1.20117188e-01,  3.57360840e-02,  3.82995605e-02, -8.76617432e-03,\n        -5.83496094e-02,  3.25317383e-02, -2.43835449e-02, -1.14318848e-01,\n        -9.53979492e-02,  1.36032104e-02, -4.44946289e-02,  8.87451172e-02,\n        -6.29882812e-02,  5.97763062e-03, -7.50732422e-02, -3.30505371e-02,\n        -1.34277344e-02,  4.47692871e-02, -1.09008789e-01,  7.74536133e-02,\n        -2.88543701e-02, -3.88183594e-02,  2.24731445e-01, -1.44195557e-02,\n        -5.46264648e-03,  1.70898438e-01, -7.86743164e-02,  7.28988647e-03,\n        -6.29272461e-02, -5.91735840e-02, -5.86242676e-02, -6.64062500e-02,\n         1.47338867e-01, -9.55810547e-02,  1.87377930e-02,  4.71496582e-02,\n         1.21276855e-01, -7.20825195e-02, -3.07006836e-02, -6.09436035e-02,\n         7.82470703e-02,  1.30371094e-01,  6.75659180e-02, -4.55017090e-02,\n        -1.51596069e-02, -2.18811035e-02, -5.78403473e-04, -2.04589844e-01,\n        -6.04248047e-02,  6.77490234e-02,  3.17993164e-02,  6.45751953e-02,\n         1.43188477e-01, -1.38931274e-02, -5.76171875e-02,  6.81686401e-03,\n        -8.68530273e-02,  4.13818359e-02, -6.03027344e-02, -1.22009277e-01,\n         1.18835449e-01,  1.97296143e-02, -3.34777832e-02,  4.64477539e-02,\n        -9.80834961e-02,  2.17742920e-02, -7.11059570e-03, -1.65557861e-02],\n       dtype=float32),\n array([0.65527344, 0.73339844, 0.64746094, 0.6904297 , 0.9453125 ,\n        0.7739258 , 0.6323242 , 0.7036133 , 0.6694336 , 0.6982422 ,\n        0.67822266, 0.7626953 , 0.66064453, 0.6948242 , 0.69433594,\n        0.85791016, 0.7685547 , 0.71875   , 0.6801758 , 0.71777344,\n        0.65527344, 0.7182617 , 0.63720703, 0.7265625 , 0.7138672 ,\n        0.69677734, 0.7138672 , 0.6645508 , 0.70166016, 0.6972656 ,\n        0.66748047, 0.72314453, 0.6713867 , 0.6845703 , 0.68847656,\n        0.6767578 , 0.6533203 , 0.6611328 , 0.71191406, 0.68066406,\n        0.74853516, 0.7944336 , 0.67529297, 0.7001953 , 0.6503906 ,\n        0.68310547, 0.6933594 , 0.67333984, 0.6616211 , 0.6669922 ,\n        0.71728516, 0.7260742 , 0.6801758 , 0.6879883 , 0.65966797,\n        0.6826172 , 0.6660156 , 0.7006836 , 0.6953125 , 0.72021484,\n        0.6855469 , 0.5996094 , 0.69091797, 0.74072266, 0.6850586 ,\n        0.6694336 , 0.6748047 , 0.69873047, 0.65771484, 0.70214844,\n        0.6855469 , 0.6953125 , 0.65527344, 0.7163086 , 0.65527344,\n        0.6567383 , 0.68115234, 1.0009766 , 0.8071289 , 0.7114258 ,\n        0.69628906, 0.6791992 , 1.        , 0.74316406, 0.7192383 ,\n        0.7290039 , 0.62158203, 0.7104492 , 0.6850586 , 0.64160156,\n        0.7158203 , 0.68603516, 0.68896484, 0.7548828 , 0.69140625,\n        0.6972656 , 0.65771484, 0.99853516, 0.6274414 , 0.7128906 ,\n        0.70166016, 0.6533203 , 0.7597656 , 0.71728516, 0.71875   ,\n        0.6977539 , 0.6743164 , 0.69873047, 0.67822266, 0.7006836 ,\n        0.7133789 , 0.7451172 , 0.68896484, 0.6621094 , 0.6850586 ,\n        0.6972656 , 0.64941406, 0.7294922 , 0.68066406, 0.72509766,\n        0.6772461 , 0.6503906 , 0.6328125 , 0.69970703, 0.6928711 ,\n        0.72314453, 0.71240234, 0.65478516, 0.65527344, 0.7158203 ,\n        0.66259766, 0.6699219 , 0.6352539 , 0.6582031 , 0.6376953 ,\n        0.6738281 , 0.6665039 , 0.67578125, 0.69433594, 0.6923828 ,\n        0.734375  , 0.6982422 , 0.7036133 , 0.6904297 , 0.73779297,\n        0.71533203, 0.6669922 , 0.69140625, 0.73583984, 0.73535156,\n        0.6796875 , 0.6513672 , 0.6459961 , 0.6879883 , 0.75878906,\n        0.6850586 , 0.71533203, 0.7207031 , 0.6713867 , 0.74853516,\n        0.65771484, 0.6743164 , 0.69970703, 0.67041016, 0.66259766,\n        0.68896484, 0.68310547, 0.7060547 , 0.640625  , 0.70703125,\n        0.6743164 , 0.69628906, 0.6640625 , 0.6982422 , 0.7001953 ,\n        0.7324219 , 0.6899414 , 0.7104492 , 0.72558594, 0.6621094 ,\n        0.72314453, 0.67089844, 0.65722656, 0.7084961 , 0.6816406 ,\n        0.6972656 , 0.6972656 , 0.6899414 , 0.6020508 , 0.6582031 ,\n        0.6567383 , 0.71191406, 0.6845703 , 0.7207031 , 0.734375  ,\n        0.7294922 , 0.68310547, 0.703125  , 0.7158203 , 0.71875   ,\n        0.6772461 , 0.76416016, 0.7451172 , 0.59521484, 0.7709961 ,\n        0.72265625, 0.72753906, 0.65283203, 0.62597656, 0.71533203,\n        0.6801758 , 0.7314453 , 0.68359375, 0.7294922 , 0.6821289 ,\n        0.67578125, 0.67871094, 0.94189453, 0.7060547 , 0.5522461 ,\n        0.64941406, 0.7006836 , 0.71191406, 0.7446289 , 0.7290039 ,\n        0.7138672 , 0.69677734, 0.6796875 , 0.6777344 , 0.74560547,\n        0.6503906 , 0.69970703, 0.6791992 , 0.69433594, 0.6894531 ,\n        0.86376953, 0.7211914 , 0.6826172 , 0.6645508 , 0.67041016,\n        0.9345703 , 0.66845703, 0.6459961 , 0.67626953, 0.6933594 ,\n        0.7392578 , 0.6948242 , 0.96728516, 0.7260742 , 0.71875   ,\n        0.70751953, 0.71240234, 0.6875    , 0.66845703, 0.70703125,\n        0.6723633 , 0.6958008 , 0.6152344 , 0.78271484, 0.99902344,\n        0.6713867 , 0.65771484, 0.70166016, 0.71728516, 0.66748047,\n        0.70751953, 0.6660156 , 0.7060547 , 0.72802734, 0.6689453 ,\n        0.6767578 , 0.6166992 , 0.67626953, 0.7270508 , 0.66064453,\n        0.66845703, 0.9057617 , 0.67285156, 0.6171875 , 0.66796875,\n        0.70996094, 0.71435547, 0.7705078 , 0.6855469 , 0.6591797 ,\n        0.703125  , 0.8769531 , 0.68115234, 0.66845703, 0.6933594 ,\n        0.67578125, 0.67822266, 0.71240234, 0.6899414 , 0.71533203,\n        0.68847656, 0.6665039 , 0.7680664 , 0.72509766, 0.734375  ,\n        0.72753906, 0.69189453, 0.6850586 , 0.65966797, 0.7133789 ,\n        0.62402344, 0.6923828 , 0.6557617 , 0.6953125 , 0.6777344 ,\n        0.6567383 , 0.734375  , 0.68603516, 0.6743164 , 0.6586914 ,\n        0.703125  , 0.7138672 , 0.7084961 , 0.6870117 , 0.68408203,\n        0.6977539 , 0.67529297, 0.7294922 , 0.62841797, 0.6875    ,\n        0.69433594, 0.66015625, 0.70751953, 0.6748047 , 0.55322266,\n        1.        , 1.        , 0.68310547, 0.75      , 0.65527344,\n        0.70410156, 0.64208984, 0.6665039 , 0.67285156, 0.7104492 ,\n        0.7084961 , 0.66503906, 0.68115234, 0.7060547 , 0.6899414 ,\n        0.68896484, 0.71435547, 0.64453125, 0.6928711 , 0.7163086 ,\n        0.6972656 , 0.62597656, 0.6660156 , 0.7104492 , 0.67333984,\n        0.7216797 , 0.6645508 , 0.7192383 , 0.6933594 , 0.8432617 ,\n        0.7006836 , 0.47265625, 0.6767578 , 0.74853516, 0.70996094,\n        0.77001953, 0.75341797, 0.6845703 , 0.67871094, 0.6801758 ,\n        0.6767578 , 0.7036133 , 0.6855469 , 0.7109375 , 0.671875  ,\n        0.6767578 , 0.72021484, 0.7001953 , 0.7011719 , 0.72314453,\n        0.640625  , 0.63378906, 0.6870117 , 0.63720703, 0.76464844,\n        0.7055664 , 0.6777344 , 0.71191406, 0.7480469 , 0.7207031 ,\n        0.69189453, 0.6801758 , 0.6845703 , 0.70703125, 0.62109375,\n        0.6611328 , 0.6616211 , 0.99365234, 0.71435547, 0.68310547,\n        0.6904297 , 0.73876953, 0.69433594, 0.72265625, 0.7026367 ,\n        0.7104492 , 0.7480469 , 0.69189453, 0.6459961 , 0.60595703,\n        0.6933594 , 0.6689453 , 0.6694336 , 0.70166016, 0.63378906,\n        0.7055664 , 0.6801758 , 0.6274414 , 0.65185547, 0.71972656,\n        0.67529297, 0.6816406 , 0.67626953, 0.66308594, 0.87841797,\n        0.6879883 , 0.6176758 , 0.68359375, 0.7207031 , 0.6723633 ,\n        0.6958008 , 0.68847656, 0.7133789 , 0.6713867 , 0.70996094,\n        0.6723633 , 0.7089844 , 0.6699219 , 0.6611328 , 0.6982422 ,\n        0.7080078 , 0.60839844, 0.61376953, 0.7216797 , 0.63378906,\n        0.6455078 , 0.72998047, 0.62158203, 0.65966797, 0.7089844 ,\n        0.6713867 , 0.6582031 , 0.70410156, 0.9995117 , 0.7290039 ,\n        0.7167969 , 0.70458984, 0.70410156, 0.671875  , 0.7050781 ,\n        0.69384766, 0.69970703, 0.68066406, 0.65625   , 0.6611328 ,\n        0.6796875 , 0.66503906, 0.68066406, 0.6821289 , 0.70751953,\n        0.6894531 , 0.68652344, 0.6879883 , 0.68359375, 0.6533203 ,\n        0.6982422 , 0.7319336 , 0.71435547, 0.6953125 , 0.6538086 ,\n        0.6933594 , 0.71484375, 0.67871094, 0.66796875, 0.65478516,\n        0.69433594, 0.70751953, 0.69189453, 0.69628906, 0.6713867 ,\n        0.74316406, 0.69140625, 0.6899414 , 0.71533203, 0.13366699,\n        0.6723633 , 0.7475586 , 0.7109375 , 0.63623047, 0.6972656 ,\n        0.6489258 , 0.6699219 , 0.73828125, 0.6821289 , 0.66064453,\n        0.68896484, 0.6933594 , 0.6503906 , 0.6875    , 0.6386719 ,\n        0.70166016, 0.69140625, 0.69677734, 0.67089844, 0.6455078 ,\n        0.7368164 , 0.70458984, 0.7026367 , 0.7285156 , 0.7109375 ,\n        0.68310547, 0.69091797, 0.68359375, 0.6230469 , 0.67529297,\n        0.66064453, 0.7006836 , 0.6723633 , 0.8359375 , 0.70654297,\n        0.74853516, 0.6948242 , 0.66503906, 0.69921875, 0.7402344 ,\n        0.64501953, 0.70751953, 0.6791992 , 0.73339844, 0.6977539 ,\n        0.74365234, 0.74365234, 0.6948242 , 0.66552734, 0.71191406,\n        0.64501953, 0.72021484, 0.671875  , 0.6850586 , 0.68359375,\n        0.69628906, 0.99853516, 0.7285156 , 0.7182617 , 0.64697266,\n        0.6640625 , 0.71435547, 0.7006836 , 0.68115234, 0.7426758 ,\n        0.66796875, 0.93652344, 0.6845703 , 0.6328125 , 0.72753906,\n        0.6879883 , 0.6748047 , 0.69921875, 0.73535156, 0.6826172 ,\n        0.97802734, 0.6352539 , 0.67333984, 0.7348633 , 0.71972656,\n        0.6723633 , 0.6777344 , 0.7216797 , 0.65527344, 0.71240234,\n        0.73095703, 0.69873047, 0.6850586 , 0.68652344, 0.6879883 ,\n        0.7192383 , 0.7807617 , 0.69091797, 0.9995117 , 0.68115234,\n        0.67333984, 0.6738281 , 0.6323242 , 0.6767578 , 0.67529297,\n        0.7207031 , 0.68408203, 0.67041016, 0.6845703 , 0.6669922 ,\n        0.7392578 , 0.75097656, 0.61621094, 0.69433594, 0.7036133 ,\n        0.6977539 , 0.6933594 , 0.68408203, 0.68603516, 0.7104492 ,\n        0.6225586 , 0.7363281 , 0.6611328 , 0.7158203 , 0.6772461 ,\n        0.72998047, 0.6821289 , 0.71728516, 0.6152344 , 0.72265625,\n        0.69140625, 0.69970703, 0.74658203, 0.7084961 , 0.8129883 ,\n        0.7260742 , 0.6821289 , 0.6875    , 0.6772461 , 0.72265625,\n        0.65234375, 0.65283203, 0.67529297, 0.671875  , 0.68066406,\n        0.6660156 , 0.7241211 , 0.68115234, 0.68359375, 0.6533203 ,\n        0.68066406, 0.6621094 , 0.65966797, 0.67285156, 0.70410156,\n        0.6972656 , 0.6489258 , 0.7709961 , 0.61376953, 0.71777344,\n        0.6459961 , 0.7602539 , 0.6088867 , 0.6586914 , 0.6958008 ,\n        0.61572266, 0.58740234, 0.6298828 , 0.6899414 , 0.69384766,\n        0.67871094, 0.69384766, 0.74121094, 0.71484375, 0.9970703 ,\n        0.66503906, 0.6611328 , 0.75146484, 0.65625   , 0.7246094 ,\n        0.7558594 , 0.6855469 , 0.79003906, 0.6538086 , 0.72314453,\n        0.6713867 , 0.7133789 , 0.68847656, 0.671875  , 0.73779297,\n        0.69189453, 0.67626953, 0.6953125 , 0.6953125 , 0.65771484,\n        0.65283203, 0.6479492 , 0.6894531 , 0.66503906, 0.7109375 ,\n        0.68652344, 0.6875    , 0.6689453 , 0.7114258 , 0.6855469 ,\n        0.74902344, 0.66748047, 0.6489258 , 0.6777344 , 0.66064453,\n        0.7080078 , 0.7163086 , 0.6254883 , 0.6982422 , 0.69873047,\n        0.7109375 , 0.68847656, 0.7192383 , 0.6972656 , 0.6870117 ,\n        0.6352539 , 0.6694336 , 0.65966797, 0.6958008 , 0.70166016,\n        0.7109375 , 0.65722656, 0.67089844, 0.7290039 , 0.71191406,\n        0.73339844, 0.69677734, 0.7167969 , 0.7211914 , 0.69189453,\n        0.6694336 , 0.75      , 0.7080078 , 0.6230469 , 0.6894531 ,\n        0.69921875, 0.5986328 , 0.72314453, 0.7158203 , 0.70654297,\n        0.6347656 , 0.6928711 , 0.67578125, 0.6958008 , 0.7241211 ,\n        0.68847656, 0.7241211 , 0.70947266, 0.69873047, 0.67333984,\n        0.69091797, 0.6425781 , 0.68603516, 0.7241211 , 0.75439453,\n        0.69091797, 0.6557617 , 0.75878906, 0.62890625, 0.69677734,\n        0.6904297 , 0.68066406, 0.671875  , 0.7163086 , 0.6958008 ,\n        0.76464844, 0.6767578 , 0.6738281 , 0.7060547 , 0.7216797 ,\n        0.7558594 , 0.70947266, 0.6826172 ], dtype=float32),\n array([ 0.06549072,  0.16784668,  0.09985352,  0.04510498,  0.24816895,\n         0.03610229,  0.0847168 ,  0.10076904,  0.01992798,  0.07080078,\n         0.11407471,  0.1315918 ,  0.10723877,  0.12359619,  0.04153442,\n         0.16552734,  0.16357422,  0.10766602,  0.05270386,  0.12817383,\n         0.06427002,  0.1381836 ,  0.09881592,  0.10351562,  0.09295654,\n         0.17785645,  0.16259766,  0.03363037,  0.12524414,  0.12561035,\n         0.05084229,  0.08496094,  0.15368652,  0.1048584 ,  0.0335083 ,\n         0.04772949,  0.01937866,  0.07427979,  0.16210938,  0.09020996,\n        -0.03317261,  0.1418457 ,  0.04223633,  0.07836914,  0.05957031,\n         0.04541016,  0.07373047,  0.12353516,  0.07739258,  0.11883545,\n         0.12036133,  0.04412842,  0.05371094,  0.1217041 ,  0.11462402,\n         0.07348633,  0.09613037,  0.10998535,  0.06567383,  0.09710693,\n         0.11499023,  0.07275391,  0.08709717,  0.15307617,  0.09918213,\n         0.12902832,  0.0824585 ,  0.03125   ,  0.07232666,  0.07873535,\n         0.08538818,  0.10650635,  0.04425049,  0.04003906,  0.11608887,\n         0.00189686,  0.10614014,  0.25097656,  0.02360535,  0.1607666 ,\n         0.08123779,  0.12249756,  0.25219727,  0.11578369,  0.13500977,\n        -0.01073456,  0.06262207,  0.0871582 ,  0.09539795,  0.07580566,\n         0.09094238,  0.12042236,  0.12927246,  0.09625244,  0.03115845,\n        -0.00559616,  0.0541687 , -0.04406738,  0.0604248 ,  0.10888672,\n         0.14147949,  0.081604  , -0.10009766,  0.01248169,  0.04534912,\n         0.09637451,  0.11016846,  0.14782715,  0.06347656,  0.11621094,\n         0.05804443,  0.10113525,  0.07611084,  0.05575562,  0.10736084,\n         0.07513428,  0.10040283,  0.07830811,  0.09191895,  0.15014648,\n         0.06463623,  0.02328491,  0.03848267,  0.13867188,  0.14501953,\n         0.09619141,  0.14990234,  0.03717041,  0.09088135,  0.14904785,\n         0.09124756, -0.16845703,  0.05950928,  0.0026226 ,  0.09686279,\n         0.07452393,  0.0329895 ,  0.09234619,  0.08905029,  0.08502197,\n         0.11199951,  0.10345459,  0.12164307,  0.08258057,  0.13183594,\n         0.07263184,  0.0725708 ,  0.12109375,  0.0496521 ,  0.03372192,\n         0.08404541,  0.10168457,  0.10888672,  0.12261963,  0.03030396,\n         0.2512207 ,  0.11547852,  0.04434204,  0.04818726,  0.12561035,\n         0.05978394,  0.00523758,  0.15344238,  0.11047363,  0.12780762,\n         0.12322998,  0.06378174,  0.12536621,  0.16101074,  0.0748291 ,\n         0.11828613,  0.04104614,  0.10302734,  0.04785156,  0.08599854,\n         0.10534668,  0.04327393,  0.11395264,  0.15112305,  0.07971191,\n         0.04315186,  0.08862305,  0.13061523,  0.097229  ,  0.13000488,\n         0.06234741,  0.12463379,  0.07006836,  0.12310791,  0.06256104,\n         0.00782776,  0.12939453,  0.09118652,  0.1217041 ,  0.11914062,\n         0.11914062,  0.12902832,  0.1126709 ,  0.10766602,  0.07086182,\n         0.06536865,  0.04162598,  0.1003418 ,  0.03793335,  0.19055176,\n         0.05056763,  0.0174408 ,  0.06164551,  0.04705811,  0.14355469,\n         0.07275391,  0.10229492,  0.13879395,  0.015625  ,  0.12512207,\n         0.11816406,  0.03234863,  0.1270752 ,  0.03302002,  0.07067871,\n         0.09527588,  0.12188721,  0.01593018,  0.02990723,  0.12463379,\n         0.12609863,  0.04180908,  0.08990479,  0.05184937,  0.09191895,\n         0.09954834,  0.14208984,  0.02003479,  0.08459473,  0.097229  ,\n        -0.17822266,  0.1385498 ,  0.06304932,  0.11468506,  0.0838623 ,\n        -0.15283203,  0.06958008,  0.0670166 ,  0.0927124 ,  0.11895752,\n         0.12878418,  0.11468506,  0.01223755,  0.05267334,  0.06243896,\n         0.12298584,  0.09674072,  0.0411377 ,  0.0736084 ,  0.14807129,\n         0.09881592,  0.08355713,  0.04388428,  0.13989258,  0.12384033,\n         0.06201172,  0.08966064,  0.12445068,  0.16674805,  0.11730957,\n         0.03131104,  0.08648682,  0.05636597,  0.1114502 ,  0.09362793,\n         0.11517334,  0.05630493,  0.12866211,  0.1262207 ,  0.1270752 ,\n         0.07672119, -0.03604126,  0.04785156,  0.06216431,  0.0307312 ,\n         0.15466309,  0.13232422, -0.01005554,  0.10565186,  0.03292847,\n         0.05627441,  0.03640747,  0.12854004,  0.05352783,  0.09619141,\n         0.09533691,  0.14172363,  0.08081055,  0.12768555,  0.11993408,\n         0.09838867,  0.09552002,  0.13012695,  0.11846924,  0.17480469,\n         0.16711426,  0.07763672,  0.18408203,  0.11352539,  0.10284424,\n         0.05130005,  0.1192627 ,  0.08251953,  0.08251953,  0.10961914,\n         0.1262207 ,  0.15686035,  0.07733154,  0.08374023,  0.11968994,\n         0.02742004,  0.09234619,  0.12756348,  0.06112671,  0.09753418,\n         0.11419678,  0.1138916 ,  0.07501221,  0.04159546,  0.04995728,\n         0.08129883,  0.12731934,  0.06262207,  0.06341553,  0.17089844,\n        -0.06604004,  0.17175293,  0.03140259,  0.13269043,  0.06210327,\n         0.074646  ,  0.10455322,  0.01436615,  0.01774597,  0.15515137,\n         0.11700439,  0.04656982,  0.0713501 ,  0.07189941,  0.05297852,\n         0.08898926,  0.14648438,  0.02861023,  0.10968018,  0.03494263,\n         0.03881836,  0.0456543 ,  0.04718018,  0.05703735,  0.11419678,\n         0.16638184,  0.05862427,  0.07427979,  0.07489014, -0.06573486,\n         0.06005859,  0.1776123 ,  0.0960083 ,  0.03512573,  0.10217285,\n         0.02479553, -0.04476929,  0.06243896,  0.03338623,  0.09893799,\n         0.05795288,  0.14196777,  0.14233398,  0.12670898,  0.07568359,\n         0.15258789,  0.01506805,  0.12103271,  0.13830566, -0.0713501 ,\n         0.03100586,  0.10186768,  0.11968994,  0.09460449,  0.15588379,\n        -0.00744629,  0.14526367,  0.09405518,  0.13195801,  0.14123535,\n         0.06280518,  0.07525635,  0.07336426,  0.15429688,  0.02435303,\n         0.09661865,  0.12646484, -0.03845215,  0.03387451,  0.11242676,\n         0.05776978,  0.14440918,  0.13146973,  0.13684082,  0.10577393,\n         0.11346436,  0.03744507,  0.08123779,  0.06549072,  0.0859375 ,\n         0.04141235,  0.11779785,  0.07830811,  0.09576416,  0.04705811,\n         0.05541992,  0.12573242,  0.01425171,  0.01423645,  0.10491943,\n         0.07861328,  0.06274414,  0.04711914,  0.11517334,  0.00952911,\n         0.09619141,  0.06347656,  0.11590576,  0.04412842,  0.10192871,\n         0.09283447,  0.06118774,  0.10827637,  0.08880615,  0.06228638,\n         0.05688477,  0.11651611,  0.04003906,  0.07617188,  0.12213135,\n         0.06622314,  0.02372742,  0.04763794,  0.08496094,  0.06964111,\n         0.0736084 ,  0.10974121,  0.09313965,  0.04693604,  0.15612793,\n         0.02616882,  0.10870361,  0.09637451, -0.29858398,  0.11132812,\n         0.10064697,  0.06414795,  0.09613037,  0.05593872,  0.12915039,\n         0.12164307,  0.06164551,  0.09417725,  0.09136963,  0.0625    ,\n         0.09875488,  0.09399414,  0.06933594,  0.12237549,  0.12756348,\n         0.13549805,  0.07629395,  0.06854248,  0.12353516,  0.09265137,\n         0.10705566,  0.03167725,  0.04074097,  0.05456543,  0.05905151,\n         0.08227539,  0.06240845,  0.09881592,  0.06176758,  0.10980225,\n         0.13232422,  0.09820557,  0.12927246, -0.00621796,  0.11578369,\n         0.00782776,  0.12207031,  0.06109619,  0.09741211, -0.26489258,\n         0.06240845,  0.12207031,  0.14001465,  0.15661621,  0.11877441,\n         0.08911133,  0.06231689,  0.1673584 ,  0.11987305,  0.0814209 ,\n         0.00320053,  0.09411621,  0.1227417 ,  0.06246948,  0.0585022 ,\n         0.12268066,  0.07781982,  0.03421021,  0.05862427,  0.05783081,\n         0.0925293 ,  0.07354736,  0.11956787,  0.14294434,  0.13867188,\n         0.12805176,  0.03997803,  0.11755371,  0.12902832,  0.08789062,\n         0.10168457,  0.09063721,  0.05648804,  0.08929443,  0.09936523,\n         0.16015625,  0.09008789,  0.05441284,  0.08508301,  0.10961914,\n         0.06304932,  0.12390137,  0.07177734,  0.17297363,  0.06219482,\n         0.10565186, -0.00223923,  0.12365723,  0.03140259,  0.02973938,\n         0.03948975,  0.10070801,  0.0848999 ,  0.08404541,  0.04672241,\n         0.03070068, -0.2626953 ,  0.12670898,  0.09197998,  0.07629395,\n         0.06469727,  0.09014893,  0.0993042 ,  0.11700439,  0.08502197,\n         0.05599976,  0.03500366,  0.10650635,  0.06240845,  0.02891541,\n         0.0619812 ,  0.07928467,  0.03161621,  0.0892334 ,  0.11724854,\n        -0.14282227,  0.15197754,  0.12634277,  0.18981934,  0.10949707,\n         0.04742432,  0.1071167 ,  0.12805176,  0.1206665 ,  0.04696655,\n         0.12963867,  0.14257812,  0.06359863,  0.0539856 ,  0.08001709,\n         0.03713989,  0.11480713,  0.14123535,  0.3947754 ,  0.09698486,\n         0.11077881,  0.01766968,  0.06240845,  0.0602417 ,  0.04949951,\n         0.15734863,  0.07324219,  0.08972168,  0.10552979,  0.01615906,\n         0.08929443,  0.11584473,  0.06811523,  0.04449463,  0.11968994,\n         0.11956787,  0.10723877,  0.09295654,  0.10974121,  0.12084961,\n         0.04794312, -0.03915405,  0.11755371,  0.14587402,  0.01564026,\n         0.08398438,  0.06945801,  0.13562012,  0.0869751 ,  0.15185547,\n         0.12182617,  0.09887695,  0.18103027,  0.05258179,  0.03100586,\n         0.11651611,  0.07977295,  0.05718994,  0.08355713,  0.15966797,\n         0.12756348,  0.0383606 ,  0.04150391,  0.0848999 ,  0.04882812,\n         0.10198975,  0.12310791,  0.01681519,  0.10913086,  0.06903076,\n         0.09832764,  0.03622437,  0.06854248,  0.04626465,  0.10058594,\n         0.11639404,  0.03857422,  0.16394043,  0.04064941,  0.02018738,\n         0.06201172, -0.00914764, -0.00792694,  0.10919189,  0.10601807,\n         0.05664062,  0.11016846,  0.06329346,  0.08679199,  0.08068848,\n         0.12158203,  0.03167725,  0.07299805,  0.10675049,  0.23620605,\n         0.07122803,  0.04995728, -0.00836182,  0.01145172,  0.07250977,\n         0.12243652,  0.10009766, -0.07232666,  0.07855225, -0.00147533,\n         0.11547852,  0.08538818,  0.10980225,  0.04611206,  0.00148582,\n         0.03414917,  0.09002686,  0.08496094,  0.0357666 ,  0.1315918 ,\n         0.12976074,  0.06115723,  0.00940704,  0.02284241,  0.09362793,\n         0.07330322,  0.08459473,  0.08056641,  0.10559082,  0.12249756,\n         0.12072754,  0.03179932,  0.10180664,  0.14282227,  0.0760498 ,\n         0.0072403 ,  0.09509277,  0.03244019,  0.0894165 ,  0.11010742,\n         0.10168457,  0.11804199,  0.15612793,  0.13781738,  0.11273193,\n         0.06750488,  0.03494263,  0.09985352,  0.06237793,  0.11968994,\n         0.09014893,  0.08221436,  0.07885742,  0.13134766,  0.0350647 ,\n         0.14001465,  0.11523438,  0.0302124 ,  0.08666992,  0.13342285,\n         0.06216431,  0.14770508,  0.09088135,  0.12365723,  0.01968384,\n         0.078125  , -0.16833496,  0.00379562,  0.1083374 ,  0.09429932,\n         0.09240723,  0.01146698,  0.07550049,  0.05072021,  0.14892578,\n         0.03048706,  0.02459717,  0.06256104,  0.09979248,  0.12792969,\n         0.10424805,  0.10101318,  0.10339355,  0.14196777,  0.01230621,\n         0.01826477,  0.00854492,  0.05044556,  0.10552979,  0.16137695,\n         0.05725098,  0.12091064,  0.04431152,  0.13208008,  0.09503174,\n         0.01194763,  0.08599854,  0.11724854,  0.06103516,  0.10754395,\n         0.04043579,  0.1430664 ,  0.14416504], dtype=float32),\n array([0.61816406, 0.6777344 , 0.61083984, 0.73583984, 0.9995117 ,\n        0.9584961 , 0.61376953, 0.7426758 , 0.91845703, 0.68896484,\n        0.7470703 , 0.9355469 , 0.60009766, 0.7998047 , 0.7060547 ,\n        0.9160156 , 0.9121094 , 0.7817383 , 0.87597656, 0.8544922 ,\n        0.6459961 , 0.83496094, 0.77783203, 0.76464844, 0.73828125,\n        0.6953125 , 0.7973633 , 0.83691406, 0.8120117 , 0.76660156,\n        0.7182617 , 0.7128906 , 0.65771484, 0.6464844 , 0.76220703,\n        0.76904297, 0.7890625 , 0.6386719 , 0.8364258 , 0.64941406,\n        0.86621094, 0.9555664 , 0.7548828 , 0.69628906, 0.6464844 ,\n        0.79248047, 0.7128906 , 0.84033203, 0.59472656, 0.7158203 ,\n        0.68603516, 0.9160156 , 0.7685547 , 0.6928711 , 0.67333984,\n        0.7241211 , 0.6640625 , 0.8857422 , 0.8144531 , 0.66064453,\n        0.72216797, 0.91064453, 0.7529297 , 0.81347656, 0.7578125 ,\n        0.63427734, 0.6401367 , 0.9589844 , 0.78808594, 0.7338867 ,\n        0.7006836 , 0.80371094, 0.6538086 , 0.8486328 , 0.6816406 ,\n        0.7084961 , 0.77441406, 0.9970703 , 0.9770508 , 0.6923828 ,\n        0.6621094 , 0.78027344, 0.9975586 , 0.80566406, 0.73876953,\n        0.98095703, 0.6484375 , 0.72558594, 0.6645508 , 0.6660156 ,\n        0.7524414 , 0.7363281 , 0.8496094 , 0.8305664 , 0.7216797 ,\n        0.74902344, 0.6542969 , 0.99853516, 0.5966797 , 0.7495117 ,\n        0.74853516, 0.6357422 , 0.98339844, 0.93652344, 0.63916016,\n        0.7529297 , 0.7475586 , 0.72314453, 0.7475586 , 0.71777344,\n        0.7885742 , 0.8359375 , 0.74316406, 0.6152344 , 0.71875   ,\n        0.7402344 , 0.71191406, 0.6357422 , 0.63964844, 0.8359375 ,\n        0.70410156, 0.7885742 , 0.8359375 , 0.7519531 , 0.79833984,\n        0.76464844, 0.75634766, 0.7709961 , 0.72265625, 0.77734375,\n        0.62939453, 0.9716797 , 0.6479492 , 0.8745117 , 0.77783203,\n        0.6147461 , 0.7392578 , 0.6791992 , 0.73291016, 0.66552734,\n        0.7753906 , 0.7529297 , 0.78027344, 0.73583984, 0.8642578 ,\n        0.77441406, 0.6767578 , 0.7626953 , 0.81640625, 0.9140625 ,\n        0.72802734, 0.80371094, 0.72753906, 0.64404297, 0.9707031 ,\n        0.8178711 , 0.78759766, 0.8642578 , 0.8017578 , 0.8359375 ,\n        0.75683594, 0.7714844 , 0.74658203, 0.75341797, 0.7089844 ,\n        0.61035156, 0.7216797 , 0.67333984, 0.7470703 , 0.7089844 ,\n        0.67333984, 0.76464844, 0.6743164 , 0.7402344 , 0.7861328 ,\n        0.7661133 , 0.71972656, 0.7597656 , 0.71875   , 0.6586914 ,\n        0.7011719 , 0.5859375 , 0.67285156, 0.7685547 , 0.77978516,\n        0.69970703, 0.6821289 , 0.72509766, 0.71484375, 0.88964844,\n        0.92529297, 0.73291016, 0.7260742 , 0.7915039 , 0.67871094,\n        0.7993164 , 0.7426758 , 0.62402344, 0.75390625, 0.59033203,\n        0.7919922 , 0.9482422 , 0.77685547, 0.6958008 , 0.984375  ,\n        0.68847656, 0.8364258 , 0.70458984, 0.6459961 , 0.70996094,\n        0.62646484, 0.8652344 , 0.74121094, 0.8339844 , 0.71240234,\n        0.7363281 , 0.78515625, 0.9902344 , 0.7451172 , 0.86621094,\n        0.6459961 , 0.7236328 , 0.88720703, 0.86621094, 0.7636719 ,\n        0.7734375 , 0.6791992 , 0.62841797, 0.7319336 , 0.7963867 ,\n        0.5961914 , 0.71484375, 0.8432617 , 0.75097656, 0.7290039 ,\n        0.9946289 , 0.6982422 , 0.63720703, 0.7006836 , 0.72753906,\n        0.99609375, 0.5751953 , 0.6845703 , 0.66552734, 0.6352539 ,\n        0.71777344, 0.69628906, 0.9921875 , 0.9057617 , 0.7709961 ,\n        0.64453125, 0.84375   , 0.76708984, 0.72558594, 0.7265625 ,\n        0.7207031 , 0.6845703 , 0.59814453, 0.92529297, 0.99658203,\n        0.6923828 , 0.77490234, 0.7607422 , 0.7739258 , 0.7324219 ,\n        0.84033203, 0.6455078 , 0.68652344, 0.69873047, 0.6870117 ,\n        0.734375  , 0.6147461 , 0.7973633 , 0.8027344 , 0.5732422 ,\n        0.6274414 , 0.99853516, 0.7583008 , 0.81884766, 0.7270508 ,\n        0.73339844, 0.80908203, 0.9550781 , 0.86035156, 0.83740234,\n        0.9482422 , 0.9736328 , 0.78222656, 0.7324219 , 0.64208984,\n        0.63183594, 0.7241211 , 0.82714844, 0.68359375, 0.7011719 ,\n        0.75341797, 0.6503906 , 0.8852539 , 0.69873047, 0.79345703,\n        0.8466797 , 0.78027344, 0.7348633 , 0.6645508 , 0.65771484,\n        0.78125   , 0.6894531 , 0.67285156, 0.7583008 , 0.80371094,\n        0.7026367 , 0.82666016, 0.73535156, 0.8017578 , 0.65234375,\n        0.8100586 , 0.8017578 , 0.7763672 , 0.67089844, 0.72021484,\n        0.6635742 , 0.6972656 , 0.7480469 , 0.62939453, 0.80615234,\n        0.7578125 , 0.83691406, 0.72802734, 0.7680664 , 0.69140625,\n        0.99853516, 0.99902344, 0.8574219 , 0.8388672 , 0.6904297 ,\n        0.72558594, 0.63623047, 0.66845703, 0.79296875, 0.7270508 ,\n        0.6826172 , 0.8208008 , 0.7080078 , 0.65185547, 0.6635742 ,\n        0.7651367 , 0.73095703, 0.76904297, 0.7241211 , 0.80908203,\n        0.84521484, 0.7236328 , 0.9082031 , 0.7729492 , 0.72509766,\n        0.8076172 , 0.6972656 , 0.66552734, 0.68408203, 0.9926758 ,\n        0.8798828 , 0.7373047 , 0.65771484, 0.8925781 , 0.76464844,\n        0.9111328 , 0.984375  , 0.7788086 , 0.7392578 , 0.6879883 ,\n        0.6894531 , 0.7832031 , 0.6303711 , 0.75878906, 0.68310547,\n        0.62890625, 0.78808594, 0.7138672 , 0.8261719 , 0.86035156,\n        0.62353516, 0.7241211 , 0.68896484, 0.5932617 , 0.85302734,\n        0.9038086 , 0.7319336 , 0.77685547, 0.86621094, 0.60595703,\n        0.66748047, 0.8828125 , 0.71240234, 0.74853516, 0.63183594,\n        0.6479492 , 0.72558594, 0.98779297, 0.9345703 , 0.64404297,\n        0.74560547, 0.8232422 , 0.70947266, 0.8989258 , 0.7270508 ,\n        0.7441406 , 0.9941406 , 0.703125  , 0.6870117 , 0.86035156,\n        0.7163086 , 0.78759766, 0.6225586 , 0.84521484, 0.7739258 ,\n        0.6464844 , 0.68847656, 0.84375   , 0.9501953 , 0.81152344,\n        0.76464844, 0.61376953, 0.7167969 , 0.71777344, 0.9794922 ,\n        0.6748047 , 0.86865234, 0.6430664 , 0.77197266, 0.6464844 ,\n        0.7324219 , 0.6977539 , 0.89501953, 0.66796875, 0.73583984,\n        0.7783203 , 0.60546875, 0.6879883 , 0.7817383 , 0.7451172 ,\n        0.79785156, 0.75097656, 0.6948242 , 0.80859375, 0.8486328 ,\n        0.74658203, 0.8857422 , 0.63183594, 0.86816406, 0.83154297,\n        0.89404297, 0.7597656 , 0.80908203, 0.99853516, 0.7895508 ,\n        0.85791016, 0.63720703, 0.6166992 , 0.77734375, 0.67822266,\n        0.6479492 , 0.73779297, 0.6899414 , 0.58251953, 0.63720703,\n        0.734375  , 0.71484375, 0.74121094, 0.7836914 , 0.7368164 ,\n        0.7402344 , 0.64990234, 0.72314453, 0.8178711 , 0.63964844,\n        0.68603516, 0.921875  , 0.7910156 , 0.80371094, 0.75097656,\n        0.6191406 , 0.703125  , 0.63134766, 0.5522461 , 0.66015625,\n        0.7241211 , 0.74609375, 0.7402344 , 0.7084961 , 0.6777344 ,\n        0.9448242 , 0.7807617 , 0.7285156 , 0.76464844, 0.02928162,\n        0.69873047, 0.95703125, 0.78027344, 0.9082031 , 0.6381836 ,\n        0.59765625, 0.63964844, 0.7753906 , 0.74902344, 0.64501953,\n        0.7871094 , 0.6616211 , 0.5966797 , 0.8076172 , 0.6958008 ,\n        0.6611328 , 0.85595703, 0.92089844, 0.59375   , 0.59375   ,\n        0.66552734, 0.73535156, 0.72998047, 0.8105469 , 0.9746094 ,\n        0.69921875, 0.74560547, 0.64941406, 0.67333984, 0.62060547,\n        0.64697266, 0.7373047 , 0.69628906, 0.72753906, 0.7734375 ,\n        0.8754883 , 0.7832031 , 0.6479492 , 0.62402344, 0.86328125,\n        0.69970703, 0.8183594 , 0.7680664 , 0.8486328 , 0.88671875,\n        0.8564453 , 0.81933594, 0.75      , 0.7421875 , 0.8964844 ,\n        0.8144531 , 0.7636719 , 0.6386719 , 0.6660156 , 0.8623047 ,\n        0.75634766, 0.9946289 , 0.6713867 , 0.74365234, 0.79785156,\n        0.6660156 , 0.6660156 , 0.7714844 , 0.6386719 , 0.8222656 ,\n        0.75927734, 0.9580078 , 0.6635742 , 0.65234375, 0.95947266,\n        0.7573242 , 0.73828125, 0.7714844 , 0.7216797 , 0.6669922 ,\n        0.9814453 , 0.6591797 , 0.7973633 , 0.93603516, 0.86816406,\n        0.69433594, 0.61035156, 0.7895508 , 0.7055664 , 0.69628906,\n        0.8671875 , 0.8095703 , 0.72314453, 0.7050781 , 0.6279297 ,\n        0.95214844, 0.9765625 , 0.84716797, 1.        , 0.76123047,\n        0.5932617 , 0.79248047, 0.7919922 , 0.75634766, 0.69140625,\n        0.8886719 , 0.7714844 , 0.6826172 , 0.6503906 , 0.77197266,\n        0.7944336 , 0.73828125, 0.59228516, 0.7680664 , 0.8461914 ,\n        0.79296875, 0.7260742 , 0.62939453, 0.7578125 , 0.8388672 ,\n        0.62402344, 0.88183594, 0.70947266, 0.88378906, 0.85839844,\n        0.8701172 , 0.64404297, 0.8071289 , 0.71484375, 0.8071289 ,\n        0.7236328 , 0.78222656, 0.88183594, 0.8022461 , 0.9584961 ,\n        0.69433594, 0.69970703, 0.8149414 , 0.6542969 , 0.7265625 ,\n        0.6894531 , 0.8178711 , 0.6772461 , 0.68652344, 0.8457031 ,\n        0.7319336 , 0.7949219 , 0.8276367 , 0.60058594, 0.6279297 ,\n        0.70996094, 0.8457031 , 0.6401367 , 0.9350586 , 0.80371094,\n        0.6923828 , 0.7763672 , 0.91796875, 0.6845703 , 0.8300781 ,\n        0.63916016, 0.90185547, 0.9238281 , 0.7661133 , 0.7006836 ,\n        0.83984375, 0.875     , 0.69091797, 0.72998047, 0.7475586 ,\n        0.67871094, 0.8276367 , 0.9067383 , 0.82910156, 0.9975586 ,\n        0.68066406, 0.6855469 , 0.9975586 , 0.6821289 , 0.6723633 ,\n        0.8959961 , 0.66015625, 0.9604492 , 0.6582031 , 0.94189453,\n        0.7661133 , 0.6894531 , 0.78222656, 0.8588867 , 0.89990234,\n        0.73339844, 0.69189453, 0.78271484, 0.64453125, 0.81347656,\n        0.68359375, 0.8305664 , 0.94873047, 0.93847656, 0.7783203 ,\n        0.6611328 , 0.77001953, 0.69628906, 0.7338867 , 0.82958984,\n        0.8203125 , 0.8071289 , 0.57421875, 0.65478516, 0.796875  ,\n        0.85058594, 0.765625  , 0.8261719 , 0.61865234, 0.62841797,\n        0.6166992 , 0.6982422 , 0.68310547, 0.7138672 , 0.63720703,\n        0.72998047, 0.7441406 , 0.6489258 , 0.7973633 , 0.70458984,\n        0.79541016, 0.76220703, 0.72558594, 0.8071289 , 0.69677734,\n        0.87890625, 0.76464844, 0.73339844, 0.7109375 , 0.78759766,\n        0.66845703, 0.9008789 , 0.69921875, 0.7036133 , 0.7084961 ,\n        0.7397461 , 0.89746094, 0.86572266, 0.8442383 , 0.83935547,\n        0.8046875 , 0.8251953 , 0.7324219 , 0.7895508 , 0.79248047,\n        0.9194336 , 0.78759766, 0.77001953, 0.66015625, 0.6152344 ,\n        0.6953125 , 0.62597656, 0.69873047, 0.77246094, 0.9941406 ,\n        0.7919922 , 0.84375   , 0.90966797, 0.7133789 , 0.75097656,\n        0.6616211 , 0.7373047 , 0.6723633 , 0.7211914 , 0.6542969 ,\n        0.9707031 , 0.6953125 , 0.7524414 , 0.66748047, 0.9042969 ,\n        0.9477539 , 0.6303711 , 0.7714844 ], dtype=float32),\n array([ 4.76379395e-02,  6.68945312e-02,  2.30255127e-02, -5.80978394e-03,\n         1.23535156e-01, -2.04315186e-02,  3.71704102e-02,  5.34973145e-02,\n         5.16967773e-02,  3.98254395e-02,  2.87933350e-02,  5.38635254e-02,\n         1.84478760e-02,  2.15911865e-02,  5.71289062e-02,  5.58471680e-02,\n         3.60488892e-03,  6.46972656e-02,  4.09851074e-02,  4.14733887e-02,\n         1.24740601e-02,  5.12390137e-02,  4.68139648e-02,  6.80541992e-02,\n         4.99572754e-02,  2.13012695e-02,  4.30603027e-02,  4.95300293e-02,\n         5.60302734e-02,  4.50439453e-02,  4.88281250e-02,  4.58679199e-02,\n         4.91943359e-02,  3.41491699e-02,  4.22668457e-02,  4.46472168e-02,\n         6.20422363e-02,  5.58471680e-02, -1.66320801e-02,  2.69317627e-02,\n         2.88238525e-02,  4.34494019e-03,  6.63452148e-02,  4.62036133e-02,\n         5.19714355e-02,  4.24804688e-02,  5.28564453e-02,  4.25720215e-02,\n         3.25622559e-02,  2.84881592e-02,  3.31115723e-02,  3.87268066e-02,\n         2.26287842e-02,  1.72424316e-02,  2.56042480e-02,  2.38952637e-02,\n         8.24737549e-03,  9.71069336e-02,  3.87878418e-02,  5.76782227e-02,\n         5.34057617e-02,  6.66503906e-02,  1.02424622e-03,  6.80541992e-02,\n         5.55419922e-02,  2.85797119e-02,  2.54974365e-02,  9.89532471e-03,\n         1.83868408e-02,  3.63159180e-02,  8.20922852e-02,  1.11846924e-02,\n         4.89501953e-02,  1.24359131e-02,  3.54614258e-02,  5.95397949e-02,\n         7.13500977e-02,  1.63574219e-02,  3.39355469e-02,  3.53088379e-02,\n         4.13818359e-02,  2.02026367e-02, -3.62243652e-02,  5.21545410e-02,\n         4.64172363e-02,  5.01403809e-02,  3.22570801e-02,  4.87060547e-02,\n         2.94952393e-02,  4.07104492e-02,  6.98242188e-02,  6.03942871e-02,\n         5.20629883e-02,  2.56042480e-02,  3.06091309e-02,  4.31823730e-02,\n         4.62646484e-02, -5.79833984e-02,  5.28259277e-02,  2.62145996e-02,\n         2.82440186e-02,  3.57971191e-02,  8.59375000e-02,  5.71594238e-02,\n         5.80749512e-02,  4.29382324e-02,  3.85742188e-02,  4.62036133e-02,\n         3.47290039e-02,  4.48608398e-02,  1.75476074e-02,  8.50219727e-02,\n         2.73590088e-02,  7.94067383e-02,  4.57763672e-02,  1.49383545e-02,\n         1.46789551e-02,  4.48913574e-02,  6.95800781e-02,  4.78820801e-02,\n         9.02709961e-02,  7.28759766e-02,  7.59277344e-02,  3.54309082e-02,\n         4.27856445e-02,  2.56652832e-02,  6.12182617e-02,  4.72717285e-02,\n         2.62756348e-02,  7.28759766e-02,  5.09338379e-02,  1.94244385e-02,\n         5.50537109e-02,  5.86853027e-02,  9.11254883e-02,  3.40270996e-02,\n         6.51855469e-02,  5.56335449e-02,  7.19604492e-02,  9.26513672e-02,\n         4.28466797e-02,  7.55615234e-02,  5.99060059e-02,  3.90930176e-02,\n         8.25805664e-02,  4.01000977e-02,  4.78515625e-02,  1.98059082e-02,\n         4.40063477e-02,  3.11279297e-03,  6.68945312e-02, -1.54113770e-02,\n         8.07952881e-03,  2.88543701e-02, -3.63731384e-03, -3.04222107e-03,\n         6.97631836e-02,  4.22363281e-02,  3.65295410e-02,  5.79223633e-02,\n         6.05773926e-02,  2.91137695e-02,  3.58581543e-02,  6.86035156e-02,\n         4.65698242e-02,  6.52694702e-03,  5.85021973e-02,  3.59802246e-02,\n         3.46069336e-02,  3.72009277e-02,  1.94244385e-02,  5.31311035e-02,\n         1.29318237e-02,  4.51965332e-02,  4.44030762e-02,  5.20019531e-02,\n         5.34362793e-02,  4.78820801e-02,  6.44683838e-04,  4.93774414e-02,\n         4.11376953e-02,  4.73937988e-02,  4.54330444e-03,  5.88684082e-02,\n         4.00390625e-02,  3.46374512e-02,  2.80151367e-02,  1.09024048e-02,\n         5.56640625e-02, -2.37121582e-02,  4.85839844e-02,  6.61087036e-03,\n         3.71398926e-02,  8.73413086e-02,  5.85327148e-02,  7.92846680e-02,\n         2.62603760e-02,  1.24511719e-02,  4.49218750e-02,  4.87670898e-02,\n         2.47802734e-02, -2.93579102e-02,  4.97741699e-02,  3.39050293e-02,\n         5.13610840e-02,  7.92236328e-02,  3.89099121e-02,  6.87866211e-02,\n         4.51965332e-02,  4.85181808e-04,  3.19213867e-02,  1.02478027e-01,\n         2.95562744e-02,  2.68249512e-02,  1.86004639e-02,  4.05120850e-03,\n         5.56335449e-02,  7.15332031e-02,  3.71093750e-02,  2.03094482e-02,\n         7.86132812e-02,  5.81665039e-02,  2.95410156e-02,  7.42797852e-02,\n         2.25372314e-02,  5.35888672e-02,  6.31103516e-02,  5.31005859e-02,\n         3.08227539e-02,  7.06176758e-02,  4.14428711e-02,  5.03234863e-02,\n         5.02319336e-02,  3.71093750e-02,  4.83703613e-02, -1.93786621e-02,\n         5.12084961e-02,  5.41687012e-02,  5.78613281e-02,  2.63214111e-02,\n        -4.85229492e-02,  3.44238281e-02,  6.02416992e-02,  5.86547852e-02,\n         4.07714844e-02,  5.77087402e-02,  6.70776367e-02, -9.10282135e-04,\n         2.75878906e-02,  7.01293945e-02,  1.51748657e-02,  7.28988647e-03,\n         3.28369141e-02,  2.90527344e-02,  3.65295410e-02,  2.87017822e-02,\n         1.09405518e-02,  3.80554199e-02,  2.90832520e-02,  1.15722656e-01,\n         4.01000977e-02,  1.25961304e-02,  4.80041504e-02,  4.79431152e-02,\n        -1.12762451e-02, -1.76544189e-02,  2.64434814e-02,  4.10766602e-02,\n         3.77502441e-02,  1.46789551e-02,  3.50646973e-02,  2.73437500e-02,\n         3.29284668e-02,  7.25708008e-02,  3.95812988e-02,  6.17065430e-02,\n        -7.62939453e-03,  5.22155762e-02,  1.35116577e-02,  2.57873535e-02,\n         3.17687988e-02,  4.85229492e-02, -8.91113281e-03,  9.56420898e-02,\n         1.62048340e-02,  1.30310059e-02,  3.39660645e-02,  2.39105225e-02,\n         4.18090820e-02,  5.76477051e-02,  3.43627930e-02,  4.01611328e-02,\n         1.43356323e-02,  3.95812988e-02,  2.17437744e-02,  6.35986328e-02,\n         2.78167725e-02,  6.00891113e-02,  5.51452637e-02,  2.26287842e-02,\n         4.98962402e-02, -9.07897949e-04, -8.57543945e-03,  1.90582275e-02,\n         7.28759766e-02,  2.02026367e-02,  2.51312256e-02,  4.80957031e-02,\n         5.76477051e-02,  4.02526855e-02,  1.47628784e-03,  4.57153320e-02,\n         1.88140869e-02,  7.58056641e-02,  2.41699219e-02,  2.76947021e-02,\n         2.85949707e-02,  3.95507812e-02,  5.31005859e-02,  7.28149414e-02,\n         3.38439941e-02,  4.36096191e-02,  4.34570312e-02,  6.13098145e-02,\n         2.88696289e-02,  9.49707031e-02,  3.51867676e-02,  5.99670410e-03,\n         4.83093262e-02,  8.50219727e-02,  1.24359131e-02, -8.07952881e-03,\n         6.23779297e-02,  5.35278320e-02,  6.05773926e-02,  8.02001953e-02,\n         4.22363281e-02,  6.93359375e-02,  8.81958008e-02,  4.60815430e-02,\n         4.73937988e-02,  2.65808105e-02,  7.92236328e-02,  4.35791016e-02,\n         6.43310547e-02,  3.93066406e-02,  4.31823730e-02,  2.97698975e-02,\n         2.13012695e-02,  9.46044922e-03,  6.25610352e-02,  4.28466797e-02,\n         4.21752930e-02,  2.01721191e-02,  4.11682129e-02,  6.57958984e-02,\n         3.07769775e-02,  4.09240723e-02,  2.01568604e-02,  1.84631348e-02,\n         1.53732300e-02,  3.69567871e-02,  4.37011719e-02,  2.99072266e-02,\n         8.94775391e-02, -7.69424438e-03,  3.39355469e-02,  3.09906006e-02,\n         1.73339844e-02,  6.09741211e-02,  6.67724609e-02,  6.57958984e-02,\n         4.22058105e-02,  7.80868530e-03,  3.73535156e-02,  2.91442871e-02,\n         4.43115234e-02,  4.83703613e-02,  5.86547852e-02,  1.10534668e-01,\n         7.33032227e-02,  6.18591309e-02,  1.58996582e-02,  2.69012451e-02,\n         9.29565430e-02,  3.55834961e-02,  1.91650391e-02,  4.95605469e-02,\n         7.87963867e-02,  2.67639160e-02,  5.73425293e-02,  2.91137695e-02,\n         4.32434082e-02,  1.41754150e-02,  9.37500000e-02,  4.58374023e-02,\n         9.44519043e-03,  4.40368652e-02,  2.67982483e-03,  1.09786987e-02,\n         3.90319824e-02,  5.68847656e-02,  3.73535156e-02,  5.68237305e-02,\n         7.78808594e-02,  6.57348633e-02,  1.53350830e-02,  2.28424072e-02,\n         3.27148438e-02, -3.49998474e-03,  3.79028320e-02,  5.40771484e-02,\n         5.52062988e-02,  3.86657715e-02,  5.78613281e-02,  3.60717773e-02,\n         1.22909546e-02,  1.27716064e-02,  4.19921875e-02,  7.54394531e-02,\n         7.38525391e-02,  5.04760742e-02,  5.28869629e-02,  4.71191406e-02,\n         3.60412598e-02, -6.45446777e-03,  6.46972656e-02,  3.80897522e-03,\n         5.34973145e-02,  4.76989746e-02,  4.50439453e-02,  9.63745117e-02,\n         5.34439087e-03,  5.39245605e-02,  5.81970215e-02,  3.43627930e-02,\n         2.67486572e-02,  3.58276367e-02, -1.53427124e-02,  2.04925537e-02,\n         4.20837402e-02,  4.13208008e-02,  6.99462891e-02,  1.05957031e-01,\n         1.82037354e-02,  3.25012207e-02,  8.37402344e-02,  2.74963379e-02,\n        -6.93511963e-03,  5.63964844e-02,  4.19006348e-02,  6.40258789e-02,\n         4.42504883e-02, -7.92503357e-04,  1.06872559e-01,  8.25195312e-02,\n         3.12500000e-02,  3.71704102e-02,  2.85339355e-02,  5.53588867e-02,\n         3.79028320e-02,  1.02844238e-01,  3.65905762e-02,  1.66625977e-02,\n         6.23779297e-02,  6.12182617e-02,  5.04150391e-02,  2.82440186e-02,\n         2.68707275e-02,  4.02832031e-02,  6.82983398e-02,  4.37011719e-02,\n         1.97448730e-02,  1.45034790e-02,  2.33459473e-02,  5.18188477e-02,\n         1.31301880e-02,  1.99737549e-02,  7.21359253e-03,  1.20849609e-02,\n         1.40686035e-02,  7.55615234e-02,  3.63769531e-02,  4.08630371e-02,\n         1.25656128e-02,  5.07507324e-02,  2.95410156e-02,  5.69152832e-02,\n         6.40258789e-02,  3.67736816e-02,  1.61437988e-02,  1.31378174e-02,\n         3.68041992e-02,  8.20312500e-02, -5.20019531e-01,  7.30590820e-02,\n        -2.13165283e-02,  4.05273438e-02, -1.56402588e-02,  1.16958618e-02,\n         5.47485352e-02,  3.94897461e-02,  4.32128906e-02,  3.60107422e-02,\n         4.37927246e-02,  3.84521484e-02,  1.58843994e-02,  1.68762207e-02,\n         3.91845703e-02,  3.50952148e-02,  1.53350830e-02,  7.29980469e-02,\n         3.61328125e-02,  2.82135010e-02,  5.71594238e-02,  5.22155762e-02,\n         1.00158691e-01,  1.71813965e-02,  6.42013550e-03,  5.57556152e-02,\n         3.18908691e-02,  4.83398438e-02,  2.48565674e-02,  1.75628662e-02,\n         1.17721558e-02,  1.05209351e-02,  5.39550781e-02,  4.78820801e-02,\n         1.24740601e-02,  2.76184082e-02,  4.83398438e-02,  1.06811523e-02,\n         5.91735840e-02,  4.83398438e-02,  3.54003906e-02,  3.61022949e-02,\n         9.94110107e-03,  2.29187012e-02,  1.17721558e-02,  5.21850586e-03,\n         2.91137695e-02,  6.18896484e-02,  8.19091797e-02,  5.05065918e-02,\n         5.99975586e-02,  4.09545898e-02,  5.97229004e-02,  4.60510254e-02,\n         2.91290283e-02,  6.69555664e-02,  4.11071777e-02, -4.49829102e-02,\n         1.83868408e-02,  5.91735840e-02,  3.82080078e-02,  5.38940430e-02,\n         4.45251465e-02,  3.92761230e-02,  3.87573242e-02,  9.71679688e-02,\n         2.37426758e-02,  4.64172363e-02,  5.97839355e-02,  5.39245605e-02,\n         1.12838745e-02,  3.59802246e-02,  8.14208984e-02,  2.38952637e-02,\n         3.39698792e-03,  3.78723145e-02, -1.55410767e-02,  5.62438965e-02,\n         5.22460938e-02,  8.28857422e-02,  7.05566406e-02,  4.22058105e-02,\n         6.98852539e-02,  1.93786621e-02,  2.70385742e-02,  1.05773926e-01,\n         4.41894531e-02,  8.45947266e-02,  4.39758301e-02,  1.34429932e-02,\n         4.88891602e-02,  1.68609619e-02,  1.57714844e-01,  6.76879883e-02,\n        -7.15942383e-02, -8.46862793e-03,  2.99835205e-02,  6.21948242e-02,\n         3.09295654e-02,  3.06854248e-02,  6.24694824e-02,  8.34960938e-02,\n         8.92944336e-02,  6.19201660e-02,  3.26843262e-02,  2.83355713e-02,\n         5.90515137e-03,  3.97949219e-02,  5.16052246e-02,  6.11877441e-02,\n         2.74810791e-02,  1.51138306e-02,  6.03942871e-02,  4.98046875e-02,\n         7.10449219e-02,  6.86645508e-02,  6.05468750e-02,  3.47518921e-03,\n        -4.00161743e-03,  9.03320312e-02,  4.27246094e-02,  7.81860352e-02,\n         1.28784180e-02,  7.24487305e-02,  5.58471680e-02,  6.18896484e-02,\n         4.11071777e-02,  6.86035156e-02,  5.86853027e-02,  8.81195068e-03,\n        -3.05938721e-02,  1.19590759e-03,  6.00280762e-02,  5.54504395e-02,\n         6.07910156e-02,  5.08728027e-02,  5.31311035e-02,  4.75463867e-02,\n         4.37316895e-02,  4.53186035e-02,  5.23986816e-02,  7.04345703e-02,\n         8.26416016e-02,  5.36804199e-02,  1.84173584e-02,  4.96520996e-02,\n         6.60400391e-02,  3.79028320e-02,  4.26940918e-02,  2.82745361e-02,\n         7.51342773e-02,  4.54406738e-02,  7.78198242e-02,  7.34252930e-02,\n         3.23181152e-02,  7.90405273e-02,  2.09350586e-02,  4.47082520e-02,\n        -4.47082520e-03,  7.22656250e-02,  8.12988281e-02,  9.70458984e-02,\n         5.37414551e-02,  6.62841797e-02,  6.07299805e-02,  1.60827637e-02,\n         3.37829590e-02,  1.91650391e-02, -1.96228027e-02, -3.96347046e-03,\n         8.56933594e-02,  2.92053223e-02,  5.16357422e-02,  4.53491211e-02,\n         5.61828613e-02,  3.51867676e-02,  1.71508789e-02,  1.60675049e-02,\n         4.88281250e-02,  4.57458496e-02,  4.69360352e-02,  6.41479492e-02,\n         5.52673340e-02,  1.17111206e-02,  2.24151611e-02,  4.55627441e-02,\n         5.22766113e-02,  3.57971191e-02,  2.83660889e-02,  4.86145020e-02,\n         1.42211914e-02,  1.36032104e-02,  3.93981934e-02,  4.19311523e-02,\n         4.87670898e-02,  3.68957520e-02,  2.59552002e-02,  9.03930664e-02,\n         2.69317627e-02,  4.28771973e-02,  1.78070068e-02,  6.89697266e-02,\n         3.66210938e-02,  2.18963623e-02,  2.84881592e-02,  4.33654785e-02,\n         3.67736816e-02,  6.59790039e-02,  2.88696289e-02,  1.82342529e-02,\n         2.89001465e-02,  2.64282227e-02,  7.39135742e-02,  2.89001465e-02,\n         3.28063965e-02,  4.42504883e-02,  2.27355957e-02,  4.55932617e-02,\n         6.48193359e-02,  1.82495117e-02,  2.40478516e-02,  2.35443115e-02,\n         2.03247070e-02,  3.33862305e-02,  2.71759033e-02,  5.88684082e-02,\n         6.97631836e-02,  3.56445312e-02,  6.17370605e-02,  6.05163574e-02,\n         6.69555664e-02,  6.20727539e-02,  8.42285156e-02,  8.16650391e-02,\n         2.83050537e-02,  6.82983398e-02,  8.45947266e-02,  3.00750732e-02,\n         4.37622070e-02,  5.42297363e-02,  5.96923828e-02,  2.66876221e-02,\n         5.44128418e-02,  5.58471680e-02,  8.59375000e-02,  4.79736328e-02,\n        -7.75909424e-03,  6.05468750e-02,  4.84008789e-02,  2.23693848e-02,\n         2.20947266e-02,  4.31518555e-02,  3.92761230e-02,  6.37054443e-03,\n         4.37622070e-02, -6.49261475e-03,  7.11059570e-03,  3.83377075e-03,\n        -2.37579346e-02,  3.10211182e-02,  1.04827881e-02,  5.92651367e-02,\n         5.58166504e-02,  7.01904297e-02,  3.52172852e-02,  1.83563232e-02,\n        -3.25202942e-03,  3.42712402e-02,  1.62811279e-02,  5.91125488e-02,\n         6.93969727e-02, -5.94482422e-02, -9.70840454e-04,  5.32836914e-02],\n       dtype=float32),\n array([[-0.11376953, -0.04574585, -0.03713989, ...,  0.03707886,\n         -0.12158203, -0.06518555],\n        [-0.15222168,  0.02819824,  0.0140152 , ..., -0.00870514,\n         -0.03399658, -0.14428711],\n        [-0.06640625, -0.01739502, -0.05905151, ...,  0.0092392 ,\n         -0.01979065, -0.04858398],\n        ...,\n        [-0.06933594,  0.02218628, -0.08129883, ..., -0.03567505,\n         -0.02366638,  0.00625992],\n        [-0.05841064, -0.01050568, -0.04989624, ..., -0.02818298,\n         -0.00422668,  0.01194   ],\n        [-0.07739258, -0.00813293, -0.03213501, ...,  0.01028442,\n          0.00374985,  0.00579834]], dtype=float32),\n array([-0.21496582, -0.09143066, -0.06939697, ..., -0.05957031,\n        -0.10040283, -0.07702637], dtype=float32),\n array([[ 0.01337433,  0.01908875, -0.00134945, ...,  0.00334358,\n         -0.00749207,  0.0557251 ],\n        [ 0.03713989, -0.01337433, -0.09301758, ..., -0.00706482,\n          0.00208855,  0.02232361],\n        [-0.03204346,  0.05859375, -0.01931763, ...,  0.00128937,\n          0.00946808, -0.03244019],\n        ...,\n        [ 0.01010895, -0.00739288, -0.01754761, ..., -0.01643372,\n         -0.02960205,  0.0028553 ],\n        [-0.0074234 ,  0.01172638,  0.03808594, ..., -0.04800415,\n          0.04547119, -0.05349731],\n        [ 0.05859375, -0.01303101, -0.09631348, ..., -0.02090454,\n          0.03897095, -0.040802  ]], dtype=float32),\n array([ 8.66699219e-02, -1.09619141e-01, -1.90429688e-02, -1.58233643e-02,\n         4.39453125e-02,  1.04064941e-01,  4.38842773e-02, -5.21240234e-02,\n        -2.81372070e-02,  1.22741699e-01, -3.31726074e-02,  1.93634033e-02,\n        -3.91540527e-02,  9.76562500e-03, -3.57246399e-03, -1.39007568e-02,\n         5.93261719e-02, -5.68542480e-02, -2.48413086e-02, -3.66783142e-03,\n         1.11511230e-01,  4.15344238e-02, -9.03320312e-02, -6.01768494e-04,\n         4.79888916e-03,  7.48291016e-02,  1.00402832e-02,  8.02612305e-03,\n         1.65863037e-02,  6.22940063e-03, -1.30691528e-02,  3.12423706e-03,\n        -3.56445312e-02,  5.94177246e-02, -6.64062500e-02,  1.80816650e-02,\n         1.98822021e-02, -6.10046387e-02, -1.23214722e-02, -2.16979980e-02,\n         1.80602074e-04, -1.16760254e-01, -4.03442383e-02, -4.91943359e-02,\n        -7.52563477e-02, -6.06079102e-02, -3.01666260e-02,  4.08325195e-02,\n         1.81007385e-03, -5.56945801e-02,  5.10025024e-03,  6.97326660e-03,\n         1.55258179e-02,  2.27355957e-02,  5.27343750e-02, -7.40356445e-02,\n         4.44946289e-02,  2.26287842e-02, -4.47387695e-02,  1.05819702e-02,\n         2.64129639e-02,  7.79418945e-02, -1.02172852e-01,  3.40700150e-04,\n        -1.93115234e-01, -3.71704102e-02, -2.46429443e-02,  1.74999237e-04,\n         3.42407227e-02,  3.83605957e-02, -5.75561523e-02,  7.13348389e-03,\n        -4.17175293e-02,  2.90069580e-02,  1.29699707e-02,  3.11737061e-02,\n        -1.90830231e-03, -1.19750977e-01,  1.83868408e-02, -2.51312256e-02,\n        -3.79333496e-02,  1.48544312e-02, -4.80651855e-03,  6.36291504e-03,\n         2.32391357e-02, -5.11779785e-02,  6.58798218e-03, -7.09915161e-03,\n        -7.56835938e-02, -5.30395508e-02, -2.69317627e-02, -2.39410400e-02,\n         8.22753906e-02,  5.55801392e-03,  1.40476227e-03, -4.02832031e-02,\n        -7.56225586e-02, -1.32690430e-01,  4.67529297e-02,  6.97326660e-03,\n         1.15203857e-02, -3.69262695e-02, -4.69970703e-02,  6.18934631e-04,\n         1.73797607e-02,  1.75170898e-02, -3.03192139e-02,  3.41796875e-02,\n        -3.78417969e-02, -4.00390625e-02, -1.64031982e-02, -3.40270996e-03,\n         6.37207031e-02,  9.00878906e-02, -5.92346191e-02,  1.46331787e-02,\n        -7.25097656e-02,  1.10321045e-02,  9.51385498e-03, -7.57980347e-03,\n        -4.90188599e-03, -7.91931152e-03, -1.33895874e-02, -2.47955322e-03,\n         6.86035156e-02, -3.17077637e-02,  6.22177124e-03,  2.90679932e-02,\n         6.24084473e-03, -5.88073730e-02,  2.67486572e-02,  3.15856934e-02,\n         7.50732422e-03,  4.93621826e-03,  9.34600830e-03, -1.83258057e-02,\n        -2.12402344e-02,  1.19323730e-02,  2.72064209e-02,  5.40466309e-02,\n        -2.92205811e-02, -6.64901733e-03, -7.08007812e-02,  3.54614258e-02,\n        -7.76977539e-02, -1.06430054e-02, -3.82080078e-02, -5.48400879e-02,\n         6.26831055e-02,  4.11224365e-03, -6.19506836e-02, -4.12750244e-03,\n        -1.20391846e-02, -3.60107422e-02, -5.24597168e-02,  8.91113281e-02,\n        -1.53808594e-02,  6.08520508e-02,  9.33837891e-02,  1.16455078e-01,\n        -1.55715942e-02,  3.10058594e-02, -2.86407471e-02, -3.05938721e-02,\n         5.70678711e-02,  2.30865479e-02, -4.05578613e-02, -3.12805176e-02,\n        -3.78723145e-02,  1.21765137e-02, -5.43975830e-03,  6.17370605e-02,\n        -1.07421875e-01,  9.92584229e-03,  6.59179688e-02, -6.55517578e-02,\n         9.44213867e-02,  2.27508545e-02,  4.77905273e-02, -1.55181885e-02,\n         9.09423828e-02,  3.03459167e-03,  1.39389038e-02,  6.45751953e-02,\n         1.33132935e-02,  6.67114258e-02, -5.52368164e-03, -1.10626221e-02,\n        -3.28063965e-02,  8.63647461e-02, -5.92346191e-02,  8.45432281e-04,\n        -1.05142593e-04,  6.24084473e-02,  1.02172852e-01, -5.31311035e-02,\n         6.51855469e-02, -5.18035889e-03, -8.60595703e-03,  3.36608887e-02,\n         1.50070190e-02, -1.52683258e-03, -4.09240723e-02, -1.36947632e-02,\n         1.01623535e-01,  9.31396484e-02, -2.84423828e-02,  8.97216797e-03,\n        -3.12805176e-02, -1.52130127e-02,  7.24487305e-02, -1.89819336e-02,\n        -1.26876831e-02,  3.14025879e-02, -1.95384026e-04,  1.26037598e-02,\n         3.89099121e-02, -4.71496582e-02, -2.41241455e-02,  5.51452637e-02,\n        -5.09338379e-02,  1.59606934e-02,  3.06701660e-02,  1.88827515e-03,\n         1.13677979e-02, -2.15759277e-02, -3.55224609e-02, -6.15844727e-02,\n        -3.72314453e-02,  7.71713257e-03, -1.16729736e-02,  6.83975220e-03,\n        -1.39617920e-02, -7.18383789e-02,  1.48086548e-02,  1.94854736e-02,\n        -5.64880371e-02,  1.16210938e-01,  6.70776367e-02,  2.73437500e-02,\n        -8.30078125e-03,  1.01852417e-02,  4.19616699e-03, -8.92639160e-03,\n        -8.13293457e-03,  7.73315430e-02,  6.37817383e-02,  1.51977539e-02,\n         1.10931396e-02,  3.37829590e-02,  2.04010010e-02, -3.77197266e-02,\n         5.94482422e-02, -7.17773438e-02,  8.43811035e-03, -8.34960938e-02,\n         7.23266602e-03,  2.55889893e-02, -1.69555664e-01, -6.13708496e-02,\n        -1.80816650e-02,  1.28479004e-02,  1.76668167e-04,  6.75678253e-04,\n         2.55279541e-02,  3.69262695e-02,  5.81665039e-02,  1.29241943e-02,\n        -1.05743408e-02, -9.04560089e-04, -4.77981567e-03, -4.87518311e-03,\n        -7.20024109e-04, -1.41143799e-02, -7.59124756e-03,  8.61816406e-02,\n        -3.97644043e-02,  6.19812012e-02, -5.38253784e-03,  6.40258789e-02,\n         7.76367188e-02,  4.14733887e-02, -4.55322266e-02,  1.90887451e-02,\n         7.28759766e-02,  6.20422363e-02, -2.14233398e-02, -6.92138672e-02,\n        -3.93676758e-02,  4.05883789e-02,  1.08413696e-02,  3.12042236e-02,\n        -2.87933350e-02, -1.02600098e-01,  3.96728516e-02, -2.99530029e-02,\n        -5.96923828e-02,  7.40966797e-02,  2.16522217e-02,  4.11682129e-02,\n         8.95996094e-02,  1.36184692e-02,  2.64892578e-02,  1.99890137e-02,\n        -1.15585327e-02, -6.37817383e-03, -7.20214844e-03, -7.34863281e-02,\n        -4.86145020e-02, -3.28979492e-02, -1.63726807e-02, -4.91714478e-03,\n         3.19519043e-02,  2.66265869e-03,  2.44750977e-02, -3.36303711e-02,\n        -1.82495117e-02,  2.24304199e-02,  1.50604248e-02, -4.76989746e-02,\n         4.52270508e-02, -5.07202148e-02,  1.11618042e-02, -1.54724121e-02,\n        -3.44848633e-02,  8.05664062e-03, -4.05578613e-02, -5.30395508e-02,\n        -4.77294922e-02,  2.20184326e-02, -7.78961182e-03,  2.04315186e-02,\n         1.00936890e-02, -2.67791748e-02,  3.45764160e-02,  4.79125977e-02,\n        -8.07495117e-02,  7.45849609e-02,  8.31909180e-02, -2.12860107e-02,\n        -2.90985107e-02,  1.24816895e-02,  1.22642517e-03, -1.23291016e-01,\n         3.10363770e-02, -1.16333008e-01, -2.63786316e-03,  6.61010742e-02,\n        -2.04620361e-02,  3.64685059e-02, -5.03921509e-03, -4.10461426e-02,\n         4.21447754e-02,  8.03833008e-02, -1.24206543e-02, -2.51770020e-02,\n         5.70983887e-02, -6.64672852e-02, -8.09478760e-03, -6.81762695e-02,\n         7.12280273e-02, -4.52880859e-02, -6.21337891e-02, -6.82449341e-03,\n        -7.89794922e-02,  2.13775635e-02, -7.80639648e-02,  8.73413086e-02,\n         4.91027832e-02, -1.08398438e-01,  3.84826660e-02, -5.38940430e-02,\n        -7.97119141e-02, -6.68334961e-02, -3.02124023e-02, -3.61938477e-02,\n         4.60815430e-02,  1.56707764e-02,  6.09970093e-03, -5.52673340e-02,\n         4.51049805e-02, -7.81250000e-02, -7.94067383e-02, -1.16943359e-01,\n        -4.38537598e-02,  1.54800415e-02,  4.59289551e-02, -4.44030762e-03,\n         1.01928711e-02, -6.79321289e-02,  4.26864624e-03, -8.62426758e-02,\n         1.40533447e-02,  2.40631104e-02,  8.42895508e-02,  2.24113464e-03,\n         5.41992188e-02,  1.06689453e-01,  4.57458496e-02,  2.74200439e-02,\n        -5.65185547e-02, -2.71148682e-02,  5.09033203e-02,  1.03942871e-01,\n        -5.71289062e-02, -1.32675171e-02, -6.45141602e-02,  4.50897217e-03,\n         3.20434570e-02,  7.56835938e-02,  9.22851562e-02, -2.49862671e-03,\n         1.07421875e-02,  2.01110840e-02,  3.91845703e-02,  1.23672485e-02,\n        -3.40576172e-02, -2.35438347e-04, -4.10766602e-02, -1.91802979e-02,\n        -1.06262207e-01, -1.18286133e-01,  4.10766602e-02, -5.56335449e-02,\n         6.03332520e-02,  1.15737915e-02,  1.44042969e-01,  7.51953125e-02,\n         5.63964844e-02,  3.96728516e-03, -9.13619995e-04, -8.52966309e-03,\n         6.17370605e-02,  4.12597656e-02,  3.73229980e-02,  1.48849487e-02,\n         1.50680542e-02, -3.07006836e-02,  4.26635742e-02, -7.26928711e-02,\n         9.18579102e-03,  2.03399658e-02,  1.00585938e-01,  3.66821289e-02,\n         5.14831543e-02,  2.56042480e-02, -8.27636719e-02, -4.73327637e-02,\n        -2.61230469e-02,  2.25524902e-02,  3.66401672e-03, -1.05163574e-01,\n        -1.89971924e-02, -2.50976562e-01, -4.96826172e-02, -7.95288086e-02,\n        -2.08587646e-02, -9.88769531e-03,  2.54211426e-02,  7.35473633e-03,\n        -4.65698242e-02, -7.24487305e-02, -2.98309326e-02,  8.74633789e-02,\n         9.46807861e-03,  2.97241211e-02,  2.94189453e-02,  1.43310547e-01,\n        -8.75854492e-02, -1.69830322e-02, -8.94165039e-03,  5.10025024e-03,\n        -9.58862305e-02,  8.00323486e-03,  3.27825546e-04, -1.10168457e-01,\n         2.04162598e-02,  1.24206543e-01, -5.45043945e-02,  2.98767090e-02,\n         7.41577148e-02, -2.62145996e-02,  4.04119492e-04,  8.89282227e-02,\n         2.71301270e-02,  1.26876831e-02, -4.50134277e-02,  8.67919922e-02,\n         7.12890625e-02, -2.79541016e-02, -1.80358887e-02,  1.63269043e-02,\n         8.64868164e-02,  2.55279541e-02,  5.32226562e-01,  1.08871460e-02,\n        -7.07397461e-02, -2.66418457e-02, -1.08093262e-01,  2.01110840e-02,\n        -2.43225098e-02,  5.81970215e-02,  4.43115234e-02,  3.91540527e-02,\n         5.13000488e-02,  9.41772461e-02,  1.09436035e-01,  1.59301758e-02,\n         1.31683350e-02,  2.89916992e-02, -4.92095947e-03,  2.73590088e-02,\n        -1.30126953e-01, -4.04357910e-02,  6.10656738e-02, -2.93350220e-03,\n        -3.85131836e-02,  4.07104492e-02,  3.88793945e-02,  1.19476318e-02,\n         1.25350952e-02,  2.25067139e-02, -2.52685547e-02,  3.41186523e-02,\n        -7.10449219e-02,  1.10092163e-02, -6.04248047e-02,  2.96173096e-02,\n        -3.59802246e-02, -4.51660156e-02, -1.25045776e-02, -2.90985107e-02,\n        -1.12228394e-02,  1.20162964e-02, -1.13403320e-01, -6.44683838e-03,\n         2.24876404e-03,  4.98657227e-02, -1.91650391e-02, -1.99279785e-02,\n         7.61718750e-02,  2.09197998e-02, -5.08117676e-02,  5.97229004e-02,\n        -6.02722168e-02, -2.22167969e-02, -6.51245117e-02,  1.09481812e-02,\n        -8.86440277e-04,  4.49523926e-02,  5.48706055e-02,  1.19262695e-01,\n         1.51290894e-02, -5.73425293e-02, -4.66918945e-03, -9.41772461e-02,\n        -3.26843262e-02, -6.24694824e-02, -3.70788574e-02, -4.62646484e-02,\n         2.41546631e-02, -2.86560059e-02, -1.30615234e-01, -1.15127563e-02,\n         9.16290283e-03, -3.80249023e-02, -9.83886719e-02,  4.15954590e-02,\n         4.96520996e-02, -5.69458008e-02,  6.62231445e-02, -4.02221680e-02,\n        -3.49998474e-03,  2.89459229e-02,  1.68609619e-02,  2.96173096e-02,\n        -2.90679932e-02,  5.82275391e-02, -5.00793457e-02, -3.15246582e-02,\n        -7.00683594e-02, -2.25372314e-02, -8.53881836e-02,  7.15332031e-02,\n        -3.29589844e-03,  4.16259766e-02, -4.72717285e-02, -7.43408203e-02,\n         2.53906250e-01, -5.90820312e-02, -2.56195068e-02,  5.38940430e-02,\n         3.08532715e-02,  5.98754883e-02, -7.93933868e-05, -2.81829834e-02,\n         1.35726929e-02,  2.31018066e-02, -6.05773926e-02,  4.19921875e-02,\n         1.05041504e-01,  3.86047363e-02, -2.06947327e-03,  4.89501953e-02,\n        -7.78961182e-03,  9.87243652e-03,  1.08642578e-02,  5.62438965e-02,\n         1.95617676e-02, -3.89099121e-02, -3.01513672e-02,  1.24328613e-01,\n        -6.21032715e-02, -1.47628784e-02,  5.09948730e-02, -8.95385742e-02,\n         1.24816895e-02,  7.19833374e-03, -4.13818359e-02,  2.79083252e-02,\n        -2.36816406e-02, -3.96728516e-02, -2.45361328e-02, -2.54058838e-02,\n         5.09033203e-02, -4.72717285e-02, -2.84004211e-03, -1.38092041e-02,\n         1.90887451e-02, -2.52075195e-02, -9.60083008e-02, -5.14526367e-02,\n        -5.96313477e-02, -5.72204590e-02,  2.13165283e-02,  7.31277466e-03,\n         4.51354980e-02,  4.02832031e-02, -1.38671875e-01,  7.03125000e-02,\n        -8.85620117e-02,  3.34167480e-03,  1.09313965e-01,  3.26843262e-02,\n        -6.65893555e-02,  9.20410156e-02, -2.48870850e-02, -2.12554932e-02,\n        -2.00195312e-02, -5.20019531e-02, -2.74505615e-02, -2.02751160e-03,\n        -4.87365723e-02,  2.93273926e-02, -1.26419067e-02,  3.83300781e-02,\n         2.89764404e-02,  7.78198242e-02,  4.58679199e-02,  6.48803711e-02,\n         5.36499023e-02, -1.14990234e-01, -6.15596771e-04, -4.43725586e-02,\n         1.84631348e-03,  1.26708984e-01, -5.90820312e-02, -7.44628906e-02,\n        -2.53448486e-02,  7.26928711e-02,  2.09503174e-02,  3.27758789e-02,\n         3.65600586e-02,  4.32586670e-03,  6.64672852e-02,  2.16217041e-02,\n         2.61077881e-02, -2.13623047e-02,  3.05786133e-02,  8.74328613e-03,\n         7.85522461e-02, -2.76184082e-02, -4.58679199e-02,  4.45861816e-02,\n         5.15365601e-03,  3.70483398e-02, -7.22656250e-02,  4.86145020e-02,\n         2.02331543e-02,  6.58569336e-02, -1.77764893e-02,  6.59790039e-02,\n        -4.66156006e-03,  3.83567810e-03,  6.79397583e-03, -5.79357147e-05,\n         7.21435547e-02, -9.97924805e-02,  5.67626953e-03, -1.04431152e-01,\n         3.97872925e-03,  2.91595459e-02,  5.02014160e-02, -2.90679932e-02,\n        -3.83605957e-02,  5.25283813e-03, -6.18591309e-02, -4.77600098e-02,\n        -4.58984375e-02,  6.18591309e-02,  2.09045410e-02,  8.42895508e-02,\n        -4.71801758e-02, -5.58776855e-02,  8.80126953e-02, -7.34863281e-02,\n        -7.18383789e-02,  2.02178955e-02, -2.84576416e-02,  2.52838135e-02,\n        -6.21032715e-02,  8.43811035e-03,  5.17272949e-02,  1.78985596e-02,\n         9.49707031e-02, -3.71093750e-02, -2.21557617e-02,  5.75637817e-03,\n         7.17163086e-03, -3.88183594e-02, -4.12902832e-02, -7.28149414e-02,\n        -5.62438965e-02, -1.13403320e-01, -1.22497559e-01,  3.16238403e-03,\n         1.32598877e-02, -5.41381836e-02,  1.51672363e-02, -5.22460938e-02,\n        -4.60147858e-04,  2.07214355e-02,  2.73132324e-02,  4.16564941e-02,\n         4.55017090e-02, -4.67529297e-02, -2.39105225e-02, -2.87170410e-02,\n        -3.31420898e-02, -1.53198242e-01,  1.80358887e-02, -7.51953125e-02,\n         1.48773193e-02, -1.02081299e-02,  2.89678574e-04, -7.39746094e-02,\n        -3.34472656e-02,  1.14746094e-01, -2.52532959e-02, -4.42199707e-02,\n         4.49218750e-02,  6.50024414e-02,  6.71997070e-02,  1.12304688e-02,\n        -5.99670410e-02,  1.19934082e-01,  4.77218628e-03, -3.50646973e-02],\n       dtype=float32)]"
     },
     "execution_count": 74,
     "metadata": {},
     "output_type": "execute_result"
    }
   ],
   "source": [
    "l1.get_weights()"
   ],
   "metadata": {
    "collapsed": false,
    "ExecuteTime": {
     "end_time": "2024-03-13T11:56:51.048105Z",
     "start_time": "2024-03-13T11:56:50.981694Z"
    }
   },
   "id": "6189f4f837a79ae7",
   "execution_count": 74
  },
  {
   "cell_type": "code",
   "outputs": [
    {
     "data": {
      "text/plain": "<KerasVariable shape=(), dtype=float32, path=transformer_layer_1/variable_1>"
     },
     "execution_count": 55,
     "metadata": {},
     "output_type": "execute_result"
    }
   ],
   "source": [
    "l.add_weight()"
   ],
   "metadata": {
    "collapsed": false,
    "ExecuteTime": {
     "end_time": "2024-03-13T11:51:31.734066Z",
     "start_time": "2024-03-13T11:51:31.711976Z"
    }
   },
   "id": "f987e9dabaebfca",
   "execution_count": 55
  },
  {
   "cell_type": "code",
   "outputs": [
    {
     "data": {
      "text/plain": "<KerasVariable shape=(), dtype=float32, path=transformer_layer_1/variable_1>"
     },
     "execution_count": 57,
     "metadata": {},
     "output_type": "execute_result"
    }
   ],
   "source": [
    "l.weights.pop(-1)"
   ],
   "metadata": {
    "collapsed": false,
    "ExecuteTime": {
     "end_time": "2024-03-13T11:52:00.723440Z",
     "start_time": "2024-03-13T11:52:00.719704Z"
    }
   },
   "id": "5b42bc60e0954bd",
   "execution_count": 57
  },
  {
   "cell_type": "code",
   "outputs": [
    {
     "data": {
      "text/plain": "[<KerasVariable shape=(768, 12, 64), dtype=float32, path=transformer_layer_11/self_attention_layer/query/kernel>,\n <KerasVariable shape=(12, 64), dtype=float32, path=transformer_layer_11/self_attention_layer/query/bias>,\n <KerasVariable shape=(768, 12, 64), dtype=float32, path=transformer_layer_11/self_attention_layer/key/kernel>,\n <KerasVariable shape=(12, 64), dtype=float32, path=transformer_layer_11/self_attention_layer/key/bias>,\n <KerasVariable shape=(768, 12, 64), dtype=float32, path=transformer_layer_11/self_attention_layer/value/kernel>,\n <KerasVariable shape=(12, 64), dtype=float32, path=transformer_layer_11/self_attention_layer/value/bias>,\n <KerasVariable shape=(12, 64, 768), dtype=float32, path=transformer_layer_11/self_attention_layer/attention_output/kernel>,\n <KerasVariable shape=(768,), dtype=float32, path=transformer_layer_11/self_attention_layer/attention_output/bias>,\n <KerasVariable shape=(768,), dtype=float32, path=transformer_layer_11/self_attention_layer_norm/gamma>,\n <KerasVariable shape=(768,), dtype=float32, path=transformer_layer_11/self_attention_layer_norm/beta>,\n <KerasVariable shape=(768,), dtype=float32, path=transformer_layer_11/feedforward_layer_norm/gamma>,\n <KerasVariable shape=(768,), dtype=float32, path=transformer_layer_11/feedforward_layer_norm/beta>,\n <KerasVariable shape=(768, 3072), dtype=float32, path=transformer_layer_11/feedforward_intermediate_dense/kernel>,\n <KerasVariable shape=(3072,), dtype=float32, path=transformer_layer_11/feedforward_intermediate_dense/bias>,\n <KerasVariable shape=(3072, 768), dtype=float32, path=transformer_layer_11/feedforward_output_dense/kernel>,\n <KerasVariable shape=(768,), dtype=float32, path=transformer_layer_11/feedforward_output_dense/bias>]"
     },
     "execution_count": 64,
     "metadata": {},
     "output_type": "execute_result"
    }
   ],
   "source": [
    "l.weights "
   ],
   "metadata": {
    "collapsed": false,
    "ExecuteTime": {
     "end_time": "2024-03-13T11:53:51.979988Z",
     "start_time": "2024-03-13T11:53:51.975596Z"
    }
   },
   "id": "79ae8711a4a2dc79",
   "execution_count": 64
  },
  {
   "cell_type": "code",
   "outputs": [
    {
     "data": {
      "text/plain": "[<KerasVariable shape=(768, 12, 64), dtype=float32, path=transformer_layer_11/self_attention_layer/query/kernel>,\n <KerasVariable shape=(12, 64), dtype=float32, path=transformer_layer_11/self_attention_layer/query/bias>,\n <KerasVariable shape=(768, 12, 64), dtype=float32, path=transformer_layer_11/self_attention_layer/key/kernel>,\n <KerasVariable shape=(12, 64), dtype=float32, path=transformer_layer_11/self_attention_layer/key/bias>,\n <KerasVariable shape=(768, 12, 64), dtype=float32, path=transformer_layer_11/self_attention_layer/value/kernel>,\n <KerasVariable shape=(12, 64), dtype=float32, path=transformer_layer_11/self_attention_layer/value/bias>,\n <KerasVariable shape=(12, 64, 768), dtype=float32, path=transformer_layer_11/self_attention_layer/attention_output/kernel>,\n <KerasVariable shape=(768,), dtype=float32, path=transformer_layer_11/self_attention_layer/attention_output/bias>,\n <KerasVariable shape=(768,), dtype=float32, path=transformer_layer_11/self_attention_layer_norm/gamma>,\n <KerasVariable shape=(768,), dtype=float32, path=transformer_layer_11/self_attention_layer_norm/beta>,\n <KerasVariable shape=(768,), dtype=float32, path=transformer_layer_11/feedforward_layer_norm/gamma>,\n <KerasVariable shape=(768,), dtype=float32, path=transformer_layer_11/feedforward_layer_norm/beta>,\n <KerasVariable shape=(768, 3072), dtype=float32, path=transformer_layer_11/feedforward_intermediate_dense/kernel>,\n <KerasVariable shape=(3072,), dtype=float32, path=transformer_layer_11/feedforward_intermediate_dense/bias>,\n <KerasVariable shape=(3072, 768), dtype=float32, path=transformer_layer_11/feedforward_output_dense/kernel>,\n <KerasVariable shape=(768,), dtype=float32, path=transformer_layer_11/feedforward_output_dense/bias>]"
     },
     "execution_count": 62,
     "metadata": {},
     "output_type": "execute_result"
    }
   ],
   "source": [
    "l1.weights"
   ],
   "metadata": {
    "collapsed": false,
    "ExecuteTime": {
     "end_time": "2024-03-13T11:52:51.777869Z",
     "start_time": "2024-03-13T11:52:51.773509Z"
    }
   },
   "id": "55ce8b92d000df53",
   "execution_count": 62
  },
  {
   "cell_type": "code",
   "outputs": [
    {
     "ename": "AttributeError",
     "evalue": "'TransformerEncoder' object has no attribute 'input_shape'",
     "output_type": "error",
     "traceback": [
      "\u001B[0;31m---------------------------------------------------------------------------\u001B[0m",
      "\u001B[0;31mAttributeError\u001B[0m                            Traceback (most recent call last)",
      "Cell \u001B[0;32mIn[65], line 1\u001B[0m\n\u001B[0;32m----> 1\u001B[0m \u001B[43ml\u001B[49m\u001B[38;5;241;43m.\u001B[39;49m\u001B[43minput_shape\u001B[49m\n",
      "\u001B[0;31mAttributeError\u001B[0m: 'TransformerEncoder' object has no attribute 'input_shape'"
     ]
    }
   ],
   "source": [],
   "metadata": {
    "collapsed": false,
    "ExecuteTime": {
     "end_time": "2024-03-13T11:54:06.078998Z",
     "start_time": "2024-03-13T11:54:06.061896Z"
    }
   },
   "id": "5ce4238e50d5cccb",
   "execution_count": 65
  },
  {
   "cell_type": "code",
   "outputs": [
    {
     "data": {
      "text/plain": "<tf.Tensor: shape=(1, 50, 768), dtype=float32, numpy=\narray([[[ 2.2015233 ,  0.761956  , -0.41731355, ...,  0.33482367,\n         -1.4790915 , -0.23814008],\n        [ 2.2015233 ,  0.761956  , -0.41731355, ...,  0.33482367,\n         -1.4790915 , -0.23814008],\n        [ 2.2015233 ,  0.761956  , -0.41731355, ...,  0.33482367,\n         -1.4790915 , -0.23814008],\n        ...,\n        [ 2.2015233 ,  0.761956  , -0.41731355, ...,  0.33482367,\n         -1.4790915 , -0.23814008],\n        [ 2.2015233 ,  0.761956  , -0.41731355, ...,  0.33482367,\n         -1.4790915 , -0.23814008],\n        [ 2.2015233 ,  0.761956  , -0.41731355, ...,  0.33482367,\n         -1.4790915 , -0.23814008]]], dtype=float32)>"
     },
     "execution_count": 66,
     "metadata": {},
     "output_type": "execute_result"
    }
   ],
   "source": [
    "l(np.ones((1,50,768)))"
   ],
   "metadata": {
    "collapsed": false,
    "ExecuteTime": {
     "end_time": "2024-03-13T11:54:20.925976Z",
     "start_time": "2024-03-13T11:54:20.319631Z"
    }
   },
   "id": "9f9b219f10c594b6",
   "execution_count": 66
  },
  {
   "cell_type": "code",
   "outputs": [
    {
     "data": {
      "text/plain": "(32, 16)"
     },
     "execution_count": 69,
     "metadata": {},
     "output_type": "execute_result"
    }
   ],
   "source": [
    "len(l.weights), len(l1.weights)"
   ],
   "metadata": {
    "collapsed": false,
    "ExecuteTime": {
     "end_time": "2024-03-13T11:54:50.120999Z",
     "start_time": "2024-03-13T11:54:50.117192Z"
    }
   },
   "id": "213df966014aacdc",
   "execution_count": 69
  },
  {
   "cell_type": "code",
   "outputs": [
    {
     "ename": "AttributeError",
     "evalue": "property 'value' of 'Variable' object has no setter",
     "output_type": "error",
     "traceback": [
      "\u001B[0;31m---------------------------------------------------------------------------\u001B[0m",
      "\u001B[0;31mAttributeError\u001B[0m                            Traceback (most recent call last)",
      "Cell \u001B[0;32mIn[70], line 1\u001B[0m\n\u001B[0;32m----> 1\u001B[0m \u001B[43ml\u001B[49m\u001B[38;5;241;43m.\u001B[39;49m\u001B[43mweights\u001B[49m\u001B[43m[\u001B[49m\u001B[38;5;241;43m17\u001B[39;49m\u001B[43m]\u001B[49m\u001B[38;5;241;43m.\u001B[39;49m\u001B[43mvalue\u001B[49m \u001B[38;5;241m=\u001B[39m l\u001B[38;5;241m.\u001B[39mweights[\u001B[38;5;241m0\u001B[39m]\u001B[38;5;241m.\u001B[39mvalue\n",
      "\u001B[0;31mAttributeError\u001B[0m: property 'value' of 'Variable' object has no setter"
     ]
    }
   ],
   "source": [
    "l.weights[17].value = l.weights[0].value"
   ],
   "metadata": {
    "collapsed": false,
    "ExecuteTime": {
     "end_time": "2024-03-13T11:55:30.262892Z",
     "start_time": "2024-03-13T11:55:30.250537Z"
    }
   },
   "id": "77088f034c913dc",
   "execution_count": 70
  },
  {
   "cell_type": "code",
   "outputs": [
    {
     "data": {
      "text/plain": "{'name': 'transformer_layer_1',\n 'trainable': True,\n 'dtype': 'float32',\n 'intermediate_dim': 3072,\n 'num_heads': 12,\n 'dropout': 0.1,\n 'activation': 'gelu',\n 'layer_norm_epsilon': 1e-05,\n 'kernel_initializer': {'module': 'keras.src.initializers.random_initializers',\n  'class_name': 'TruncatedNormal',\n  'config': {'mean': 0.0, 'stddev': 0.02, 'seed': None},\n  'registered_name': 'TruncatedNormal'},\n 'bias_initializer': {'module': 'keras.src.initializers.constant_initializers',\n  'class_name': 'Zeros',\n  'config': {},\n  'registered_name': 'Zeros'},\n 'normalize_first': False}"
     },
     "execution_count": 82,
     "metadata": {},
     "output_type": "execute_result"
    }
   ],
   "source": [
    "model1.layers[1].get_config()"
   ],
   "metadata": {
    "collapsed": false,
    "ExecuteTime": {
     "end_time": "2024-03-13T12:01:29.032161Z",
     "start_time": "2024-03-13T12:01:29.028466Z"
    }
   },
   "id": "9104fd6242730b75",
   "execution_count": 82
  },
  {
   "cell_type": "code",
   "outputs": [],
   "source": [
    "dec = keras_nlp.layers.TransformerDecoder.from_config(model1.layers[1].get_config())"
   ],
   "metadata": {
    "collapsed": false,
    "ExecuteTime": {
     "end_time": "2024-03-13T12:02:31.264410Z",
     "start_time": "2024-03-13T12:02:31.261256Z"
    }
   },
   "id": "58f56f27af68c97a",
   "execution_count": 84
  },
  {
   "cell_type": "code",
   "outputs": [],
   "source": [
    "dec.build((None, 762))"
   ],
   "metadata": {
    "collapsed": false,
    "ExecuteTime": {
     "end_time": "2024-03-13T12:02:51.077397Z",
     "start_time": "2024-03-13T12:02:51.037184Z"
    }
   },
   "id": "235a2dc1f35ade66",
   "execution_count": 85
  },
  {
   "cell_type": "code",
   "outputs": [
    {
     "data": {
      "text/plain": "[<KerasVariable shape=(762, 12, 63), dtype=float32, path=transformer_layer_1/self_attention/query/kernel>,\n <KerasVariable shape=(12, 63), dtype=float32, path=transformer_layer_1/self_attention/query/bias>,\n <KerasVariable shape=(762, 12, 63), dtype=float32, path=transformer_layer_1/self_attention/key/kernel>,\n <KerasVariable shape=(12, 63), dtype=float32, path=transformer_layer_1/self_attention/key/bias>,\n <KerasVariable shape=(762, 12, 63), dtype=float32, path=transformer_layer_1/self_attention/value/kernel>,\n <KerasVariable shape=(12, 63), dtype=float32, path=transformer_layer_1/self_attention/value/bias>,\n <KerasVariable shape=(12, 63, 762), dtype=float32, path=transformer_layer_1/self_attention/attention_output/kernel>,\n <KerasVariable shape=(762,), dtype=float32, path=transformer_layer_1/self_attention/attention_output/bias>,\n <KerasVariable shape=(762,), dtype=float32, path=transformer_layer_1/self_attention_layer_norm/gamma>,\n <KerasVariable shape=(762,), dtype=float32, path=transformer_layer_1/self_attention_layer_norm/beta>,\n <KerasVariable shape=(762, 3072), dtype=float32, path=transformer_layer_1/feedforward_intermediate_dense/kernel>,\n <KerasVariable shape=(3072,), dtype=float32, path=transformer_layer_1/feedforward_intermediate_dense/bias>,\n <KerasVariable shape=(3072, 762), dtype=float32, path=transformer_layer_1/feedforward_output_dense/kernel>,\n <KerasVariable shape=(762,), dtype=float32, path=transformer_layer_1/feedforward_output_dense/bias>,\n <KerasVariable shape=(762,), dtype=float32, path=transformer_layer_1/feedforward_layer_norm/gamma>,\n <KerasVariable shape=(762,), dtype=float32, path=transformer_layer_1/feedforward_layer_norm/beta>]"
     },
     "execution_count": 86,
     "metadata": {},
     "output_type": "execute_result"
    }
   ],
   "source": [
    "dec.weights "
   ],
   "metadata": {
    "collapsed": false,
    "ExecuteTime": {
     "end_time": "2024-03-13T12:02:59.012638Z",
     "start_time": "2024-03-13T12:02:59.007779Z"
    }
   },
   "id": "7b3cae303ec740ff",
   "execution_count": 86
  },
  {
   "cell_type": "code",
   "outputs": [
    {
     "data": {
      "text/plain": "(16, 16)"
     },
     "execution_count": 87,
     "metadata": {},
     "output_type": "execute_result"
    }
   ],
   "source": [
    "len(dec.weights), len(model1.layers[1].weights)"
   ],
   "metadata": {
    "collapsed": false,
    "ExecuteTime": {
     "end_time": "2024-03-13T12:03:16.240792Z",
     "start_time": "2024-03-13T12:03:16.238003Z"
    }
   },
   "id": "d4a0575cd0296bd",
   "execution_count": 87
  },
  {
   "cell_type": "code",
   "outputs": [
    {
     "data": {
      "text/plain": "<TransformerDecoder name=transformer_layer_1, built=True>"
     },
     "execution_count": 88,
     "metadata": {},
     "output_type": "execute_result"
    }
   ],
   "source": [
    "dec"
   ],
   "metadata": {
    "collapsed": false,
    "ExecuteTime": {
     "end_time": "2024-03-13T12:05:39.041968Z",
     "start_time": "2024-03-13T12:05:39.038045Z"
    }
   },
   "id": "89f53a4c975b21d4",
   "execution_count": 88
  },
  {
   "cell_type": "code",
   "outputs": [],
   "source": [
    "dec1 = keras_nlp.layers.TransformerDecoder( 100, 100)\n",
    "dec1.build((None, 762), (None, 762))"
   ],
   "metadata": {
    "collapsed": false,
    "ExecuteTime": {
     "end_time": "2024-03-13T12:09:28.051694Z",
     "start_time": "2024-03-13T12:09:27.976894Z"
    }
   },
   "id": "cf58dd128534ca21",
   "execution_count": 93
  },
  {
   "cell_type": "code",
   "outputs": [
    {
     "data": {
      "text/plain": "[<KerasVariable shape=(762, 100, 7), dtype=float32, path=transformer_decoder_2/self_attention/query/kernel>,\n <KerasVariable shape=(100, 7), dtype=float32, path=transformer_decoder_2/self_attention/query/bias>,\n <KerasVariable shape=(762, 100, 7), dtype=float32, path=transformer_decoder_2/self_attention/key/kernel>,\n <KerasVariable shape=(100, 7), dtype=float32, path=transformer_decoder_2/self_attention/key/bias>,\n <KerasVariable shape=(762, 100, 7), dtype=float32, path=transformer_decoder_2/self_attention/value/kernel>,\n <KerasVariable shape=(100, 7), dtype=float32, path=transformer_decoder_2/self_attention/value/bias>,\n <KerasVariable shape=(100, 7, 762), dtype=float32, path=transformer_decoder_2/self_attention/attention_output/kernel>,\n <KerasVariable shape=(762,), dtype=float32, path=transformer_decoder_2/self_attention/attention_output/bias>,\n <KerasVariable shape=(762,), dtype=float32, path=transformer_decoder_2/self_attention_layer_norm/gamma>,\n <KerasVariable shape=(762,), dtype=float32, path=transformer_decoder_2/self_attention_layer_norm/beta>,\n <KerasVariable shape=(762, 100, 7), dtype=float32, path=transformer_decoder_2/cross_attention/query/kernel>,\n <KerasVariable shape=(100, 7), dtype=float32, path=transformer_decoder_2/cross_attention/query/bias>,\n <KerasVariable shape=(762, 100, 7), dtype=float32, path=transformer_decoder_2/cross_attention/key/kernel>,\n <KerasVariable shape=(100, 7), dtype=float32, path=transformer_decoder_2/cross_attention/key/bias>,\n <KerasVariable shape=(762, 100, 7), dtype=float32, path=transformer_decoder_2/cross_attention/value/kernel>,\n <KerasVariable shape=(100, 7), dtype=float32, path=transformer_decoder_2/cross_attention/value/bias>,\n <KerasVariable shape=(100, 7, 762), dtype=float32, path=transformer_decoder_2/cross_attention/attention_output/kernel>,\n <KerasVariable shape=(762,), dtype=float32, path=transformer_decoder_2/cross_attention/attention_output/bias>,\n <KerasVariable shape=(762,), dtype=float32, path=transformer_decoder_2/cross_attention_layer_norm/gamma>,\n <KerasVariable shape=(762,), dtype=float32, path=transformer_decoder_2/cross_attention_layer_norm/beta>,\n <KerasVariable shape=(762, 100), dtype=float32, path=transformer_decoder_2/feedforward_intermediate_dense/kernel>,\n <KerasVariable shape=(100,), dtype=float32, path=transformer_decoder_2/feedforward_intermediate_dense/bias>,\n <KerasVariable shape=(100, 762), dtype=float32, path=transformer_decoder_2/feedforward_output_dense/kernel>,\n <KerasVariable shape=(762,), dtype=float32, path=transformer_decoder_2/feedforward_output_dense/bias>,\n <KerasVariable shape=(762,), dtype=float32, path=transformer_decoder_2/feedforward_layer_norm/gamma>,\n <KerasVariable shape=(762,), dtype=float32, path=transformer_decoder_2/feedforward_layer_norm/beta>]"
     },
     "execution_count": 94,
     "metadata": {},
     "output_type": "execute_result"
    }
   ],
   "source": [
    "dec1.weights"
   ],
   "metadata": {
    "collapsed": false,
    "ExecuteTime": {
     "end_time": "2024-03-13T12:09:29.330061Z",
     "start_time": "2024-03-13T12:09:29.327003Z"
    }
   },
   "id": "d6d7bb766051ede6",
   "execution_count": 94
  },
  {
   "cell_type": "code",
   "outputs": [
    {
     "name": "stdout",
     "output_type": "stream",
     "text": [
      "(762, 100, 7)\n",
      "(100, 7)\n",
      "(762, 100, 7)\n",
      "(100, 7)\n",
      "(762, 100, 7)\n",
      "(100, 7)\n",
      "(100, 7, 762)\n",
      "(762,)\n",
      "(762,)\n",
      "(762,)\n",
      "(762, 100, 7)\n",
      "(100, 7)\n",
      "(762, 100, 7)\n",
      "(100, 7)\n",
      "(762, 100, 7)\n",
      "(100, 7)\n",
      "(100, 7, 762)\n",
      "(762,)\n",
      "(762,)\n",
      "(762,)\n",
      "(762, 100)\n",
      "(100,)\n",
      "(100, 762)\n",
      "(762,)\n",
      "(762,)\n",
      "(762,)\n"
     ]
    }
   ],
   "source": [
    "for w in dec1.get_weights():\n",
    "    print(w.shape)"
   ],
   "metadata": {
    "collapsed": false,
    "ExecuteTime": {
     "end_time": "2024-03-13T12:13:48.890602Z",
     "start_time": "2024-03-13T12:13:48.865060Z"
    }
   },
   "id": "88297d10f262760c",
   "execution_count": 97
  },
  {
   "cell_type": "code",
   "outputs": [
    {
     "name": "stdout",
     "output_type": "stream",
     "text": [
      "0 self_attention/query/kernel (762, 100, 7)\n",
      "1 self_attention/query/bias (100, 7)\n",
      "2 self_attention/key/kernel (762, 100, 7)\n",
      "3 self_attention/key/bias (100, 7)\n",
      "4 self_attention/value/kernel (762, 100, 7)\n",
      "5 self_attention/value/bias (100, 7)\n",
      "6 self_attention/attention_output/kernel (100, 7, 762)\n",
      "7 self_attention/attention_output/bias (762,)\n",
      "8 self_attention_layer_norm/gamma (762,)\n",
      "9 self_attention_layer_norm/beta (762,)\n",
      "10 cross_attention/query/kernel (762, 100, 7)\n",
      "11 cross_attention/query/bias (100, 7)\n",
      "12 cross_attention/key/kernel (762, 100, 7)\n",
      "13 cross_attention/key/bias (100, 7)\n",
      "14 cross_attention/value/kernel (762, 100, 7)\n",
      "15 cross_attention/value/bias (100, 7)\n",
      "16 cross_attention/attention_output/kernel (100, 7, 762)\n",
      "17 cross_attention/attention_output/bias (762,)\n",
      "18 cross_attention_layer_norm/gamma (762,)\n",
      "19 cross_attention_layer_norm/beta (762,)\n",
      "20 feedforward_intermediate_dense/kernel (762, 100)\n",
      "21 feedforward_intermediate_dense/bias (100,)\n",
      "22 feedforward_output_dense/kernel (100, 762)\n",
      "23 feedforward_output_dense/bias (762,)\n",
      "24 feedforward_layer_norm/gamma (762,)\n",
      "25 feedforward_layer_norm/beta (762,)\n"
     ]
    }
   ],
   "source": [
    "i=0\n",
    "for w in dec1.weights:\n",
    "    print(i,'/'.join(w.path.split('/')[1:]), w.shape)\n",
    "    i+=1"
   ],
   "metadata": {
    "collapsed": false,
    "ExecuteTime": {
     "end_time": "2024-03-13T12:33:18.717641Z",
     "start_time": "2024-03-13T12:33:18.714535Z"
    }
   },
   "id": "5d427d68664a056d",
   "execution_count": 107
  },
  {
   "cell_type": "code",
   "outputs": [],
   "source": [],
   "metadata": {
    "collapsed": false
   },
   "id": "401fb30435f61bc8"
  },
  {
   "cell_type": "code",
   "outputs": [
    {
     "data": {
      "text/plain": "['__abs__',\n '__add__',\n '__and__',\n '__annotations__',\n '__array__',\n '__bool__',\n '__class__',\n '__delattr__',\n '__dict__',\n '__dir__',\n '__doc__',\n '__eq__',\n '__floordiv__',\n '__format__',\n '__ge__',\n '__getattribute__',\n '__getitem__',\n '__getstate__',\n '__gt__',\n '__hash__',\n '__init__',\n '__init_subclass__',\n '__invert__',\n '__le__',\n '__lt__',\n '__matmul__',\n '__mod__',\n '__module__',\n '__mul__',\n '__ne__',\n '__neg__',\n '__new__',\n '__or__',\n '__pos__',\n '__pow__',\n '__radd__',\n '__rand__',\n '__reduce__',\n '__reduce_ex__',\n '__repr__',\n '__rfloordiv__',\n '__rmatmul__',\n '__rmod__',\n '__rmul__',\n '__ror__',\n '__rpow__',\n '__rsub__',\n '__rtruediv__',\n '__rxor__',\n '__setattr__',\n '__sizeof__',\n '__str__',\n '__sub__',\n '__subclasshook__',\n '__tf_tensor__',\n '__truediv__',\n '__weakref__',\n '__xor__',\n '_add_trackable_child',\n '_add_variable_with_custom_getter',\n '_checkpoint_dependencies',\n '_convert_to_tensor',\n '_copy_trackable_to_cpu',\n '_deferred_dependencies',\n '_deferred_initialize',\n '_deserialization_dependencies',\n '_deserialize_from_proto',\n '_direct_assign',\n '_dtype',\n '_export_to_saved_model_graph',\n '_gather_saveables_for_checkpoint',\n '_handle_deferred_dependencies',\n '_initialize',\n '_initializer',\n '_lookup_dependency',\n '_maybe_autocast',\n '_maybe_initialize_trackable',\n '_name_based_attribute_restore',\n '_name_based_restores',\n '_ndim',\n '_no_dependency',\n '_object_identifier',\n '_preload_simple_restoration',\n '_restore_from_tensors',\n '_self_name_based_restores',\n '_self_saveable_object_factories',\n '_self_setattr_tracking',\n '_self_unconditional_checkpoint_dependencies',\n '_self_unconditional_deferred_dependencies',\n '_self_unconditional_dependency_names',\n '_self_update_uid',\n '_serialize_to_proto',\n '_serialize_to_tensors',\n '_setattr_tracking',\n '_shape',\n '_shared_name',\n '_should_act_as_resource_variable',\n '_tf_api_names',\n '_tf_api_names_v1',\n '_track_trackable',\n '_trackable_children',\n '_trainable',\n '_unconditional_checkpoint_dependencies',\n '_unconditional_dependency_names',\n '_update_uid',\n '_validate_shape',\n '_value',\n '_write_object_proto',\n 'assign',\n 'assign_add',\n 'assign_sub',\n 'constraint',\n 'dtype',\n 'handle',\n 'name',\n 'ndim',\n 'numpy',\n 'path',\n 'regularizer',\n 'shape',\n 'trainable',\n 'value']"
     },
     "execution_count": 98,
     "metadata": {},
     "output_type": "execute_result"
    }
   ],
   "source": [
    "dir(dec1.weights[0])"
   ],
   "metadata": {
    "collapsed": false,
    "ExecuteTime": {
     "end_time": "2024-03-13T12:15:06.499746Z",
     "start_time": "2024-03-13T12:15:06.495399Z"
    }
   },
   "id": "10023ae470af8e1d",
   "execution_count": 98
  },
  {
   "cell_type": "code",
   "outputs": [
    {
     "data": {
      "text/plain": "{'name': 'transformer_decoder_2',\n 'trainable': True,\n 'dtype': 'float32',\n 'intermediate_dim': 100,\n 'num_heads': 100,\n 'dropout': 0,\n 'activation': 'relu',\n 'layer_norm_epsilon': 1e-05,\n 'kernel_initializer': {'module': 'keras.src.initializers.random_initializers',\n  'class_name': 'GlorotUniform',\n  'config': {'seed': None},\n  'registered_name': 'GlorotUniform'},\n 'bias_initializer': {'module': 'keras.src.initializers.constant_initializers',\n  'class_name': 'Zeros',\n  'config': {},\n  'registered_name': 'Zeros'},\n 'normalize_first': False,\n 'decoder_sequence_shape': (None, 762),\n 'encoder_sequence_shape': (None, 762)}"
     },
     "execution_count": 104,
     "metadata": {},
     "output_type": "execute_result"
    }
   ],
   "source": [
    "dec1.get_config()"
   ],
   "metadata": {
    "collapsed": false,
    "ExecuteTime": {
     "end_time": "2024-03-13T12:18:20.027343Z",
     "start_time": "2024-03-13T12:18:20.023711Z"
    }
   },
   "id": "559a41a0c5192ceb",
   "execution_count": 104
  },
  {
   "cell_type": "code",
   "outputs": [
    {
     "data": {
      "text/plain": "{'name': 'transformer_layer_1',\n 'trainable': True,\n 'dtype': 'float32',\n 'intermediate_dim': 3072,\n 'num_heads': 12,\n 'dropout': 0.1,\n 'activation': 'gelu',\n 'layer_norm_epsilon': 1e-05,\n 'kernel_initializer': {'module': 'keras.src.initializers.random_initializers',\n  'class_name': 'TruncatedNormal',\n  'config': {'mean': 0.0, 'stddev': 0.02, 'seed': None},\n  'registered_name': 'TruncatedNormal'},\n 'bias_initializer': {'module': 'keras.src.initializers.constant_initializers',\n  'class_name': 'Zeros',\n  'config': {},\n  'registered_name': 'Zeros'},\n 'normalize_first': False}"
     },
     "execution_count": 105,
     "metadata": {},
     "output_type": "execute_result"
    }
   ],
   "source": [
    "model1.layers[1].get_config()"
   ],
   "metadata": {
    "collapsed": false,
    "ExecuteTime": {
     "end_time": "2024-03-13T12:18:58.953162Z",
     "start_time": "2024-03-13T12:18:58.948752Z"
    }
   },
   "id": "f834be72154a1a03",
   "execution_count": 105
  },
  {
   "cell_type": "code",
   "outputs": [
    {
     "data": {
      "text/plain": "[<KerasVariable shape=(762, 12, 63), dtype=float32, path=transformer_layer_1/self_attention/query/kernel>,\n <KerasVariable shape=(12, 63), dtype=float32, path=transformer_layer_1/self_attention/query/bias>,\n <KerasVariable shape=(762, 12, 63), dtype=float32, path=transformer_layer_1/self_attention/key/kernel>,\n <KerasVariable shape=(12, 63), dtype=float32, path=transformer_layer_1/self_attention/key/bias>,\n <KerasVariable shape=(762, 12, 63), dtype=float32, path=transformer_layer_1/self_attention/value/kernel>,\n <KerasVariable shape=(12, 63), dtype=float32, path=transformer_layer_1/self_attention/value/bias>,\n <KerasVariable shape=(12, 63, 762), dtype=float32, path=transformer_layer_1/self_attention/attention_output/kernel>,\n <KerasVariable shape=(762,), dtype=float32, path=transformer_layer_1/self_attention/attention_output/bias>,\n <KerasVariable shape=(762,), dtype=float32, path=transformer_layer_1/self_attention_layer_norm/gamma>,\n <KerasVariable shape=(762,), dtype=float32, path=transformer_layer_1/self_attention_layer_norm/beta>,\n <KerasVariable shape=(762, 12, 63), dtype=float32, path=transformer_layer_1/cross_attention/query/kernel>,\n <KerasVariable shape=(12, 63), dtype=float32, path=transformer_layer_1/cross_attention/query/bias>,\n <KerasVariable shape=(762, 12, 63), dtype=float32, path=transformer_layer_1/cross_attention/key/kernel>,\n <KerasVariable shape=(12, 63), dtype=float32, path=transformer_layer_1/cross_attention/key/bias>,\n <KerasVariable shape=(762, 12, 63), dtype=float32, path=transformer_layer_1/cross_attention/value/kernel>,\n <KerasVariable shape=(12, 63), dtype=float32, path=transformer_layer_1/cross_attention/value/bias>,\n <KerasVariable shape=(12, 63, 762), dtype=float32, path=transformer_layer_1/cross_attention/attention_output/kernel>,\n <KerasVariable shape=(762,), dtype=float32, path=transformer_layer_1/cross_attention/attention_output/bias>,\n <KerasVariable shape=(762,), dtype=float32, path=transformer_layer_1/cross_attention_layer_norm/gamma>,\n <KerasVariable shape=(762,), dtype=float32, path=transformer_layer_1/cross_attention_layer_norm/beta>,\n <KerasVariable shape=(762, 3072), dtype=float32, path=transformer_layer_1/feedforward_intermediate_dense/kernel>,\n <KerasVariable shape=(3072,), dtype=float32, path=transformer_layer_1/feedforward_intermediate_dense/bias>,\n <KerasVariable shape=(3072, 762), dtype=float32, path=transformer_layer_1/feedforward_output_dense/kernel>,\n <KerasVariable shape=(762,), dtype=float32, path=transformer_layer_1/feedforward_output_dense/bias>,\n <KerasVariable shape=(762,), dtype=float32, path=transformer_layer_1/feedforward_layer_norm/gamma>,\n <KerasVariable shape=(762,), dtype=float32, path=transformer_layer_1/feedforward_layer_norm/beta>]"
     },
     "execution_count": 106,
     "metadata": {},
     "output_type": "execute_result"
    }
   ],
   "source": [
    "dec2 = keras_nlp.layers.TransformerDecoder.from_config(model1.layers[1].get_config())\n",
    "dec2.build((None, 762), (None, 762))\n",
    "dec2.weights"
   ],
   "metadata": {
    "collapsed": false,
    "ExecuteTime": {
     "end_time": "2024-03-13T12:19:49.157519Z",
     "start_time": "2024-03-13T12:19:49.088759Z"
    }
   },
   "id": "e73f768af148e409",
   "execution_count": 106
  },
  {
   "cell_type": "code",
   "outputs": [],
   "source": [
    "def convert_encoder_to_decoder(encoder, decoder_input_shape=(None,None, 768)):\n",
    "    \n",
    "    decoder = keras_nlp.layers.TransformerDecoder.from_config(encoder.get_config())\n",
    "    decoder.build(encoder.output.shape, decoder_input_shape)\n",
    "    \n",
    "    decoder_weights = []\n",
    "    \n",
    "    for dw in decoder.weights:\n",
    "        dp = '/'.join(dw.path.split('/'))\n",
    "        print(dw.shape, dp)\n",
    "        print('cross' in dp)\n",
    "        for ew in encoder.weights:\n",
    "            ep = '/'.join(ew.path.split('/'))\n",
    "            if ep == dp:\n",
    "                # print(ew.shape, ep)\n",
    "                decoder_weights.append(ew.value)\n",
    "                break\n",
    "        else:\n",
    "            decoder_weights.append(dw.value)\n",
    "        #     print('Not found')\n",
    "        # print('-------------')\n",
    "    \n",
    "    # for i in range(len(decoder_weights)):\n",
    "    #     print(decoder_weights[i].shape, decoder.get_weights()[i].shape)\n",
    "        \n",
    "\n",
    "    \n",
    "    decoder.set_weights(decoder_weights)       \n",
    "    \n",
    "    for w in decoder.weights:\n",
    "        if not 'cross' in w.path:\n",
    "            w.trainable = False\n",
    "    \n",
    "    return decoder"
   ],
   "metadata": {
    "collapsed": false,
    "ExecuteTime": {
     "end_time": "2024-03-13T13:07:33.930359Z",
     "start_time": "2024-03-13T13:07:33.926001Z"
    }
   },
   "id": "8d72aeafd31e9b20",
   "execution_count": 167
  },
  {
   "cell_type": "code",
   "outputs": [
    {
     "data": {
      "text/plain": "(None, None, 768)"
     },
     "execution_count": 168,
     "metadata": {},
     "output_type": "execute_result"
    }
   ],
   "source": [
    "encoder =model1.layers[1]\n",
    "encoder.output.shape"
   ],
   "metadata": {
    "collapsed": false,
    "ExecuteTime": {
     "end_time": "2024-03-13T13:07:34.554989Z",
     "start_time": "2024-03-13T13:07:34.552022Z"
    }
   },
   "id": "8962e25b6554dd9c",
   "execution_count": 168
  },
  {
   "cell_type": "code",
   "outputs": [
    {
     "name": "stdout",
     "output_type": "stream",
     "text": [
      "(768, 12, 64) transformer_layer_1/self_attention/query/kernel\n",
      "False\n",
      "(12, 64) transformer_layer_1/self_attention/query/bias\n",
      "False\n",
      "(768, 12, 64) transformer_layer_1/self_attention/key/kernel\n",
      "False\n",
      "(12, 64) transformer_layer_1/self_attention/key/bias\n",
      "False\n",
      "(768, 12, 64) transformer_layer_1/self_attention/value/kernel\n",
      "False\n",
      "(12, 64) transformer_layer_1/self_attention/value/bias\n",
      "False\n",
      "(12, 64, 768) transformer_layer_1/self_attention/attention_output/kernel\n",
      "False\n",
      "(768,) transformer_layer_1/self_attention/attention_output/bias\n",
      "False\n",
      "(768,) transformer_layer_1/self_attention_layer_norm/gamma\n",
      "False\n",
      "(768,) transformer_layer_1/self_attention_layer_norm/beta\n",
      "False\n",
      "(768, 12, 64) transformer_layer_1/cross_attention/query/kernel\n",
      "True\n",
      "(12, 64) transformer_layer_1/cross_attention/query/bias\n",
      "True\n",
      "(768, 12, 64) transformer_layer_1/cross_attention/key/kernel\n",
      "True\n",
      "(12, 64) transformer_layer_1/cross_attention/key/bias\n",
      "True\n",
      "(768, 12, 64) transformer_layer_1/cross_attention/value/kernel\n",
      "True\n",
      "(12, 64) transformer_layer_1/cross_attention/value/bias\n",
      "True\n",
      "(12, 64, 768) transformer_layer_1/cross_attention/attention_output/kernel\n",
      "True\n",
      "(768,) transformer_layer_1/cross_attention/attention_output/bias\n",
      "True\n",
      "(768,) transformer_layer_1/cross_attention_layer_norm/gamma\n",
      "True\n",
      "(768,) transformer_layer_1/cross_attention_layer_norm/beta\n",
      "True\n",
      "(768, 3072) transformer_layer_1/feedforward_intermediate_dense/kernel\n",
      "False\n",
      "(3072,) transformer_layer_1/feedforward_intermediate_dense/bias\n",
      "False\n",
      "(3072, 768) transformer_layer_1/feedforward_output_dense/kernel\n",
      "False\n",
      "(768,) transformer_layer_1/feedforward_output_dense/bias\n",
      "False\n",
      "(768,) transformer_layer_1/feedforward_layer_norm/gamma\n",
      "False\n",
      "(768,) transformer_layer_1/feedforward_layer_norm/beta\n",
      "False\n"
     ]
    }
   ],
   "source": [
    "test_dec = convert_encoder_to_decoder(encoder)"
   ],
   "metadata": {
    "collapsed": false,
    "ExecuteTime": {
     "end_time": "2024-03-13T13:07:35.853371Z",
     "start_time": "2024-03-13T13:07:35.785209Z"
    }
   },
   "id": "b9aa861e84ee6cca",
   "execution_count": 169
  },
  {
   "cell_type": "code",
   "outputs": [
    {
     "data": {
      "text/plain": "[array([[[-0.02690759,  0.02286571, -0.00200423, ..., -0.02784798,\n          -0.01155478,  0.00779839],\n         [-0.02644495, -0.0011386 , -0.00867614, ..., -0.03660404,\n           0.00416366, -0.02973907],\n         [ 0.00899003, -0.01227792,  0.01289736, ...,  0.01615913,\n          -0.01047462, -0.02236965],\n         ...,\n         [-0.00376328,  0.01589137,  0.0152572 , ...,  0.00269613,\n          -0.03272806, -0.00936685],\n         [ 0.00470315, -0.00966066,  0.01017187, ...,  0.00065113,\n          -0.00979351, -0.01906923],\n         [-0.01491584, -0.02383434,  0.01677936, ...,  0.02942748,\n          -0.0283356 , -0.01442519]],\n \n        [[ 0.02535205,  0.02058257,  0.0033271 , ..., -0.02104586,\n           0.00791621, -0.03347601],\n         [ 0.01010041, -0.03960218,  0.00555957, ..., -0.03945494,\n          -0.02972153,  0.01317752],\n         [ 0.02232376, -0.03603771,  0.00155826, ..., -0.02211587,\n           0.01454037, -0.01563132],\n         ...,\n         [ 0.02649679, -0.01262704, -0.01891257, ...,  0.00464759,\n           0.00789747, -0.01957584],\n         [ 0.00240302, -0.03125582,  0.01640614, ..., -0.02110951,\n          -0.00898786, -0.00925964],\n         [-0.02749081, -0.01790534, -0.00853967, ...,  0.03253661,\n          -0.01023786, -0.02456081]],\n \n        [[ 0.03148444,  0.0016518 , -0.01395323, ..., -0.00569756,\n          -0.00195044, -0.01107633],\n         [-0.01873934,  0.02629507, -0.01678016, ...,  0.00718584,\n           0.02392161, -0.01771533],\n         [ 0.00685197, -0.0009018 , -0.00823265, ...,  0.01080822,\n          -0.01125001, -0.00273012],\n         ...,\n         [ 0.01346128, -0.03132669, -0.00640835, ..., -0.0007888 ,\n          -0.0152964 , -0.03537075],\n         [ 0.00130343,  0.01290236, -0.00835674, ..., -0.01402494,\n          -0.01324965, -0.03955849],\n         [ 0.03131911, -0.00382987, -0.03195699, ...,  0.00243113,\n          -0.01809637, -0.00382718]],\n \n        ...,\n \n        [[ 0.01981718,  0.00318092, -0.00093508, ...,  0.01187482,\n          -0.00152132, -0.01443593],\n         [ 0.01032441, -0.02128211, -0.03040068, ..., -0.01897116,\n          -0.03989453, -0.01915214],\n         [ 0.00022565, -0.01853833,  0.0046477 , ..., -0.00337447,\n           0.00722501,  0.02041568],\n         ...,\n         [-0.02721928,  0.01135994, -0.02142164, ...,  0.01493766,\n           0.00338664,  0.00399791],\n         [ 0.02089444,  0.01196188,  0.00394746, ...,  0.02501424,\n           0.02024242, -0.01142127],\n         [-0.01963102,  0.00732044,  0.00343821, ..., -0.00912035,\n           0.01143815, -0.00453117]],\n \n        [[ 0.00452196,  0.00194836, -0.02843414, ..., -0.00505911,\n          -0.00880191,  0.03401181],\n         [-0.03069393,  0.03403471,  0.00658763, ..., -0.03063496,\n          -0.01214685,  0.01739766],\n         [ 0.03447114,  0.02666981, -0.0198351 , ...,  0.03114182,\n           0.00736951, -0.01750707],\n         ...,\n         [ 0.03344011, -0.00682815, -0.00351659, ..., -0.02892388,\n          -0.00421094,  0.00659677],\n         [ 0.01003125, -0.03124432,  0.00732156, ..., -0.00242897,\n          -0.00415854,  0.0084983 ],\n         [-0.00349623,  0.01189261,  0.00280308, ...,  0.03182839,\n           0.00782587,  0.0061547 ]],\n \n        [[-0.01639111, -0.01089778, -0.01080401, ...,  0.0094352 ,\n          -0.01531611, -0.00813446],\n         [ 0.0081596 ,  0.03255435,  0.0236702 , ...,  0.0229806 ,\n           0.02843212,  0.01513278],\n         [-0.03087914,  0.00678572, -0.00270247, ...,  0.01728562,\n          -0.02245622,  0.00739423],\n         ...,\n         [-0.0292155 , -0.01022958, -0.00939465, ...,  0.02419693,\n          -0.03278266, -0.02403382],\n         [ 0.02141001,  0.03964268, -0.02307186, ..., -0.01192804,\n           0.0235617 , -0.01599341],\n         [ 0.00550782, -0.02062987, -0.0198667 , ...,  0.01128636,\n           0.00012151, -0.01165107]]], dtype=float32),\n array([[0., 0., 0., 0., 0., 0., 0., 0., 0., 0., 0., 0., 0., 0., 0., 0.,\n         0., 0., 0., 0., 0., 0., 0., 0., 0., 0., 0., 0., 0., 0., 0., 0.,\n         0., 0., 0., 0., 0., 0., 0., 0., 0., 0., 0., 0., 0., 0., 0., 0.,\n         0., 0., 0., 0., 0., 0., 0., 0., 0., 0., 0., 0., 0., 0., 0., 0.],\n        [0., 0., 0., 0., 0., 0., 0., 0., 0., 0., 0., 0., 0., 0., 0., 0.,\n         0., 0., 0., 0., 0., 0., 0., 0., 0., 0., 0., 0., 0., 0., 0., 0.,\n         0., 0., 0., 0., 0., 0., 0., 0., 0., 0., 0., 0., 0., 0., 0., 0.,\n         0., 0., 0., 0., 0., 0., 0., 0., 0., 0., 0., 0., 0., 0., 0., 0.],\n        [0., 0., 0., 0., 0., 0., 0., 0., 0., 0., 0., 0., 0., 0., 0., 0.,\n         0., 0., 0., 0., 0., 0., 0., 0., 0., 0., 0., 0., 0., 0., 0., 0.,\n         0., 0., 0., 0., 0., 0., 0., 0., 0., 0., 0., 0., 0., 0., 0., 0.,\n         0., 0., 0., 0., 0., 0., 0., 0., 0., 0., 0., 0., 0., 0., 0., 0.],\n        [0., 0., 0., 0., 0., 0., 0., 0., 0., 0., 0., 0., 0., 0., 0., 0.,\n         0., 0., 0., 0., 0., 0., 0., 0., 0., 0., 0., 0., 0., 0., 0., 0.,\n         0., 0., 0., 0., 0., 0., 0., 0., 0., 0., 0., 0., 0., 0., 0., 0.,\n         0., 0., 0., 0., 0., 0., 0., 0., 0., 0., 0., 0., 0., 0., 0., 0.],\n        [0., 0., 0., 0., 0., 0., 0., 0., 0., 0., 0., 0., 0., 0., 0., 0.,\n         0., 0., 0., 0., 0., 0., 0., 0., 0., 0., 0., 0., 0., 0., 0., 0.,\n         0., 0., 0., 0., 0., 0., 0., 0., 0., 0., 0., 0., 0., 0., 0., 0.,\n         0., 0., 0., 0., 0., 0., 0., 0., 0., 0., 0., 0., 0., 0., 0., 0.],\n        [0., 0., 0., 0., 0., 0., 0., 0., 0., 0., 0., 0., 0., 0., 0., 0.,\n         0., 0., 0., 0., 0., 0., 0., 0., 0., 0., 0., 0., 0., 0., 0., 0.,\n         0., 0., 0., 0., 0., 0., 0., 0., 0., 0., 0., 0., 0., 0., 0., 0.,\n         0., 0., 0., 0., 0., 0., 0., 0., 0., 0., 0., 0., 0., 0., 0., 0.],\n        [0., 0., 0., 0., 0., 0., 0., 0., 0., 0., 0., 0., 0., 0., 0., 0.,\n         0., 0., 0., 0., 0., 0., 0., 0., 0., 0., 0., 0., 0., 0., 0., 0.,\n         0., 0., 0., 0., 0., 0., 0., 0., 0., 0., 0., 0., 0., 0., 0., 0.,\n         0., 0., 0., 0., 0., 0., 0., 0., 0., 0., 0., 0., 0., 0., 0., 0.],\n        [0., 0., 0., 0., 0., 0., 0., 0., 0., 0., 0., 0., 0., 0., 0., 0.,\n         0., 0., 0., 0., 0., 0., 0., 0., 0., 0., 0., 0., 0., 0., 0., 0.,\n         0., 0., 0., 0., 0., 0., 0., 0., 0., 0., 0., 0., 0., 0., 0., 0.,\n         0., 0., 0., 0., 0., 0., 0., 0., 0., 0., 0., 0., 0., 0., 0., 0.],\n        [0., 0., 0., 0., 0., 0., 0., 0., 0., 0., 0., 0., 0., 0., 0., 0.,\n         0., 0., 0., 0., 0., 0., 0., 0., 0., 0., 0., 0., 0., 0., 0., 0.,\n         0., 0., 0., 0., 0., 0., 0., 0., 0., 0., 0., 0., 0., 0., 0., 0.,\n         0., 0., 0., 0., 0., 0., 0., 0., 0., 0., 0., 0., 0., 0., 0., 0.],\n        [0., 0., 0., 0., 0., 0., 0., 0., 0., 0., 0., 0., 0., 0., 0., 0.,\n         0., 0., 0., 0., 0., 0., 0., 0., 0., 0., 0., 0., 0., 0., 0., 0.,\n         0., 0., 0., 0., 0., 0., 0., 0., 0., 0., 0., 0., 0., 0., 0., 0.,\n         0., 0., 0., 0., 0., 0., 0., 0., 0., 0., 0., 0., 0., 0., 0., 0.],\n        [0., 0., 0., 0., 0., 0., 0., 0., 0., 0., 0., 0., 0., 0., 0., 0.,\n         0., 0., 0., 0., 0., 0., 0., 0., 0., 0., 0., 0., 0., 0., 0., 0.,\n         0., 0., 0., 0., 0., 0., 0., 0., 0., 0., 0., 0., 0., 0., 0., 0.,\n         0., 0., 0., 0., 0., 0., 0., 0., 0., 0., 0., 0., 0., 0., 0., 0.],\n        [0., 0., 0., 0., 0., 0., 0., 0., 0., 0., 0., 0., 0., 0., 0., 0.,\n         0., 0., 0., 0., 0., 0., 0., 0., 0., 0., 0., 0., 0., 0., 0., 0.,\n         0., 0., 0., 0., 0., 0., 0., 0., 0., 0., 0., 0., 0., 0., 0., 0.,\n         0., 0., 0., 0., 0., 0., 0., 0., 0., 0., 0., 0., 0., 0., 0., 0.]],\n       dtype=float32),\n array([[[-1.15731359e-02,  1.02383588e-02, -9.89573635e-03, ...,\n           1.42485630e-02,  4.30721921e-05, -7.88387377e-03],\n         [ 5.62026678e-03,  1.15186097e-02,  2.17513484e-03, ...,\n           4.55797045e-03, -4.60404530e-03, -5.65837231e-03],\n         [ 2.71854680e-02, -9.04000644e-03,  1.64353207e-03, ...,\n           3.06313429e-02,  3.04830018e-02,  9.32641514e-03],\n         ...,\n         [ 1.34366727e-03,  2.45898459e-02, -2.34248079e-02, ...,\n          -1.47204269e-02,  3.48786525e-02, -5.10661304e-03],\n         [ 1.73370652e-02,  5.41664939e-03,  1.29505787e-02, ...,\n          -3.08765229e-02,  2.97202077e-03, -1.37740886e-02],\n         [-2.43398324e-02, -1.37896948e-02, -2.87836753e-02, ...,\n          -2.97250110e-03, -2.93289684e-02, -2.24312134e-02]],\n \n        [[ 2.95036327e-04,  2.70743035e-02,  2.59428918e-02, ...,\n          -1.84475221e-02,  5.87539608e-03,  7.42646912e-03],\n         [ 1.98840350e-02, -4.12577391e-03, -1.21671427e-02, ...,\n           7.41971470e-03, -1.65689848e-02, -1.22396480e-02],\n         [-3.93826701e-02,  3.19561213e-02,  2.04150919e-02, ...,\n          -2.19707396e-02,  4.17441223e-03, -1.18481321e-02],\n         ...,\n         [ 9.88958031e-03, -6.09523244e-03, -9.72726475e-03, ...,\n          -1.02776345e-02, -2.66416259e-02,  6.67323824e-03],\n         [ 1.48765929e-02, -6.51021581e-03,  1.52544910e-02, ...,\n          -7.48944795e-03, -4.49931109e-03, -3.12734880e-02],\n         [ 1.81063153e-02,  1.09127462e-02, -4.81163198e-03, ...,\n          -8.37238319e-03,  1.21312076e-02, -3.72304246e-02]],\n \n        [[-8.80190544e-03,  6.27590390e-03,  6.34973310e-03, ...,\n           3.12628150e-02, -1.05573284e-02, -1.07345320e-02],\n         [ 1.58245694e-02,  2.02133693e-02, -5.73475519e-03, ...,\n          -1.27034439e-02, -4.78480477e-03,  1.68461241e-02],\n         [-7.00779143e-04,  2.65529789e-02,  1.56103214e-02, ...,\n          -2.13656295e-02, -2.36915294e-02, -1.27815697e-02],\n         ...,\n         [ 1.62937846e-02, -1.44816656e-02, -1.25477742e-02, ...,\n           6.86979759e-03, -6.98739942e-03,  1.96374897e-02],\n         [ 2.15625241e-02,  1.82987880e-02, -2.58444692e-03, ...,\n           3.06804124e-02,  2.56179702e-02,  9.85794421e-03],\n         [-1.29260290e-02, -2.38211248e-02, -7.89665710e-03, ...,\n           2.84501705e-02,  5.25241951e-03, -1.06601184e-02]],\n \n        ...,\n \n        [[-2.76321080e-02,  4.57838178e-03, -1.05746649e-02, ...,\n          -1.12984795e-02, -1.43700850e-03, -1.65851582e-02],\n         [ 1.86792936e-03,  1.61644164e-02, -8.10224190e-03, ...,\n          -1.70968510e-02,  1.07077640e-02,  2.63054911e-02],\n         [-2.37652566e-02, -1.61630381e-02,  1.40204118e-03, ...,\n          -1.93286743e-02,  2.07261741e-02, -7.69295217e-03],\n         ...,\n         [-2.78768735e-03,  3.70313264e-02, -7.46480795e-03, ...,\n           4.44869569e-04, -1.13081755e-02,  7.48449145e-03],\n         [-1.18354792e-02,  8.63575377e-03,  2.59988662e-02, ...,\n          -6.00331347e-04,  1.09008178e-02, -2.16445364e-02],\n         [ 2.58278381e-02,  2.57987669e-03, -2.00075265e-02, ...,\n          -1.72605924e-03, -1.11106727e-02,  1.67988259e-02]],\n \n        [[-1.31645869e-03,  2.50803959e-02,  1.43289762e-02, ...,\n          -3.51664498e-02, -1.97395757e-02,  4.20378055e-03],\n         [-1.15260612e-02,  2.88459612e-03, -4.45923908e-03, ...,\n          -1.12360334e-02, -2.36259624e-02,  2.12059589e-03],\n         [ 1.62417963e-02,  1.16476817e-02, -3.95084210e-02, ...,\n           1.95921008e-02, -1.62278879e-02,  1.95922982e-02],\n         ...,\n         [-1.37936957e-02,  2.36089397e-02, -7.38306157e-03, ...,\n          -2.09549479e-02,  3.56665514e-02, -6.71851262e-03],\n         [-1.08786812e-03,  1.67333204e-02, -3.89094763e-02, ...,\n          -1.10565340e-02,  1.56983510e-02, -1.15440916e-02],\n         [ 5.58604347e-03,  6.75660383e-04,  2.20410600e-02, ...,\n          -8.08762573e-03,  9.03606601e-03,  6.56337943e-03]],\n \n        [[ 8.52035172e-03, -3.54364747e-03, -2.78375973e-03, ...,\n          -2.77466439e-02, -1.05328197e-02,  2.58852709e-02],\n         [ 2.25104690e-02, -2.81117335e-02,  7.54410960e-03, ...,\n           2.19060690e-03,  5.93043724e-03,  8.42443295e-03],\n         [-1.17027098e-02, -2.56851427e-02,  2.12403499e-02, ...,\n           1.28687667e-02, -2.99819708e-02,  3.23618134e-03],\n         ...,\n         [-5.69396885e-03, -2.00745054e-02,  1.24032265e-02, ...,\n           1.68738179e-02, -2.66797543e-02,  8.05255119e-03],\n         [-3.79455654e-04,  2.65598055e-02, -3.09664123e-02, ...,\n           8.83321092e-03,  5.04268752e-03, -7.85245327e-04],\n         [-3.78852757e-03, -1.13163507e-02,  1.38504272e-02, ...,\n          -8.76950286e-03,  1.05537791e-02, -8.44502170e-03]]],\n       dtype=float32),\n array([[0., 0., 0., 0., 0., 0., 0., 0., 0., 0., 0., 0., 0., 0., 0., 0.,\n         0., 0., 0., 0., 0., 0., 0., 0., 0., 0., 0., 0., 0., 0., 0., 0.,\n         0., 0., 0., 0., 0., 0., 0., 0., 0., 0., 0., 0., 0., 0., 0., 0.,\n         0., 0., 0., 0., 0., 0., 0., 0., 0., 0., 0., 0., 0., 0., 0., 0.],\n        [0., 0., 0., 0., 0., 0., 0., 0., 0., 0., 0., 0., 0., 0., 0., 0.,\n         0., 0., 0., 0., 0., 0., 0., 0., 0., 0., 0., 0., 0., 0., 0., 0.,\n         0., 0., 0., 0., 0., 0., 0., 0., 0., 0., 0., 0., 0., 0., 0., 0.,\n         0., 0., 0., 0., 0., 0., 0., 0., 0., 0., 0., 0., 0., 0., 0., 0.],\n        [0., 0., 0., 0., 0., 0., 0., 0., 0., 0., 0., 0., 0., 0., 0., 0.,\n         0., 0., 0., 0., 0., 0., 0., 0., 0., 0., 0., 0., 0., 0., 0., 0.,\n         0., 0., 0., 0., 0., 0., 0., 0., 0., 0., 0., 0., 0., 0., 0., 0.,\n         0., 0., 0., 0., 0., 0., 0., 0., 0., 0., 0., 0., 0., 0., 0., 0.],\n        [0., 0., 0., 0., 0., 0., 0., 0., 0., 0., 0., 0., 0., 0., 0., 0.,\n         0., 0., 0., 0., 0., 0., 0., 0., 0., 0., 0., 0., 0., 0., 0., 0.,\n         0., 0., 0., 0., 0., 0., 0., 0., 0., 0., 0., 0., 0., 0., 0., 0.,\n         0., 0., 0., 0., 0., 0., 0., 0., 0., 0., 0., 0., 0., 0., 0., 0.],\n        [0., 0., 0., 0., 0., 0., 0., 0., 0., 0., 0., 0., 0., 0., 0., 0.,\n         0., 0., 0., 0., 0., 0., 0., 0., 0., 0., 0., 0., 0., 0., 0., 0.,\n         0., 0., 0., 0., 0., 0., 0., 0., 0., 0., 0., 0., 0., 0., 0., 0.,\n         0., 0., 0., 0., 0., 0., 0., 0., 0., 0., 0., 0., 0., 0., 0., 0.],\n        [0., 0., 0., 0., 0., 0., 0., 0., 0., 0., 0., 0., 0., 0., 0., 0.,\n         0., 0., 0., 0., 0., 0., 0., 0., 0., 0., 0., 0., 0., 0., 0., 0.,\n         0., 0., 0., 0., 0., 0., 0., 0., 0., 0., 0., 0., 0., 0., 0., 0.,\n         0., 0., 0., 0., 0., 0., 0., 0., 0., 0., 0., 0., 0., 0., 0., 0.],\n        [0., 0., 0., 0., 0., 0., 0., 0., 0., 0., 0., 0., 0., 0., 0., 0.,\n         0., 0., 0., 0., 0., 0., 0., 0., 0., 0., 0., 0., 0., 0., 0., 0.,\n         0., 0., 0., 0., 0., 0., 0., 0., 0., 0., 0., 0., 0., 0., 0., 0.,\n         0., 0., 0., 0., 0., 0., 0., 0., 0., 0., 0., 0., 0., 0., 0., 0.],\n        [0., 0., 0., 0., 0., 0., 0., 0., 0., 0., 0., 0., 0., 0., 0., 0.,\n         0., 0., 0., 0., 0., 0., 0., 0., 0., 0., 0., 0., 0., 0., 0., 0.,\n         0., 0., 0., 0., 0., 0., 0., 0., 0., 0., 0., 0., 0., 0., 0., 0.,\n         0., 0., 0., 0., 0., 0., 0., 0., 0., 0., 0., 0., 0., 0., 0., 0.],\n        [0., 0., 0., 0., 0., 0., 0., 0., 0., 0., 0., 0., 0., 0., 0., 0.,\n         0., 0., 0., 0., 0., 0., 0., 0., 0., 0., 0., 0., 0., 0., 0., 0.,\n         0., 0., 0., 0., 0., 0., 0., 0., 0., 0., 0., 0., 0., 0., 0., 0.,\n         0., 0., 0., 0., 0., 0., 0., 0., 0., 0., 0., 0., 0., 0., 0., 0.],\n        [0., 0., 0., 0., 0., 0., 0., 0., 0., 0., 0., 0., 0., 0., 0., 0.,\n         0., 0., 0., 0., 0., 0., 0., 0., 0., 0., 0., 0., 0., 0., 0., 0.,\n         0., 0., 0., 0., 0., 0., 0., 0., 0., 0., 0., 0., 0., 0., 0., 0.,\n         0., 0., 0., 0., 0., 0., 0., 0., 0., 0., 0., 0., 0., 0., 0., 0.],\n        [0., 0., 0., 0., 0., 0., 0., 0., 0., 0., 0., 0., 0., 0., 0., 0.,\n         0., 0., 0., 0., 0., 0., 0., 0., 0., 0., 0., 0., 0., 0., 0., 0.,\n         0., 0., 0., 0., 0., 0., 0., 0., 0., 0., 0., 0., 0., 0., 0., 0.,\n         0., 0., 0., 0., 0., 0., 0., 0., 0., 0., 0., 0., 0., 0., 0., 0.],\n        [0., 0., 0., 0., 0., 0., 0., 0., 0., 0., 0., 0., 0., 0., 0., 0.,\n         0., 0., 0., 0., 0., 0., 0., 0., 0., 0., 0., 0., 0., 0., 0., 0.,\n         0., 0., 0., 0., 0., 0., 0., 0., 0., 0., 0., 0., 0., 0., 0., 0.,\n         0., 0., 0., 0., 0., 0., 0., 0., 0., 0., 0., 0., 0., 0., 0., 0.]],\n       dtype=float32),\n array([[[ 0.03152572, -0.03370043,  0.01140948, ..., -0.01437148,\n           0.00201697, -0.01670451],\n         [ 0.00870799,  0.00504153,  0.00739238, ...,  0.00786318,\n          -0.0152738 ,  0.01623285],\n         [ 0.01791136,  0.00199452, -0.02709987, ...,  0.01311028,\n           0.01259972,  0.02390426],\n         ...,\n         [-0.03307195, -0.02195977,  0.00049784, ...,  0.00251048,\n           0.01378719, -0.02528142],\n         [-0.01188662, -0.0008011 ,  0.00339098, ...,  0.03339994,\n           0.00729122, -0.00034488],\n         [ 0.02708197,  0.00219681,  0.0058104 , ..., -0.02183647,\n          -0.02075605,  0.0065754 ]],\n \n        [[-0.02107023,  0.01780561, -0.0029713 , ...,  0.01047242,\n           0.00339756,  0.01821384],\n         [-0.02133091, -0.00189828, -0.01459458, ...,  0.03293439,\n          -0.02692475, -0.0174254 ],\n         [ 0.02611965,  0.0321479 ,  0.02439796, ...,  0.02878098,\n           0.01366498, -0.01367901],\n         ...,\n         [ 0.00496861,  0.02525291, -0.00109657, ...,  0.01213869,\n          -0.02091302, -0.01152805],\n         [-0.02544251,  0.02530669,  0.03630834, ...,  0.00729701,\n           0.00656319,  0.01078617],\n         [-0.01493637, -0.00016348,  0.02581638, ...,  0.00826195,\n          -0.0180491 ,  0.02674449]],\n \n        [[ 0.00249667,  0.0157623 , -0.00215117, ..., -0.01079526,\n           0.03129539, -0.02369604],\n         [-0.02987417, -0.00033631,  0.01519145, ..., -0.02723439,\n          -0.01034824, -0.02143002],\n         [ 0.01789644, -0.01297101, -0.0021612 , ...,  0.03734395,\n           0.00079128, -0.01119704],\n         ...,\n         [ 0.0188183 , -0.02794275,  0.01554013, ...,  0.01796767,\n           0.03199553, -0.00920833],\n         [-0.01192376,  0.01503952, -0.03349162, ...,  0.02802379,\n           0.00411816, -0.01159245],\n         [-0.00818845, -0.00462914,  0.01086839, ...,  0.01940567,\n          -0.01103496,  0.00105834]],\n \n        ...,\n \n        [[-0.0185022 ,  0.01296457, -0.00306905, ...,  0.00020769,\n          -0.0315768 , -0.00327934],\n         [-0.01591738,  0.01231558, -0.00273211, ...,  0.0163868 ,\n           0.00420659, -0.00080776],\n         [-0.00150622,  0.00672224,  0.00665994, ..., -0.01032816,\n          -0.02208512,  0.03545014],\n         ...,\n         [-0.02455555, -0.01170449, -0.00341343, ...,  0.00758505,\n          -0.01693121,  0.00878498],\n         [ 0.01612374, -0.01725657, -0.00659553, ..., -0.00213799,\n           0.02357821,  0.00026852],\n         [ 0.0282834 , -0.00186708,  0.01576082, ..., -0.00226358,\n          -0.03253586, -0.02901535]],\n \n        [[ 0.03362897,  0.00588563,  0.0069598 , ..., -0.00195416,\n          -0.00723181,  0.00104274],\n         [ 0.01400325, -0.00948944,  0.0083738 , ..., -0.01713132,\n          -0.00837243, -0.00137682],\n         [-0.03279595,  0.01315413, -0.01458541, ..., -0.00395809,\n          -0.00904234, -0.00157301],\n         ...,\n         [-0.01422187, -0.00910143, -0.00066872, ...,  0.02120454,\n          -0.00332585, -0.01757371],\n         [ 0.03071844, -0.01855933, -0.01735266, ...,  0.03696218,\n           0.0093254 ,  0.00365051],\n         [ 0.00963439, -0.03228623, -0.00597566, ...,  0.0038017 ,\n          -0.00342363, -0.01332505]],\n \n        [[ 0.00926137,  0.02506122,  0.02643409, ..., -0.00289745,\n          -0.0265137 , -0.02051914],\n         [ 0.01445935, -0.0212341 ,  0.01984212, ...,  0.00723286,\n          -0.00954405,  0.01409231],\n         [-0.02557126,  0.03544059, -0.01291877, ...,  0.0048469 ,\n           0.00553121,  0.00159845],\n         ...,\n         [ 0.00599848, -0.00405623,  0.0132514 , ..., -0.020689  ,\n          -0.00337771,  0.00861003],\n         [ 0.00673954, -0.01031097,  0.0078062 , ...,  0.0181124 ,\n           0.00193038, -0.01473147],\n         [-0.01852803, -0.03433151,  0.0140793 , ..., -0.00909422,\n          -0.00711262,  0.03283184]]], dtype=float32),\n array([[0., 0., 0., 0., 0., 0., 0., 0., 0., 0., 0., 0., 0., 0., 0., 0.,\n         0., 0., 0., 0., 0., 0., 0., 0., 0., 0., 0., 0., 0., 0., 0., 0.,\n         0., 0., 0., 0., 0., 0., 0., 0., 0., 0., 0., 0., 0., 0., 0., 0.,\n         0., 0., 0., 0., 0., 0., 0., 0., 0., 0., 0., 0., 0., 0., 0., 0.],\n        [0., 0., 0., 0., 0., 0., 0., 0., 0., 0., 0., 0., 0., 0., 0., 0.,\n         0., 0., 0., 0., 0., 0., 0., 0., 0., 0., 0., 0., 0., 0., 0., 0.,\n         0., 0., 0., 0., 0., 0., 0., 0., 0., 0., 0., 0., 0., 0., 0., 0.,\n         0., 0., 0., 0., 0., 0., 0., 0., 0., 0., 0., 0., 0., 0., 0., 0.],\n        [0., 0., 0., 0., 0., 0., 0., 0., 0., 0., 0., 0., 0., 0., 0., 0.,\n         0., 0., 0., 0., 0., 0., 0., 0., 0., 0., 0., 0., 0., 0., 0., 0.,\n         0., 0., 0., 0., 0., 0., 0., 0., 0., 0., 0., 0., 0., 0., 0., 0.,\n         0., 0., 0., 0., 0., 0., 0., 0., 0., 0., 0., 0., 0., 0., 0., 0.],\n        [0., 0., 0., 0., 0., 0., 0., 0., 0., 0., 0., 0., 0., 0., 0., 0.,\n         0., 0., 0., 0., 0., 0., 0., 0., 0., 0., 0., 0., 0., 0., 0., 0.,\n         0., 0., 0., 0., 0., 0., 0., 0., 0., 0., 0., 0., 0., 0., 0., 0.,\n         0., 0., 0., 0., 0., 0., 0., 0., 0., 0., 0., 0., 0., 0., 0., 0.],\n        [0., 0., 0., 0., 0., 0., 0., 0., 0., 0., 0., 0., 0., 0., 0., 0.,\n         0., 0., 0., 0., 0., 0., 0., 0., 0., 0., 0., 0., 0., 0., 0., 0.,\n         0., 0., 0., 0., 0., 0., 0., 0., 0., 0., 0., 0., 0., 0., 0., 0.,\n         0., 0., 0., 0., 0., 0., 0., 0., 0., 0., 0., 0., 0., 0., 0., 0.],\n        [0., 0., 0., 0., 0., 0., 0., 0., 0., 0., 0., 0., 0., 0., 0., 0.,\n         0., 0., 0., 0., 0., 0., 0., 0., 0., 0., 0., 0., 0., 0., 0., 0.,\n         0., 0., 0., 0., 0., 0., 0., 0., 0., 0., 0., 0., 0., 0., 0., 0.,\n         0., 0., 0., 0., 0., 0., 0., 0., 0., 0., 0., 0., 0., 0., 0., 0.],\n        [0., 0., 0., 0., 0., 0., 0., 0., 0., 0., 0., 0., 0., 0., 0., 0.,\n         0., 0., 0., 0., 0., 0., 0., 0., 0., 0., 0., 0., 0., 0., 0., 0.,\n         0., 0., 0., 0., 0., 0., 0., 0., 0., 0., 0., 0., 0., 0., 0., 0.,\n         0., 0., 0., 0., 0., 0., 0., 0., 0., 0., 0., 0., 0., 0., 0., 0.],\n        [0., 0., 0., 0., 0., 0., 0., 0., 0., 0., 0., 0., 0., 0., 0., 0.,\n         0., 0., 0., 0., 0., 0., 0., 0., 0., 0., 0., 0., 0., 0., 0., 0.,\n         0., 0., 0., 0., 0., 0., 0., 0., 0., 0., 0., 0., 0., 0., 0., 0.,\n         0., 0., 0., 0., 0., 0., 0., 0., 0., 0., 0., 0., 0., 0., 0., 0.],\n        [0., 0., 0., 0., 0., 0., 0., 0., 0., 0., 0., 0., 0., 0., 0., 0.,\n         0., 0., 0., 0., 0., 0., 0., 0., 0., 0., 0., 0., 0., 0., 0., 0.,\n         0., 0., 0., 0., 0., 0., 0., 0., 0., 0., 0., 0., 0., 0., 0., 0.,\n         0., 0., 0., 0., 0., 0., 0., 0., 0., 0., 0., 0., 0., 0., 0., 0.],\n        [0., 0., 0., 0., 0., 0., 0., 0., 0., 0., 0., 0., 0., 0., 0., 0.,\n         0., 0., 0., 0., 0., 0., 0., 0., 0., 0., 0., 0., 0., 0., 0., 0.,\n         0., 0., 0., 0., 0., 0., 0., 0., 0., 0., 0., 0., 0., 0., 0., 0.,\n         0., 0., 0., 0., 0., 0., 0., 0., 0., 0., 0., 0., 0., 0., 0., 0.],\n        [0., 0., 0., 0., 0., 0., 0., 0., 0., 0., 0., 0., 0., 0., 0., 0.,\n         0., 0., 0., 0., 0., 0., 0., 0., 0., 0., 0., 0., 0., 0., 0., 0.,\n         0., 0., 0., 0., 0., 0., 0., 0., 0., 0., 0., 0., 0., 0., 0., 0.,\n         0., 0., 0., 0., 0., 0., 0., 0., 0., 0., 0., 0., 0., 0., 0., 0.],\n        [0., 0., 0., 0., 0., 0., 0., 0., 0., 0., 0., 0., 0., 0., 0., 0.,\n         0., 0., 0., 0., 0., 0., 0., 0., 0., 0., 0., 0., 0., 0., 0., 0.,\n         0., 0., 0., 0., 0., 0., 0., 0., 0., 0., 0., 0., 0., 0., 0., 0.,\n         0., 0., 0., 0., 0., 0., 0., 0., 0., 0., 0., 0., 0., 0., 0., 0.]],\n       dtype=float32),\n array([[[-0.00492562,  0.01671605, -0.00415578, ...,  0.0008868 ,\n           0.01335741, -0.01192113],\n         [ 0.00515673,  0.03902054,  0.00396905, ..., -0.02890173,\n           0.02965877,  0.00468159],\n         [ 0.02386327,  0.02098018,  0.03192694, ..., -0.02772124,\n          -0.01463463,  0.01590839],\n         ...,\n         [ 0.008124  ,  0.01162637,  0.00218219, ..., -0.00828388,\n          -0.01291871, -0.00604152],\n         [ 0.00254215,  0.00079344,  0.01146358, ...,  0.00950121,\n          -0.01434896, -0.00538535],\n         [-0.01532719,  0.00258392,  0.02073788, ...,  0.01153609,\n           0.01491013, -0.00691919]],\n \n        [[-0.01153844,  0.02398274, -0.03719906, ..., -0.00078844,\n           0.00377259,  0.01935324],\n         [ 0.00238101,  0.03809741,  0.01599937, ..., -0.00177053,\n          -0.01136261,  0.00840145],\n         [-0.02759832, -0.03582585,  0.02408118, ...,  0.01352988,\n          -0.00382903,  0.03620438],\n         ...,\n         [ 0.00375455, -0.00969971,  0.01422571, ...,  0.01845522,\n          -0.01817005,  0.02104857],\n         [ 0.02605029,  0.01875691,  0.02342776, ..., -0.02426552,\n           0.03320842, -0.02694017],\n         [-0.0335032 , -0.01347103, -0.00459932, ..., -0.03982693,\n           0.00578229, -0.00310788]],\n \n        [[ 0.00264003, -0.01421127,  0.02388063, ..., -0.00810029,\n          -0.03425109, -0.0090492 ],\n         [-0.0088926 , -0.0189005 , -0.022562  , ..., -0.00496493,\n           0.00512507,  0.00584683],\n         [-0.01076577,  0.01690305, -0.00274684, ..., -0.01515982,\n           0.00709235,  0.01812809],\n         ...,\n         [ 0.00147972, -0.01054858,  0.03309599, ...,  0.00013665,\n           0.00588129, -0.00855824],\n         [-0.00577942,  0.01363861,  0.0078191 , ...,  0.00442594,\n          -0.001544  ,  0.01221962],\n         [-0.02219348, -0.00045062, -0.00791441, ...,  0.01034158,\n          -0.02147005,  0.00388462]],\n \n        ...,\n \n        [[ 0.01462343,  0.00013536,  0.01924572, ..., -0.01602518,\n           0.0035574 ,  0.01022532],\n         [ 0.02747712, -0.00702536, -0.00775271, ...,  0.03309045,\n           0.03575041, -0.01562883],\n         [-0.00690209, -0.00198113,  0.00261684, ..., -0.02270911,\n          -0.03405435, -0.01898006],\n         ...,\n         [ 0.001162  , -0.0320232 ,  0.02167562, ...,  0.0091674 ,\n           0.03428114,  0.00909569],\n         [-0.028897  , -0.00495511, -0.00184721, ...,  0.01363959,\n           0.03816575,  0.02533021],\n         [ 0.02321007, -0.01240492,  0.02070653, ...,  0.03195006,\n           0.00047899, -0.03569954]],\n \n        [[-0.00085613, -0.02029482, -0.00415588, ...,  0.02851588,\n           0.00073947,  0.02367388],\n         [-0.00248715,  0.02339327,  0.00197979, ...,  0.01037521,\n          -0.00042673,  0.03725766],\n         [ 0.00448028,  0.02936771,  0.02507252, ..., -0.01685025,\n          -0.0078919 , -0.02414852],\n         ...,\n         [ 0.03257062,  0.03970184,  0.0075536 , ...,  0.01142711,\n          -0.01729586,  0.00524899],\n         [ 0.02456605,  0.00342391, -0.00850734, ...,  0.00315698,\n           0.00124623,  0.00793368],\n         [-0.00921141, -0.02879336, -0.0281554 , ...,  0.01413448,\n           0.00297974, -0.00770819]],\n \n        [[-0.00424434, -0.01273411, -0.03204352, ..., -0.02221519,\n           0.01690165,  0.00611964],\n         [-0.00995504, -0.03696089,  0.00075351, ...,  0.01451217,\n          -0.00990542,  0.00156308],\n         [-0.01987495, -0.00690134,  0.01029901, ...,  0.03763656,\n           0.00531953, -0.02603244],\n         ...,\n         [ 0.00695278,  0.0116111 ,  0.02611868, ..., -0.01571554,\n           0.03272485,  0.01351217],\n         [ 0.01970841, -0.02028965, -0.01599927, ...,  0.01499327,\n           0.0111136 ,  0.00306611],\n         [-0.00167314, -0.00832829,  0.01181452, ...,  0.02736371,\n           0.00903962,  0.01912654]]], dtype=float32),\n array([0., 0., 0., 0., 0., 0., 0., 0., 0., 0., 0., 0., 0., 0., 0., 0., 0.,\n        0., 0., 0., 0., 0., 0., 0., 0., 0., 0., 0., 0., 0., 0., 0., 0., 0.,\n        0., 0., 0., 0., 0., 0., 0., 0., 0., 0., 0., 0., 0., 0., 0., 0., 0.,\n        0., 0., 0., 0., 0., 0., 0., 0., 0., 0., 0., 0., 0., 0., 0., 0., 0.,\n        0., 0., 0., 0., 0., 0., 0., 0., 0., 0., 0., 0., 0., 0., 0., 0., 0.,\n        0., 0., 0., 0., 0., 0., 0., 0., 0., 0., 0., 0., 0., 0., 0., 0., 0.,\n        0., 0., 0., 0., 0., 0., 0., 0., 0., 0., 0., 0., 0., 0., 0., 0., 0.,\n        0., 0., 0., 0., 0., 0., 0., 0., 0., 0., 0., 0., 0., 0., 0., 0., 0.,\n        0., 0., 0., 0., 0., 0., 0., 0., 0., 0., 0., 0., 0., 0., 0., 0., 0.,\n        0., 0., 0., 0., 0., 0., 0., 0., 0., 0., 0., 0., 0., 0., 0., 0., 0.,\n        0., 0., 0., 0., 0., 0., 0., 0., 0., 0., 0., 0., 0., 0., 0., 0., 0.,\n        0., 0., 0., 0., 0., 0., 0., 0., 0., 0., 0., 0., 0., 0., 0., 0., 0.,\n        0., 0., 0., 0., 0., 0., 0., 0., 0., 0., 0., 0., 0., 0., 0., 0., 0.,\n        0., 0., 0., 0., 0., 0., 0., 0., 0., 0., 0., 0., 0., 0., 0., 0., 0.,\n        0., 0., 0., 0., 0., 0., 0., 0., 0., 0., 0., 0., 0., 0., 0., 0., 0.,\n        0., 0., 0., 0., 0., 0., 0., 0., 0., 0., 0., 0., 0., 0., 0., 0., 0.,\n        0., 0., 0., 0., 0., 0., 0., 0., 0., 0., 0., 0., 0., 0., 0., 0., 0.,\n        0., 0., 0., 0., 0., 0., 0., 0., 0., 0., 0., 0., 0., 0., 0., 0., 0.,\n        0., 0., 0., 0., 0., 0., 0., 0., 0., 0., 0., 0., 0., 0., 0., 0., 0.,\n        0., 0., 0., 0., 0., 0., 0., 0., 0., 0., 0., 0., 0., 0., 0., 0., 0.,\n        0., 0., 0., 0., 0., 0., 0., 0., 0., 0., 0., 0., 0., 0., 0., 0., 0.,\n        0., 0., 0., 0., 0., 0., 0., 0., 0., 0., 0., 0., 0., 0., 0., 0., 0.,\n        0., 0., 0., 0., 0., 0., 0., 0., 0., 0., 0., 0., 0., 0., 0., 0., 0.,\n        0., 0., 0., 0., 0., 0., 0., 0., 0., 0., 0., 0., 0., 0., 0., 0., 0.,\n        0., 0., 0., 0., 0., 0., 0., 0., 0., 0., 0., 0., 0., 0., 0., 0., 0.,\n        0., 0., 0., 0., 0., 0., 0., 0., 0., 0., 0., 0., 0., 0., 0., 0., 0.,\n        0., 0., 0., 0., 0., 0., 0., 0., 0., 0., 0., 0., 0., 0., 0., 0., 0.,\n        0., 0., 0., 0., 0., 0., 0., 0., 0., 0., 0., 0., 0., 0., 0., 0., 0.,\n        0., 0., 0., 0., 0., 0., 0., 0., 0., 0., 0., 0., 0., 0., 0., 0., 0.,\n        0., 0., 0., 0., 0., 0., 0., 0., 0., 0., 0., 0., 0., 0., 0., 0., 0.,\n        0., 0., 0., 0., 0., 0., 0., 0., 0., 0., 0., 0., 0., 0., 0., 0., 0.,\n        0., 0., 0., 0., 0., 0., 0., 0., 0., 0., 0., 0., 0., 0., 0., 0., 0.,\n        0., 0., 0., 0., 0., 0., 0., 0., 0., 0., 0., 0., 0., 0., 0., 0., 0.,\n        0., 0., 0., 0., 0., 0., 0., 0., 0., 0., 0., 0., 0., 0., 0., 0., 0.,\n        0., 0., 0., 0., 0., 0., 0., 0., 0., 0., 0., 0., 0., 0., 0., 0., 0.,\n        0., 0., 0., 0., 0., 0., 0., 0., 0., 0., 0., 0., 0., 0., 0., 0., 0.,\n        0., 0., 0., 0., 0., 0., 0., 0., 0., 0., 0., 0., 0., 0., 0., 0., 0.,\n        0., 0., 0., 0., 0., 0., 0., 0., 0., 0., 0., 0., 0., 0., 0., 0., 0.,\n        0., 0., 0., 0., 0., 0., 0., 0., 0., 0., 0., 0., 0., 0., 0., 0., 0.,\n        0., 0., 0., 0., 0., 0., 0., 0., 0., 0., 0., 0., 0., 0., 0., 0., 0.,\n        0., 0., 0., 0., 0., 0., 0., 0., 0., 0., 0., 0., 0., 0., 0., 0., 0.,\n        0., 0., 0., 0., 0., 0., 0., 0., 0., 0., 0., 0., 0., 0., 0., 0., 0.,\n        0., 0., 0., 0., 0., 0., 0., 0., 0., 0., 0., 0., 0., 0., 0., 0., 0.,\n        0., 0., 0., 0., 0., 0., 0., 0., 0., 0., 0., 0., 0., 0., 0., 0., 0.,\n        0., 0., 0., 0., 0., 0., 0., 0., 0., 0., 0., 0., 0., 0., 0., 0., 0.,\n        0., 0., 0.], dtype=float32),\n array([0.56591797, 0.7441406 , 0.6958008 , 0.7348633 , 0.83251953,\n        0.7631836 , 0.6557617 , 0.7036133 , 0.66503906, 0.6948242 ,\n        0.7583008 , 0.8027344 , 0.66552734, 0.7368164 , 0.7026367 ,\n        0.71435547, 0.7314453 , 0.77490234, 0.67822266, 0.82666016,\n        0.6669922 , 0.5620117 , 0.6791992 , 0.70654297, 0.7451172 ,\n        0.58984375, 0.66552734, 0.60058594, 0.7529297 , 0.7788086 ,\n        0.56933594, 0.74902344, 0.65234375, 0.60839844, 0.7373047 ,\n        0.27563477, 0.7050781 , 0.6328125 , 0.85058594, 0.6738281 ,\n        0.7661133 , 0.79296875, 0.6503906 , 0.6142578 , 0.67089844,\n        0.640625  , 0.7729492 , 0.83935547, 0.60253906, 0.6582031 ,\n        0.7675781 , 0.50927734, 0.59765625, 0.6044922 , 0.6015625 ,\n        0.73535156, 0.30322266, 0.79345703, 0.73339844, 0.73291016,\n        0.6879883 , 0.8798828 , 0.71972656, 0.80371094, 0.68603516,\n        0.7236328 , 0.58203125, 0.79052734, 0.6044922 , 0.6455078 ,\n        0.63134766, 0.6713867 , 0.28051758, 0.6689453 , 0.60839844,\n        0.71484375, 0.7324219 , 1.0019531 , 0.6777344 , 0.64160156,\n        0.6245117 , 0.6513672 , 1.0117188 , 0.73291016, 0.6723633 ,\n        0.7104492 , 0.5283203 , 0.80371094, 0.5883789 , 0.6611328 ,\n        0.72021484, 0.61035156, 0.64501953, 0.7709961 , 0.61328125,\n        0.71728516, 0.6044922 , 0.8232422 , 0.28198242, 0.69628906,\n        0.7783203 , 0.6611328 , 0.71728516, 0.60595703, 0.6801758 ,\n        0.6972656 , 0.7104492 , 0.67333984, 0.5859375 , 0.55908203,\n        0.86083984, 0.7338867 , 0.7260742 , 0.7036133 , 0.6923828 ,\n        0.7949219 , 0.5986328 , 0.66748047, 0.58496094, 0.6933594 ,\n        0.6459961 , 0.54589844, 0.70458984, 0.77685547, 0.81591797,\n        0.7788086 , 0.65527344, 0.6904297 , 0.60595703, 0.2841797 ,\n        0.27490234, 0.79541016, 0.52978516, 0.78027344, 0.63134766,\n        0.62597656, 0.7236328 , 0.6425781 , 0.64697266, 0.65527344,\n        0.6582031 , 0.6401367 , 0.5678711 , 0.62353516, 0.68310547,\n        0.29345703, 0.5673828 , 0.6113281 , 0.69628906, 0.73876953,\n        0.68603516, 0.70410156, 0.66503906, 0.7216797 , 0.7114258 ,\n        0.7084961 , 0.6557617 , 0.78027344, 0.7416992 , 0.7441406 ,\n        0.5966797 , 0.7114258 , 0.69921875, 0.6586914 , 0.65283203,\n        0.68896484, 0.6245117 , 0.69873047, 0.64746094, 0.82910156,\n        0.6699219 , 0.6088867 , 0.6376953 , 0.5966797 , 0.6645508 ,\n        0.6196289 , 0.74560547, 0.7128906 , 0.53515625, 0.6142578 ,\n        0.7573242 , 0.6816406 , 0.703125  , 0.6489258 , 0.5678711 ,\n        0.77001953, 0.62402344, 0.80126953, 0.7158203 , 0.57666016,\n        0.6748047 , 0.60253906, 0.5341797 , 0.7626953 , 0.6816406 ,\n        0.77685547, 0.671875  , 0.58203125, 0.75878906, 0.5410156 ,\n        0.5644531 , 0.5786133 , 0.7314453 , 0.5263672 , 0.66308594,\n        0.60595703, 0.72509766, 0.29663086, 0.6328125 , 0.7392578 ,\n        0.51416016, 0.8203125 , 0.7006836 , 0.79345703, 0.6953125 ,\n        0.671875  , 0.6176758 , 0.9589844 , 0.8261719 , 0.8925781 ,\n        0.5595703 , 0.53271484, 0.7294922 , 0.64941406, 0.7397461 ,\n        0.7709961 , 0.5917969 , 0.59521484, 0.7211914 , 0.66259766,\n        0.60546875, 0.7578125 , 0.7832031 , 0.6894531 , 0.70947266,\n        0.7861328 , 0.50878906, 0.5996094 , 0.6533203 , 0.5541992 ,\n        0.7895508 , 0.64941406, 0.7133789 , 0.7441406 , 0.65185547,\n        0.78027344, 0.7055664 , 0.828125  , 0.5859375 , 0.8051758 ,\n        0.7392578 , 0.7832031 , 0.63378906, 0.58740234, 0.81152344,\n        0.6611328 , 0.5644531 , 0.35083008, 0.6977539 , 0.78222656,\n        0.5942383 , 0.68408203, 0.73876953, 0.62939453, 0.7026367 ,\n        0.66552734, 0.59033203, 0.55615234, 0.6201172 , 0.2956543 ,\n        0.6845703 , 0.6298828 , 0.55908203, 0.6879883 , 0.6801758 ,\n        0.5571289 , 0.5708008 , 0.6508789 , 0.9165039 , 0.61279297,\n        0.70996094, 0.76953125, 0.7480469 , 0.6088867 , 0.62939453,\n        0.57910156, 0.5908203 , 0.8364258 , 0.61035156, 0.65527344,\n        0.63720703, 0.74121094, 0.703125  , 0.7368164 , 0.6201172 ,\n        0.75      , 0.68359375, 0.72802734, 0.5473633 , 0.7270508 ,\n        0.7631836 , 0.67089844, 0.71875   , 0.66308594, 0.6591797 ,\n        0.58984375, 0.77685547, 0.5839844 , 0.68115234, 0.7470703 ,\n        0.6171875 , 0.59277344, 0.60595703, 0.5600586 , 0.64697266,\n        0.6503906 , 0.7006836 , 0.72753906, 0.5913086 , 0.58740234,\n        0.6816406 , 0.3334961 , 0.5722656 , 0.38598633, 0.77783203,\n        0.58691406, 0.73828125, 0.74853516, 0.69189453, 0.5161133 ,\n        0.796875  , 0.6010742 , 0.26635742, 0.80322266, 0.5678711 ,\n        0.62597656, 0.38720703, 0.62939453, 0.59228516, 0.75341797,\n        0.7421875 , 0.6435547 , 0.7475586 , 0.58935547, 0.69628906,\n        0.6923828 , 0.6845703 , 0.6088867 , 0.75683594, 0.72558594,\n        0.30126953, 0.5913086 , 0.5854492 , 0.73583984, 0.6386719 ,\n        0.7519531 , 0.64160156, 0.65478516, 0.72753906, 0.6738281 ,\n        0.71191406, 0.7993164 , 0.60058594, 0.77197266, 0.7290039 ,\n        0.7363281 , 0.7246094 , 0.75439453, 0.40112305, 0.6176758 ,\n        0.65283203, 0.6953125 , 0.5449219 , 0.77197266, 0.6801758 ,\n        0.6743164 , 0.69921875, 0.74072266, 0.73535156, 0.68896484,\n        0.63916016, 0.671875  , 0.68652344, 0.5708008 , 0.5751953 ,\n        0.7128906 , 0.72753906, 0.7832031 , 0.69433594, 0.34301758,\n        0.69189453, 0.60595703, 0.7680664 , 0.6430664 , 0.34033203,\n        0.6245117 , 0.7011719 , 1.0136719 , 0.66259766, 0.7285156 ,\n        0.66015625, 0.71728516, 0.7158203 , 0.72314453, 0.58935547,\n        0.7402344 , 0.7338867 , 0.6748047 , 0.76708984, 0.75927734,\n        0.64941406, 0.70458984, 0.6464844 , 0.69091797, 0.66748047,\n        0.6928711 , 0.80615234, 0.7871094 , 0.7573242 , 0.7753906 ,\n        0.72021484, 0.26342773, 0.6196289 , 0.59716797, 0.7167969 ,\n        0.67529297, 0.6245117 , 0.7363281 , 0.7011719 , 0.5996094 ,\n        0.6591797 , 0.6142578 , 0.7963867 , 0.7158203 , 0.59716797,\n        0.5102539 , 0.7060547 , 0.6274414 , 0.6142578 , 0.6323242 ,\n        0.73779297, 0.50439453, 0.68066406, 0.68603516, 0.66552734,\n        0.6166992 , 0.74316406, 0.35375977, 0.66064453, 0.734375  ,\n        0.546875  , 0.76416016, 0.7529297 , 1.0419922 , 0.65527344,\n        0.54541016, 0.6826172 , 0.6611328 , 0.7607422 , 0.62597656,\n        0.7084961 , 0.734375  , 0.6298828 , 0.6743164 , 0.71240234,\n        0.6928711 , 0.5908203 , 0.55029297, 0.8022461 , 0.6713867 ,\n        0.6801758 , 0.5644531 , 0.58251953, 0.73876953, 0.67822266,\n        0.62890625, 0.27856445, 0.6875    , 0.32543945, 0.57666016,\n        0.69628906, 0.6508789 , 0.58740234, 0.58154297, 0.6586914 ,\n        0.7006836 , 0.6738281 , 0.5727539 , 0.6665039 , 0.5625    ,\n        0.61328125, 0.7998047 , 0.7729492 , 0.6640625 , 0.36938477,\n        0.6220703 , 0.9243164 , 0.75439453, 0.7944336 , 0.61621094,\n        0.30517578, 0.61865234, 0.69091797, 0.7519531 , 0.57373047,\n        0.7055664 , 0.5498047 , 0.58496094, 0.61865234, 0.53271484,\n        0.6567383 , 0.74658203, 0.6689453 , 0.58154297, 0.3149414 ,\n        0.6870117 , 0.7910156 , 0.72216797, 0.8383789 , 0.76123047,\n        0.67626953, 0.6176758 , 0.69091797, 0.5498047 , 0.6669922 ,\n        0.578125  , 0.80810547, 0.6010742 , 0.5986328 , 0.82958984,\n        0.7133789 , 0.63427734, 0.6459961 , 0.62841797, 0.69433594,\n        0.22631836, 0.70996094, 0.5703125 , 0.71533203, 0.6386719 ,\n        0.71777344, 0.7583008 , 0.65722656, 0.60595703, 0.23181152,\n        0.6513672 , 0.79248047, 0.5703125 , 0.7006836 , 0.7705078 ,\n        0.76416016, 1.0009766 , 0.71240234, 0.6323242 , 0.6777344 ,\n        0.6035156 , 0.74853516, 0.6821289 , 0.5839844 , 0.7373047 ,\n        0.61376953, 0.8364258 , 0.60546875, 0.59521484, 0.7783203 ,\n        0.7089844 , 0.58691406, 0.67089844, 0.6044922 , 0.7675781 ,\n        1.0048828 , 0.59765625, 0.6088867 , 0.74902344, 0.7426758 ,\n        0.6142578 , 0.66503906, 0.81347656, 0.77783203, 0.74316406,\n        0.67822266, 0.5942383 , 0.6738281 , 0.78125   , 0.6694336 ,\n        0.65478516, 0.7832031 , 0.30688477, 1.0117188 , 0.6166992 ,\n        0.64208984, 0.58447266, 0.66552734, 0.5151367 , 0.70458984,\n        0.6225586 , 0.5966797 , 0.6074219 , 0.5336914 , 0.6015625 ,\n        0.6357422 , 0.7192383 , 0.58935547, 0.640625  , 0.70947266,\n        0.67089844, 0.77783203, 0.7363281 , 0.70166016, 0.8408203 ,\n        0.60302734, 0.7885742 , 0.33203125, 0.67822266, 0.6269531 ,\n        0.6484375 , 0.56933594, 0.7397461 , 0.74365234, 0.73291016,\n        0.67089844, 0.52734375, 0.54248047, 0.74853516, 0.9316406 ,\n        0.71484375, 0.53564453, 0.7470703 , 0.6513672 , 0.57958984,\n        0.6958008 , 0.2956543 , 0.640625  , 0.6308594 , 0.6269531 ,\n        0.7006836 , 0.5888672 , 0.5917969 , 0.6635742 , 0.5551758 ,\n        0.3581543 , 0.79541016, 0.5878906 , 0.62597656, 0.6904297 ,\n        0.64404297, 0.5878906 , 0.8100586 , 0.5878906 , 0.6425781 ,\n        0.64501953, 0.6928711 , 0.74121094, 0.77783203, 0.5966797 ,\n        0.75146484, 0.81396484, 0.41796875, 0.6557617 , 0.6352539 ,\n        0.7348633 , 0.7211914 , 0.71875   , 0.71484375, 0.7006836 ,\n        0.6591797 , 0.6713867 , 0.70947266, 0.69970703, 0.60546875,\n        0.50927734, 0.7397461 , 0.8198242 , 0.7216797 , 0.7792969 ,\n        0.73535156, 0.71728516, 0.6972656 , 0.7583008 , 0.33496094,\n        0.6308594 , 0.61279297, 0.75390625, 0.7504883 , 0.7421875 ,\n        0.6875    , 0.30493164, 0.39038086, 0.7080078 , 0.765625  ,\n        0.5932617 , 0.2680664 , 0.7011719 , 0.7631836 , 0.734375  ,\n        0.74853516, 0.6923828 , 0.54296875, 0.6064453 , 0.7885742 ,\n        0.72509766, 0.71533203, 0.73535156, 0.3095703 , 0.64160156,\n        0.7392578 , 0.6308594 , 0.75439453, 0.609375  , 0.6953125 ,\n        0.40307617, 0.390625  , 0.6743164 , 0.57714844, 0.7080078 ,\n        0.64208984, 0.7685547 , 0.5307617 , 0.73876953, 0.6508789 ,\n        0.70751953, 0.63623047, 0.70703125, 0.66552734, 0.7504883 ,\n        0.6694336 , 0.7290039 , 0.6904297 , 0.74853516, 0.7363281 ,\n        0.6669922 , 0.8486328 , 0.70654297, 0.7963867 , 0.7241211 ,\n        0.73828125, 0.6582031 , 0.64160156, 0.70458984, 0.609375  ,\n        0.6333008 , 0.7504883 , 0.7392578 , 0.609375  , 0.62939453,\n        0.8125    , 0.6381836 , 0.6616211 , 0.77685547, 0.8564453 ,\n        0.76464844, 0.79003906, 0.8925781 , 0.62597656, 0.7421875 ,\n        0.5830078 , 0.8120117 , 0.6713867 , 0.7416992 , 0.7675781 ,\n        0.63378906, 0.70458984, 0.72558594, 0.6503906 , 0.74853516,\n        0.7578125 , 0.6586914 , 0.60498047], dtype=float32),\n array([ 6.55517578e-02,  4.51965332e-02,  1.64428711e-01,  2.20092773e-01,\n         1.23107910e-01,  2.78091431e-03,  5.68237305e-02,  1.56738281e-01,\n         1.11145020e-01,  1.65527344e-01,  6.48193359e-02,  1.39648438e-01,\n         5.28259277e-02,  1.51123047e-01,  1.31713867e-01,  4.41894531e-02,\n         1.86767578e-01,  6.30493164e-02,  2.39746094e-01,  1.33911133e-01,\n         8.11157227e-02,  1.67999268e-02,  1.17919922e-01,  1.54052734e-01,\n         2.95410156e-02,  1.25610352e-01,  8.54492188e-02,  1.22985840e-01,\n         1.01989746e-01,  3.89709473e-02,  4.24194336e-02,  8.63647461e-02,\n         9.04541016e-02,  1.60034180e-01,  7.47070312e-02,  1.51855469e-01,\n         7.43408203e-02,  1.02172852e-01,  2.43774414e-01,  1.66870117e-01,\n         7.11669922e-02,  1.69067383e-02,  7.05566406e-02,  1.81884766e-01,\n         1.28540039e-01,  1.01562500e-01,  9.61303711e-02,  1.47018433e-02,\n         9.49096680e-02,  1.19018555e-01,  1.82373047e-01,  2.06909180e-01,\n         3.58581543e-03,  3.90625000e-02,  1.26800537e-02,  2.03491211e-01,\n        -2.99377441e-02,  1.20727539e-01,  1.67358398e-01,  2.18139648e-01,\n         2.18872070e-01,  5.00976562e-01,  1.60644531e-01,  1.47949219e-01,\n         1.75170898e-01,  5.99060059e-02,  1.09802246e-01,  9.24072266e-02,\n        -3.23486328e-03,  6.60400391e-02,  7.86743164e-02,  1.32202148e-01,\n         1.27929688e-01,  8.55102539e-02,  1.37573242e-01, -5.94329834e-03,\n         1.67114258e-01, -5.54199219e-01,  1.45034790e-02,  2.95166016e-01,\n         1.18530273e-01,  9.00878906e-02,  4.51049805e-02,  1.25488281e-01,\n         2.51464844e-01,  1.07604980e-01,  8.09326172e-02,  1.22009277e-01,\n         4.46777344e-02,  1.36962891e-01,  1.23718262e-01,  6.82983398e-02,\n         1.48925781e-01,  1.19628906e-01,  1.22802734e-01,  1.68823242e-01,\n         6.48803711e-02,  1.53564453e-01,  1.21826172e-01,  2.14233398e-01,\n         2.65136719e-01,  9.14306641e-02,  4.60205078e-02,  1.23352051e-01,\n         4.04357910e-02,  1.57104492e-01,  9.45434570e-02,  2.75634766e-01,\n         2.12646484e-01,  8.19702148e-02,  3.00048828e-01,  2.70751953e-01,\n         1.24084473e-01,  1.36840820e-01,  5.39855957e-02,  1.46972656e-01,\n         2.13012695e-01,  1.22802734e-01,  9.48486328e-02,  2.72216797e-01,\n         1.58447266e-01,  1.85089111e-02,  7.74536133e-02,  1.25000000e-01,\n         6.06689453e-02,  2.04101562e-01,  9.45434570e-02,  5.20629883e-02,\n         9.73510742e-02,  2.48168945e-01,  1.59545898e-01,  1.33422852e-01,\n         9.61914062e-02,  1.84082031e-01,  1.60644531e-01,  1.86035156e-01,\n         8.74023438e-02,  8.12988281e-02,  9.94873047e-02,  1.27807617e-01,\n         1.69677734e-01,  2.10205078e-01,  6.84204102e-02,  6.74057007e-03,\n         2.26806641e-01,  1.44165039e-01,  8.91113281e-02,  2.76367188e-01,\n         7.48901367e-02,  5.31616211e-02,  5.24291992e-02,  9.21020508e-02,\n         1.04675293e-01,  1.71630859e-01,  1.20971680e-01,  1.25854492e-01,\n         1.63818359e-01,  2.00805664e-01,  1.77612305e-02,  2.12524414e-01,\n         1.45263672e-01,  2.24975586e-01,  1.93115234e-01,  1.75659180e-01,\n         1.93237305e-01,  8.85620117e-02,  8.25195312e-02,  1.76513672e-01,\n         1.67846680e-01,  1.44287109e-01,  6.81152344e-02,  6.71997070e-02,\n         1.57104492e-01,  1.36962891e-01,  1.21337891e-01,  1.34277344e-01,\n         1.14379883e-01,  1.22924805e-01,  1.26586914e-01,  1.17248535e-01,\n         1.92504883e-01,  1.46240234e-01,  1.62963867e-01,  1.46484375e-01,\n         1.41845703e-01,  9.03930664e-02,  1.06689453e-01,  2.82440186e-02,\n         9.47265625e-02,  8.47167969e-02,  9.87548828e-02,  1.06872559e-01,\n         2.57812500e-01,  2.05200195e-01,  1.24755859e-01,  1.29760742e-01,\n         8.66088867e-02,  1.50634766e-01,  8.73413086e-02,  6.75659180e-02,\n         6.69555664e-02, -8.99047852e-02,  1.31835938e-01,  1.26220703e-01,\n         2.73925781e-01,  9.00268555e-02,  1.11206055e-01,  1.22131348e-01,\n         1.03942871e-01,  2.12524414e-01,  1.49369240e-04,  2.76855469e-01,\n         1.29760742e-01,  9.78393555e-02,  7.05566406e-02,  5.13916016e-02,\n         1.17492676e-01, -5.13671875e-01,  1.56127930e-01, -5.97229004e-02,\n         1.83227539e-01,  2.25219727e-01,  2.02148438e-01,  1.28173828e-01,\n         1.74072266e-01,  1.62597656e-01,  1.25610352e-01,  7.28759766e-02,\n         1.23657227e-01,  1.74682617e-01,  9.64965820e-02,  1.68762207e-02,\n         7.70874023e-02,  1.25610352e-01,  7.13500977e-02,  1.09130859e-01,\n         2.70538330e-02,  1.19689941e-01,  1.40625000e-01,  9.74731445e-02,\n        -1.30004883e-01,  1.43554688e-01,  1.12487793e-01,  1.53686523e-01,\n         6.80541992e-02,  2.17895508e-01,  6.98242188e-02,  9.03320312e-02,\n         1.71508789e-01,  2.31933594e-01,  1.15051270e-02,  1.84326172e-01,\n         9.58862305e-02,  1.27685547e-01,  1.37207031e-01,  7.88574219e-02,\n         6.36596680e-02,  1.62353516e-01,  1.44042969e-01,  1.72363281e-01,\n         1.37573242e-01,  1.81732178e-02,  1.69799805e-01,  1.93359375e-01,\n         6.76879883e-02,  1.44165039e-01,  6.28051758e-02,  1.92871094e-01,\n         1.55883789e-01, -2.16827393e-02,  1.60522461e-01,  6.28662109e-02,\n         5.64880371e-02,  1.40991211e-01,  1.00891113e-01,  8.56323242e-02,\n         1.94335938e-01, -5.98526001e-03, -3.28445435e-03,  1.25000000e-01,\n         1.38793945e-01,  1.36718750e-01,  2.97546387e-02,  1.55273438e-01,\n         1.33056641e-01,  1.08337402e-01,  1.64672852e-01,  1.25610352e-01,\n         1.52587891e-01,  1.40380859e-01,  1.87377930e-01,  1.80358887e-02,\n         1.23657227e-01,  8.70361328e-02,  1.24328613e-01,  6.53076172e-02,\n         4.70886230e-02,  1.05773926e-01,  6.08215332e-02,  1.43066406e-01,\n         1.52465820e-01,  1.79809570e-01,  2.22045898e-01,  1.23901367e-01,\n         1.34155273e-01,  5.61218262e-02,  1.19812012e-01,  1.39526367e-01,\n         9.41772461e-02,  2.06909180e-01,  1.45996094e-01,  1.28784180e-01,\n         1.27685547e-01,  9.82055664e-02,  1.34277344e-01,  1.74804688e-01,\n         2.04711914e-01,  9.05151367e-02,  2.48565674e-02,  1.15680695e-03,\n         1.40991211e-01,  2.55371094e-01,  1.25122070e-01,  1.95678711e-01,\n         6.97631836e-02,  1.60400391e-01,  8.17871094e-02,  3.15551758e-02,\n         1.24206543e-01,  1.52832031e-01,  1.67846680e-01,  8.12377930e-02,\n         2.10937500e-01,  1.76391602e-01,  8.72192383e-02,  7.22045898e-02,\n         2.04101562e-01,  6.73828125e-02,  1.49902344e-01,  1.50024414e-01,\n         6.12792969e-02,  1.39770508e-01,  7.69042969e-02,  9.22241211e-02,\n         1.89575195e-01,  6.46972656e-02,  1.10595703e-01,  3.29345703e-01,\n         9.35058594e-02,  1.69219971e-02,  3.73291016e-01,  4.51965332e-02,\n         1.66137695e-01,  1.06323242e-01,  5.65795898e-02,  2.81829834e-02,\n         3.25927734e-02,  2.45483398e-01,  1.70898438e-01,  1.21948242e-01,\n         4.85839844e-02,  3.14453125e-01,  1.85302734e-01,  6.56127930e-02,\n         5.05371094e-02,  7.67822266e-02,  5.68847656e-02,  1.22741699e-01,\n         5.06591797e-02,  1.66015625e-01,  9.38720703e-02,  1.17187500e-01,\n         8.50830078e-02,  7.39135742e-02,  1.12121582e-01,  2.45513916e-02,\n         1.94335938e-01,  4.72106934e-02,  1.98730469e-01,  1.05957031e-01,\n         1.02294922e-01,  1.32446289e-01,  1.15051270e-01,  7.37304688e-02,\n         1.06384277e-01,  9.42382812e-02,  1.57226562e-01,  1.72119141e-01,\n         8.53271484e-02,  1.84814453e-01,  1.52709961e-01,  1.71813965e-02,\n         1.05041504e-01,  9.27734375e-02,  1.82250977e-01,  1.27319336e-01,\n         1.32568359e-01,  1.36474609e-01,  3.46679688e-02,  2.37060547e-01,\n         1.35986328e-01,  9.43603516e-02,  2.05322266e-01,  1.85180664e-01,\n         4.49523926e-02,  1.61132812e-01,  5.35278320e-02,  5.89294434e-02,\n         9.92431641e-02, -3.07617188e-02,  1.86645508e-01,  5.49316406e-02,\n         6.01196289e-02,  1.43554688e-01,  9.16748047e-02,  8.75244141e-02,\n         1.58935547e-01,  1.58691406e-02,  1.15722656e-01,  1.66503906e-01,\n         8.90502930e-02,  1.36962891e-01,  5.99975586e-02,  1.13891602e-01,\n         1.07788086e-01,  1.02600098e-01,  9.00878906e-02,  1.13952637e-01,\n         1.85180664e-01,  4.79431152e-02,  2.63183594e-01,  1.92382812e-01,\n         1.24023438e-01,  1.90795898e-01,  2.00927734e-01,  1.14379883e-01,\n         1.48681641e-01,  9.67407227e-02,  3.70178223e-02,  1.17553711e-01,\n         9.94873047e-02,  1.56738281e-01,  1.10839844e-01,  7.63549805e-02,\n         1.37451172e-01,  1.34399414e-01,  5.97229004e-02,  1.43066406e-01,\n         1.20056152e-01,  1.63940430e-01,  1.77734375e-01,  1.18041992e-01,\n         1.99707031e-01, -8.12500000e-01,  1.92108154e-02,  2.13012695e-02,\n         2.50000000e-01,  1.05041504e-01,  1.19323730e-01,  4.92248535e-02,\n         1.55105591e-02,  1.24023438e-01, -5.83267212e-03,  1.29150391e-01,\n         1.93237305e-01,  2.18750000e-01,  2.32910156e-01,  1.05163574e-01,\n         1.04553223e-01,  8.41064453e-02,  1.41845703e-01,  1.66625977e-01,\n         1.26831055e-01,  2.34985352e-02,  7.29980469e-02,  7.12280273e-02,\n         1.43432617e-01,  1.21643066e-01,  2.53417969e-01,  9.06982422e-02,\n         1.30004883e-01,  2.15087891e-01,  1.54907227e-01,  9.04541016e-02,\n         7.17773438e-02,  8.17871094e-02,  9.24682617e-02,  1.39404297e-01,\n         1.23901367e-01,  1.86767578e-01,  9.47875977e-02,  1.01562500e-01,\n         8.63647461e-02,  1.24633789e-01,  2.58300781e-01, -4.36401367e-02,\n        -5.01464844e-01, -7.20977783e-03, -2.66845703e-01,  7.65380859e-02,\n         1.16821289e-01,  1.30126953e-01,  3.49121094e-02,  1.51733398e-01,\n         2.01293945e-01,  4.99572754e-02,  1.32446289e-01,  1.24877930e-01,\n         2.47192383e-01,  1.84448242e-01,  1.22070312e-01,  2.56591797e-01,\n         6.40869141e-02,  2.48779297e-01,  1.24938965e-01,  1.56616211e-01,\n         3.13415527e-02,  9.77172852e-02,  1.44042969e-01,  1.68701172e-01,\n         1.46972656e-01,  1.41479492e-01,  7.91015625e-02,  8.22143555e-02,\n         1.25976562e-01,  1.82373047e-01,  2.06665039e-01,  6.23779297e-02,\n         2.05200195e-01,  8.75244141e-02,  1.56127930e-01,  1.76269531e-01,\n         1.04125977e-01,  8.10546875e-02,  8.67919922e-02, -8.85009766e-03,\n         2.22167969e-01,  7.65991211e-02,  2.45483398e-01,  1.91284180e-01,\n         2.08251953e-01,  1.13525391e-01,  1.51123047e-01,  7.82470703e-02,\n         2.52685547e-01,  5.08422852e-02,  1.91528320e-01,  9.58251953e-02,\n         1.22192383e-01,  1.81030273e-01,  1.29028320e-01,  5.32714844e-01,\n         1.04064941e-01,  1.24938965e-01,  4.61730957e-02,  7.94677734e-02,\n         1.27197266e-01,  1.24511719e-01,  1.17797852e-01,  1.29882812e-01,\n         9.49707031e-02, -6.35375977e-02,  1.24877930e-01,  1.49658203e-01,\n         1.31469727e-01,  4.00390625e-02,  8.16040039e-02,  1.23291016e-01,\n         1.52099609e-01,  5.79223633e-02,  1.39038086e-01,  2.24365234e-01,\n         2.49755859e-01,  3.35937500e-01,  1.45141602e-01,  1.08032227e-01,\n         9.39941406e-02,  3.12744141e-01,  7.89794922e-02,  2.68798828e-01,\n         3.88488770e-02,  1.46240234e-01,  2.08374023e-01,  1.16699219e-01,\n         1.30615234e-01,  1.87500000e-01,  1.26708984e-01,  6.25610352e-02,\n         1.01269531e+00,  5.76171875e-02,  1.32568359e-01,  6.98242188e-02,\n         5.24291992e-02,  2.54394531e-01,  1.92260742e-01,  1.67480469e-01,\n         9.91821289e-02,  1.23962402e-01,  1.37451172e-01,  1.25000000e-01,\n         1.17553711e-01,  1.24389648e-01,  9.04541016e-02,  1.34429932e-02,\n         1.08398438e-01,  8.26416016e-02,  1.31591797e-01,  2.49023438e-01,\n         9.61914062e-02,  1.25610352e-01,  1.11816406e-01,  9.51538086e-02,\n         6.27441406e-02,  1.06323242e-01,  8.91113281e-02,  2.50244141e-01,\n         1.17431641e-01,  1.52587891e-01,  1.24755859e-01,  1.83471680e-01,\n         1.63085938e-01,  9.35058594e-02,  2.07519531e-01,  1.35009766e-01,\n        -2.22320557e-02,  1.35375977e-01,  2.74963379e-02,  1.24267578e-01,\n         1.71997070e-01,  9.58251953e-02,  9.91210938e-02,  9.53979492e-02,\n         1.04614258e-01,  5.54809570e-02,  6.33544922e-02,  5.66406250e-02,\n         1.54907227e-01,  1.25854492e-01,  2.94189453e-02,  8.71582031e-02,\n         1.86889648e-01,  1.41357422e-01,  8.78906250e-02,  3.17993164e-02,\n         5.43823242e-02,  1.21154785e-01,  3.87695312e-01,  1.68212891e-01,\n         2.49877930e-01,  7.62939453e-02,  7.39135742e-02,  1.18896484e-01,\n         6.97708130e-03,  1.23352051e-01,  9.07592773e-02,  2.15576172e-01,\n         3.35449219e-01,  1.00158691e-01,  1.02722168e-01,  3.03955078e-01,\n         6.85424805e-02,  1.97265625e-01,  1.23352051e-01,  2.73681641e-01,\n         3.01269531e-01,  1.45629883e-01,  8.32519531e-02,  1.68457031e-02,\n         1.90063477e-01,  9.46655273e-02,  9.14306641e-02,  1.23046875e-01,\n         1.53198242e-01,  1.44897461e-01,  1.29516602e-01,  1.23718262e-01,\n        -1.81579590e-02,  9.26513672e-02,  1.03271484e-01,  2.20947266e-01,\n         1.27563477e-01,  2.35473633e-01,  1.90673828e-01,  7.99560547e-02,\n         1.01562500e-01,  1.23535156e-01,  7.04956055e-02,  1.65283203e-01,\n         1.27563477e-01,  1.51611328e-01,  1.94213867e-01,  6.56738281e-02,\n         1.44042969e-01,  1.55517578e-01,  7.65380859e-02,  1.24023438e-01,\n         4.01916504e-02,  2.38769531e-01,  5.99060059e-02,  1.08886719e-01,\n         8.73413086e-02,  1.63208008e-01,  8.49609375e-02,  1.30737305e-01,\n         5.94482422e-02,  1.34033203e-01,  1.21276855e-01,  1.59790039e-01,\n         2.85148621e-03,  1.53442383e-01,  1.60766602e-01,  1.12548828e-01,\n         1.75048828e-01,  2.92480469e-01,  5.92651367e-02,  1.65771484e-01,\n         1.26342773e-01,  2.09960938e-01,  1.34765625e-01,  1.26831055e-01,\n         2.06665039e-01,  7.25097656e-02,  2.37060547e-01,  2.40966797e-01,\n         5.97839355e-02,  1.89941406e-01,  1.94580078e-01,  1.36596680e-01,\n         2.48779297e-01,  1.41479492e-01,  7.00073242e-02,  1.20971680e-01,\n         1.21826172e-01,  1.20178223e-01,  1.50756836e-01, -1.74255371e-02,\n         2.66357422e-01,  1.19857788e-02,  1.53320312e-01,  1.30310059e-02,\n         3.03192139e-02,  3.35937500e-01,  8.97216797e-02,  1.94824219e-01,\n         1.25122070e-01,  1.25366211e-01,  1.93634033e-02,  1.88842773e-01,\n         4.85534668e-02,  4.15344238e-02,  8.10546875e-02,  6.61621094e-02,\n         1.06567383e-01,  4.31213379e-02,  1.78100586e-01,  7.98950195e-02,\n         7.55004883e-02,  2.85644531e-01,  1.32202148e-01,  1.24633789e-01,\n         8.06884766e-02,  1.88354492e-01,  2.70751953e-01,  1.21643066e-01,\n         2.68798828e-01,  6.45751953e-02,  1.26586914e-01,  2.65869141e-01],\n       dtype=float32),\n array([[[ 2.88291927e-02,  1.58310868e-02,  7.45862350e-03, ...,\n          -3.41604948e-02,  1.19506698e-02, -2.55378336e-03],\n         [-2.41910573e-02,  1.17042204e-02,  1.02399457e-02, ...,\n          -2.44583702e-03, -3.78407445e-03, -4.39917715e-03],\n         [-2.51324028e-02,  5.65763656e-03, -2.31560841e-02, ...,\n           1.89971887e-02, -2.47512925e-02,  3.33183375e-03],\n         ...,\n         [-3.76916043e-02,  6.50105719e-03, -6.29655831e-03, ...,\n          -2.04107035e-02, -4.74230200e-03,  1.43318959e-02],\n         [ 3.23784426e-02,  1.72721948e-02,  2.61869878e-02, ...,\n           1.85829531e-02,  1.29832029e-02, -7.10287085e-03],\n         [-1.14734296e-03,  8.70729703e-03,  1.53967571e-02, ...,\n          -6.25447324e-03,  5.09600097e-04, -2.85299425e-03]],\n \n        [[-2.74559396e-04,  1.23355957e-02, -3.23963584e-03, ...,\n           2.43368484e-02, -5.44493814e-05, -4.14218102e-03],\n         [-8.04211572e-03,  1.33285075e-02,  1.05229672e-02, ...,\n          -3.75622325e-02,  1.61627233e-02,  1.29312342e-02],\n         [-6.19359221e-03,  4.35954891e-03, -1.00640208e-02, ...,\n          -1.69584733e-02,  1.01081636e-02, -2.03960724e-02],\n         ...,\n         [ 1.07816495e-02, -6.35604048e-03, -1.47226255e-03, ...,\n          -1.82597339e-03,  8.60849512e-04, -1.65004749e-02],\n         [-3.97569053e-02, -2.66853049e-02,  1.96263078e-03, ...,\n          -1.83455627e-02, -7.83574767e-03,  1.87543724e-02],\n         [ 1.62102375e-02, -1.53757259e-03,  1.89938080e-02, ...,\n           1.74423251e-02, -5.70330443e-03, -9.07314848e-03]],\n \n        [[ 1.31702190e-02, -1.68115422e-02,  3.40489447e-02, ...,\n          -2.46224869e-02, -5.14467154e-03, -2.12574452e-02],\n         [ 1.31636867e-02,  1.94987431e-02, -2.29459791e-03, ...,\n           1.90273561e-02,  7.51984119e-03, -4.04458912e-03],\n         [ 3.27462032e-02,  4.83060954e-03, -2.40391325e-02, ...,\n           1.04271974e-02,  7.04579800e-03, -3.88484858e-02],\n         ...,\n         [ 1.64675713e-02,  1.40118059e-02, -2.23706737e-02, ...,\n          -1.10868401e-04,  3.77545250e-03,  1.79395210e-02],\n         [-3.94108146e-03,  2.81315036e-02,  2.78256964e-02, ...,\n           2.35050153e-02,  7.45212613e-03,  2.67909467e-03],\n         [ 3.40217836e-02, -1.15498696e-02, -1.04136579e-03, ...,\n          -1.54706417e-02, -2.06692759e-02,  1.88526418e-03]],\n \n        ...,\n \n        [[-2.46619862e-02,  1.90495085e-02, -6.46285061e-03, ...,\n          -4.88490216e-04, -2.82900631e-02, -3.00470553e-02],\n         [ 1.59104273e-03,  5.09884953e-03,  2.84190141e-02, ...,\n          -1.33865094e-02,  1.40218353e-02,  1.96524672e-02],\n         [ 4.19940427e-03, -3.86058493e-03, -1.72209255e-02, ...,\n           3.66119854e-03, -5.34730381e-04,  1.37180113e-03],\n         ...,\n         [ 3.08343675e-03,  2.36679260e-02, -6.01139665e-03, ...,\n          -1.51944607e-02,  2.34658048e-02,  2.03564502e-02],\n         [-1.81815811e-02, -1.49934888e-02,  1.10486345e-02, ...,\n           6.75928360e-03, -1.39893573e-02,  2.72097010e-02],\n         [-3.54615622e-03,  3.09324358e-02,  1.06245838e-02, ...,\n           1.06058102e-02, -1.30576901e-02,  9.01672803e-03]],\n \n        [[-1.64760891e-02, -1.36589808e-02,  1.51951704e-02, ...,\n          -1.30925691e-02,  1.01396572e-02,  2.11738106e-02],\n         [-2.68996581e-02, -1.81018822e-02, -1.10432338e-02, ...,\n          -1.13690263e-02, -1.86064709e-02, -8.61876924e-03],\n         [-1.23842070e-02, -1.71335898e-02,  1.52029106e-02, ...,\n          -5.39233908e-03, -2.60430593e-02,  2.35556997e-02],\n         ...,\n         [-6.62065065e-03, -6.83037285e-03, -2.52205320e-02, ...,\n          -1.25158988e-02, -5.01623983e-03, -1.33771412e-02],\n         [-1.06893145e-02,  1.28408428e-02,  2.79442873e-02, ...,\n          -1.43150697e-04,  1.07167587e-02, -6.97255321e-03],\n         [-1.85527781e-03, -2.98257694e-02, -1.27703771e-02, ...,\n          -6.68055983e-03, -6.56678667e-03, -1.29965907e-02]],\n \n        [[ 9.94226336e-03,  2.14770902e-02,  1.21869827e-02, ...,\n           1.77697968e-02, -2.36356165e-04,  3.44078541e-02],\n         [ 3.09597198e-02,  2.44583306e-03,  4.88872593e-03, ...,\n          -2.25244351e-02,  4.90175793e-03, -1.26805641e-02],\n         [-8.09135381e-03, -8.78425501e-03, -1.30721433e-02, ...,\n          -2.16661184e-03, -3.63911651e-02, -1.43985834e-03],\n         ...,\n         [-1.69502140e-03, -9.52857453e-03,  7.90659804e-03, ...,\n          -2.07933318e-03, -3.42599186e-03, -6.98313303e-03],\n         [ 1.43768266e-03,  9.34262481e-03, -1.17624747e-02, ...,\n           2.69247461e-02, -2.72210333e-02, -8.05621408e-03],\n         [-3.97593938e-02, -1.31790689e-03, -5.86107140e-03, ...,\n          -5.76305576e-03,  3.02622970e-02,  1.62963588e-02]]],\n       dtype=float32),\n array([[0., 0., 0., 0., 0., 0., 0., 0., 0., 0., 0., 0., 0., 0., 0., 0.,\n         0., 0., 0., 0., 0., 0., 0., 0., 0., 0., 0., 0., 0., 0., 0., 0.,\n         0., 0., 0., 0., 0., 0., 0., 0., 0., 0., 0., 0., 0., 0., 0., 0.,\n         0., 0., 0., 0., 0., 0., 0., 0., 0., 0., 0., 0., 0., 0., 0., 0.],\n        [0., 0., 0., 0., 0., 0., 0., 0., 0., 0., 0., 0., 0., 0., 0., 0.,\n         0., 0., 0., 0., 0., 0., 0., 0., 0., 0., 0., 0., 0., 0., 0., 0.,\n         0., 0., 0., 0., 0., 0., 0., 0., 0., 0., 0., 0., 0., 0., 0., 0.,\n         0., 0., 0., 0., 0., 0., 0., 0., 0., 0., 0., 0., 0., 0., 0., 0.],\n        [0., 0., 0., 0., 0., 0., 0., 0., 0., 0., 0., 0., 0., 0., 0., 0.,\n         0., 0., 0., 0., 0., 0., 0., 0., 0., 0., 0., 0., 0., 0., 0., 0.,\n         0., 0., 0., 0., 0., 0., 0., 0., 0., 0., 0., 0., 0., 0., 0., 0.,\n         0., 0., 0., 0., 0., 0., 0., 0., 0., 0., 0., 0., 0., 0., 0., 0.],\n        [0., 0., 0., 0., 0., 0., 0., 0., 0., 0., 0., 0., 0., 0., 0., 0.,\n         0., 0., 0., 0., 0., 0., 0., 0., 0., 0., 0., 0., 0., 0., 0., 0.,\n         0., 0., 0., 0., 0., 0., 0., 0., 0., 0., 0., 0., 0., 0., 0., 0.,\n         0., 0., 0., 0., 0., 0., 0., 0., 0., 0., 0., 0., 0., 0., 0., 0.],\n        [0., 0., 0., 0., 0., 0., 0., 0., 0., 0., 0., 0., 0., 0., 0., 0.,\n         0., 0., 0., 0., 0., 0., 0., 0., 0., 0., 0., 0., 0., 0., 0., 0.,\n         0., 0., 0., 0., 0., 0., 0., 0., 0., 0., 0., 0., 0., 0., 0., 0.,\n         0., 0., 0., 0., 0., 0., 0., 0., 0., 0., 0., 0., 0., 0., 0., 0.],\n        [0., 0., 0., 0., 0., 0., 0., 0., 0., 0., 0., 0., 0., 0., 0., 0.,\n         0., 0., 0., 0., 0., 0., 0., 0., 0., 0., 0., 0., 0., 0., 0., 0.,\n         0., 0., 0., 0., 0., 0., 0., 0., 0., 0., 0., 0., 0., 0., 0., 0.,\n         0., 0., 0., 0., 0., 0., 0., 0., 0., 0., 0., 0., 0., 0., 0., 0.],\n        [0., 0., 0., 0., 0., 0., 0., 0., 0., 0., 0., 0., 0., 0., 0., 0.,\n         0., 0., 0., 0., 0., 0., 0., 0., 0., 0., 0., 0., 0., 0., 0., 0.,\n         0., 0., 0., 0., 0., 0., 0., 0., 0., 0., 0., 0., 0., 0., 0., 0.,\n         0., 0., 0., 0., 0., 0., 0., 0., 0., 0., 0., 0., 0., 0., 0., 0.],\n        [0., 0., 0., 0., 0., 0., 0., 0., 0., 0., 0., 0., 0., 0., 0., 0.,\n         0., 0., 0., 0., 0., 0., 0., 0., 0., 0., 0., 0., 0., 0., 0., 0.,\n         0., 0., 0., 0., 0., 0., 0., 0., 0., 0., 0., 0., 0., 0., 0., 0.,\n         0., 0., 0., 0., 0., 0., 0., 0., 0., 0., 0., 0., 0., 0., 0., 0.],\n        [0., 0., 0., 0., 0., 0., 0., 0., 0., 0., 0., 0., 0., 0., 0., 0.,\n         0., 0., 0., 0., 0., 0., 0., 0., 0., 0., 0., 0., 0., 0., 0., 0.,\n         0., 0., 0., 0., 0., 0., 0., 0., 0., 0., 0., 0., 0., 0., 0., 0.,\n         0., 0., 0., 0., 0., 0., 0., 0., 0., 0., 0., 0., 0., 0., 0., 0.],\n        [0., 0., 0., 0., 0., 0., 0., 0., 0., 0., 0., 0., 0., 0., 0., 0.,\n         0., 0., 0., 0., 0., 0., 0., 0., 0., 0., 0., 0., 0., 0., 0., 0.,\n         0., 0., 0., 0., 0., 0., 0., 0., 0., 0., 0., 0., 0., 0., 0., 0.,\n         0., 0., 0., 0., 0., 0., 0., 0., 0., 0., 0., 0., 0., 0., 0., 0.],\n        [0., 0., 0., 0., 0., 0., 0., 0., 0., 0., 0., 0., 0., 0., 0., 0.,\n         0., 0., 0., 0., 0., 0., 0., 0., 0., 0., 0., 0., 0., 0., 0., 0.,\n         0., 0., 0., 0., 0., 0., 0., 0., 0., 0., 0., 0., 0., 0., 0., 0.,\n         0., 0., 0., 0., 0., 0., 0., 0., 0., 0., 0., 0., 0., 0., 0., 0.],\n        [0., 0., 0., 0., 0., 0., 0., 0., 0., 0., 0., 0., 0., 0., 0., 0.,\n         0., 0., 0., 0., 0., 0., 0., 0., 0., 0., 0., 0., 0., 0., 0., 0.,\n         0., 0., 0., 0., 0., 0., 0., 0., 0., 0., 0., 0., 0., 0., 0., 0.,\n         0., 0., 0., 0., 0., 0., 0., 0., 0., 0., 0., 0., 0., 0., 0., 0.]],\n       dtype=float32),\n array([[[ 0.011459  ,  0.0307001 ,  0.00986109, ..., -0.03015834,\n           0.02550311, -0.00613777],\n         [ 0.00776596,  0.02561061,  0.03696458, ..., -0.03162711,\n          -0.00071589, -0.00770411],\n         [-0.00477054,  0.00132709,  0.0158182 , ..., -0.00495785,\n           0.02308478,  0.03128942],\n         ...,\n         [ 0.01246592,  0.02097231,  0.00306867, ..., -0.00113204,\n           0.01450813,  0.01365776],\n         [ 0.0094333 ,  0.00502138,  0.02469603, ..., -0.00765906,\n           0.00421164, -0.00302373],\n         [ 0.02212888,  0.0107963 , -0.00010826, ...,  0.01629053,\n          -0.01804626,  0.00722815]],\n \n        [[ 0.02619526,  0.003762  ,  0.02398076, ..., -0.0058038 ,\n           0.00586006,  0.00538576],\n         [ 0.01444176, -0.00090535, -0.00103158, ..., -0.02308543,\n          -0.00595583, -0.03195039],\n         [ 0.01075449, -0.01255565,  0.02690874, ..., -0.01139084,\n           0.00164425, -0.0351085 ],\n         ...,\n         [ 0.02263499, -0.02494595, -0.00244145, ...,  0.03146324,\n          -0.00785834,  0.01380645],\n         [-0.01189847,  0.01883273,  0.02028399, ...,  0.01130634,\n           0.01973643, -0.02200102],\n         [ 0.02167954,  0.00157215, -0.00862729, ...,  0.01313407,\n          -0.02547812, -0.0133505 ]],\n \n        [[ 0.03290298, -0.01237527,  0.01657498, ..., -0.02552417,\n          -0.00090707, -0.02236383],\n         [-0.02559084,  0.01385674, -0.02915613, ...,  0.00481638,\n          -0.00894599, -0.00093032],\n         [-0.03738866, -0.03159545,  0.00676273, ...,  0.0017883 ,\n          -0.00107386, -0.00076975],\n         ...,\n         [ 0.02262903,  0.0023875 ,  0.00948373, ..., -0.01127139,\n          -0.02752421, -0.01546861],\n         [ 0.02575286,  0.00222569, -0.02964908, ...,  0.01446706,\n          -0.02836439,  0.02000057],\n         [-0.00068182, -0.02390721, -0.00335865, ...,  0.00588086,\n           0.02228529,  0.00484813]],\n \n        ...,\n \n        [[-0.01756183, -0.00130139, -0.01361117, ..., -0.02782882,\n           0.02910668,  0.003096  ],\n         [-0.00275785, -0.00597163, -0.00763842, ..., -0.02615367,\n           0.03726108,  0.02993169],\n         [-0.00275964,  0.01691282,  0.02720866, ...,  0.00831244,\n           0.00858313, -0.03450306],\n         ...,\n         [-0.00755192,  0.00191495, -0.01797267, ..., -0.00399911,\n           0.00275491,  0.01625824],\n         [ 0.0135906 , -0.00760556,  0.01863881, ...,  0.02358565,\n          -0.01256333,  0.02345223],\n         [ 0.00848686, -0.00660388,  0.00938385, ..., -0.01195969,\n          -0.00117508, -0.03266392]],\n \n        [[-0.01384881, -0.00606661, -0.02801462, ...,  0.03652546,\n           0.00318094, -0.00016067],\n         [ 0.02139806, -0.01630167,  0.02352388, ..., -0.02364117,\n           0.00932608,  0.00972799],\n         [ 0.00570129, -0.01713851, -0.01470534, ...,  0.00861851,\n           0.00606942, -0.01788035],\n         ...,\n         [ 0.0044923 ,  0.01389486,  0.01148112, ...,  0.01679552,\n           0.01042226, -0.01290256],\n         [ 0.00476617,  0.01079806,  0.00207636, ..., -0.03845814,\n           0.02630131,  0.01000486],\n         [-0.01581497, -0.02517645,  0.02603603, ..., -0.00428227,\n           0.03171798, -0.00742869]],\n \n        [[ 0.01402314,  0.00283394, -0.02787555, ...,  0.03318576,\n           0.03058269,  0.02118898],\n         [-0.0043793 , -0.01062576,  0.00376486, ..., -0.0287887 ,\n           0.00241973,  0.00636907],\n         [-0.00607076,  0.01174292, -0.03293152, ..., -0.00226141,\n           0.01502631,  0.00068451],\n         ...,\n         [-0.03553334,  0.02536195,  0.0047771 , ...,  0.01305653,\n           0.01332302,  0.01282522],\n         [ 0.03543748,  0.01847916,  0.01534266, ..., -0.00647517,\n          -0.02807564,  0.00608832],\n         [ 0.0111879 ,  0.01493106,  0.01082746, ..., -0.01009625,\n           0.03158766,  0.00484522]]], dtype=float32),\n array([[0., 0., 0., 0., 0., 0., 0., 0., 0., 0., 0., 0., 0., 0., 0., 0.,\n         0., 0., 0., 0., 0., 0., 0., 0., 0., 0., 0., 0., 0., 0., 0., 0.,\n         0., 0., 0., 0., 0., 0., 0., 0., 0., 0., 0., 0., 0., 0., 0., 0.,\n         0., 0., 0., 0., 0., 0., 0., 0., 0., 0., 0., 0., 0., 0., 0., 0.],\n        [0., 0., 0., 0., 0., 0., 0., 0., 0., 0., 0., 0., 0., 0., 0., 0.,\n         0., 0., 0., 0., 0., 0., 0., 0., 0., 0., 0., 0., 0., 0., 0., 0.,\n         0., 0., 0., 0., 0., 0., 0., 0., 0., 0., 0., 0., 0., 0., 0., 0.,\n         0., 0., 0., 0., 0., 0., 0., 0., 0., 0., 0., 0., 0., 0., 0., 0.],\n        [0., 0., 0., 0., 0., 0., 0., 0., 0., 0., 0., 0., 0., 0., 0., 0.,\n         0., 0., 0., 0., 0., 0., 0., 0., 0., 0., 0., 0., 0., 0., 0., 0.,\n         0., 0., 0., 0., 0., 0., 0., 0., 0., 0., 0., 0., 0., 0., 0., 0.,\n         0., 0., 0., 0., 0., 0., 0., 0., 0., 0., 0., 0., 0., 0., 0., 0.],\n        [0., 0., 0., 0., 0., 0., 0., 0., 0., 0., 0., 0., 0., 0., 0., 0.,\n         0., 0., 0., 0., 0., 0., 0., 0., 0., 0., 0., 0., 0., 0., 0., 0.,\n         0., 0., 0., 0., 0., 0., 0., 0., 0., 0., 0., 0., 0., 0., 0., 0.,\n         0., 0., 0., 0., 0., 0., 0., 0., 0., 0., 0., 0., 0., 0., 0., 0.],\n        [0., 0., 0., 0., 0., 0., 0., 0., 0., 0., 0., 0., 0., 0., 0., 0.,\n         0., 0., 0., 0., 0., 0., 0., 0., 0., 0., 0., 0., 0., 0., 0., 0.,\n         0., 0., 0., 0., 0., 0., 0., 0., 0., 0., 0., 0., 0., 0., 0., 0.,\n         0., 0., 0., 0., 0., 0., 0., 0., 0., 0., 0., 0., 0., 0., 0., 0.],\n        [0., 0., 0., 0., 0., 0., 0., 0., 0., 0., 0., 0., 0., 0., 0., 0.,\n         0., 0., 0., 0., 0., 0., 0., 0., 0., 0., 0., 0., 0., 0., 0., 0.,\n         0., 0., 0., 0., 0., 0., 0., 0., 0., 0., 0., 0., 0., 0., 0., 0.,\n         0., 0., 0., 0., 0., 0., 0., 0., 0., 0., 0., 0., 0., 0., 0., 0.],\n        [0., 0., 0., 0., 0., 0., 0., 0., 0., 0., 0., 0., 0., 0., 0., 0.,\n         0., 0., 0., 0., 0., 0., 0., 0., 0., 0., 0., 0., 0., 0., 0., 0.,\n         0., 0., 0., 0., 0., 0., 0., 0., 0., 0., 0., 0., 0., 0., 0., 0.,\n         0., 0., 0., 0., 0., 0., 0., 0., 0., 0., 0., 0., 0., 0., 0., 0.],\n        [0., 0., 0., 0., 0., 0., 0., 0., 0., 0., 0., 0., 0., 0., 0., 0.,\n         0., 0., 0., 0., 0., 0., 0., 0., 0., 0., 0., 0., 0., 0., 0., 0.,\n         0., 0., 0., 0., 0., 0., 0., 0., 0., 0., 0., 0., 0., 0., 0., 0.,\n         0., 0., 0., 0., 0., 0., 0., 0., 0., 0., 0., 0., 0., 0., 0., 0.],\n        [0., 0., 0., 0., 0., 0., 0., 0., 0., 0., 0., 0., 0., 0., 0., 0.,\n         0., 0., 0., 0., 0., 0., 0., 0., 0., 0., 0., 0., 0., 0., 0., 0.,\n         0., 0., 0., 0., 0., 0., 0., 0., 0., 0., 0., 0., 0., 0., 0., 0.,\n         0., 0., 0., 0., 0., 0., 0., 0., 0., 0., 0., 0., 0., 0., 0., 0.],\n        [0., 0., 0., 0., 0., 0., 0., 0., 0., 0., 0., 0., 0., 0., 0., 0.,\n         0., 0., 0., 0., 0., 0., 0., 0., 0., 0., 0., 0., 0., 0., 0., 0.,\n         0., 0., 0., 0., 0., 0., 0., 0., 0., 0., 0., 0., 0., 0., 0., 0.,\n         0., 0., 0., 0., 0., 0., 0., 0., 0., 0., 0., 0., 0., 0., 0., 0.],\n        [0., 0., 0., 0., 0., 0., 0., 0., 0., 0., 0., 0., 0., 0., 0., 0.,\n         0., 0., 0., 0., 0., 0., 0., 0., 0., 0., 0., 0., 0., 0., 0., 0.,\n         0., 0., 0., 0., 0., 0., 0., 0., 0., 0., 0., 0., 0., 0., 0., 0.,\n         0., 0., 0., 0., 0., 0., 0., 0., 0., 0., 0., 0., 0., 0., 0., 0.],\n        [0., 0., 0., 0., 0., 0., 0., 0., 0., 0., 0., 0., 0., 0., 0., 0.,\n         0., 0., 0., 0., 0., 0., 0., 0., 0., 0., 0., 0., 0., 0., 0., 0.,\n         0., 0., 0., 0., 0., 0., 0., 0., 0., 0., 0., 0., 0., 0., 0., 0.,\n         0., 0., 0., 0., 0., 0., 0., 0., 0., 0., 0., 0., 0., 0., 0., 0.]],\n       dtype=float32),\n array([[[-1.38492417e-03, -1.89127959e-02,  1.57535579e-02, ...,\n          -1.48355467e-02,  1.63681502e-03,  6.52584108e-03],\n         [-2.95981597e-02,  1.56112865e-03, -6.26621908e-03, ...,\n           2.79689822e-02,  1.41227283e-02,  2.74695107e-04],\n         [ 1.45388311e-02,  3.61779146e-02, -3.09803914e-02, ...,\n          -2.41154265e-02,  3.60558205e-03, -2.60592010e-02],\n         ...,\n         [-1.41090555e-02,  1.63472071e-02, -2.06424929e-02, ...,\n           7.21471952e-05,  3.42666358e-03,  2.26408429e-02],\n         [ 1.65524017e-02,  4.34844848e-03,  3.23058628e-02, ...,\n           2.91611515e-02,  6.25500747e-04, -8.09641089e-04],\n         [-1.33705316e-02, -3.78115736e-02, -1.80754270e-02, ...,\n          -2.65920758e-02, -1.43948756e-02,  2.86195725e-02]],\n \n        [[-1.09972749e-02,  1.77022330e-02, -7.58478558e-03, ...,\n          -1.18961046e-02, -7.33092660e-03, -9.30196606e-03],\n         [ 1.35287398e-03, -2.24776454e-02, -6.81641139e-03, ...,\n           1.64283402e-02, -1.84863675e-02, -1.37262102e-02],\n         [-1.26451803e-02, -1.53659089e-02, -2.08531916e-02, ...,\n          -8.80329031e-03,  1.03310402e-02, -1.13471299e-02],\n         ...,\n         [ 2.56508067e-02, -2.83514848e-04,  5.23637282e-03, ...,\n           1.46371601e-02, -2.31853127e-02, -2.77685188e-02],\n         [-4.67521604e-03, -1.46163385e-02, -3.67821716e-02, ...,\n          -4.46463050e-03, -1.83855428e-03,  4.83614672e-03],\n         [-9.97637678e-03,  8.83598626e-03, -8.69874004e-03, ...,\n           1.04546119e-02,  5.43409074e-03,  1.67946406e-02]],\n \n        [[-1.63585991e-02,  1.60124637e-02, -3.06878351e-02, ...,\n          -3.67061719e-02, -5.90527256e-04,  1.48024941e-02],\n         [ 3.06308288e-02,  2.81224027e-02,  8.33939668e-03, ...,\n           1.62277906e-03,  9.92303155e-03,  5.94573654e-03],\n         [-2.34409589e-02,  1.73988622e-02,  2.20350754e-02, ...,\n           1.00386925e-02, -2.67408276e-03, -1.40742527e-03],\n         ...,\n         [-1.51865799e-02,  1.44687547e-05, -7.20123947e-03, ...,\n           2.65284143e-02, -6.87291962e-04, -3.71085317e-03],\n         [-3.21180373e-02,  1.14101935e-02,  7.79216317e-03, ...,\n           1.50774373e-02, -2.63133943e-02, -4.15316503e-03],\n         [-1.22908149e-02,  2.16529742e-02,  5.98184997e-03, ...,\n           2.33872868e-02,  1.01346651e-03,  2.80312207e-02]],\n \n        ...,\n \n        [[ 3.47067346e-03,  2.10192963e-03,  3.53743462e-03, ...,\n           5.78402588e-03, -2.85824724e-02, -1.09688062e-02],\n         [ 1.23579437e-02,  5.18308114e-03, -2.30033100e-02, ...,\n          -3.51782888e-02,  3.18681113e-02, -3.33858915e-02],\n         [-6.86071347e-04,  2.14837398e-02, -3.30518745e-02, ...,\n           1.01191010e-02,  1.45323211e-02,  2.92342366e-03],\n         ...,\n         [-2.94868778e-02,  1.27970930e-02,  1.55579194e-03, ...,\n          -1.21244835e-03, -9.71697643e-03, -3.42108123e-03],\n         [-2.80627627e-02, -8.26699979e-05,  3.55445826e-03, ...,\n           2.34080404e-02, -2.83287801e-02,  2.96412017e-02],\n         [-1.09766726e-03,  2.57960688e-02, -1.74001940e-02, ...,\n           1.84565708e-02,  1.83829572e-02,  8.37308634e-03]],\n \n        [[-1.07130492e-02, -3.01743373e-02, -9.05806851e-03, ...,\n           3.99042107e-03,  1.14618000e-02,  3.42538543e-02],\n         [ 4.64057736e-03,  1.09447062e-03,  1.01717329e-02, ...,\n           2.82191932e-02, -9.32008307e-03, -8.55280086e-03],\n         [-7.99188390e-03,  1.03215780e-02,  2.24635042e-02, ...,\n          -4.58085211e-03,  2.04777196e-02, -7.50056561e-03],\n         ...,\n         [ 6.53406652e-03,  2.17849407e-02, -5.17347828e-04, ...,\n           4.01844503e-03,  5.91791188e-03,  2.12371722e-02],\n         [ 1.83690828e-03,  1.77509431e-02, -1.01094684e-02, ...,\n          -3.43257077e-02,  1.86591856e-02,  1.80707239e-02],\n         [ 7.96335377e-03,  1.09106777e-02, -4.54150839e-03, ...,\n           2.66270898e-02, -2.91345045e-02,  1.65814087e-02]],\n \n        [[ 9.43612121e-03,  1.49445916e-02, -1.90458205e-02, ...,\n          -1.62596488e-03, -2.77693872e-03,  2.66873976e-03],\n         [ 1.28530478e-02, -1.67508945e-02, -2.01205779e-02, ...,\n          -9.31047928e-03,  1.00463564e-02, -1.35137010e-02],\n         [-7.40830041e-03,  1.69649664e-02,  9.67008714e-03, ...,\n          -3.78653631e-02, -1.62258483e-02,  3.22409943e-02],\n         ...,\n         [-1.73842814e-02, -1.48907220e-02, -1.04978997e-02, ...,\n          -2.29881760e-02, -1.06794471e-02,  1.75454989e-02],\n         [ 2.95524132e-02,  8.01203866e-03, -1.08015630e-02, ...,\n           4.42041457e-03, -3.69104296e-02, -2.26263069e-02],\n         [ 1.42406886e-02,  8.98294523e-03,  1.56333875e-02, ...,\n           4.58154269e-03, -1.08112246e-02,  1.42392516e-02]]],\n       dtype=float32),\n array([[0., 0., 0., 0., 0., 0., 0., 0., 0., 0., 0., 0., 0., 0., 0., 0.,\n         0., 0., 0., 0., 0., 0., 0., 0., 0., 0., 0., 0., 0., 0., 0., 0.,\n         0., 0., 0., 0., 0., 0., 0., 0., 0., 0., 0., 0., 0., 0., 0., 0.,\n         0., 0., 0., 0., 0., 0., 0., 0., 0., 0., 0., 0., 0., 0., 0., 0.],\n        [0., 0., 0., 0., 0., 0., 0., 0., 0., 0., 0., 0., 0., 0., 0., 0.,\n         0., 0., 0., 0., 0., 0., 0., 0., 0., 0., 0., 0., 0., 0., 0., 0.,\n         0., 0., 0., 0., 0., 0., 0., 0., 0., 0., 0., 0., 0., 0., 0., 0.,\n         0., 0., 0., 0., 0., 0., 0., 0., 0., 0., 0., 0., 0., 0., 0., 0.],\n        [0., 0., 0., 0., 0., 0., 0., 0., 0., 0., 0., 0., 0., 0., 0., 0.,\n         0., 0., 0., 0., 0., 0., 0., 0., 0., 0., 0., 0., 0., 0., 0., 0.,\n         0., 0., 0., 0., 0., 0., 0., 0., 0., 0., 0., 0., 0., 0., 0., 0.,\n         0., 0., 0., 0., 0., 0., 0., 0., 0., 0., 0., 0., 0., 0., 0., 0.],\n        [0., 0., 0., 0., 0., 0., 0., 0., 0., 0., 0., 0., 0., 0., 0., 0.,\n         0., 0., 0., 0., 0., 0., 0., 0., 0., 0., 0., 0., 0., 0., 0., 0.,\n         0., 0., 0., 0., 0., 0., 0., 0., 0., 0., 0., 0., 0., 0., 0., 0.,\n         0., 0., 0., 0., 0., 0., 0., 0., 0., 0., 0., 0., 0., 0., 0., 0.],\n        [0., 0., 0., 0., 0., 0., 0., 0., 0., 0., 0., 0., 0., 0., 0., 0.,\n         0., 0., 0., 0., 0., 0., 0., 0., 0., 0., 0., 0., 0., 0., 0., 0.,\n         0., 0., 0., 0., 0., 0., 0., 0., 0., 0., 0., 0., 0., 0., 0., 0.,\n         0., 0., 0., 0., 0., 0., 0., 0., 0., 0., 0., 0., 0., 0., 0., 0.],\n        [0., 0., 0., 0., 0., 0., 0., 0., 0., 0., 0., 0., 0., 0., 0., 0.,\n         0., 0., 0., 0., 0., 0., 0., 0., 0., 0., 0., 0., 0., 0., 0., 0.,\n         0., 0., 0., 0., 0., 0., 0., 0., 0., 0., 0., 0., 0., 0., 0., 0.,\n         0., 0., 0., 0., 0., 0., 0., 0., 0., 0., 0., 0., 0., 0., 0., 0.],\n        [0., 0., 0., 0., 0., 0., 0., 0., 0., 0., 0., 0., 0., 0., 0., 0.,\n         0., 0., 0., 0., 0., 0., 0., 0., 0., 0., 0., 0., 0., 0., 0., 0.,\n         0., 0., 0., 0., 0., 0., 0., 0., 0., 0., 0., 0., 0., 0., 0., 0.,\n         0., 0., 0., 0., 0., 0., 0., 0., 0., 0., 0., 0., 0., 0., 0., 0.],\n        [0., 0., 0., 0., 0., 0., 0., 0., 0., 0., 0., 0., 0., 0., 0., 0.,\n         0., 0., 0., 0., 0., 0., 0., 0., 0., 0., 0., 0., 0., 0., 0., 0.,\n         0., 0., 0., 0., 0., 0., 0., 0., 0., 0., 0., 0., 0., 0., 0., 0.,\n         0., 0., 0., 0., 0., 0., 0., 0., 0., 0., 0., 0., 0., 0., 0., 0.],\n        [0., 0., 0., 0., 0., 0., 0., 0., 0., 0., 0., 0., 0., 0., 0., 0.,\n         0., 0., 0., 0., 0., 0., 0., 0., 0., 0., 0., 0., 0., 0., 0., 0.,\n         0., 0., 0., 0., 0., 0., 0., 0., 0., 0., 0., 0., 0., 0., 0., 0.,\n         0., 0., 0., 0., 0., 0., 0., 0., 0., 0., 0., 0., 0., 0., 0., 0.],\n        [0., 0., 0., 0., 0., 0., 0., 0., 0., 0., 0., 0., 0., 0., 0., 0.,\n         0., 0., 0., 0., 0., 0., 0., 0., 0., 0., 0., 0., 0., 0., 0., 0.,\n         0., 0., 0., 0., 0., 0., 0., 0., 0., 0., 0., 0., 0., 0., 0., 0.,\n         0., 0., 0., 0., 0., 0., 0., 0., 0., 0., 0., 0., 0., 0., 0., 0.],\n        [0., 0., 0., 0., 0., 0., 0., 0., 0., 0., 0., 0., 0., 0., 0., 0.,\n         0., 0., 0., 0., 0., 0., 0., 0., 0., 0., 0., 0., 0., 0., 0., 0.,\n         0., 0., 0., 0., 0., 0., 0., 0., 0., 0., 0., 0., 0., 0., 0., 0.,\n         0., 0., 0., 0., 0., 0., 0., 0., 0., 0., 0., 0., 0., 0., 0., 0.],\n        [0., 0., 0., 0., 0., 0., 0., 0., 0., 0., 0., 0., 0., 0., 0., 0.,\n         0., 0., 0., 0., 0., 0., 0., 0., 0., 0., 0., 0., 0., 0., 0., 0.,\n         0., 0., 0., 0., 0., 0., 0., 0., 0., 0., 0., 0., 0., 0., 0., 0.,\n         0., 0., 0., 0., 0., 0., 0., 0., 0., 0., 0., 0., 0., 0., 0., 0.]],\n       dtype=float32),\n array([[[ 0.00839687,  0.00105463,  0.0017312 , ...,  0.02428736,\n           0.00931236,  0.01762219],\n         [-0.00815348, -0.00408711, -0.02235955, ..., -0.02951241,\n           0.00427662, -0.02658485],\n         [-0.00044181,  0.03398765,  0.01952531, ..., -0.01528376,\n          -0.00020965, -0.00816069],\n         ...,\n         [-0.00260866,  0.02867218, -0.00693943, ...,  0.00516576,\n           0.02135457, -0.00316806],\n         [ 0.00466338, -0.02546791,  0.0044479 , ...,  0.02449642,\n          -0.00040474, -0.00157788],\n         [ 0.0038881 , -0.00353862,  0.01803895, ...,  0.02305757,\n           0.01889036, -0.0235422 ]],\n \n        [[ 0.00153775, -0.00537464, -0.01014193, ..., -0.03759053,\n          -0.02451961,  0.00849406],\n         [-0.01918013, -0.00775407, -0.00269234, ...,  0.00621474,\n           0.01322541,  0.0099871 ],\n         [ 0.03959819,  0.0106376 , -0.00061051, ..., -0.00380953,\n          -0.01171076,  0.01085582],\n         ...,\n         [ 0.01113642, -0.03790601,  0.00058298, ..., -0.02772456,\n           0.03661739, -0.03975477],\n         [ 0.01454531,  0.01130044, -0.02782698, ...,  0.03569823,\n          -0.01531258,  0.00998809],\n         [-0.01035317,  0.03161106,  0.03128035, ...,  0.01201402,\n          -0.01590697, -0.01671503]],\n \n        [[-0.01308106,  0.00314671, -0.00734358, ..., -0.00449753,\n           0.00514577, -0.00880478],\n         [-0.00659383, -0.01606471,  0.02104445, ..., -0.01856825,\n           0.01492666,  0.02206227],\n         [ 0.02343543,  0.03481323,  0.00352969, ...,  0.01625099,\n          -0.00735998, -0.00459862],\n         ...,\n         [-0.01601266, -0.01325945, -0.03153778, ..., -0.00705999,\n          -0.00609639, -0.01665744],\n         [-0.00815808, -0.00392254, -0.03295449, ...,  0.03206168,\n          -0.01257283,  0.01804394],\n         [-0.0058303 , -0.02832446, -0.00442134, ...,  0.00881979,\n           0.02132883, -0.00146565]],\n \n        ...,\n \n        [[ 0.01941439, -0.00450888,  0.00830157, ..., -0.02403891,\n          -0.03568073,  0.0075064 ],\n         [-0.01020812, -0.03198222, -0.02049539, ...,  0.0095732 ,\n           0.01664443, -0.01428671],\n         [-0.03566442, -0.01075603,  0.01069362, ..., -0.01167504,\n          -0.00929288,  0.00157556],\n         ...,\n         [-0.0148706 ,  0.00159541, -0.00899067, ..., -0.02233689,\n           0.03950756,  0.03753638],\n         [-0.01522991,  0.01640385, -0.00259563, ..., -0.02505829,\n          -0.00744901,  0.01829578],\n         [ 0.01582275, -0.00447463, -0.01143004, ...,  0.01789507,\n           0.00418097,  0.00221862]],\n \n        [[-0.016334  ,  0.01295818, -0.00185476, ...,  0.01005077,\n          -0.03728157,  0.01653669],\n         [ 0.00219385, -0.02886991,  0.03160139, ...,  0.01612332,\n           0.01416097, -0.0213594 ],\n         [-0.03726041, -0.0064364 ,  0.01722425, ..., -0.02058376,\n           0.02092281, -0.02434118],\n         ...,\n         [-0.00064765,  0.02287137, -0.00227019, ..., -0.00225678,\n           0.02616874,  0.03219375],\n         [-0.00551926, -0.01044184, -0.01455885, ...,  0.02719557,\n           0.03020413,  0.0254784 ],\n         [ 0.0077024 , -0.01038865, -0.00821976, ...,  0.00553114,\n          -0.02063937, -0.00257176]],\n \n        [[ 0.01901359, -0.01233132, -0.00045017, ...,  0.03224416,\n           0.02595337,  0.00237927],\n         [-0.00670194, -0.03385487,  0.00883814, ...,  0.03551951,\n          -0.00578089, -0.02515348],\n         [-0.01428365, -0.03256989,  0.01919225, ..., -0.01156302,\n           0.00861298,  0.01715483],\n         ...,\n         [ 0.01000213, -0.00131692,  0.01070122, ...,  0.00887449,\n          -0.01130312,  0.01716318],\n         [-0.01986831,  0.03510265,  0.00299113, ..., -0.01047168,\n           0.01096916,  0.00648815],\n         [ 0.02703919, -0.00686533, -0.02733012, ..., -0.01181194,\n          -0.03161941, -0.02582671]]], dtype=float32),\n array([0., 0., 0., 0., 0., 0., 0., 0., 0., 0., 0., 0., 0., 0., 0., 0., 0.,\n        0., 0., 0., 0., 0., 0., 0., 0., 0., 0., 0., 0., 0., 0., 0., 0., 0.,\n        0., 0., 0., 0., 0., 0., 0., 0., 0., 0., 0., 0., 0., 0., 0., 0., 0.,\n        0., 0., 0., 0., 0., 0., 0., 0., 0., 0., 0., 0., 0., 0., 0., 0., 0.,\n        0., 0., 0., 0., 0., 0., 0., 0., 0., 0., 0., 0., 0., 0., 0., 0., 0.,\n        0., 0., 0., 0., 0., 0., 0., 0., 0., 0., 0., 0., 0., 0., 0., 0., 0.,\n        0., 0., 0., 0., 0., 0., 0., 0., 0., 0., 0., 0., 0., 0., 0., 0., 0.,\n        0., 0., 0., 0., 0., 0., 0., 0., 0., 0., 0., 0., 0., 0., 0., 0., 0.,\n        0., 0., 0., 0., 0., 0., 0., 0., 0., 0., 0., 0., 0., 0., 0., 0., 0.,\n        0., 0., 0., 0., 0., 0., 0., 0., 0., 0., 0., 0., 0., 0., 0., 0., 0.,\n        0., 0., 0., 0., 0., 0., 0., 0., 0., 0., 0., 0., 0., 0., 0., 0., 0.,\n        0., 0., 0., 0., 0., 0., 0., 0., 0., 0., 0., 0., 0., 0., 0., 0., 0.,\n        0., 0., 0., 0., 0., 0., 0., 0., 0., 0., 0., 0., 0., 0., 0., 0., 0.,\n        0., 0., 0., 0., 0., 0., 0., 0., 0., 0., 0., 0., 0., 0., 0., 0., 0.,\n        0., 0., 0., 0., 0., 0., 0., 0., 0., 0., 0., 0., 0., 0., 0., 0., 0.,\n        0., 0., 0., 0., 0., 0., 0., 0., 0., 0., 0., 0., 0., 0., 0., 0., 0.,\n        0., 0., 0., 0., 0., 0., 0., 0., 0., 0., 0., 0., 0., 0., 0., 0., 0.,\n        0., 0., 0., 0., 0., 0., 0., 0., 0., 0., 0., 0., 0., 0., 0., 0., 0.,\n        0., 0., 0., 0., 0., 0., 0., 0., 0., 0., 0., 0., 0., 0., 0., 0., 0.,\n        0., 0., 0., 0., 0., 0., 0., 0., 0., 0., 0., 0., 0., 0., 0., 0., 0.,\n        0., 0., 0., 0., 0., 0., 0., 0., 0., 0., 0., 0., 0., 0., 0., 0., 0.,\n        0., 0., 0., 0., 0., 0., 0., 0., 0., 0., 0., 0., 0., 0., 0., 0., 0.,\n        0., 0., 0., 0., 0., 0., 0., 0., 0., 0., 0., 0., 0., 0., 0., 0., 0.,\n        0., 0., 0., 0., 0., 0., 0., 0., 0., 0., 0., 0., 0., 0., 0., 0., 0.,\n        0., 0., 0., 0., 0., 0., 0., 0., 0., 0., 0., 0., 0., 0., 0., 0., 0.,\n        0., 0., 0., 0., 0., 0., 0., 0., 0., 0., 0., 0., 0., 0., 0., 0., 0.,\n        0., 0., 0., 0., 0., 0., 0., 0., 0., 0., 0., 0., 0., 0., 0., 0., 0.,\n        0., 0., 0., 0., 0., 0., 0., 0., 0., 0., 0., 0., 0., 0., 0., 0., 0.,\n        0., 0., 0., 0., 0., 0., 0., 0., 0., 0., 0., 0., 0., 0., 0., 0., 0.,\n        0., 0., 0., 0., 0., 0., 0., 0., 0., 0., 0., 0., 0., 0., 0., 0., 0.,\n        0., 0., 0., 0., 0., 0., 0., 0., 0., 0., 0., 0., 0., 0., 0., 0., 0.,\n        0., 0., 0., 0., 0., 0., 0., 0., 0., 0., 0., 0., 0., 0., 0., 0., 0.,\n        0., 0., 0., 0., 0., 0., 0., 0., 0., 0., 0., 0., 0., 0., 0., 0., 0.,\n        0., 0., 0., 0., 0., 0., 0., 0., 0., 0., 0., 0., 0., 0., 0., 0., 0.,\n        0., 0., 0., 0., 0., 0., 0., 0., 0., 0., 0., 0., 0., 0., 0., 0., 0.,\n        0., 0., 0., 0., 0., 0., 0., 0., 0., 0., 0., 0., 0., 0., 0., 0., 0.,\n        0., 0., 0., 0., 0., 0., 0., 0., 0., 0., 0., 0., 0., 0., 0., 0., 0.,\n        0., 0., 0., 0., 0., 0., 0., 0., 0., 0., 0., 0., 0., 0., 0., 0., 0.,\n        0., 0., 0., 0., 0., 0., 0., 0., 0., 0., 0., 0., 0., 0., 0., 0., 0.,\n        0., 0., 0., 0., 0., 0., 0., 0., 0., 0., 0., 0., 0., 0., 0., 0., 0.,\n        0., 0., 0., 0., 0., 0., 0., 0., 0., 0., 0., 0., 0., 0., 0., 0., 0.,\n        0., 0., 0., 0., 0., 0., 0., 0., 0., 0., 0., 0., 0., 0., 0., 0., 0.,\n        0., 0., 0., 0., 0., 0., 0., 0., 0., 0., 0., 0., 0., 0., 0., 0., 0.,\n        0., 0., 0., 0., 0., 0., 0., 0., 0., 0., 0., 0., 0., 0., 0., 0., 0.,\n        0., 0., 0., 0., 0., 0., 0., 0., 0., 0., 0., 0., 0., 0., 0., 0., 0.,\n        0., 0., 0.], dtype=float32),\n array([1., 1., 1., 1., 1., 1., 1., 1., 1., 1., 1., 1., 1., 1., 1., 1., 1.,\n        1., 1., 1., 1., 1., 1., 1., 1., 1., 1., 1., 1., 1., 1., 1., 1., 1.,\n        1., 1., 1., 1., 1., 1., 1., 1., 1., 1., 1., 1., 1., 1., 1., 1., 1.,\n        1., 1., 1., 1., 1., 1., 1., 1., 1., 1., 1., 1., 1., 1., 1., 1., 1.,\n        1., 1., 1., 1., 1., 1., 1., 1., 1., 1., 1., 1., 1., 1., 1., 1., 1.,\n        1., 1., 1., 1., 1., 1., 1., 1., 1., 1., 1., 1., 1., 1., 1., 1., 1.,\n        1., 1., 1., 1., 1., 1., 1., 1., 1., 1., 1., 1., 1., 1., 1., 1., 1.,\n        1., 1., 1., 1., 1., 1., 1., 1., 1., 1., 1., 1., 1., 1., 1., 1., 1.,\n        1., 1., 1., 1., 1., 1., 1., 1., 1., 1., 1., 1., 1., 1., 1., 1., 1.,\n        1., 1., 1., 1., 1., 1., 1., 1., 1., 1., 1., 1., 1., 1., 1., 1., 1.,\n        1., 1., 1., 1., 1., 1., 1., 1., 1., 1., 1., 1., 1., 1., 1., 1., 1.,\n        1., 1., 1., 1., 1., 1., 1., 1., 1., 1., 1., 1., 1., 1., 1., 1., 1.,\n        1., 1., 1., 1., 1., 1., 1., 1., 1., 1., 1., 1., 1., 1., 1., 1., 1.,\n        1., 1., 1., 1., 1., 1., 1., 1., 1., 1., 1., 1., 1., 1., 1., 1., 1.,\n        1., 1., 1., 1., 1., 1., 1., 1., 1., 1., 1., 1., 1., 1., 1., 1., 1.,\n        1., 1., 1., 1., 1., 1., 1., 1., 1., 1., 1., 1., 1., 1., 1., 1., 1.,\n        1., 1., 1., 1., 1., 1., 1., 1., 1., 1., 1., 1., 1., 1., 1., 1., 1.,\n        1., 1., 1., 1., 1., 1., 1., 1., 1., 1., 1., 1., 1., 1., 1., 1., 1.,\n        1., 1., 1., 1., 1., 1., 1., 1., 1., 1., 1., 1., 1., 1., 1., 1., 1.,\n        1., 1., 1., 1., 1., 1., 1., 1., 1., 1., 1., 1., 1., 1., 1., 1., 1.,\n        1., 1., 1., 1., 1., 1., 1., 1., 1., 1., 1., 1., 1., 1., 1., 1., 1.,\n        1., 1., 1., 1., 1., 1., 1., 1., 1., 1., 1., 1., 1., 1., 1., 1., 1.,\n        1., 1., 1., 1., 1., 1., 1., 1., 1., 1., 1., 1., 1., 1., 1., 1., 1.,\n        1., 1., 1., 1., 1., 1., 1., 1., 1., 1., 1., 1., 1., 1., 1., 1., 1.,\n        1., 1., 1., 1., 1., 1., 1., 1., 1., 1., 1., 1., 1., 1., 1., 1., 1.,\n        1., 1., 1., 1., 1., 1., 1., 1., 1., 1., 1., 1., 1., 1., 1., 1., 1.,\n        1., 1., 1., 1., 1., 1., 1., 1., 1., 1., 1., 1., 1., 1., 1., 1., 1.,\n        1., 1., 1., 1., 1., 1., 1., 1., 1., 1., 1., 1., 1., 1., 1., 1., 1.,\n        1., 1., 1., 1., 1., 1., 1., 1., 1., 1., 1., 1., 1., 1., 1., 1., 1.,\n        1., 1., 1., 1., 1., 1., 1., 1., 1., 1., 1., 1., 1., 1., 1., 1., 1.,\n        1., 1., 1., 1., 1., 1., 1., 1., 1., 1., 1., 1., 1., 1., 1., 1., 1.,\n        1., 1., 1., 1., 1., 1., 1., 1., 1., 1., 1., 1., 1., 1., 1., 1., 1.,\n        1., 1., 1., 1., 1., 1., 1., 1., 1., 1., 1., 1., 1., 1., 1., 1., 1.,\n        1., 1., 1., 1., 1., 1., 1., 1., 1., 1., 1., 1., 1., 1., 1., 1., 1.,\n        1., 1., 1., 1., 1., 1., 1., 1., 1., 1., 1., 1., 1., 1., 1., 1., 1.,\n        1., 1., 1., 1., 1., 1., 1., 1., 1., 1., 1., 1., 1., 1., 1., 1., 1.,\n        1., 1., 1., 1., 1., 1., 1., 1., 1., 1., 1., 1., 1., 1., 1., 1., 1.,\n        1., 1., 1., 1., 1., 1., 1., 1., 1., 1., 1., 1., 1., 1., 1., 1., 1.,\n        1., 1., 1., 1., 1., 1., 1., 1., 1., 1., 1., 1., 1., 1., 1., 1., 1.,\n        1., 1., 1., 1., 1., 1., 1., 1., 1., 1., 1., 1., 1., 1., 1., 1., 1.,\n        1., 1., 1., 1., 1., 1., 1., 1., 1., 1., 1., 1., 1., 1., 1., 1., 1.,\n        1., 1., 1., 1., 1., 1., 1., 1., 1., 1., 1., 1., 1., 1., 1., 1., 1.,\n        1., 1., 1., 1., 1., 1., 1., 1., 1., 1., 1., 1., 1., 1., 1., 1., 1.,\n        1., 1., 1., 1., 1., 1., 1., 1., 1., 1., 1., 1., 1., 1., 1., 1., 1.,\n        1., 1., 1., 1., 1., 1., 1., 1., 1., 1., 1., 1., 1., 1., 1., 1., 1.,\n        1., 1., 1.], dtype=float32),\n array([0., 0., 0., 0., 0., 0., 0., 0., 0., 0., 0., 0., 0., 0., 0., 0., 0.,\n        0., 0., 0., 0., 0., 0., 0., 0., 0., 0., 0., 0., 0., 0., 0., 0., 0.,\n        0., 0., 0., 0., 0., 0., 0., 0., 0., 0., 0., 0., 0., 0., 0., 0., 0.,\n        0., 0., 0., 0., 0., 0., 0., 0., 0., 0., 0., 0., 0., 0., 0., 0., 0.,\n        0., 0., 0., 0., 0., 0., 0., 0., 0., 0., 0., 0., 0., 0., 0., 0., 0.,\n        0., 0., 0., 0., 0., 0., 0., 0., 0., 0., 0., 0., 0., 0., 0., 0., 0.,\n        0., 0., 0., 0., 0., 0., 0., 0., 0., 0., 0., 0., 0., 0., 0., 0., 0.,\n        0., 0., 0., 0., 0., 0., 0., 0., 0., 0., 0., 0., 0., 0., 0., 0., 0.,\n        0., 0., 0., 0., 0., 0., 0., 0., 0., 0., 0., 0., 0., 0., 0., 0., 0.,\n        0., 0., 0., 0., 0., 0., 0., 0., 0., 0., 0., 0., 0., 0., 0., 0., 0.,\n        0., 0., 0., 0., 0., 0., 0., 0., 0., 0., 0., 0., 0., 0., 0., 0., 0.,\n        0., 0., 0., 0., 0., 0., 0., 0., 0., 0., 0., 0., 0., 0., 0., 0., 0.,\n        0., 0., 0., 0., 0., 0., 0., 0., 0., 0., 0., 0., 0., 0., 0., 0., 0.,\n        0., 0., 0., 0., 0., 0., 0., 0., 0., 0., 0., 0., 0., 0., 0., 0., 0.,\n        0., 0., 0., 0., 0., 0., 0., 0., 0., 0., 0., 0., 0., 0., 0., 0., 0.,\n        0., 0., 0., 0., 0., 0., 0., 0., 0., 0., 0., 0., 0., 0., 0., 0., 0.,\n        0., 0., 0., 0., 0., 0., 0., 0., 0., 0., 0., 0., 0., 0., 0., 0., 0.,\n        0., 0., 0., 0., 0., 0., 0., 0., 0., 0., 0., 0., 0., 0., 0., 0., 0.,\n        0., 0., 0., 0., 0., 0., 0., 0., 0., 0., 0., 0., 0., 0., 0., 0., 0.,\n        0., 0., 0., 0., 0., 0., 0., 0., 0., 0., 0., 0., 0., 0., 0., 0., 0.,\n        0., 0., 0., 0., 0., 0., 0., 0., 0., 0., 0., 0., 0., 0., 0., 0., 0.,\n        0., 0., 0., 0., 0., 0., 0., 0., 0., 0., 0., 0., 0., 0., 0., 0., 0.,\n        0., 0., 0., 0., 0., 0., 0., 0., 0., 0., 0., 0., 0., 0., 0., 0., 0.,\n        0., 0., 0., 0., 0., 0., 0., 0., 0., 0., 0., 0., 0., 0., 0., 0., 0.,\n        0., 0., 0., 0., 0., 0., 0., 0., 0., 0., 0., 0., 0., 0., 0., 0., 0.,\n        0., 0., 0., 0., 0., 0., 0., 0., 0., 0., 0., 0., 0., 0., 0., 0., 0.,\n        0., 0., 0., 0., 0., 0., 0., 0., 0., 0., 0., 0., 0., 0., 0., 0., 0.,\n        0., 0., 0., 0., 0., 0., 0., 0., 0., 0., 0., 0., 0., 0., 0., 0., 0.,\n        0., 0., 0., 0., 0., 0., 0., 0., 0., 0., 0., 0., 0., 0., 0., 0., 0.,\n        0., 0., 0., 0., 0., 0., 0., 0., 0., 0., 0., 0., 0., 0., 0., 0., 0.,\n        0., 0., 0., 0., 0., 0., 0., 0., 0., 0., 0., 0., 0., 0., 0., 0., 0.,\n        0., 0., 0., 0., 0., 0., 0., 0., 0., 0., 0., 0., 0., 0., 0., 0., 0.,\n        0., 0., 0., 0., 0., 0., 0., 0., 0., 0., 0., 0., 0., 0., 0., 0., 0.,\n        0., 0., 0., 0., 0., 0., 0., 0., 0., 0., 0., 0., 0., 0., 0., 0., 0.,\n        0., 0., 0., 0., 0., 0., 0., 0., 0., 0., 0., 0., 0., 0., 0., 0., 0.,\n        0., 0., 0., 0., 0., 0., 0., 0., 0., 0., 0., 0., 0., 0., 0., 0., 0.,\n        0., 0., 0., 0., 0., 0., 0., 0., 0., 0., 0., 0., 0., 0., 0., 0., 0.,\n        0., 0., 0., 0., 0., 0., 0., 0., 0., 0., 0., 0., 0., 0., 0., 0., 0.,\n        0., 0., 0., 0., 0., 0., 0., 0., 0., 0., 0., 0., 0., 0., 0., 0., 0.,\n        0., 0., 0., 0., 0., 0., 0., 0., 0., 0., 0., 0., 0., 0., 0., 0., 0.,\n        0., 0., 0., 0., 0., 0., 0., 0., 0., 0., 0., 0., 0., 0., 0., 0., 0.,\n        0., 0., 0., 0., 0., 0., 0., 0., 0., 0., 0., 0., 0., 0., 0., 0., 0.,\n        0., 0., 0., 0., 0., 0., 0., 0., 0., 0., 0., 0., 0., 0., 0., 0., 0.,\n        0., 0., 0., 0., 0., 0., 0., 0., 0., 0., 0., 0., 0., 0., 0., 0., 0.,\n        0., 0., 0., 0., 0., 0., 0., 0., 0., 0., 0., 0., 0., 0., 0., 0., 0.,\n        0., 0., 0.], dtype=float32),\n array([[ 0.00542068, -0.00307655,  0.01042175, ..., -0.17907715,\n          0.01216125,  0.06234741],\n        [ 0.01586914,  0.07995605, -0.00836945, ..., -0.07775879,\n          0.07000732, -0.02082825],\n        [-0.02200317,  0.10424805,  0.00598526, ..., -0.13903809,\n         -0.08215332,  0.00300217],\n        ...,\n        [-0.00126934,  0.02355957, -0.01329041, ..., -0.00678253,\n          0.01727295, -0.01348877],\n        [ 0.03414917, -0.01638794, -0.02520752, ...,  0.04064941,\n          0.03083801,  0.03546143],\n        [-0.03152466, -0.02142334, -0.00630569, ...,  0.02505493,\n          0.01085663, -0.06756592]], dtype=float32),\n array([-0.02700806, -0.14868164,  0.0579834 , ..., -0.08349609,\n        -0.07098389, -0.10955811], dtype=float32),\n array([[-3.1463623e-02, -1.7379761e-02,  4.1900635e-02, ...,\n          1.9134521e-02, -3.0426025e-02, -1.7791748e-02],\n        [ 3.7902832e-02, -9.2086792e-03,  2.5894165e-02, ...,\n          9.7656250e-03, -1.5144348e-02,  4.1809082e-02],\n        [-9.8083496e-02,  2.3007393e-05,  6.7214966e-03, ...,\n         -8.6450577e-04,  3.3966064e-02,  6.5673828e-02],\n        ...,\n        [-9.7961426e-02, -8.8623047e-02,  3.8482666e-02, ...,\n         -3.6296844e-03,  2.3452759e-02, -4.3725967e-04],\n        [ 9.1369629e-02,  1.5945435e-02,  1.2741089e-03, ...,\n         -1.1741638e-02, -2.2735596e-02,  4.5959473e-02],\n        [-1.5113831e-02,  4.8919678e-02,  4.6813965e-02, ...,\n          2.1209717e-02, -5.4107666e-02,  9.5642090e-02]], dtype=float32),\n array([-3.54919434e-02, -7.00473785e-04, -2.87933350e-02,  2.55126953e-02,\n         2.39257812e-02, -8.14819336e-02,  1.05346680e-01, -8.45947266e-02,\n        -3.41987610e-03, -2.05535889e-02,  3.06396484e-02, -1.27944946e-02,\n        -1.42211914e-01,  4.09240723e-02,  4.05502319e-03, -2.60772705e-02,\n         9.88006592e-03,  1.84478760e-02,  4.49218750e-02, -2.83813477e-02,\n        -9.29565430e-02, -1.57958984e-01,  2.38990784e-03,  6.73828125e-02,\n         2.05841064e-02, -2.15087891e-01,  1.39312744e-02,  1.15295410e-01,\n        -3.98254395e-02, -9.16290283e-03, -3.70178223e-02, -6.87599182e-04,\n         1.93176270e-02, -2.25067139e-02,  6.82983398e-02, -3.50646973e-02,\n        -4.50134277e-02,  4.56542969e-02,  5.06896973e-02,  3.72009277e-02,\n        -7.46459961e-02,  2.10418701e-02,  4.88586426e-02, -2.95104980e-02,\n        -3.17077637e-02,  1.38183594e-01, -6.74819946e-03,  6.04858398e-02,\n        -2.84118652e-02,  2.43835449e-02,  5.19104004e-02,  3.41186523e-02,\n        -8.35418701e-03,  2.90222168e-02, -2.92663574e-02,  2.88848877e-02,\n        -1.02172852e-01, -2.01416016e-02,  9.21020508e-02, -1.97753906e-02,\n         7.26318359e-03, -1.24389648e-01,  3.68041992e-02,  6.87866211e-02,\n         1.35620117e-01, -3.94592285e-02,  1.52664185e-02,  1.28936768e-02,\n        -1.23291016e-01,  7.08618164e-02,  5.97534180e-02, -6.85424805e-02,\n        -4.02526855e-02,  1.55105591e-02,  7.11059570e-02, -8.97827148e-02,\n         2.13470459e-02,  8.86840820e-02,  2.96173096e-02, -2.21557617e-02,\n         4.66156006e-03,  3.38134766e-02,  7.06176758e-02, -3.12194824e-02,\n        -5.97839355e-02, -3.78417969e-02,  1.07910156e-01,  5.96313477e-02,\n        -6.13403320e-02,  6.51855469e-02,  1.96533203e-02, -7.10296631e-03,\n         1.21383667e-02,  9.43603516e-02,  1.73339844e-02,  5.19104004e-02,\n        -5.33447266e-02,  2.05535889e-02,  7.34252930e-02, -1.02600098e-01,\n        -3.05557251e-03, -2.34222412e-02, -7.54394531e-02, -5.50231934e-02,\n        -5.84106445e-02, -3.87878418e-02,  9.99450684e-03,  7.92846680e-02,\n         6.09970093e-03, -4.66003418e-02, -1.63726807e-02,  9.85717773e-03,\n         7.51342773e-02, -3.86962891e-02, -1.33285522e-02, -5.32836914e-02,\n         5.33142090e-02,  4.55322266e-02,  1.26419067e-02,  1.94091797e-02,\n        -4.77905273e-02, -1.92504883e-01,  3.07559967e-04,  1.24664307e-02,\n         3.78723145e-02,  5.86547852e-02, -1.38282776e-03, -2.73284912e-02,\n         6.65283203e-02,  5.39779663e-03,  4.69665527e-02,  1.57623291e-02,\n         6.87255859e-02, -2.73742676e-02,  2.41699219e-02,  9.72900391e-02,\n         2.58331299e-02,  9.84497070e-02, -2.43682861e-02, -9.72900391e-02,\n        -3.57666016e-02, -9.55810547e-02,  1.02783203e-01, -2.25341797e-01,\n         5.48400879e-02, -2.61688232e-02,  3.14331055e-02,  4.33044434e-02,\n        -8.48999023e-02,  4.19311523e-02,  1.14929199e-01,  3.74450684e-02,\n         2.91595459e-02, -4.42199707e-02, -3.58581543e-02,  5.89599609e-02,\n        -6.06079102e-02,  8.59375000e-02, -8.92639160e-03, -1.93634033e-02,\n         3.30543518e-03,  8.92333984e-02,  1.20666504e-01, -8.66699219e-02,\n        -8.50830078e-02, -1.31454468e-02, -2.32696533e-02, -3.39965820e-02,\n        -3.77807617e-02, -8.98437500e-02,  5.73730469e-03,  7.50732422e-02,\n         6.17980957e-02,  1.12792969e-01,  6.15539551e-02,  3.82080078e-02,\n         1.61895752e-02,  8.68530273e-02, -1.31347656e-01,  1.33789062e-01,\n         7.58056641e-02, -6.26220703e-02,  2.77557373e-02,  1.00952148e-01,\n         7.24487305e-02, -5.74340820e-02,  6.15844727e-02, -3.77502441e-02,\n        -4.17480469e-02, -1.45629883e-01, -3.74450684e-02, -3.16772461e-02,\n        -2.05078125e-01, -4.44412231e-03,  6.17980957e-02,  6.78710938e-02,\n         7.70874023e-02, -2.49633789e-02, -1.00708008e-02, -1.30233765e-02,\n        -4.26635742e-02,  1.80053711e-02, -1.74522400e-04, -4.72106934e-02,\n        -1.94244385e-02,  1.90582275e-02,  2.89916992e-02, -9.78393555e-02,\n        -5.41076660e-02, -3.59296799e-04, -4.61730957e-02, -3.26538086e-02,\n         6.24694824e-02,  3.75671387e-02, -3.76892090e-02,  1.02416992e-01,\n        -1.16653442e-02,  4.38842773e-02, -1.20544434e-02,  6.23168945e-02,\n         1.69189453e-01, -1.84448242e-01,  6.13403320e-02,  6.73828125e-02,\n        -4.63867188e-03,  3.59191895e-02, -5.30700684e-02, -4.62341309e-03,\n         7.72705078e-02, -5.78918457e-02,  6.21032715e-02,  1.70898438e-02,\n         1.80053711e-02,  4.27246094e-03, -1.30737305e-01,  3.44238281e-02,\n        -5.88378906e-02, -4.94384766e-02, -9.97314453e-02,  7.89642334e-03,\n         4.59899902e-02,  1.87683105e-02, -8.05664062e-02,  4.74548340e-02,\n         1.61590576e-02,  8.27636719e-02,  2.41546631e-02, -2.85797119e-02,\n        -1.58813477e-01,  7.39746094e-02, -7.72094727e-02,  1.68457031e-02,\n         7.48901367e-02, -4.20227051e-02,  4.56237793e-02, -1.52954102e-01,\n         7.15942383e-02,  1.78680420e-02,  2.10418701e-02, -9.06372070e-02,\n        -9.17358398e-02,  1.68914795e-02,  7.95898438e-02,  7.14721680e-02,\n         2.18658447e-02,  3.14331055e-02, -6.19201660e-02, -3.83300781e-02,\n         1.12243652e-01, -1.60522461e-01, -3.78723145e-02,  2.49328613e-02,\n        -4.05273438e-02,  5.14526367e-02,  1.82037354e-02, -8.28247070e-02,\n         3.50036621e-02, -3.80554199e-02, -3.90625000e-03, -1.08480453e-04,\n        -1.20086670e-02, -7.59887695e-02,  3.55224609e-02, -4.59594727e-02,\n         4.37545776e-03, -1.05407715e-01, -1.21032715e-01, -8.62121582e-03,\n        -6.18896484e-02, -1.13449097e-02, -7.20977783e-03, -1.23443604e-02,\n         6.86035156e-02, -4.18472290e-03, -8.23364258e-02, -5.67321777e-02,\n        -6.20727539e-02, -2.18353271e-02, -3.71704102e-02,  6.06994629e-02,\n         6.08215332e-02,  3.41186523e-02, -5.98754883e-02,  1.31225586e-01,\n         1.01013184e-01, -1.66870117e-01,  6.31713867e-02, -6.70166016e-02,\n         1.22863770e-01,  2.64587402e-02,  1.85546875e-01, -5.97839355e-02,\n         1.88293457e-02, -5.56640625e-02, -1.64031982e-02,  1.45507812e-01,\n        -7.30133057e-03,  1.10015869e-02, -1.15417480e-01, -1.20735168e-03,\n         1.54876709e-03, -1.27319336e-01, -1.09313965e-01,  9.93347168e-03,\n         7.97729492e-02,  8.74023438e-02,  1.13220215e-02, -4.83703613e-02,\n        -8.44726562e-02,  2.29125977e-01, -5.09948730e-02, -1.07299805e-01,\n        -6.79931641e-02,  8.25500488e-03,  1.11511230e-01,  6.93893433e-03,\n        -7.59887695e-02, -2.44903564e-02, -1.89697266e-01, -5.96923828e-02,\n        -5.11779785e-02,  8.95023346e-04, -2.44522095e-03,  6.04553223e-02,\n        -4.94079590e-02, -1.33056641e-01,  3.64379883e-02, -8.12530518e-03,\n         3.17077637e-02,  4.40063477e-02,  4.71801758e-02,  3.14140320e-03,\n        -3.28063965e-02,  3.17993164e-02, -1.34643555e-01, -5.27038574e-02,\n        -3.90625000e-02, -1.20666504e-01, -1.97296143e-02, -1.33895874e-02,\n        -1.13098145e-01,  1.30386353e-02, -2.27050781e-02, -1.56127930e-01,\n        -2.85530090e-03, -2.84881592e-02, -8.41064453e-02,  2.40783691e-02,\n        -6.10656738e-02,  5.26733398e-02, -2.54631042e-03, -1.00769043e-01,\n         3.42407227e-02,  4.73327637e-02, -2.64739990e-02, -8.98437500e-02,\n        -4.94079590e-02, -1.23596191e-02, -5.93872070e-02,  3.09295654e-02,\n         7.08007812e-02,  1.02355957e-01,  3.77416611e-04,  6.74438477e-02,\n         1.39282227e-01,  1.11389160e-01,  1.01928711e-01, -1.25045776e-02,\n        -2.91442871e-02,  3.51257324e-02,  3.03192139e-02, -1.09313965e-01,\n        -4.08325195e-02,  8.61206055e-02,  1.41235352e-01, -1.78344727e-01,\n         1.15203857e-02, -2.52227783e-02, -1.30767822e-02,  7.76977539e-02,\n         5.69152832e-02, -8.04443359e-02,  1.59545898e-01,  2.75268555e-02,\n         5.18493652e-02, -9.27734375e-02, -4.08020020e-02,  1.73187256e-02,\n         9.20410156e-02,  2.02789307e-02, -8.48388672e-03,  1.19995117e-01,\n        -6.96411133e-02,  5.61828613e-02, -1.81579590e-02,  3.61328125e-02,\n        -1.13449097e-02,  2.72674561e-02,  1.08261108e-02,  6.26220703e-02,\n        -6.01196289e-02, -4.87976074e-02, -3.95507812e-02, -3.03649902e-02,\n         5.37414551e-02, -5.05371094e-02,  5.69152832e-02, -3.12347412e-02,\n        -8.83178711e-02, -6.22558594e-02, -4.55017090e-02,  4.93469238e-02,\n        -4.66308594e-02, -9.83428955e-03,  1.15173340e-01, -1.73950195e-03,\n        -9.98535156e-02,  8.58154297e-02, -1.17553711e-01,  1.45950317e-02,\n         2.42996216e-03, -1.63574219e-01, -3.84521484e-02,  6.15844727e-02,\n        -5.26733398e-02, -1.12426758e-01,  9.37652588e-03, -5.73730469e-03,\n        -2.39562988e-02,  9.97314453e-02,  2.19970703e-01, -5.85021973e-02,\n         7.62176514e-03,  1.42822266e-01, -4.55627441e-02,  9.77172852e-02,\n         3.35998535e-02,  1.70993805e-03,  1.19262695e-01,  8.75854492e-02,\n        -1.09375000e-01, -1.23291016e-01, -3.67126465e-02, -3.07312012e-02,\n         1.78955078e-01,  1.51367188e-01,  1.54663086e-01, -8.53881836e-02,\n        -4.78210449e-02,  8.59375000e-02, -5.32226562e-02,  1.13769531e-01,\n         1.36596680e-01, -5.63964844e-02,  1.67083740e-02, -8.79669189e-03,\n        -2.99530029e-02,  1.18225098e-01,  2.26318359e-01,  2.85720825e-03,\n        -7.18994141e-02,  1.01623535e-01,  9.03320312e-03, -3.86047363e-02,\n         2.94647217e-02,  6.17675781e-02,  3.92150879e-02,  6.56127930e-02,\n         5.23376465e-02,  7.36083984e-02,  3.36608887e-02, -2.21862793e-02,\n        -2.61383057e-02,  7.62329102e-02,  2.09808350e-02, -1.54296875e-01,\n        -8.15391541e-04,  1.64489746e-02, -1.76696777e-02, -5.14221191e-03,\n        -1.05529785e-01, -8.39233398e-02, -8.66699219e-02, -1.01074219e-01,\n         1.85791016e-01,  5.97839355e-02,  1.47583008e-01,  9.56654549e-05,\n        -6.76879883e-02,  1.45385742e-01,  1.08886719e-01,  5.41992188e-02,\n        -9.97314453e-02,  8.14819336e-02,  6.42700195e-02, -1.98364258e-03,\n        -7.87963867e-02, -6.05468750e-02, -1.03225708e-02, -4.39147949e-02,\n         3.00445557e-02,  1.18560791e-02, -2.13775635e-02,  1.54418945e-01,\n         3.81278992e-03, -2.15301514e-02,  5.57861328e-02, -6.72149658e-03,\n         2.80761719e-02, -2.78625488e-02,  7.18383789e-02, -5.41381836e-02,\n         6.43920898e-02, -3.84521484e-02, -3.78112793e-02, -2.78564453e-01,\n         7.42187500e-02, -1.10702515e-02, -2.21252441e-02,  4.78210449e-02,\n         8.43811035e-03, -1.43188477e-01,  6.63452148e-02, -1.03073120e-02,\n         1.55517578e-01, -9.24682617e-02, -1.11694336e-02,  4.72717285e-02,\n        -2.81829834e-02, -1.16638184e-01,  1.07574463e-02, -7.91015625e-02,\n         1.07116699e-02, -2.17773438e-01, -1.10473633e-01, -8.12988281e-02,\n        -1.12915039e-02,  1.59606934e-02, -3.12500000e-02, -2.37426758e-02,\n         1.95159912e-02,  2.14691162e-02, -8.39843750e-02, -6.32324219e-02,\n        -6.51931763e-03, -7.51342773e-02, -4.67529297e-02, -1.33819580e-02,\n         3.43017578e-02,  5.11932373e-03, -4.32205200e-03, -1.86614990e-02,\n         7.53402710e-03,  5.55419922e-02,  8.66699219e-03,  4.88891602e-02,\n         1.46179199e-02, -1.51672363e-02,  4.24499512e-02,  2.74505615e-02,\n        -4.42504883e-02,  1.69982910e-02,  4.65698242e-02,  4.72717285e-02,\n        -6.84204102e-02, -3.54919434e-02,  2.00653076e-02,  4.66918945e-02,\n         4.76318359e-01,  8.20159912e-03,  1.46972656e-01, -1.21765137e-01,\n         1.57260895e-03,  5.51147461e-02, -1.92718506e-02,  1.15905762e-01,\n         3.74755859e-02, -6.60705566e-03,  1.71386719e-01,  1.78100586e-01,\n        -1.16027832e-01, -2.38342285e-02, -5.01155853e-04, -2.77099609e-02,\n        -8.65478516e-02,  1.51596069e-02, -1.17370605e-01,  1.12152100e-02,\n         3.62243652e-02,  8.84399414e-02,  6.52465820e-02,  5.94177246e-02,\n        -2.79388428e-02, -2.45056152e-02, -9.03930664e-02, -3.44543457e-02,\n         2.21405029e-02, -4.67834473e-02, -2.32543945e-02, -1.21887207e-01,\n         3.65295410e-02, -6.19201660e-02, -2.63214111e-02,  2.54211426e-02,\n         3.83911133e-02, -1.34887695e-02,  8.94165039e-02,  8.99047852e-02,\n        -2.00958252e-02,  1.10412598e-01,  4.74243164e-02, -1.26342773e-01,\n        -6.71386719e-03,  4.15649414e-02, -6.54907227e-02, -2.18811035e-02,\n         2.04772949e-02,  1.08623505e-03, -5.41992188e-02, -5.88378906e-02,\n        -4.41360474e-03,  9.52148438e-03,  7.05566406e-02, -3.21350098e-02,\n        -9.88006592e-03, -6.95800781e-02,  5.17883301e-02,  5.30700684e-02,\n         1.68579102e-01,  2.59094238e-02, -1.30249023e-01, -9.00268555e-02,\n        -1.54800415e-02, -5.50231934e-02, -3.48205566e-02, -2.36206055e-02,\n        -9.22851562e-02,  9.26971436e-03, -1.74560547e-02, -8.48999023e-02,\n         1.40190125e-03,  1.20666504e-01, -6.23779297e-02,  7.39135742e-02,\n         3.00445557e-02, -1.45339966e-02, -1.23352051e-01, -2.01568604e-02,\n         1.44531250e-01, -3.63159180e-02,  6.32934570e-02, -3.96423340e-02,\n         2.00958252e-02,  4.96520996e-02, -2.83203125e-02, -8.60595703e-02,\n         3.53698730e-02, -4.68063354e-03,  8.70361328e-02,  1.39038086e-01,\n        -4.24194336e-02,  6.08520508e-02,  5.37414551e-02, -4.27246094e-02,\n        -4.82177734e-02,  5.53283691e-02, -2.07275391e-01,  5.00488281e-02,\n        -7.00073242e-02, -5.43518066e-02, -1.10321045e-02,  4.65087891e-02,\n         7.06787109e-02,  6.24084473e-02,  4.88281250e-03, -7.02514648e-02,\n        -4.71191406e-02, -8.03833008e-02, -2.62603760e-02,  3.27148438e-02,\n        -4.94384766e-02,  1.02539062e-01, -8.10546875e-02,  2.08740234e-01,\n        -4.57153320e-02, -2.98461914e-02,  1.40686035e-02,  1.01562500e-01,\n         1.98211670e-02, -2.05383301e-02, -1.24389648e-01, -1.61865234e-01,\n         2.82287598e-02, -6.13403320e-02,  5.47180176e-02, -5.98754883e-02,\n         8.39996338e-03, -6.20422363e-02,  1.46484375e-02,  1.23840332e-01,\n         5.16967773e-02,  5.08422852e-02,  7.38906860e-03,  8.05664062e-02,\n         4.25415039e-02,  6.42700195e-02,  1.01318359e-01, -5.97000122e-03,\n        -2.47650146e-02, -6.13098145e-02,  3.10058594e-02, -6.15234375e-02,\n         4.38232422e-02, -6.86645508e-03,  2.58827209e-03, -2.06298828e-02,\n        -5.55725098e-02, -1.11877441e-01,  5.48095703e-02, -1.70410156e-01,\n        -4.08020020e-02,  4.64172363e-02, -4.14123535e-02,  4.27246094e-02,\n        -8.33740234e-02,  5.63659668e-02,  1.10717773e-01, -1.38305664e-01,\n         6.87255859e-02, -5.93566895e-02,  9.90600586e-02, -4.12292480e-02,\n         3.77502441e-02, -6.99462891e-02,  9.86938477e-02,  4.90112305e-02,\n        -4.05273438e-02, -1.07421875e-01,  5.08880615e-03, -3.89404297e-02,\n        -8.88671875e-02,  3.41224670e-03, -8.22143555e-02, -1.07040405e-02,\n        -7.29980469e-02,  2.76336670e-02, -1.26464844e-01, -1.30249023e-01],\n       dtype=float32),\n array([0.43286133, 0.7001953 , 0.5786133 , 0.7265625 , 0.72021484,\n        0.703125  , 0.59375   , 0.6191406 , 0.6333008 , 0.6176758 ,\n        0.79833984, 0.77001953, 0.6171875 , 0.84472656, 0.71728516,\n        0.8613281 , 0.7373047 , 0.71484375, 0.5756836 , 0.77001953,\n        0.6245117 , 0.50439453, 0.64990234, 0.62109375, 0.7241211 ,\n        0.55322266, 0.5913086 , 0.53564453, 0.69970703, 0.7114258 ,\n        0.62109375, 0.6386719 , 0.57714844, 0.57666016, 0.8330078 ,\n        0.35742188, 0.6220703 , 0.5761719 , 0.828125  , 0.6254883 ,\n        0.7128906 , 0.7861328 , 0.61376953, 0.5336914 , 0.5595703 ,\n        0.56689453, 0.7553711 , 0.94189453, 0.4387207 , 0.6020508 ,\n        0.70703125, 0.39257812, 0.6269531 , 0.5415039 , 0.56591797,\n        0.7373047 , 0.4267578 , 0.73291016, 0.62939453, 0.6538086 ,\n        0.7055664 , 0.9213867 , 0.6430664 , 0.7182617 , 0.5708008 ,\n        0.6357422 , 0.56640625, 0.74658203, 0.59033203, 0.6845703 ,\n        0.57910156, 0.57421875, 0.37841797, 0.7783203 , 0.55810547,\n        0.8339844 , 0.703125  , 1.0009766 , 0.62109375, 0.7675781 ,\n        0.5786133 , 0.7080078 , 0.875     , 0.734375  , 0.7324219 ,\n        0.7167969 , 0.5390625 , 0.7060547 , 0.56884766, 0.5571289 ,\n        0.70214844, 0.6152344 , 0.57177734, 0.7324219 , 0.5527344 ,\n        0.71972656, 0.62060547, 0.7626953 , 0.31396484, 0.7290039 ,\n        0.73339844, 0.55810547, 0.67041016, 0.44555664, 0.6538086 ,\n        0.8183594 , 0.7578125 , 0.6816406 , 0.53222656, 0.5493164 ,\n        0.82958984, 0.7441406 , 0.6972656 , 0.6430664 , 0.6010742 ,\n        0.68408203, 0.5834961 , 0.6542969 , 0.57128906, 0.80078125,\n        0.57666016, 0.5566406 , 0.7680664 , 0.79296875, 0.71875   ,\n        0.7553711 , 0.6245117 , 0.63183594, 0.63623047, 0.40478516,\n        0.3347168 , 0.7480469 , 0.5756836 , 0.74609375, 0.5703125 ,\n        0.5722656 , 0.71240234, 0.5991211 , 0.5913086 , 0.54785156,\n        0.5776367 , 0.68603516, 0.56689453, 0.6201172 , 0.83203125,\n        0.33520508, 0.50439453, 0.5209961 , 0.7685547 , 0.66015625,\n        0.60595703, 0.67578125, 0.6113281 , 0.62646484, 0.67089844,\n        0.6772461 , 0.77490234, 0.7192383 , 0.7241211 , 0.7680664 ,\n        0.50634766, 0.8408203 , 0.5439453 , 0.6152344 , 0.52441406,\n        0.5957031 , 0.7416992 , 0.67529297, 0.5366211 , 0.72021484,\n        0.68066406, 0.6801758 , 0.55371094, 0.5209961 , 0.6040039 ,\n        0.5253906 , 0.6928711 , 0.6323242 , 0.4104004 , 0.5410156 ,\n        0.71484375, 0.60546875, 0.6357422 , 0.5834961 , 0.60595703,\n        0.76171875, 0.5751953 , 0.7246094 , 0.6767578 , 0.5390625 ,\n        0.61572266, 0.5761719 , 0.5839844 , 0.78222656, 0.5908203 ,\n        0.69384766, 0.6044922 , 0.5263672 , 0.7158203 , 0.50683594,\n        0.54345703, 0.5517578 , 0.7973633 , 0.42211914, 0.8154297 ,\n        0.60791016, 0.7236328 , 0.36279297, 0.5620117 , 0.72753906,\n        0.50878906, 0.7866211 , 0.61572266, 0.7207031 , 0.8833008 ,\n        0.8227539 , 0.6455078 , 0.8964844 , 0.68066406, 0.78027344,\n        0.51953125, 0.37109375, 0.7060547 , 0.56933594, 0.7138672 ,\n        0.7011719 , 0.54052734, 0.60009766, 0.6557617 , 0.6699219 ,\n        0.5576172 , 0.7294922 , 0.7602539 , 0.6274414 , 0.6303711 ,\n        0.75097656, 0.42236328, 0.5385742 , 0.57373047, 0.4350586 ,\n        0.87402344, 0.58154297, 0.5917969 , 0.66796875, 0.5957031 ,\n        0.703125  , 0.6225586 , 0.7675781 , 0.5107422 , 0.6855469 ,\n        0.6796875 , 0.7216797 , 0.6425781 , 0.6118164 , 0.70654297,\n        0.56933594, 0.56884766, 0.4560547 , 0.68603516, 0.69970703,\n        0.53125   , 0.7080078 , 0.65771484, 0.55566406, 0.6665039 ,\n        0.79003906, 0.56103516, 0.51904297, 0.5722656 , 0.34326172,\n        0.63378906, 0.5517578 , 0.58935547, 0.640625  , 0.6464844 ,\n        0.53466797, 0.42016602, 0.58740234, 0.9550781 , 0.6328125 ,\n        0.59033203, 0.6694336 , 0.71435547, 0.53125   , 0.55322266,\n        0.5234375 , 0.5629883 , 0.8066406 , 0.5449219 , 0.5288086 ,\n        0.5541992 , 0.69628906, 0.66259766, 0.67333984, 0.5834961 ,\n        0.66259766, 0.6611328 , 0.70410156, 0.4555664 , 0.62109375,\n        0.7236328 , 0.6357422 , 0.75634766, 0.6748047 , 0.57373047,\n        0.5058594 , 0.72265625, 0.5307617 , 0.6772461 , 0.66552734,\n        0.52441406, 0.5800781 , 0.5419922 , 0.5522461 , 0.5786133 ,\n        0.6298828 , 0.6533203 , 0.6645508 , 0.5366211 , 0.60058594,\n        0.56103516, 0.39257812, 0.52197266, 0.37353516, 0.77490234,\n        0.53808594, 0.7260742 , 0.7973633 , 0.64697266, 0.39868164,\n        0.6845703 , 0.5395508 , 0.33569336, 0.73583984, 0.5180664 ,\n        0.5600586 , 0.44458008, 0.6098633 , 0.63134766, 0.625     ,\n        0.7270508 , 0.60791016, 0.7241211 , 0.54052734, 0.58447266,\n        0.6435547 , 0.57470703, 0.6748047 , 0.67822266, 0.6816406 ,\n        0.3708496 , 0.5488281 , 0.5341797 , 0.6484375 , 0.60253906,\n        0.6767578 , 0.6069336 , 0.6923828 , 0.62158203, 0.7753906 ,\n        0.6503906 , 0.83984375, 0.45507812, 0.6743164 , 0.6459961 ,\n        0.6923828 , 0.6875    , 0.6879883 , 0.4104004 , 0.5185547 ,\n        0.5415039 , 0.6323242 , 0.52001953, 0.74902344, 0.6435547 ,\n        0.6176758 , 0.7783203 , 0.68652344, 0.78564453, 0.60058594,\n        0.56591797, 0.58691406, 0.63623047, 0.51953125, 0.5839844 ,\n        0.67041016, 0.68115234, 0.7138672 , 0.61376953, 0.33007812,\n        0.66308594, 0.5673828 , 0.67578125, 0.62890625, 0.3190918 ,\n        0.54052734, 0.7270508 , 0.7470703 , 0.7324219 , 0.5991211 ,\n        0.5595703 , 0.6269531 , 0.5786133 , 0.7055664 , 0.5961914 ,\n        0.78515625, 0.70654297, 0.6245117 , 0.8017578 , 0.90234375,\n        0.57714844, 0.7207031 , 0.55371094, 0.64208984, 0.74609375,\n        0.6069336 , 0.6953125 , 0.8876953 , 0.65771484, 0.6767578 ,\n        0.61621094, 0.3642578 , 0.58740234, 0.5625    , 0.7080078 ,\n        0.5961914 , 0.5761719 , 0.70996094, 0.7792969 , 0.5029297 ,\n        0.64453125, 0.6328125 , 0.7294922 , 0.6645508 , 0.6743164 ,\n        0.5161133 , 0.56933594, 0.5996094 , 0.5859375 , 0.5942383 ,\n        0.6542969 , 0.4038086 , 0.609375  , 0.6455078 , 0.5288086 ,\n        0.5317383 , 0.73876953, 0.40405273, 0.5673828 , 0.68066406,\n        0.42211914, 0.72558594, 0.7324219 , 0.94873047, 0.6142578 ,\n        0.5180664 , 0.5854492 , 0.6328125 , 0.66308594, 0.5522461 ,\n        0.6850586 , 0.60253906, 0.56103516, 0.5966797 , 0.5991211 ,\n        0.6640625 , 0.5361328 , 0.41601562, 0.71191406, 0.5908203 ,\n        0.6376953 , 0.53515625, 0.55566406, 0.65185547, 0.61328125,\n        0.63183594, 0.3918457 , 0.66308594, 0.4182129 , 0.5332031 ,\n        0.5776367 , 0.57128906, 0.5151367 , 0.50683594, 0.5839844 ,\n        0.6376953 , 0.7207031 , 0.43945312, 0.59472656, 0.51464844,\n        0.60253906, 0.75927734, 0.73046875, 0.62841797, 0.39892578,\n        0.6040039 , 0.91845703, 0.7441406 , 0.8046875 , 0.67626953,\n        0.36572266, 0.56103516, 0.62841797, 0.6713867 , 0.5517578 ,\n        0.6953125 , 0.4399414 , 0.5258789 , 0.56152344, 0.50878906,\n        0.6098633 , 0.6923828 , 0.5751953 , 0.5605469 , 0.3544922 ,\n        0.65966797, 0.7084961 , 0.5966797 , 0.74072266, 0.87158203,\n        0.6376953 , 0.63378906, 0.6171875 , 0.5698242 , 0.6401367 ,\n        0.42260742, 0.6826172 , 0.58154297, 0.51708984, 0.7246094 ,\n        0.64746094, 0.53808594, 0.59716797, 0.5439453 , 0.6171875 ,\n        0.36254883, 0.6308594 , 0.6118164 , 0.79541016, 0.58447266,\n        0.8544922 , 0.71191406, 0.5703125 , 0.6040039 , 0.328125  ,\n        0.60595703, 0.7104492 , 0.4338379 , 0.6328125 , 0.6665039 ,\n        0.70458984, 0.97802734, 0.61279297, 0.5410156 , 0.63916016,\n        0.51904297, 0.69384766, 0.6376953 , 0.59765625, 0.7080078 ,\n        0.5551758 , 0.7807617 , 0.5576172 , 0.53125   , 0.7163086 ,\n        0.64453125, 0.5283203 , 0.58251953, 0.5698242 , 0.68603516,\n        0.7890625 , 0.53759766, 0.51220703, 0.9272461 , 0.70166016,\n        0.55810547, 0.6123047 , 0.8149414 , 0.7050781 , 0.6977539 ,\n        0.7807617 , 0.54589844, 0.5942383 , 0.71484375, 0.6225586 ,\n        0.6533203 , 0.69873047, 0.43115234, 0.9345703 , 0.4482422 ,\n        0.5341797 , 0.5722656 , 0.6386719 , 0.50341797, 0.61816406,\n        0.5629883 , 0.57910156, 0.58740234, 0.53808594, 0.62841797,\n        0.5136719 , 0.66064453, 0.44384766, 0.6533203 , 0.78759766,\n        0.6376953 , 0.7026367 , 0.6489258 , 0.6455078 , 0.74658203,\n        0.5126953 , 0.7109375 , 0.43652344, 0.6123047 , 0.5419922 ,\n        0.63378906, 0.4387207 , 0.6333008 , 0.65722656, 0.703125  ,\n        0.5800781 , 0.41381836, 0.3857422 , 0.71435547, 0.96435547,\n        0.6069336 , 0.56689453, 0.6645508 , 0.54248047, 0.5292969 ,\n        0.6113281 , 0.33666992, 0.5180664 , 0.57470703, 0.79052734,\n        0.61279297, 0.5522461 , 0.5546875 , 0.77246094, 0.51904297,\n        0.5048828 , 0.73583984, 0.50390625, 0.6279297 , 0.63623047,\n        0.54003906, 0.56347656, 0.7167969 , 0.5493164 , 0.5698242 ,\n        0.5942383 , 0.6508789 , 0.88134766, 0.7104492 , 0.55029297,\n        0.79589844, 0.8730469 , 0.46533203, 0.60253906, 0.6586914 ,\n        0.7060547 , 0.66552734, 0.72753906, 0.70458984, 0.79785156,\n        0.5859375 , 0.5942383 , 0.59277344, 0.6230469 , 0.5708008 ,\n        0.54296875, 0.67041016, 0.75683594, 0.6586914 , 0.6791992 ,\n        0.67041016, 0.84277344, 0.70996094, 0.69677734, 0.36669922,\n        0.5361328 , 0.5600586 , 0.63427734, 0.7314453 , 0.6748047 ,\n        0.6479492 , 0.38134766, 0.43603516, 0.62060547, 0.69921875,\n        0.61865234, 0.3515625 , 0.60058594, 0.68115234, 0.7260742 ,\n        0.6982422 , 0.6713867 , 0.5917969 , 0.6279297 , 0.68359375,\n        0.60009766, 0.6040039 , 0.70947266, 0.3671875 , 0.54248047,\n        0.6538086 , 0.5698242 , 0.6821289 , 0.6230469 , 0.61621094,\n        0.43701172, 0.37475586, 0.6616211 , 0.75634766, 0.6484375 ,\n        0.5917969 , 0.69384766, 0.41552734, 0.8432617 , 0.5917969 ,\n        0.74072266, 0.5498047 , 0.671875  , 0.5571289 , 0.7211914 ,\n        0.55322266, 0.6333008 , 0.63134766, 0.78125   , 0.6816406 ,\n        0.66015625, 0.80371094, 0.6958008 , 0.7919922 , 0.65234375,\n        0.828125  , 0.6269531 , 0.6333008 , 0.6875    , 0.5942383 ,\n        0.75634766, 0.78222656, 0.78466797, 0.54785156, 0.54052734,\n        0.6933594 , 0.57177734, 0.59228516, 0.7133789 , 0.8208008 ,\n        0.71484375, 0.7241211 , 0.93896484, 0.5649414 , 0.72021484,\n        0.55078125, 0.7133789 , 0.6196289 , 0.72314453, 0.68115234,\n        0.5307617 , 0.6015625 , 0.7260742 , 0.5917969 , 0.78125   ,\n        0.76660156, 0.6064453 , 0.65283203], dtype=float32),\n array([ 7.23876953e-02,  7.62939453e-02,  9.87243652e-03, -2.51159668e-02,\n         4.26635742e-02,  9.11254883e-02,  8.19702148e-02,  2.00042725e-02,\n         3.52783203e-02,  1.60980225e-02,  8.63037109e-02,  3.03497314e-02,\n         5.90209961e-02,  3.96423340e-02,  2.03399658e-02,  8.62426758e-02,\n        -1.39427185e-03,  8.06274414e-02, -3.51867676e-02,  1.48849487e-02,\n         5.15747070e-02,  7.45239258e-02,  2.90679932e-02,  1.56021118e-02,\n         9.46044922e-02,  2.12554932e-02,  6.55517578e-02,  4.64782715e-02,\n         4.17480469e-02,  1.04187012e-01,  7.39746094e-02,  3.96728516e-02,\n         4.97131348e-02,  1.55258179e-02,  8.75854492e-02,  4.76074219e-03,\n         5.36193848e-02,  5.71594238e-02, -2.73132324e-02,  3.12194824e-02,\n         5.41076660e-02,  1.06018066e-01,  5.64880371e-02, -4.18090820e-03,\n         1.98059082e-02,  3.17077637e-02,  5.74951172e-02,  3.40087891e-01,\n         3.45153809e-02,  3.81469727e-02,  9.61303711e-03,  3.07617188e-02,\n         9.60083008e-02,  7.98950195e-02,  7.17773438e-02, -1.46255493e-02,\n         8.06274414e-02,  3.08990479e-02,  8.78906250e-03, -1.62811279e-02,\n        -4.78210449e-02,  3.60412598e-02,  1.27868652e-02,  2.24456787e-02,\n         3.07655334e-03,  5.81970215e-02,  5.78918457e-02,  4.47692871e-02,\n         9.24682617e-02,  8.19091797e-02,  5.04455566e-02,  2.29949951e-02,\n         2.95410156e-02,  1.02722168e-01,  2.09045410e-02,  1.67480469e-01,\n         2.69317627e-02,  5.00000000e-01,  1.03759766e-01, -8.72192383e-02,\n         4.83093262e-02,  6.37817383e-02,  2.49145508e-01,  5.39855957e-02,\n        -5.52368164e-02,  4.99267578e-02,  6.15539551e-02,  3.54919434e-02,\n         7.15332031e-02,  1.71661377e-02,  3.18908691e-02,  5.81665039e-02,\n         1.49002075e-02,  2.83966064e-02,  3.12500000e-02,  3.23867798e-03,\n         6.17980957e-02,  4.01000977e-02,  3.56445312e-02, -3.20739746e-02,\n        -2.56652832e-02,  4.41284180e-02,  9.04541016e-02,  3.20434570e-02,\n         7.67822266e-02,  1.98745728e-03,  7.34863281e-02, -4.29687500e-02,\n        -3.25927734e-02,  4.08935547e-02,  5.11718750e-01, -4.11682129e-02,\n         3.28979492e-02,  2.00042725e-02,  6.69555664e-02,  1.82647705e-02,\n        -1.62048340e-02,  3.09295654e-02,  5.59692383e-02, -8.44116211e-02,\n         7.77435303e-03,  7.26928711e-02,  7.62329102e-02,  2.42767334e-02,\n         9.00878906e-02, -1.88903809e-02,  4.26330566e-02,  6.83593750e-02,\n         5.46264648e-02, -1.19781494e-02,  3.58886719e-02,  6.96411133e-02,\n         4.01916504e-02,  1.55792236e-02,  1.58996582e-02,  1.49688721e-02,\n         6.32934570e-02,  5.82275391e-02,  3.97949219e-02,  4.25415039e-02,\n         1.37710571e-02, -2.60314941e-02,  5.45043945e-02,  6.95190430e-02,\n        -8.46557617e-02,  3.15551758e-02,  1.67846680e-02, -3.25012207e-02,\n         6.67724609e-02,  4.87060547e-02,  7.66601562e-02,  5.29174805e-02,\n         3.00903320e-02,  2.10418701e-02,  4.13513184e-02,  4.41589355e-02,\n         6.04248047e-03, -2.17895508e-02,  1.00341797e-01, -1.74560547e-02,\n         2.37426758e-02, -3.69262695e-02, -2.16484070e-03,  4.64630127e-03,\n        -1.24893188e-02,  3.48815918e-02,  8.57543945e-02, -1.04446411e-02,\n         5.91278076e-03,  4.37316895e-02,  4.74548340e-02,  9.93041992e-02,\n         1.65557861e-02,  1.93481445e-02,  4.15344238e-02,  1.24664307e-02,\n         5.34057617e-02,  3.32336426e-02,  3.00140381e-02,  2.50549316e-02,\n        -3.77082825e-03,  1.96228027e-02,  6.86264038e-03,  2.79388428e-02,\n         1.41906738e-02,  6.02722168e-02,  5.68237305e-02,  9.83886719e-02,\n         4.31823730e-02,  4.16870117e-02,  3.81774902e-02,  3.78112793e-02,\n        -5.32531738e-02, -1.84478760e-02,  2.95410156e-02,  5.24597168e-02,\n         4.90722656e-02,  2.64129639e-02,  5.88378906e-02,  6.24389648e-02,\n         5.39855957e-02,  1.23413086e-01,  4.09851074e-02,  3.09448242e-02,\n        -7.18994141e-02,  6.37207031e-02,  4.71496582e-02, -2.13813782e-03,\n         3.84826660e-02, -1.08642578e-02,  8.11157227e-02, -1.18408203e-02,\n         3.28674316e-02,  4.45556641e-02,  8.25195312e-02,  1.21582031e-01,\n         2.91137695e-02,  4.99511719e-01, -2.66456604e-03,  1.16699219e-01,\n         1.43170357e-04, -2.72064209e-02, -1.80358887e-02,  3.66210938e-02,\n         1.61590576e-02,  9.79614258e-03,  2.27813721e-02,  5.32531738e-02,\n         3.53088379e-02,  1.84535980e-03,  2.83660889e-02,  9.95483398e-02,\n         5.60302734e-02,  4.16870117e-02,  5.51452637e-02,  6.11267090e-02,\n         5.04150391e-02,  4.23583984e-02,  2.81715393e-03,  3.03649902e-02,\n         2.42431641e-01,  1.21002197e-02,  3.07922363e-02,  1.98669434e-02,\n         5.73730469e-02,  1.16424561e-02,  6.63452148e-02,  6.50634766e-02,\n        -1.52587891e-03, -2.79545784e-05,  9.42993164e-02, -4.72640991e-03,\n         5.85327148e-02,  2.24761963e-02,  1.85089111e-02,  3.66516113e-02,\n         7.21435547e-02,  2.07214355e-02,  2.61840820e-02,  1.03294849e-04,\n         5.55038452e-03,  1.22558594e-01, -6.13403320e-03,  1.48239136e-02,\n         5.62133789e-02,  3.01513672e-02,  4.40063477e-02, -6.33716583e-04,\n         1.32064819e-02,  7.85522461e-02,  7.81536102e-04,  5.59997559e-02,\n         5.72509766e-02,  2.12860107e-02,  3.72009277e-02,  4.59289551e-02,\n        -4.85992432e-03,  9.67407227e-02,  3.92333984e-01,  3.28063965e-02,\n         8.52966309e-03,  1.99584961e-02,  1.12670898e-01,  1.51672363e-02,\n         2.98004150e-02,  3.97644043e-02,  2.13623047e-03, -3.58009338e-03,\n         4.89807129e-03,  3.00140381e-02, -1.14517212e-02,  1.03881836e-01,\n         2.46124268e-02,  4.74548340e-02,  2.49938965e-02,  6.73217773e-02,\n         8.36791992e-02,  3.80859375e-02,  5.54504395e-02,  8.31604004e-03,\n         1.01776123e-02, -1.16062164e-03,  1.06430054e-02,  2.86102295e-02,\n         1.71203613e-02,  5.72204590e-02,  4.14733887e-02,  1.49841309e-02,\n         7.26318359e-02, -2.02941895e-02,  2.75726318e-02,  3.18603516e-02,\n         7.28988647e-03,  3.88793945e-02,  3.63159180e-02,  1.87072754e-02,\n        -1.12991333e-02,  5.52978516e-02,  6.17370605e-02,  9.02099609e-02,\n         1.72424316e-02, -3.58886719e-02,  1.61075592e-03,  7.40432739e-03,\n         8.53271484e-02,  1.22604370e-02,  9.28955078e-02,  1.12609863e-01,\n         3.07006836e-02,  3.91845703e-02, -2.44598389e-02,  4.18090820e-02,\n         2.77280807e-04,  1.45187378e-02,  4.88281250e-02,  4.46166992e-02,\n        -7.11441040e-03,  5.04455566e-02,  1.28173828e-02,  9.40704346e-03,\n         6.93969727e-02,  1.15432739e-02,  7.29980469e-02,  4.54406738e-02,\n        -9.01031494e-03,  6.08825684e-02,  6.14013672e-02, -1.05651855e-01,\n         4.91638184e-02,  7.68432617e-02, -8.20922852e-02,  5.87158203e-02,\n         1.10168457e-02,  4.11682129e-02,  6.90307617e-02,  8.50219727e-02,\n         6.92749023e-02, -4.52270508e-02,  9.59777832e-03,  4.94689941e-02,\n         6.21032715e-02, -1.11877441e-01,  5.16510010e-03,  4.94384766e-02,\n         7.10449219e-02,  5.89294434e-02,  6.52465820e-02,  4.47082520e-02,\n         5.24291992e-02,  2.51922607e-02,  4.24499512e-02,  1.97753906e-02,\n         6.15844727e-02,  7.15942383e-02,  4.10461426e-02,  7.45849609e-02,\n         1.51062012e-02,  6.99462891e-02, -1.39541626e-02,  3.95507812e-02,\n         3.82385254e-02,  2.90222168e-02,  3.89404297e-02,  5.45043945e-02,\n         5.47180176e-02,  5.88073730e-02,  6.83975220e-03,  6.18743896e-03,\n         4.05273438e-02,  9.28497314e-03,  2.77862549e-02,  8.78906250e-02,\n         3.43017578e-02,  4.98046875e-02,  1.26724243e-02,  2.33917236e-02,\n         2.56958008e-02,  8.28857422e-02,  7.91625977e-02, -2.30407715e-02,\n         2.49328613e-02,  3.51562500e-02,  5.75256348e-03, -1.82914734e-03,\n         6.08215332e-02,  2.72178650e-03,  9.08203125e-02,  7.22045898e-02,\n         6.40869141e-02,  2.63671875e-01,  3.12042236e-03,  9.51538086e-02,\n         3.33862305e-02,  3.80554199e-02,  5.89294434e-02,  3.22875977e-02,\n         1.81427002e-02,  1.63696289e-01,  3.36914062e-02,  8.72802734e-03,\n         3.63159180e-02,  1.05972290e-02,  6.22863770e-02,  1.54418945e-02,\n         3.90930176e-02,  2.63671875e-02,  5.13305664e-02,  5.35583496e-02,\n         1.38092041e-02,  6.34155273e-02, -4.94995117e-02, -7.57217407e-03,\n         1.79138184e-02, -1.78833008e-02, -3.70216370e-03,  3.72009277e-02,\n         1.25503540e-02,  4.90722656e-02,  7.62939453e-02,  3.06396484e-02,\n         5.56335449e-02,  5.78689575e-03,  1.25350952e-02,  6.57348633e-02,\n         1.82647705e-02,  9.68170166e-03,  6.57958984e-02,  1.45034790e-02,\n         2.76031494e-02,  8.52203369e-03,  1.14364624e-02,  3.17687988e-02,\n         2.73132324e-03,  5.04394531e-01,  9.84497070e-02,  7.51342773e-02,\n        -2.91900635e-02,  4.55627441e-02,  4.70275879e-02,  7.37304688e-02,\n         9.85107422e-02,  2.26287842e-02,  8.28247070e-02,  3.35083008e-02,\n        -1.48105621e-03, -1.36489868e-02, -1.43814087e-02,  3.72314453e-02,\n         4.15039062e-02,  4.97131348e-02,  3.41186523e-02,  1.14212036e-02,\n         3.37219238e-02,  8.81347656e-02,  4.80346680e-02,  5.69763184e-02,\n         2.66723633e-02,  5.40771484e-02,  1.93023682e-03,  4.95605469e-02,\n         3.09143066e-02, -8.85009766e-03,  5.98526001e-03,  4.62646484e-02,\n         5.72509766e-02,  4.48608398e-02,  6.64062500e-02,  3.93981934e-02,\n         4.74548340e-02,  5.44357300e-03,  6.81152344e-02,  3.86962891e-02,\n         5.31921387e-02,  5.18493652e-02, -3.20625305e-03,  9.72900391e-02,\n         3.71337891e-01,  1.42089844e-01,  2.36572266e-01,  5.37109375e-02,\n         9.64355469e-03,  3.61633301e-02,  7.04345703e-02, -5.59806824e-04,\n         2.20108032e-03,  7.61718750e-02,  2.90222168e-02,  3.11584473e-02,\n        -2.04772949e-02,  2.34527588e-02,  2.60925293e-02, -1.64947510e-02,\n         5.97229004e-02, -2.33459473e-02,  3.14025879e-02,  6.95037842e-03,\n         8.29467773e-02,  5.65185547e-02,  4.66308594e-02, -3.08990479e-03,\n         2.65350342e-02,  1.89819336e-02,  5.17883301e-02,  4.88891602e-02,\n         3.86962891e-02, -4.02450562e-04, -1.92718506e-02,  5.38024902e-02,\n        -3.73077393e-03,  5.77392578e-02,  2.24914551e-02,  1.08814240e-03,\n         3.77197266e-02,  4.63867188e-02,  4.01916504e-02,  5.18493652e-02,\n        -1.83563232e-02,  6.74438477e-02, -5.54504395e-02, -1.03073120e-02,\n        -5.56564331e-03,  3.38134766e-02,  3.37829590e-02,  5.82275391e-02,\n        -2.06451416e-02,  5.30700684e-02, -9.65118408e-03,  4.37011719e-02,\n         2.96783447e-02, -4.91333008e-03,  1.33972168e-02, -2.49755859e-01,\n         4.17480469e-02,  9.55963135e-03,  6.25610352e-02,  4.25720215e-02,\n         4.45556641e-02,  2.49938965e-02,  2.81066895e-02,  2.85034180e-02,\n         4.85229492e-02,  1.24267578e-01,  1.92260742e-02,  1.54571533e-02,\n         3.59191895e-02,  7.76367188e-02,  5.27343750e-02,  2.39715576e-02,\n         3.10668945e-02,  7.84301758e-02, -2.99316406e-01, -1.50222778e-02,\n        -3.23181152e-02, -1.55029297e-01,  1.08718872e-02,  4.15039062e-02,\n         6.18591309e-02, -1.28906250e-01,  6.34155273e-02, -4.64782715e-02,\n         8.44116211e-02,  6.92367554e-04, -1.66931152e-02,  5.83801270e-02,\n         7.11822510e-03, -2.68096924e-02,  4.22973633e-02,  5.81665039e-02,\n         7.63671875e-01,  5.70678711e-02,  2.57873535e-02,  4.95300293e-02,\n         7.16552734e-02, -1.37863159e-02, -4.40835953e-04,  2.56652832e-02,\n         4.10461426e-02,  2.03857422e-02,  2.28271484e-02,  5.08422852e-02,\n         9.83428955e-03,  4.74243164e-02,  4.72717285e-02,  7.71484375e-02,\n         5.92346191e-02,  3.61938477e-02,  2.42462158e-02, -2.57568359e-02,\n         4.46777344e-02,  6.86645508e-02,  3.11431885e-02,  2.92816162e-02,\n         4.01306152e-02,  4.98046875e-02,  4.17480469e-02, -2.36053467e-02,\n         1.80969238e-02,  1.84936523e-02,  3.50036621e-02, -3.49044800e-03,\n         3.04107666e-02,  3.45764160e-02,  1.43890381e-02,  2.76336670e-02,\n         2.81005859e-01,  1.77154541e-02,  8.22143555e-02,  5.01708984e-02,\n         1.80664062e-02,  3.88488770e-02,  4.77905273e-02,  4.10156250e-02,\n         4.55627441e-02,  6.08825684e-02,  5.88989258e-02,  8.12377930e-02,\n         1.65252686e-02,  1.50985718e-02,  1.00952148e-01,  4.91943359e-02,\n         7.97271729e-03,  1.80206299e-02,  4.93774414e-02,  7.17163086e-02,\n         6.76879883e-02,  2.74200439e-02, -8.19702148e-02,  2.96783447e-02,\n        -2.06909180e-02,  6.10656738e-02,  5.70373535e-02,  2.97241211e-02,\n         1.65405273e-01,  4.49523926e-02,  4.08630371e-02, -3.51867676e-02,\n        -1.44775391e-01,  2.87017822e-02,  3.78112793e-02, -9.11865234e-02,\n         9.28344727e-02,  7.62176514e-03,  3.45458984e-02, -6.03332520e-02,\n        -9.77172852e-02,  7.75527954e-03,  4.39453125e-02,  8.03833008e-02,\n         1.44729614e-02,  4.25720215e-02,  4.58984375e-02,  3.55529785e-02,\n         2.90832520e-02,  3.23181152e-02,  1.79595947e-02,  3.51257324e-02,\n         1.55639648e-01,  5.02014160e-02,  5.26123047e-02,  6.08444214e-04,\n         2.13928223e-02, -2.82135010e-02,  6.01196289e-03,  5.03540039e-02,\n         4.95910645e-02,  3.95507812e-02,  5.90820312e-02,  1.30691528e-02,\n         2.69775391e-02,  7.69042969e-03, -2.07061768e-02,  4.86450195e-02,\n         2.69622803e-02,  1.73034668e-02,  6.67114258e-02,  1.56707764e-02,\n         7.84912109e-02, -4.07714844e-02,  7.88574219e-02,  5.67016602e-02,\n         4.83398438e-02,  1.42364502e-02,  7.34252930e-02,  2.61230469e-02,\n         5.48400879e-02,  3.19519043e-02,  2.26440430e-02,  7.12585449e-03,\n         1.08093262e-01,  1.78375244e-02,  1.35955811e-02,  2.70233154e-02,\n         6.17599487e-03, -8.44116211e-02,  7.21435547e-02,  9.19342041e-03,\n         2.23083496e-02, -8.60595703e-03,  3.02429199e-02,  1.73797607e-02,\n        -2.44293213e-02,  3.10821533e-02, -2.18200684e-02, -3.09295654e-02,\n         6.94580078e-02,  1.71966553e-02,  1.81427002e-02,  2.31170654e-02,\n        -1.98974609e-02,  2.70080566e-02,  8.58764648e-02,  3.79028320e-02,\n         2.73284912e-02,  5.66711426e-02,  2.25067139e-02,  1.47338867e-01,\n        -4.56237793e-02,  9.06982422e-02,  5.11932373e-03,  6.97631836e-02,\n         8.19091797e-02, -9.53369141e-02,  4.40673828e-02, -3.26728821e-03,\n         1.02920532e-02,  4.28161621e-02,  6.99462891e-02, -1.37939453e-02,\n         4.47387695e-02,  3.78112793e-02,  7.69042969e-02,  4.68139648e-02,\n         1.43310547e-01,  7.73925781e-02,  2.69775391e-02,  3.93371582e-02,\n         4.67834473e-02, -6.84814453e-02,  3.07617188e-02,  3.17077637e-02,\n         4.16259766e-02, -1.10244751e-02, -2.30712891e-02,  3.09753418e-02,\n        -5.04760742e-02,  5.75561523e-02,  3.04412842e-02, -4.04357910e-02],\n       dtype=float32)]"
     },
     "execution_count": 163,
     "metadata": {},
     "output_type": "execute_result"
    }
   ],
   "source": [
    "test_dec.get_weights()"
   ],
   "metadata": {
    "collapsed": false,
    "ExecuteTime": {
     "end_time": "2024-03-13T12:58:06.088643Z",
     "start_time": "2024-03-13T12:58:06.023234Z"
    }
   },
   "id": "7c3f1ca8e93ee692",
   "execution_count": 163
  },
  {
   "cell_type": "code",
   "outputs": [
    {
     "name": "stdout",
     "output_type": "stream",
     "text": [
      "False\n",
      "False\n",
      "False\n",
      "False\n",
      "False\n",
      "False\n",
      "False\n",
      "False\n",
      "False\n",
      "False\n",
      "True\n",
      "True\n",
      "True\n",
      "True\n",
      "True\n",
      "True\n",
      "True\n",
      "True\n",
      "True\n",
      "True\n",
      "False\n",
      "False\n",
      "False\n",
      "False\n",
      "False\n",
      "False\n"
     ]
    }
   ],
   "source": [
    "for w in test_dec.weights:\n",
    "    print(w.trainable)"
   ],
   "metadata": {
    "collapsed": false,
    "ExecuteTime": {
     "end_time": "2024-03-13T13:08:10.364855Z",
     "start_time": "2024-03-13T13:08:10.361974Z"
    }
   },
   "id": "97ecfa54018782c6",
   "execution_count": 171
  },
  {
   "cell_type": "code",
   "outputs": [],
   "source": [
    "test1 = np.ones((1, 17,768))\n",
    "test2 = np.ones((1, 16,768))\n"
   ],
   "metadata": {
    "collapsed": false,
    "ExecuteTime": {
     "end_time": "2024-03-13T13:56:04.559462Z",
     "start_time": "2024-03-13T13:56:04.556760Z"
    }
   },
   "id": "13ce446ce36fbda2",
   "execution_count": 179
  },
  {
   "cell_type": "code",
   "outputs": [
    {
     "data": {
      "text/plain": "<tf.Tensor: shape=(1, 16, 768), dtype=float32, numpy=\narray([[[ 0.29212236,  0.5122221 ,  0.18078876, ..., -0.45685643,\n          0.06236216,  0.34362444],\n        [ 0.29212236,  0.5122221 ,  0.18078876, ..., -0.45685643,\n          0.06236216,  0.34362444],\n        [ 0.29212278,  0.51222205,  0.18078874, ..., -0.45685643,\n          0.0623626 ,  0.34362447],\n        ...,\n        [ 0.29212204,  0.51222205,  0.18078887, ..., -0.45685643,\n          0.0623621 ,  0.3436246 ],\n        [ 0.29212254,  0.5122221 ,  0.18078883, ..., -0.45685667,\n          0.06236217,  0.3436246 ],\n        [ 0.29212233,  0.5122217 ,  0.18078867, ..., -0.4568563 ,\n          0.06236237,  0.34362432]]], dtype=float32)>"
     },
     "execution_count": 181,
     "metadata": {},
     "output_type": "execute_result"
    }
   ],
   "source": [
    "test_dec(test2, test1)"
   ],
   "metadata": {
    "collapsed": false,
    "ExecuteTime": {
     "end_time": "2024-03-13T13:56:12.565264Z",
     "start_time": "2024-03-13T13:56:12.545523Z"
    }
   },
   "id": "56c7c5eb531ce67e",
   "execution_count": 181
  },
  {
   "cell_type": "code",
   "outputs": [],
   "source": [
    "test"
   ],
   "metadata": {
    "collapsed": false
   },
   "id": "d39ef5472fbbbfbe"
  }
 ],
 "metadata": {
  "kernelspec": {
   "display_name": "Python 3",
   "language": "python",
   "name": "python3"
  },
  "language_info": {
   "codemirror_mode": {
    "name": "ipython",
    "version": 2
   },
   "file_extension": ".py",
   "mimetype": "text/x-python",
   "name": "python",
   "nbconvert_exporter": "python",
   "pygments_lexer": "ipython2",
   "version": "2.7.6"
  }
 },
 "nbformat": 4,
 "nbformat_minor": 5
}
