{
 "cells": [
  {
   "cell_type": "markdown",
   "source": [
    "# Imports"
   ],
   "metadata": {
    "collapsed": false
   },
   "id": "d8aeca5b4a122b76"
  },
  {
   "cell_type": "code",
   "outputs": [
    {
     "name": "stderr",
     "output_type": "stream",
     "text": [
      "/tmp/ipykernel_6940/3196427401.py:5: DeprecationWarning: \n",
      "Pyarrow will become a required dependency of pandas in the next major release of pandas (pandas 3.0),\n",
      "(to allow more performant data types, such as the Arrow string type, and better interoperability with other libraries)\n",
      "but was not found to be installed on your system.\n",
      "If this would cause problems for you,\n",
      "please provide us feedback at https://github.com/pandas-dev/pandas/issues/54466\n",
      "        \n",
      "  import pandas as pd\n",
      "2024-02-01 12:56:16.015559: E external/local_xla/xla/stream_executor/cuda/cuda_dnn.cc:9261] Unable to register cuDNN factory: Attempting to register factory for plugin cuDNN when one has already been registered\n",
      "2024-02-01 12:56:16.015599: E external/local_xla/xla/stream_executor/cuda/cuda_fft.cc:607] Unable to register cuFFT factory: Attempting to register factory for plugin cuFFT when one has already been registered\n",
      "2024-02-01 12:56:16.016451: E external/local_xla/xla/stream_executor/cuda/cuda_blas.cc:1515] Unable to register cuBLAS factory: Attempting to register factory for plugin cuBLAS when one has already been registered\n",
      "2024-02-01 12:56:16.021449: I tensorflow/core/platform/cpu_feature_guard.cc:182] This TensorFlow binary is optimized to use available CPU instructions in performance-critical operations.\n",
      "To enable the following instructions: AVX2 FMA, in other operations, rebuild TensorFlow with the appropriate compiler flags.\n",
      "2024-02-01 12:56:16.989986: W tensorflow/compiler/tf2tensorrt/utils/py_utils.cc:38] TF-TRT Warning: Could not find TensorRT\n",
      "2024-02-01 12:56:17.744443: I external/local_xla/xla/stream_executor/cuda/cuda_executor.cc:901] successful NUMA node read from SysFS had negative value (-1), but there must be at least one NUMA node, so returning NUMA node zero. See more at https://github.com/torvalds/linux/blob/v6.0/Documentation/ABI/testing/sysfs-bus-pci#L344-L355\n",
      "2024-02-01 12:56:17.781780: I external/local_xla/xla/stream_executor/cuda/cuda_executor.cc:901] successful NUMA node read from SysFS had negative value (-1), but there must be at least one NUMA node, so returning NUMA node zero. See more at https://github.com/torvalds/linux/blob/v6.0/Documentation/ABI/testing/sysfs-bus-pci#L344-L355\n",
      "2024-02-01 12:56:17.786162: I external/local_xla/xla/stream_executor/cuda/cuda_executor.cc:901] successful NUMA node read from SysFS had negative value (-1), but there must be at least one NUMA node, so returning NUMA node zero. See more at https://github.com/torvalds/linux/blob/v6.0/Documentation/ABI/testing/sysfs-bus-pci#L344-L355\n"
     ]
    },
    {
     "name": "stdout",
     "output_type": "stream",
     "text": [
      "[PhysicalDevice(name='/physical_device:GPU:0', device_type='GPU')]\n"
     ]
    }
   ],
   "source": [
    "import random\n",
    "import imutils\n",
    "\n",
    "import numpy as np\n",
    "import pandas as pd\n",
    "import matplotlib.pyplot as plt\n",
    "\n",
    "\n",
    "import tensorflow as tf\n",
    "import keras\n",
    "print(tf.config.list_physical_devices('GPU'))\n",
    "\n",
    "import cv2\n",
    "import keras_nlp\n"
   ],
   "metadata": {
    "collapsed": true,
    "ExecuteTime": {
     "end_time": "2024-02-01T09:56:18.227635765Z",
     "start_time": "2024-02-01T09:56:15.024645441Z"
    }
   },
   "id": "initial_id",
   "execution_count": 2
  },
  {
   "cell_type": "code",
   "outputs": [
    {
     "data": {
      "text/plain": "('2.15.0', '3.0.0')"
     },
     "execution_count": 3,
     "metadata": {},
     "output_type": "execute_result"
    }
   ],
   "source": [
    "tf.__version__, keras.__version__"
   ],
   "metadata": {
    "collapsed": false,
    "ExecuteTime": {
     "end_time": "2024-02-01T09:56:18.234364870Z",
     "start_time": "2024-02-01T09:56:18.231078825Z"
    }
   },
   "id": "dbd05e6f2de9c890",
   "execution_count": 3
  },
  {
   "cell_type": "markdown",
   "source": [
    "# Data load"
   ],
   "metadata": {
    "collapsed": false
   },
   "id": "a7b2bd656db70341"
  },
  {
   "cell_type": "code",
   "outputs": [
    {
     "name": "stdout",
     "output_type": "stream",
     "text": [
      "(32, 32)\n"
     ]
    },
    {
     "data": {
      "text/plain": "<matplotlib.image.AxesImage at 0x7fa7d132dc90>"
     },
     "execution_count": 4,
     "metadata": {},
     "output_type": "execute_result"
    },
    {
     "data": {
      "text/plain": "<Figure size 640x480 with 1 Axes>",
      "image/png": "[encoded data removed]"
     },
     "metadata": {},
     "output_type": "display_data"
    }
   ],
   "source": [
    "let = cv2.imread('data/letterlist.jpg', 0)\n",
    "let = let[15:780,:]\n",
    "num_letters = 33\n",
    "num_fonts = 21\n",
    "num_classes = 33\n",
    "input_shape = (32,32,1)\n",
    "\n",
    "def get_letter(font_num, letter_num):\n",
    "    letter = let[let.shape[0]//num_fonts*(font_num-1):let.shape[0]//num_fonts*font_num,\n",
    "           let.shape[1]//num_letters*(letter_num-1):let.shape[1]//num_letters*letter_num,\n",
    "           ]\n",
    "    return cv2.resize(letter, input_shape[:-1])\n",
    "\n",
    "def get_letter_variants(letter_num):\n",
    "        return let[:,\n",
    "           let.shape[1]//num_letters*(letter_num-1):let.shape[1]//num_letters*letter_num,\n",
    "           ]\n",
    "\n",
    "def get_font_variants(font_num):\n",
    "    return let[let.shape[0]//num_fonts*(font_num-1):let.shape[0]//num_fonts*font_num,\n",
    "           :,\n",
    "           ]\n",
    "test = get_letter(21,33)\n",
    "print(test.shape)\n",
    "plt.imshow(test, cmap='gray')"
   ],
   "metadata": {
    "collapsed": false,
    "ExecuteTime": {
     "end_time": "2024-02-01T09:56:18.397158529Z",
     "start_time": "2024-02-01T09:56:18.234868940Z"
    }
   },
   "id": "31ec1a4fad38584c",
   "execution_count": 4
  },
  {
   "cell_type": "markdown",
   "source": [
    "# Augmenters"
   ],
   "metadata": {
    "collapsed": false
   },
   "id": "a39579f6be053265"
  },
  {
   "cell_type": "code",
   "outputs": [
    {
     "data": {
      "text/plain": "<matplotlib.image.AxesImage at 0x7fa7d115ac10>"
     },
     "execution_count": 5,
     "metadata": {},
     "output_type": "execute_result"
    },
    {
     "data": {
      "text/plain": "<Figure size 640x480 with 1 Axes>",
      "image/png": "[encoded data removed]"
     },
     "metadata": {},
     "output_type": "display_data"
    }
   ],
   "source": [
    "class BaseAugmenter():\n",
    "    def __init__(self, chanse=0.5):\n",
    "        self.chance = chanse\n",
    "        \n",
    "    def __call__(self, img, *args, **kwargs):\n",
    "        augmented = False\n",
    "        if random.random()<= self.chance:\n",
    "            try:\n",
    "                img = self._apply(img, *args, **kwargs)\n",
    "                augmented = True\n",
    "            except Exception as e:\n",
    "                print(e)\n",
    "            \n",
    "        return img, augmented\n",
    "    \n",
    "    def _apply(self, img, *args, **kwargs):\n",
    "        return img\n",
    "    \n",
    "class NoiseAugmenter(BaseAugmenter):\n",
    "    def _apply(self, letter, max=30):\n",
    "        noise = np.random.normal(size=(letter.shape))*max\n",
    "        return letter+noise\n",
    "    \n",
    "plt.imshow(NoiseAugmenter(1)(test)[0], cmap='gray')"
   ],
   "metadata": {
    "collapsed": false,
    "ExecuteTime": {
     "end_time": "2024-02-01T09:56:18.523369642Z",
     "start_time": "2024-02-01T09:56:18.391271853Z"
    }
   },
   "id": "5cae25a8ee446e09",
   "execution_count": 5
  },
  {
   "cell_type": "code",
   "outputs": [
    {
     "data": {
      "text/plain": "<matplotlib.image.AxesImage at 0x7fa7d0ff06d0>"
     },
     "execution_count": 6,
     "metadata": {},
     "output_type": "execute_result"
    },
    {
     "data": {
      "text/plain": "<Figure size 640x480 with 1 Axes>",
      "image/png": "[encoded data removed]"
     },
     "metadata": {},
     "output_type": "display_data"
    }
   ],
   "source": [
    "class FlipAugmenter(BaseAugmenter):\n",
    "\n",
    "    def _apply(self, letter, mode='horizontal'):\n",
    "        if mode == 'horizontal':\n",
    "            return np.flip(letter, axis=0)\n",
    "        elif mode == 'vertical':\n",
    "            return np.flip(letter, axis=1)\n",
    "        elif mode == 'random':\n",
    "            axis = random.random() < 0.5\n",
    "            return np.flip(letter, axis=int(axis))\n",
    "        \n",
    "plt.imshow(FlipAugmenter(1)(test)[0], cmap='gray')  "
   ],
   "metadata": {
    "collapsed": false,
    "ExecuteTime": {
     "end_time": "2024-02-01T09:56:18.550045124Z",
     "start_time": "2024-02-01T09:56:18.491340329Z"
    }
   },
   "id": "672d728eaf429a83",
   "execution_count": 6
  },
  {
   "cell_type": "code",
   "outputs": [
    {
     "data": {
      "text/plain": "<matplotlib.image.AxesImage at 0x7fa7d1072790>"
     },
     "execution_count": 7,
     "metadata": {},
     "output_type": "execute_result"
    },
    {
     "data": {
      "text/plain": "<Figure size 640x480 with 1 Axes>",
      "image/png": "[encoded data removed]"
     },
     "metadata": {},
     "output_type": "display_data"
    }
   ],
   "source": [
    "class RotationAugmenter(BaseAugmenter):\n",
    "    \n",
    "    def _apply(self, letter, angle=60):\n",
    "        image = np.zeros_like(letter) + 255 - letter\n",
    "        rotated = imutils.rotate_bound(image, angle)\n",
    "        rotated = np.zeros_like(rotated) + 255 - rotated\n",
    "        rotated = cv2.resize(rotated, (letter.shape[1], letter.shape[0]))\n",
    "        return rotated\n",
    "rotated = RotationAugmenter(1)(test)[0]\n",
    "plt.imshow(rotated, cmap='gray')"
   ],
   "metadata": {
    "collapsed": false,
    "ExecuteTime": {
     "end_time": "2024-02-01T09:56:18.681596774Z",
     "start_time": "2024-02-01T09:56:18.541769004Z"
    }
   },
   "id": "c4571be9d9e02307",
   "execution_count": 7
  },
  {
   "cell_type": "code",
   "outputs": [
    {
     "data": {
      "text/plain": "<matplotlib.image.AxesImage at 0x7fa7d11b1510>"
     },
     "execution_count": 8,
     "metadata": {},
     "output_type": "execute_result"
    },
    {
     "data": {
      "text/plain": "<Figure size 640x480 with 1 Axes>",
      "image/png": "[encoded data removed]"
     },
     "metadata": {},
     "output_type": "display_data"
    }
   ],
   "source": [
    "class BlurAugmenter(BaseAugmenter):\n",
    "    \n",
    "    def _apply(self, letter, kernel_size=3):\n",
    "        return cv2.medianBlur(letter, kernel_size)\n",
    "    \n",
    "plt.imshow(BlurAugmenter(1)(test)[0], cmap='gray')"
   ],
   "metadata": {
    "collapsed": false,
    "ExecuteTime": {
     "end_time": "2024-02-01T09:56:18.849622877Z",
     "start_time": "2024-02-01T09:56:18.675361561Z"
    }
   },
   "id": "1c86412a40bea359",
   "execution_count": 8
  },
  {
   "cell_type": "code",
   "outputs": [],
   "source": [
    "class MultipleAugmenter():\n",
    "    NOISE_CHANCE = 0.1\n",
    "    NOISE_HARDNESS = 20\n",
    "    \n",
    "    FLIP_CHANCE = 0.3\n",
    "    \n",
    "    ROTATE_CHANCE = 0.15\n",
    "    \n",
    "    BLUR_CHANCE = 0.1\n",
    "    BLUR_HARD_CHANCE = 0.05\n",
    "    \n",
    "    images = []\n",
    "    captions = []\n",
    "    \n",
    "    def __init__(self, images, captions):\n",
    "        self.images_orig = images\n",
    "        self.captions_orig = captions\n",
    "        self.augmenters = [\n",
    "            FlipAugmenter(self.FLIP_CHANCE),\n",
    "            RotationAugmenter(self.ROTATE_CHANCE),\n",
    "            BlurAugmenter(self.BLUR_CHANCE),\n",
    "            BlurAugmenter(self.BLUR_HARD_CHANCE),\n",
    "            \n",
    "        ]\n",
    "        self.noise = (NoiseAugmenter(self.NOISE_CHANCE), self.NOISE_HARDNESS)\n",
    "        \n",
    "        self.augment_args = [\n",
    "            ['random'],\n",
    "            [],\n",
    "            [3],\n",
    "            [5],\n",
    "\n",
    "        ]    \n",
    "    \n",
    "    def random_augment(self, rounds = 1, seed = 42, save_last=False):\n",
    "        random.seed(seed)\n",
    "        \n",
    "        images = self.images_orig\n",
    "        captions = self.captions_orig\n",
    "        \n",
    "        for _ in range(rounds):\n",
    "            print(len(images))\n",
    "            num_images = len(images)\n",
    "            for n in range(num_images):\n",
    "                image = images[n]\n",
    "                caption = captions[n]\n",
    "                \n",
    "                for n, aug in enumerate(self.augmenters):\n",
    "                    aug_args = self.augment_args[n]\n",
    "                    if not aug_args:\n",
    "                        aug_args = [random.randint(-15,15)]\n",
    "                    image, augmented = aug(image, *aug_args)\n",
    "                    if augmented:\n",
    "                        images.append(image)\n",
    "                        captions.append(caption)\n",
    "                    \n",
    "            if save_last:\n",
    "                images = images[num_images:]\n",
    "                captions = captions[num_images:]\n",
    "        \n",
    "\n",
    "                \n",
    "        self.images = images\n",
    "        self.captions = captions        \n",
    "        self._apply_noise()\n",
    "        self._normalize()\n",
    "        \n",
    "    def _apply_noise(self):\n",
    "        for n, im in enumerate(self.images):\n",
    "            noise_augmenter, hardeness = self.noise\n",
    "            image, augmented = noise_augmenter(im, hardeness)\n",
    "            if augmented:\n",
    "                self.images[n] = image        \n",
    "        \n",
    "    def _normalize(self):\n",
    "        for n, im in enumerate(self.images):\n",
    "            im = np.array(im)\n",
    "            self.images[n] = im/im.max()"
   ],
   "metadata": {
    "collapsed": false,
    "ExecuteTime": {
     "end_time": "2024-02-01T09:56:18.900713681Z",
     "start_time": "2024-02-01T09:56:18.855921209Z"
    }
   },
   "id": "ea46e76b869612d0",
   "execution_count": 9
  },
  {
   "cell_type": "markdown",
   "source": [
    "# Data preparation"
   ],
   "metadata": {
    "collapsed": false
   },
   "id": "858fd0191b301e8a"
  },
  {
   "cell_type": "code",
   "outputs": [],
   "source": [
    "images = []\n",
    "captions = []\n",
    "captions_base = \"Ё Й Ц У К Е Н Г Ш Щ З Х Ъ Ф Ы В А П Р О Л Д Ж Э Я Ч С М И Т Ь Б Ю\".split(' ')\n",
    "for i in range(1, num_fonts+1):\n",
    "    for j in range(1, num_letters+1):\n",
    "        images.append(get_letter(i,j))\n",
    "        captions.append(captions_base[j-1])"
   ],
   "metadata": {
    "collapsed": false,
    "ExecuteTime": {
     "end_time": "2024-02-01T09:56:18.901770022Z",
     "start_time": "2024-02-01T09:56:18.899233591Z"
    }
   },
   "id": "b889de298188a602",
   "execution_count": 10
  },
  {
   "cell_type": "code",
   "outputs": [
    {
     "data": {
      "text/plain": "<matplotlib.image.AxesImage at 0x7fa7d0f816d0>"
     },
     "execution_count": 11,
     "metadata": {},
     "output_type": "execute_result"
    },
    {
     "data": {
      "text/plain": "<Figure size 640x480 with 1 Axes>",
      "image/png": "[encoded data removed]"
     },
     "metadata": {},
     "output_type": "display_data"
    }
   ],
   "source": [
    "plt.imshow(images[10], cmap='gray')"
   ],
   "metadata": {
    "collapsed": false,
    "ExecuteTime": {
     "end_time": "2024-02-01T09:56:18.992136118Z",
     "start_time": "2024-02-01T09:56:18.899515652Z"
    }
   },
   "id": "9c6ecb2699a696ab",
   "execution_count": 11
  },
  {
   "cell_type": "code",
   "outputs": [
    {
     "data": {
      "text/plain": "693"
     },
     "execution_count": 12,
     "metadata": {},
     "output_type": "execute_result"
    }
   ],
   "source": [
    "len(images)"
   ],
   "metadata": {
    "collapsed": false,
    "ExecuteTime": {
     "end_time": "2024-02-01T09:56:18.992969589Z",
     "start_time": "2024-02-01T09:56:18.991215653Z"
    }
   },
   "id": "2e67bf6b26acb86b",
   "execution_count": 12
  },
  {
   "cell_type": "code",
   "outputs": [],
   "source": [
    "aug = MultipleAugmenter(images.copy(), captions.copy())"
   ],
   "metadata": {
    "collapsed": false,
    "ExecuteTime": {
     "end_time": "2024-02-01T09:56:18.993545364Z",
     "start_time": "2024-02-01T09:56:18.991488107Z"
    }
   },
   "id": "fa972db114e4c128",
   "execution_count": 13
  },
  {
   "cell_type": "code",
   "outputs": [
    {
     "name": "stdout",
     "output_type": "stream",
     "text": [
      "693\n",
      "1117\n",
      "1763\n",
      "2814\n",
      "4490\n",
      "7161\n",
      "11452\n",
      "18331\n",
      "29290\n",
      "46852\n"
     ]
    }
   ],
   "source": [
    "aug.random_augment(10)"
   ],
   "metadata": {
    "collapsed": false,
    "ExecuteTime": {
     "end_time": "2024-02-01T09:56:21.193291777Z",
     "start_time": "2024-02-01T09:56:18.991676311Z"
    }
   },
   "id": "7fe2fc47020e1146",
   "execution_count": 14
  },
  {
   "cell_type": "code",
   "outputs": [
    {
     "name": "stdout",
     "output_type": "stream",
     "text": [
      "Э\n"
     ]
    },
    {
     "data": {
      "text/plain": "<matplotlib.image.AxesImage at 0x7fa7d07a8590>"
     },
     "execution_count": 15,
     "metadata": {},
     "output_type": "execute_result"
    },
    {
     "data": {
      "text/plain": "<Figure size 640x480 with 1 Axes>",
      "image/png": "[encoded data removed]"
     },
     "metadata": {},
     "output_type": "display_data"
    }
   ],
   "source": [
    "n = 1000\n",
    "print(aug.captions[n])\n",
    "plt.imshow(aug.images[n], cmap='gray')"
   ],
   "metadata": {
    "collapsed": false,
    "ExecuteTime": {
     "end_time": "2024-02-01T09:56:21.280336285Z",
     "start_time": "2024-02-01T09:56:21.202626263Z"
    }
   },
   "id": "3239f851deaf6a22",
   "execution_count": 15
  },
  {
   "cell_type": "code",
   "outputs": [
    {
     "data": {
      "text/plain": "(74975, 32, 32)"
     },
     "execution_count": 16,
     "metadata": {},
     "output_type": "execute_result"
    }
   ],
   "source": [
    "np.array(aug.images).shape"
   ],
   "metadata": {
    "collapsed": false,
    "ExecuteTime": {
     "end_time": "2024-02-01T09:56:22.133255044Z",
     "start_time": "2024-02-01T09:56:21.288173819Z"
    }
   },
   "id": "39a95932e48594c4",
   "execution_count": 16
  },
  {
   "cell_type": "markdown",
   "source": [
    "## Train data"
   ],
   "metadata": {
    "collapsed": false
   },
   "id": "dda537d94b7fb63c"
  },
  {
   "cell_type": "code",
   "outputs": [
    {
     "data": {
      "text/plain": "(74975, 32, 32, 1)"
     },
     "execution_count": 17,
     "metadata": {},
     "output_type": "execute_result"
    }
   ],
   "source": [
    "x_data = np.array(aug.images)\n",
    "x_data = x_data.reshape(*x_data.shape, 1)\n",
    "x_data.shape"
   ],
   "metadata": {
    "collapsed": false,
    "ExecuteTime": {
     "end_time": "2024-02-01T09:56:22.433686625Z",
     "start_time": "2024-02-01T09:56:22.140824622Z"
    }
   },
   "id": "af899195b0ba1837",
   "execution_count": 17
  },
  {
   "cell_type": "code",
   "outputs": [],
   "source": [
    "classes = list(map(captions_base.index, aug.captions))\n",
    "y_data = keras.utils.to_categorical(classes, num_classes=num_letters)"
   ],
   "metadata": {
    "collapsed": false,
    "ExecuteTime": {
     "end_time": "2024-02-01T09:56:22.462921803Z",
     "start_time": "2024-02-01T09:56:22.447632112Z"
    }
   },
   "id": "1fe9946e9c91f535",
   "execution_count": 18
  },
  {
   "cell_type": "markdown",
   "source": [
    "## Test Data"
   ],
   "metadata": {
    "collapsed": false
   },
   "id": "311fefbac5ef98cc"
  },
  {
   "cell_type": "code",
   "outputs": [
    {
     "name": "stdout",
     "output_type": "stream",
     "text": [
      "693\n",
      "1099\n",
      "1727\n"
     ]
    },
    {
     "data": {
      "text/plain": "(2788, 2788)"
     },
     "execution_count": 19,
     "metadata": {},
     "output_type": "execute_result"
    }
   ],
   "source": [
    "test_aug = MultipleAugmenter(images.copy(), captions.copy())\n",
    "test_aug.random_augment(3, 65, 0)\n",
    "len(test_aug.images), len(test_aug.captions)"
   ],
   "metadata": {
    "collapsed": false,
    "ExecuteTime": {
     "end_time": "2024-02-01T09:56:22.532666932Z",
     "start_time": "2024-02-01T09:56:22.459546961Z"
    }
   },
   "id": "d3e86fc400b72002",
   "execution_count": 19
  },
  {
   "cell_type": "code",
   "outputs": [],
   "source": [
    "test_x_data = np.array(test_aug.images)\n",
    "# test_x_data = test_x_data.reshape(*test_x_data.shape)\n",
    "\n",
    "test_classes = list(map(captions_base.index, test_aug.captions))\n",
    "test_y_data = keras.utils.to_categorical(test_classes, num_classes=num_letters)"
   ],
   "metadata": {
    "collapsed": false,
    "ExecuteTime": {
     "end_time": "2024-02-01T09:56:22.571793154Z",
     "start_time": "2024-02-01T09:56:22.533531111Z"
    }
   },
   "id": "d7346d5ae5b7ad49",
   "execution_count": 20
  },
  {
   "cell_type": "markdown",
   "source": [
    "# Callbacks"
   ],
   "metadata": {
    "collapsed": false
   },
   "id": "add44ae6827d72f1"
  },
  {
   "cell_type": "code",
   "outputs": [],
   "source": [
    "reduce_lr = keras.callbacks.ReduceLROnPlateau(monitor='val_loss', factor=0.1, min_delta = 1e-3,\n",
    "                              patience=3, min_lr=1e-10)\n",
    "early_stop = keras.callbacks.EarlyStopping(monitor='val_loss', min_delta=1e-6, patience=7)\n",
    "tensorboard = keras.callbacks.TensorBoard(log_dir=\"./logs\")"
   ],
   "metadata": {
    "collapsed": false,
    "ExecuteTime": {
     "end_time": "2024-02-01T09:56:22.614086857Z",
     "start_time": "2024-02-01T09:56:22.569470866Z"
    }
   },
   "id": "94ed6777f2bd6bbc",
   "execution_count": 21
  },
  {
   "cell_type": "markdown",
   "source": [
    "# Transformer"
   ],
   "metadata": {
    "collapsed": false
   },
   "id": "699a1f6876c4c15d"
  },
  {
   "cell_type": "code",
   "outputs": [],
   "source": [
    "input_shape = np.array(aug.images).shape[1:]\n",
    "inputs = keras.Input(shape=input_shape )\n",
    "\n",
    "flat = keras.layers.Flatten()(inputs)\n",
    "\n",
    "emb = keras.layers.Embedding(input_shape[0]*input_shape[1], 1)(flat)\n",
    "\n",
    "reshaped2 = keras.layers.Reshape(input_shape)(emb)\n",
    "\n",
    "embedded = keras.layers.Add()([inputs, reshaped2])\n",
    "\n",
    "encoded = keras_nlp.layers.TransformerEncoder(intermediate_dim=1024, num_heads=24)(embedded)\n",
    "encoded = keras_nlp.layers.TransformerEncoder(intermediate_dim=1024, num_heads=24)(encoded)\n",
    "encoded = keras_nlp.layers.TransformerEncoder(intermediate_dim=1024, num_heads=24)(encoded)\n",
    "encoded = keras_nlp.layers.TransformerEncoder(intermediate_dim=1024, num_heads=24)(encoded)\n",
    "dense = keras.layers.Flatten()(encoded)\n",
    "dense = keras.layers.Dense(1024, activation='relu')(dense)\n",
    "dense = keras.layers.Dense(512, activation='relu')(dense)\n",
    "dense = keras.layers.Dense(256, activation='relu')(dense)\n",
    "outputs = keras.layers.Dense(num_letters, activation='softmax')(dense)\n",
    "\n",
    "\n",
    "vit_model = keras.Model(inputs=inputs, outputs=reshaped2, name='super_model')\n",
    "vit_model.summary()"
   ],
   "metadata": {
    "collapsed": false,
    "is_executing": true,
    "ExecuteTime": {
     "start_time": "2024-02-01T09:56:22.611179507Z"
    }
   },
   "id": "bd1275e7cffe0140",
   "execution_count": null
  },
  {
   "cell_type": "code",
   "outputs": [],
   "source": [
    "vit_model.compile(loss='categorical_crossentropy', metrics=['categorical_accuracy'], optimizer='adam')"
   ],
   "metadata": {
    "collapsed": false,
    "is_executing": true
   },
   "id": "f5d252388566fa4c",
   "execution_count": null
  },
  {
   "cell_type": "code",
   "outputs": [],
   "source": [
    "n_figs = 10\n",
    "fig, ax = plt.subplots(nrows=4, ncols=n_figs//2)\n",
    "for i in range(n_figs):\n",
    "    img = aug.images[i]\n",
    "    img2 = vit_model.predict(img.reshape((1,*input_shape)))[0]\n",
    "\n",
    "    ax[int(i>=5)*2+0,i- (5*int(i>=5))].imshow(img, cmap = 'gray')\n",
    "    ax[int(i>=5)*2+1,i- (5*int(i>=5))].imshow(img2, cmap = 'gray')"
   ],
   "metadata": {
    "collapsed": false,
    "is_executing": true
   },
   "id": "5e399d22a4477856",
   "execution_count": null
  },
  {
   "cell_type": "code",
   "outputs": [],
   "source": [
    "his = vit_model.fit(x_data, y_data,\n",
    "          epochs=50,\n",
    "          batch_size=128,\n",
    "          shuffle=True,\n",
    "          validation_split=0.2,\n",
    "          callbacks=[reduce_lr, early_stop, tensorboard],\n",
    "                )"
   ],
   "metadata": {
    "collapsed": false,
    "is_executing": true
   },
   "id": "e96b3a3d680c6286",
   "execution_count": null
  },
  {
   "cell_type": "code",
   "outputs": [],
   "source": [
    "his_df = pd.DataFrame(his.history)\n",
    "his_df[['categorical_accuracy', 'val_categorical_accuracy']].plot()\n",
    "(his_df['learning_rate'] * 1000).plot()"
   ],
   "metadata": {
    "collapsed": false,
    "is_executing": true
   },
   "id": "6dc7c3ff9671a4b4",
   "execution_count": null
  },
  {
   "cell_type": "code",
   "outputs": [],
   "source": [
    "vit_model.evaluate(test_x_data.reshape((*test_x_data.shape, 1)), test_y_data)"
   ],
   "metadata": {
    "collapsed": false,
    "is_executing": true
   },
   "id": "20f86aa79f2d9786",
   "execution_count": null
  },
  {
   "cell_type": "code",
   "outputs": [],
   "source": [
    "test_x_data.shape"
   ],
   "metadata": {
    "collapsed": false,
    "is_executing": true
   },
   "id": "2a5a116c1322a756",
   "execution_count": null
  },
  {
   "cell_type": "code",
   "outputs": [],
   "source": [
    "y_pred = vit_model.predict(test_x_data).argmax(axis=1)\n",
    "mat = np.zeros(shape=(num_letters,num_letters))\n",
    "for i in range(len(y_pred)):\n",
    "    true_ind = test_classes[i]\n",
    "    pred_ind = y_pred[i]    \n",
    "    mat[true_ind, pred_ind]+=1\n",
    "\n",
    "mat=mat/mat.sum(axis=0)\n",
    "\n",
    "fig, ax = plt.subplots(figsize=(15,15))\n",
    "ax.matshow(mat, cmap='Blues')\n",
    "ax.set_xticks(range(len(captions_base)), captions_base)\n",
    "ax.set_yticks(range(len(captions_base)), captions_base)\n",
    "for i in range(len(captions_base)):\n",
    "    for j in range(len(captions_base)):\n",
    "        c = mat[j,i]\n",
    "        ax.text(i, j, f'{c:.2f}', va='center', ha='center')\n",
    "ax.set_xlabel('True letters', fontsize=15)\n",
    "ax.set_ylabel('Predicted letters', fontsize=15)"
   ],
   "metadata": {
    "collapsed": false,
    "is_executing": true
   },
   "id": "1905c46bd6fedd38",
   "execution_count": null
  },
  {
   "cell_type": "code",
   "outputs": [],
   "source": [
    "vit_model.save('models/vit_letter_recognizer.keras')"
   ],
   "metadata": {
    "collapsed": false,
    "is_executing": true
   },
   "id": "f00792ba4787a5dd",
   "execution_count": null
  }
 ],
 "metadata": {
  "kernelspec": {
   "display_name": "Python 3",
   "language": "python",
   "name": "python3"
  },
  "language_info": {
   "codemirror_mode": {
    "name": "ipython",
    "version": 2
   },
   "file_extension": ".py",
   "mimetype": "text/x-python",
   "name": "python",
   "nbconvert_exporter": "python",
   "pygments_lexer": "ipython2",
   "version": "2.7.6"
  }
 },
 "nbformat": 4,
 "nbformat_minor": 5
}
