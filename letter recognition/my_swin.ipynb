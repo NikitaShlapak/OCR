{
 "cells": [
  {
   "cell_type": "markdown",
   "metadata": {
    "id": "bJ8tbA0n3zF3"
   },
   "source": [
    "# Image classification with Swin Transformers\n",
    "\n",
    "**Author:** [Rishit Dagli](https://twitter.com/rishit_dagli)<br>\n",
    "**Date created:** 2021/09/08<br>\n",
    "**Last modified:** 2021/09/08<br>\n",
    "**Description:** Image classification using Swin Transformers, a general-purpose backbone for computer vision."
   ]
  },
  {
   "cell_type": "markdown",
   "metadata": {
    "id": "MJuBHyFE3zF9"
   },
   "source": [
    "This example implements\n",
    "[Swin Transformer: Hierarchical Vision Transformer using Shifted Windows](https://arxiv.org/abs/2103.14030)\n",
    "by Liu et al. for image classification, and demonstrates it on the\n",
    "[CIFAR-100 dataset](https://www.cs.toronto.edu/~kriz/cifar.html).\n",
    "\n",
    "Swin Transformer (**S**hifted **Win**dow Transformer) can serve as a\n",
    "general-purpose backbone for computer vision. Swin Transformer is a hierarchical\n",
    "Transformer whose representations are computed with _shifted windows_. The\n",
    "shifted window scheme brings greater efficiency by limiting self-attention\n",
    "computation to non-overlapping local windows while also allowing for\n",
    "cross-window connections. This architecture has the flexibility to model\n",
    "information at various scales and has a linear computational complexity with\n",
    "respect to image size.\n",
    "\n",
    "This example requires TensorFlow 2.5 or higher."
   ]
  },
  {
   "cell_type": "markdown",
   "metadata": {
    "id": "wshyZWwj3zF-"
   },
   "source": [
    "## Setup"
   ]
  },
  {
   "cell_type": "code",
   "execution_count": 1,
   "metadata": {
    "id": "wFm7Lx5-3zF_",
    "ExecuteTime": {
     "end_time": "2024-02-02T11:20:39.697095504Z",
     "start_time": "2024-02-02T11:20:37.349034889Z"
    }
   },
   "outputs": [
    {
     "name": "stderr",
     "output_type": "stream",
     "text": [
      "2024-02-02 14:20:37.877568: E external/local_xla/xla/stream_executor/cuda/cuda_dnn.cc:9261] Unable to register cuDNN factory: Attempting to register factory for plugin cuDNN when one has already been registered\n",
      "2024-02-02 14:20:37.877607: E external/local_xla/xla/stream_executor/cuda/cuda_fft.cc:607] Unable to register cuFFT factory: Attempting to register factory for plugin cuFFT when one has already been registered\n",
      "2024-02-02 14:20:37.878484: E external/local_xla/xla/stream_executor/cuda/cuda_blas.cc:1515] Unable to register cuBLAS factory: Attempting to register factory for plugin cuBLAS when one has already been registered\n",
      "2024-02-02 14:20:37.883276: I tensorflow/core/platform/cpu_feature_guard.cc:182] This TensorFlow binary is optimized to use available CPU instructions in performance-critical operations.\n",
      "To enable the following instructions: AVX2 FMA, in other operations, rebuild TensorFlow with the appropriate compiler flags.\n",
      "2024-02-02 14:20:38.658175: W tensorflow/compiler/tf2tensorrt/utils/py_utils.cc:38] TF-TRT Warning: Could not find TensorRT\n"
     ]
    },
    {
     "name": "stdout",
     "output_type": "stream",
     "text": [
      "[PhysicalDevice(name='/physical_device:GPU:0', device_type='GPU')]\n"
     ]
    },
    {
     "name": "stderr",
     "output_type": "stream",
     "text": [
      "2024-02-02 14:20:39.642933: I external/local_xla/xla/stream_executor/cuda/cuda_executor.cc:901] successful NUMA node read from SysFS had negative value (-1), but there must be at least one NUMA node, so returning NUMA node zero. See more at https://github.com/torvalds/linux/blob/v6.0/Documentation/ABI/testing/sysfs-bus-pci#L344-L355\n",
      "2024-02-02 14:20:39.674599: I external/local_xla/xla/stream_executor/cuda/cuda_executor.cc:901] successful NUMA node read from SysFS had negative value (-1), but there must be at least one NUMA node, so returning NUMA node zero. See more at https://github.com/torvalds/linux/blob/v6.0/Documentation/ABI/testing/sysfs-bus-pci#L344-L355\n",
      "2024-02-02 14:20:39.675127: I external/local_xla/xla/stream_executor/cuda/cuda_executor.cc:901] successful NUMA node read from SysFS had negative value (-1), but there must be at least one NUMA node, so returning NUMA node zero. See more at https://github.com/torvalds/linux/blob/v6.0/Documentation/ABI/testing/sysfs-bus-pci#L344-L355\n"
     ]
    }
   ],
   "source": [
    "import matplotlib.pyplot as plt\n",
    "import numpy as np\n",
    "import tensorflow as tf  # For tf.data and preprocessing only.\n",
    "print(tf.config.list_physical_devices('GPU'))\n",
    "import keras\n",
    "from keras import layers\n",
    "from keras import ops\n",
    "import cv2\n",
    "import imutils\n",
    "import random"
   ]
  },
  {
   "cell_type": "markdown",
   "metadata": {
    "id": "4c9muDqK3zGB"
   },
   "source": [
    "## Configure the hyperparameters\n",
    "\n",
    "A key parameter to pick is the `patch_size`, the size of the input patches.\n",
    "In order to use each pixel as an individual input, you can set `patch_size` to\n",
    "`(1, 1)`. Below, we take inspiration from the original paper settings for\n",
    "training on ImageNet-1K, keeping most of the original settings for this example."
   ]
  },
  {
   "cell_type": "code",
   "execution_count": 2,
   "metadata": {
    "id": "xLyWIhWH3zGB",
    "ExecuteTime": {
     "end_time": "2024-02-02T11:20:39.699612652Z",
     "start_time": "2024-02-02T11:20:39.697868299Z"
    }
   },
   "outputs": [],
   "source": [
    "num_classes = 33\n",
    "input_shape = (32,32,1)\n",
    "\n",
    "patch_size = (2, 2)  # 2-by-2 sized patches\n",
    "dropout_rate = 0.03  # Dropout rate\n",
    "num_heads = 8  # Attention heads\n",
    "embed_dim = 64  # Embedding dimension\n",
    "num_mlp = 256  # MLP layer size\n",
    "# Convert embedded patches to query, key, and values with a learnable additive\n",
    "# value\n",
    "qkv_bias = True\n",
    "window_size = 2  # Size of attention window\n",
    "shift_size = 1  # Size of shifting window\n",
    "image_dimension = 32  # Initial image size\n",
    "\n",
    "num_patch_x = input_shape[0] // patch_size[0]\n",
    "num_patch_y = input_shape[1] // patch_size[1]\n",
    "\n",
    "learning_rate = 1e-3\n",
    "batch_size = 16\n",
    "num_epochs = 200\n",
    "validation_split = 0.1\n",
    "weight_decay = 0.0001\n",
    "label_smoothing = 0.1"
   ]
  },
  {
   "cell_type": "markdown",
   "metadata": {
    "id": "VOpMzKbQ3zGC"
   },
   "source": [
    "## Prepare the data\n",
    "\n",
    "We load the CIFAR-100 dataset through `keras.datasets`,\n",
    "normalize the images, and convert the integer labels to one-hot encoded vectors."
   ]
  },
  {
   "cell_type": "code",
   "outputs": [
    {
     "name": "stdout",
     "output_type": "stream",
     "text": [
      "(32, 32)\n"
     ]
    },
    {
     "data": {
      "text/plain": "<matplotlib.image.AxesImage at 0x7f2af0302890>"
     },
     "execution_count": 3,
     "metadata": {},
     "output_type": "execute_result"
    },
    {
     "data": {
      "text/plain": "<Figure size 640x480 with 1 Axes>",
      "image/png": "[encoded data removed]"
     },
     "metadata": {},
     "output_type": "display_data"
    }
   ],
   "source": [
    "let = cv2.imread('data/letterlist.jpg', 0)\n",
    "let = let[15:780,:]\n",
    "num_letters = 33\n",
    "num_fonts = 21\n",
    "\n",
    "def get_letter(font_num, letter_num):\n",
    "    letter = let[let.shape[0]//num_fonts*(font_num-1):let.shape[0]//num_fonts*font_num,\n",
    "           let.shape[1]//num_letters*(letter_num-1):let.shape[1]//num_letters*letter_num,\n",
    "           ]\n",
    "    return cv2.resize(letter, input_shape[:-1])\n",
    "\n",
    "def get_letter_variants(letter_num):\n",
    "        return let[:,\n",
    "           let.shape[1]//num_letters*(letter_num-1):let.shape[1]//num_letters*letter_num,\n",
    "           ]\n",
    "\n",
    "def get_font_variants(font_num):\n",
    "    return let[let.shape[0]//num_fonts*(font_num-1):let.shape[0]//num_fonts*font_num,\n",
    "           :,\n",
    "           ]\n",
    "test = get_letter(21,33)\n",
    "print(test.shape)\n",
    "plt.imshow(test, cmap='gray')"
   ],
   "metadata": {
    "collapsed": false,
    "ExecuteTime": {
     "end_time": "2024-02-02T11:20:39.821988183Z",
     "start_time": "2024-02-02T11:20:39.700927184Z"
    }
   },
   "execution_count": 3
  },
  {
   "cell_type": "code",
   "outputs": [],
   "source": [
    "class BaseAugmenter():\n",
    "    def __init__(self, chanse=0.5):\n",
    "        self.chance = chanse\n",
    "        \n",
    "    def __call__(self, img, *args, **kwargs):\n",
    "        augmented = False\n",
    "        if random.random()<= self.chance:\n",
    "            try:\n",
    "                img = self._apply(img, *args, **kwargs)\n",
    "                augmented = True\n",
    "            except Exception as e:\n",
    "                print(e)\n",
    "            \n",
    "        return img, augmented\n",
    "    \n",
    "    def _apply(self, img, *args, **kwargs):\n",
    "        return img\n",
    "    \n",
    "class NoiseAugmenter(BaseAugmenter):\n",
    "    def _apply(self, letter, max=30):\n",
    "        noise = np.random.normal(size=(letter.shape))*max\n",
    "        return letter+noise\n",
    "    \n",
    "class FlipAugmenter(BaseAugmenter):\n",
    "\n",
    "    def _apply(self, letter, mode='horizontal'):\n",
    "        if mode == 'horizontal':\n",
    "            return np.flip(letter, axis=0)\n",
    "        elif mode == 'vertical':\n",
    "            return np.flip(letter, axis=1)\n",
    "        elif mode == 'random':\n",
    "            axis = random.random() < 0.5\n",
    "            return np.flip(letter, axis=int(axis))\n",
    "        \n",
    "class RotationAugmenter(BaseAugmenter):\n",
    "    \n",
    "    def _apply(self, letter, angle=60):\n",
    "        image = np.zeros_like(letter) + 255 - letter\n",
    "        rotated = imutils.rotate_bound(image, angle)\n",
    "        rotated = np.zeros_like(rotated) + 255 - rotated\n",
    "        rotated = cv2.resize(rotated, (letter.shape[1], letter.shape[0]))\n",
    "        return rotated\n",
    "    \n",
    "class BlurAugmenter(BaseAugmenter):\n",
    "    \n",
    "    def _apply(self, letter, kernel_size=3):\n",
    "        return cv2.medianBlur(letter, kernel_size)\n",
    "\n",
    "class MultipleAugmenter():\n",
    "    NOISE_CHANCE = 0.1\n",
    "    NOISE_HARDNESS = 20\n",
    "    \n",
    "    FLIP_CHANCE = 0.3\n",
    "    \n",
    "    ROTATE_CHANCE = 0.15\n",
    "    \n",
    "    BLUR_CHANCE = 0.1\n",
    "    BLUR_HARD_CHANCE = 0.05\n",
    "    \n",
    "    images = []\n",
    "    captions = []\n",
    "    \n",
    "    def __init__(self, images, captions):\n",
    "        self.images_orig = images\n",
    "        self.captions_orig = captions\n",
    "        self.augmenters = [\n",
    "            FlipAugmenter(self.FLIP_CHANCE),\n",
    "            RotationAugmenter(self.ROTATE_CHANCE),\n",
    "            BlurAugmenter(self.BLUR_CHANCE),\n",
    "            BlurAugmenter(self.BLUR_HARD_CHANCE),\n",
    "            \n",
    "        ]\n",
    "        self.noise = (NoiseAugmenter(self.NOISE_CHANCE), self.NOISE_HARDNESS)\n",
    "        \n",
    "        self.augment_args = [\n",
    "            ['random'],\n",
    "            [],\n",
    "            [3],\n",
    "            [5],\n",
    "\n",
    "        ]    \n",
    "    \n",
    "    def random_augment(self, rounds = 1, seed = 42, save_last=False):\n",
    "        random.seed(seed)\n",
    "        \n",
    "        images = self.images_orig\n",
    "        captions = self.captions_orig\n",
    "        \n",
    "        for _ in range(rounds):\n",
    "            print(len(images))\n",
    "            num_images = len(images)\n",
    "            for n in range(num_images):\n",
    "                image = images[n]\n",
    "                caption = captions[n]\n",
    "                \n",
    "                for n, aug in enumerate(self.augmenters):\n",
    "                    aug_args = self.augment_args[n]\n",
    "                    if not aug_args:\n",
    "                        aug_args = [random.randint(-15,15)]\n",
    "                    image, augmented = aug(image, *aug_args)\n",
    "                    if augmented:\n",
    "                        images.append(image)\n",
    "                        captions.append(caption)\n",
    "                    \n",
    "            if save_last:\n",
    "                images = images[num_images:]\n",
    "                captions = captions[num_images:]\n",
    "        \n",
    "\n",
    "                \n",
    "        self.images = images\n",
    "        self.captions = captions        \n",
    "        self._apply_noise()\n",
    "        self._normalize()\n",
    "        \n",
    "    def _apply_noise(self):\n",
    "        for n, im in enumerate(self.images):\n",
    "            noise_augmenter, hardeness = self.noise\n",
    "            image, augmented = noise_augmenter(im, hardeness)\n",
    "            if augmented:\n",
    "                self.images[n] = image        \n",
    "        \n",
    "    def _normalize(self):\n",
    "        for n, im in enumerate(self.images):\n",
    "            im = np.array(im)\n",
    "            self.images[n] = im/im.max()"
   ],
   "metadata": {
    "collapsed": false,
    "ExecuteTime": {
     "end_time": "2024-02-02T11:20:39.876128567Z",
     "start_time": "2024-02-02T11:20:39.828770588Z"
    }
   },
   "execution_count": 4
  },
  {
   "cell_type": "code",
   "outputs": [
    {
     "name": "stdout",
     "output_type": "stream",
     "text": [
      "693\n",
      "1117\n",
      "1763\n",
      "2814\n",
      "4490\n",
      "7161\n",
      "11452\n",
      "18331\n",
      "693\n",
      "1099\n",
      "1727\n"
     ]
    }
   ],
   "source": [
    "images = []\n",
    "captions = []\n",
    "captions_base = \"Ё Й Ц У К Е Н Г Ш Щ З Х Ъ Ф Ы В А П Р О Л Д Ж Э Я Ч С М И Т Ь Б Ю\".split(' ')\n",
    "for i in range(1, num_fonts+1):\n",
    "    for j in range(1, num_letters+1):\n",
    "        images.append(get_letter(i,j))\n",
    "        captions.append(captions_base[j-1])\n",
    "\n",
    "aug = MultipleAugmenter(images.copy(), captions.copy())\n",
    "aug.random_augment(8)\n",
    "test_aug = MultipleAugmenter(images.copy(), captions.copy())\n",
    "test_aug.random_augment(3, 65, 0)"
   ],
   "metadata": {
    "collapsed": false,
    "ExecuteTime": {
     "end_time": "2024-02-02T11:20:40.741079236Z",
     "start_time": "2024-02-02T11:20:39.875233286Z"
    }
   },
   "execution_count": 5
  },
  {
   "cell_type": "code",
   "outputs": [],
   "source": [
    "x_data = np.array(aug.images)\n",
    "x_data = x_data.reshape(*x_data.shape, 1)\n",
    "classes = list(map(captions_base.index, aug.captions))\n",
    "y_data = keras.utils.to_categorical(classes, num_classes=num_letters)\n",
    "\n",
    "num_train_samples = int(len(x_data) * (1 - validation_split))\n",
    "num_val_samples = len(x_data) - num_train_samples\n",
    "x_train, x_val = np.split(x_data, [num_train_samples])\n",
    "y_train, y_val = np.split(y_data, [num_train_samples])\n",
    "\n",
    "test_x_data = np.array(test_aug.images)\n",
    "test_x_data = test_x_data.reshape(*test_x_data.shape,1)\n",
    "\n",
    "test_classes = list(map(captions_base.index, test_aug.captions))\n",
    "test_y_data = keras.utils.to_categorical(test_classes, num_classes=num_letters)"
   ],
   "metadata": {
    "collapsed": false,
    "ExecuteTime": {
     "end_time": "2024-02-02T11:20:40.807969559Z",
     "start_time": "2024-02-02T11:20:40.744259997Z"
    }
   },
   "execution_count": 6
  },
  {
   "cell_type": "markdown",
   "metadata": {
    "id": "FI9R-DPt3zGE"
   },
   "source": [
    "## Helper functions\n",
    "\n",
    "We create two helper functions to help us get a sequence of\n",
    "patches from the image, merge patches, and apply dropout."
   ]
  },
  {
   "cell_type": "code",
   "execution_count": 7,
   "metadata": {
    "id": "f99opgq13zGE",
    "ExecuteTime": {
     "end_time": "2024-02-02T11:20:40.815320623Z",
     "start_time": "2024-02-02T11:20:40.809411757Z"
    }
   },
   "outputs": [],
   "source": [
    "\n",
    "from utils.funcs import *\n"
   ]
  },
  {
   "cell_type": "markdown",
   "metadata": {
    "id": "4LV_xN8H3zGF"
   },
   "source": [
    "## Window based multi-head self-attention\n",
    "\n",
    "Usually Transformers perform global self-attention, where the relationships\n",
    "between a token and all other tokens are computed. The global computation leads\n",
    "to quadratic complexity with respect to the number of tokens. Here, as the\n",
    "[original paper](https://arxiv.org/abs/2103.14030) suggests, we compute\n",
    "self-attention within local windows, in a non-overlapping manner. Global\n",
    "self-attention leads to quadratic computational complexity in the number of\n",
    "patches, whereas window-based self-attention leads to linear complexity and is\n",
    "easily scalable."
   ]
  },
  {
   "cell_type": "code",
   "execution_count": 8,
   "metadata": {
    "id": "q7qKjsqk3zGF",
    "ExecuteTime": {
     "end_time": "2024-02-02T11:20:40.821403635Z",
     "start_time": "2024-02-02T11:20:40.811477020Z"
    }
   },
   "outputs": [],
   "source": [
    "from utils.layers import WindowAttention\n"
   ]
  },
  {
   "cell_type": "markdown",
   "metadata": {
    "id": "bsD4lkTj3zGG"
   },
   "source": [
    "## The complete Swin Transformer model\n",
    "\n",
    "Finally, we put together the complete Swin Transformer by replacing the standard\n",
    "multi-head attention (MHA) with shifted windows attention. As suggested in the\n",
    "original paper, we create a model comprising of a shifted window-based MHA\n",
    "layer, followed by a 2-layer MLP with GELU nonlinearity in between, applying\n",
    "`LayerNormalization` before each MSA layer and each MLP, and a residual\n",
    "connection after each of these layers.\n",
    "\n",
    "Notice that we only create a simple MLP with 2 Dense and\n",
    "2 Dropout layers. Often you will see models using ResNet-50 as the MLP which is\n",
    "quite standard in the literature. However in this paper the authors use a\n",
    "2-layer MLP with GELU nonlinearity in between."
   ]
  },
  {
   "cell_type": "code",
   "execution_count": 9,
   "metadata": {
    "id": "DN327jtK3zGG",
    "ExecuteTime": {
     "end_time": "2024-02-02T11:20:40.863591061Z",
     "start_time": "2024-02-02T11:20:40.819105180Z"
    }
   },
   "outputs": [],
   "source": [
    "from utils.layers import SwinTransformer"
   ]
  },
  {
   "cell_type": "markdown",
   "metadata": {
    "id": "QFIcaONk3zGH"
   },
   "source": [
    "## Model training and evaluation\n",
    "\n",
    "### Extract and embed patches\n",
    "\n",
    "We first create 3 layers to help us extract, embed and merge patches from the\n",
    "images on top of which we will later use the Swin Transformer class we built."
   ]
  },
  {
   "cell_type": "code",
   "execution_count": 10,
   "metadata": {
    "id": "SaPR6clL3zGH",
    "ExecuteTime": {
     "end_time": "2024-02-02T11:20:40.865365792Z",
     "start_time": "2024-02-02T11:20:40.863411794Z"
    }
   },
   "outputs": [],
   "source": [
    "# Using tf ops since it is only used in tf.data.\n",
    "\n",
    "from utils.layers import PatchMerging, PatchEmbedding\n"
   ]
  },
  {
   "cell_type": "markdown",
   "metadata": {
    "id": "u7WM7yPD3zGI"
   },
   "source": [
    "### Prepare the tf.data.Dataset\n",
    "\n",
    "We do all the steps, which do not have trainable weights with tf.data.\n",
    "Prepare the training, validation and testing sets."
   ]
  },
  {
   "cell_type": "code",
   "execution_count": 11,
   "metadata": {
    "id": "R1BOIjWy3zGI",
    "ExecuteTime": {
     "end_time": "2024-02-02T11:20:41.400570251Z",
     "start_time": "2024-02-02T11:20:40.863817349Z"
    }
   },
   "outputs": [
    {
     "name": "stderr",
     "output_type": "stream",
     "text": [
      "2024-02-02 14:20:40.856438: I external/local_xla/xla/stream_executor/cuda/cuda_executor.cc:901] successful NUMA node read from SysFS had negative value (-1), but there must be at least one NUMA node, so returning NUMA node zero. See more at https://github.com/torvalds/linux/blob/v6.0/Documentation/ABI/testing/sysfs-bus-pci#L344-L355\n",
      "2024-02-02 14:20:40.857008: I external/local_xla/xla/stream_executor/cuda/cuda_executor.cc:901] successful NUMA node read from SysFS had negative value (-1), but there must be at least one NUMA node, so returning NUMA node zero. See more at https://github.com/torvalds/linux/blob/v6.0/Documentation/ABI/testing/sysfs-bus-pci#L344-L355\n",
      "2024-02-02 14:20:40.857258: I external/local_xla/xla/stream_executor/cuda/cuda_executor.cc:901] successful NUMA node read from SysFS had negative value (-1), but there must be at least one NUMA node, so returning NUMA node zero. See more at https://github.com/torvalds/linux/blob/v6.0/Documentation/ABI/testing/sysfs-bus-pci#L344-L355\n",
      "2024-02-02 14:20:40.943225: I external/local_xla/xla/stream_executor/cuda/cuda_executor.cc:901] successful NUMA node read from SysFS had negative value (-1), but there must be at least one NUMA node, so returning NUMA node zero. See more at https://github.com/torvalds/linux/blob/v6.0/Documentation/ABI/testing/sysfs-bus-pci#L344-L355\n",
      "2024-02-02 14:20:40.943427: I external/local_xla/xla/stream_executor/cuda/cuda_executor.cc:901] successful NUMA node read from SysFS had negative value (-1), but there must be at least one NUMA node, so returning NUMA node zero. See more at https://github.com/torvalds/linux/blob/v6.0/Documentation/ABI/testing/sysfs-bus-pci#L344-L355\n",
      "2024-02-02 14:20:40.943602: I external/local_xla/xla/stream_executor/cuda/cuda_executor.cc:901] successful NUMA node read from SysFS had negative value (-1), but there must be at least one NUMA node, so returning NUMA node zero. See more at https://github.com/torvalds/linux/blob/v6.0/Documentation/ABI/testing/sysfs-bus-pci#L344-L355\n",
      "2024-02-02 14:20:40.943793: I tensorflow/core/common_runtime/gpu/gpu_device.cc:1929] Created device /job:localhost/replica:0/task:0/device:GPU:0 with 1146 MB memory:  -> device: 0, name: NVIDIA GeForce RTX 4060 Laptop GPU, pci bus id: 0000:01:00.0, compute capability: 8.9\n",
      "2024-02-02 14:20:40.944987: W external/local_tsl/tsl/framework/cpu_allocator_impl.cc:83] Allocation of 215949312 exceeds 10% of free system memory.\n",
      "2024-02-02 14:20:41.143534: W external/local_tsl/tsl/framework/cpu_allocator_impl.cc:83] Allocation of 215949312 exceeds 10% of free system memory.\n"
     ]
    }
   ],
   "source": [
    "def augment(x):\n",
    "    return x\n",
    "\n",
    "\n",
    "dataset = (\n",
    "    tf.data.Dataset.from_tensor_slices((x_train, y_train))\n",
    "    .map(lambda x, y: (augment(x), y))\n",
    "    .batch(batch_size=batch_size)\n",
    "    .map(lambda x, y: (patch_extract(x), y))\n",
    "    .prefetch(tf.data.experimental.AUTOTUNE)\n",
    ")\n",
    "\n",
    "dataset_val = (\n",
    "    tf.data.Dataset.from_tensor_slices((x_val, y_val))\n",
    "    .batch(batch_size=batch_size)\n",
    "    .map(lambda x, y: (patch_extract(x), y))\n",
    "    .prefetch(tf.data.experimental.AUTOTUNE)\n",
    ")\n",
    "\n",
    "dataset_test = (\n",
    "    tf.data.Dataset.from_tensor_slices((test_x_data, test_y_data))\n",
    "    .batch(batch_size=batch_size)\n",
    "    .map(lambda x, y: (patch_extract(x), y))\n",
    "    .prefetch(tf.data.experimental.AUTOTUNE)\n",
    ")"
   ]
  },
  {
   "cell_type": "code",
   "outputs": [
    {
     "data": {
      "text/plain": "2788"
     },
     "execution_count": 12,
     "metadata": {},
     "output_type": "execute_result"
    }
   ],
   "source": [
    "len(test_x_data)"
   ],
   "metadata": {
    "collapsed": false,
    "ExecuteTime": {
     "end_time": "2024-02-02T11:20:41.447582219Z",
     "start_time": "2024-02-02T11:20:41.401526870Z"
    }
   },
   "execution_count": 12
  },
  {
   "cell_type": "markdown",
   "metadata": {
    "id": "aIiql3_13zGI"
   },
   "source": [
    "### Build the model\n",
    "\n",
    "We put together the Swin Transformer model."
   ]
  },
  {
   "cell_type": "code",
   "execution_count": 30,
   "metadata": {
    "id": "m1HNxEWw3zGJ",
    "ExecuteTime": {
     "end_time": "2024-02-02T11:34:04.529303977Z",
     "start_time": "2024-02-02T11:34:04.227430167Z"
    }
   },
   "outputs": [
    {
     "data": {
      "text/plain": "\u001B[1mModel: \"functional_7\"\u001B[0m\n",
      "text/html": "<pre style=\"white-space:pre;overflow-x:auto;line-height:normal;font-family:Menlo,'DejaVu Sans Mono',consolas,'Courier New',monospace\"><span style=\"font-weight: bold\">Model: \"functional_7\"</span>\n</pre>\n"
     },
     "metadata": {},
     "output_type": "display_data"
    },
    {
     "data": {
      "text/plain": "┏━━━━━━━━━━━━━━━━━━━━━━━━━━━━━━━━━┳━━━━━━━━━━━━━━━━━━━━━━━━━━━┳━━━━━━━━━━━━┓\n┃\u001B[1m \u001B[0m\u001B[1mLayer (type)                   \u001B[0m\u001B[1m \u001B[0m┃\u001B[1m \u001B[0m\u001B[1mOutput Shape             \u001B[0m\u001B[1m \u001B[0m┃\u001B[1m \u001B[0m\u001B[1m   Param #\u001B[0m\u001B[1m \u001B[0m┃\n┡━━━━━━━━━━━━━━━━━━━━━━━━━━━━━━━━━╇━━━━━━━━━━━━━━━━━━━━━━━━━━━╇━━━━━━━━━━━━┩\n│ input_layer_3 (\u001B[38;5;33mInputLayer\u001B[0m)      │ (\u001B[38;5;45mNone\u001B[0m, \u001B[38;5;34m256\u001B[0m, \u001B[38;5;34m4\u001B[0m)            │          \u001B[38;5;34m0\u001B[0m │\n├─────────────────────────────────┼───────────────────────────┼────────────┤\n│ patch_embedding_1               │ (\u001B[38;5;45mNone\u001B[0m, \u001B[38;5;34m256\u001B[0m, \u001B[38;5;34m64\u001B[0m)           │     \u001B[38;5;34m16,704\u001B[0m │\n│ (\u001B[38;5;33mPatchEmbedding\u001B[0m)                │                           │            │\n├─────────────────────────────────┼───────────────────────────┼────────────┤\n│ swin_transformer_2              │ (\u001B[38;5;45mNone\u001B[0m, \u001B[38;5;34m256\u001B[0m, \u001B[38;5;34m64\u001B[0m)           │     \u001B[38;5;34m50,072\u001B[0m │\n│ (\u001B[38;5;33mSwinTransformer\u001B[0m)               │                           │            │\n├─────────────────────────────────┼───────────────────────────┼────────────┤\n│ swin_transformer_3              │ (\u001B[38;5;45mNone\u001B[0m, \u001B[38;5;34m256\u001B[0m, \u001B[38;5;34m64\u001B[0m)           │     \u001B[38;5;34m51,096\u001B[0m │\n│ (\u001B[38;5;33mSwinTransformer\u001B[0m)               │                           │            │\n├─────────────────────────────────┼───────────────────────────┼────────────┤\n│ patch_merging_1 (\u001B[38;5;33mPatchMerging\u001B[0m)  │ (\u001B[38;5;45mNone\u001B[0m, \u001B[38;5;34m64\u001B[0m, \u001B[38;5;34m128\u001B[0m)           │     \u001B[38;5;34m32,768\u001B[0m │\n├─────────────────────────────────┼───────────────────────────┼────────────┤\n│ global_average_pooling1d_1      │ (\u001B[38;5;45mNone\u001B[0m, \u001B[38;5;34m128\u001B[0m)               │          \u001B[38;5;34m0\u001B[0m │\n│ (\u001B[38;5;33mGlobalAveragePooling1D\u001B[0m)        │                           │            │\n├─────────────────────────────────┼───────────────────────────┼────────────┤\n│ dense_24 (\u001B[38;5;33mDense\u001B[0m)                │ (\u001B[38;5;45mNone\u001B[0m, \u001B[38;5;34m1024\u001B[0m)              │    \u001B[38;5;34m132,096\u001B[0m │\n├─────────────────────────────────┼───────────────────────────┼────────────┤\n│ dense_25 (\u001B[38;5;33mDense\u001B[0m)                │ (\u001B[38;5;45mNone\u001B[0m, \u001B[38;5;34m512\u001B[0m)               │    \u001B[38;5;34m524,800\u001B[0m │\n├─────────────────────────────────┼───────────────────────────┼────────────┤\n│ dense_26 (\u001B[38;5;33mDense\u001B[0m)                │ (\u001B[38;5;45mNone\u001B[0m, \u001B[38;5;34m256\u001B[0m)               │    \u001B[38;5;34m131,328\u001B[0m │\n├─────────────────────────────────┼───────────────────────────┼────────────┤\n│ dense_27 (\u001B[38;5;33mDense\u001B[0m)                │ (\u001B[38;5;45mNone\u001B[0m, \u001B[38;5;34m33\u001B[0m)                │      \u001B[38;5;34m8,481\u001B[0m │\n└─────────────────────────────────┴───────────────────────────┴────────────┘\n",
      "text/html": "<pre style=\"white-space:pre;overflow-x:auto;line-height:normal;font-family:Menlo,'DejaVu Sans Mono',consolas,'Courier New',monospace\">┏━━━━━━━━━━━━━━━━━━━━━━━━━━━━━━━━━┳━━━━━━━━━━━━━━━━━━━━━━━━━━━┳━━━━━━━━━━━━┓\n┃<span style=\"font-weight: bold\"> Layer (type)                    </span>┃<span style=\"font-weight: bold\"> Output Shape              </span>┃<span style=\"font-weight: bold\">    Param # </span>┃\n┡━━━━━━━━━━━━━━━━━━━━━━━━━━━━━━━━━╇━━━━━━━━━━━━━━━━━━━━━━━━━━━╇━━━━━━━━━━━━┩\n│ input_layer_3 (<span style=\"color: #0087ff; text-decoration-color: #0087ff\">InputLayer</span>)      │ (<span style=\"color: #00d7ff; text-decoration-color: #00d7ff\">None</span>, <span style=\"color: #00af00; text-decoration-color: #00af00\">256</span>, <span style=\"color: #00af00; text-decoration-color: #00af00\">4</span>)            │          <span style=\"color: #00af00; text-decoration-color: #00af00\">0</span> │\n├─────────────────────────────────┼───────────────────────────┼────────────┤\n│ patch_embedding_1               │ (<span style=\"color: #00d7ff; text-decoration-color: #00d7ff\">None</span>, <span style=\"color: #00af00; text-decoration-color: #00af00\">256</span>, <span style=\"color: #00af00; text-decoration-color: #00af00\">64</span>)           │     <span style=\"color: #00af00; text-decoration-color: #00af00\">16,704</span> │\n│ (<span style=\"color: #0087ff; text-decoration-color: #0087ff\">PatchEmbedding</span>)                │                           │            │\n├─────────────────────────────────┼───────────────────────────┼────────────┤\n│ swin_transformer_2              │ (<span style=\"color: #00d7ff; text-decoration-color: #00d7ff\">None</span>, <span style=\"color: #00af00; text-decoration-color: #00af00\">256</span>, <span style=\"color: #00af00; text-decoration-color: #00af00\">64</span>)           │     <span style=\"color: #00af00; text-decoration-color: #00af00\">50,072</span> │\n│ (<span style=\"color: #0087ff; text-decoration-color: #0087ff\">SwinTransformer</span>)               │                           │            │\n├─────────────────────────────────┼───────────────────────────┼────────────┤\n│ swin_transformer_3              │ (<span style=\"color: #00d7ff; text-decoration-color: #00d7ff\">None</span>, <span style=\"color: #00af00; text-decoration-color: #00af00\">256</span>, <span style=\"color: #00af00; text-decoration-color: #00af00\">64</span>)           │     <span style=\"color: #00af00; text-decoration-color: #00af00\">51,096</span> │\n│ (<span style=\"color: #0087ff; text-decoration-color: #0087ff\">SwinTransformer</span>)               │                           │            │\n├─────────────────────────────────┼───────────────────────────┼────────────┤\n│ patch_merging_1 (<span style=\"color: #0087ff; text-decoration-color: #0087ff\">PatchMerging</span>)  │ (<span style=\"color: #00d7ff; text-decoration-color: #00d7ff\">None</span>, <span style=\"color: #00af00; text-decoration-color: #00af00\">64</span>, <span style=\"color: #00af00; text-decoration-color: #00af00\">128</span>)           │     <span style=\"color: #00af00; text-decoration-color: #00af00\">32,768</span> │\n├─────────────────────────────────┼───────────────────────────┼────────────┤\n│ global_average_pooling1d_1      │ (<span style=\"color: #00d7ff; text-decoration-color: #00d7ff\">None</span>, <span style=\"color: #00af00; text-decoration-color: #00af00\">128</span>)               │          <span style=\"color: #00af00; text-decoration-color: #00af00\">0</span> │\n│ (<span style=\"color: #0087ff; text-decoration-color: #0087ff\">GlobalAveragePooling1D</span>)        │                           │            │\n├─────────────────────────────────┼───────────────────────────┼────────────┤\n│ dense_24 (<span style=\"color: #0087ff; text-decoration-color: #0087ff\">Dense</span>)                │ (<span style=\"color: #00d7ff; text-decoration-color: #00d7ff\">None</span>, <span style=\"color: #00af00; text-decoration-color: #00af00\">1024</span>)              │    <span style=\"color: #00af00; text-decoration-color: #00af00\">132,096</span> │\n├─────────────────────────────────┼───────────────────────────┼────────────┤\n│ dense_25 (<span style=\"color: #0087ff; text-decoration-color: #0087ff\">Dense</span>)                │ (<span style=\"color: #00d7ff; text-decoration-color: #00d7ff\">None</span>, <span style=\"color: #00af00; text-decoration-color: #00af00\">512</span>)               │    <span style=\"color: #00af00; text-decoration-color: #00af00\">524,800</span> │\n├─────────────────────────────────┼───────────────────────────┼────────────┤\n│ dense_26 (<span style=\"color: #0087ff; text-decoration-color: #0087ff\">Dense</span>)                │ (<span style=\"color: #00d7ff; text-decoration-color: #00d7ff\">None</span>, <span style=\"color: #00af00; text-decoration-color: #00af00\">256</span>)               │    <span style=\"color: #00af00; text-decoration-color: #00af00\">131,328</span> │\n├─────────────────────────────────┼───────────────────────────┼────────────┤\n│ dense_27 (<span style=\"color: #0087ff; text-decoration-color: #0087ff\">Dense</span>)                │ (<span style=\"color: #00d7ff; text-decoration-color: #00d7ff\">None</span>, <span style=\"color: #00af00; text-decoration-color: #00af00\">33</span>)                │      <span style=\"color: #00af00; text-decoration-color: #00af00\">8,481</span> │\n└─────────────────────────────────┴───────────────────────────┴────────────┘\n</pre>\n"
     },
     "metadata": {},
     "output_type": "display_data"
    },
    {
     "data": {
      "text/plain": "\u001B[1m Total params: \u001B[0m\u001B[38;5;34m947,345\u001B[0m (3.62 MB)\n",
      "text/html": "<pre style=\"white-space:pre;overflow-x:auto;line-height:normal;font-family:Menlo,'DejaVu Sans Mono',consolas,'Courier New',monospace\"><span style=\"font-weight: bold\"> Total params: </span><span style=\"color: #00af00; text-decoration-color: #00af00\">947,345</span> (3.62 MB)\n</pre>\n"
     },
     "metadata": {},
     "output_type": "display_data"
    },
    {
     "data": {
      "text/plain": "\u001B[1m Trainable params: \u001B[0m\u001B[38;5;34m946,289\u001B[0m (3.61 MB)\n",
      "text/html": "<pre style=\"white-space:pre;overflow-x:auto;line-height:normal;font-family:Menlo,'DejaVu Sans Mono',consolas,'Courier New',monospace\"><span style=\"font-weight: bold\"> Trainable params: </span><span style=\"color: #00af00; text-decoration-color: #00af00\">946,289</span> (3.61 MB)\n</pre>\n"
     },
     "metadata": {},
     "output_type": "display_data"
    },
    {
     "data": {
      "text/plain": "\u001B[1m Non-trainable params: \u001B[0m\u001B[38;5;34m1,056\u001B[0m (8.25 KB)\n",
      "text/html": "<pre style=\"white-space:pre;overflow-x:auto;line-height:normal;font-family:Menlo,'DejaVu Sans Mono',consolas,'Courier New',monospace\"><span style=\"font-weight: bold\"> Non-trainable params: </span><span style=\"color: #00af00; text-decoration-color: #00af00\">1,056</span> (8.25 KB)\n</pre>\n"
     },
     "metadata": {},
     "output_type": "display_data"
    }
   ],
   "source": [
    "input = layers.Input(shape=(256, 4))\n",
    "x = PatchEmbedding(num_patch_x * num_patch_y, embed_dim)(input)\n",
    "x = SwinTransformer(\n",
    "    dim=embed_dim,\n",
    "    num_patch=(num_patch_x, num_patch_y),\n",
    "    num_heads=num_heads,\n",
    "    window_size=window_size,\n",
    "    shift_size=0,\n",
    "    num_mlp=num_mlp,\n",
    "    qkv_bias=qkv_bias,\n",
    "    dropout_rate=dropout_rate,\n",
    ")(x)\n",
    "x = SwinTransformer(\n",
    "    dim=embed_dim,\n",
    "    num_patch=(num_patch_x, num_patch_y),\n",
    "    num_heads=num_heads,\n",
    "    window_size=window_size,\n",
    "    shift_size=shift_size,\n",
    "    num_mlp=num_mlp,\n",
    "    qkv_bias=qkv_bias,\n",
    "    dropout_rate=dropout_rate,\n",
    ")(x)\n",
    "x = PatchMerging((num_patch_x, num_patch_y), embed_dim=embed_dim)(x)\n",
    "x = layers.GlobalAveragePooling1D()(x)\n",
    "dense = keras.layers.Dense(1024, activation='relu')(x)\n",
    "dense = keras.layers.Dense(512, activation='relu')(dense)\n",
    "dense = keras.layers.Dense(256, activation='relu')(dense)\n",
    "output = layers.Dense(num_classes, activation=\"softmax\")(dense)\n",
    "model = keras.Model(input, output)\n",
    "model.summary()"
   ]
  },
  {
   "cell_type": "code",
   "execution_count": 31,
   "metadata": {
    "id": "uooQNxtm3zGJ",
    "ExecuteTime": {
     "end_time": "2024-02-02T11:48:08.214147156Z",
     "start_time": "2024-02-02T11:34:05.167052227Z"
    }
   },
   "outputs": [
    {
     "name": "stdout",
     "output_type": "stream",
     "text": [
      "Epoch 1/200\n",
      "\u001B[1m1648/1648\u001B[0m \u001B[32m━━━━━━━━━━━━━━━━━━━━\u001B[0m\u001B[37m\u001B[0m \u001B[1m44s\u001B[0m 16ms/step - accuracy: 0.0288 - loss: 3.5141 - top-5-accuracy: 0.1546 - val_accuracy: 0.0270 - val_loss: 3.4979 - val_top-5-accuracy: 0.1837 - learning_rate: 0.0010\n",
      "Epoch 2/200\n",
      "\u001B[1m1648/1648\u001B[0m \u001B[32m━━━━━━━━━━━━━━━━━━━━\u001B[0m\u001B[37m\u001B[0m \u001B[1m20s\u001B[0m 12ms/step - accuracy: 0.0433 - loss: 3.4599 - top-5-accuracy: 0.2051 - val_accuracy: 0.0720 - val_loss: 3.2825 - val_top-5-accuracy: 0.3220 - learning_rate: 0.0010\n",
      "Epoch 3/200\n",
      "\u001B[1m1648/1648\u001B[0m \u001B[32m━━━━━━━━━━━━━━━━━━━━\u001B[0m\u001B[37m\u001B[0m \u001B[1m14s\u001B[0m 9ms/step - accuracy: 0.1050 - loss: 3.1155 - top-5-accuracy: 0.4176 - val_accuracy: 0.1345 - val_loss: 3.0309 - val_top-5-accuracy: 0.4954 - learning_rate: 0.0010\n",
      "Epoch 4/200\n",
      "\u001B[1m1648/1648\u001B[0m \u001B[32m━━━━━━━━━━━━━━━━━━━━\u001B[0m\u001B[37m\u001B[0m \u001B[1m11s\u001B[0m 7ms/step - accuracy: 0.1854 - loss: 2.8046 - top-5-accuracy: 0.5918 - val_accuracy: 0.2328 - val_loss: 2.7310 - val_top-5-accuracy: 0.6265 - learning_rate: 0.0010\n",
      "Epoch 5/200\n",
      "\u001B[1m1648/1648\u001B[0m \u001B[32m━━━━━━━━━━━━━━━━━━━━\u001B[0m\u001B[37m\u001B[0m \u001B[1m11s\u001B[0m 7ms/step - accuracy: 0.2872 - loss: 2.5092 - top-5-accuracy: 0.7247 - val_accuracy: 0.2984 - val_loss: 2.4942 - val_top-5-accuracy: 0.7228 - learning_rate: 0.0010\n",
      "Epoch 6/200\n",
      "\u001B[1m1648/1648\u001B[0m \u001B[32m━━━━━━━━━━━━━━━━━━━━\u001B[0m\u001B[37m\u001B[0m \u001B[1m11s\u001B[0m 7ms/step - accuracy: 0.3834 - loss: 2.2515 - top-5-accuracy: 0.8068 - val_accuracy: 0.3407 - val_loss: 2.3834 - val_top-5-accuracy: 0.7614 - learning_rate: 0.0010\n",
      "Epoch 7/200\n",
      "\u001B[1m1648/1648\u001B[0m \u001B[32m━━━━━━━━━━━━━━━━━━━━\u001B[0m\u001B[37m\u001B[0m \u001B[1m11s\u001B[0m 7ms/step - accuracy: 0.4634 - loss: 2.0414 - top-5-accuracy: 0.8588 - val_accuracy: 0.3855 - val_loss: 2.2618 - val_top-5-accuracy: 0.7832 - learning_rate: 0.0010\n",
      "Epoch 8/200\n",
      "\u001B[1m1648/1648\u001B[0m \u001B[32m━━━━━━━━━━━━━━━━━━━━\u001B[0m\u001B[37m\u001B[0m \u001B[1m11s\u001B[0m 7ms/step - accuracy: 0.5314 - loss: 1.8789 - top-5-accuracy: 0.8947 - val_accuracy: 0.3984 - val_loss: 2.2378 - val_top-5-accuracy: 0.8016 - learning_rate: 0.0010\n",
      "Epoch 9/200\n",
      "\u001B[1m1648/1648\u001B[0m \u001B[32m━━━━━━━━━━━━━━━━━━━━\u001B[0m\u001B[37m\u001B[0m \u001B[1m11s\u001B[0m 7ms/step - accuracy: 0.5769 - loss: 1.7587 - top-5-accuracy: 0.9187 - val_accuracy: 0.4592 - val_loss: 2.0621 - val_top-5-accuracy: 0.8477 - learning_rate: 0.0010\n",
      "Epoch 10/200\n",
      "\u001B[1m1648/1648\u001B[0m \u001B[32m━━━━━━━━━━━━━━━━━━━━\u001B[0m\u001B[37m\u001B[0m \u001B[1m11s\u001B[0m 6ms/step - accuracy: 0.6201 - loss: 1.6588 - top-5-accuracy: 0.9323 - val_accuracy: 0.4715 - val_loss: 2.0739 - val_top-5-accuracy: 0.8324 - learning_rate: 0.0010\n",
      "Epoch 11/200\n",
      "\u001B[1m1648/1648\u001B[0m \u001B[32m━━━━━━━━━━━━━━━━━━━━\u001B[0m\u001B[37m\u001B[0m \u001B[1m10s\u001B[0m 6ms/step - accuracy: 0.6502 - loss: 1.5742 - top-5-accuracy: 0.9414 - val_accuracy: 0.5094 - val_loss: 1.9636 - val_top-5-accuracy: 0.8600 - learning_rate: 0.0010\n",
      "Epoch 12/200\n",
      "\u001B[1m1648/1648\u001B[0m \u001B[32m━━━━━━━━━━━━━━━━━━━━\u001B[0m\u001B[37m\u001B[0m \u001B[1m10s\u001B[0m 6ms/step - accuracy: 0.6814 - loss: 1.5026 - top-5-accuracy: 0.9514 - val_accuracy: 0.5213 - val_loss: 1.9479 - val_top-5-accuracy: 0.8590 - learning_rate: 0.0010\n",
      "Epoch 13/200\n",
      "\u001B[1m1648/1648\u001B[0m \u001B[32m━━━━━━━━━━━━━━━━━━━━\u001B[0m\u001B[37m\u001B[0m \u001B[1m10s\u001B[0m 6ms/step - accuracy: 0.7195 - loss: 1.4204 - top-5-accuracy: 0.9616 - val_accuracy: 0.5534 - val_loss: 1.8986 - val_top-5-accuracy: 0.8624 - learning_rate: 0.0010\n",
      "Epoch 14/200\n",
      "\u001B[1m1648/1648\u001B[0m \u001B[32m━━━━━━━━━━━━━━━━━━━━\u001B[0m\u001B[37m\u001B[0m \u001B[1m10s\u001B[0m 6ms/step - accuracy: 0.7422 - loss: 1.3750 - top-5-accuracy: 0.9635 - val_accuracy: 0.5787 - val_loss: 1.7897 - val_top-5-accuracy: 0.8894 - learning_rate: 0.0010\n",
      "Epoch 15/200\n",
      "\u001B[1m1648/1648\u001B[0m \u001B[32m━━━━━━━━━━━━━━━━━━━━\u001B[0m\u001B[37m\u001B[0m \u001B[1m11s\u001B[0m 7ms/step - accuracy: 0.7607 - loss: 1.3316 - top-5-accuracy: 0.9682 - val_accuracy: 0.5760 - val_loss: 1.8202 - val_top-5-accuracy: 0.8884 - learning_rate: 0.0010\n",
      "Epoch 16/200\n",
      "\u001B[1m1648/1648\u001B[0m \u001B[32m━━━━━━━━━━━━━━━━━━━━\u001B[0m\u001B[37m\u001B[0m \u001B[1m11s\u001B[0m 7ms/step - accuracy: 0.7791 - loss: 1.2778 - top-5-accuracy: 0.9731 - val_accuracy: 0.5988 - val_loss: 1.7421 - val_top-5-accuracy: 0.8959 - learning_rate: 0.0010\n",
      "Epoch 17/200\n",
      "\u001B[1m1648/1648\u001B[0m \u001B[32m━━━━━━━━━━━━━━━━━━━━\u001B[0m\u001B[37m\u001B[0m \u001B[1m11s\u001B[0m 7ms/step - accuracy: 0.8019 - loss: 1.2289 - top-5-accuracy: 0.9748 - val_accuracy: 0.6323 - val_loss: 1.6649 - val_top-5-accuracy: 0.9136 - learning_rate: 0.0010\n",
      "Epoch 18/200\n",
      "\u001B[1m1648/1648\u001B[0m \u001B[32m━━━━━━━━━━━━━━━━━━━━\u001B[0m\u001B[37m\u001B[0m \u001B[1m11s\u001B[0m 6ms/step - accuracy: 0.8141 - loss: 1.1968 - top-5-accuracy: 0.9801 - val_accuracy: 0.6152 - val_loss: 1.7533 - val_top-5-accuracy: 0.8935 - learning_rate: 0.0010\n",
      "Epoch 19/200\n",
      "\u001B[1m1648/1648\u001B[0m \u001B[32m━━━━━━━━━━━━━━━━━━━━\u001B[0m\u001B[37m\u001B[0m \u001B[1m11s\u001B[0m 7ms/step - accuracy: 0.8221 - loss: 1.1704 - top-5-accuracy: 0.9806 - val_accuracy: 0.6210 - val_loss: 1.6996 - val_top-5-accuracy: 0.9143 - learning_rate: 0.0010\n",
      "Epoch 20/200\n",
      "\u001B[1m1648/1648\u001B[0m \u001B[32m━━━━━━━━━━━━━━━━━━━━\u001B[0m\u001B[37m\u001B[0m \u001B[1m12s\u001B[0m 7ms/step - accuracy: 0.8348 - loss: 1.1512 - top-5-accuracy: 0.9811 - val_accuracy: 0.6381 - val_loss: 1.6456 - val_top-5-accuracy: 0.9198 - learning_rate: 0.0010\n",
      "Epoch 21/200\n",
      "\u001B[1m1648/1648\u001B[0m \u001B[32m━━━━━━━━━━━━━━━━━━━━\u001B[0m\u001B[37m\u001B[0m \u001B[1m11s\u001B[0m 7ms/step - accuracy: 0.8391 - loss: 1.1354 - top-5-accuracy: 0.9841 - val_accuracy: 0.6565 - val_loss: 1.6047 - val_top-5-accuracy: 0.9153 - learning_rate: 0.0010\n",
      "Epoch 22/200\n",
      "\u001B[1m1648/1648\u001B[0m \u001B[32m━━━━━━━━━━━━━━━━━━━━\u001B[0m\u001B[37m\u001B[0m \u001B[1m12s\u001B[0m 7ms/step - accuracy: 0.8528 - loss: 1.1048 - top-5-accuracy: 0.9850 - val_accuracy: 0.5988 - val_loss: 1.8360 - val_top-5-accuracy: 0.8856 - learning_rate: 0.0010\n",
      "Epoch 23/200\n",
      "\u001B[1m1648/1648\u001B[0m \u001B[32m━━━━━━━━━━━━━━━━━━━━\u001B[0m\u001B[37m\u001B[0m \u001B[1m11s\u001B[0m 7ms/step - accuracy: 0.8599 - loss: 1.0888 - top-5-accuracy: 0.9864 - val_accuracy: 0.6924 - val_loss: 1.5393 - val_top-5-accuracy: 0.9324 - learning_rate: 0.0010\n",
      "Epoch 24/200\n",
      "\u001B[1m1648/1648\u001B[0m \u001B[32m━━━━━━━━━━━━━━━━━━━━\u001B[0m\u001B[37m\u001B[0m \u001B[1m11s\u001B[0m 7ms/step - accuracy: 0.8704 - loss: 1.0621 - top-5-accuracy: 0.9883 - val_accuracy: 0.6777 - val_loss: 1.6027 - val_top-5-accuracy: 0.9259 - learning_rate: 0.0010\n",
      "Epoch 25/200\n",
      "\u001B[1m1648/1648\u001B[0m \u001B[32m━━━━━━━━━━━━━━━━━━━━\u001B[0m\u001B[37m\u001B[0m \u001B[1m11s\u001B[0m 7ms/step - accuracy: 0.8707 - loss: 1.0621 - top-5-accuracy: 0.9889 - val_accuracy: 0.7002 - val_loss: 1.5347 - val_top-5-accuracy: 0.9334 - learning_rate: 0.0010\n",
      "Epoch 26/200\n",
      "\u001B[1m1648/1648\u001B[0m \u001B[32m━━━━━━━━━━━━━━━━━━━━\u001B[0m\u001B[37m\u001B[0m \u001B[1m11s\u001B[0m 6ms/step - accuracy: 0.8823 - loss: 1.0323 - top-5-accuracy: 0.9895 - val_accuracy: 0.6743 - val_loss: 1.5820 - val_top-5-accuracy: 0.9276 - learning_rate: 0.0010\n",
      "Epoch 27/200\n",
      "\u001B[1m1648/1648\u001B[0m \u001B[32m━━━━━━━━━━━━━━━━━━━━\u001B[0m\u001B[37m\u001B[0m \u001B[1m11s\u001B[0m 6ms/step - accuracy: 0.8850 - loss: 1.0255 - top-5-accuracy: 0.9905 - val_accuracy: 0.7060 - val_loss: 1.5130 - val_top-5-accuracy: 0.9351 - learning_rate: 0.0010\n",
      "Epoch 28/200\n",
      "\u001B[1m1648/1648\u001B[0m \u001B[32m━━━━━━━━━━━━━━━━━━━━\u001B[0m\u001B[37m\u001B[0m \u001B[1m11s\u001B[0m 6ms/step - accuracy: 0.8886 - loss: 1.0131 - top-5-accuracy: 0.9918 - val_accuracy: 0.6958 - val_loss: 1.5162 - val_top-5-accuracy: 0.9375 - learning_rate: 0.0010\n",
      "Epoch 29/200\n",
      "\u001B[1m1648/1648\u001B[0m \u001B[32m━━━━━━━━━━━━━━━━━━━━\u001B[0m\u001B[37m\u001B[0m \u001B[1m11s\u001B[0m 7ms/step - accuracy: 0.8939 - loss: 1.0061 - top-5-accuracy: 0.9913 - val_accuracy: 0.6777 - val_loss: 1.6019 - val_top-5-accuracy: 0.9222 - learning_rate: 0.0010\n",
      "Epoch 30/200\n",
      "\u001B[1m1648/1648\u001B[0m \u001B[32m━━━━━━━━━━━━━━━━━━━━\u001B[0m\u001B[37m\u001B[0m \u001B[1m11s\u001B[0m 7ms/step - accuracy: 0.8878 - loss: 1.0129 - top-5-accuracy: 0.9918 - val_accuracy: 0.7054 - val_loss: 1.5284 - val_top-5-accuracy: 0.9379 - learning_rate: 0.0010\n",
      "Epoch 31/200\n",
      "\u001B[1m1648/1648\u001B[0m \u001B[32m━━━━━━━━━━━━━━━━━━━━\u001B[0m\u001B[37m\u001B[0m \u001B[1m11s\u001B[0m 6ms/step - accuracy: 0.8952 - loss: 0.9964 - top-5-accuracy: 0.9914 - val_accuracy: 0.6582 - val_loss: 1.6731 - val_top-5-accuracy: 0.8996 - learning_rate: 0.0010\n",
      "Epoch 32/200\n",
      "\u001B[1m1648/1648\u001B[0m \u001B[32m━━━━━━━━━━━━━━━━━━━━\u001B[0m\u001B[37m\u001B[0m \u001B[1m11s\u001B[0m 6ms/step - accuracy: 0.9030 - loss: 0.9756 - top-5-accuracy: 0.9921 - val_accuracy: 0.7146 - val_loss: 1.5100 - val_top-5-accuracy: 0.9351 - learning_rate: 0.0010\n",
      "Epoch 33/200\n",
      "\u001B[1m1648/1648\u001B[0m \u001B[32m━━━━━━━━━━━━━━━━━━━━\u001B[0m\u001B[37m\u001B[0m \u001B[1m11s\u001B[0m 6ms/step - accuracy: 0.9087 - loss: 0.9705 - top-5-accuracy: 0.9934 - val_accuracy: 0.6849 - val_loss: 1.6005 - val_top-5-accuracy: 0.9228 - learning_rate: 0.0010\n",
      "Epoch 34/200\n",
      "\u001B[1m1648/1648\u001B[0m \u001B[32m━━━━━━━━━━━━━━━━━━━━\u001B[0m\u001B[37m\u001B[0m \u001B[1m11s\u001B[0m 6ms/step - accuracy: 0.9090 - loss: 0.9650 - top-5-accuracy: 0.9938 - val_accuracy: 0.7037 - val_loss: 1.5193 - val_top-5-accuracy: 0.9351 - learning_rate: 0.0010\n",
      "Epoch 35/200\n",
      "\u001B[1m1648/1648\u001B[0m \u001B[32m━━━━━━━━━━━━━━━━━━━━\u001B[0m\u001B[37m\u001B[0m \u001B[1m11s\u001B[0m 7ms/step - accuracy: 0.9153 - loss: 0.9545 - top-5-accuracy: 0.9935 - val_accuracy: 0.7224 - val_loss: 1.4569 - val_top-5-accuracy: 0.9457 - learning_rate: 0.0010\n",
      "Epoch 36/200\n",
      "\u001B[1m1648/1648\u001B[0m \u001B[32m━━━━━━━━━━━━━━━━━━━━\u001B[0m\u001B[37m\u001B[0m \u001B[1m11s\u001B[0m 7ms/step - accuracy: 0.9194 - loss: 0.9350 - top-5-accuracy: 0.9950 - val_accuracy: 0.6859 - val_loss: 1.5601 - val_top-5-accuracy: 0.9280 - learning_rate: 0.0010\n",
      "Epoch 37/200\n",
      "\u001B[1m1648/1648\u001B[0m \u001B[32m━━━━━━━━━━━━━━━━━━━━\u001B[0m\u001B[37m\u001B[0m \u001B[1m11s\u001B[0m 7ms/step - accuracy: 0.9167 - loss: 0.9423 - top-5-accuracy: 0.9945 - val_accuracy: 0.7060 - val_loss: 1.5515 - val_top-5-accuracy: 0.9307 - learning_rate: 0.0010\n",
      "Epoch 38/200\n",
      "\u001B[1m1648/1648\u001B[0m \u001B[32m━━━━━━━━━━━━━━━━━━━━\u001B[0m\u001B[37m\u001B[0m \u001B[1m11s\u001B[0m 7ms/step - accuracy: 0.9240 - loss: 0.9247 - top-5-accuracy: 0.9948 - val_accuracy: 0.7276 - val_loss: 1.4772 - val_top-5-accuracy: 0.9423 - learning_rate: 0.0010\n",
      "Epoch 39/200\n",
      "\u001B[1m1648/1648\u001B[0m \u001B[32m━━━━━━━━━━━━━━━━━━━━\u001B[0m\u001B[37m\u001B[0m \u001B[1m11s\u001B[0m 6ms/step - accuracy: 0.9255 - loss: 0.9243 - top-5-accuracy: 0.9953 - val_accuracy: 0.7313 - val_loss: 1.4728 - val_top-5-accuracy: 0.9300 - learning_rate: 0.0010\n",
      "Epoch 40/200\n",
      "\u001B[1m1648/1648\u001B[0m \u001B[32m━━━━━━━━━━━━━━━━━━━━\u001B[0m\u001B[37m\u001B[0m \u001B[1m11s\u001B[0m 6ms/step - accuracy: 0.9264 - loss: 0.9143 - top-5-accuracy: 0.9951 - val_accuracy: 0.7429 - val_loss: 1.4795 - val_top-5-accuracy: 0.9324 - learning_rate: 0.0010\n",
      "Epoch 41/200\n",
      "\u001B[1m1648/1648\u001B[0m \u001B[32m━━━━━━━━━━━━━━━━━━━━\u001B[0m\u001B[37m\u001B[0m \u001B[1m11s\u001B[0m 7ms/step - accuracy: 0.9461 - loss: 0.8663 - top-5-accuracy: 0.9972 - val_accuracy: 0.8156 - val_loss: 1.2175 - val_top-5-accuracy: 0.9635 - learning_rate: 1.0000e-04\n",
      "Epoch 42/200\n",
      "\u001B[1m1648/1648\u001B[0m \u001B[32m━━━━━━━━━━━━━━━━━━━━\u001B[0m\u001B[37m\u001B[0m \u001B[1m11s\u001B[0m 7ms/step - accuracy: 0.9734 - loss: 0.7896 - top-5-accuracy: 0.9987 - val_accuracy: 0.8201 - val_loss: 1.1943 - val_top-5-accuracy: 0.9655 - learning_rate: 1.0000e-04\n",
      "Epoch 43/200\n",
      "\u001B[1m1648/1648\u001B[0m \u001B[32m━━━━━━━━━━━━━━━━━━━━\u001B[0m\u001B[37m\u001B[0m \u001B[1m11s\u001B[0m 7ms/step - accuracy: 0.9781 - loss: 0.7727 - top-5-accuracy: 0.9991 - val_accuracy: 0.8348 - val_loss: 1.1761 - val_top-5-accuracy: 0.9662 - learning_rate: 1.0000e-04\n",
      "Epoch 44/200\n",
      "\u001B[1m1648/1648\u001B[0m \u001B[32m━━━━━━━━━━━━━━━━━━━━\u001B[0m\u001B[37m\u001B[0m \u001B[1m11s\u001B[0m 7ms/step - accuracy: 0.9820 - loss: 0.7619 - top-5-accuracy: 0.9993 - val_accuracy: 0.8276 - val_loss: 1.1758 - val_top-5-accuracy: 0.9655 - learning_rate: 1.0000e-04\n",
      "Epoch 45/200\n",
      "\u001B[1m1648/1648\u001B[0m \u001B[32m━━━━━━━━━━━━━━━━━━━━\u001B[0m\u001B[37m\u001B[0m \u001B[1m11s\u001B[0m 7ms/step - accuracy: 0.9841 - loss: 0.7522 - top-5-accuracy: 0.9996 - val_accuracy: 0.8375 - val_loss: 1.1670 - val_top-5-accuracy: 0.9679 - learning_rate: 1.0000e-04\n",
      "Epoch 46/200\n",
      "\u001B[1m1648/1648\u001B[0m \u001B[32m━━━━━━━━━━━━━━━━━━━━\u001B[0m\u001B[37m\u001B[0m \u001B[1m10s\u001B[0m 6ms/step - accuracy: 0.9852 - loss: 0.7479 - top-5-accuracy: 0.9996 - val_accuracy: 0.8409 - val_loss: 1.1667 - val_top-5-accuracy: 0.9665 - learning_rate: 1.0000e-04\n",
      "Epoch 47/200\n",
      "\u001B[1m1648/1648\u001B[0m \u001B[32m━━━━━━━━━━━━━━━━━━━━\u001B[0m\u001B[37m\u001B[0m \u001B[1m10s\u001B[0m 6ms/step - accuracy: 0.9864 - loss: 0.7432 - top-5-accuracy: 0.9997 - val_accuracy: 0.8447 - val_loss: 1.1502 - val_top-5-accuracy: 0.9696 - learning_rate: 1.0000e-04\n",
      "Epoch 48/200\n",
      "\u001B[1m1648/1648\u001B[0m \u001B[32m━━━━━━━━━━━━━━━━━━━━\u001B[0m\u001B[37m\u001B[0m \u001B[1m11s\u001B[0m 7ms/step - accuracy: 0.9876 - loss: 0.7396 - top-5-accuracy: 0.9997 - val_accuracy: 0.8385 - val_loss: 1.1642 - val_top-5-accuracy: 0.9665 - learning_rate: 1.0000e-04\n",
      "Epoch 49/200\n",
      "\u001B[1m1648/1648\u001B[0m \u001B[32m━━━━━━━━━━━━━━━━━━━━\u001B[0m\u001B[37m\u001B[0m \u001B[1m11s\u001B[0m 7ms/step - accuracy: 0.9883 - loss: 0.7355 - top-5-accuracy: 0.9997 - val_accuracy: 0.8467 - val_loss: 1.1390 - val_top-5-accuracy: 0.9682 - learning_rate: 1.0000e-04\n",
      "Epoch 50/200\n",
      "\u001B[1m1648/1648\u001B[0m \u001B[32m━━━━━━━━━━━━━━━━━━━━\u001B[0m\u001B[37m\u001B[0m \u001B[1m11s\u001B[0m 7ms/step - accuracy: 0.9890 - loss: 0.7333 - top-5-accuracy: 0.9996 - val_accuracy: 0.8522 - val_loss: 1.1280 - val_top-5-accuracy: 0.9676 - learning_rate: 1.0000e-04\n",
      "Epoch 51/200\n",
      "\u001B[1m1648/1648\u001B[0m \u001B[32m━━━━━━━━━━━━━━━━━━━━\u001B[0m\u001B[37m\u001B[0m \u001B[1m11s\u001B[0m 7ms/step - accuracy: 0.9895 - loss: 0.7308 - top-5-accuracy: 0.9998 - val_accuracy: 0.8464 - val_loss: 1.1373 - val_top-5-accuracy: 0.9700 - learning_rate: 1.0000e-04\n",
      "Epoch 52/200\n",
      "\u001B[1m1648/1648\u001B[0m \u001B[32m━━━━━━━━━━━━━━━━━━━━\u001B[0m\u001B[37m\u001B[0m \u001B[1m12s\u001B[0m 7ms/step - accuracy: 0.9899 - loss: 0.7286 - top-5-accuracy: 0.9997 - val_accuracy: 0.8436 - val_loss: 1.1448 - val_top-5-accuracy: 0.9669 - learning_rate: 1.0000e-04\n",
      "Epoch 53/200\n",
      "\u001B[1m1648/1648\u001B[0m \u001B[32m━━━━━━━━━━━━━━━━━━━━\u001B[0m\u001B[37m\u001B[0m \u001B[1m11s\u001B[0m 7ms/step - accuracy: 0.9914 - loss: 0.7259 - top-5-accuracy: 0.9997 - val_accuracy: 0.8508 - val_loss: 1.1360 - val_top-5-accuracy: 0.9669 - learning_rate: 1.0000e-04\n",
      "Epoch 54/200\n",
      "\u001B[1m1648/1648\u001B[0m \u001B[32m━━━━━━━━━━━━━━━━━━━━\u001B[0m\u001B[37m\u001B[0m \u001B[1m11s\u001B[0m 6ms/step - accuracy: 0.9918 - loss: 0.7239 - top-5-accuracy: 0.9999 - val_accuracy: 0.8505 - val_loss: 1.1275 - val_top-5-accuracy: 0.9655 - learning_rate: 1.0000e-04\n",
      "Epoch 55/200\n",
      "\u001B[1m1648/1648\u001B[0m \u001B[32m━━━━━━━━━━━━━━━━━━━━\u001B[0m\u001B[37m\u001B[0m \u001B[1m10s\u001B[0m 6ms/step - accuracy: 0.9924 - loss: 0.7225 - top-5-accuracy: 0.9998 - val_accuracy: 0.8470 - val_loss: 1.1414 - val_top-5-accuracy: 0.9669 - learning_rate: 1.0000e-04\n",
      "Epoch 56/200\n",
      "\u001B[1m1648/1648\u001B[0m \u001B[32m━━━━━━━━━━━━━━━━━━━━\u001B[0m\u001B[37m\u001B[0m \u001B[1m11s\u001B[0m 6ms/step - accuracy: 0.9925 - loss: 0.7210 - top-5-accuracy: 0.9997 - val_accuracy: 0.8460 - val_loss: 1.1418 - val_top-5-accuracy: 0.9645 - learning_rate: 1.0000e-04\n",
      "Epoch 57/200\n",
      "\u001B[1m1648/1648\u001B[0m \u001B[32m━━━━━━━━━━━━━━━━━━━━\u001B[0m\u001B[37m\u001B[0m \u001B[1m10s\u001B[0m 6ms/step - accuracy: 0.9931 - loss: 0.7192 - top-5-accuracy: 0.9999 - val_accuracy: 0.8464 - val_loss: 1.1365 - val_top-5-accuracy: 0.9655 - learning_rate: 1.0000e-04\n",
      "Epoch 58/200\n",
      "\u001B[1m1648/1648\u001B[0m \u001B[32m━━━━━━━━━━━━━━━━━━━━\u001B[0m\u001B[37m\u001B[0m \u001B[1m10s\u001B[0m 6ms/step - accuracy: 0.9917 - loss: 0.7193 - top-5-accuracy: 0.9998 - val_accuracy: 0.8436 - val_loss: 1.1317 - val_top-5-accuracy: 0.9655 - learning_rate: 1.0000e-04\n",
      "Epoch 59/200\n",
      "\u001B[1m1648/1648\u001B[0m \u001B[32m━━━━━━━━━━━━━━━━━━━━\u001B[0m\u001B[37m\u001B[0m \u001B[1m10s\u001B[0m 6ms/step - accuracy: 0.9935 - loss: 0.7171 - top-5-accuracy: 0.9999 - val_accuracy: 0.8409 - val_loss: 1.1421 - val_top-5-accuracy: 0.9652 - learning_rate: 1.0000e-04\n",
      "Epoch 60/200\n",
      "\u001B[1m1648/1648\u001B[0m \u001B[32m━━━━━━━━━━━━━━━━━━━━\u001B[0m\u001B[37m\u001B[0m \u001B[1m10s\u001B[0m 6ms/step - accuracy: 0.9927 - loss: 0.7171 - top-5-accuracy: 0.9999 - val_accuracy: 0.8498 - val_loss: 1.1144 - val_top-5-accuracy: 0.9676 - learning_rate: 1.0000e-05\n",
      "Epoch 61/200\n",
      "\u001B[1m1648/1648\u001B[0m \u001B[32m━━━━━━━━━━━━━━━━━━━━\u001B[0m\u001B[37m\u001B[0m \u001B[1m10s\u001B[0m 6ms/step - accuracy: 0.9943 - loss: 0.7123 - top-5-accuracy: 0.9999 - val_accuracy: 0.8511 - val_loss: 1.1084 - val_top-5-accuracy: 0.9682 - learning_rate: 1.0000e-05\n",
      "Epoch 62/200\n",
      "\u001B[1m1648/1648\u001B[0m \u001B[32m━━━━━━━━━━━━━━━━━━━━\u001B[0m\u001B[37m\u001B[0m \u001B[1m10s\u001B[0m 6ms/step - accuracy: 0.9948 - loss: 0.7107 - top-5-accuracy: 0.9999 - val_accuracy: 0.8505 - val_loss: 1.1099 - val_top-5-accuracy: 0.9679 - learning_rate: 1.0000e-05\n",
      "Epoch 63/200\n",
      "\u001B[1m1648/1648\u001B[0m \u001B[32m━━━━━━━━━━━━━━━━━━━━\u001B[0m\u001B[37m\u001B[0m \u001B[1m10s\u001B[0m 6ms/step - accuracy: 0.9931 - loss: 0.7116 - top-5-accuracy: 1.0000 - val_accuracy: 0.8532 - val_loss: 1.1042 - val_top-5-accuracy: 0.9693 - learning_rate: 1.0000e-05\n",
      "Epoch 64/200\n",
      "\u001B[1m1648/1648\u001B[0m \u001B[32m━━━━━━━━━━━━━━━━━━━━\u001B[0m\u001B[37m\u001B[0m \u001B[1m10s\u001B[0m 6ms/step - accuracy: 0.9958 - loss: 0.7084 - top-5-accuracy: 1.0000 - val_accuracy: 0.8525 - val_loss: 1.1064 - val_top-5-accuracy: 0.9679 - learning_rate: 1.0000e-05\n",
      "Epoch 65/200\n",
      "\u001B[1m1648/1648\u001B[0m \u001B[32m━━━━━━━━━━━━━━━━━━━━\u001B[0m\u001B[37m\u001B[0m \u001B[1m10s\u001B[0m 6ms/step - accuracy: 0.9945 - loss: 0.7097 - top-5-accuracy: 0.9999 - val_accuracy: 0.8542 - val_loss: 1.1040 - val_top-5-accuracy: 0.9682 - learning_rate: 1.0000e-05\n",
      "Epoch 66/200\n",
      "\u001B[1m1648/1648\u001B[0m \u001B[32m━━━━━━━━━━━━━━━━━━━━\u001B[0m\u001B[37m\u001B[0m \u001B[1m10s\u001B[0m 6ms/step - accuracy: 0.9953 - loss: 0.7085 - top-5-accuracy: 0.9999 - val_accuracy: 0.8532 - val_loss: 1.1024 - val_top-5-accuracy: 0.9679 - learning_rate: 1.0000e-05\n",
      "Epoch 67/200\n",
      "\u001B[1m1648/1648\u001B[0m \u001B[32m━━━━━━━━━━━━━━━━━━━━\u001B[0m\u001B[37m\u001B[0m \u001B[1m10s\u001B[0m 6ms/step - accuracy: 0.9957 - loss: 0.7084 - top-5-accuracy: 0.9998 - val_accuracy: 0.8546 - val_loss: 1.1010 - val_top-5-accuracy: 0.9686 - learning_rate: 1.0000e-05\n",
      "Epoch 68/200\n",
      "\u001B[1m1648/1648\u001B[0m \u001B[32m━━━━━━━━━━━━━━━━━━━━\u001B[0m\u001B[37m\u001B[0m \u001B[1m10s\u001B[0m 6ms/step - accuracy: 0.9955 - loss: 0.7077 - top-5-accuracy: 1.0000 - val_accuracy: 0.8529 - val_loss: 1.1028 - val_top-5-accuracy: 0.9669 - learning_rate: 1.0000e-05\n",
      "Epoch 69/200\n",
      "\u001B[1m1648/1648\u001B[0m \u001B[32m━━━━━━━━━━━━━━━━━━━━\u001B[0m\u001B[37m\u001B[0m \u001B[1m11s\u001B[0m 7ms/step - accuracy: 0.9959 - loss: 0.7074 - top-5-accuracy: 0.9999 - val_accuracy: 0.8522 - val_loss: 1.1043 - val_top-5-accuracy: 0.9682 - learning_rate: 1.0000e-05\n",
      "Epoch 70/200\n",
      "\u001B[1m1648/1648\u001B[0m \u001B[32m━━━━━━━━━━━━━━━━━━━━\u001B[0m\u001B[37m\u001B[0m \u001B[1m11s\u001B[0m 7ms/step - accuracy: 0.9948 - loss: 0.7077 - top-5-accuracy: 1.0000 - val_accuracy: 0.8529 - val_loss: 1.1034 - val_top-5-accuracy: 0.9686 - learning_rate: 1.0000e-05\n",
      "Epoch 71/200\n",
      "\u001B[1m1648/1648\u001B[0m \u001B[32m━━━━━━━━━━━━━━━━━━━━\u001B[0m\u001B[37m\u001B[0m \u001B[1m12s\u001B[0m 7ms/step - accuracy: 0.9956 - loss: 0.7071 - top-5-accuracy: 0.9999 - val_accuracy: 0.8539 - val_loss: 1.1021 - val_top-5-accuracy: 0.9693 - learning_rate: 1.0000e-05\n",
      "Epoch 72/200\n",
      "\u001B[1m1648/1648\u001B[0m \u001B[32m━━━━━━━━━━━━━━━━━━━━\u001B[0m\u001B[37m\u001B[0m \u001B[1m12s\u001B[0m 7ms/step - accuracy: 0.9956 - loss: 0.7065 - top-5-accuracy: 1.0000 - val_accuracy: 0.8529 - val_loss: 1.1046 - val_top-5-accuracy: 0.9689 - learning_rate: 1.0000e-05\n",
      "Epoch 73/200\n",
      "\u001B[1m1648/1648\u001B[0m \u001B[32m━━━━━━━━━━━━━━━━━━━━\u001B[0m\u001B[37m\u001B[0m \u001B[1m11s\u001B[0m 7ms/step - accuracy: 0.9953 - loss: 0.7069 - top-5-accuracy: 1.0000 - val_accuracy: 0.8525 - val_loss: 1.1030 - val_top-5-accuracy: 0.9689 - learning_rate: 1.0000e-06\n",
      "Epoch 74/200\n",
      "\u001B[1m1648/1648\u001B[0m \u001B[32m━━━━━━━━━━━━━━━━━━━━\u001B[0m\u001B[37m\u001B[0m \u001B[1m10s\u001B[0m 6ms/step - accuracy: 0.9958 - loss: 0.7063 - top-5-accuracy: 1.0000 - val_accuracy: 0.8535 - val_loss: 1.1030 - val_top-5-accuracy: 0.9693 - learning_rate: 1.0000e-06\n"
     ]
    }
   ],
   "source": [
    "reduce_lr = keras.callbacks.ReduceLROnPlateau(monitor='val_loss', factor=0.1, min_delta = 1e-4,\n",
    "                              patience=5, min_lr=1e-8)\n",
    "early_stop = keras.callbacks.EarlyStopping(monitor='val_loss', min_delta=1e-4, patience=7, start_from_epoch=30)\n",
    "tensorboard = keras.callbacks.TensorBoard(log_dir=\"./logs\")\n",
    "checkpoint_filepath = f\"tmp/swin_checkpoint.weights.h5\"\n",
    "checkpoint_callback = keras.callbacks.ModelCheckpoint(\n",
    "        checkpoint_filepath,\n",
    "        monitor=\"val_categorical_accuracy\",\n",
    "        save_best_only=True,\n",
    "        save_weights_only=True,\n",
    "    )\n",
    "\n",
    "callbacks = [reduce_lr, early_stop, tensorboard, checkpoint_callback]\n",
    "\n",
    "model.compile(\n",
    "    loss=keras.losses.CategoricalCrossentropy(label_smoothing=label_smoothing),\n",
    "    optimizer=keras.optimizers.AdamW(\n",
    "        learning_rate=learning_rate, weight_decay=weight_decay\n",
    "    ),\n",
    "    metrics=[\n",
    "        keras.metrics.CategoricalAccuracy(name=\"accuracy\"),\n",
    "        keras.metrics.TopKCategoricalAccuracy(5, name=\"top-5-accuracy\"),\n",
    "    ],\n",
    ")\n",
    "\n",
    "history = model.fit(\n",
    "    dataset,\n",
    "    batch_size=batch_size,\n",
    "    epochs=num_epochs,\n",
    "    validation_data=dataset_val,\n",
    "    callbacks= callbacks\n",
    ")"
   ]
  },
  {
   "cell_type": "markdown",
   "metadata": {
    "id": "G0tjffc-3zGK"
   },
   "source": [
    "Let's visualize the training progress of the model."
   ]
  },
  {
   "cell_type": "code",
   "execution_count": 32,
   "metadata": {
    "id": "R-rFCLv53zGK",
    "ExecuteTime": {
     "end_time": "2024-02-02T11:56:13.380103816Z",
     "start_time": "2024-02-02T11:56:13.239613128Z"
    }
   },
   "outputs": [
    {
     "data": {
      "text/plain": "<Figure size 640x480 with 1 Axes>",
      "image/png": "[encoded data removed]"
     },
     "metadata": {},
     "output_type": "display_data"
    }
   ],
   "source": [
    "plt.plot(history.history[\"loss\"], label=\"train_loss\")\n",
    "plt.plot(history.history[\"val_loss\"], label=\"val_loss\")\n",
    "plt.xlabel(\"Epochs\")\n",
    "plt.ylabel(\"Loss\")\n",
    "plt.title(\"Train and Validation Losses Over Epochs\", fontsize=14)\n",
    "plt.legend()\n",
    "plt.grid()\n",
    "plt.show()"
   ]
  },
  {
   "cell_type": "code",
   "execution_count": 33,
   "metadata": {
    "id": "rh2icBYn3zGK",
    "ExecuteTime": {
     "end_time": "2024-02-02T11:56:15.901179766Z",
     "start_time": "2024-02-02T11:56:15.894415546Z"
    }
   },
   "outputs": [],
   "source": [
    "# loss, accuracy, top_5_accuracy = model.evaluate(dataset_test)\n",
    "# print(f\"Test loss: {round(loss, 2)}\")\n",
    "# print(f\"Test accuracy: {round(accuracy * 100, 2)}%\")\n",
    "# print(f\"Test top 5 accuracy: {round(top_5_accuracy * 100, 2)}%\")"
   ]
  },
  {
   "cell_type": "code",
   "outputs": [],
   "source": [
    "model.save('models/swin.keras')\n",
    "model.save_weights('models/swin.weights.h5')"
   ],
   "metadata": {
    "collapsed": false,
    "ExecuteTime": {
     "end_time": "2024-02-02T11:56:17.894490456Z",
     "start_time": "2024-02-02T11:56:17.693720383Z"
    }
   },
   "execution_count": 34
  },
  {
   "cell_type": "code",
   "outputs": [],
   "source": [
    "# keras.utils.plot_model(model,'models/swin.jpg')"
   ],
   "metadata": {
    "collapsed": false,
    "ExecuteTime": {
     "end_time": "2024-02-02T11:28:02.091162398Z",
     "start_time": "2024-02-02T11:28:02.044961003Z"
    }
   },
   "execution_count": 18
  },
  {
   "cell_type": "code",
   "outputs": [],
   "source": [
    "# model.load_weights('tmp/checkpoint81.weights.h5')"
   ],
   "metadata": {
    "collapsed": false,
    "ExecuteTime": {
     "end_time": "2024-02-02T11:28:02.092074070Z",
     "start_time": "2024-02-02T11:28:02.091152018Z"
    }
   },
   "execution_count": 19
  },
  {
   "cell_type": "markdown",
   "source": [
    "# Load other models to compare"
   ],
   "metadata": {
    "collapsed": false
   }
  },
  {
   "cell_type": "code",
   "outputs": [],
   "source": [
    "ViT = keras.saving.load_model('models/vit_letter_recognizer.keras')\n",
    "ViT.compile(\n",
    "    loss=keras.losses.CategoricalCrossentropy(label_smoothing=label_smoothing),\n",
    "    optimizer=keras.optimizers.AdamW(\n",
    "        learning_rate=learning_rate, weight_decay=weight_decay\n",
    "    ),\n",
    "    metrics=[\n",
    "        keras.metrics.CategoricalAccuracy(name=\"accuracy\"),\n",
    "        keras.metrics.TopKCategoricalAccuracy(5, name=\"top-5-accuracy\"),\n",
    "    ],\n",
    ")"
   ],
   "metadata": {
    "collapsed": false,
    "ExecuteTime": {
     "end_time": "2024-02-02T11:28:03.629114279Z",
     "start_time": "2024-02-02T11:28:02.091388756Z"
    }
   },
   "execution_count": 20
  },
  {
   "cell_type": "code",
   "outputs": [],
   "source": [
    "CNN = keras.saving.load_model('models/conv_letter_recognizer.keras')\n",
    "CNN.compile(\n",
    "    loss=keras.losses.CategoricalCrossentropy(label_smoothing=label_smoothing),\n",
    "    optimizer=keras.optimizers.AdamW(\n",
    "        learning_rate=learning_rate, weight_decay=weight_decay\n",
    "    ),\n",
    "    metrics=[\n",
    "        keras.metrics.CategoricalAccuracy(name=\"accuracy\"),\n",
    "        keras.metrics.TopKCategoricalAccuracy(5, name=\"top-5-accuracy\"),\n",
    "    ],\n",
    ")"
   ],
   "metadata": {
    "collapsed": false,
    "ExecuteTime": {
     "end_time": "2024-02-02T11:28:04.318931275Z",
     "start_time": "2024-02-02T11:28:03.629497413Z"
    }
   },
   "execution_count": 21
  },
  {
   "cell_type": "code",
   "outputs": [],
   "source": [
    "models = [CNN, ViT]"
   ],
   "metadata": {
    "collapsed": false,
    "ExecuteTime": {
     "end_time": "2024-02-02T11:28:04.363430948Z",
     "start_time": "2024-02-02T11:28:04.319518624Z"
    }
   },
   "execution_count": 22
  },
  {
   "cell_type": "code",
   "outputs": [
    {
     "name": "stdout",
     "output_type": "stream",
     "text": [
      "\u001B[1m88/88\u001B[0m \u001B[32m━━━━━━━━━━━━━━━━━━━━\u001B[0m\u001B[37m\u001B[0m \u001B[1m2s\u001B[0m 8ms/step - accuracy: 0.1432 - loss: 3.4288 - top-5-accuracy: 0.4084\n",
      "\u001B[1m88/88\u001B[0m \u001B[32m━━━━━━━━━━━━━━━━━━━━\u001B[0m\u001B[37m\u001B[0m \u001B[1m2s\u001B[0m 9ms/step - accuracy: 0.8872 - loss: 3.8949 - top-5-accuracy: 0.9485\n",
      "\u001B[1m175/175\u001B[0m \u001B[32m━━━━━━━━━━━━━━━━━━━━\u001B[0m\u001B[37m\u001B[0m \u001B[1m1s\u001B[0m 5ms/step - accuracy: 0.0315 - loss: 3.5033 - top-5-accuracy: 0.1533\n"
     ]
    },
    {
     "data": {
      "text/plain": "[[3.434995412826538, 0.13378766179084778, 0.3913199305534363],\n [4.515495777130127, 0.81635582447052, 0.9146341681480408],\n [3.503458023071289, 0.03192252665758133, 0.15136298537254333]]"
     },
     "execution_count": 23,
     "metadata": {},
     "output_type": "execute_result"
    }
   ],
   "source": [
    "evals = []\n",
    "for m in models: \n",
    "    evals.append(m.evaluate(test_x_data, test_y_data))\n",
    "evals.append(model.evaluate(dataset_test))\n",
    "evals"
   ],
   "metadata": {
    "collapsed": false,
    "ExecuteTime": {
     "end_time": "2024-02-02T11:28:08.498678747Z",
     "start_time": "2024-02-02T11:28:04.321560963Z"
    }
   },
   "execution_count": 23
  },
  {
   "cell_type": "code",
   "outputs": [
    {
     "name": "stdout",
     "output_type": "stream",
     "text": [
      "\u001B[1m88/88\u001B[0m \u001B[32m━━━━━━━━━━━━━━━━━━━━\u001B[0m\u001B[37m\u001B[0m \u001B[1m1s\u001B[0m 4ms/step\n",
      "\u001B[1m88/88\u001B[0m \u001B[32m━━━━━━━━━━━━━━━━━━━━\u001B[0m\u001B[37m\u001B[0m \u001B[1m1s\u001B[0m 9ms/step\n",
      "\u001B[1m175/175\u001B[0m \u001B[32m━━━━━━━━━━━━━━━━━━━━\u001B[0m\u001B[37m\u001B[0m \u001B[1m1s\u001B[0m 5ms/step\n"
     ]
    }
   ],
   "source": [
    "preds = []\n",
    "\n",
    "for m in models: \n",
    "    preds.append(m.predict(test_x_data))\n",
    "preds.append(model.predict(dataset_test))"
   ],
   "metadata": {
    "collapsed": false,
    "ExecuteTime": {
     "end_time": "2024-02-02T11:28:12.146010747Z",
     "start_time": "2024-02-02T11:28:08.499318135Z"
    }
   },
   "execution_count": 24
  },
  {
   "cell_type": "code",
   "outputs": [
    {
     "data": {
      "text/plain": "(2788, 32, 32, 1)"
     },
     "execution_count": 25,
     "metadata": {},
     "output_type": "execute_result"
    }
   ],
   "source": [
    "test_x_data.shape"
   ],
   "metadata": {
    "collapsed": false,
    "ExecuteTime": {
     "end_time": "2024-02-02T11:28:12.147927391Z",
     "start_time": "2024-02-02T11:28:12.146365548Z"
    }
   },
   "execution_count": 25
  },
  {
   "cell_type": "code",
   "outputs": [
    {
     "data": {
      "text/plain": "\u001B[1mModel: \"functional_5\"\u001B[0m\n",
      "text/html": "<pre style=\"white-space:pre;overflow-x:auto;line-height:normal;font-family:Menlo,'DejaVu Sans Mono',consolas,'Courier New',monospace\"><span style=\"font-weight: bold\">Model: \"functional_5\"</span>\n</pre>\n"
     },
     "metadata": {},
     "output_type": "display_data"
    },
    {
     "data": {
      "text/plain": "┏━━━━━━━━━━━━━━━━━━━━━━━━━━━━━━━━━┳━━━━━━━━━━━━━━━━━━━━━━━━━━━┳━━━━━━━━━━━━┓\n┃\u001B[1m \u001B[0m\u001B[1mLayer (type)                   \u001B[0m\u001B[1m \u001B[0m┃\u001B[1m \u001B[0m\u001B[1mOutput Shape             \u001B[0m\u001B[1m \u001B[0m┃\u001B[1m \u001B[0m\u001B[1m   Param #\u001B[0m\u001B[1m \u001B[0m┃\n┡━━━━━━━━━━━━━━━━━━━━━━━━━━━━━━━━━╇━━━━━━━━━━━━━━━━━━━━━━━━━━━╇━━━━━━━━━━━━┩\n│ inputs (\u001B[38;5;33mInputLayer\u001B[0m)             │ (\u001B[38;5;45mNone\u001B[0m, \u001B[38;5;34m32\u001B[0m, \u001B[38;5;34m32\u001B[0m, \u001B[38;5;34m1\u001B[0m)         │          \u001B[38;5;34m0\u001B[0m │\n├─────────────────────────────────┼───────────────────────────┼────────────┤\n│ conv2d_3 (\u001B[38;5;33mConv2D\u001B[0m)               │ (\u001B[38;5;45mNone\u001B[0m, \u001B[38;5;34m32\u001B[0m, \u001B[38;5;34m32\u001B[0m, \u001B[38;5;34m128\u001B[0m)       │      \u001B[38;5;34m1,280\u001B[0m │\n├─────────────────────────────────┼───────────────────────────┼────────────┤\n│ max_pooling2d_3 (\u001B[38;5;33mMaxPooling2D\u001B[0m)  │ (\u001B[38;5;45mNone\u001B[0m, \u001B[38;5;34m16\u001B[0m, \u001B[38;5;34m16\u001B[0m, \u001B[38;5;34m128\u001B[0m)       │          \u001B[38;5;34m0\u001B[0m │\n├─────────────────────────────────┼───────────────────────────┼────────────┤\n│ conv2d_4 (\u001B[38;5;33mConv2D\u001B[0m)               │ (\u001B[38;5;45mNone\u001B[0m, \u001B[38;5;34m16\u001B[0m, \u001B[38;5;34m16\u001B[0m, \u001B[38;5;34m256\u001B[0m)       │    \u001B[38;5;34m295,168\u001B[0m │\n├─────────────────────────────────┼───────────────────────────┼────────────┤\n│ max_pooling2d_4 (\u001B[38;5;33mMaxPooling2D\u001B[0m)  │ (\u001B[38;5;45mNone\u001B[0m, \u001B[38;5;34m8\u001B[0m, \u001B[38;5;34m8\u001B[0m, \u001B[38;5;34m256\u001B[0m)         │          \u001B[38;5;34m0\u001B[0m │\n├─────────────────────────────────┼───────────────────────────┼────────────┤\n│ conv2d_5 (\u001B[38;5;33mConv2D\u001B[0m)               │ (\u001B[38;5;45mNone\u001B[0m, \u001B[38;5;34m8\u001B[0m, \u001B[38;5;34m8\u001B[0m, \u001B[38;5;34m512\u001B[0m)         │  \u001B[38;5;34m1,180,160\u001B[0m │\n├─────────────────────────────────┼───────────────────────────┼────────────┤\n│ max_pooling2d_5 (\u001B[38;5;33mMaxPooling2D\u001B[0m)  │ (\u001B[38;5;45mNone\u001B[0m, \u001B[38;5;34m4\u001B[0m, \u001B[38;5;34m4\u001B[0m, \u001B[38;5;34m512\u001B[0m)         │          \u001B[38;5;34m0\u001B[0m │\n├─────────────────────────────────┼───────────────────────────┼────────────┤\n│ flatten_2 (\u001B[38;5;33mFlatten\u001B[0m)             │ (\u001B[38;5;45mNone\u001B[0m, \u001B[38;5;34m8192\u001B[0m)              │          \u001B[38;5;34m0\u001B[0m │\n├─────────────────────────────────┼───────────────────────────┼────────────┤\n│ dense_8 (\u001B[38;5;33mDense\u001B[0m)                 │ (\u001B[38;5;45mNone\u001B[0m, \u001B[38;5;34m1024\u001B[0m)              │  \u001B[38;5;34m8,389,632\u001B[0m │\n├─────────────────────────────────┼───────────────────────────┼────────────┤\n│ dense_9 (\u001B[38;5;33mDense\u001B[0m)                 │ (\u001B[38;5;45mNone\u001B[0m, \u001B[38;5;34m512\u001B[0m)               │    \u001B[38;5;34m524,800\u001B[0m │\n├─────────────────────────────────┼───────────────────────────┼────────────┤\n│ dense_10 (\u001B[38;5;33mDense\u001B[0m)                │ (\u001B[38;5;45mNone\u001B[0m, \u001B[38;5;34m256\u001B[0m)               │    \u001B[38;5;34m131,328\u001B[0m │\n├─────────────────────────────────┼───────────────────────────┼────────────┤\n│ dense_11 (\u001B[38;5;33mDense\u001B[0m)                │ (\u001B[38;5;45mNone\u001B[0m, \u001B[38;5;34m33\u001B[0m)                │      \u001B[38;5;34m8,481\u001B[0m │\n└─────────────────────────────────┴───────────────────────────┴────────────┘\n",
      "text/html": "<pre style=\"white-space:pre;overflow-x:auto;line-height:normal;font-family:Menlo,'DejaVu Sans Mono',consolas,'Courier New',monospace\">┏━━━━━━━━━━━━━━━━━━━━━━━━━━━━━━━━━┳━━━━━━━━━━━━━━━━━━━━━━━━━━━┳━━━━━━━━━━━━┓\n┃<span style=\"font-weight: bold\"> Layer (type)                    </span>┃<span style=\"font-weight: bold\"> Output Shape              </span>┃<span style=\"font-weight: bold\">    Param # </span>┃\n┡━━━━━━━━━━━━━━━━━━━━━━━━━━━━━━━━━╇━━━━━━━━━━━━━━━━━━━━━━━━━━━╇━━━━━━━━━━━━┩\n│ inputs (<span style=\"color: #0087ff; text-decoration-color: #0087ff\">InputLayer</span>)             │ (<span style=\"color: #00d7ff; text-decoration-color: #00d7ff\">None</span>, <span style=\"color: #00af00; text-decoration-color: #00af00\">32</span>, <span style=\"color: #00af00; text-decoration-color: #00af00\">32</span>, <span style=\"color: #00af00; text-decoration-color: #00af00\">1</span>)         │          <span style=\"color: #00af00; text-decoration-color: #00af00\">0</span> │\n├─────────────────────────────────┼───────────────────────────┼────────────┤\n│ conv2d_3 (<span style=\"color: #0087ff; text-decoration-color: #0087ff\">Conv2D</span>)               │ (<span style=\"color: #00d7ff; text-decoration-color: #00d7ff\">None</span>, <span style=\"color: #00af00; text-decoration-color: #00af00\">32</span>, <span style=\"color: #00af00; text-decoration-color: #00af00\">32</span>, <span style=\"color: #00af00; text-decoration-color: #00af00\">128</span>)       │      <span style=\"color: #00af00; text-decoration-color: #00af00\">1,280</span> │\n├─────────────────────────────────┼───────────────────────────┼────────────┤\n│ max_pooling2d_3 (<span style=\"color: #0087ff; text-decoration-color: #0087ff\">MaxPooling2D</span>)  │ (<span style=\"color: #00d7ff; text-decoration-color: #00d7ff\">None</span>, <span style=\"color: #00af00; text-decoration-color: #00af00\">16</span>, <span style=\"color: #00af00; text-decoration-color: #00af00\">16</span>, <span style=\"color: #00af00; text-decoration-color: #00af00\">128</span>)       │          <span style=\"color: #00af00; text-decoration-color: #00af00\">0</span> │\n├─────────────────────────────────┼───────────────────────────┼────────────┤\n│ conv2d_4 (<span style=\"color: #0087ff; text-decoration-color: #0087ff\">Conv2D</span>)               │ (<span style=\"color: #00d7ff; text-decoration-color: #00d7ff\">None</span>, <span style=\"color: #00af00; text-decoration-color: #00af00\">16</span>, <span style=\"color: #00af00; text-decoration-color: #00af00\">16</span>, <span style=\"color: #00af00; text-decoration-color: #00af00\">256</span>)       │    <span style=\"color: #00af00; text-decoration-color: #00af00\">295,168</span> │\n├─────────────────────────────────┼───────────────────────────┼────────────┤\n│ max_pooling2d_4 (<span style=\"color: #0087ff; text-decoration-color: #0087ff\">MaxPooling2D</span>)  │ (<span style=\"color: #00d7ff; text-decoration-color: #00d7ff\">None</span>, <span style=\"color: #00af00; text-decoration-color: #00af00\">8</span>, <span style=\"color: #00af00; text-decoration-color: #00af00\">8</span>, <span style=\"color: #00af00; text-decoration-color: #00af00\">256</span>)         │          <span style=\"color: #00af00; text-decoration-color: #00af00\">0</span> │\n├─────────────────────────────────┼───────────────────────────┼────────────┤\n│ conv2d_5 (<span style=\"color: #0087ff; text-decoration-color: #0087ff\">Conv2D</span>)               │ (<span style=\"color: #00d7ff; text-decoration-color: #00d7ff\">None</span>, <span style=\"color: #00af00; text-decoration-color: #00af00\">8</span>, <span style=\"color: #00af00; text-decoration-color: #00af00\">8</span>, <span style=\"color: #00af00; text-decoration-color: #00af00\">512</span>)         │  <span style=\"color: #00af00; text-decoration-color: #00af00\">1,180,160</span> │\n├─────────────────────────────────┼───────────────────────────┼────────────┤\n│ max_pooling2d_5 (<span style=\"color: #0087ff; text-decoration-color: #0087ff\">MaxPooling2D</span>)  │ (<span style=\"color: #00d7ff; text-decoration-color: #00d7ff\">None</span>, <span style=\"color: #00af00; text-decoration-color: #00af00\">4</span>, <span style=\"color: #00af00; text-decoration-color: #00af00\">4</span>, <span style=\"color: #00af00; text-decoration-color: #00af00\">512</span>)         │          <span style=\"color: #00af00; text-decoration-color: #00af00\">0</span> │\n├─────────────────────────────────┼───────────────────────────┼────────────┤\n│ flatten_2 (<span style=\"color: #0087ff; text-decoration-color: #0087ff\">Flatten</span>)             │ (<span style=\"color: #00d7ff; text-decoration-color: #00d7ff\">None</span>, <span style=\"color: #00af00; text-decoration-color: #00af00\">8192</span>)              │          <span style=\"color: #00af00; text-decoration-color: #00af00\">0</span> │\n├─────────────────────────────────┼───────────────────────────┼────────────┤\n│ dense_8 (<span style=\"color: #0087ff; text-decoration-color: #0087ff\">Dense</span>)                 │ (<span style=\"color: #00d7ff; text-decoration-color: #00d7ff\">None</span>, <span style=\"color: #00af00; text-decoration-color: #00af00\">1024</span>)              │  <span style=\"color: #00af00; text-decoration-color: #00af00\">8,389,632</span> │\n├─────────────────────────────────┼───────────────────────────┼────────────┤\n│ dense_9 (<span style=\"color: #0087ff; text-decoration-color: #0087ff\">Dense</span>)                 │ (<span style=\"color: #00d7ff; text-decoration-color: #00d7ff\">None</span>, <span style=\"color: #00af00; text-decoration-color: #00af00\">512</span>)               │    <span style=\"color: #00af00; text-decoration-color: #00af00\">524,800</span> │\n├─────────────────────────────────┼───────────────────────────┼────────────┤\n│ dense_10 (<span style=\"color: #0087ff; text-decoration-color: #0087ff\">Dense</span>)                │ (<span style=\"color: #00d7ff; text-decoration-color: #00d7ff\">None</span>, <span style=\"color: #00af00; text-decoration-color: #00af00\">256</span>)               │    <span style=\"color: #00af00; text-decoration-color: #00af00\">131,328</span> │\n├─────────────────────────────────┼───────────────────────────┼────────────┤\n│ dense_11 (<span style=\"color: #0087ff; text-decoration-color: #0087ff\">Dense</span>)                │ (<span style=\"color: #00d7ff; text-decoration-color: #00d7ff\">None</span>, <span style=\"color: #00af00; text-decoration-color: #00af00\">33</span>)                │      <span style=\"color: #00af00; text-decoration-color: #00af00\">8,481</span> │\n└─────────────────────────────────┴───────────────────────────┴────────────┘\n</pre>\n"
     },
     "metadata": {},
     "output_type": "display_data"
    },
    {
     "data": {
      "text/plain": "\u001B[1m Total params: \u001B[0m\u001B[38;5;34m10,530,849\u001B[0m (40.17 MB)\n",
      "text/html": "<pre style=\"white-space:pre;overflow-x:auto;line-height:normal;font-family:Menlo,'DejaVu Sans Mono',consolas,'Courier New',monospace\"><span style=\"font-weight: bold\"> Total params: </span><span style=\"color: #00af00; text-decoration-color: #00af00\">10,530,849</span> (40.17 MB)\n</pre>\n"
     },
     "metadata": {},
     "output_type": "display_data"
    },
    {
     "data": {
      "text/plain": "\u001B[1m Trainable params: \u001B[0m\u001B[38;5;34m10,530,849\u001B[0m (40.17 MB)\n",
      "text/html": "<pre style=\"white-space:pre;overflow-x:auto;line-height:normal;font-family:Menlo,'DejaVu Sans Mono',consolas,'Courier New',monospace\"><span style=\"font-weight: bold\"> Trainable params: </span><span style=\"color: #00af00; text-decoration-color: #00af00\">10,530,849</span> (40.17 MB)\n</pre>\n"
     },
     "metadata": {},
     "output_type": "display_data"
    },
    {
     "data": {
      "text/plain": "\u001B[1m Non-trainable params: \u001B[0m\u001B[38;5;34m0\u001B[0m (0.00 B)\n",
      "text/html": "<pre style=\"white-space:pre;overflow-x:auto;line-height:normal;font-family:Menlo,'DejaVu Sans Mono',consolas,'Courier New',monospace\"><span style=\"font-weight: bold\"> Non-trainable params: </span><span style=\"color: #00af00; text-decoration-color: #00af00\">0</span> (0.00 B)\n</pre>\n"
     },
     "metadata": {},
     "output_type": "display_data"
    },
    {
     "data": {
      "text/plain": "\u001B[1mModel: \"functional_7\"\u001B[0m\n",
      "text/html": "<pre style=\"white-space:pre;overflow-x:auto;line-height:normal;font-family:Menlo,'DejaVu Sans Mono',consolas,'Courier New',monospace\"><span style=\"font-weight: bold\">Model: \"functional_7\"</span>\n</pre>\n"
     },
     "metadata": {},
     "output_type": "display_data"
    },
    {
     "data": {
      "text/plain": "┏━━━━━━━━━━━━━━━━━━━━━━━━━━━━━━━━━┳━━━━━━━━━━━━━━━━━━━━━━━━━━━┳━━━━━━━━━━━━┓\n┃\u001B[1m \u001B[0m\u001B[1mLayer (type)                   \u001B[0m\u001B[1m \u001B[0m┃\u001B[1m \u001B[0m\u001B[1mOutput Shape             \u001B[0m\u001B[1m \u001B[0m┃\u001B[1m \u001B[0m\u001B[1m   Param #\u001B[0m\u001B[1m \u001B[0m┃\n┡━━━━━━━━━━━━━━━━━━━━━━━━━━━━━━━━━╇━━━━━━━━━━━━━━━━━━━━━━━━━━━╇━━━━━━━━━━━━┩\n│ input_layer_1 (\u001B[38;5;33mInputLayer\u001B[0m)      │ (\u001B[38;5;45mNone\u001B[0m, \u001B[38;5;34m32\u001B[0m, \u001B[38;5;34m32\u001B[0m, \u001B[38;5;34m1\u001B[0m)         │          \u001B[38;5;34m0\u001B[0m │\n├─────────────────────────────────┼───────────────────────────┼────────────┤\n│ reshape_1 (\u001B[38;5;33mReshape\u001B[0m)             │ (\u001B[38;5;45mNone\u001B[0m, \u001B[38;5;34m32\u001B[0m, \u001B[38;5;34m32\u001B[0m)            │          \u001B[38;5;34m0\u001B[0m │\n├─────────────────────────────────┼───────────────────────────┼────────────┤\n│ transformer_encoder_4           │ (\u001B[38;5;45mNone\u001B[0m, \u001B[38;5;34m32\u001B[0m, \u001B[38;5;34m32\u001B[0m)            │     \u001B[38;5;34m69,896\u001B[0m │\n│ (\u001B[38;5;33mTransformerEncoder\u001B[0m)            │                           │            │\n├─────────────────────────────────┼───────────────────────────┼────────────┤\n│ transformer_encoder_5           │ (\u001B[38;5;45mNone\u001B[0m, \u001B[38;5;34m32\u001B[0m, \u001B[38;5;34m32\u001B[0m)            │     \u001B[38;5;34m69,896\u001B[0m │\n│ (\u001B[38;5;33mTransformerEncoder\u001B[0m)            │                           │            │\n├─────────────────────────────────┼───────────────────────────┼────────────┤\n│ transformer_encoder_6           │ (\u001B[38;5;45mNone\u001B[0m, \u001B[38;5;34m32\u001B[0m, \u001B[38;5;34m32\u001B[0m)            │     \u001B[38;5;34m69,896\u001B[0m │\n│ (\u001B[38;5;33mTransformerEncoder\u001B[0m)            │                           │            │\n├─────────────────────────────────┼───────────────────────────┼────────────┤\n│ transformer_encoder_7           │ (\u001B[38;5;45mNone\u001B[0m, \u001B[38;5;34m32\u001B[0m, \u001B[38;5;34m32\u001B[0m)            │     \u001B[38;5;34m69,896\u001B[0m │\n│ (\u001B[38;5;33mTransformerEncoder\u001B[0m)            │                           │            │\n├─────────────────────────────────┼───────────────────────────┼────────────┤\n│ flatten_3 (\u001B[38;5;33mFlatten\u001B[0m)             │ (\u001B[38;5;45mNone\u001B[0m, \u001B[38;5;34m1024\u001B[0m)              │          \u001B[38;5;34m0\u001B[0m │\n├─────────────────────────────────┼───────────────────────────┼────────────┤\n│ dense_12 (\u001B[38;5;33mDense\u001B[0m)                │ (\u001B[38;5;45mNone\u001B[0m, \u001B[38;5;34m1024\u001B[0m)              │  \u001B[38;5;34m1,049,600\u001B[0m │\n├─────────────────────────────────┼───────────────────────────┼────────────┤\n│ dense_13 (\u001B[38;5;33mDense\u001B[0m)                │ (\u001B[38;5;45mNone\u001B[0m, \u001B[38;5;34m512\u001B[0m)               │    \u001B[38;5;34m524,800\u001B[0m │\n├─────────────────────────────────┼───────────────────────────┼────────────┤\n│ dense_14 (\u001B[38;5;33mDense\u001B[0m)                │ (\u001B[38;5;45mNone\u001B[0m, \u001B[38;5;34m256\u001B[0m)               │    \u001B[38;5;34m131,328\u001B[0m │\n├─────────────────────────────────┼───────────────────────────┼────────────┤\n│ dense_15 (\u001B[38;5;33mDense\u001B[0m)                │ (\u001B[38;5;45mNone\u001B[0m, \u001B[38;5;34m33\u001B[0m)                │      \u001B[38;5;34m8,481\u001B[0m │\n└─────────────────────────────────┴───────────────────────────┴────────────┘\n",
      "text/html": "<pre style=\"white-space:pre;overflow-x:auto;line-height:normal;font-family:Menlo,'DejaVu Sans Mono',consolas,'Courier New',monospace\">┏━━━━━━━━━━━━━━━━━━━━━━━━━━━━━━━━━┳━━━━━━━━━━━━━━━━━━━━━━━━━━━┳━━━━━━━━━━━━┓\n┃<span style=\"font-weight: bold\"> Layer (type)                    </span>┃<span style=\"font-weight: bold\"> Output Shape              </span>┃<span style=\"font-weight: bold\">    Param # </span>┃\n┡━━━━━━━━━━━━━━━━━━━━━━━━━━━━━━━━━╇━━━━━━━━━━━━━━━━━━━━━━━━━━━╇━━━━━━━━━━━━┩\n│ input_layer_1 (<span style=\"color: #0087ff; text-decoration-color: #0087ff\">InputLayer</span>)      │ (<span style=\"color: #00d7ff; text-decoration-color: #00d7ff\">None</span>, <span style=\"color: #00af00; text-decoration-color: #00af00\">32</span>, <span style=\"color: #00af00; text-decoration-color: #00af00\">32</span>, <span style=\"color: #00af00; text-decoration-color: #00af00\">1</span>)         │          <span style=\"color: #00af00; text-decoration-color: #00af00\">0</span> │\n├─────────────────────────────────┼───────────────────────────┼────────────┤\n│ reshape_1 (<span style=\"color: #0087ff; text-decoration-color: #0087ff\">Reshape</span>)             │ (<span style=\"color: #00d7ff; text-decoration-color: #00d7ff\">None</span>, <span style=\"color: #00af00; text-decoration-color: #00af00\">32</span>, <span style=\"color: #00af00; text-decoration-color: #00af00\">32</span>)            │          <span style=\"color: #00af00; text-decoration-color: #00af00\">0</span> │\n├─────────────────────────────────┼───────────────────────────┼────────────┤\n│ transformer_encoder_4           │ (<span style=\"color: #00d7ff; text-decoration-color: #00d7ff\">None</span>, <span style=\"color: #00af00; text-decoration-color: #00af00\">32</span>, <span style=\"color: #00af00; text-decoration-color: #00af00\">32</span>)            │     <span style=\"color: #00af00; text-decoration-color: #00af00\">69,896</span> │\n│ (<span style=\"color: #0087ff; text-decoration-color: #0087ff\">TransformerEncoder</span>)            │                           │            │\n├─────────────────────────────────┼───────────────────────────┼────────────┤\n│ transformer_encoder_5           │ (<span style=\"color: #00d7ff; text-decoration-color: #00d7ff\">None</span>, <span style=\"color: #00af00; text-decoration-color: #00af00\">32</span>, <span style=\"color: #00af00; text-decoration-color: #00af00\">32</span>)            │     <span style=\"color: #00af00; text-decoration-color: #00af00\">69,896</span> │\n│ (<span style=\"color: #0087ff; text-decoration-color: #0087ff\">TransformerEncoder</span>)            │                           │            │\n├─────────────────────────────────┼───────────────────────────┼────────────┤\n│ transformer_encoder_6           │ (<span style=\"color: #00d7ff; text-decoration-color: #00d7ff\">None</span>, <span style=\"color: #00af00; text-decoration-color: #00af00\">32</span>, <span style=\"color: #00af00; text-decoration-color: #00af00\">32</span>)            │     <span style=\"color: #00af00; text-decoration-color: #00af00\">69,896</span> │\n│ (<span style=\"color: #0087ff; text-decoration-color: #0087ff\">TransformerEncoder</span>)            │                           │            │\n├─────────────────────────────────┼───────────────────────────┼────────────┤\n│ transformer_encoder_7           │ (<span style=\"color: #00d7ff; text-decoration-color: #00d7ff\">None</span>, <span style=\"color: #00af00; text-decoration-color: #00af00\">32</span>, <span style=\"color: #00af00; text-decoration-color: #00af00\">32</span>)            │     <span style=\"color: #00af00; text-decoration-color: #00af00\">69,896</span> │\n│ (<span style=\"color: #0087ff; text-decoration-color: #0087ff\">TransformerEncoder</span>)            │                           │            │\n├─────────────────────────────────┼───────────────────────────┼────────────┤\n│ flatten_3 (<span style=\"color: #0087ff; text-decoration-color: #0087ff\">Flatten</span>)             │ (<span style=\"color: #00d7ff; text-decoration-color: #00d7ff\">None</span>, <span style=\"color: #00af00; text-decoration-color: #00af00\">1024</span>)              │          <span style=\"color: #00af00; text-decoration-color: #00af00\">0</span> │\n├─────────────────────────────────┼───────────────────────────┼────────────┤\n│ dense_12 (<span style=\"color: #0087ff; text-decoration-color: #0087ff\">Dense</span>)                │ (<span style=\"color: #00d7ff; text-decoration-color: #00d7ff\">None</span>, <span style=\"color: #00af00; text-decoration-color: #00af00\">1024</span>)              │  <span style=\"color: #00af00; text-decoration-color: #00af00\">1,049,600</span> │\n├─────────────────────────────────┼───────────────────────────┼────────────┤\n│ dense_13 (<span style=\"color: #0087ff; text-decoration-color: #0087ff\">Dense</span>)                │ (<span style=\"color: #00d7ff; text-decoration-color: #00d7ff\">None</span>, <span style=\"color: #00af00; text-decoration-color: #00af00\">512</span>)               │    <span style=\"color: #00af00; text-decoration-color: #00af00\">524,800</span> │\n├─────────────────────────────────┼───────────────────────────┼────────────┤\n│ dense_14 (<span style=\"color: #0087ff; text-decoration-color: #0087ff\">Dense</span>)                │ (<span style=\"color: #00d7ff; text-decoration-color: #00d7ff\">None</span>, <span style=\"color: #00af00; text-decoration-color: #00af00\">256</span>)               │    <span style=\"color: #00af00; text-decoration-color: #00af00\">131,328</span> │\n├─────────────────────────────────┼───────────────────────────┼────────────┤\n│ dense_15 (<span style=\"color: #0087ff; text-decoration-color: #0087ff\">Dense</span>)                │ (<span style=\"color: #00d7ff; text-decoration-color: #00d7ff\">None</span>, <span style=\"color: #00af00; text-decoration-color: #00af00\">33</span>)                │      <span style=\"color: #00af00; text-decoration-color: #00af00\">8,481</span> │\n└─────────────────────────────────┴───────────────────────────┴────────────┘\n</pre>\n"
     },
     "metadata": {},
     "output_type": "display_data"
    },
    {
     "data": {
      "text/plain": "\u001B[1m Total params: \u001B[0m\u001B[38;5;34m1,993,793\u001B[0m (7.61 MB)\n",
      "text/html": "<pre style=\"white-space:pre;overflow-x:auto;line-height:normal;font-family:Menlo,'DejaVu Sans Mono',consolas,'Courier New',monospace\"><span style=\"font-weight: bold\"> Total params: </span><span style=\"color: #00af00; text-decoration-color: #00af00\">1,993,793</span> (7.61 MB)\n</pre>\n"
     },
     "metadata": {},
     "output_type": "display_data"
    },
    {
     "data": {
      "text/plain": "\u001B[1m Trainable params: \u001B[0m\u001B[38;5;34m1,993,793\u001B[0m (7.61 MB)\n",
      "text/html": "<pre style=\"white-space:pre;overflow-x:auto;line-height:normal;font-family:Menlo,'DejaVu Sans Mono',consolas,'Courier New',monospace\"><span style=\"font-weight: bold\"> Trainable params: </span><span style=\"color: #00af00; text-decoration-color: #00af00\">1,993,793</span> (7.61 MB)\n</pre>\n"
     },
     "metadata": {},
     "output_type": "display_data"
    },
    {
     "data": {
      "text/plain": "\u001B[1m Non-trainable params: \u001B[0m\u001B[38;5;34m0\u001B[0m (0.00 B)\n",
      "text/html": "<pre style=\"white-space:pre;overflow-x:auto;line-height:normal;font-family:Menlo,'DejaVu Sans Mono',consolas,'Courier New',monospace\"><span style=\"font-weight: bold\"> Non-trainable params: </span><span style=\"color: #00af00; text-decoration-color: #00af00\">0</span> (0.00 B)\n</pre>\n"
     },
     "metadata": {},
     "output_type": "display_data"
    },
    {
     "data": {
      "text/plain": "\u001B[1mModel: \"functional_3\"\u001B[0m\n",
      "text/html": "<pre style=\"white-space:pre;overflow-x:auto;line-height:normal;font-family:Menlo,'DejaVu Sans Mono',consolas,'Courier New',monospace\"><span style=\"font-weight: bold\">Model: \"functional_3\"</span>\n</pre>\n"
     },
     "metadata": {},
     "output_type": "display_data"
    },
    {
     "data": {
      "text/plain": "┏━━━━━━━━━━━━━━━━━━━━━━━━━━━━━━━━━┳━━━━━━━━━━━━━━━━━━━━━━━━━━━┳━━━━━━━━━━━━┓\n┃\u001B[1m \u001B[0m\u001B[1mLayer (type)                   \u001B[0m\u001B[1m \u001B[0m┃\u001B[1m \u001B[0m\u001B[1mOutput Shape             \u001B[0m\u001B[1m \u001B[0m┃\u001B[1m \u001B[0m\u001B[1m   Param #\u001B[0m\u001B[1m \u001B[0m┃\n┡━━━━━━━━━━━━━━━━━━━━━━━━━━━━━━━━━╇━━━━━━━━━━━━━━━━━━━━━━━━━━━╇━━━━━━━━━━━━┩\n│ input_layer (\u001B[38;5;33mInputLayer\u001B[0m)        │ (\u001B[38;5;45mNone\u001B[0m, \u001B[38;5;34m256\u001B[0m, \u001B[38;5;34m4\u001B[0m)            │          \u001B[38;5;34m0\u001B[0m │\n├─────────────────────────────────┼───────────────────────────┼────────────┤\n│ patch_embedding                 │ (\u001B[38;5;45mNone\u001B[0m, \u001B[38;5;34m256\u001B[0m, \u001B[38;5;34m64\u001B[0m)           │     \u001B[38;5;34m16,704\u001B[0m │\n│ (\u001B[38;5;33mPatchEmbedding\u001B[0m)                │                           │            │\n├─────────────────────────────────┼───────────────────────────┼────────────┤\n│ swin_transformer                │ (\u001B[38;5;45mNone\u001B[0m, \u001B[38;5;34m256\u001B[0m, \u001B[38;5;34m64\u001B[0m)           │     \u001B[38;5;34m50,072\u001B[0m │\n│ (\u001B[38;5;33mSwinTransformer\u001B[0m)               │                           │            │\n├─────────────────────────────────┼───────────────────────────┼────────────┤\n│ swin_transformer_1              │ (\u001B[38;5;45mNone\u001B[0m, \u001B[38;5;34m256\u001B[0m, \u001B[38;5;34m64\u001B[0m)           │     \u001B[38;5;34m51,096\u001B[0m │\n│ (\u001B[38;5;33mSwinTransformer\u001B[0m)               │                           │            │\n├─────────────────────────────────┼───────────────────────────┼────────────┤\n│ patch_merging (\u001B[38;5;33mPatchMerging\u001B[0m)    │ (\u001B[38;5;45mNone\u001B[0m, \u001B[38;5;34m64\u001B[0m, \u001B[38;5;34m128\u001B[0m)           │     \u001B[38;5;34m32,768\u001B[0m │\n├─────────────────────────────────┼───────────────────────────┼────────────┤\n│ global_average_pooling1d        │ (\u001B[38;5;45mNone\u001B[0m, \u001B[38;5;34m128\u001B[0m)               │          \u001B[38;5;34m0\u001B[0m │\n│ (\u001B[38;5;33mGlobalAveragePooling1D\u001B[0m)        │                           │            │\n├─────────────────────────────────┼───────────────────────────┼────────────┤\n│ dense_10 (\u001B[38;5;33mDense\u001B[0m)                │ (\u001B[38;5;45mNone\u001B[0m, \u001B[38;5;34m1024\u001B[0m)              │    \u001B[38;5;34m132,096\u001B[0m │\n├─────────────────────────────────┼───────────────────────────┼────────────┤\n│ dense_11 (\u001B[38;5;33mDense\u001B[0m)                │ (\u001B[38;5;45mNone\u001B[0m, \u001B[38;5;34m512\u001B[0m)               │    \u001B[38;5;34m524,800\u001B[0m │\n├─────────────────────────────────┼───────────────────────────┼────────────┤\n│ dense_12 (\u001B[38;5;33mDense\u001B[0m)                │ (\u001B[38;5;45mNone\u001B[0m, \u001B[38;5;34m256\u001B[0m)               │    \u001B[38;5;34m131,328\u001B[0m │\n├─────────────────────────────────┼───────────────────────────┼────────────┤\n│ dense_13 (\u001B[38;5;33mDense\u001B[0m)                │ (\u001B[38;5;45mNone\u001B[0m, \u001B[38;5;34m33\u001B[0m)                │      \u001B[38;5;34m8,481\u001B[0m │\n└─────────────────────────────────┴───────────────────────────┴────────────┘\n",
      "text/html": "<pre style=\"white-space:pre;overflow-x:auto;line-height:normal;font-family:Menlo,'DejaVu Sans Mono',consolas,'Courier New',monospace\">┏━━━━━━━━━━━━━━━━━━━━━━━━━━━━━━━━━┳━━━━━━━━━━━━━━━━━━━━━━━━━━━┳━━━━━━━━━━━━┓\n┃<span style=\"font-weight: bold\"> Layer (type)                    </span>┃<span style=\"font-weight: bold\"> Output Shape              </span>┃<span style=\"font-weight: bold\">    Param # </span>┃\n┡━━━━━━━━━━━━━━━━━━━━━━━━━━━━━━━━━╇━━━━━━━━━━━━━━━━━━━━━━━━━━━╇━━━━━━━━━━━━┩\n│ input_layer (<span style=\"color: #0087ff; text-decoration-color: #0087ff\">InputLayer</span>)        │ (<span style=\"color: #00d7ff; text-decoration-color: #00d7ff\">None</span>, <span style=\"color: #00af00; text-decoration-color: #00af00\">256</span>, <span style=\"color: #00af00; text-decoration-color: #00af00\">4</span>)            │          <span style=\"color: #00af00; text-decoration-color: #00af00\">0</span> │\n├─────────────────────────────────┼───────────────────────────┼────────────┤\n│ patch_embedding                 │ (<span style=\"color: #00d7ff; text-decoration-color: #00d7ff\">None</span>, <span style=\"color: #00af00; text-decoration-color: #00af00\">256</span>, <span style=\"color: #00af00; text-decoration-color: #00af00\">64</span>)           │     <span style=\"color: #00af00; text-decoration-color: #00af00\">16,704</span> │\n│ (<span style=\"color: #0087ff; text-decoration-color: #0087ff\">PatchEmbedding</span>)                │                           │            │\n├─────────────────────────────────┼───────────────────────────┼────────────┤\n│ swin_transformer                │ (<span style=\"color: #00d7ff; text-decoration-color: #00d7ff\">None</span>, <span style=\"color: #00af00; text-decoration-color: #00af00\">256</span>, <span style=\"color: #00af00; text-decoration-color: #00af00\">64</span>)           │     <span style=\"color: #00af00; text-decoration-color: #00af00\">50,072</span> │\n│ (<span style=\"color: #0087ff; text-decoration-color: #0087ff\">SwinTransformer</span>)               │                           │            │\n├─────────────────────────────────┼───────────────────────────┼────────────┤\n│ swin_transformer_1              │ (<span style=\"color: #00d7ff; text-decoration-color: #00d7ff\">None</span>, <span style=\"color: #00af00; text-decoration-color: #00af00\">256</span>, <span style=\"color: #00af00; text-decoration-color: #00af00\">64</span>)           │     <span style=\"color: #00af00; text-decoration-color: #00af00\">51,096</span> │\n│ (<span style=\"color: #0087ff; text-decoration-color: #0087ff\">SwinTransformer</span>)               │                           │            │\n├─────────────────────────────────┼───────────────────────────┼────────────┤\n│ patch_merging (<span style=\"color: #0087ff; text-decoration-color: #0087ff\">PatchMerging</span>)    │ (<span style=\"color: #00d7ff; text-decoration-color: #00d7ff\">None</span>, <span style=\"color: #00af00; text-decoration-color: #00af00\">64</span>, <span style=\"color: #00af00; text-decoration-color: #00af00\">128</span>)           │     <span style=\"color: #00af00; text-decoration-color: #00af00\">32,768</span> │\n├─────────────────────────────────┼───────────────────────────┼────────────┤\n│ global_average_pooling1d        │ (<span style=\"color: #00d7ff; text-decoration-color: #00d7ff\">None</span>, <span style=\"color: #00af00; text-decoration-color: #00af00\">128</span>)               │          <span style=\"color: #00af00; text-decoration-color: #00af00\">0</span> │\n│ (<span style=\"color: #0087ff; text-decoration-color: #0087ff\">GlobalAveragePooling1D</span>)        │                           │            │\n├─────────────────────────────────┼───────────────────────────┼────────────┤\n│ dense_10 (<span style=\"color: #0087ff; text-decoration-color: #0087ff\">Dense</span>)                │ (<span style=\"color: #00d7ff; text-decoration-color: #00d7ff\">None</span>, <span style=\"color: #00af00; text-decoration-color: #00af00\">1024</span>)              │    <span style=\"color: #00af00; text-decoration-color: #00af00\">132,096</span> │\n├─────────────────────────────────┼───────────────────────────┼────────────┤\n│ dense_11 (<span style=\"color: #0087ff; text-decoration-color: #0087ff\">Dense</span>)                │ (<span style=\"color: #00d7ff; text-decoration-color: #00d7ff\">None</span>, <span style=\"color: #00af00; text-decoration-color: #00af00\">512</span>)               │    <span style=\"color: #00af00; text-decoration-color: #00af00\">524,800</span> │\n├─────────────────────────────────┼───────────────────────────┼────────────┤\n│ dense_12 (<span style=\"color: #0087ff; text-decoration-color: #0087ff\">Dense</span>)                │ (<span style=\"color: #00d7ff; text-decoration-color: #00d7ff\">None</span>, <span style=\"color: #00af00; text-decoration-color: #00af00\">256</span>)               │    <span style=\"color: #00af00; text-decoration-color: #00af00\">131,328</span> │\n├─────────────────────────────────┼───────────────────────────┼────────────┤\n│ dense_13 (<span style=\"color: #0087ff; text-decoration-color: #0087ff\">Dense</span>)                │ (<span style=\"color: #00d7ff; text-decoration-color: #00d7ff\">None</span>, <span style=\"color: #00af00; text-decoration-color: #00af00\">33</span>)                │      <span style=\"color: #00af00; text-decoration-color: #00af00\">8,481</span> │\n└─────────────────────────────────┴───────────────────────────┴────────────┘\n</pre>\n"
     },
     "metadata": {},
     "output_type": "display_data"
    },
    {
     "data": {
      "text/plain": "\u001B[1m Total params: \u001B[0m\u001B[38;5;34m2,839,925\u001B[0m (10.84 MB)\n",
      "text/html": "<pre style=\"white-space:pre;overflow-x:auto;line-height:normal;font-family:Menlo,'DejaVu Sans Mono',consolas,'Courier New',monospace\"><span style=\"font-weight: bold\"> Total params: </span><span style=\"color: #00af00; text-decoration-color: #00af00\">2,839,925</span> (10.84 MB)\n</pre>\n"
     },
     "metadata": {},
     "output_type": "display_data"
    },
    {
     "data": {
      "text/plain": "\u001B[1m Trainable params: \u001B[0m\u001B[38;5;34m946,289\u001B[0m (3.61 MB)\n",
      "text/html": "<pre style=\"white-space:pre;overflow-x:auto;line-height:normal;font-family:Menlo,'DejaVu Sans Mono',consolas,'Courier New',monospace\"><span style=\"font-weight: bold\"> Trainable params: </span><span style=\"color: #00af00; text-decoration-color: #00af00\">946,289</span> (3.61 MB)\n</pre>\n"
     },
     "metadata": {},
     "output_type": "display_data"
    },
    {
     "data": {
      "text/plain": "\u001B[1m Non-trainable params: \u001B[0m\u001B[38;5;34m1,056\u001B[0m (8.25 KB)\n",
      "text/html": "<pre style=\"white-space:pre;overflow-x:auto;line-height:normal;font-family:Menlo,'DejaVu Sans Mono',consolas,'Courier New',monospace\"><span style=\"font-weight: bold\"> Non-trainable params: </span><span style=\"color: #00af00; text-decoration-color: #00af00\">1,056</span> (8.25 KB)\n</pre>\n"
     },
     "metadata": {},
     "output_type": "display_data"
    },
    {
     "data": {
      "text/plain": "\u001B[1m Optimizer params: \u001B[0m\u001B[38;5;34m1,892,580\u001B[0m (7.22 MB)\n",
      "text/html": "<pre style=\"white-space:pre;overflow-x:auto;line-height:normal;font-family:Menlo,'DejaVu Sans Mono',consolas,'Courier New',monospace\"><span style=\"font-weight: bold\"> Optimizer params: </span><span style=\"color: #00af00; text-decoration-color: #00af00\">1,892,580</span> (7.22 MB)\n</pre>\n"
     },
     "metadata": {},
     "output_type": "display_data"
    },
    {
     "data": {
      "text/plain": "(None, None, None)"
     },
     "execution_count": 26,
     "metadata": {},
     "output_type": "execute_result"
    }
   ],
   "source": [
    "CNN.summary(), ViT.summary(), model.summary()"
   ],
   "metadata": {
    "collapsed": false,
    "ExecuteTime": {
     "end_time": "2024-02-02T11:28:12.219288611Z",
     "start_time": "2024-02-02T11:28:12.148275830Z"
    }
   },
   "execution_count": 26
  },
  {
   "cell_type": "code",
   "outputs": [
    {
     "name": "stdout",
     "output_type": "stream",
     "text": [
      "\u001B[1m175/175\u001B[0m \u001B[32m━━━━━━━━━━━━━━━━━━━━\u001B[0m\u001B[37m\u001B[0m \u001B[1m0s\u001B[0m 1ms/step\n"
     ]
    }
   ],
   "source": [
    "y_pred = model.predict(dataset_test).argmax(axis=1)"
   ],
   "metadata": {
    "collapsed": false,
    "ExecuteTime": {
     "end_time": "2024-02-02T11:28:12.490385677Z",
     "start_time": "2024-02-02T11:28:12.219050952Z"
    }
   },
   "execution_count": 27
  },
  {
   "cell_type": "code",
   "outputs": [
    {
     "ename": "TypeError",
     "evalue": "The dataset length is unknown.",
     "output_type": "error",
     "traceback": [
      "\u001B[0;31m---------------------------------------------------------------------------\u001B[0m",
      "\u001B[0;31mTypeError\u001B[0m                                 Traceback (most recent call last)",
      "Cell \u001B[0;32mIn[28], line 1\u001B[0m\n\u001B[0;32m----> 1\u001B[0m \u001B[38;5;28;43mlen\u001B[39;49m\u001B[43m(\u001B[49m\u001B[43mdataset_test\u001B[49m\u001B[38;5;241;43m.\u001B[39;49m\u001B[43munbatch\u001B[49m\u001B[43m(\u001B[49m\u001B[43m)\u001B[49m\u001B[43m)\u001B[49m\n",
      "File \u001B[0;32m~/.local/lib/python3.11/site-packages/tensorflow/python/data/ops/dataset_ops.py:532\u001B[0m, in \u001B[0;36mDatasetV2.__len__\u001B[0;34m(self)\u001B[0m\n\u001B[1;32m    530\u001B[0m   \u001B[38;5;28;01mraise\u001B[39;00m \u001B[38;5;167;01mTypeError\u001B[39;00m(\u001B[38;5;124m\"\u001B[39m\u001B[38;5;124mThe dataset is infinite.\u001B[39m\u001B[38;5;124m\"\u001B[39m)\n\u001B[1;32m    531\u001B[0m \u001B[38;5;28;01mif\u001B[39;00m length\u001B[38;5;241m.\u001B[39mnumpy() \u001B[38;5;241m==\u001B[39m UNKNOWN:\n\u001B[0;32m--> 532\u001B[0m   \u001B[38;5;28;01mraise\u001B[39;00m \u001B[38;5;167;01mTypeError\u001B[39;00m(\u001B[38;5;124m\"\u001B[39m\u001B[38;5;124mThe dataset length is unknown.\u001B[39m\u001B[38;5;124m\"\u001B[39m)\n\u001B[1;32m    533\u001B[0m \u001B[38;5;28;01mreturn\u001B[39;00m length\n",
      "\u001B[0;31mTypeError\u001B[0m: The dataset length is unknown."
     ]
    }
   ],
   "source": [
    "len(dataset_test.unbatch())"
   ],
   "metadata": {
    "collapsed": false,
    "ExecuteTime": {
     "end_time": "2024-02-02T11:28:12.926908464Z",
     "start_time": "2024-02-02T11:28:12.433805150Z"
    }
   },
   "execution_count": 28
  },
  {
   "cell_type": "code",
   "outputs": [],
   "source": [
    "\n",
    "mat = np.zeros(shape=(num_letters,num_letters))\n",
    "for i in range(len(y_pred)):\n",
    "    true_ind = test_classes[i]\n",
    "    pred_ind = y_pred[i]    \n",
    "    mat[true_ind, pred_ind]+=1\n",
    "\n",
    "mat=mat/mat.sum(axis=0)\n",
    "\n",
    "fig, ax = plt.subplots(figsize=(15,15))\n",
    "ax.matshow(mat, cmap='Blues')\n",
    "ax.set_xticks(range(len(captions_base)), captions_base)\n",
    "ax.set_yticks(range(len(captions_base)), captions_base)\n",
    "for i in range(len(captions_base)):\n",
    "    for j in range(len(captions_base)):\n",
    "        c = mat[j,i]\n",
    "        ax.text(i, j, f'{c:.2f}', va='center', ha='center')\n",
    "ax.set_xlabel('True letters', fontsize=15)\n",
    "ax.set_ylabel('Predicted letters', fontsize=15)"
   ],
   "metadata": {
    "collapsed": false,
    "ExecuteTime": {
     "end_time": "2024-02-02T11:28:12.927688519Z",
     "start_time": "2024-02-02T11:28:12.926936727Z"
    }
   }
  },
  {
   "cell_type": "code",
   "outputs": [],
   "source": [
    "keras.utils.plot_model((model), 'models/swin.jpg')"
   ],
   "metadata": {
    "collapsed": false,
    "ExecuteTime": {
     "end_time": "2024-02-02T11:28:12.930020317Z",
     "start_time": "2024-02-02T11:28:12.927849774Z"
    }
   },
   "execution_count": null
  },
  {
   "cell_type": "code",
   "outputs": [],
   "source": [],
   "metadata": {
    "collapsed": false,
    "ExecuteTime": {
     "start_time": "2024-02-02T11:28:12.928733604Z"
    }
   }
  }
 ],
 "metadata": {
  "accelerator": "GPU",
  "colab": {
   "name": "swin_transformers",
   "provenance": [],
   "toc_visible": true
  },
  "kernelspec": {
   "display_name": "Python 3",
   "language": "python",
   "name": "python3"
  },
  "language_info": {
   "codemirror_mode": {
    "name": "ipython",
    "version": 3
   },
   "file_extension": ".py",
   "mimetype": "text/x-python",
   "name": "python",
   "nbconvert_exporter": "python",
   "pygments_lexer": "ipython3",
   "version": "3.7.0"
  }
 },
 "nbformat": 4,
 "nbformat_minor": 0
}
