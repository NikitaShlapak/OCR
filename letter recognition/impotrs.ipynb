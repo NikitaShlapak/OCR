{
 "cells": [
  {
   "cell_type": "code",
   "execution_count": 19,
   "id": "initial_id",
   "metadata": {
    "collapsed": true,
    "ExecuteTime": {
     "end_time": "2024-02-02T12:04:08.268400114Z",
     "start_time": "2024-02-02T12:04:08.212520859Z"
    }
   },
   "outputs": [
    {
     "data": {
      "text/plain": "('2.15.0', '3.0.0')"
     },
     "execution_count": 19,
     "metadata": {},
     "output_type": "execute_result"
    }
   ],
   "source": [
    "import numpy as np\n",
    "\n",
    "import tensorflow as tf\n",
    "import keras\n",
    "\n",
    "tf.__version__, keras.__version__"
   ]
  },
  {
   "cell_type": "code",
   "outputs": [
    {
     "name": "stdout",
     "output_type": "stream",
     "text": [
      "[PhysicalDevice(name='/physical_device:GPU:0', device_type='GPU')]\n"
     ]
    }
   ],
   "source": [
    "print(tf.config.list_physical_devices('GPU'))"
   ],
   "metadata": {
    "collapsed": false,
    "ExecuteTime": {
     "end_time": "2024-02-02T12:04:08.311329371Z",
     "start_time": "2024-02-02T12:04:08.278503575Z"
    }
   },
   "id": "e324e16ce18c1aba",
   "execution_count": 20
  },
  {
   "cell_type": "code",
   "outputs": [],
   "source": [
    "from utils.layers import PatchEmbedding, PatchMerging, SwinTransformer, WindowAttention"
   ],
   "metadata": {
    "collapsed": false,
    "ExecuteTime": {
     "end_time": "2024-02-02T12:04:08.335223870Z",
     "start_time": "2024-02-02T12:04:08.291652044Z"
    }
   },
   "id": "b7e498aaa49947a2",
   "execution_count": 21
  },
  {
   "cell_type": "code",
   "outputs": [
    {
     "name": "stderr",
     "output_type": "stream",
     "text": [
      "/home/main/.local/lib/python3.11/site-packages/keras/src/layers/layer.py:357: UserWarning: `build()` was called on layer 'patch_embedding_1', however the layer does not have a `build()` method implemented and it looks like it has unbuilt state. This will cause the layer to be marked as built, despite not being actually built, which may cause failures down the line. Make sure to implement a proper `build()` method.\n",
      "  warnings.warn(\n",
      "/home/main/.local/lib/python3.11/site-packages/keras/src/layers/layer.py:357: UserWarning: `build()` was called on layer 'patch_merging_1', however the layer does not have a `build()` method implemented and it looks like it has unbuilt state. This will cause the layer to be marked as built, despite not being actually built, which may cause failures down the line. Make sure to implement a proper `build()` method.\n",
      "  warnings.warn(\n"
     ]
    },
    {
     "data": {
      "text/plain": "\u001B[1mModel: \"functional_7\"\u001B[0m\n",
      "text/html": "<pre style=\"white-space:pre;overflow-x:auto;line-height:normal;font-family:Menlo,'DejaVu Sans Mono',consolas,'Courier New',monospace\"><span style=\"font-weight: bold\">Model: \"functional_7\"</span>\n</pre>\n"
     },
     "metadata": {},
     "output_type": "display_data"
    },
    {
     "data": {
      "text/plain": "┏━━━━━━━━━━━━━━━━━━━━━━━━━━━━━━━━━┳━━━━━━━━━━━━━━━━━━━━━━━━━━━┳━━━━━━━━━━━━┓\n┃\u001B[1m \u001B[0m\u001B[1mLayer (type)                   \u001B[0m\u001B[1m \u001B[0m┃\u001B[1m \u001B[0m\u001B[1mOutput Shape             \u001B[0m\u001B[1m \u001B[0m┃\u001B[1m \u001B[0m\u001B[1m   Param #\u001B[0m\u001B[1m \u001B[0m┃\n┡━━━━━━━━━━━━━━━━━━━━━━━━━━━━━━━━━╇━━━━━━━━━━━━━━━━━━━━━━━━━━━╇━━━━━━━━━━━━┩\n│ input_layer_3 (\u001B[38;5;33mInputLayer\u001B[0m)      │ (\u001B[38;5;45mNone\u001B[0m, \u001B[38;5;34m256\u001B[0m, \u001B[38;5;34m4\u001B[0m)            │          \u001B[38;5;34m0\u001B[0m │\n├─────────────────────────────────┼───────────────────────────┼────────────┤\n│ patch_embedding_1               │ (\u001B[38;5;45mNone\u001B[0m, \u001B[38;5;34m256\u001B[0m, \u001B[38;5;34m64\u001B[0m)           │     \u001B[38;5;34m16,704\u001B[0m │\n│ (\u001B[38;5;33mPatchEmbedding\u001B[0m)                │                           │            │\n├─────────────────────────────────┼───────────────────────────┼────────────┤\n│ swin_transformer_2              │ (\u001B[38;5;45mNone\u001B[0m, \u001B[38;5;34m256\u001B[0m, \u001B[38;5;34m64\u001B[0m)           │     \u001B[38;5;34m50,072\u001B[0m │\n│ (\u001B[38;5;33mSwinTransformer\u001B[0m)               │                           │            │\n├─────────────────────────────────┼───────────────────────────┼────────────┤\n│ swin_transformer_3              │ (\u001B[38;5;45mNone\u001B[0m, \u001B[38;5;34m256\u001B[0m, \u001B[38;5;34m64\u001B[0m)           │     \u001B[38;5;34m51,096\u001B[0m │\n│ (\u001B[38;5;33mSwinTransformer\u001B[0m)               │                           │            │\n├─────────────────────────────────┼───────────────────────────┼────────────┤\n│ patch_merging_1 (\u001B[38;5;33mPatchMerging\u001B[0m)  │ (\u001B[38;5;45mNone\u001B[0m, \u001B[38;5;34m64\u001B[0m, \u001B[38;5;34m128\u001B[0m)           │     \u001B[38;5;34m32,768\u001B[0m │\n├─────────────────────────────────┼───────────────────────────┼────────────┤\n│ global_average_pooling1d_1      │ (\u001B[38;5;45mNone\u001B[0m, \u001B[38;5;34m128\u001B[0m)               │          \u001B[38;5;34m0\u001B[0m │\n│ (\u001B[38;5;33mGlobalAveragePooling1D\u001B[0m)        │                           │            │\n├─────────────────────────────────┼───────────────────────────┼────────────┤\n│ dense_24 (\u001B[38;5;33mDense\u001B[0m)                │ (\u001B[38;5;45mNone\u001B[0m, \u001B[38;5;34m1024\u001B[0m)              │    \u001B[38;5;34m132,096\u001B[0m │\n├─────────────────────────────────┼───────────────────────────┼────────────┤\n│ dense_25 (\u001B[38;5;33mDense\u001B[0m)                │ (\u001B[38;5;45mNone\u001B[0m, \u001B[38;5;34m512\u001B[0m)               │    \u001B[38;5;34m524,800\u001B[0m │\n├─────────────────────────────────┼───────────────────────────┼────────────┤\n│ dense_26 (\u001B[38;5;33mDense\u001B[0m)                │ (\u001B[38;5;45mNone\u001B[0m, \u001B[38;5;34m256\u001B[0m)               │    \u001B[38;5;34m131,328\u001B[0m │\n├─────────────────────────────────┼───────────────────────────┼────────────┤\n│ dense_27 (\u001B[38;5;33mDense\u001B[0m)                │ (\u001B[38;5;45mNone\u001B[0m, \u001B[38;5;34m33\u001B[0m)                │      \u001B[38;5;34m8,481\u001B[0m │\n└─────────────────────────────────┴───────────────────────────┴────────────┘\n",
      "text/html": "<pre style=\"white-space:pre;overflow-x:auto;line-height:normal;font-family:Menlo,'DejaVu Sans Mono',consolas,'Courier New',monospace\">┏━━━━━━━━━━━━━━━━━━━━━━━━━━━━━━━━━┳━━━━━━━━━━━━━━━━━━━━━━━━━━━┳━━━━━━━━━━━━┓\n┃<span style=\"font-weight: bold\"> Layer (type)                    </span>┃<span style=\"font-weight: bold\"> Output Shape              </span>┃<span style=\"font-weight: bold\">    Param # </span>┃\n┡━━━━━━━━━━━━━━━━━━━━━━━━━━━━━━━━━╇━━━━━━━━━━━━━━━━━━━━━━━━━━━╇━━━━━━━━━━━━┩\n│ input_layer_3 (<span style=\"color: #0087ff; text-decoration-color: #0087ff\">InputLayer</span>)      │ (<span style=\"color: #00d7ff; text-decoration-color: #00d7ff\">None</span>, <span style=\"color: #00af00; text-decoration-color: #00af00\">256</span>, <span style=\"color: #00af00; text-decoration-color: #00af00\">4</span>)            │          <span style=\"color: #00af00; text-decoration-color: #00af00\">0</span> │\n├─────────────────────────────────┼───────────────────────────┼────────────┤\n│ patch_embedding_1               │ (<span style=\"color: #00d7ff; text-decoration-color: #00d7ff\">None</span>, <span style=\"color: #00af00; text-decoration-color: #00af00\">256</span>, <span style=\"color: #00af00; text-decoration-color: #00af00\">64</span>)           │     <span style=\"color: #00af00; text-decoration-color: #00af00\">16,704</span> │\n│ (<span style=\"color: #0087ff; text-decoration-color: #0087ff\">PatchEmbedding</span>)                │                           │            │\n├─────────────────────────────────┼───────────────────────────┼────────────┤\n│ swin_transformer_2              │ (<span style=\"color: #00d7ff; text-decoration-color: #00d7ff\">None</span>, <span style=\"color: #00af00; text-decoration-color: #00af00\">256</span>, <span style=\"color: #00af00; text-decoration-color: #00af00\">64</span>)           │     <span style=\"color: #00af00; text-decoration-color: #00af00\">50,072</span> │\n│ (<span style=\"color: #0087ff; text-decoration-color: #0087ff\">SwinTransformer</span>)               │                           │            │\n├─────────────────────────────────┼───────────────────────────┼────────────┤\n│ swin_transformer_3              │ (<span style=\"color: #00d7ff; text-decoration-color: #00d7ff\">None</span>, <span style=\"color: #00af00; text-decoration-color: #00af00\">256</span>, <span style=\"color: #00af00; text-decoration-color: #00af00\">64</span>)           │     <span style=\"color: #00af00; text-decoration-color: #00af00\">51,096</span> │\n│ (<span style=\"color: #0087ff; text-decoration-color: #0087ff\">SwinTransformer</span>)               │                           │            │\n├─────────────────────────────────┼───────────────────────────┼────────────┤\n│ patch_merging_1 (<span style=\"color: #0087ff; text-decoration-color: #0087ff\">PatchMerging</span>)  │ (<span style=\"color: #00d7ff; text-decoration-color: #00d7ff\">None</span>, <span style=\"color: #00af00; text-decoration-color: #00af00\">64</span>, <span style=\"color: #00af00; text-decoration-color: #00af00\">128</span>)           │     <span style=\"color: #00af00; text-decoration-color: #00af00\">32,768</span> │\n├─────────────────────────────────┼───────────────────────────┼────────────┤\n│ global_average_pooling1d_1      │ (<span style=\"color: #00d7ff; text-decoration-color: #00d7ff\">None</span>, <span style=\"color: #00af00; text-decoration-color: #00af00\">128</span>)               │          <span style=\"color: #00af00; text-decoration-color: #00af00\">0</span> │\n│ (<span style=\"color: #0087ff; text-decoration-color: #0087ff\">GlobalAveragePooling1D</span>)        │                           │            │\n├─────────────────────────────────┼───────────────────────────┼────────────┤\n│ dense_24 (<span style=\"color: #0087ff; text-decoration-color: #0087ff\">Dense</span>)                │ (<span style=\"color: #00d7ff; text-decoration-color: #00d7ff\">None</span>, <span style=\"color: #00af00; text-decoration-color: #00af00\">1024</span>)              │    <span style=\"color: #00af00; text-decoration-color: #00af00\">132,096</span> │\n├─────────────────────────────────┼───────────────────────────┼────────────┤\n│ dense_25 (<span style=\"color: #0087ff; text-decoration-color: #0087ff\">Dense</span>)                │ (<span style=\"color: #00d7ff; text-decoration-color: #00d7ff\">None</span>, <span style=\"color: #00af00; text-decoration-color: #00af00\">512</span>)               │    <span style=\"color: #00af00; text-decoration-color: #00af00\">524,800</span> │\n├─────────────────────────────────┼───────────────────────────┼────────────┤\n│ dense_26 (<span style=\"color: #0087ff; text-decoration-color: #0087ff\">Dense</span>)                │ (<span style=\"color: #00d7ff; text-decoration-color: #00d7ff\">None</span>, <span style=\"color: #00af00; text-decoration-color: #00af00\">256</span>)               │    <span style=\"color: #00af00; text-decoration-color: #00af00\">131,328</span> │\n├─────────────────────────────────┼───────────────────────────┼────────────┤\n│ dense_27 (<span style=\"color: #0087ff; text-decoration-color: #0087ff\">Dense</span>)                │ (<span style=\"color: #00d7ff; text-decoration-color: #00d7ff\">None</span>, <span style=\"color: #00af00; text-decoration-color: #00af00\">33</span>)                │      <span style=\"color: #00af00; text-decoration-color: #00af00\">8,481</span> │\n└─────────────────────────────────┴───────────────────────────┴────────────┘\n</pre>\n"
     },
     "metadata": {},
     "output_type": "display_data"
    },
    {
     "data": {
      "text/plain": "\u001B[1m Total params: \u001B[0m\u001B[38;5;34m2,839,925\u001B[0m (10.84 MB)\n",
      "text/html": "<pre style=\"white-space:pre;overflow-x:auto;line-height:normal;font-family:Menlo,'DejaVu Sans Mono',consolas,'Courier New',monospace\"><span style=\"font-weight: bold\"> Total params: </span><span style=\"color: #00af00; text-decoration-color: #00af00\">2,839,925</span> (10.84 MB)\n</pre>\n"
     },
     "metadata": {},
     "output_type": "display_data"
    },
    {
     "data": {
      "text/plain": "\u001B[1m Trainable params: \u001B[0m\u001B[38;5;34m946,289\u001B[0m (3.61 MB)\n",
      "text/html": "<pre style=\"white-space:pre;overflow-x:auto;line-height:normal;font-family:Menlo,'DejaVu Sans Mono',consolas,'Courier New',monospace\"><span style=\"font-weight: bold\"> Trainable params: </span><span style=\"color: #00af00; text-decoration-color: #00af00\">946,289</span> (3.61 MB)\n</pre>\n"
     },
     "metadata": {},
     "output_type": "display_data"
    },
    {
     "data": {
      "text/plain": "\u001B[1m Non-trainable params: \u001B[0m\u001B[38;5;34m1,056\u001B[0m (8.25 KB)\n",
      "text/html": "<pre style=\"white-space:pre;overflow-x:auto;line-height:normal;font-family:Menlo,'DejaVu Sans Mono',consolas,'Courier New',monospace\"><span style=\"font-weight: bold\"> Non-trainable params: </span><span style=\"color: #00af00; text-decoration-color: #00af00\">1,056</span> (8.25 KB)\n</pre>\n"
     },
     "metadata": {},
     "output_type": "display_data"
    },
    {
     "data": {
      "text/plain": "\u001B[1m Optimizer params: \u001B[0m\u001B[38;5;34m1,892,580\u001B[0m (7.22 MB)\n",
      "text/html": "<pre style=\"white-space:pre;overflow-x:auto;line-height:normal;font-family:Menlo,'DejaVu Sans Mono',consolas,'Courier New',monospace\"><span style=\"font-weight: bold\"> Optimizer params: </span><span style=\"color: #00af00; text-decoration-color: #00af00\">1,892,580</span> (7.22 MB)\n</pre>\n"
     },
     "metadata": {},
     "output_type": "display_data"
    }
   ],
   "source": [
    "model = tf.keras.models.load_model('models/swin.keras', custom_objects={\n",
    "    'PatchEmbedding':PatchEmbedding, \n",
    "    'PatchMerging':PatchMerging,\n",
    "    'SwinTransformer':SwinTransformer,\n",
    "    'WindowAttention':WindowAttention,        \n",
    "})\n",
    "model.summary()"
   ],
   "metadata": {
    "collapsed": false,
    "ExecuteTime": {
     "end_time": "2024-02-02T12:04:09.131845306Z",
     "start_time": "2024-02-02T12:04:08.335244680Z"
    }
   },
   "id": "e80dd5f3bcf47a64",
   "execution_count": 22
  },
  {
   "cell_type": "code",
   "outputs": [
    {
     "data": {
      "text/plain": "[<KerasVariable shape=(4, 64), dtype=float32, path=patch_embedding_1/dense_10/kernel>,\n <KerasVariable shape=(64,), dtype=float32, path=patch_embedding_1/dense_10/bias>,\n <KerasVariable shape=(256, 64), dtype=float32, path=patch_embedding_1/embedding_1/embeddings>,\n <KerasVariable shape=(64,), dtype=float32, path=swin_transformer_2/layer_normalization_4/gamma>,\n <KerasVariable shape=(64,), dtype=float32, path=swin_transformer_2/layer_normalization_4/beta>,\n <KerasVariable shape=(9, 8), dtype=float32, path=window_attention_2/variable_5>,\n <KerasVariable shape=(4, 4), dtype=int64, path=variable_6>,\n <KerasVariable shape=(64, 192), dtype=float32, path=swin_transformer_2/window_attention_2/dense_11/kernel>,\n <KerasVariable shape=(192,), dtype=float32, path=swin_transformer_2/window_attention_2/dense_11/bias>,\n <KerasVariable shape=(64, 64), dtype=float32, path=swin_transformer_2/window_attention_2/dense_12/kernel>,\n <KerasVariable shape=(64,), dtype=float32, path=swin_transformer_2/window_attention_2/dense_12/bias>,\n <KerasVariable shape=(64,), dtype=float32, path=swin_transformer_2/layer_normalization_5/gamma>,\n <KerasVariable shape=(64,), dtype=float32, path=swin_transformer_2/layer_normalization_5/beta>,\n <KerasVariable shape=(64, 256), dtype=float32, path=swin_transformer_2/sequential_2/dense_13/kernel>,\n <KerasVariable shape=(256,), dtype=float32, path=swin_transformer_2/sequential_2/dense_13/bias>,\n <KerasVariable shape=(256, 64), dtype=float32, path=swin_transformer_2/sequential_2/dense_14/kernel>,\n <KerasVariable shape=(64,), dtype=float32, path=swin_transformer_2/sequential_2/dense_14/bias>,\n <KerasVariable shape=(64, 4, 4), dtype=float64, path=swin_transformer_3/variable_9>,\n <KerasVariable shape=(64,), dtype=float32, path=swin_transformer_3/layer_normalization_6/gamma>,\n <KerasVariable shape=(64,), dtype=float32, path=swin_transformer_3/layer_normalization_6/beta>,\n <KerasVariable shape=(9, 8), dtype=float32, path=window_attention_3/variable_7>,\n <KerasVariable shape=(4, 4), dtype=int64, path=variable_8>,\n <KerasVariable shape=(64, 192), dtype=float32, path=swin_transformer_3/window_attention_3/dense_15/kernel>,\n <KerasVariable shape=(192,), dtype=float32, path=swin_transformer_3/window_attention_3/dense_15/bias>,\n <KerasVariable shape=(64, 64), dtype=float32, path=swin_transformer_3/window_attention_3/dense_16/kernel>,\n <KerasVariable shape=(64,), dtype=float32, path=swin_transformer_3/window_attention_3/dense_16/bias>,\n <KerasVariable shape=(64,), dtype=float32, path=swin_transformer_3/layer_normalization_7/gamma>,\n <KerasVariable shape=(64,), dtype=float32, path=swin_transformer_3/layer_normalization_7/beta>,\n <KerasVariable shape=(64, 256), dtype=float32, path=swin_transformer_3/sequential_3/dense_17/kernel>,\n <KerasVariable shape=(256,), dtype=float32, path=swin_transformer_3/sequential_3/dense_17/bias>,\n <KerasVariable shape=(256, 64), dtype=float32, path=swin_transformer_3/sequential_3/dense_18/kernel>,\n <KerasVariable shape=(64,), dtype=float32, path=swin_transformer_3/sequential_3/dense_18/bias>,\n <KerasVariable shape=(256, 128), dtype=float32, path=patch_merging_1/dense_19/kernel>,\n <KerasVariable shape=(128, 1024), dtype=float32, path=dense_24/kernel>,\n <KerasVariable shape=(1024,), dtype=float32, path=dense_24/bias>,\n <KerasVariable shape=(1024, 512), dtype=float32, path=dense_25/kernel>,\n <KerasVariable shape=(512,), dtype=float32, path=dense_25/bias>,\n <KerasVariable shape=(512, 256), dtype=float32, path=dense_26/kernel>,\n <KerasVariable shape=(256,), dtype=float32, path=dense_26/bias>,\n <KerasVariable shape=(256, 33), dtype=float32, path=dense_27/kernel>,\n <KerasVariable shape=(33,), dtype=float32, path=dense_27/bias>]"
     },
     "execution_count": 23,
     "metadata": {},
     "output_type": "execute_result"
    }
   ],
   "source": [
    "model.weights"
   ],
   "metadata": {
    "collapsed": false,
    "ExecuteTime": {
     "end_time": "2024-02-02T12:04:09.184758705Z",
     "start_time": "2024-02-02T12:04:09.132820833Z"
    }
   },
   "id": "5433d6dc4088807c",
   "execution_count": 23
  },
  {
   "cell_type": "code",
   "outputs": [
    {
     "name": "stdout",
     "output_type": "stream",
     "text": [
      "(32, 32)\n"
     ]
    },
    {
     "data": {
      "text/plain": "<matplotlib.image.AxesImage at 0x7f214c29f850>"
     },
     "execution_count": 24,
     "metadata": {},
     "output_type": "execute_result"
    },
    {
     "data": {
      "text/plain": "<Figure size 640x480 with 1 Axes>",
      "image/png": "[encoded data removed]"
     },
     "metadata": {},
     "output_type": "display_data"
    }
   ],
   "source": [
    "import cv2\n",
    "import matplotlib.pyplot as plt\n",
    "\n",
    "input_shape = (32,32,1)\n",
    "\n",
    "let = cv2.imread('data/letterlist.jpg', 0)\n",
    "let = let[15:780,:]\n",
    "num_letters = 33\n",
    "num_fonts = 21\n",
    "\n",
    "def get_letter(font_num, letter_num):\n",
    "    letter = let[let.shape[0]//num_fonts*(font_num-1):let.shape[0]//num_fonts*font_num,\n",
    "           let.shape[1]//num_letters*(letter_num-1):let.shape[1]//num_letters*letter_num,\n",
    "           ]\n",
    "    return cv2.resize(letter, input_shape[:-1])\n",
    "\n",
    "def get_letter_variants(letter_num):\n",
    "        return let[:,\n",
    "           let.shape[1]//num_letters*(letter_num-1):let.shape[1]//num_letters*letter_num,\n",
    "           ]\n",
    "\n",
    "def get_font_variants(font_num):\n",
    "    return let[let.shape[0]//num_fonts*(font_num-1):let.shape[0]//num_fonts*font_num,\n",
    "           :,\n",
    "           ]\n",
    "test = get_letter(21,33)\n",
    "print(test.shape)\n",
    "plt.imshow(test, cmap='gray')"
   ],
   "metadata": {
    "collapsed": false,
    "ExecuteTime": {
     "end_time": "2024-02-02T12:04:09.339486781Z",
     "start_time": "2024-02-02T12:04:09.174980076Z"
    }
   },
   "id": "da332dc43ac9745",
   "execution_count": 24
  },
  {
   "cell_type": "code",
   "outputs": [
    {
     "name": "stdout",
     "output_type": "stream",
     "text": [
      "693\n",
      "1099\n",
      "1727\n"
     ]
    }
   ],
   "source": [
    "from utils.augmenters import *\n",
    "\n",
    "images = []\n",
    "captions = []\n",
    "captions_base = \"Ё Й Ц У К Е Н Г Ш Щ З Х Ъ Ф Ы В А П Р О Л Д Ж Э Я Ч С М И Т Ь Б Ю\".split(' ')\n",
    "for i in range(1, num_fonts+1):\n",
    "    for j in range(1, num_letters+1):\n",
    "        images.append(get_letter(i,j))\n",
    "        captions.append(captions_base[j-1])\n",
    "\n",
    "aug = MultipleAugmenter(images.copy(), captions.copy())\n",
    "aug.random_augment(3, 65, 0)\n",
    "\n",
    "\n",
    "x_data = np.array(aug.images)\n",
    "x_data = x_data.reshape(*x_data.shape, 1)\n",
    "classes = list(map(captions_base.index, aug.captions))\n",
    "y_data = keras.utils.to_categorical(classes, num_classes=num_letters)\n"
   ],
   "metadata": {
    "collapsed": false,
    "ExecuteTime": {
     "end_time": "2024-02-02T12:04:09.383935176Z",
     "start_time": "2024-02-02T12:04:09.334976667Z"
    }
   },
   "id": "f9b640fa4605b36e",
   "execution_count": 25
  },
  {
   "cell_type": "code",
   "outputs": [],
   "source": [
    "from utils.funcs import patch_extract\n",
    "\n",
    "def augment(x):\n",
    "    return x\n",
    "\n",
    "batch_size = 32\n",
    "\n",
    "dataset = (\n",
    "    tf.data.Dataset.from_tensor_slices((x_data, y_data))\n",
    "    .map(lambda x, y: (augment(x), y))\n",
    "    .batch(batch_size=batch_size)\n",
    "    .map(lambda x, y: (patch_extract(x), y))\n",
    "    .prefetch(tf.data.experimental.AUTOTUNE)\n",
    ")"
   ],
   "metadata": {
    "collapsed": false,
    "ExecuteTime": {
     "end_time": "2024-02-02T12:04:09.902665889Z",
     "start_time": "2024-02-02T12:04:09.387251905Z"
    }
   },
   "id": "f3891e5584e7e279",
   "execution_count": 26
  },
  {
   "cell_type": "code",
   "outputs": [],
   "source": [
    "model.load_weights('models/swin.weights.h5')"
   ],
   "metadata": {
    "collapsed": false,
    "ExecuteTime": {
     "end_time": "2024-02-02T12:04:09.991271621Z",
     "start_time": "2024-02-02T12:04:09.906317589Z"
    }
   },
   "id": "b5303b25966ccd72",
   "execution_count": 27
  },
  {
   "cell_type": "code",
   "outputs": [
    {
     "name": "stdout",
     "output_type": "stream",
     "text": [
      "\u001B[1m88/88\u001B[0m \u001B[32m━━━━━━━━━━━━━━━━━━━━\u001B[0m\u001B[37m\u001B[0m \u001B[1m2s\u001B[0m 9ms/step - accuracy: 0.9539 - loss: 0.8274 - top-5-accuracy: 0.9888\n"
     ]
    },
    {
     "data": {
      "text/plain": "[0.963010847568512, 0.9139167666435242, 0.9766858220100403]"
     },
     "execution_count": 28,
     "metadata": {},
     "output_type": "execute_result"
    }
   ],
   "source": [
    "model.evaluate(dataset)"
   ],
   "metadata": {
    "collapsed": false,
    "ExecuteTime": {
     "end_time": "2024-02-02T12:04:11.875013344Z",
     "start_time": "2024-02-02T12:04:09.991145219Z"
    }
   },
   "id": "2a3e7e0d82d5a3e1",
   "execution_count": 28
  },
  {
   "cell_type": "code",
   "outputs": [],
   "source": [],
   "metadata": {
    "collapsed": false,
    "ExecuteTime": {
     "end_time": "2024-02-02T12:04:11.875321063Z",
     "start_time": "2024-02-02T12:04:11.873204672Z"
    }
   },
   "id": "73e6aa967429a648",
   "execution_count": 28
  }
 ],
 "metadata": {
  "kernelspec": {
   "display_name": "Python 3",
   "language": "python",
   "name": "python3"
  },
  "language_info": {
   "codemirror_mode": {
    "name": "ipython",
    "version": 2
   },
   "file_extension": ".py",
   "mimetype": "text/x-python",
   "name": "python",
   "nbconvert_exporter": "python",
   "pygments_lexer": "ipython2",
   "version": "2.7.6"
  }
 },
 "nbformat": 4,
 "nbformat_minor": 5
}
