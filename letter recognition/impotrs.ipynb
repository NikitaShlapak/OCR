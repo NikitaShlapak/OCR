{
 "cells": [
  {
   "cell_type": "code",
   "execution_count": 22,
   "id": "initial_id",
   "metadata": {
    "collapsed": true,
    "ExecuteTime": {
     "end_time": "2024-02-05T14:17:55.403258497Z",
     "start_time": "2024-02-05T14:17:55.399778233Z"
    }
   },
   "outputs": [
    {
     "data": {
      "text/plain": "('2.15.0', '3.0.0')"
     },
     "execution_count": 22,
     "metadata": {},
     "output_type": "execute_result"
    }
   ],
   "source": [
    "import cv2\n",
    "\n",
    "import tensorflow as tf\n",
    "import keras\n",
    "\n",
    "tf.__version__, keras.__version__"
   ]
  },
  {
   "cell_type": "code",
   "outputs": [
    {
     "name": "stdout",
     "output_type": "stream",
     "text": [
      "[PhysicalDevice(name='/physical_device:GPU:0', device_type='GPU')]\n"
     ]
    }
   ],
   "source": [
    "print(tf.config.list_physical_devices('GPU'))"
   ],
   "metadata": {
    "collapsed": false,
    "ExecuteTime": {
     "end_time": "2024-02-05T14:17:55.411399899Z",
     "start_time": "2024-02-05T14:17:55.409725858Z"
    }
   },
   "id": "e324e16ce18c1aba",
   "execution_count": 23
  },
  {
   "cell_type": "code",
   "outputs": [],
   "source": [
    "from utils.layers import PatchEmbedding, PatchMerging, SwinTransformer, WindowAttention"
   ],
   "metadata": {
    "collapsed": false,
    "ExecuteTime": {
     "end_time": "2024-02-05T14:17:55.428153358Z",
     "start_time": "2024-02-05T14:17:55.409900159Z"
    }
   },
   "id": "b7e498aaa49947a2",
   "execution_count": 24
  },
  {
   "cell_type": "code",
   "outputs": [
    {
     "name": "stderr",
     "output_type": "stream",
     "text": [
      "/home/main/.local/lib/python3.11/site-packages/keras/src/layers/layer.py:357: UserWarning: `build()` was called on layer 'patch_embedding_1', however the layer does not have a `build()` method implemented and it looks like it has unbuilt state. This will cause the layer to be marked as built, despite not being actually built, which may cause failures down the line. Make sure to implement a proper `build()` method.\n",
      "  warnings.warn(\n",
      "2024-02-05 17:17:55.428739: I external/local_xla/xla/stream_executor/cuda/cuda_executor.cc:901] successful NUMA node read from SysFS had negative value (-1), but there must be at least one NUMA node, so returning NUMA node zero. See more at https://github.com/torvalds/linux/blob/v6.0/Documentation/ABI/testing/sysfs-bus-pci#L344-L355\n",
      "2024-02-05 17:17:55.429384: I external/local_xla/xla/stream_executor/cuda/cuda_executor.cc:901] successful NUMA node read from SysFS had negative value (-1), but there must be at least one NUMA node, so returning NUMA node zero. See more at https://github.com/torvalds/linux/blob/v6.0/Documentation/ABI/testing/sysfs-bus-pci#L344-L355\n",
      "2024-02-05 17:17:55.429754: I external/local_xla/xla/stream_executor/cuda/cuda_executor.cc:901] successful NUMA node read from SysFS had negative value (-1), but there must be at least one NUMA node, so returning NUMA node zero. See more at https://github.com/torvalds/linux/blob/v6.0/Documentation/ABI/testing/sysfs-bus-pci#L344-L355\n",
      "2024-02-05 17:17:55.558748: I external/local_xla/xla/stream_executor/cuda/cuda_executor.cc:901] successful NUMA node read from SysFS had negative value (-1), but there must be at least one NUMA node, so returning NUMA node zero. See more at https://github.com/torvalds/linux/blob/v6.0/Documentation/ABI/testing/sysfs-bus-pci#L344-L355\n",
      "2024-02-05 17:17:55.559048: I external/local_xla/xla/stream_executor/cuda/cuda_executor.cc:901] successful NUMA node read from SysFS had negative value (-1), but there must be at least one NUMA node, so returning NUMA node zero. See more at https://github.com/torvalds/linux/blob/v6.0/Documentation/ABI/testing/sysfs-bus-pci#L344-L355\n",
      "2024-02-05 17:17:55.559309: I external/local_xla/xla/stream_executor/cuda/cuda_executor.cc:901] successful NUMA node read from SysFS had negative value (-1), but there must be at least one NUMA node, so returning NUMA node zero. See more at https://github.com/torvalds/linux/blob/v6.0/Documentation/ABI/testing/sysfs-bus-pci#L344-L355\n",
      "2024-02-05 17:17:55.559616: I tensorflow/core/common_runtime/gpu/gpu_device.cc:1929] Created device /job:localhost/replica:0/task:0/device:GPU:0 with 6207 MB memory:  -> device: 0, name: NVIDIA GeForce RTX 4060 Laptop GPU, pci bus id: 0000:01:00.0, compute capability: 8.9\n",
      "/home/main/.local/lib/python3.11/site-packages/keras/src/layers/layer.py:357: UserWarning: `build()` was called on layer 'patch_merging_1', however the layer does not have a `build()` method implemented and it looks like it has unbuilt state. This will cause the layer to be marked as built, despite not being actually built, which may cause failures down the line. Make sure to implement a proper `build()` method.\n",
      "  warnings.warn(\n"
     ]
    },
    {
     "data": {
      "text/plain": "\u001B[1mModel: \"functional_7\"\u001B[0m\n",
      "text/html": "<pre style=\"white-space:pre;overflow-x:auto;line-height:normal;font-family:Menlo,'DejaVu Sans Mono',consolas,'Courier New',monospace\"><span style=\"font-weight: bold\">Model: \"functional_7\"</span>\n</pre>\n"
     },
     "metadata": {},
     "output_type": "display_data"
    },
    {
     "data": {
      "text/plain": "┏━━━━━━━━━━━━━━━━━━━━━━━━━━━━━━━━━┳━━━━━━━━━━━━━━━━━━━━━━━━━━━┳━━━━━━━━━━━━┓\n┃\u001B[1m \u001B[0m\u001B[1mLayer (type)                   \u001B[0m\u001B[1m \u001B[0m┃\u001B[1m \u001B[0m\u001B[1mOutput Shape             \u001B[0m\u001B[1m \u001B[0m┃\u001B[1m \u001B[0m\u001B[1m   Param #\u001B[0m\u001B[1m \u001B[0m┃\n┡━━━━━━━━━━━━━━━━━━━━━━━━━━━━━━━━━╇━━━━━━━━━━━━━━━━━━━━━━━━━━━╇━━━━━━━━━━━━┩\n│ input_layer_3 (\u001B[38;5;33mInputLayer\u001B[0m)      │ (\u001B[38;5;45mNone\u001B[0m, \u001B[38;5;34m256\u001B[0m, \u001B[38;5;34m4\u001B[0m)            │          \u001B[38;5;34m0\u001B[0m │\n├─────────────────────────────────┼───────────────────────────┼────────────┤\n│ patch_embedding_1               │ (\u001B[38;5;45mNone\u001B[0m, \u001B[38;5;34m256\u001B[0m, \u001B[38;5;34m64\u001B[0m)           │     \u001B[38;5;34m16,704\u001B[0m │\n│ (\u001B[38;5;33mPatchEmbedding\u001B[0m)                │                           │            │\n├─────────────────────────────────┼───────────────────────────┼────────────┤\n│ swin_transformer_2              │ (\u001B[38;5;45mNone\u001B[0m, \u001B[38;5;34m256\u001B[0m, \u001B[38;5;34m64\u001B[0m)           │     \u001B[38;5;34m50,072\u001B[0m │\n│ (\u001B[38;5;33mSwinTransformer\u001B[0m)               │                           │            │\n├─────────────────────────────────┼───────────────────────────┼────────────┤\n│ swin_transformer_3              │ (\u001B[38;5;45mNone\u001B[0m, \u001B[38;5;34m256\u001B[0m, \u001B[38;5;34m64\u001B[0m)           │     \u001B[38;5;34m51,096\u001B[0m │\n│ (\u001B[38;5;33mSwinTransformer\u001B[0m)               │                           │            │\n├─────────────────────────────────┼───────────────────────────┼────────────┤\n│ patch_merging_1 (\u001B[38;5;33mPatchMerging\u001B[0m)  │ (\u001B[38;5;45mNone\u001B[0m, \u001B[38;5;34m64\u001B[0m, \u001B[38;5;34m128\u001B[0m)           │     \u001B[38;5;34m32,768\u001B[0m │\n├─────────────────────────────────┼───────────────────────────┼────────────┤\n│ global_average_pooling1d_1      │ (\u001B[38;5;45mNone\u001B[0m, \u001B[38;5;34m128\u001B[0m)               │          \u001B[38;5;34m0\u001B[0m │\n│ (\u001B[38;5;33mGlobalAveragePooling1D\u001B[0m)        │                           │            │\n├─────────────────────────────────┼───────────────────────────┼────────────┤\n│ dense_24 (\u001B[38;5;33mDense\u001B[0m)                │ (\u001B[38;5;45mNone\u001B[0m, \u001B[38;5;34m1024\u001B[0m)              │    \u001B[38;5;34m132,096\u001B[0m │\n├─────────────────────────────────┼───────────────────────────┼────────────┤\n│ dense_25 (\u001B[38;5;33mDense\u001B[0m)                │ (\u001B[38;5;45mNone\u001B[0m, \u001B[38;5;34m512\u001B[0m)               │    \u001B[38;5;34m524,800\u001B[0m │\n├─────────────────────────────────┼───────────────────────────┼────────────┤\n│ dense_26 (\u001B[38;5;33mDense\u001B[0m)                │ (\u001B[38;5;45mNone\u001B[0m, \u001B[38;5;34m256\u001B[0m)               │    \u001B[38;5;34m131,328\u001B[0m │\n├─────────────────────────────────┼───────────────────────────┼────────────┤\n│ dense_27 (\u001B[38;5;33mDense\u001B[0m)                │ (\u001B[38;5;45mNone\u001B[0m, \u001B[38;5;34m33\u001B[0m)                │      \u001B[38;5;34m8,481\u001B[0m │\n└─────────────────────────────────┴───────────────────────────┴────────────┘\n",
      "text/html": "<pre style=\"white-space:pre;overflow-x:auto;line-height:normal;font-family:Menlo,'DejaVu Sans Mono',consolas,'Courier New',monospace\">┏━━━━━━━━━━━━━━━━━━━━━━━━━━━━━━━━━┳━━━━━━━━━━━━━━━━━━━━━━━━━━━┳━━━━━━━━━━━━┓\n┃<span style=\"font-weight: bold\"> Layer (type)                    </span>┃<span style=\"font-weight: bold\"> Output Shape              </span>┃<span style=\"font-weight: bold\">    Param # </span>┃\n┡━━━━━━━━━━━━━━━━━━━━━━━━━━━━━━━━━╇━━━━━━━━━━━━━━━━━━━━━━━━━━━╇━━━━━━━━━━━━┩\n│ input_layer_3 (<span style=\"color: #0087ff; text-decoration-color: #0087ff\">InputLayer</span>)      │ (<span style=\"color: #00d7ff; text-decoration-color: #00d7ff\">None</span>, <span style=\"color: #00af00; text-decoration-color: #00af00\">256</span>, <span style=\"color: #00af00; text-decoration-color: #00af00\">4</span>)            │          <span style=\"color: #00af00; text-decoration-color: #00af00\">0</span> │\n├─────────────────────────────────┼───────────────────────────┼────────────┤\n│ patch_embedding_1               │ (<span style=\"color: #00d7ff; text-decoration-color: #00d7ff\">None</span>, <span style=\"color: #00af00; text-decoration-color: #00af00\">256</span>, <span style=\"color: #00af00; text-decoration-color: #00af00\">64</span>)           │     <span style=\"color: #00af00; text-decoration-color: #00af00\">16,704</span> │\n│ (<span style=\"color: #0087ff; text-decoration-color: #0087ff\">PatchEmbedding</span>)                │                           │            │\n├─────────────────────────────────┼───────────────────────────┼────────────┤\n│ swin_transformer_2              │ (<span style=\"color: #00d7ff; text-decoration-color: #00d7ff\">None</span>, <span style=\"color: #00af00; text-decoration-color: #00af00\">256</span>, <span style=\"color: #00af00; text-decoration-color: #00af00\">64</span>)           │     <span style=\"color: #00af00; text-decoration-color: #00af00\">50,072</span> │\n│ (<span style=\"color: #0087ff; text-decoration-color: #0087ff\">SwinTransformer</span>)               │                           │            │\n├─────────────────────────────────┼───────────────────────────┼────────────┤\n│ swin_transformer_3              │ (<span style=\"color: #00d7ff; text-decoration-color: #00d7ff\">None</span>, <span style=\"color: #00af00; text-decoration-color: #00af00\">256</span>, <span style=\"color: #00af00; text-decoration-color: #00af00\">64</span>)           │     <span style=\"color: #00af00; text-decoration-color: #00af00\">51,096</span> │\n│ (<span style=\"color: #0087ff; text-decoration-color: #0087ff\">SwinTransformer</span>)               │                           │            │\n├─────────────────────────────────┼───────────────────────────┼────────────┤\n│ patch_merging_1 (<span style=\"color: #0087ff; text-decoration-color: #0087ff\">PatchMerging</span>)  │ (<span style=\"color: #00d7ff; text-decoration-color: #00d7ff\">None</span>, <span style=\"color: #00af00; text-decoration-color: #00af00\">64</span>, <span style=\"color: #00af00; text-decoration-color: #00af00\">128</span>)           │     <span style=\"color: #00af00; text-decoration-color: #00af00\">32,768</span> │\n├─────────────────────────────────┼───────────────────────────┼────────────┤\n│ global_average_pooling1d_1      │ (<span style=\"color: #00d7ff; text-decoration-color: #00d7ff\">None</span>, <span style=\"color: #00af00; text-decoration-color: #00af00\">128</span>)               │          <span style=\"color: #00af00; text-decoration-color: #00af00\">0</span> │\n│ (<span style=\"color: #0087ff; text-decoration-color: #0087ff\">GlobalAveragePooling1D</span>)        │                           │            │\n├─────────────────────────────────┼───────────────────────────┼────────────┤\n│ dense_24 (<span style=\"color: #0087ff; text-decoration-color: #0087ff\">Dense</span>)                │ (<span style=\"color: #00d7ff; text-decoration-color: #00d7ff\">None</span>, <span style=\"color: #00af00; text-decoration-color: #00af00\">1024</span>)              │    <span style=\"color: #00af00; text-decoration-color: #00af00\">132,096</span> │\n├─────────────────────────────────┼───────────────────────────┼────────────┤\n│ dense_25 (<span style=\"color: #0087ff; text-decoration-color: #0087ff\">Dense</span>)                │ (<span style=\"color: #00d7ff; text-decoration-color: #00d7ff\">None</span>, <span style=\"color: #00af00; text-decoration-color: #00af00\">512</span>)               │    <span style=\"color: #00af00; text-decoration-color: #00af00\">524,800</span> │\n├─────────────────────────────────┼───────────────────────────┼────────────┤\n│ dense_26 (<span style=\"color: #0087ff; text-decoration-color: #0087ff\">Dense</span>)                │ (<span style=\"color: #00d7ff; text-decoration-color: #00d7ff\">None</span>, <span style=\"color: #00af00; text-decoration-color: #00af00\">256</span>)               │    <span style=\"color: #00af00; text-decoration-color: #00af00\">131,328</span> │\n├─────────────────────────────────┼───────────────────────────┼────────────┤\n│ dense_27 (<span style=\"color: #0087ff; text-decoration-color: #0087ff\">Dense</span>)                │ (<span style=\"color: #00d7ff; text-decoration-color: #00d7ff\">None</span>, <span style=\"color: #00af00; text-decoration-color: #00af00\">33</span>)                │      <span style=\"color: #00af00; text-decoration-color: #00af00\">8,481</span> │\n└─────────────────────────────────┴───────────────────────────┴────────────┘\n</pre>\n"
     },
     "metadata": {},
     "output_type": "display_data"
    },
    {
     "data": {
      "text/plain": "\u001B[1m Total params: \u001B[0m\u001B[38;5;34m2,839,925\u001B[0m (10.84 MB)\n",
      "text/html": "<pre style=\"white-space:pre;overflow-x:auto;line-height:normal;font-family:Menlo,'DejaVu Sans Mono',consolas,'Courier New',monospace\"><span style=\"font-weight: bold\"> Total params: </span><span style=\"color: #00af00; text-decoration-color: #00af00\">2,839,925</span> (10.84 MB)\n</pre>\n"
     },
     "metadata": {},
     "output_type": "display_data"
    },
    {
     "data": {
      "text/plain": "\u001B[1m Trainable params: \u001B[0m\u001B[38;5;34m946,289\u001B[0m (3.61 MB)\n",
      "text/html": "<pre style=\"white-space:pre;overflow-x:auto;line-height:normal;font-family:Menlo,'DejaVu Sans Mono',consolas,'Courier New',monospace\"><span style=\"font-weight: bold\"> Trainable params: </span><span style=\"color: #00af00; text-decoration-color: #00af00\">946,289</span> (3.61 MB)\n</pre>\n"
     },
     "metadata": {},
     "output_type": "display_data"
    },
    {
     "data": {
      "text/plain": "\u001B[1m Non-trainable params: \u001B[0m\u001B[38;5;34m1,056\u001B[0m (8.25 KB)\n",
      "text/html": "<pre style=\"white-space:pre;overflow-x:auto;line-height:normal;font-family:Menlo,'DejaVu Sans Mono',consolas,'Courier New',monospace\"><span style=\"font-weight: bold\"> Non-trainable params: </span><span style=\"color: #00af00; text-decoration-color: #00af00\">1,056</span> (8.25 KB)\n</pre>\n"
     },
     "metadata": {},
     "output_type": "display_data"
    },
    {
     "data": {
      "text/plain": "\u001B[1m Optimizer params: \u001B[0m\u001B[38;5;34m1,892,580\u001B[0m (7.22 MB)\n",
      "text/html": "<pre style=\"white-space:pre;overflow-x:auto;line-height:normal;font-family:Menlo,'DejaVu Sans Mono',consolas,'Courier New',monospace\"><span style=\"font-weight: bold\"> Optimizer params: </span><span style=\"color: #00af00; text-decoration-color: #00af00\">1,892,580</span> (7.22 MB)\n</pre>\n"
     },
     "metadata": {},
     "output_type": "display_data"
    }
   ],
   "source": [
    "model = tf.keras.models.load_model('../models/swin.keras', custom_objects={\n",
    "    'PatchEmbedding':PatchEmbedding, \n",
    "    'PatchMerging':PatchMerging,\n",
    "    'SwinTransformer':SwinTransformer,\n",
    "    'WindowAttention':WindowAttention,        \n",
    "})\n",
    "model.summary()"
   ],
   "metadata": {
    "collapsed": false,
    "ExecuteTime": {
     "end_time": "2024-02-05T14:17:57.144550206Z",
     "start_time": "2024-02-05T14:17:55.425714574Z"
    }
   },
   "id": "e80dd5f3bcf47a64",
   "execution_count": 25
  },
  {
   "cell_type": "code",
   "outputs": [
    {
     "name": "stderr",
     "output_type": "stream",
     "text": [
      "[ WARN:0@39.544] global loadsave.cpp:248 findDecoder imread_('data/letterlist.jpg'): can't open/read file: check file path/integrity\n"
     ]
    },
    {
     "ename": "TypeError",
     "evalue": "'NoneType' object is not subscriptable",
     "output_type": "error",
     "traceback": [
      "\u001B[0;31m---------------------------------------------------------------------------\u001B[0m",
      "\u001B[0;31mTypeError\u001B[0m                                 Traceback (most recent call last)",
      "Cell \u001B[0;32mIn[26], line 7\u001B[0m\n\u001B[1;32m      4\u001B[0m input_shape \u001B[38;5;241m=\u001B[39m (\u001B[38;5;241m32\u001B[39m,\u001B[38;5;241m32\u001B[39m,\u001B[38;5;241m1\u001B[39m)\n\u001B[1;32m      6\u001B[0m let \u001B[38;5;241m=\u001B[39m cv2\u001B[38;5;241m.\u001B[39mimread(\u001B[38;5;124m'\u001B[39m\u001B[38;5;124mdata/letterlist.jpg\u001B[39m\u001B[38;5;124m'\u001B[39m, \u001B[38;5;241m0\u001B[39m)\n\u001B[0;32m----> 7\u001B[0m let \u001B[38;5;241m=\u001B[39m \u001B[43mlet\u001B[49m\u001B[43m[\u001B[49m\u001B[38;5;241;43m15\u001B[39;49m\u001B[43m:\u001B[49m\u001B[38;5;241;43m780\u001B[39;49m\u001B[43m,\u001B[49m\u001B[43m:\u001B[49m\u001B[43m]\u001B[49m\n\u001B[1;32m      8\u001B[0m num_letters \u001B[38;5;241m=\u001B[39m \u001B[38;5;241m33\u001B[39m\n\u001B[1;32m      9\u001B[0m num_fonts \u001B[38;5;241m=\u001B[39m \u001B[38;5;241m21\u001B[39m\n",
      "\u001B[0;31mTypeError\u001B[0m: 'NoneType' object is not subscriptable"
     ]
    }
   ],
   "source": [
    "import cv2\n",
    "import matplotlib.pyplot as plt\n",
    "\n",
    "input_shape = (32,32,1)\n",
    "\n",
    "let = cv2.imread('data/letterlist.jpg', 0)\n",
    "let = let[15:780,:]\n",
    "num_letters = 33\n",
    "num_fonts = 21\n",
    "\n",
    "def get_letter(font_num, letter_num):\n",
    "    letter = let[let.shape[0]//num_fonts*(font_num-1):let.shape[0]//num_fonts*font_num,\n",
    "           let.shape[1]//num_letters*(letter_num-1):let.shape[1]//num_letters*letter_num,\n",
    "           ]\n",
    "    return cv2.resize(letter, input_shape[:-1])\n",
    "\n",
    "def get_letter_variants(letter_num):\n",
    "        return let[:,\n",
    "           let.shape[1]//num_letters*(letter_num-1):let.shape[1]//num_letters*letter_num,\n",
    "           ]\n",
    "\n",
    "def get_font_variants(font_num):\n",
    "    return let[let.shape[0]//num_fonts*(font_num-1):let.shape[0]//num_fonts*font_num,\n",
    "           :,\n",
    "           ]\n",
    "test = get_letter(21,33)\n",
    "print(test.shape)\n",
    "plt.imshow(test, cmap='gray')"
   ],
   "metadata": {
    "collapsed": false,
    "ExecuteTime": {
     "end_time": "2024-02-05T14:17:57.317427936Z",
     "start_time": "2024-02-05T14:17:57.129060088Z"
    }
   },
   "id": "da332dc43ac9745",
   "execution_count": 26
  },
  {
   "cell_type": "code",
   "outputs": [],
   "source": [
    "from utils.augmenters import *\n",
    "\n",
    "images = []\n",
    "captions = []\n",
    "captions_base = \"Ё Й Ц У К Е Н Г Ш Щ З Х Ъ Ф Ы В А П Р О Л Д Ж Э Я Ч С М И Т Ь Б Ю\".split(' ')\n",
    "for i in range(1, num_fonts+1):\n",
    "    for j in range(1, num_letters+1):\n",
    "        images.append(get_letter(i,j))\n",
    "        captions.append(captions_base[j-1])\n",
    "\n",
    "aug = MultipleAugmenter(images.copy(), captions.copy())\n",
    "aug.random_augment(3, 65, 0)\n",
    "\n",
    "\n",
    "x_data = np.array(aug.images)\n",
    "x_data = x_data.reshape(*x_data.shape, 1)\n",
    "classes = list(map(captions_base.index, aug.captions))\n",
    "y_data = keras.utils.to_categorical(classes, num_classes=num_letters)\n"
   ],
   "metadata": {
    "collapsed": false,
    "ExecuteTime": {
     "start_time": "2024-02-05T14:17:57.315549657Z"
    }
   },
   "id": "f9b640fa4605b36e",
   "execution_count": null
  },
  {
   "cell_type": "code",
   "outputs": [],
   "source": [
    "from utils.funcs import patch_extract\n",
    "\n",
    "def augment(x):\n",
    "    return x\n",
    "\n",
    "batch_size = 32\n",
    "\n",
    "dataset = (\n",
    "    tf.data.Dataset.from_tensor_slices((x_data, y_data))\n",
    "    .map(lambda x, y: (augment(x), y))\n",
    "    .batch(batch_size=batch_size)\n",
    "    .map(lambda x, y: (patch_extract(x), y))\n",
    "    .prefetch(tf.data.experimental.AUTOTUNE)\n",
    ")"
   ],
   "metadata": {
    "collapsed": false,
    "ExecuteTime": {
     "end_time": "2024-02-05T14:17:57.361824449Z",
     "start_time": "2024-02-05T14:17:57.361096475Z"
    }
   },
   "id": "f3891e5584e7e279",
   "execution_count": null
  },
  {
   "cell_type": "code",
   "outputs": [],
   "source": [
    "model.load_weights('../models/swin.weights.h5')"
   ],
   "metadata": {
    "collapsed": false,
    "ExecuteTime": {
     "end_time": "2024-02-05T14:18:17.132926695Z",
     "start_time": "2024-02-05T14:18:17.055216926Z"
    }
   },
   "id": "b5303b25966ccd72",
   "execution_count": 27
  },
  {
   "cell_type": "code",
   "outputs": [],
   "source": [
    "model.evaluate(dataset)"
   ],
   "metadata": {
    "collapsed": false,
    "ExecuteTime": {
     "start_time": "2024-02-05T14:17:57.361447582Z"
    }
   },
   "id": "2a3e7e0d82d5a3e1",
   "execution_count": null
  },
  {
   "cell_type": "code",
   "outputs": [
    {
     "data": {
      "text/plain": "<matplotlib.image.AxesImage at 0x7f7bf03c3d90>"
     },
     "execution_count": 28,
     "metadata": {},
     "output_type": "execute_result"
    },
    {
     "data": {
      "text/plain": "<Figure size 640x480 with 1 Axes>",
      "image/png": "[encoded data removed]"
     },
     "metadata": {},
     "output_type": "display_data"
    }
   ],
   "source": [
    "data = []\n",
    "for i in range(1,97):\n",
    "    letter = cv2.imread(f'../test/letter{i}.jpg', 0)\n",
    "    data.append(cv2.resize(letter, input_shape[:-1]))\n",
    "plt.imshow(data[0], cmap='gray')"
   ],
   "metadata": {
    "collapsed": false,
    "ExecuteTime": {
     "end_time": "2024-02-05T14:18:19.521114213Z",
     "start_time": "2024-02-05T14:18:19.370522932Z"
    }
   },
   "id": "73e6aa967429a648",
   "execution_count": 28
  },
  {
   "cell_type": "code",
   "outputs": [
    {
     "data": {
      "text/plain": "(96, 32, 32, 1)"
     },
     "execution_count": 42,
     "metadata": {},
     "output_type": "execute_result"
    }
   ],
   "source": [
    "data = np.array(data)\n",
    "data = data[:,:,:, np.newaxis]\n",
    "data.shape"
   ],
   "metadata": {
    "collapsed": false,
    "ExecuteTime": {
     "end_time": "2024-02-05T14:27:14.049373912Z",
     "start_time": "2024-02-05T14:27:14.008645107Z"
    }
   },
   "id": "9702328e039d3a66",
   "execution_count": 42
  },
  {
   "cell_type": "code",
   "outputs": [
    {
     "ename": "TypeError",
     "evalue": "list indices must be integers or slices, not tuple",
     "output_type": "error",
     "traceback": [
      "\u001B[0;31m---------------------------------------------------------------------------\u001B[0m",
      "\u001B[0;31mTypeError\u001B[0m                                 Traceback (most recent call last)",
      "Cell \u001B[0;32mIn[41], line 3\u001B[0m\n\u001B[1;32m      1\u001B[0m \u001B[38;5;28;01mfrom\u001B[39;00m \u001B[38;5;21;01mutils\u001B[39;00m\u001B[38;5;21;01m.\u001B[39;00m\u001B[38;5;21;01mfuncs\u001B[39;00m \u001B[38;5;28;01mimport\u001B[39;00m patch_extract\n\u001B[0;32m----> 3\u001B[0m data \u001B[38;5;241m=\u001B[39m \u001B[43mdata\u001B[49m\u001B[43m[\u001B[49m\u001B[43m:\u001B[49m\u001B[43m,\u001B[49m\u001B[43m:\u001B[49m\u001B[43m,\u001B[49m\u001B[43m:\u001B[49m\u001B[43m,\u001B[49m\u001B[43m \u001B[49m\u001B[43mnp\u001B[49m\u001B[38;5;241;43m.\u001B[39;49m\u001B[43mnewaxis\u001B[49m\u001B[43m]\u001B[49m\n\u001B[1;32m      5\u001B[0m dataset \u001B[38;5;241m=\u001B[39m (\n\u001B[1;32m      6\u001B[0m     tf\u001B[38;5;241m.\u001B[39mdata\u001B[38;5;241m.\u001B[39mDataset\u001B[38;5;241m.\u001B[39mfrom_tensor_slices(data)\n\u001B[1;32m      7\u001B[0m     \u001B[38;5;241m.\u001B[39mbatch(batch_size\u001B[38;5;241m=\u001B[39m\u001B[38;5;241m32\u001B[39m)\n\u001B[1;32m      8\u001B[0m     \u001B[38;5;241m.\u001B[39mmap(\u001B[38;5;28;01mlambda\u001B[39;00m x: (patch_extract(x)))\n\u001B[1;32m      9\u001B[0m     \u001B[38;5;241m.\u001B[39mprefetch(tf\u001B[38;5;241m.\u001B[39mdata\u001B[38;5;241m.\u001B[39mexperimental\u001B[38;5;241m.\u001B[39mAUTOTUNE)\n\u001B[1;32m     10\u001B[0m )\n",
      "\u001B[0;31mTypeError\u001B[0m: list indices must be integers or slices, not tuple"
     ]
    }
   ],
   "source": [
    "from utils.funcs import patch_extract\n",
    "\n",
    "\n",
    "\n",
    "dataset = (\n",
    "    tf.data.Dataset.from_tensor_slices(data)\n",
    "    .batch(batch_size=32)\n",
    "    .map(lambda x: (patch_extract(x)))\n",
    "    .prefetch(tf.data.experimental.AUTOTUNE)\n",
    ")"
   ],
   "metadata": {
    "collapsed": false,
    "ExecuteTime": {
     "end_time": "2024-02-05T14:26:52.605382769Z",
     "start_time": "2024-02-05T14:26:52.562771690Z"
    }
   },
   "id": "35aeae1899a2d4b9",
   "execution_count": 41
  },
  {
   "cell_type": "code",
   "outputs": [
    {
     "data": {
      "text/plain": "<tf.Tensor: shape=(96, 256, 4), dtype=uint8, numpy=\narray([[[253, 252, 254, 253],\n        [253, 253, 253, 254],\n        [253, 253, 254, 254],\n        ...,\n        [207, 215, 244, 246],\n        [222, 229, 248, 249],\n        [236, 246, 249, 253]],\n\n       [[255, 255, 255, 255],\n        [255, 253, 254, 252],\n        [251, 248, 248, 243],\n        ...,\n        [225, 240, 238, 247],\n        [252, 255, 253, 255],\n        [255, 254, 255, 254]],\n\n       [[255, 236, 253, 225],\n        [225, 221, 208, 198],\n        [219, 217, 192, 189],\n        ...,\n        [231, 222, 240, 234],\n        [218, 224, 230, 234],\n        [239, 255, 244, 255]],\n\n       ...,\n\n       [[255, 254, 255, 254],\n        [255, 254, 255, 255],\n        [254, 255, 255, 255],\n        ...,\n        [255, 255, 255, 255],\n        [255, 255, 255, 255],\n        [255, 255, 255, 255]],\n\n       [[255, 255, 255, 255],\n        [255, 255, 255, 255],\n        [255, 255, 255, 255],\n        ...,\n        [254, 255, 255, 255],\n        [255, 255, 255, 255],\n        [255, 255, 255, 255]],\n\n       [[255, 255, 255, 255],\n        [255, 255, 255, 255],\n        [255, 255, 255, 255],\n        ...,\n        [255, 255, 254, 254],\n        [255, 255, 255, 255],\n        [255, 255, 255, 255]]], dtype=uint8)>"
     },
     "execution_count": 43,
     "metadata": {},
     "output_type": "execute_result"
    }
   ],
   "source": [
    "patch_extract(data)"
   ],
   "metadata": {
    "collapsed": false,
    "ExecuteTime": {
     "end_time": "2024-02-05T14:27:18.365709470Z",
     "start_time": "2024-02-05T14:27:18.351854185Z"
    }
   },
   "id": "30c666631e6374d6",
   "execution_count": 43
  },
  {
   "cell_type": "code",
   "outputs": [
    {
     "name": "stdout",
     "output_type": "stream",
     "text": [
      "\u001B[1m3/3\u001B[0m \u001B[32m━━━━━━━━━━━━━━━━━━━━\u001B[0m\u001B[37m\u001B[0m \u001B[1m0s\u001B[0m 2ms/step \n"
     ]
    }
   ],
   "source": [
    "pred = model.predict(patch_extract(data)).argmax(axis=0)"
   ],
   "metadata": {
    "collapsed": false,
    "ExecuteTime": {
     "end_time": "2024-02-05T14:28:35.150694761Z",
     "start_time": "2024-02-05T14:28:35.102698555Z"
    }
   },
   "id": "fc0ad301236949ca",
   "execution_count": 47
  },
  {
   "cell_type": "code",
   "outputs": [
    {
     "data": {
      "text/plain": "array([28, 28,  0, 28, 28, 28, 28, 28, 28,  0, 28, 28, 28, 28,  0,  8, 28,\n       28, 28, 28, 28, 28, 28, 28,  0, 28, 28, 28, 28, 28, 75, 28, 26])"
     },
     "execution_count": 49,
     "metadata": {},
     "output_type": "execute_result"
    }
   ],
   "source": [
    "pred"
   ],
   "metadata": {
    "collapsed": false,
    "ExecuteTime": {
     "end_time": "2024-02-05T14:28:42.614930933Z",
     "start_time": "2024-02-05T14:28:42.610457164Z"
    }
   },
   "id": "29b05b42930ad2eb",
   "execution_count": 49
  },
  {
   "cell_type": "code",
   "outputs": [],
   "source": [],
   "metadata": {
    "collapsed": false
   },
   "id": "1f8ec2e986346a6e"
  }
 ],
 "metadata": {
  "kernelspec": {
   "display_name": "Python 3",
   "language": "python",
   "name": "python3"
  },
  "language_info": {
   "codemirror_mode": {
    "name": "ipython",
    "version": 2
   },
   "file_extension": ".py",
   "mimetype": "text/x-python",
   "name": "python",
   "nbconvert_exporter": "python",
   "pygments_lexer": "ipython2",
   "version": "2.7.6"
  }
 },
 "nbformat": 4,
 "nbformat_minor": 5
}
