{
 "cells": [
  {
   "cell_type": "code",
   "execution_count": 1,
   "id": "initial_id",
   "metadata": {
    "collapsed": true,
    "ExecuteTime": {
     "end_time": "2024-01-31T14:22:07.327618510Z",
     "start_time": "2024-01-31T14:22:03.324922133Z"
    }
   },
   "outputs": [
    {
     "name": "stderr",
     "output_type": "stream",
     "text": [
      "/tmp/ipykernel_47831/738579589.py:5: DeprecationWarning: \n",
      "Pyarrow will become a required dependency of pandas in the next major release of pandas (pandas 3.0),\n",
      "(to allow more performant data types, such as the Arrow string type, and better interoperability with other libraries)\n",
      "but was not found to be installed on your system.\n",
      "If this would cause problems for you,\n",
      "please provide us feedback at https://github.com/pandas-dev/pandas/issues/54466\n",
      "        \n",
      "  import pandas as pd\n",
      "2024-01-31 17:22:04.875634: E external/local_xla/xla/stream_executor/cuda/cuda_dnn.cc:9261] Unable to register cuDNN factory: Attempting to register factory for plugin cuDNN when one has already been registered\n",
      "2024-01-31 17:22:04.875692: E external/local_xla/xla/stream_executor/cuda/cuda_fft.cc:607] Unable to register cuFFT factory: Attempting to register factory for plugin cuFFT when one has already been registered\n",
      "2024-01-31 17:22:04.877297: E external/local_xla/xla/stream_executor/cuda/cuda_blas.cc:1515] Unable to register cuBLAS factory: Attempting to register factory for plugin cuBLAS when one has already been registered\n",
      "2024-01-31 17:22:04.886490: I tensorflow/core/platform/cpu_feature_guard.cc:182] This TensorFlow binary is optimized to use available CPU instructions in performance-critical operations.\n",
      "To enable the following instructions: AVX2 FMA, in other operations, rebuild TensorFlow with the appropriate compiler flags.\n",
      "2024-01-31 17:22:06.243102: W tensorflow/compiler/tf2tensorrt/utils/py_utils.cc:38] TF-TRT Warning: Could not find TensorRT\n"
     ]
    },
    {
     "name": "stdout",
     "output_type": "stream",
     "text": [
      "[PhysicalDevice(name='/physical_device:GPU:0', device_type='GPU')]\n"
     ]
    },
    {
     "name": "stderr",
     "output_type": "stream",
     "text": [
      "2024-01-31 17:22:07.243328: I external/local_xla/xla/stream_executor/cuda/cuda_executor.cc:901] successful NUMA node read from SysFS had negative value (-1), but there must be at least one NUMA node, so returning NUMA node zero. See more at https://github.com/torvalds/linux/blob/v6.0/Documentation/ABI/testing/sysfs-bus-pci#L344-L355\n",
      "2024-01-31 17:22:07.310061: I external/local_xla/xla/stream_executor/cuda/cuda_executor.cc:901] successful NUMA node read from SysFS had negative value (-1), but there must be at least one NUMA node, so returning NUMA node zero. See more at https://github.com/torvalds/linux/blob/v6.0/Documentation/ABI/testing/sysfs-bus-pci#L344-L355\n",
      "2024-01-31 17:22:07.314646: I external/local_xla/xla/stream_executor/cuda/cuda_executor.cc:901] successful NUMA node read from SysFS had negative value (-1), but there must be at least one NUMA node, so returning NUMA node zero. See more at https://github.com/torvalds/linux/blob/v6.0/Documentation/ABI/testing/sysfs-bus-pci#L344-L355\n"
     ]
    }
   ],
   "source": [
    "import random\n",
    "import imutils\n",
    "\n",
    "import numpy as np\n",
    "import pandas as pd\n",
    "import matplotlib.pyplot as plt\n",
    "\n",
    "\n",
    "import tensorflow as tf\n",
    "import keras\n",
    "print(tf.config.list_physical_devices('GPU'))\n",
    "\n",
    "import cv2"
   ]
  },
  {
   "cell_type": "code",
   "outputs": [
    {
     "name": "stdout",
     "output_type": "stream",
     "text": [
      "(32, 32)\n"
     ]
    },
    {
     "data": {
      "text/plain": "<matplotlib.image.AxesImage at 0x7ff97f017650>"
     },
     "execution_count": 2,
     "metadata": {},
     "output_type": "execute_result"
    },
    {
     "data": {
      "text/plain": "<Figure size 640x480 with 1 Axes>",
      "image/png": "[encoded data removed]"
     },
     "metadata": {},
     "output_type": "display_data"
    }
   ],
   "source": [
    "let = cv2.imread('data/letterlist.jpg', 0)\n",
    "let = let[15:780,:]\n",
    "num_letters = 33\n",
    "num_fonts = 21\n",
    "num_classes = 33\n",
    "input_shape = (32,32,1)\n",
    "\n",
    "def get_letter(font_num, letter_num):\n",
    "    letter = let[let.shape[0]//num_fonts*(font_num-1):let.shape[0]//num_fonts*font_num,\n",
    "           let.shape[1]//num_letters*(letter_num-1):let.shape[1]//num_letters*letter_num,\n",
    "           ]\n",
    "    return cv2.resize(letter, input_shape[:-1])\n",
    "\n",
    "def get_letter_variants(letter_num):\n",
    "        return let[:,\n",
    "           let.shape[1]//num_letters*(letter_num-1):let.shape[1]//num_letters*letter_num,\n",
    "           ]\n",
    "\n",
    "def get_font_variants(font_num):\n",
    "    return let[let.shape[0]//num_fonts*(font_num-1):let.shape[0]//num_fonts*font_num,\n",
    "           :,\n",
    "           ]\n",
    "test = get_letter(21,33)\n",
    "print(test.shape)\n",
    "plt.imshow(test, cmap='gray')"
   ],
   "metadata": {
    "collapsed": false,
    "ExecuteTime": {
     "end_time": "2024-01-31T14:22:07.613574477Z",
     "start_time": "2024-01-31T14:22:07.331609213Z"
    }
   },
   "id": "be6fc5bb70f43afa",
   "execution_count": 2
  },
  {
   "cell_type": "code",
   "outputs": [],
   "source": [
    "class BaseAugmenter():\n",
    "    def __init__(self, chanse=0.5):\n",
    "        self.chance = chanse\n",
    "        \n",
    "    def __call__(self, img, *args, **kwargs):\n",
    "        augmented = False\n",
    "        if random.random()<= self.chance:\n",
    "            try:\n",
    "                img = self._apply(img, *args, **kwargs)\n",
    "                augmented = True\n",
    "            except Exception as e:\n",
    "                print(e)\n",
    "            \n",
    "        return img, augmented\n",
    "    \n",
    "    def _apply(self, img, *args, **kwargs):\n",
    "        return img\n",
    "    \n",
    "class NoiseAugmenter(BaseAugmenter):\n",
    "    def _apply(self, letter, max=30):\n",
    "        noise = np.random.normal(size=(letter.shape))*max\n",
    "        return letter+noise\n",
    "    \n",
    "class FlipAugmenter(BaseAugmenter):\n",
    "\n",
    "    def _apply(self, letter, mode='horizontal'):\n",
    "        if mode == 'horizontal':\n",
    "            return np.flip(letter, axis=0)\n",
    "        elif mode == 'vertical':\n",
    "            return np.flip(letter, axis=1)\n",
    "        elif mode == 'random':\n",
    "            axis = random.random() < 0.5\n",
    "            return np.flip(letter, axis=int(axis))\n",
    "        \n",
    "class RotationAugmenter(BaseAugmenter):\n",
    "    \n",
    "    def _apply(self, letter, angle=60):\n",
    "        image = np.zeros_like(letter) + 255 - letter\n",
    "        rotated = imutils.rotate_bound(image, angle)\n",
    "        rotated = np.zeros_like(rotated) + 255 - rotated\n",
    "        rotated = cv2.resize(rotated, (letter.shape[1], letter.shape[0]))\n",
    "        return rotated\n",
    "    \n",
    "class BlurAugmenter(BaseAugmenter):\n",
    "    \n",
    "    def _apply(self, letter, kernel_size=3):\n",
    "        return cv2.medianBlur(letter, kernel_size)\n",
    "\n",
    "class MultipleAugmenter():\n",
    "    NOISE_CHANCE = 0.1\n",
    "    NOISE_HARDNESS = 20\n",
    "    \n",
    "    FLIP_CHANCE = 0.3\n",
    "    \n",
    "    ROTATE_CHANCE = 0.15\n",
    "    \n",
    "    BLUR_CHANCE = 0.1\n",
    "    BLUR_HARD_CHANCE = 0.05\n",
    "    \n",
    "    images = []\n",
    "    captions = []\n",
    "    \n",
    "    def __init__(self, images, captions):\n",
    "        self.images_orig = images\n",
    "        self.captions_orig = captions\n",
    "        self.augmenters = [\n",
    "            FlipAugmenter(self.FLIP_CHANCE),\n",
    "            RotationAugmenter(self.ROTATE_CHANCE),\n",
    "            BlurAugmenter(self.BLUR_CHANCE),\n",
    "            BlurAugmenter(self.BLUR_HARD_CHANCE),\n",
    "            \n",
    "        ]\n",
    "        self.noise = (NoiseAugmenter(self.NOISE_CHANCE), self.NOISE_HARDNESS)\n",
    "        \n",
    "        self.augment_args = [\n",
    "            ['random'],\n",
    "            [],\n",
    "            [3],\n",
    "            [5],\n",
    "\n",
    "        ]    \n",
    "    \n",
    "    def random_augment(self, rounds = 1, seed = 42, save_last=False):\n",
    "        random.seed(seed)\n",
    "        \n",
    "        images = self.images_orig\n",
    "        captions = self.captions_orig\n",
    "        \n",
    "        for _ in range(rounds):\n",
    "            print(len(images))\n",
    "            num_images = len(images)\n",
    "            for n in range(num_images):\n",
    "                image = images[n]\n",
    "                caption = captions[n]\n",
    "                \n",
    "                for n, aug in enumerate(self.augmenters):\n",
    "                    aug_args = self.augment_args[n]\n",
    "                    if not aug_args:\n",
    "                        aug_args = [random.randint(-15,15)]\n",
    "                    image, augmented = aug(image, *aug_args)\n",
    "                    if augmented:\n",
    "                        images.append(image)\n",
    "                        captions.append(caption)\n",
    "                    \n",
    "            if save_last:\n",
    "                images = images[num_images:]\n",
    "                captions = captions[num_images:]\n",
    "        \n",
    "\n",
    "                \n",
    "        self.images = images\n",
    "        self.captions = captions        \n",
    "        self._apply_noise()\n",
    "        self._normalize()\n",
    "        \n",
    "    def _apply_noise(self):\n",
    "        for n, im in enumerate(self.images):\n",
    "            noise_augmenter, hardeness = self.noise\n",
    "            image, augmented = noise_augmenter(im, hardeness)\n",
    "            if augmented:\n",
    "                self.images[n] = image        \n",
    "        \n",
    "    def _normalize(self):\n",
    "        for n, im in enumerate(self.images):\n",
    "            im = np.array(im)\n",
    "            self.images[n] = im/im.max()"
   ],
   "metadata": {
    "collapsed": false,
    "ExecuteTime": {
     "end_time": "2024-01-31T14:22:07.697328872Z",
     "start_time": "2024-01-31T14:22:07.632759226Z"
    }
   },
   "id": "a59df214926b59a2",
   "execution_count": 3
  },
  {
   "cell_type": "code",
   "outputs": [
    {
     "name": "stdout",
     "output_type": "stream",
     "text": [
      "693\n",
      "1097\n",
      "1739\n",
      "2757\n",
      "4431\n",
      "7060\n",
      "11378\n",
      "18183\n",
      "28848\n",
      "46204\n"
     ]
    }
   ],
   "source": [
    "images = []\n",
    "captions = []\n",
    "captions_base = \"Ё Й Ц У К Е Н Г Ш Щ З Х Ъ Ф Ы В А П Р О Л Д Ж Э Я Ч С М И Т Ь Б Ю\".split(' ')\n",
    "for i in range(1, num_fonts+1):\n",
    "    for j in range(1, num_letters+1):\n",
    "        images.append(get_letter(i,j))\n",
    "        captions.append(captions_base[j-1])\n",
    "\n",
    "aug = MultipleAugmenter(images.copy(), captions.copy())\n",
    "aug.random_augment(10, 3)"
   ],
   "metadata": {
    "collapsed": false,
    "ExecuteTime": {
     "end_time": "2024-01-31T14:22:13.855697440Z",
     "start_time": "2024-01-31T14:22:07.675753425Z"
    }
   },
   "id": "772d651b276f858a",
   "execution_count": 4
  },
  {
   "cell_type": "code",
   "outputs": [],
   "source": [
    "x_data = np.array(aug.images)\n",
    "x_data = x_data.reshape(*x_data.shape, 1)\n",
    "classes = list(map(captions_base.index, aug.captions))\n",
    "y_data = keras.utils.to_categorical(classes, num_classes=num_letters)"
   ],
   "metadata": {
    "collapsed": false,
    "ExecuteTime": {
     "end_time": "2024-01-31T14:22:14.222926132Z",
     "start_time": "2024-01-31T14:22:13.868087447Z"
    }
   },
   "id": "8099e3b7ddcb0765",
   "execution_count": 5
  },
  {
   "cell_type": "code",
   "outputs": [],
   "source": [
    "inputs = keras.layers.Input(shape=(*np.array(aug.images).shape[1:],1), name='inputs')\n",
    "conv = keras.layers.Conv2D(filters=128, kernel_size=(3,3), activation='relu', padding='same')(inputs)\n",
    "conv = keras.layers.MaxPool2D()(conv)\n",
    "conv = keras.layers.Conv2D(filters=256, kernel_size=(3,3), activation='relu', padding='same')(conv)\n",
    "conv = keras.layers.MaxPool2D()(conv)\n",
    "conv = keras.layers.Conv2D(filters=512, kernel_size=(3,3), activation='relu', padding='same')(conv)\n",
    "conv = keras.layers.MaxPool2D()(conv)\n",
    "\n",
    "dense = keras.layers.Flatten()(conv)\n",
    "dense = keras.layers.Dense(1024, activation='relu')(dense)\n",
    "dense = keras.layers.Dense(512, activation='relu')(dense)\n",
    "dense = keras.layers.Dense(256, activation='relu')(dense)\n",
    "dense = keras.layers.Dense(num_letters, activation='softmax')(dense)\n",
    "\n",
    "model = keras.models.Model(inputs=inputs, outputs=dense)\n",
    "model.summary()"
   ],
   "metadata": {
    "collapsed": false,
    "is_executing": true,
    "ExecuteTime": {
     "start_time": "2024-01-31T14:22:14.246627948Z"
    }
   },
   "id": "5c8e71f882cf4296",
   "execution_count": null
  },
  {
   "cell_type": "code",
   "outputs": [],
   "source": [],
   "metadata": {
    "collapsed": false,
    "is_executing": true
   },
   "id": "11d3c30121f731c5"
  }
 ],
 "metadata": {
  "kernelspec": {
   "display_name": "Python 3",
   "language": "python",
   "name": "python3"
  },
  "language_info": {
   "codemirror_mode": {
    "name": "ipython",
    "version": 2
   },
   "file_extension": ".py",
   "mimetype": "text/x-python",
   "name": "python",
   "nbconvert_exporter": "python",
   "pygments_lexer": "ipython2",
   "version": "2.7.6"
  }
 },
 "nbformat": 4,
 "nbformat_minor": 5
}
